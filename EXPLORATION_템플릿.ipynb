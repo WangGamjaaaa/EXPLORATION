{
 "cells": [
  {
   "cell_type": "markdown",
   "id": "77b10410",
   "metadata": {},
   "source": [
    "# 목차\n",
    "<hr/>"
   ]
  },
  {
   "cell_type": "markdown",
   "id": "20460ebe",
   "metadata": {},
   "source": [
    "<ol>\n",
    "    <li style = \"margin-bottom:30px; list-style: none;\"><i style = \"font-weight:bold;font-style: normal;\">필요한 모듈 불러오기</i>\n",
    "    <li style = \"margin-bottom:30px; list-style: none;\"><i style = \"font-weight:bold;font-style: normal;\">Step1</i>\n",
    "        <ol style = \"padding-top:10px; list-style:decimal;\">\n",
    "            <li style = \"margin-bottom:3px;\">데이터 준비</li>\n",
    "            <li style = \"margin-bottom:3px;\">데이터 이해</li>\n",
    "            <li style = \"margin-bottom:3px;\">train, test 데이터 분리</li>\n",
    "            <li style = \"margin-bottom:3px;\">가설</li>\n",
    "            <li style = \"margin-bottom:3px;\">입증</li>\n",
    "            <li style = \"margin-bottom:3px;\">구현</li>\n",
    "            <li style = \"margin-bottom:3px;\">테스트</li>\n",
    "            <li style = \"margin-bottom:3px;\">결론</li>\n",
    "        </ol>\n",
    "    </li>\n",
    "    <li style = \"margin-bottom:30px; list-style: none;\"><i style = \"font-weight:bold;font-style: normal;\">Step1</i>\n",
    "        <ol style = \"padding-top:10px; list-style:decimal;\">\n",
    "            <li style = \"margin-bottom:3px;\">데이터 준비</li>\n",
    "            <li style = \"margin-bottom:3px;\">데이터 이해</li>\n",
    "            <li style = \"margin-bottom:3px;\">train, test 데이터 분리</li>\n",
    "            <li style = \"margin-bottom:3px;\">가설</li>\n",
    "            <li style = \"margin-bottom:3px;\">입증</li>\n",
    "            <li style = \"margin-bottom:3px;\">구현</li>\n",
    "            <li style = \"margin-bottom:3px;\">테스트</li>\n",
    "            <li style = \"margin-bottom:3px;\">결론</li>\n",
    "        </ol>\n",
    "    </li>\n",
    "    <li style = \"margin-bottom:30px; list-style: none;\"><i style = \"font-weight:bold;font-style: normal;\">회고</i>\n",
    "</ol>"
   ]
  },
  {
   "cell_type": "markdown",
   "id": "df47d60c",
   "metadata": {},
   "source": [
    "<div style = \"height: 50px;\"><div/>"
   ]
  },
  {
   "cell_type": "markdown",
   "id": "73623ce1",
   "metadata": {},
   "source": [
    "# 필요한 모듈 불러오기"
   ]
  },
  {
   "cell_type": "code",
   "execution_count": 2,
   "id": "577f17b4",
   "metadata": {},
   "outputs": [],
   "source": [
    "# 필요한 모듈 불러오기\n",
    "\n",
    "from IPython.display         import display, Image\n",
    "from matplotlib              import pyplot as plt\n",
    "from sklearn.model_selection import train_test_split\n",
    "from sklearn.linear_model    import Lin`earRegression\n",
    "from sklearn.metrics         import mean_squared_error\n",
    "\n",
    "import numpy   as np\n",
    "import pandas  as pd\n",
    "import seaborn as sns"
   ]
  },
  {
   "cell_type": "markdown",
   "id": "3df08efe",
   "metadata": {},
   "source": [
    "<div style = \"height: 50px;\"><div/>"
   ]
  },
  {
   "cell_type": "markdown",
   "id": "c361f90f",
   "metadata": {},
   "source": [
    "# Step1"
   ]
  },
  {
   "cell_type": "markdown",
   "id": "71d825e8",
   "metadata": {},
   "source": [
    "## (1) 중간제목\n",
    "<hr/>"
   ]
  },
  {
   "cell_type": "markdown",
   "id": "37cb5cc4",
   "metadata": {},
   "source": [
    "### 소제목"
   ]
  },
  {
   "cell_type": "markdown",
   "id": "c6b5ca99",
   "metadata": {},
   "source": [
    "<div style = \"height: 50px;\"><div/>"
   ]
  },
  {
   "cell_type": "markdown",
   "id": "cc1efa34",
   "metadata": {},
   "source": [
    "## 회고\n",
    "<hr/>"
   ]
  }
 ],
 "metadata": {
  "kernelspec": {
   "display_name": "Python 3 (ipykernel)",
   "language": "python",
   "name": "python3"
  },
  "language_info": {
   "codemirror_mode": {
    "name": "ipython",
    "version": 3
   },
   "file_extension": ".py",
   "mimetype": "text/x-python",
   "name": "python",
   "nbconvert_exporter": "python",
   "pygments_lexer": "ipython3",
   "version": "3.9.7"
  }
 },
 "nbformat": 4,
 "nbformat_minor": 5
}
