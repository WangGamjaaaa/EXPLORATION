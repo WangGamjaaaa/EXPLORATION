{
 "cells": [
  {
   "cell_type": "markdown",
   "id": "909587f7",
   "metadata": {},
   "source": [
    "# 목차\n",
    "<hr/>"
   ]
  },
  {
   "cell_type": "markdown",
   "id": "43f74bb0",
   "metadata": {},
   "source": [
    "> <ol>\n",
    "    <li style = \"margin-bottom:30px; list-style: none;\"><i style = \"font-weight:bold;font-style: normal;\">필요한 모듈 불러오기</i>\n",
    "    <li style = \"margin-bottom:30px; list-style: none;\"><i style = \"font-weight:bold;font-style: normal;\"><span style = \"font-weight:bold;color:#0172d4;\">PROJECT 1</span> : 손수 설계하는 선형회귀, 당뇨병 수치를 맞춰보자!</i>\n",
    "        <ul style = \"list-style:none;\">\n",
    "            <li style = \"margin-bottom:5px;\"><span style = \"font-weight:bold;color:#0172d4;\">1. </span> 데이터 준비하기</li>\n",
    "            <li style = \"margin-bottom:5px;\"><span style = \"font-weight:bold;color:#0172d4;\">2. </span> 모델에 입력할 데이터 X 준비하기</li>\n",
    "            <li style = \"margin-bottom:5px;\"><span style = \"font-weight:bold;color:#0172d4;\">3. </span> 모델에 예측할 데이터 y 준비하기</li>\n",
    "            <li style = \"margin-bottom:5px;\"><span style = \"font-weight:bold;color:#0172d4;\">4. </span> train 데이터와 test 데이터로 분리하기</li>\n",
    "            <li style = \"margin-bottom:5px;\"><span style = \"font-weight:bold;color:#0172d4;\">5. </span> 모델 준비하기</li>\n",
    "            <li style = \"margin-bottom:5px;\"><span style = \"font-weight:bold;color:#0172d4;\">6. </span> 손실함수 loss 정의하기</li>\n",
    "            <li style = \"margin-bottom:5px;\"><span style = \"font-weight:bold;color:#0172d4;\">7. </span> 기울기를 구하는 gradient 함수 구현하기</li>\n",
    "            <li style = \"margin-bottom:5px;\"><span style = \"font-weight:bold;color:#0172d4;\">8. </span> 하이퍼 파라미터인 학습률 설정하기</li>\n",
    "            <li style = \"margin-bottom:5px;\"><span style = \"font-weight:bold;color:#0172d4;\">9. </span> 모델 학습하기</li>\n",
    "            <li style = \"margin-bottom:5px;\"><span style = \"font-weight:bold;color:#0172d4;\">10. </span> test 데이터에 대한 성능 확인하기</li>\n",
    "            <li style = \"margin-bottom:5px;\"><span style = \"font-weight:bold;color:#0172d4;\">11. </span> 정답 데이터와 예측한 데이터 시각화하기</li>\n",
    "            <li style = \"margin-bottom:5px; list-style: none;\"><span style = \"font-weight:bold;color:#0172d4;\">12. </span> 회고</li>\n",
    "        </ul>\n",
    "    </li>\n",
    "    <li style = \"margin-bottom:30px; list-style: none;\"><i style = \"font-weight:bold;font-style: normal;\"><span style = \"font-weight:bold;color:#0172d4;\">PROJECT 2</span> : 날씨 좋은 월요일 오후 세 시, 자전거 타는 사람은 몇 명?</i>\n",
    "        <ul style = \"list-style:none;\">\n",
    "            <li style = \"margin-bottom:5px;\"><span style = \"font-weight:bold;color:#0172d4;\">1. </span> 데이터 가져오기</li>\n",
    "            <li style = \"margin-bottom:5px;\"><span style = \"font-weight:bold;color:#0172d4;\">2. </span> datetime 컬럼을 datetime 자료형으로 변환하고 연, 월, 일, 시, 분, 초까지 6가지 컬럼 생성하기</li>\n",
    "            <li style = \"margin-bottom:5px;\"><span style = \"font-weight:bold;color:#0172d4;\">3. </span> year, month, day, hour, minute, second 데이터 개수 시각화하기</li>\n",
    "            <li style = \"margin-bottom:5px;\"><span style = \"font-weight:bold;color:#0172d4;\">4. </span> X, y 컬럼 선택 및 train/test 데이터 분리</li>\n",
    "            <li style = \"margin-bottom:5px;\"><span style = \"font-weight:bold;color:#0172d4;\">5. </span> LinearRegression 모델 학습</li>\n",
    "            <li style = \"margin-bottom:5px;\"><span style = \"font-weight:bold;color:#0172d4;\">6. </span> 학습된 모델로 X_test에 대한 예측값 출력 및 손실함수값 계산</li>\n",
    "            <li style = \"margin-bottom:5px; list-style: none;\"><span style = \"font-weight:bold;color:#0172d4;\">7. </span> x축은 temp 또는 humidity로, y축은 count로 예측 결과 시각화하기</li>\n",
    "            <li style = \"margin-bottom:5px; list-style: none;\"><span style = \"font-weight:bold;color:#0172d4;\">8. </span> 회고</li>\n",
    "        </ul>\n",
    "    </li>\n",
    "</ol>"
   ]
  },
  {
   "cell_type": "markdown",
   "id": "117db759",
   "metadata": {},
   "source": [
    "<div style = \"height: 50px;\"></div>"
   ]
  },
  {
   "cell_type": "markdown",
   "id": "a40315a2",
   "metadata": {},
   "source": [
    "# 필요한 모듈 불러오기"
   ]
  },
  {
   "cell_type": "code",
   "execution_count": 1,
   "id": "5f1aab8f",
   "metadata": {},
   "outputs": [],
   "source": [
    "# 필요한 모듈 불러오기\n",
    "\n",
    "from IPython.display         import display, Image\n",
    "from math                    import sqrt\n",
    "from matplotlib              import pyplot as plt\n",
    "\n",
    "from sklearn.datasets        import load_diabetes \n",
    "from sklearn.linear_model    import LinearRegression\n",
    "from sklearn.model_selection import train_test_split\n",
    "from sklearn.metrics         import mean_squared_error\n",
    "from sklearn.preprocessing   import StandardScaler\n",
    "\n",
    "import numpy   as np\n",
    "import pandas  as pd\n",
    "import seaborn as sns"
   ]
  },
  {
   "cell_type": "markdown",
   "id": "78c3f5dd",
   "metadata": {},
   "source": [
    "<div style = \"height: 50px;\"></div>"
   ]
  },
  {
   "cell_type": "markdown",
   "id": "cc3a03dc",
   "metadata": {},
   "source": [
    "# <span style = \"font-weight:bold;color:#0172d4;\">PROJECT 1</span> : 손수 설계하는 선형회귀, 당뇨병 수치를 맞춰보자!"
   ]
  },
  {
   "cell_type": "markdown",
   "id": "1745b3c1",
   "metadata": {},
   "source": [
    "## 1. 데이터 준비하기\n",
    "<hr/>"
   ]
  },
  {
   "cell_type": "markdown",
   "id": "a7163a37",
   "metadata": {},
   "source": [
    "### 데이터 load하기"
   ]
  },
  {
   "cell_type": "code",
   "execution_count": 2,
   "id": "5fa5bb91",
   "metadata": {},
   "outputs": [],
   "source": [
    "diabetes = load_diabetes()"
   ]
  },
  {
   "cell_type": "markdown",
   "id": "db06954b",
   "metadata": {},
   "source": [
    "<div style = \"height: 25px;\"></div>"
   ]
  },
  {
   "cell_type": "markdown",
   "id": "20fe75a2",
   "metadata": {},
   "source": [
    "### data, target 지정하기"
   ]
  },
  {
   "cell_type": "code",
   "execution_count": 3,
   "id": "7b732317",
   "metadata": {},
   "outputs": [],
   "source": [
    "df_X = diabetes.data"
   ]
  },
  {
   "cell_type": "code",
   "execution_count": 4,
   "id": "954edba4",
   "metadata": {},
   "outputs": [],
   "source": [
    "df_y = diabetes.target"
   ]
  },
  {
   "cell_type": "markdown",
   "id": "f2606231",
   "metadata": {},
   "source": [
    "<div style = \"height: 25px;\"></div>"
   ]
  },
  {
   "cell_type": "markdown",
   "id": "9b33bfaa",
   "metadata": {},
   "source": [
    "### 데이터 이해하기"
   ]
  },
  {
   "cell_type": "code",
   "execution_count": 5,
   "id": "e5a525ce",
   "metadata": {},
   "outputs": [
    {
     "name": "stdout",
     "output_type": "stream",
     "text": [
      ".. _diabetes_dataset:\n",
      "\n",
      "Diabetes dataset\n",
      "----------------\n",
      "\n",
      "Ten baseline variables, age, sex, body mass index, average blood\n",
      "pressure, and six blood serum measurements were obtained for each of n =\n",
      "442 diabetes patients, as well as the response of interest, a\n",
      "quantitative measure of disease progression one year after baseline.\n",
      "\n",
      "**Data Set Characteristics:**\n",
      "\n",
      "  :Number of Instances: 442\n",
      "\n",
      "  :Number of Attributes: First 10 columns are numeric predictive values\n",
      "\n",
      "  :Target: Column 11 is a quantitative measure of disease progression one year after baseline\n",
      "\n",
      "  :Attribute Information:\n",
      "      - age     age in years\n",
      "      - sex\n",
      "      - bmi     body mass index\n",
      "      - bp      average blood pressure\n",
      "      - s1      tc, total serum cholesterol\n",
      "      - s2      ldl, low-density lipoproteins\n",
      "      - s3      hdl, high-density lipoproteins\n",
      "      - s4      tch, total cholesterol / HDL\n",
      "      - s5      ltg, possibly log of serum triglycerides level\n",
      "      - s6      glu, blood sugar level\n",
      "\n",
      "Note: Each of these 10 feature variables have been mean centered and scaled by the standard deviation times `n_samples` (i.e. the sum of squares of each column totals 1).\n",
      "\n",
      "Source URL:\n",
      "https://www4.stat.ncsu.edu/~boos/var.select/diabetes.html\n",
      "\n",
      "For more information see:\n",
      "Bradley Efron, Trevor Hastie, Iain Johnstone and Robert Tibshirani (2004) \"Least Angle Regression,\" Annals of Statistics (with discussion), 407-499.\n",
      "(https://web.stanford.edu/~hastie/Papers/LARS/LeastAngle_2002.pdf)\n"
     ]
    }
   ],
   "source": [
    "print(diabetes.DESCR)"
   ]
  },
  {
   "cell_type": "markdown",
   "id": "f915632a",
   "metadata": {},
   "source": [
    "### diabetes 데이터란?\n",
    "<p style= \"font-size:15px; line-height:24px;\">나이(age), 성별(sex), 체질량 지수(bmi), 평균 혈압(bp), 그리고 6개의 혈청 측정치(s1 ~ s6) 총 10개의 기준으로<br/>\n",
    "442명의 당뇨병 환자의 응답을 받은 후 1년 후의 질병 진행을 측정한 데이터이다.</p>"
   ]
  },
  {
   "cell_type": "markdown",
   "id": "3b2d8718",
   "metadata": {},
   "source": [
    "<div style = \"height: 25px;\"></div>"
   ]
  },
  {
   "cell_type": "markdown",
   "id": "6ac8ba53",
   "metadata": {},
   "source": [
    "### 데이터 모양 확인하기"
   ]
  },
  {
   "cell_type": "code",
   "execution_count": 6,
   "id": "4a245dba",
   "metadata": {},
   "outputs": [
    {
     "data": {
      "text/plain": [
       "(442, 10)"
      ]
     },
     "execution_count": 6,
     "metadata": {},
     "output_type": "execute_result"
    }
   ],
   "source": [
    "df_X.shape"
   ]
  },
  {
   "cell_type": "code",
   "execution_count": 7,
   "id": "382cc964",
   "metadata": {},
   "outputs": [
    {
     "data": {
      "text/plain": [
       "(442,)"
      ]
     },
     "execution_count": 7,
     "metadata": {},
     "output_type": "execute_result"
    }
   ],
   "source": [
    "df_y.shape"
   ]
  },
  {
   "cell_type": "code",
   "execution_count": 8,
   "id": "e6f3c80b",
   "metadata": {},
   "outputs": [
    {
     "data": {
      "text/plain": [
       "dict_keys(['data', 'target', 'frame', 'DESCR', 'feature_names', 'data_filename', 'target_filename'])"
      ]
     },
     "execution_count": 8,
     "metadata": {},
     "output_type": "execute_result"
    }
   ],
   "source": [
    "diabetes.keys()"
   ]
  },
  {
   "cell_type": "code",
   "execution_count": 9,
   "id": "33042776",
   "metadata": {},
   "outputs": [
    {
     "data": {
      "text/plain": [
       "['age', 'sex', 'bmi', 'bp', 's1', 's2', 's3', 's4', 's5', 's6']"
      ]
     },
     "execution_count": 9,
     "metadata": {},
     "output_type": "execute_result"
    }
   ],
   "source": [
    "diabetes.feature_names"
   ]
  },
  {
   "cell_type": "markdown",
   "id": "9d19b705",
   "metadata": {},
   "source": [
    "<div style = \"height: 25px;\"></div>"
   ]
  },
  {
   "cell_type": "markdown",
   "id": "d9b5f11a",
   "metadata": {},
   "source": [
    "### 데이터프레임 만들어 확인하기"
   ]
  },
  {
   "cell_type": "code",
   "execution_count": 10,
   "id": "deecf8f0",
   "metadata": {},
   "outputs": [],
   "source": [
    "diabetes_ = load_diabetes(as_frame = True)"
   ]
  },
  {
   "cell_type": "code",
   "execution_count": 11,
   "id": "0ef71601",
   "metadata": {},
   "outputs": [],
   "source": [
    "diabetes_df = diabetes_.frame"
   ]
  },
  {
   "cell_type": "code",
   "execution_count": 12,
   "id": "0cd917da",
   "metadata": {},
   "outputs": [
    {
     "data": {
      "text/html": [
       "<div>\n",
       "<style scoped>\n",
       "    .dataframe tbody tr th:only-of-type {\n",
       "        vertical-align: middle;\n",
       "    }\n",
       "\n",
       "    .dataframe tbody tr th {\n",
       "        vertical-align: top;\n",
       "    }\n",
       "\n",
       "    .dataframe thead th {\n",
       "        text-align: right;\n",
       "    }\n",
       "</style>\n",
       "<table border=\"1\" class=\"dataframe\">\n",
       "  <thead>\n",
       "    <tr style=\"text-align: right;\">\n",
       "      <th></th>\n",
       "      <th>age</th>\n",
       "      <th>sex</th>\n",
       "      <th>bmi</th>\n",
       "      <th>bp</th>\n",
       "      <th>s1</th>\n",
       "      <th>s2</th>\n",
       "      <th>s3</th>\n",
       "      <th>s4</th>\n",
       "      <th>s5</th>\n",
       "      <th>s6</th>\n",
       "      <th>target</th>\n",
       "    </tr>\n",
       "  </thead>\n",
       "  <tbody>\n",
       "    <tr>\n",
       "      <th>0</th>\n",
       "      <td>0.038076</td>\n",
       "      <td>0.050680</td>\n",
       "      <td>0.061696</td>\n",
       "      <td>0.021872</td>\n",
       "      <td>-0.044223</td>\n",
       "      <td>-0.034821</td>\n",
       "      <td>-0.043401</td>\n",
       "      <td>-0.002592</td>\n",
       "      <td>0.019908</td>\n",
       "      <td>-0.017646</td>\n",
       "      <td>151.0</td>\n",
       "    </tr>\n",
       "    <tr>\n",
       "      <th>1</th>\n",
       "      <td>-0.001882</td>\n",
       "      <td>-0.044642</td>\n",
       "      <td>-0.051474</td>\n",
       "      <td>-0.026328</td>\n",
       "      <td>-0.008449</td>\n",
       "      <td>-0.019163</td>\n",
       "      <td>0.074412</td>\n",
       "      <td>-0.039493</td>\n",
       "      <td>-0.068330</td>\n",
       "      <td>-0.092204</td>\n",
       "      <td>75.0</td>\n",
       "    </tr>\n",
       "    <tr>\n",
       "      <th>2</th>\n",
       "      <td>0.085299</td>\n",
       "      <td>0.050680</td>\n",
       "      <td>0.044451</td>\n",
       "      <td>-0.005671</td>\n",
       "      <td>-0.045599</td>\n",
       "      <td>-0.034194</td>\n",
       "      <td>-0.032356</td>\n",
       "      <td>-0.002592</td>\n",
       "      <td>0.002864</td>\n",
       "      <td>-0.025930</td>\n",
       "      <td>141.0</td>\n",
       "    </tr>\n",
       "    <tr>\n",
       "      <th>3</th>\n",
       "      <td>-0.089063</td>\n",
       "      <td>-0.044642</td>\n",
       "      <td>-0.011595</td>\n",
       "      <td>-0.036656</td>\n",
       "      <td>0.012191</td>\n",
       "      <td>0.024991</td>\n",
       "      <td>-0.036038</td>\n",
       "      <td>0.034309</td>\n",
       "      <td>0.022692</td>\n",
       "      <td>-0.009362</td>\n",
       "      <td>206.0</td>\n",
       "    </tr>\n",
       "    <tr>\n",
       "      <th>4</th>\n",
       "      <td>0.005383</td>\n",
       "      <td>-0.044642</td>\n",
       "      <td>-0.036385</td>\n",
       "      <td>0.021872</td>\n",
       "      <td>0.003935</td>\n",
       "      <td>0.015596</td>\n",
       "      <td>0.008142</td>\n",
       "      <td>-0.002592</td>\n",
       "      <td>-0.031991</td>\n",
       "      <td>-0.046641</td>\n",
       "      <td>135.0</td>\n",
       "    </tr>\n",
       "    <tr>\n",
       "      <th>...</th>\n",
       "      <td>...</td>\n",
       "      <td>...</td>\n",
       "      <td>...</td>\n",
       "      <td>...</td>\n",
       "      <td>...</td>\n",
       "      <td>...</td>\n",
       "      <td>...</td>\n",
       "      <td>...</td>\n",
       "      <td>...</td>\n",
       "      <td>...</td>\n",
       "      <td>...</td>\n",
       "    </tr>\n",
       "    <tr>\n",
       "      <th>437</th>\n",
       "      <td>0.041708</td>\n",
       "      <td>0.050680</td>\n",
       "      <td>0.019662</td>\n",
       "      <td>0.059744</td>\n",
       "      <td>-0.005697</td>\n",
       "      <td>-0.002566</td>\n",
       "      <td>-0.028674</td>\n",
       "      <td>-0.002592</td>\n",
       "      <td>0.031193</td>\n",
       "      <td>0.007207</td>\n",
       "      <td>178.0</td>\n",
       "    </tr>\n",
       "    <tr>\n",
       "      <th>438</th>\n",
       "      <td>-0.005515</td>\n",
       "      <td>0.050680</td>\n",
       "      <td>-0.015906</td>\n",
       "      <td>-0.067642</td>\n",
       "      <td>0.049341</td>\n",
       "      <td>0.079165</td>\n",
       "      <td>-0.028674</td>\n",
       "      <td>0.034309</td>\n",
       "      <td>-0.018118</td>\n",
       "      <td>0.044485</td>\n",
       "      <td>104.0</td>\n",
       "    </tr>\n",
       "    <tr>\n",
       "      <th>439</th>\n",
       "      <td>0.041708</td>\n",
       "      <td>0.050680</td>\n",
       "      <td>-0.015906</td>\n",
       "      <td>0.017282</td>\n",
       "      <td>-0.037344</td>\n",
       "      <td>-0.013840</td>\n",
       "      <td>-0.024993</td>\n",
       "      <td>-0.011080</td>\n",
       "      <td>-0.046879</td>\n",
       "      <td>0.015491</td>\n",
       "      <td>132.0</td>\n",
       "    </tr>\n",
       "    <tr>\n",
       "      <th>440</th>\n",
       "      <td>-0.045472</td>\n",
       "      <td>-0.044642</td>\n",
       "      <td>0.039062</td>\n",
       "      <td>0.001215</td>\n",
       "      <td>0.016318</td>\n",
       "      <td>0.015283</td>\n",
       "      <td>-0.028674</td>\n",
       "      <td>0.026560</td>\n",
       "      <td>0.044528</td>\n",
       "      <td>-0.025930</td>\n",
       "      <td>220.0</td>\n",
       "    </tr>\n",
       "    <tr>\n",
       "      <th>441</th>\n",
       "      <td>-0.045472</td>\n",
       "      <td>-0.044642</td>\n",
       "      <td>-0.073030</td>\n",
       "      <td>-0.081414</td>\n",
       "      <td>0.083740</td>\n",
       "      <td>0.027809</td>\n",
       "      <td>0.173816</td>\n",
       "      <td>-0.039493</td>\n",
       "      <td>-0.004220</td>\n",
       "      <td>0.003064</td>\n",
       "      <td>57.0</td>\n",
       "    </tr>\n",
       "  </tbody>\n",
       "</table>\n",
       "<p>442 rows × 11 columns</p>\n",
       "</div>"
      ],
      "text/plain": [
       "          age       sex       bmi        bp        s1        s2        s3  \\\n",
       "0    0.038076  0.050680  0.061696  0.021872 -0.044223 -0.034821 -0.043401   \n",
       "1   -0.001882 -0.044642 -0.051474 -0.026328 -0.008449 -0.019163  0.074412   \n",
       "2    0.085299  0.050680  0.044451 -0.005671 -0.045599 -0.034194 -0.032356   \n",
       "3   -0.089063 -0.044642 -0.011595 -0.036656  0.012191  0.024991 -0.036038   \n",
       "4    0.005383 -0.044642 -0.036385  0.021872  0.003935  0.015596  0.008142   \n",
       "..        ...       ...       ...       ...       ...       ...       ...   \n",
       "437  0.041708  0.050680  0.019662  0.059744 -0.005697 -0.002566 -0.028674   \n",
       "438 -0.005515  0.050680 -0.015906 -0.067642  0.049341  0.079165 -0.028674   \n",
       "439  0.041708  0.050680 -0.015906  0.017282 -0.037344 -0.013840 -0.024993   \n",
       "440 -0.045472 -0.044642  0.039062  0.001215  0.016318  0.015283 -0.028674   \n",
       "441 -0.045472 -0.044642 -0.073030 -0.081414  0.083740  0.027809  0.173816   \n",
       "\n",
       "           s4        s5        s6  target  \n",
       "0   -0.002592  0.019908 -0.017646   151.0  \n",
       "1   -0.039493 -0.068330 -0.092204    75.0  \n",
       "2   -0.002592  0.002864 -0.025930   141.0  \n",
       "3    0.034309  0.022692 -0.009362   206.0  \n",
       "4   -0.002592 -0.031991 -0.046641   135.0  \n",
       "..        ...       ...       ...     ...  \n",
       "437 -0.002592  0.031193  0.007207   178.0  \n",
       "438  0.034309 -0.018118  0.044485   104.0  \n",
       "439 -0.011080 -0.046879  0.015491   132.0  \n",
       "440  0.026560  0.044528 -0.025930   220.0  \n",
       "441 -0.039493 -0.004220  0.003064    57.0  \n",
       "\n",
       "[442 rows x 11 columns]"
      ]
     },
     "execution_count": 12,
     "metadata": {},
     "output_type": "execute_result"
    }
   ],
   "source": [
    "diabetes_df"
   ]
  },
  {
   "cell_type": "markdown",
   "id": "9273bfc8",
   "metadata": {},
   "source": [
    "<div style = \"height: 25px;\"></div>"
   ]
  },
  {
   "cell_type": "markdown",
   "id": "887d0f42",
   "metadata": {},
   "source": [
    "### 데이터 describe하기"
   ]
  },
  {
   "cell_type": "code",
   "execution_count": 13,
   "id": "74c0c50c",
   "metadata": {},
   "outputs": [
    {
     "data": {
      "text/html": [
       "<div>\n",
       "<style scoped>\n",
       "    .dataframe tbody tr th:only-of-type {\n",
       "        vertical-align: middle;\n",
       "    }\n",
       "\n",
       "    .dataframe tbody tr th {\n",
       "        vertical-align: top;\n",
       "    }\n",
       "\n",
       "    .dataframe thead th {\n",
       "        text-align: right;\n",
       "    }\n",
       "</style>\n",
       "<table border=\"1\" class=\"dataframe\">\n",
       "  <thead>\n",
       "    <tr style=\"text-align: right;\">\n",
       "      <th></th>\n",
       "      <th>age</th>\n",
       "      <th>sex</th>\n",
       "      <th>bmi</th>\n",
       "      <th>bp</th>\n",
       "      <th>s1</th>\n",
       "      <th>s2</th>\n",
       "      <th>s3</th>\n",
       "      <th>s4</th>\n",
       "      <th>s5</th>\n",
       "      <th>s6</th>\n",
       "      <th>target</th>\n",
       "    </tr>\n",
       "  </thead>\n",
       "  <tbody>\n",
       "    <tr>\n",
       "      <th>count</th>\n",
       "      <td>4.420000e+02</td>\n",
       "      <td>4.420000e+02</td>\n",
       "      <td>4.420000e+02</td>\n",
       "      <td>4.420000e+02</td>\n",
       "      <td>4.420000e+02</td>\n",
       "      <td>4.420000e+02</td>\n",
       "      <td>4.420000e+02</td>\n",
       "      <td>4.420000e+02</td>\n",
       "      <td>4.420000e+02</td>\n",
       "      <td>4.420000e+02</td>\n",
       "      <td>442.000000</td>\n",
       "    </tr>\n",
       "    <tr>\n",
       "      <th>mean</th>\n",
       "      <td>-3.634285e-16</td>\n",
       "      <td>1.308343e-16</td>\n",
       "      <td>-8.045349e-16</td>\n",
       "      <td>1.281655e-16</td>\n",
       "      <td>-8.835316e-17</td>\n",
       "      <td>1.327024e-16</td>\n",
       "      <td>-4.574646e-16</td>\n",
       "      <td>3.777301e-16</td>\n",
       "      <td>-3.830854e-16</td>\n",
       "      <td>-3.412882e-16</td>\n",
       "      <td>152.133484</td>\n",
       "    </tr>\n",
       "    <tr>\n",
       "      <th>std</th>\n",
       "      <td>4.761905e-02</td>\n",
       "      <td>4.761905e-02</td>\n",
       "      <td>4.761905e-02</td>\n",
       "      <td>4.761905e-02</td>\n",
       "      <td>4.761905e-02</td>\n",
       "      <td>4.761905e-02</td>\n",
       "      <td>4.761905e-02</td>\n",
       "      <td>4.761905e-02</td>\n",
       "      <td>4.761905e-02</td>\n",
       "      <td>4.761905e-02</td>\n",
       "      <td>77.093005</td>\n",
       "    </tr>\n",
       "    <tr>\n",
       "      <th>min</th>\n",
       "      <td>-1.072256e-01</td>\n",
       "      <td>-4.464164e-02</td>\n",
       "      <td>-9.027530e-02</td>\n",
       "      <td>-1.123996e-01</td>\n",
       "      <td>-1.267807e-01</td>\n",
       "      <td>-1.156131e-01</td>\n",
       "      <td>-1.023071e-01</td>\n",
       "      <td>-7.639450e-02</td>\n",
       "      <td>-1.260974e-01</td>\n",
       "      <td>-1.377672e-01</td>\n",
       "      <td>25.000000</td>\n",
       "    </tr>\n",
       "    <tr>\n",
       "      <th>25%</th>\n",
       "      <td>-3.729927e-02</td>\n",
       "      <td>-4.464164e-02</td>\n",
       "      <td>-3.422907e-02</td>\n",
       "      <td>-3.665645e-02</td>\n",
       "      <td>-3.424784e-02</td>\n",
       "      <td>-3.035840e-02</td>\n",
       "      <td>-3.511716e-02</td>\n",
       "      <td>-3.949338e-02</td>\n",
       "      <td>-3.324879e-02</td>\n",
       "      <td>-3.317903e-02</td>\n",
       "      <td>87.000000</td>\n",
       "    </tr>\n",
       "    <tr>\n",
       "      <th>50%</th>\n",
       "      <td>5.383060e-03</td>\n",
       "      <td>-4.464164e-02</td>\n",
       "      <td>-7.283766e-03</td>\n",
       "      <td>-5.670611e-03</td>\n",
       "      <td>-4.320866e-03</td>\n",
       "      <td>-3.819065e-03</td>\n",
       "      <td>-6.584468e-03</td>\n",
       "      <td>-2.592262e-03</td>\n",
       "      <td>-1.947634e-03</td>\n",
       "      <td>-1.077698e-03</td>\n",
       "      <td>140.500000</td>\n",
       "    </tr>\n",
       "    <tr>\n",
       "      <th>75%</th>\n",
       "      <td>3.807591e-02</td>\n",
       "      <td>5.068012e-02</td>\n",
       "      <td>3.124802e-02</td>\n",
       "      <td>3.564384e-02</td>\n",
       "      <td>2.835801e-02</td>\n",
       "      <td>2.984439e-02</td>\n",
       "      <td>2.931150e-02</td>\n",
       "      <td>3.430886e-02</td>\n",
       "      <td>3.243323e-02</td>\n",
       "      <td>2.791705e-02</td>\n",
       "      <td>211.500000</td>\n",
       "    </tr>\n",
       "    <tr>\n",
       "      <th>max</th>\n",
       "      <td>1.107267e-01</td>\n",
       "      <td>5.068012e-02</td>\n",
       "      <td>1.705552e-01</td>\n",
       "      <td>1.320442e-01</td>\n",
       "      <td>1.539137e-01</td>\n",
       "      <td>1.987880e-01</td>\n",
       "      <td>1.811791e-01</td>\n",
       "      <td>1.852344e-01</td>\n",
       "      <td>1.335990e-01</td>\n",
       "      <td>1.356118e-01</td>\n",
       "      <td>346.000000</td>\n",
       "    </tr>\n",
       "  </tbody>\n",
       "</table>\n",
       "</div>"
      ],
      "text/plain": [
       "                age           sex           bmi            bp            s1  \\\n",
       "count  4.420000e+02  4.420000e+02  4.420000e+02  4.420000e+02  4.420000e+02   \n",
       "mean  -3.634285e-16  1.308343e-16 -8.045349e-16  1.281655e-16 -8.835316e-17   \n",
       "std    4.761905e-02  4.761905e-02  4.761905e-02  4.761905e-02  4.761905e-02   \n",
       "min   -1.072256e-01 -4.464164e-02 -9.027530e-02 -1.123996e-01 -1.267807e-01   \n",
       "25%   -3.729927e-02 -4.464164e-02 -3.422907e-02 -3.665645e-02 -3.424784e-02   \n",
       "50%    5.383060e-03 -4.464164e-02 -7.283766e-03 -5.670611e-03 -4.320866e-03   \n",
       "75%    3.807591e-02  5.068012e-02  3.124802e-02  3.564384e-02  2.835801e-02   \n",
       "max    1.107267e-01  5.068012e-02  1.705552e-01  1.320442e-01  1.539137e-01   \n",
       "\n",
       "                 s2            s3            s4            s5            s6  \\\n",
       "count  4.420000e+02  4.420000e+02  4.420000e+02  4.420000e+02  4.420000e+02   \n",
       "mean   1.327024e-16 -4.574646e-16  3.777301e-16 -3.830854e-16 -3.412882e-16   \n",
       "std    4.761905e-02  4.761905e-02  4.761905e-02  4.761905e-02  4.761905e-02   \n",
       "min   -1.156131e-01 -1.023071e-01 -7.639450e-02 -1.260974e-01 -1.377672e-01   \n",
       "25%   -3.035840e-02 -3.511716e-02 -3.949338e-02 -3.324879e-02 -3.317903e-02   \n",
       "50%   -3.819065e-03 -6.584468e-03 -2.592262e-03 -1.947634e-03 -1.077698e-03   \n",
       "75%    2.984439e-02  2.931150e-02  3.430886e-02  3.243323e-02  2.791705e-02   \n",
       "max    1.987880e-01  1.811791e-01  1.852344e-01  1.335990e-01  1.356118e-01   \n",
       "\n",
       "           target  \n",
       "count  442.000000  \n",
       "mean   152.133484  \n",
       "std     77.093005  \n",
       "min     25.000000  \n",
       "25%     87.000000  \n",
       "50%    140.500000  \n",
       "75%    211.500000  \n",
       "max    346.000000  "
      ]
     },
     "execution_count": 13,
     "metadata": {},
     "output_type": "execute_result"
    }
   ],
   "source": [
    "diabetes_df.describe()"
   ]
  },
  {
   "cell_type": "markdown",
   "id": "bd02b772",
   "metadata": {},
   "source": [
    "<div style = \"height: 25px;\"></div>"
   ]
  },
  {
   "cell_type": "markdown",
   "id": "e5a08764",
   "metadata": {},
   "source": [
    "### 넘파이로 상관계수 구해보기"
   ]
  },
  {
   "cell_type": "code",
   "execution_count": 14,
   "id": "bd8cd803",
   "metadata": {},
   "outputs": [
    {
     "data": {
      "text/html": [
       "<div>\n",
       "<style scoped>\n",
       "    .dataframe tbody tr th:only-of-type {\n",
       "        vertical-align: middle;\n",
       "    }\n",
       "\n",
       "    .dataframe tbody tr th {\n",
       "        vertical-align: top;\n",
       "    }\n",
       "\n",
       "    .dataframe thead th {\n",
       "        text-align: right;\n",
       "    }\n",
       "</style>\n",
       "<table border=\"1\" class=\"dataframe\">\n",
       "  <thead>\n",
       "    <tr style=\"text-align: right;\">\n",
       "      <th></th>\n",
       "      <th>age</th>\n",
       "      <th>sex</th>\n",
       "      <th>bmi</th>\n",
       "      <th>bp</th>\n",
       "      <th>s1</th>\n",
       "      <th>s2</th>\n",
       "      <th>s3</th>\n",
       "      <th>s4</th>\n",
       "      <th>s5</th>\n",
       "      <th>s6</th>\n",
       "      <th>target</th>\n",
       "    </tr>\n",
       "  </thead>\n",
       "  <tbody>\n",
       "    <tr>\n",
       "      <th>age</th>\n",
       "      <td>1.000000</td>\n",
       "      <td>0.173737</td>\n",
       "      <td>0.185085</td>\n",
       "      <td>0.335427</td>\n",
       "      <td>0.260061</td>\n",
       "      <td>0.219243</td>\n",
       "      <td>-0.075181</td>\n",
       "      <td>0.203841</td>\n",
       "      <td>0.270777</td>\n",
       "      <td>0.301731</td>\n",
       "      <td>0.187889</td>\n",
       "    </tr>\n",
       "    <tr>\n",
       "      <th>sex</th>\n",
       "      <td>0.173737</td>\n",
       "      <td>1.000000</td>\n",
       "      <td>0.088161</td>\n",
       "      <td>0.241013</td>\n",
       "      <td>0.035277</td>\n",
       "      <td>0.142637</td>\n",
       "      <td>-0.379090</td>\n",
       "      <td>0.332115</td>\n",
       "      <td>0.149918</td>\n",
       "      <td>0.208133</td>\n",
       "      <td>0.043062</td>\n",
       "    </tr>\n",
       "    <tr>\n",
       "      <th>bmi</th>\n",
       "      <td>0.185085</td>\n",
       "      <td>0.088161</td>\n",
       "      <td>1.000000</td>\n",
       "      <td>0.395415</td>\n",
       "      <td>0.249777</td>\n",
       "      <td>0.261170</td>\n",
       "      <td>-0.366811</td>\n",
       "      <td>0.413807</td>\n",
       "      <td>0.446159</td>\n",
       "      <td>0.388680</td>\n",
       "      <td>0.586450</td>\n",
       "    </tr>\n",
       "    <tr>\n",
       "      <th>bp</th>\n",
       "      <td>0.335427</td>\n",
       "      <td>0.241013</td>\n",
       "      <td>0.395415</td>\n",
       "      <td>1.000000</td>\n",
       "      <td>0.242470</td>\n",
       "      <td>0.185558</td>\n",
       "      <td>-0.178761</td>\n",
       "      <td>0.257653</td>\n",
       "      <td>0.393478</td>\n",
       "      <td>0.390429</td>\n",
       "      <td>0.441484</td>\n",
       "    </tr>\n",
       "    <tr>\n",
       "      <th>s1</th>\n",
       "      <td>0.260061</td>\n",
       "      <td>0.035277</td>\n",
       "      <td>0.249777</td>\n",
       "      <td>0.242470</td>\n",
       "      <td>1.000000</td>\n",
       "      <td>0.896663</td>\n",
       "      <td>0.051519</td>\n",
       "      <td>0.542207</td>\n",
       "      <td>0.515501</td>\n",
       "      <td>0.325717</td>\n",
       "      <td>0.212022</td>\n",
       "    </tr>\n",
       "    <tr>\n",
       "      <th>s2</th>\n",
       "      <td>0.219243</td>\n",
       "      <td>0.142637</td>\n",
       "      <td>0.261170</td>\n",
       "      <td>0.185558</td>\n",
       "      <td>0.896663</td>\n",
       "      <td>1.000000</td>\n",
       "      <td>-0.196455</td>\n",
       "      <td>0.659817</td>\n",
       "      <td>0.318353</td>\n",
       "      <td>0.290600</td>\n",
       "      <td>0.174054</td>\n",
       "    </tr>\n",
       "    <tr>\n",
       "      <th>s3</th>\n",
       "      <td>-0.075181</td>\n",
       "      <td>-0.379090</td>\n",
       "      <td>-0.366811</td>\n",
       "      <td>-0.178761</td>\n",
       "      <td>0.051519</td>\n",
       "      <td>-0.196455</td>\n",
       "      <td>1.000000</td>\n",
       "      <td>-0.738493</td>\n",
       "      <td>-0.398577</td>\n",
       "      <td>-0.273697</td>\n",
       "      <td>-0.394789</td>\n",
       "    </tr>\n",
       "    <tr>\n",
       "      <th>s4</th>\n",
       "      <td>0.203841</td>\n",
       "      <td>0.332115</td>\n",
       "      <td>0.413807</td>\n",
       "      <td>0.257653</td>\n",
       "      <td>0.542207</td>\n",
       "      <td>0.659817</td>\n",
       "      <td>-0.738493</td>\n",
       "      <td>1.000000</td>\n",
       "      <td>0.617857</td>\n",
       "      <td>0.417212</td>\n",
       "      <td>0.430453</td>\n",
       "    </tr>\n",
       "    <tr>\n",
       "      <th>s5</th>\n",
       "      <td>0.270777</td>\n",
       "      <td>0.149918</td>\n",
       "      <td>0.446159</td>\n",
       "      <td>0.393478</td>\n",
       "      <td>0.515501</td>\n",
       "      <td>0.318353</td>\n",
       "      <td>-0.398577</td>\n",
       "      <td>0.617857</td>\n",
       "      <td>1.000000</td>\n",
       "      <td>0.464670</td>\n",
       "      <td>0.565883</td>\n",
       "    </tr>\n",
       "    <tr>\n",
       "      <th>s6</th>\n",
       "      <td>0.301731</td>\n",
       "      <td>0.208133</td>\n",
       "      <td>0.388680</td>\n",
       "      <td>0.390429</td>\n",
       "      <td>0.325717</td>\n",
       "      <td>0.290600</td>\n",
       "      <td>-0.273697</td>\n",
       "      <td>0.417212</td>\n",
       "      <td>0.464670</td>\n",
       "      <td>1.000000</td>\n",
       "      <td>0.382483</td>\n",
       "    </tr>\n",
       "    <tr>\n",
       "      <th>target</th>\n",
       "      <td>0.187889</td>\n",
       "      <td>0.043062</td>\n",
       "      <td>0.586450</td>\n",
       "      <td>0.441484</td>\n",
       "      <td>0.212022</td>\n",
       "      <td>0.174054</td>\n",
       "      <td>-0.394789</td>\n",
       "      <td>0.430453</td>\n",
       "      <td>0.565883</td>\n",
       "      <td>0.382483</td>\n",
       "      <td>1.000000</td>\n",
       "    </tr>\n",
       "  </tbody>\n",
       "</table>\n",
       "</div>"
      ],
      "text/plain": [
       "             age       sex       bmi        bp        s1        s2        s3  \\\n",
       "age     1.000000  0.173737  0.185085  0.335427  0.260061  0.219243 -0.075181   \n",
       "sex     0.173737  1.000000  0.088161  0.241013  0.035277  0.142637 -0.379090   \n",
       "bmi     0.185085  0.088161  1.000000  0.395415  0.249777  0.261170 -0.366811   \n",
       "bp      0.335427  0.241013  0.395415  1.000000  0.242470  0.185558 -0.178761   \n",
       "s1      0.260061  0.035277  0.249777  0.242470  1.000000  0.896663  0.051519   \n",
       "s2      0.219243  0.142637  0.261170  0.185558  0.896663  1.000000 -0.196455   \n",
       "s3     -0.075181 -0.379090 -0.366811 -0.178761  0.051519 -0.196455  1.000000   \n",
       "s4      0.203841  0.332115  0.413807  0.257653  0.542207  0.659817 -0.738493   \n",
       "s5      0.270777  0.149918  0.446159  0.393478  0.515501  0.318353 -0.398577   \n",
       "s6      0.301731  0.208133  0.388680  0.390429  0.325717  0.290600 -0.273697   \n",
       "target  0.187889  0.043062  0.586450  0.441484  0.212022  0.174054 -0.394789   \n",
       "\n",
       "              s4        s5        s6    target  \n",
       "age     0.203841  0.270777  0.301731  0.187889  \n",
       "sex     0.332115  0.149918  0.208133  0.043062  \n",
       "bmi     0.413807  0.446159  0.388680  0.586450  \n",
       "bp      0.257653  0.393478  0.390429  0.441484  \n",
       "s1      0.542207  0.515501  0.325717  0.212022  \n",
       "s2      0.659817  0.318353  0.290600  0.174054  \n",
       "s3     -0.738493 -0.398577 -0.273697 -0.394789  \n",
       "s4      1.000000  0.617857  0.417212  0.430453  \n",
       "s5      0.617857  1.000000  0.464670  0.565883  \n",
       "s6      0.417212  0.464670  1.000000  0.382483  \n",
       "target  0.430453  0.565883  0.382483  1.000000  "
      ]
     },
     "execution_count": 14,
     "metadata": {},
     "output_type": "execute_result"
    }
   ],
   "source": [
    "diabetes_df.corr(method = 'pearson')"
   ]
  },
  {
   "cell_type": "markdown",
   "id": "24df14a8",
   "metadata": {},
   "source": [
    "<p style= \"font-size:15px; line-height:24px;\">각각의 컬럼들과 target 값의 상관 관계를 확인해본 결과, 모든 컬럼은 target 대해 상관관계를 가지고 있다.<br/>\n",
    "따라서, <span style = 'background-color:#fff5b1; padding:0.2px;'>x에는 모든 컬럼을 넣을 것이다.</span></p>"
   ]
  },
  {
   "cell_type": "markdown",
   "id": "720ad2c9",
   "metadata": {},
   "source": [
    "<div style = \"height: 50px;\"></div>"
   ]
  },
  {
   "cell_type": "markdown",
   "id": "809f54b0",
   "metadata": {},
   "source": [
    "## 2. 모델에 입력할 데이터 X 준비하기\n",
    "<hr/>"
   ]
  },
  {
   "cell_type": "code",
   "execution_count": 15,
   "id": "0c847369",
   "metadata": {},
   "outputs": [
    {
     "data": {
      "text/plain": [
       "(442, 10)"
      ]
     },
     "execution_count": 15,
     "metadata": {},
     "output_type": "execute_result"
    }
   ],
   "source": [
    "x = np.array(df_X)\n",
    "x.shape"
   ]
  },
  {
   "cell_type": "markdown",
   "id": "6d76d450",
   "metadata": {},
   "source": [
    "<div style = \"height: 50px;\"></div>"
   ]
  },
  {
   "cell_type": "markdown",
   "id": "b1e2aa43",
   "metadata": {},
   "source": [
    "## 3. 모델에 입력할 데이터 y 준비하기\n",
    "<hr/>"
   ]
  },
  {
   "cell_type": "code",
   "execution_count": 16,
   "id": "329e070e",
   "metadata": {},
   "outputs": [
    {
     "data": {
      "text/plain": [
       "(442,)"
      ]
     },
     "execution_count": 16,
     "metadata": {},
     "output_type": "execute_result"
    }
   ],
   "source": [
    "y = np.array(df_y)\n",
    "y.shape"
   ]
  },
  {
   "cell_type": "markdown",
   "id": "9a4addc1",
   "metadata": {},
   "source": [
    "<p style= \"font-size:15px; line-height:24px;\">x와 df_X를 확인해본결과, 둘 다 넘파이 배열인 것을 확인할 수 있었습니다.<br/>np.array를 사용할 필요는 없다고 생각하나, LMS에 진행하라는 순서대로 진행했습니다.</p>"
   ]
  },
  {
   "cell_type": "markdown",
   "id": "9d50228a",
   "metadata": {},
   "source": [
    "<div style = \"height: 50px;\"></div>"
   ]
  },
  {
   "cell_type": "markdown",
   "id": "dff13b55",
   "metadata": {},
   "source": [
    "## 4. train 데이터와 test 데이터로 분리하기\n",
    "<hr/>"
   ]
  },
  {
   "cell_type": "code",
   "execution_count": 17,
   "id": "5d8d1a7a",
   "metadata": {},
   "outputs": [],
   "source": [
    "x_train, x_test, y_train, y_test = train_test_split(x, y, test_size = 0.2, random_state = 42)"
   ]
  },
  {
   "cell_type": "markdown",
   "id": "e12d6a22",
   "metadata": {},
   "source": [
    "<div style = \"height: 50px;\"></div>"
   ]
  },
  {
   "cell_type": "markdown",
   "id": "978fd4ee",
   "metadata": {},
   "source": [
    "## 5. 모델 준비하기\n",
    "<hr/>"
   ]
  },
  {
   "cell_type": "markdown",
   "id": "10ed4d2c",
   "metadata": {},
   "source": [
    "### 가중치 w와 b 준비하기"
   ]
  },
  {
   "cell_type": "code",
   "execution_count": 18,
   "id": "f22ef052",
   "metadata": {},
   "outputs": [],
   "source": [
    "w = np.random.rand(10)\n",
    "b = np.random.rand()"
   ]
  },
  {
   "cell_type": "code",
   "execution_count": 19,
   "id": "ec8118b8",
   "metadata": {},
   "outputs": [
    {
     "data": {
      "text/plain": [
       "array([0.62834561, 0.96788841, 0.50547853, 0.05397689, 0.8425398 ,\n",
       "       0.31291337, 0.39824409, 0.72412583, 0.760225  , 0.8293882 ])"
      ]
     },
     "execution_count": 19,
     "metadata": {},
     "output_type": "execute_result"
    }
   ],
   "source": [
    "w"
   ]
  },
  {
   "cell_type": "code",
   "execution_count": 20,
   "id": "ade55bdf",
   "metadata": {},
   "outputs": [
    {
     "data": {
      "text/plain": [
       "0.6886012976712814"
      ]
     },
     "execution_count": 20,
     "metadata": {},
     "output_type": "execute_result"
    }
   ],
   "source": [
    "b"
   ]
  },
  {
   "cell_type": "markdown",
   "id": "5368a96c",
   "metadata": {},
   "source": [
    "<div style = \"height: 25px;\"></div>"
   ]
  },
  {
   "cell_type": "markdown",
   "id": "ea65224f",
   "metadata": {},
   "source": [
    "### 모양 확인하기"
   ]
  },
  {
   "cell_type": "code",
   "execution_count": 21,
   "id": "91e7898b",
   "metadata": {},
   "outputs": [
    {
     "data": {
      "text/plain": [
       "(442, 10)"
      ]
     },
     "execution_count": 21,
     "metadata": {},
     "output_type": "execute_result"
    }
   ],
   "source": [
    "x.shape"
   ]
  },
  {
   "cell_type": "code",
   "execution_count": 22,
   "id": "e998ad62",
   "metadata": {},
   "outputs": [
    {
     "data": {
      "text/plain": [
       "(442,)"
      ]
     },
     "execution_count": 22,
     "metadata": {},
     "output_type": "execute_result"
    }
   ],
   "source": [
    "y.shape"
   ]
  },
  {
   "cell_type": "code",
   "execution_count": 23,
   "id": "884d6fa0",
   "metadata": {},
   "outputs": [
    {
     "data": {
      "text/plain": [
       "(10,)"
      ]
     },
     "execution_count": 23,
     "metadata": {},
     "output_type": "execute_result"
    }
   ],
   "source": [
    "w.shape"
   ]
  },
  {
   "cell_type": "markdown",
   "id": "90bd9774",
   "metadata": {},
   "source": [
    "<div style = \"height: 25px;\"></div>"
   ]
  },
  {
   "cell_type": "markdown",
   "id": "dcc515de",
   "metadata": {},
   "source": [
    "### 모델 함수 구현하기"
   ]
  },
  {
   "cell_type": "code",
   "execution_count": 24,
   "id": "4b13a1ed",
   "metadata": {},
   "outputs": [],
   "source": [
    "# y값 찾는 모델 함수 \n",
    "def model(x, w, b):\n",
    "    predictions = 0\n",
    "    for i in range(10):\n",
    "        predictions += x[:,i] * w[i] \n",
    "    predictions += b\n",
    "    return predictions"
   ]
  },
  {
   "cell_type": "markdown",
   "id": "15c1fdbe",
   "metadata": {},
   "source": [
    "<div style = \"height: 50px;\"></div>"
   ]
  },
  {
   "cell_type": "markdown",
   "id": "fd02e72e",
   "metadata": {},
   "source": [
    "## 6. 손실함수 loss 정의하기\n",
    "<hr/>"
   ]
  },
  {
   "cell_type": "markdown",
   "id": "68338da5",
   "metadata": {},
   "source": [
    "### 손실함수를 MSE 함수로 정의"
   ]
  },
  {
   "cell_type": "code",
   "execution_count": 25,
   "id": "e72cd399",
   "metadata": {},
   "outputs": [],
   "source": [
    "def MSE(a, b):\n",
    "    mse = ((a - b) ** 2).mean()\n",
    "    return mse"
   ]
  },
  {
   "cell_type": "markdown",
   "id": "dde33fe7",
   "metadata": {},
   "source": [
    "MSE : 오차의 제곱의 평균"
   ]
  },
  {
   "cell_type": "code",
   "execution_count": 26,
   "id": "b98ed54a",
   "metadata": {},
   "outputs": [],
   "source": [
    "# loss 값 찾는 함수 \n",
    "def loss(x, w, b, y):\n",
    "    prediction = model(x, w, b)\n",
    "    l = MSE(prediction, y)\n",
    "    return l"
   ]
  },
  {
   "cell_type": "markdown",
   "id": "934bedfe",
   "metadata": {},
   "source": [
    "<p style= \"font-size:15px; line-height:24px;\"><b>손실 함수(loss function)</b>: 모델의 예측값과 정답값에 대한 차이를 계산하는 함수<br/>\n",
    "모델을 돌려 예측 값을 predictions 변수에 저장한 후, predictions와 y를 받아 MSE함수를 구동하여 결과값을 변수 l에 저장한다.</p>"
   ]
  },
  {
   "cell_type": "markdown",
   "id": "9ba5d54f",
   "metadata": {},
   "source": [
    "<div style = \"height: 25px;\"></div>"
   ]
  },
  {
   "cell_type": "code",
   "execution_count": 27,
   "id": "6ada2cc5",
   "metadata": {},
   "outputs": [],
   "source": [
    "loss_value = loss(x, w, b, y)"
   ]
  },
  {
   "cell_type": "code",
   "execution_count": 28,
   "id": "fe4ab599",
   "metadata": {},
   "outputs": [
    {
     "data": {
      "text/plain": [
       "28853.633166048512"
      ]
     },
     "execution_count": 28,
     "metadata": {},
     "output_type": "execute_result"
    }
   ],
   "source": [
    "loss_value"
   ]
  },
  {
   "cell_type": "markdown",
   "id": "1f0f2b23",
   "metadata": {},
   "source": [
    "<p style= \"font-size:15px; line-height:24px;\"><span style = 'background-color:#fff5b1; padding:0.2px;'>loss값을 출력해본 결과, 28979.70055280569</span>라는 엄청난 값이 나왔다. <br/>loss값을 줄이기 위해 gradien 함수를 만들어 적용시키고자 한다.</p>"
   ]
  },
  {
   "cell_type": "markdown",
   "id": "83aff019",
   "metadata": {},
   "source": [
    "<div style = \"height: 50px;\"></div>"
   ]
  },
  {
   "cell_type": "markdown",
   "id": "e511da1e",
   "metadata": {},
   "source": [
    "## 7. 기울기를 구하는 gradient 함수 구현하기\n",
    "<hr/>"
   ]
  },
  {
   "cell_type": "code",
   "execution_count": 29,
   "id": "fb1afbd0",
   "metadata": {},
   "outputs": [],
   "source": [
    "def gradient(x, w, b, y):\n",
    "    # n은 가중치의 개수\n",
    "    n = len(w)\n",
    "    \n",
    "    # y_pred 준비\n",
    "    y_pred = model(x, w, b)\n",
    "    \n",
    "    # 공식에 맞게 gradient 계산\n",
    "    dw = 1/n * 2 * x.T.dot(y_pred - y)\n",
    "    \n",
    "    # b의 gradient 계산\n",
    "    db = 2 * (y_pred - y).mean()\n",
    "    return dw, db"
   ]
  },
  {
   "cell_type": "markdown",
   "id": "26e2da66",
   "metadata": {},
   "source": [
    "<div style = \"height: 25px;\"></div>"
   ]
  },
  {
   "cell_type": "markdown",
   "id": "dce28f96",
   "metadata": {},
   "source": [
    "### 경사 계산해보기"
   ]
  },
  {
   "cell_type": "code",
   "execution_count": 30,
   "id": "32411aa3",
   "metadata": {},
   "outputs": [],
   "source": [
    "w, b = gradient(x, w, b, y)"
   ]
  },
  {
   "cell_type": "code",
   "execution_count": 31,
   "id": "c1af9360",
   "metadata": {},
   "outputs": [
    {
     "data": {
      "text/plain": [
       "array([ -60.4826848 ,  -13.62605101, -189.51990495, -142.60861378,\n",
       "        -68.1438503 ,  -55.88315253,  127.57029316, -138.86027118,\n",
       "       -182.72169518, -123.37462319])"
      ]
     },
     "execution_count": 31,
     "metadata": {},
     "output_type": "execute_result"
    }
   ],
   "source": [
    "w"
   ]
  },
  {
   "cell_type": "code",
   "execution_count": 32,
   "id": "bdb5e887",
   "metadata": {},
   "outputs": [
    {
     "data": {
      "text/plain": [
       "-302.88976573044926"
      ]
     },
     "execution_count": 32,
     "metadata": {},
     "output_type": "execute_result"
    }
   ],
   "source": [
    "b"
   ]
  },
  {
   "cell_type": "code",
   "execution_count": 33,
   "id": "38e8ba81",
   "metadata": {},
   "outputs": [
    {
     "name": "stdout",
     "output_type": "stream",
     "text": [
      "217659.83236442407\n"
     ]
    }
   ],
   "source": [
    "print(loss(x, w, b, y))"
   ]
  },
  {
   "cell_type": "markdown",
   "id": "0c67b0b3",
   "metadata": {},
   "source": [
    "<div style = \"height: 50px;\"></div>"
   ]
  },
  {
   "cell_type": "markdown",
   "id": "5a30f1f7",
   "metadata": {},
   "source": [
    "## 8. 하이퍼 파라미터인 학습률 설정하기\n",
    "<hr/>"
   ]
  },
  {
   "cell_type": "markdown",
   "id": "511001ac",
   "metadata": {},
   "source": [
    "### 학습률, learning rate 설정하기"
   ]
  },
  {
   "cell_type": "code",
   "execution_count": 34,
   "id": "c2361e11",
   "metadata": {},
   "outputs": [],
   "source": [
    "# 임의로 learning rate 지정하기\n",
    "learning_rate = 0.0001"
   ]
  },
  {
   "cell_type": "markdown",
   "id": "616b5e14",
   "metadata": {},
   "source": [
    "<div style = \"height: 25px;\"></div>"
   ]
  },
  {
   "cell_type": "markdown",
   "id": "c92c9606",
   "metadata": {},
   "source": [
    "### 학습해보기"
   ]
  },
  {
   "cell_type": "code",
   "execution_count": 35,
   "id": "2564125e",
   "metadata": {},
   "outputs": [
    {
     "name": "stdout",
     "output_type": "stream",
     "text": [
      "Iteration 200 : Loss 201536.29\n",
      "Iteration 400 : Loss 186642.95\n",
      "Iteration 600 : Loss 172885.50\n",
      "Iteration 800 : Loss 160176.87\n"
     ]
    }
   ],
   "source": [
    "# 손실함수값이 반복횟수별로 얼마인지 저장할 리스트\n",
    "losses = []\n",
    "\n",
    "for i in range(1, 1000):\n",
    "    dw, db = gradient(x, w, b, y)\n",
    "    w -= learning_rate * dw\n",
    "    b -= learning_rate * db\n",
    "    l = loss(x, w, b, y)\n",
    "    losses.append(l)\n",
    "    \n",
    "    if i % 200 == 0:\n",
    "        print('Iteration %d : Loss %0.2f' % (i, l))"
   ]
  },
  {
   "cell_type": "markdown",
   "id": "f3168d75",
   "metadata": {},
   "source": [
    "<p style= \"font-size:15px; line-height:24px;\"><span style = 'background-color:#fff5b1; padding:0.2px;'>loss값이 반복을 할수록 조금씩 값이 떨어지는걸 확인할 수 있었다.</span><br/>\n",
    "학습이 성공적으로 이루어지는 것을 확인했으므로, 모델에 직접 적용해보고자 한다.</p>"
   ]
  },
  {
   "cell_type": "markdown",
   "id": "fb3a9b74",
   "metadata": {},
   "source": [
    "<div style = \"height: 50px;\"></div>"
   ]
  },
  {
   "cell_type": "markdown",
   "id": "ec0e152b",
   "metadata": {},
   "source": [
    "## 9. 모델 학습하기\n",
    "<hr/>"
   ]
  },
  {
   "cell_type": "markdown",
   "id": "ee937d0c",
   "metadata": {},
   "source": [
    "### 정의된 손실함수와 기울기 함수로 모델을 학습하기"
   ]
  },
  {
   "cell_type": "code",
   "execution_count": 45,
   "id": "4f7c60c2",
   "metadata": {},
   "outputs": [],
   "source": [
    "# 훈련 데이터 loss값 구하기\n",
    "prediction = model(x_train, w, b)\n",
    "train_mse = loss(x_train, w, b, y_train)"
   ]
  },
  {
   "cell_type": "code",
   "execution_count": 46,
   "id": "cf44304d",
   "metadata": {},
   "outputs": [
    {
     "data": {
      "text/plain": [
       "2871.504406033406"
      ]
     },
     "execution_count": 46,
     "metadata": {},
     "output_type": "execute_result"
    }
   ],
   "source": [
    "# 훈련 데이터의 loss값\n",
    "train_mse"
   ]
  },
  {
   "cell_type": "code",
   "execution_count": 47,
   "id": "15e4bf9d",
   "metadata": {},
   "outputs": [],
   "source": [
    "# 경사 계산해보기\n",
    "w, b = gradient(x_train, dw, db, y_train)"
   ]
  },
  {
   "cell_type": "code",
   "execution_count": 48,
   "id": "72020866",
   "metadata": {},
   "outputs": [
    {
     "data": {
      "text/plain": [
       "array([ -65.68664876,   -3.85914965, -175.95529263, -131.2719106 ,\n",
       "        -46.37304842,  -31.80453383,  110.01003573, -115.73066089,\n",
       "       -158.33577296, -124.31310537])"
      ]
     },
     "execution_count": 48,
     "metadata": {},
     "output_type": "execute_result"
    }
   ],
   "source": [
    "w"
   ]
  },
  {
   "cell_type": "code",
   "execution_count": 49,
   "id": "64b30956",
   "metadata": {},
   "outputs": [
    {
     "data": {
      "text/plain": [
       "-307.4730878484152"
      ]
     },
     "execution_count": 49,
     "metadata": {},
     "output_type": "execute_result"
    }
   ],
   "source": [
    "b"
   ]
  },
  {
   "cell_type": "code",
   "execution_count": 50,
   "id": "7e6dd0e1",
   "metadata": {},
   "outputs": [],
   "source": [
    "# 임의로 learning rate 지정하기\n",
    "learning_rate = 0.1"
   ]
  },
  {
   "cell_type": "code",
   "execution_count": 51,
   "id": "ec9a3ed2",
   "metadata": {},
   "outputs": [
    {
     "name": "stdout",
     "output_type": "stream",
     "text": [
      "Iteration 1000 : Loss 2891.93\n",
      "Iteration 2000 : Loss 2885.95\n",
      "Iteration 3000 : Loss 2881.50\n",
      "Iteration 4000 : Loss 2878.18\n",
      "Iteration 5000 : Loss 2875.72\n",
      "Iteration 6000 : Loss 2873.88\n",
      "Iteration 7000 : Loss 2872.52\n"
     ]
    }
   ],
   "source": [
    "# 모델 학습시키기\n",
    "losses = []\n",
    "for i in range(1, 8000):\n",
    "    dw, db = gradient(x_train, w, b, y_train)\n",
    "    w -= learning_rate * dw\n",
    "    b -= learning_rate * db\n",
    "    l = loss(x_train, w, b, y_train)\n",
    "    losses.append(l)\n",
    "    \n",
    "    if i % 1000 == 0:\n",
    "        print('Iteration %d : Loss %0.2f' % (i, l))"
   ]
  },
  {
   "cell_type": "markdown",
   "id": "8de73fa4",
   "metadata": {},
   "source": [
    "<p style= \"font-size:15px; line-height:24px;\"><span style = 'background-color:#fff5b1;'>learning rate</span>를 <span style = 'background-color:#fff5b1; padding:0.2px;'>0.1로</span> 설정을 한 뒤 <span style = 'background-color:#fff5b1; padding:0.2px;'>훈련</span>을 <span style = 'background-color:#fff5b1; padding:0.2px;'>200</span>번 반복하니, <span style = 'background-color:#fff5b1; padding:0.2px;'>loss값이 3000미만으로 줄은 것을 확인</span>할 수 있었다.</p>"
   ]
  },
  {
   "cell_type": "markdown",
   "id": "8a22fafe",
   "metadata": {},
   "source": [
    "<div style = \"height: 25px;\"></div>"
   ]
  },
  {
   "cell_type": "markdown",
   "id": "ff2b7959",
   "metadata": {},
   "source": [
    "### 훈련 횟수에 따른 loss값 시각화"
   ]
  },
  {
   "cell_type": "code",
   "execution_count": 52,
   "id": "c749111f",
   "metadata": {},
   "outputs": [
    {
     "data": {
      "image/png": "[encoded data removed]",
      "text/plain": [
       "<Figure size 432x288 with 1 Axes>"
      ]
     },
     "metadata": {
      "needs_background": "light"
     },
     "output_type": "display_data"
    }
   ],
   "source": [
    "plt.plot(losses)\n",
    "plt.show()"
   ]
  },
  {
   "cell_type": "markdown",
   "id": "dc55aff9",
   "metadata": {},
   "source": [
    "<div style = \"height: 25px;\"></div>"
   ]
  },
  {
   "cell_type": "markdown",
   "id": "bc1e12fd",
   "metadata": {},
   "source": [
    "### 훈련 데이터의 예측값과 실제값 비교하기"
   ]
  },
  {
   "cell_type": "code",
   "execution_count": 53,
   "id": "81c48c09",
   "metadata": {},
   "outputs": [
    {
     "data": {
      "image/png": "[encoded data removed]",
      "text/plain": [
       "<Figure size 432x288 with 1 Axes>"
      ]
     },
     "metadata": {
      "needs_background": "light"
     },
     "output_type": "display_data"
    }
   ],
   "source": [
    "plt.scatter(x_train[:, 0], y_train)\n",
    "plt.scatter(x_train[:, 0], prediction)\n",
    "plt.xlabel('x_train')\n",
    "plt.ylabel('target & H(x)')\n",
    "plt.show()"
   ]
  },
  {
   "cell_type": "markdown",
   "id": "361d88da",
   "metadata": {},
   "source": [
    "<p style= \"font-size:15px; line-height:24px;\">시각화를 해본 결과, 대체적으로 예측과 실제 데이터가 크게 분리되지 않고 비슷한 걸 확인할 수 있었다.</p>"
   ]
  },
  {
   "cell_type": "markdown",
   "id": "d1540ae6",
   "metadata": {},
   "source": [
    "<div style = \"height: 50px;\"></div>"
   ]
  },
  {
   "cell_type": "markdown",
   "id": "d8bf1e5c",
   "metadata": {},
   "source": [
    "## 10. test 데이터에 대한 성능 확인하기\n",
    "<hr/>"
   ]
  },
  {
   "cell_type": "code",
   "execution_count": 54,
   "id": "6ad4f144",
   "metadata": {},
   "outputs": [],
   "source": [
    "test_prediction = model(x_test, w, b)"
   ]
  },
  {
   "cell_type": "code",
   "execution_count": 55,
   "id": "137ae215",
   "metadata": {},
   "outputs": [
    {
     "data": {
      "text/plain": [
       "array([139.83677779, 180.22395777, 136.14074617, 292.62743708,\n",
       "       122.8506992 ,  92.56027994, 257.95998907, 183.4087076 ,\n",
       "        87.86255587, 109.38802603,  94.41729932, 166.46648586,\n",
       "        57.11665042, 206.15713312,  99.54153437, 131.23047504,\n",
       "       220.36949056, 249.43894146, 196.36043369, 217.24849099,\n",
       "       207.46338982,  88.54314893,  71.0213578 , 188.73383634,\n",
       "       155.45752546, 160.30780916, 188.88794651, 179.19812349,\n",
       "        48.61960591, 109.39638477, 176.8327017 ,  88.14114847,\n",
       "       132.3569995 , 183.15943938, 173.58213152, 190.69767147,\n",
       "       123.58477712, 118.89235278, 146.93248369,  59.71372495,\n",
       "        72.60525015, 107.69346502, 164.24260564, 152.92310042,\n",
       "       172.61954419,  62.91333528,  74.04308912, 112.21347544,\n",
       "        53.9719028 , 165.47410693, 154.23582125,  63.81373831,\n",
       "       107.15950754, 108.7819997 , 173.63228141, 156.67412033,\n",
       "        94.34234778, 209.80666461, 119.49777084,  74.53009924,\n",
       "       186.86149755, 205.25479642, 141.0413536 , 105.34350203,\n",
       "       128.99357403, 202.82825222, 169.65449231, 163.80165269,\n",
       "       122.66921856, 143.33020834, 181.45041541, 197.82872334,\n",
       "       234.65254297, 144.83750005,  80.79811605, 155.04145804,\n",
       "       192.89657869, 207.99782548, 158.22898167, 203.75001193,\n",
       "       109.84289989, 139.81409315,  54.42720904,  55.89175672,\n",
       "       113.69689215,  81.05874494,  81.32086488,  56.95221448,\n",
       "       165.59353678])"
      ]
     },
     "execution_count": 55,
     "metadata": {},
     "output_type": "execute_result"
    }
   ],
   "source": [
    "test_prediction"
   ]
  },
  {
   "cell_type": "code",
   "execution_count": 56,
   "id": "22f5cb35",
   "metadata": {},
   "outputs": [],
   "source": [
    "test_mse = loss(x_test, w, b, y_test)"
   ]
  },
  {
   "cell_type": "code",
   "execution_count": 57,
   "id": "1ec0c4ea",
   "metadata": {},
   "outputs": [
    {
     "data": {
      "text/plain": [
       "2891.646994354035"
      ]
     },
     "execution_count": 57,
     "metadata": {},
     "output_type": "execute_result"
    }
   ],
   "source": [
    "test_mse"
   ]
  },
  {
   "cell_type": "code",
   "execution_count": 58,
   "id": "543a25a5",
   "metadata": {},
   "outputs": [],
   "source": [
    "# 경사 계산해보기\n",
    "w, b = gradient(x_test, w, b, y_test)"
   ]
  },
  {
   "cell_type": "code",
   "execution_count": 59,
   "id": "9671a713",
   "metadata": {},
   "outputs": [
    {
     "data": {
      "text/plain": [
       "array([ 7.55738644,  3.23934627,  4.15153716,  4.37330724, -7.15641494,\n",
       "       -4.14762436, -5.59642272,  1.87107201, -3.47576875, -0.74205172])"
      ]
     },
     "execution_count": 59,
     "metadata": {},
     "output_type": "execute_result"
    }
   ],
   "source": [
    "w"
   ]
  },
  {
   "cell_type": "code",
   "execution_count": 60,
   "id": "d0c2046d",
   "metadata": {},
   "outputs": [
    {
     "data": {
      "text/plain": [
       "-7.960408774399023"
      ]
     },
     "execution_count": 60,
     "metadata": {},
     "output_type": "execute_result"
    }
   ],
   "source": [
    "b"
   ]
  },
  {
   "cell_type": "code",
   "execution_count": 61,
   "id": "c0b8fa84",
   "metadata": {},
   "outputs": [],
   "source": [
    "# 임의로 learning rate 지정하기\n",
    "learning_rate = 0.1"
   ]
  },
  {
   "cell_type": "code",
   "execution_count": 62,
   "id": "227cbbc8",
   "metadata": {},
   "outputs": [
    {
     "name": "stdout",
     "output_type": "stream",
     "text": [
      "Iteration 50 : Loss 3687.22\n",
      "Iteration 100 : Loss 3233.93\n",
      "Iteration 150 : Loss 3044.53\n",
      "Iteration 200 : Loss 2929.60\n",
      "Iteration 250 : Loss 2847.84\n"
     ]
    }
   ],
   "source": [
    "# 모델 학습시키기\n",
    "losses = []\n",
    "for i in range(1, 300):\n",
    "    dw, db = gradient(x_test, w, b, y_test)\n",
    "    w -= learning_rate * dw\n",
    "    b -= learning_rate * db\n",
    "    l = loss(x_test, w, b, y_test)\n",
    "    losses.append(l)\n",
    "    \n",
    "    if i % 50 == 0:\n",
    "        print('Iteration %d : Loss %0.2f' % (i, l))"
   ]
  },
  {
   "cell_type": "markdown",
   "id": "8944debc",
   "metadata": {},
   "source": [
    "<div style = \"height: 25px;\"></div>"
   ]
  },
  {
   "cell_type": "markdown",
   "id": "3d0dc22d",
   "metadata": {},
   "source": [
    "<p style= \"font-size:15px; line-height:24px;\"><span style = 'background-color:#fff5b1;'>learning rate</span>를 <span style = 'background-color:#fff5b1; padding:0.2px;'>0.1로</span> 설정을 한 뒤 <span style = 'background-color:#fff5b1; padding:0.2px;'>훈련</span>을 <span style = 'background-color:#fff5b1; padding:0.2px;'>300</span>번 반복하니, <span style = 'background-color:#fff5b1; padding:0.2px;'>loss값이 3000미만으로 줄은 것을 확인</span>할 수 있었다. <br/>테스트 세트 또한 훈련 세트와 비슷하게 값이 떨어지는 것 같다.</p>"
   ]
  },
  {
   "cell_type": "markdown",
   "id": "e5c44523",
   "metadata": {},
   "source": [
    "<div style = \"height: 25px;\"></div>"
   ]
  },
  {
   "cell_type": "markdown",
   "id": "f1856eaf",
   "metadata": {},
   "source": [
    "### 훈련 횟수에 따른 loss값 시각화"
   ]
  },
  {
   "cell_type": "code",
   "execution_count": 63,
   "id": "7a33df84",
   "metadata": {},
   "outputs": [
    {
     "data": {
      "image/png": "[encoded data removed]",
      "text/plain": [
       "<Figure size 432x288 with 1 Axes>"
      ]
     },
     "metadata": {
      "needs_background": "light"
     },
     "output_type": "display_data"
    }
   ],
   "source": [
    "plt.plot(losses)\n",
    "plt.show()"
   ]
  },
  {
   "cell_type": "markdown",
   "id": "5a60a565",
   "metadata": {},
   "source": [
    "<div style = \"height: 50px;\"></div>"
   ]
  },
  {
   "cell_type": "markdown",
   "id": "ea71abba",
   "metadata": {},
   "source": [
    "## 11. 정답 데이터와 예측한 데이터 시각화하기\n",
    "<hr/>"
   ]
  },
  {
   "cell_type": "code",
   "execution_count": 64,
   "id": "a5b40599",
   "metadata": {},
   "outputs": [
    {
     "data": {
      "image/png": "[encoded data removed]",
      "text/plain": [
       "<Figure size 432x288 with 1 Axes>"
      ]
     },
     "metadata": {
      "needs_background": "light"
     },
     "output_type": "display_data"
    }
   ],
   "source": [
    "plt.scatter(x_test[:, 0], y_test)\n",
    "plt.scatter(x_test[:, 0], test_prediction)\n",
    "plt.xlabel('x_train')\n",
    "plt.ylabel('target & H(x)')\n",
    "plt.show()"
   ]
  },
  {
   "cell_type": "markdown",
   "id": "dc615788",
   "metadata": {},
   "source": [
    "<p style= \"font-size:16px; line-height:30px;\">시각화를 해본 결과, 훈련 데이터와 동일하게<br/>대체적으로 예측과 실제 데이터가 크게 분리되지 않고 비슷한 걸 확인할 수 있었다.</p>"
   ]
  },
  {
   "cell_type": "markdown",
   "id": "802e3a9a",
   "metadata": {},
   "source": [
    "<div style = \"height: 50px;\"></div>"
   ]
  },
  {
   "cell_type": "markdown",
   "id": "cfd3b96c",
   "metadata": {},
   "source": [
    "## 회고\n",
    "<hr/>"
   ]
  },
  {
   "cell_type": "markdown",
   "id": "02254f5b",
   "metadata": {},
   "source": [
    "<p style= \"font-size:16px; line-height:30px;\">늘 모델로 간단하게 구현만 했던 것을 직접적으로 함수로 구현하여 실행시키는 것은 생각보다 어려웠습니다.<br/>\n",
    "원리를 알고 사용해왔다고 생각했는데 python을 이용하여 함수로 구현해보니 그렇지 않다고 생각이 들었습니다. 그래도 천천히 진행해보니 원리도 이해가 되어서 좋았습니다. 앞으로는 함수로 구현하겠지만, 가끔이나마 모델을 돌릴 때 어려운 점이 있으면 이 EXPLORATION에 돌아와서 다시 볼 것 같습니다.</p>"
   ]
  },
  {
   "cell_type": "markdown",
   "id": "daace7d2",
   "metadata": {},
   "source": [
    "<div style = \"height: 50px;\"></div>"
   ]
  },
  {
   "cell_type": "markdown",
   "id": "f3683936",
   "metadata": {},
   "source": [
    "# <span style = \"font-weight:bold;color:#0172d4;\">PROJECT 2</span> : 날씨 좋은 월요일 오후 세 시, 자전거 타는 사람은 몇 명?"
   ]
  },
  {
   "cell_type": "markdown",
   "id": "c90d2e97",
   "metadata": {},
   "source": [
    "## 1. 데이터 가져오기\n",
    "<hr/>"
   ]
  },
  {
   "cell_type": "code",
   "execution_count": 84,
   "id": "a3a0e4df",
   "metadata": {},
   "outputs": [],
   "source": [
    "# 데이터 train변수로 가져오기\n",
    "train = pd.read_csv(\"train.csv\")"
   ]
  },
  {
   "cell_type": "code",
   "execution_count": 85,
   "id": "44f471be",
   "metadata": {},
   "outputs": [
    {
     "data": {
      "text/html": [
       "<div>\n",
       "<style scoped>\n",
       "    .dataframe tbody tr th:only-of-type {\n",
       "        vertical-align: middle;\n",
       "    }\n",
       "\n",
       "    .dataframe tbody tr th {\n",
       "        vertical-align: top;\n",
       "    }\n",
       "\n",
       "    .dataframe thead th {\n",
       "        text-align: right;\n",
       "    }\n",
       "</style>\n",
       "<table border=\"1\" class=\"dataframe\">\n",
       "  <thead>\n",
       "    <tr style=\"text-align: right;\">\n",
       "      <th></th>\n",
       "      <th>datetime</th>\n",
       "      <th>season</th>\n",
       "      <th>holiday</th>\n",
       "      <th>workingday</th>\n",
       "      <th>weather</th>\n",
       "      <th>temp</th>\n",
       "      <th>atemp</th>\n",
       "      <th>humidity</th>\n",
       "      <th>windspeed</th>\n",
       "      <th>casual</th>\n",
       "      <th>registered</th>\n",
       "      <th>count</th>\n",
       "    </tr>\n",
       "  </thead>\n",
       "  <tbody>\n",
       "    <tr>\n",
       "      <th>0</th>\n",
       "      <td>2011-01-01 00:00:00</td>\n",
       "      <td>1</td>\n",
       "      <td>0</td>\n",
       "      <td>0</td>\n",
       "      <td>1</td>\n",
       "      <td>9.84</td>\n",
       "      <td>14.395</td>\n",
       "      <td>81</td>\n",
       "      <td>0.0000</td>\n",
       "      <td>3</td>\n",
       "      <td>13</td>\n",
       "      <td>16</td>\n",
       "    </tr>\n",
       "    <tr>\n",
       "      <th>1</th>\n",
       "      <td>2011-01-01 01:00:00</td>\n",
       "      <td>1</td>\n",
       "      <td>0</td>\n",
       "      <td>0</td>\n",
       "      <td>1</td>\n",
       "      <td>9.02</td>\n",
       "      <td>13.635</td>\n",
       "      <td>80</td>\n",
       "      <td>0.0000</td>\n",
       "      <td>8</td>\n",
       "      <td>32</td>\n",
       "      <td>40</td>\n",
       "    </tr>\n",
       "    <tr>\n",
       "      <th>2</th>\n",
       "      <td>2011-01-01 02:00:00</td>\n",
       "      <td>1</td>\n",
       "      <td>0</td>\n",
       "      <td>0</td>\n",
       "      <td>1</td>\n",
       "      <td>9.02</td>\n",
       "      <td>13.635</td>\n",
       "      <td>80</td>\n",
       "      <td>0.0000</td>\n",
       "      <td>5</td>\n",
       "      <td>27</td>\n",
       "      <td>32</td>\n",
       "    </tr>\n",
       "    <tr>\n",
       "      <th>3</th>\n",
       "      <td>2011-01-01 03:00:00</td>\n",
       "      <td>1</td>\n",
       "      <td>0</td>\n",
       "      <td>0</td>\n",
       "      <td>1</td>\n",
       "      <td>9.84</td>\n",
       "      <td>14.395</td>\n",
       "      <td>75</td>\n",
       "      <td>0.0000</td>\n",
       "      <td>3</td>\n",
       "      <td>10</td>\n",
       "      <td>13</td>\n",
       "    </tr>\n",
       "    <tr>\n",
       "      <th>4</th>\n",
       "      <td>2011-01-01 04:00:00</td>\n",
       "      <td>1</td>\n",
       "      <td>0</td>\n",
       "      <td>0</td>\n",
       "      <td>1</td>\n",
       "      <td>9.84</td>\n",
       "      <td>14.395</td>\n",
       "      <td>75</td>\n",
       "      <td>0.0000</td>\n",
       "      <td>0</td>\n",
       "      <td>1</td>\n",
       "      <td>1</td>\n",
       "    </tr>\n",
       "    <tr>\n",
       "      <th>...</th>\n",
       "      <td>...</td>\n",
       "      <td>...</td>\n",
       "      <td>...</td>\n",
       "      <td>...</td>\n",
       "      <td>...</td>\n",
       "      <td>...</td>\n",
       "      <td>...</td>\n",
       "      <td>...</td>\n",
       "      <td>...</td>\n",
       "      <td>...</td>\n",
       "      <td>...</td>\n",
       "      <td>...</td>\n",
       "    </tr>\n",
       "    <tr>\n",
       "      <th>10881</th>\n",
       "      <td>2012-12-19 19:00:00</td>\n",
       "      <td>4</td>\n",
       "      <td>0</td>\n",
       "      <td>1</td>\n",
       "      <td>1</td>\n",
       "      <td>15.58</td>\n",
       "      <td>19.695</td>\n",
       "      <td>50</td>\n",
       "      <td>26.0027</td>\n",
       "      <td>7</td>\n",
       "      <td>329</td>\n",
       "      <td>336</td>\n",
       "    </tr>\n",
       "    <tr>\n",
       "      <th>10882</th>\n",
       "      <td>2012-12-19 20:00:00</td>\n",
       "      <td>4</td>\n",
       "      <td>0</td>\n",
       "      <td>1</td>\n",
       "      <td>1</td>\n",
       "      <td>14.76</td>\n",
       "      <td>17.425</td>\n",
       "      <td>57</td>\n",
       "      <td>15.0013</td>\n",
       "      <td>10</td>\n",
       "      <td>231</td>\n",
       "      <td>241</td>\n",
       "    </tr>\n",
       "    <tr>\n",
       "      <th>10883</th>\n",
       "      <td>2012-12-19 21:00:00</td>\n",
       "      <td>4</td>\n",
       "      <td>0</td>\n",
       "      <td>1</td>\n",
       "      <td>1</td>\n",
       "      <td>13.94</td>\n",
       "      <td>15.910</td>\n",
       "      <td>61</td>\n",
       "      <td>15.0013</td>\n",
       "      <td>4</td>\n",
       "      <td>164</td>\n",
       "      <td>168</td>\n",
       "    </tr>\n",
       "    <tr>\n",
       "      <th>10884</th>\n",
       "      <td>2012-12-19 22:00:00</td>\n",
       "      <td>4</td>\n",
       "      <td>0</td>\n",
       "      <td>1</td>\n",
       "      <td>1</td>\n",
       "      <td>13.94</td>\n",
       "      <td>17.425</td>\n",
       "      <td>61</td>\n",
       "      <td>6.0032</td>\n",
       "      <td>12</td>\n",
       "      <td>117</td>\n",
       "      <td>129</td>\n",
       "    </tr>\n",
       "    <tr>\n",
       "      <th>10885</th>\n",
       "      <td>2012-12-19 23:00:00</td>\n",
       "      <td>4</td>\n",
       "      <td>0</td>\n",
       "      <td>1</td>\n",
       "      <td>1</td>\n",
       "      <td>13.12</td>\n",
       "      <td>16.665</td>\n",
       "      <td>66</td>\n",
       "      <td>8.9981</td>\n",
       "      <td>4</td>\n",
       "      <td>84</td>\n",
       "      <td>88</td>\n",
       "    </tr>\n",
       "  </tbody>\n",
       "</table>\n",
       "<p>10886 rows × 12 columns</p>\n",
       "</div>"
      ],
      "text/plain": [
       "                  datetime  season  holiday  workingday  weather   temp  \\\n",
       "0      2011-01-01 00:00:00       1        0           0        1   9.84   \n",
       "1      2011-01-01 01:00:00       1        0           0        1   9.02   \n",
       "2      2011-01-01 02:00:00       1        0           0        1   9.02   \n",
       "3      2011-01-01 03:00:00       1        0           0        1   9.84   \n",
       "4      2011-01-01 04:00:00       1        0           0        1   9.84   \n",
       "...                    ...     ...      ...         ...      ...    ...   \n",
       "10881  2012-12-19 19:00:00       4        0           1        1  15.58   \n",
       "10882  2012-12-19 20:00:00       4        0           1        1  14.76   \n",
       "10883  2012-12-19 21:00:00       4        0           1        1  13.94   \n",
       "10884  2012-12-19 22:00:00       4        0           1        1  13.94   \n",
       "10885  2012-12-19 23:00:00       4        0           1        1  13.12   \n",
       "\n",
       "        atemp  humidity  windspeed  casual  registered  count  \n",
       "0      14.395        81     0.0000       3          13     16  \n",
       "1      13.635        80     0.0000       8          32     40  \n",
       "2      13.635        80     0.0000       5          27     32  \n",
       "3      14.395        75     0.0000       3          10     13  \n",
       "4      14.395        75     0.0000       0           1      1  \n",
       "...       ...       ...        ...     ...         ...    ...  \n",
       "10881  19.695        50    26.0027       7         329    336  \n",
       "10882  17.425        57    15.0013      10         231    241  \n",
       "10883  15.910        61    15.0013       4         164    168  \n",
       "10884  17.425        61     6.0032      12         117    129  \n",
       "10885  16.665        66     8.9981       4          84     88  \n",
       "\n",
       "[10886 rows x 12 columns]"
      ]
     },
     "execution_count": 85,
     "metadata": {},
     "output_type": "execute_result"
    }
   ],
   "source": [
    "train"
   ]
  },
  {
   "cell_type": "markdown",
   "id": "5739470f",
   "metadata": {},
   "source": [
    "<div style = \"height: 15px;\"></div>"
   ]
  },
  {
   "cell_type": "markdown",
   "id": "7504755f",
   "metadata": {},
   "source": [
    "## 2. datetime 컬럼을 datetime 자료형으로 변환하고<br/> 연, 월, 일, 시, 분, 초까지 6가지 컬럼 생성하기\n",
    "<hr/>"
   ]
  },
  {
   "cell_type": "markdown",
   "id": "0b001d1e",
   "metadata": {},
   "source": [
    "### datetime 컬럼을 datetime 자료형으로 변환하기"
   ]
  },
  {
   "cell_type": "code",
   "execution_count": 86,
   "id": "c5c3528a",
   "metadata": {},
   "outputs": [],
   "source": [
    "train['datetime'] = pd.to_datetime(train['datetime'])"
   ]
  },
  {
   "cell_type": "code",
   "execution_count": 87,
   "id": "cc225d90",
   "metadata": {},
   "outputs": [
    {
     "data": {
      "text/plain": [
       "0       2011-01-01 00:00:00\n",
       "1       2011-01-01 01:00:00\n",
       "2       2011-01-01 02:00:00\n",
       "3       2011-01-01 03:00:00\n",
       "4       2011-01-01 04:00:00\n",
       "                ...        \n",
       "10881   2012-12-19 19:00:00\n",
       "10882   2012-12-19 20:00:00\n",
       "10883   2012-12-19 21:00:00\n",
       "10884   2012-12-19 22:00:00\n",
       "10885   2012-12-19 23:00:00\n",
       "Name: datetime, Length: 10886, dtype: datetime64[ns]"
      ]
     },
     "execution_count": 87,
     "metadata": {},
     "output_type": "execute_result"
    }
   ],
   "source": [
    "train['datetime']"
   ]
  },
  {
   "cell_type": "markdown",
   "id": "4d44d382",
   "metadata": {},
   "source": [
    "<div style = \"height: 25px;\"></div>"
   ]
  },
  {
   "cell_type": "markdown",
   "id": "ef6432e7",
   "metadata": {},
   "source": [
    "### 컬럼 생성하기 "
   ]
  },
  {
   "cell_type": "code",
   "execution_count": 88,
   "id": "580148e4",
   "metadata": {},
   "outputs": [],
   "source": [
    "year = train['datetime'].dt.year # 연도 정보\n",
    "month = train['datetime'].dt.month # 월 정보\n",
    "day = train['datetime'].dt.day # 일 정보\n",
    "hour = train['datetime'].dt.hour # 시간 정보\n",
    "minute = train['datetime'].dt.minute # 분 정보\n",
    "second = train['datetime'].dt.second # 초 정보"
   ]
  },
  {
   "cell_type": "code",
   "execution_count": 89,
   "id": "21d3a31e",
   "metadata": {},
   "outputs": [],
   "source": [
    "train['year'] = year\n",
    "train['month'] = month\n",
    "train['day'] = day\n",
    "train['hour'] = hour\n",
    "train['minute'] = minute\n",
    "train['second'] = second"
   ]
  },
  {
   "cell_type": "code",
   "execution_count": 90,
   "id": "f023ac1b",
   "metadata": {},
   "outputs": [
    {
     "data": {
      "text/html": [
       "<div>\n",
       "<style scoped>\n",
       "    .dataframe tbody tr th:only-of-type {\n",
       "        vertical-align: middle;\n",
       "    }\n",
       "\n",
       "    .dataframe tbody tr th {\n",
       "        vertical-align: top;\n",
       "    }\n",
       "\n",
       "    .dataframe thead th {\n",
       "        text-align: right;\n",
       "    }\n",
       "</style>\n",
       "<table border=\"1\" class=\"dataframe\">\n",
       "  <thead>\n",
       "    <tr style=\"text-align: right;\">\n",
       "      <th></th>\n",
       "      <th>datetime</th>\n",
       "      <th>season</th>\n",
       "      <th>holiday</th>\n",
       "      <th>workingday</th>\n",
       "      <th>weather</th>\n",
       "      <th>temp</th>\n",
       "      <th>atemp</th>\n",
       "      <th>humidity</th>\n",
       "      <th>windspeed</th>\n",
       "      <th>casual</th>\n",
       "      <th>registered</th>\n",
       "      <th>count</th>\n",
       "      <th>year</th>\n",
       "      <th>month</th>\n",
       "      <th>day</th>\n",
       "      <th>hour</th>\n",
       "      <th>minute</th>\n",
       "      <th>second</th>\n",
       "    </tr>\n",
       "  </thead>\n",
       "  <tbody>\n",
       "    <tr>\n",
       "      <th>0</th>\n",
       "      <td>2011-01-01 00:00:00</td>\n",
       "      <td>1</td>\n",
       "      <td>0</td>\n",
       "      <td>0</td>\n",
       "      <td>1</td>\n",
       "      <td>9.84</td>\n",
       "      <td>14.395</td>\n",
       "      <td>81</td>\n",
       "      <td>0.0000</td>\n",
       "      <td>3</td>\n",
       "      <td>13</td>\n",
       "      <td>16</td>\n",
       "      <td>2011</td>\n",
       "      <td>1</td>\n",
       "      <td>1</td>\n",
       "      <td>0</td>\n",
       "      <td>0</td>\n",
       "      <td>0</td>\n",
       "    </tr>\n",
       "    <tr>\n",
       "      <th>1</th>\n",
       "      <td>2011-01-01 01:00:00</td>\n",
       "      <td>1</td>\n",
       "      <td>0</td>\n",
       "      <td>0</td>\n",
       "      <td>1</td>\n",
       "      <td>9.02</td>\n",
       "      <td>13.635</td>\n",
       "      <td>80</td>\n",
       "      <td>0.0000</td>\n",
       "      <td>8</td>\n",
       "      <td>32</td>\n",
       "      <td>40</td>\n",
       "      <td>2011</td>\n",
       "      <td>1</td>\n",
       "      <td>1</td>\n",
       "      <td>1</td>\n",
       "      <td>0</td>\n",
       "      <td>0</td>\n",
       "    </tr>\n",
       "    <tr>\n",
       "      <th>2</th>\n",
       "      <td>2011-01-01 02:00:00</td>\n",
       "      <td>1</td>\n",
       "      <td>0</td>\n",
       "      <td>0</td>\n",
       "      <td>1</td>\n",
       "      <td>9.02</td>\n",
       "      <td>13.635</td>\n",
       "      <td>80</td>\n",
       "      <td>0.0000</td>\n",
       "      <td>5</td>\n",
       "      <td>27</td>\n",
       "      <td>32</td>\n",
       "      <td>2011</td>\n",
       "      <td>1</td>\n",
       "      <td>1</td>\n",
       "      <td>2</td>\n",
       "      <td>0</td>\n",
       "      <td>0</td>\n",
       "    </tr>\n",
       "    <tr>\n",
       "      <th>3</th>\n",
       "      <td>2011-01-01 03:00:00</td>\n",
       "      <td>1</td>\n",
       "      <td>0</td>\n",
       "      <td>0</td>\n",
       "      <td>1</td>\n",
       "      <td>9.84</td>\n",
       "      <td>14.395</td>\n",
       "      <td>75</td>\n",
       "      <td>0.0000</td>\n",
       "      <td>3</td>\n",
       "      <td>10</td>\n",
       "      <td>13</td>\n",
       "      <td>2011</td>\n",
       "      <td>1</td>\n",
       "      <td>1</td>\n",
       "      <td>3</td>\n",
       "      <td>0</td>\n",
       "      <td>0</td>\n",
       "    </tr>\n",
       "    <tr>\n",
       "      <th>4</th>\n",
       "      <td>2011-01-01 04:00:00</td>\n",
       "      <td>1</td>\n",
       "      <td>0</td>\n",
       "      <td>0</td>\n",
       "      <td>1</td>\n",
       "      <td>9.84</td>\n",
       "      <td>14.395</td>\n",
       "      <td>75</td>\n",
       "      <td>0.0000</td>\n",
       "      <td>0</td>\n",
       "      <td>1</td>\n",
       "      <td>1</td>\n",
       "      <td>2011</td>\n",
       "      <td>1</td>\n",
       "      <td>1</td>\n",
       "      <td>4</td>\n",
       "      <td>0</td>\n",
       "      <td>0</td>\n",
       "    </tr>\n",
       "    <tr>\n",
       "      <th>...</th>\n",
       "      <td>...</td>\n",
       "      <td>...</td>\n",
       "      <td>...</td>\n",
       "      <td>...</td>\n",
       "      <td>...</td>\n",
       "      <td>...</td>\n",
       "      <td>...</td>\n",
       "      <td>...</td>\n",
       "      <td>...</td>\n",
       "      <td>...</td>\n",
       "      <td>...</td>\n",
       "      <td>...</td>\n",
       "      <td>...</td>\n",
       "      <td>...</td>\n",
       "      <td>...</td>\n",
       "      <td>...</td>\n",
       "      <td>...</td>\n",
       "      <td>...</td>\n",
       "    </tr>\n",
       "    <tr>\n",
       "      <th>10881</th>\n",
       "      <td>2012-12-19 19:00:00</td>\n",
       "      <td>4</td>\n",
       "      <td>0</td>\n",
       "      <td>1</td>\n",
       "      <td>1</td>\n",
       "      <td>15.58</td>\n",
       "      <td>19.695</td>\n",
       "      <td>50</td>\n",
       "      <td>26.0027</td>\n",
       "      <td>7</td>\n",
       "      <td>329</td>\n",
       "      <td>336</td>\n",
       "      <td>2012</td>\n",
       "      <td>12</td>\n",
       "      <td>19</td>\n",
       "      <td>19</td>\n",
       "      <td>0</td>\n",
       "      <td>0</td>\n",
       "    </tr>\n",
       "    <tr>\n",
       "      <th>10882</th>\n",
       "      <td>2012-12-19 20:00:00</td>\n",
       "      <td>4</td>\n",
       "      <td>0</td>\n",
       "      <td>1</td>\n",
       "      <td>1</td>\n",
       "      <td>14.76</td>\n",
       "      <td>17.425</td>\n",
       "      <td>57</td>\n",
       "      <td>15.0013</td>\n",
       "      <td>10</td>\n",
       "      <td>231</td>\n",
       "      <td>241</td>\n",
       "      <td>2012</td>\n",
       "      <td>12</td>\n",
       "      <td>19</td>\n",
       "      <td>20</td>\n",
       "      <td>0</td>\n",
       "      <td>0</td>\n",
       "    </tr>\n",
       "    <tr>\n",
       "      <th>10883</th>\n",
       "      <td>2012-12-19 21:00:00</td>\n",
       "      <td>4</td>\n",
       "      <td>0</td>\n",
       "      <td>1</td>\n",
       "      <td>1</td>\n",
       "      <td>13.94</td>\n",
       "      <td>15.910</td>\n",
       "      <td>61</td>\n",
       "      <td>15.0013</td>\n",
       "      <td>4</td>\n",
       "      <td>164</td>\n",
       "      <td>168</td>\n",
       "      <td>2012</td>\n",
       "      <td>12</td>\n",
       "      <td>19</td>\n",
       "      <td>21</td>\n",
       "      <td>0</td>\n",
       "      <td>0</td>\n",
       "    </tr>\n",
       "    <tr>\n",
       "      <th>10884</th>\n",
       "      <td>2012-12-19 22:00:00</td>\n",
       "      <td>4</td>\n",
       "      <td>0</td>\n",
       "      <td>1</td>\n",
       "      <td>1</td>\n",
       "      <td>13.94</td>\n",
       "      <td>17.425</td>\n",
       "      <td>61</td>\n",
       "      <td>6.0032</td>\n",
       "      <td>12</td>\n",
       "      <td>117</td>\n",
       "      <td>129</td>\n",
       "      <td>2012</td>\n",
       "      <td>12</td>\n",
       "      <td>19</td>\n",
       "      <td>22</td>\n",
       "      <td>0</td>\n",
       "      <td>0</td>\n",
       "    </tr>\n",
       "    <tr>\n",
       "      <th>10885</th>\n",
       "      <td>2012-12-19 23:00:00</td>\n",
       "      <td>4</td>\n",
       "      <td>0</td>\n",
       "      <td>1</td>\n",
       "      <td>1</td>\n",
       "      <td>13.12</td>\n",
       "      <td>16.665</td>\n",
       "      <td>66</td>\n",
       "      <td>8.9981</td>\n",
       "      <td>4</td>\n",
       "      <td>84</td>\n",
       "      <td>88</td>\n",
       "      <td>2012</td>\n",
       "      <td>12</td>\n",
       "      <td>19</td>\n",
       "      <td>23</td>\n",
       "      <td>0</td>\n",
       "      <td>0</td>\n",
       "    </tr>\n",
       "  </tbody>\n",
       "</table>\n",
       "<p>10886 rows × 18 columns</p>\n",
       "</div>"
      ],
      "text/plain": [
       "                 datetime  season  holiday  workingday  weather   temp  \\\n",
       "0     2011-01-01 00:00:00       1        0           0        1   9.84   \n",
       "1     2011-01-01 01:00:00       1        0           0        1   9.02   \n",
       "2     2011-01-01 02:00:00       1        0           0        1   9.02   \n",
       "3     2011-01-01 03:00:00       1        0           0        1   9.84   \n",
       "4     2011-01-01 04:00:00       1        0           0        1   9.84   \n",
       "...                   ...     ...      ...         ...      ...    ...   \n",
       "10881 2012-12-19 19:00:00       4        0           1        1  15.58   \n",
       "10882 2012-12-19 20:00:00       4        0           1        1  14.76   \n",
       "10883 2012-12-19 21:00:00       4        0           1        1  13.94   \n",
       "10884 2012-12-19 22:00:00       4        0           1        1  13.94   \n",
       "10885 2012-12-19 23:00:00       4        0           1        1  13.12   \n",
       "\n",
       "        atemp  humidity  windspeed  casual  registered  count  year  month  \\\n",
       "0      14.395        81     0.0000       3          13     16  2011      1   \n",
       "1      13.635        80     0.0000       8          32     40  2011      1   \n",
       "2      13.635        80     0.0000       5          27     32  2011      1   \n",
       "3      14.395        75     0.0000       3          10     13  2011      1   \n",
       "4      14.395        75     0.0000       0           1      1  2011      1   \n",
       "...       ...       ...        ...     ...         ...    ...   ...    ...   \n",
       "10881  19.695        50    26.0027       7         329    336  2012     12   \n",
       "10882  17.425        57    15.0013      10         231    241  2012     12   \n",
       "10883  15.910        61    15.0013       4         164    168  2012     12   \n",
       "10884  17.425        61     6.0032      12         117    129  2012     12   \n",
       "10885  16.665        66     8.9981       4          84     88  2012     12   \n",
       "\n",
       "       day  hour  minute  second  \n",
       "0        1     0       0       0  \n",
       "1        1     1       0       0  \n",
       "2        1     2       0       0  \n",
       "3        1     3       0       0  \n",
       "4        1     4       0       0  \n",
       "...    ...   ...     ...     ...  \n",
       "10881   19    19       0       0  \n",
       "10882   19    20       0       0  \n",
       "10883   19    21       0       0  \n",
       "10884   19    22       0       0  \n",
       "10885   19    23       0       0  \n",
       "\n",
       "[10886 rows x 18 columns]"
      ]
     },
     "execution_count": 90,
     "metadata": {},
     "output_type": "execute_result"
    }
   ],
   "source": [
    "train"
   ]
  },
  {
   "cell_type": "markdown",
   "id": "3e5286ab",
   "metadata": {},
   "source": [
    "<p style= \"font-size:15px; line-height:24px;\">모든 <span style = 'background-color:#fff5b1; padding:0.2px;'>count</span>의 값이 <span style = 'background-color:#fff5b1; padding:0.2px;'>casual과 registered의 합</span>인 것을 확인하였다.<br/>\n",
    "이 후 x에 casual과 registered을 넣고 모델을 돌려본 결과, rmse가 100%가 나왔다.<br/>\n",
    "casual과 registered을 제외하고 모델을 돌려본 결과로는 153가 나왔으므로, <span style = 'background-color:#fff5b1; padding:0.2px;'>x에 casual과 registered를 제외할 것이다.</span></p>"
   ]
  },
  {
   "cell_type": "markdown",
   "id": "aabfcaf2",
   "metadata": {},
   "source": [
    "<div style = \"height: 50px;\"></div>"
   ]
  },
  {
   "cell_type": "markdown",
   "id": "da51b173",
   "metadata": {},
   "source": [
    "## 3. year, month, day, hour, minute, second 데이터 개수 시각화하기\n",
    "<hr/>"
   ]
  },
  {
   "cell_type": "code",
   "execution_count": 91,
   "id": "aafaa5de",
   "metadata": {
    "scrolled": false
   },
   "outputs": [
    {
     "data": {
      "text/plain": [
       "[Text(0.5, 1.0, 'second'), Text(0.5, 0, ''), Text(0, 0.5, '')]"
      ]
     },
     "execution_count": 91,
     "metadata": {},
     "output_type": "execute_result"
    },
    {
     "data": {
      "image/png": "[encoded data removed]",
      "text/plain": [
       "<Figure size 576x1296 with 6 Axes>"
      ]
     },
     "metadata": {},
     "output_type": "display_data"
    }
   ],
   "source": [
    "sns.set(rc = {'figure.figsize':(8,18)})\n",
    "\n",
    "plt.subplot(6,1,1)\n",
    "sns.countplot(x = year, data = train).set(title = 'year', xlabel = \"\", ylabel = \"\")\n",
    "plt.tight_layout(pad = 1.08, h_pad = 3)\n",
    "\n",
    "plt.subplot(6,1,2)\n",
    "sns.countplot(x = month, data = train).set(title = 'month', xlabel = \"\", ylabel = \"\")\n",
    "plt.tight_layout(pad = 1.08, h_pad = 3)\n",
    "\n",
    "plt.subplot(6,1,3)\n",
    "sns.countplot(x = day, data = train).set(title = 'day', xlabel = \"\", ylabel = \"\")\n",
    "plt.tight_layout(pad = 1.08, h_pad = 3)\n",
    "\n",
    "plt.subplot(6,1,4)\n",
    "sns.countplot(x = hour, data = train).set(title = 'hour', xlabel = \"\", ylabel = \"\")\n",
    "plt.tight_layout(pad = 1.08, h_pad = 3)\n",
    "\n",
    "plt.subplot(6,1,5)\n",
    "sns.countplot(x = minute, data = train).set(title = 'minute', xlabel = \"\", ylabel = \"\")\n",
    "plt.tight_layout(pad = 1.08, h_pad = 3)\n",
    "\n",
    "plt.subplot(6,1,6)\n",
    "sns.countplot(x = second, data = train).set(title = 'second', xlabel = \"\", ylabel = \"\")"
   ]
  },
  {
   "cell_type": "markdown",
   "id": "7be58385",
   "metadata": {},
   "source": [
    "<p style= \"font-size:15px; line-height:24px;\">그래프로 시각화해본 결과, minute, second 데이터는 0밖에 없으므로, 불필요한 데이터로 생각된다.<br/>\n",
    "따라서, <span style = 'background-color:#fff5b1; padding:0.2px;'>x에서 minute, second 데이터는 제외한다.</span></p>"
   ]
  },
  {
   "cell_type": "markdown",
   "id": "fbc3d4e6",
   "metadata": {},
   "source": [
    "<div style = \"height: 50px;\"></div>"
   ]
  },
  {
   "cell_type": "markdown",
   "id": "e7ea4f38",
   "metadata": {},
   "source": [
    "## 4. X, y 컬럼 선택 및 train/test 데이터 분리\n",
    "<hr/>"
   ]
  },
  {
   "cell_type": "markdown",
   "id": "5ad3c19d",
   "metadata": {},
   "source": [
    "### datetime에서 요일 분리하기"
   ]
  },
  {
   "cell_type": "markdown",
   "id": "39d6c08f",
   "metadata": {},
   "source": [
    "<p style= \"font-size:15px; line-height:24px;\">모델을 돌려 월요일 3시에 자전거를 타는 사람을 예측하고자 하므로, datetime에서 <span style = 'background-color:#fff5b1; padding:0.2px;'>요일별로 분리</span>하고자 한다.</p>"
   ]
  },
  {
   "cell_type": "code",
   "execution_count": 92,
   "id": "cb8b21a8",
   "metadata": {},
   "outputs": [],
   "source": [
    "train['week'] = train['datetime'].dt.dayofweek"
   ]
  },
  {
   "cell_type": "code",
   "execution_count": 93,
   "id": "fd2bf4d4",
   "metadata": {},
   "outputs": [
    {
     "data": {
      "text/plain": [
       "array([5, 6, 0, 1, 2, 3, 4])"
      ]
     },
     "execution_count": 93,
     "metadata": {},
     "output_type": "execute_result"
    }
   ],
   "source": [
    "train['week'].unique()"
   ]
  },
  {
   "cell_type": "markdown",
   "id": "fd789d64",
   "metadata": {},
   "source": [
    "<div style = \"height: 25px;\"></div>"
   ]
  },
  {
   "cell_type": "markdown",
   "id": "fdcde3b4",
   "metadata": {},
   "source": [
    "### dayofweek란?"
   ]
  },
  {
   "cell_type": "markdown",
   "id": "2f82ec19",
   "metadata": {},
   "source": [
    "<p style= \"font-size:15px; line-height:24px;\">datetime 데이터에서 <span style = 'background-color:#fff5b1; padding:0.2px;'>요일</span>을 반환한다. 주가 월요일에 시작하여 0으로 표시되고 일요일에 6으로 표시가 된다.</p>"
   ]
  },
  {
   "cell_type": "markdown",
   "id": "a2314701",
   "metadata": {},
   "source": [
    "<table style=\"float:left; font-size:13px; text-align:center;\">\n",
    "    <th style = \"text-align:center;\">번호</th>\n",
    "    <th style = \"text-align:center;\">요일</th>\n",
    "    <tr>      \n",
    "        <td style = \"text-align:center;\">0</td>\n",
    "        <td style = \"text-align:center;\">월요일</td>\n",
    "    </tr>\n",
    "    <tr>\n",
    "        <td style = \"text-align:center;\">1</td>\n",
    "        <td style = \"text-align:center;\">화요일</td>\n",
    "    </tr>\n",
    "    <tr>\n",
    "        <td style = \"text-align:center;\">2</td>\n",
    "        <td style = \"text-align:center;\">수요일</td>\n",
    "    </tr>\n",
    "    <tr>\n",
    "        <td style = \"text-align:center;\">3</td>\n",
    "        <td style = \"text-align:center;\">목요일</td>\n",
    "    </tr>\n",
    "    <tr>\n",
    "        <td style = \"text-align:center;\">4</td>\n",
    "        <td style = \"text-align:center;\">금요일</td>\n",
    "    </tr>\n",
    "    <tr>\n",
    "        <td style = \"text-align:center;\">5</td>\n",
    "        <td style = \"text-align:center;\">토요일</td>\n",
    "    </tr>\n",
    "    <tr>\n",
    "        <td style = \"text-align:center;\">6</td>\n",
    "        <td style = \"text-align:center;\">일요일</td>\n",
    "    </tr>\n",
    "    \n",
    "</table>"
   ]
  },
  {
   "cell_type": "markdown",
   "id": "a1f8b532",
   "metadata": {},
   "source": [
    "<div style = \"height: 25px;\"></div>"
   ]
  },
  {
   "cell_type": "markdown",
   "id": "77257037",
   "metadata": {},
   "source": [
    "### 불필요한 데이터 판단하기 - (1) 데이터 확인하기"
   ]
  },
  {
   "cell_type": "code",
   "execution_count": 94,
   "id": "513f84c7",
   "metadata": {},
   "outputs": [
    {
     "name": "stdout",
     "output_type": "stream",
     "text": [
      "<class 'pandas.core.frame.DataFrame'>\n",
      "RangeIndex: 10886 entries, 0 to 10885\n",
      "Data columns (total 19 columns):\n",
      " #   Column      Non-Null Count  Dtype         \n",
      "---  ------      --------------  -----         \n",
      " 0   datetime    10886 non-null  datetime64[ns]\n",
      " 1   season      10886 non-null  int64         \n",
      " 2   holiday     10886 non-null  int64         \n",
      " 3   workingday  10886 non-null  int64         \n",
      " 4   weather     10886 non-null  int64         \n",
      " 5   temp        10886 non-null  float64       \n",
      " 6   atemp       10886 non-null  float64       \n",
      " 7   humidity    10886 non-null  int64         \n",
      " 8   windspeed   10886 non-null  float64       \n",
      " 9   casual      10886 non-null  int64         \n",
      " 10  registered  10886 non-null  int64         \n",
      " 11  count       10886 non-null  int64         \n",
      " 12  year        10886 non-null  int64         \n",
      " 13  month       10886 non-null  int64         \n",
      " 14  day         10886 non-null  int64         \n",
      " 15  hour        10886 non-null  int64         \n",
      " 16  minute      10886 non-null  int64         \n",
      " 17  second      10886 non-null  int64         \n",
      " 18  week        10886 non-null  int64         \n",
      "dtypes: datetime64[ns](1), float64(3), int64(15)\n",
      "memory usage: 1.6 MB\n"
     ]
    }
   ],
   "source": [
    "train.info()"
   ]
  },
  {
   "cell_type": "code",
   "execution_count": 95,
   "id": "de0cb548",
   "metadata": {},
   "outputs": [
    {
     "data": {
      "text/html": [
       "<div>\n",
       "<style scoped>\n",
       "    .dataframe tbody tr th:only-of-type {\n",
       "        vertical-align: middle;\n",
       "    }\n",
       "\n",
       "    .dataframe tbody tr th {\n",
       "        vertical-align: top;\n",
       "    }\n",
       "\n",
       "    .dataframe thead th {\n",
       "        text-align: right;\n",
       "    }\n",
       "</style>\n",
       "<table border=\"1\" class=\"dataframe\">\n",
       "  <thead>\n",
       "    <tr style=\"text-align: right;\">\n",
       "      <th></th>\n",
       "      <th>season</th>\n",
       "      <th>holiday</th>\n",
       "      <th>workingday</th>\n",
       "      <th>weather</th>\n",
       "      <th>temp</th>\n",
       "      <th>atemp</th>\n",
       "      <th>humidity</th>\n",
       "      <th>windspeed</th>\n",
       "      <th>casual</th>\n",
       "      <th>registered</th>\n",
       "      <th>count</th>\n",
       "      <th>year</th>\n",
       "      <th>month</th>\n",
       "      <th>day</th>\n",
       "      <th>hour</th>\n",
       "      <th>minute</th>\n",
       "      <th>second</th>\n",
       "      <th>week</th>\n",
       "    </tr>\n",
       "  </thead>\n",
       "  <tbody>\n",
       "    <tr>\n",
       "      <th>count</th>\n",
       "      <td>10886.000000</td>\n",
       "      <td>10886.000000</td>\n",
       "      <td>10886.000000</td>\n",
       "      <td>10886.000000</td>\n",
       "      <td>10886.00000</td>\n",
       "      <td>10886.000000</td>\n",
       "      <td>10886.000000</td>\n",
       "      <td>10886.000000</td>\n",
       "      <td>10886.000000</td>\n",
       "      <td>10886.000000</td>\n",
       "      <td>10886.000000</td>\n",
       "      <td>10886.000000</td>\n",
       "      <td>10886.000000</td>\n",
       "      <td>10886.000000</td>\n",
       "      <td>10886.000000</td>\n",
       "      <td>10886.0</td>\n",
       "      <td>10886.0</td>\n",
       "      <td>10886.000000</td>\n",
       "    </tr>\n",
       "    <tr>\n",
       "      <th>mean</th>\n",
       "      <td>2.506614</td>\n",
       "      <td>0.028569</td>\n",
       "      <td>0.680875</td>\n",
       "      <td>1.418427</td>\n",
       "      <td>20.23086</td>\n",
       "      <td>23.655084</td>\n",
       "      <td>61.886460</td>\n",
       "      <td>12.799395</td>\n",
       "      <td>36.021955</td>\n",
       "      <td>155.552177</td>\n",
       "      <td>191.574132</td>\n",
       "      <td>2011.501929</td>\n",
       "      <td>6.521495</td>\n",
       "      <td>9.992559</td>\n",
       "      <td>11.541613</td>\n",
       "      <td>0.0</td>\n",
       "      <td>0.0</td>\n",
       "      <td>3.013963</td>\n",
       "    </tr>\n",
       "    <tr>\n",
       "      <th>std</th>\n",
       "      <td>1.116174</td>\n",
       "      <td>0.166599</td>\n",
       "      <td>0.466159</td>\n",
       "      <td>0.633839</td>\n",
       "      <td>7.79159</td>\n",
       "      <td>8.474601</td>\n",
       "      <td>19.245033</td>\n",
       "      <td>8.164537</td>\n",
       "      <td>49.960477</td>\n",
       "      <td>151.039033</td>\n",
       "      <td>181.144454</td>\n",
       "      <td>0.500019</td>\n",
       "      <td>3.444373</td>\n",
       "      <td>5.476608</td>\n",
       "      <td>6.915838</td>\n",
       "      <td>0.0</td>\n",
       "      <td>0.0</td>\n",
       "      <td>2.004585</td>\n",
       "    </tr>\n",
       "    <tr>\n",
       "      <th>min</th>\n",
       "      <td>1.000000</td>\n",
       "      <td>0.000000</td>\n",
       "      <td>0.000000</td>\n",
       "      <td>1.000000</td>\n",
       "      <td>0.82000</td>\n",
       "      <td>0.760000</td>\n",
       "      <td>0.000000</td>\n",
       "      <td>0.000000</td>\n",
       "      <td>0.000000</td>\n",
       "      <td>0.000000</td>\n",
       "      <td>1.000000</td>\n",
       "      <td>2011.000000</td>\n",
       "      <td>1.000000</td>\n",
       "      <td>1.000000</td>\n",
       "      <td>0.000000</td>\n",
       "      <td>0.0</td>\n",
       "      <td>0.0</td>\n",
       "      <td>0.000000</td>\n",
       "    </tr>\n",
       "    <tr>\n",
       "      <th>25%</th>\n",
       "      <td>2.000000</td>\n",
       "      <td>0.000000</td>\n",
       "      <td>0.000000</td>\n",
       "      <td>1.000000</td>\n",
       "      <td>13.94000</td>\n",
       "      <td>16.665000</td>\n",
       "      <td>47.000000</td>\n",
       "      <td>7.001500</td>\n",
       "      <td>4.000000</td>\n",
       "      <td>36.000000</td>\n",
       "      <td>42.000000</td>\n",
       "      <td>2011.000000</td>\n",
       "      <td>4.000000</td>\n",
       "      <td>5.000000</td>\n",
       "      <td>6.000000</td>\n",
       "      <td>0.0</td>\n",
       "      <td>0.0</td>\n",
       "      <td>1.000000</td>\n",
       "    </tr>\n",
       "    <tr>\n",
       "      <th>50%</th>\n",
       "      <td>3.000000</td>\n",
       "      <td>0.000000</td>\n",
       "      <td>1.000000</td>\n",
       "      <td>1.000000</td>\n",
       "      <td>20.50000</td>\n",
       "      <td>24.240000</td>\n",
       "      <td>62.000000</td>\n",
       "      <td>12.998000</td>\n",
       "      <td>17.000000</td>\n",
       "      <td>118.000000</td>\n",
       "      <td>145.000000</td>\n",
       "      <td>2012.000000</td>\n",
       "      <td>7.000000</td>\n",
       "      <td>10.000000</td>\n",
       "      <td>12.000000</td>\n",
       "      <td>0.0</td>\n",
       "      <td>0.0</td>\n",
       "      <td>3.000000</td>\n",
       "    </tr>\n",
       "    <tr>\n",
       "      <th>75%</th>\n",
       "      <td>4.000000</td>\n",
       "      <td>0.000000</td>\n",
       "      <td>1.000000</td>\n",
       "      <td>2.000000</td>\n",
       "      <td>26.24000</td>\n",
       "      <td>31.060000</td>\n",
       "      <td>77.000000</td>\n",
       "      <td>16.997900</td>\n",
       "      <td>49.000000</td>\n",
       "      <td>222.000000</td>\n",
       "      <td>284.000000</td>\n",
       "      <td>2012.000000</td>\n",
       "      <td>10.000000</td>\n",
       "      <td>15.000000</td>\n",
       "      <td>18.000000</td>\n",
       "      <td>0.0</td>\n",
       "      <td>0.0</td>\n",
       "      <td>5.000000</td>\n",
       "    </tr>\n",
       "    <tr>\n",
       "      <th>max</th>\n",
       "      <td>4.000000</td>\n",
       "      <td>1.000000</td>\n",
       "      <td>1.000000</td>\n",
       "      <td>4.000000</td>\n",
       "      <td>41.00000</td>\n",
       "      <td>45.455000</td>\n",
       "      <td>100.000000</td>\n",
       "      <td>56.996900</td>\n",
       "      <td>367.000000</td>\n",
       "      <td>886.000000</td>\n",
       "      <td>977.000000</td>\n",
       "      <td>2012.000000</td>\n",
       "      <td>12.000000</td>\n",
       "      <td>19.000000</td>\n",
       "      <td>23.000000</td>\n",
       "      <td>0.0</td>\n",
       "      <td>0.0</td>\n",
       "      <td>6.000000</td>\n",
       "    </tr>\n",
       "  </tbody>\n",
       "</table>\n",
       "</div>"
      ],
      "text/plain": [
       "             season       holiday    workingday       weather         temp  \\\n",
       "count  10886.000000  10886.000000  10886.000000  10886.000000  10886.00000   \n",
       "mean       2.506614      0.028569      0.680875      1.418427     20.23086   \n",
       "std        1.116174      0.166599      0.466159      0.633839      7.79159   \n",
       "min        1.000000      0.000000      0.000000      1.000000      0.82000   \n",
       "25%        2.000000      0.000000      0.000000      1.000000     13.94000   \n",
       "50%        3.000000      0.000000      1.000000      1.000000     20.50000   \n",
       "75%        4.000000      0.000000      1.000000      2.000000     26.24000   \n",
       "max        4.000000      1.000000      1.000000      4.000000     41.00000   \n",
       "\n",
       "              atemp      humidity     windspeed        casual    registered  \\\n",
       "count  10886.000000  10886.000000  10886.000000  10886.000000  10886.000000   \n",
       "mean      23.655084     61.886460     12.799395     36.021955    155.552177   \n",
       "std        8.474601     19.245033      8.164537     49.960477    151.039033   \n",
       "min        0.760000      0.000000      0.000000      0.000000      0.000000   \n",
       "25%       16.665000     47.000000      7.001500      4.000000     36.000000   \n",
       "50%       24.240000     62.000000     12.998000     17.000000    118.000000   \n",
       "75%       31.060000     77.000000     16.997900     49.000000    222.000000   \n",
       "max       45.455000    100.000000     56.996900    367.000000    886.000000   \n",
       "\n",
       "              count          year         month           day          hour  \\\n",
       "count  10886.000000  10886.000000  10886.000000  10886.000000  10886.000000   \n",
       "mean     191.574132   2011.501929      6.521495      9.992559     11.541613   \n",
       "std      181.144454      0.500019      3.444373      5.476608      6.915838   \n",
       "min        1.000000   2011.000000      1.000000      1.000000      0.000000   \n",
       "25%       42.000000   2011.000000      4.000000      5.000000      6.000000   \n",
       "50%      145.000000   2012.000000      7.000000     10.000000     12.000000   \n",
       "75%      284.000000   2012.000000     10.000000     15.000000     18.000000   \n",
       "max      977.000000   2012.000000     12.000000     19.000000     23.000000   \n",
       "\n",
       "        minute   second          week  \n",
       "count  10886.0  10886.0  10886.000000  \n",
       "mean       0.0      0.0      3.013963  \n",
       "std        0.0      0.0      2.004585  \n",
       "min        0.0      0.0      0.000000  \n",
       "25%        0.0      0.0      1.000000  \n",
       "50%        0.0      0.0      3.000000  \n",
       "75%        0.0      0.0      5.000000  \n",
       "max        0.0      0.0      6.000000  "
      ]
     },
     "execution_count": 95,
     "metadata": {},
     "output_type": "execute_result"
    }
   ],
   "source": [
    "train.describe()"
   ]
  },
  {
   "cell_type": "markdown",
   "id": "7ae76773",
   "metadata": {},
   "source": [
    "<div style = \"height: 25px;\"></div>"
   ]
  },
  {
   "cell_type": "markdown",
   "id": "6836760b",
   "metadata": {},
   "source": [
    "###  불필요한 데이터 판단하기 - (2) 결측치 확인 및 제거"
   ]
  },
  {
   "cell_type": "code",
   "execution_count": 96,
   "id": "ff98853f",
   "metadata": {},
   "outputs": [
    {
     "data": {
      "text/plain": [
       "datetime      0\n",
       "season        0\n",
       "holiday       0\n",
       "workingday    0\n",
       "weather       0\n",
       "temp          0\n",
       "atemp         0\n",
       "humidity      0\n",
       "windspeed     0\n",
       "casual        0\n",
       "registered    0\n",
       "count         0\n",
       "year          0\n",
       "month         0\n",
       "day           0\n",
       "hour          0\n",
       "minute        0\n",
       "second        0\n",
       "week          0\n",
       "dtype: int64"
      ]
     },
     "execution_count": 96,
     "metadata": {},
     "output_type": "execute_result"
    }
   ],
   "source": [
    "train.isnull().sum()"
   ]
  },
  {
   "cell_type": "markdown",
   "id": "22d604f2",
   "metadata": {},
   "source": [
    "<div style = \"height: 25px;\"></div>"
   ]
  },
  {
   "cell_type": "markdown",
   "id": "6cd9479f",
   "metadata": {},
   "source": [
    "###  불필요한 데이터 판단하기 - (3) 중복된 데이터 확인 및 제거"
   ]
  },
  {
   "cell_type": "code",
   "execution_count": 97,
   "id": "0a6c3342",
   "metadata": {},
   "outputs": [
    {
     "data": {
      "text/plain": [
       "0"
      ]
     },
     "execution_count": 97,
     "metadata": {},
     "output_type": "execute_result"
    }
   ],
   "source": [
    "train.duplicated().sum()"
   ]
  },
  {
   "cell_type": "markdown",
   "id": "968f64c4",
   "metadata": {},
   "source": [
    "<div style = \"height: 25px;\"></div>"
   ]
  },
  {
   "cell_type": "markdown",
   "id": "9d183fad",
   "metadata": {},
   "source": [
    "### 불필요한 데이터 판단하기 - (4) 넘파이로 상관계수 구해보기"
   ]
  },
  {
   "cell_type": "code",
   "execution_count": 98,
   "id": "092b6622",
   "metadata": {},
   "outputs": [
    {
     "data": {
      "text/html": [
       "<div>\n",
       "<style scoped>\n",
       "    .dataframe tbody tr th:only-of-type {\n",
       "        vertical-align: middle;\n",
       "    }\n",
       "\n",
       "    .dataframe tbody tr th {\n",
       "        vertical-align: top;\n",
       "    }\n",
       "\n",
       "    .dataframe thead th {\n",
       "        text-align: right;\n",
       "    }\n",
       "</style>\n",
       "<table border=\"1\" class=\"dataframe\">\n",
       "  <thead>\n",
       "    <tr style=\"text-align: right;\">\n",
       "      <th></th>\n",
       "      <th>season</th>\n",
       "      <th>holiday</th>\n",
       "      <th>workingday</th>\n",
       "      <th>weather</th>\n",
       "      <th>temp</th>\n",
       "      <th>atemp</th>\n",
       "      <th>humidity</th>\n",
       "      <th>windspeed</th>\n",
       "      <th>casual</th>\n",
       "      <th>registered</th>\n",
       "      <th>count</th>\n",
       "      <th>year</th>\n",
       "      <th>month</th>\n",
       "      <th>day</th>\n",
       "      <th>hour</th>\n",
       "      <th>minute</th>\n",
       "      <th>second</th>\n",
       "      <th>week</th>\n",
       "    </tr>\n",
       "  </thead>\n",
       "  <tbody>\n",
       "    <tr>\n",
       "      <th>season</th>\n",
       "      <td>1.000000</td>\n",
       "      <td>0.029368</td>\n",
       "      <td>-0.008126</td>\n",
       "      <td>0.008879</td>\n",
       "      <td>0.258689</td>\n",
       "      <td>0.264744</td>\n",
       "      <td>0.190610</td>\n",
       "      <td>-0.147121</td>\n",
       "      <td>0.096758</td>\n",
       "      <td>0.164011</td>\n",
       "      <td>0.163439</td>\n",
       "      <td>-0.004797</td>\n",
       "      <td>0.971524</td>\n",
       "      <td>0.001729</td>\n",
       "      <td>-0.006546</td>\n",
       "      <td>NaN</td>\n",
       "      <td>NaN</td>\n",
       "      <td>-0.010553</td>\n",
       "    </tr>\n",
       "    <tr>\n",
       "      <th>holiday</th>\n",
       "      <td>0.029368</td>\n",
       "      <td>1.000000</td>\n",
       "      <td>-0.250491</td>\n",
       "      <td>-0.007074</td>\n",
       "      <td>0.000295</td>\n",
       "      <td>-0.005215</td>\n",
       "      <td>0.001929</td>\n",
       "      <td>0.008409</td>\n",
       "      <td>0.043799</td>\n",
       "      <td>-0.020956</td>\n",
       "      <td>-0.005393</td>\n",
       "      <td>0.012021</td>\n",
       "      <td>0.001731</td>\n",
       "      <td>-0.015877</td>\n",
       "      <td>-0.000354</td>\n",
       "      <td>NaN</td>\n",
       "      <td>NaN</td>\n",
       "      <td>-0.191832</td>\n",
       "    </tr>\n",
       "    <tr>\n",
       "      <th>workingday</th>\n",
       "      <td>-0.008126</td>\n",
       "      <td>-0.250491</td>\n",
       "      <td>1.000000</td>\n",
       "      <td>0.033772</td>\n",
       "      <td>0.029966</td>\n",
       "      <td>0.024660</td>\n",
       "      <td>-0.010880</td>\n",
       "      <td>0.013373</td>\n",
       "      <td>-0.319111</td>\n",
       "      <td>0.119460</td>\n",
       "      <td>0.011594</td>\n",
       "      <td>-0.002482</td>\n",
       "      <td>-0.003394</td>\n",
       "      <td>0.009829</td>\n",
       "      <td>0.002780</td>\n",
       "      <td>NaN</td>\n",
       "      <td>NaN</td>\n",
       "      <td>-0.704267</td>\n",
       "    </tr>\n",
       "    <tr>\n",
       "      <th>weather</th>\n",
       "      <td>0.008879</td>\n",
       "      <td>-0.007074</td>\n",
       "      <td>0.033772</td>\n",
       "      <td>1.000000</td>\n",
       "      <td>-0.055035</td>\n",
       "      <td>-0.055376</td>\n",
       "      <td>0.406244</td>\n",
       "      <td>0.007261</td>\n",
       "      <td>-0.135918</td>\n",
       "      <td>-0.109340</td>\n",
       "      <td>-0.128655</td>\n",
       "      <td>-0.012548</td>\n",
       "      <td>0.012144</td>\n",
       "      <td>-0.007890</td>\n",
       "      <td>-0.022740</td>\n",
       "      <td>NaN</td>\n",
       "      <td>NaN</td>\n",
       "      <td>-0.047692</td>\n",
       "    </tr>\n",
       "    <tr>\n",
       "      <th>temp</th>\n",
       "      <td>0.258689</td>\n",
       "      <td>0.000295</td>\n",
       "      <td>0.029966</td>\n",
       "      <td>-0.055035</td>\n",
       "      <td>1.000000</td>\n",
       "      <td>0.984948</td>\n",
       "      <td>-0.064949</td>\n",
       "      <td>-0.017852</td>\n",
       "      <td>0.467097</td>\n",
       "      <td>0.318571</td>\n",
       "      <td>0.394454</td>\n",
       "      <td>0.061226</td>\n",
       "      <td>0.257589</td>\n",
       "      <td>0.015551</td>\n",
       "      <td>0.145430</td>\n",
       "      <td>NaN</td>\n",
       "      <td>NaN</td>\n",
       "      <td>-0.038466</td>\n",
       "    </tr>\n",
       "    <tr>\n",
       "      <th>atemp</th>\n",
       "      <td>0.264744</td>\n",
       "      <td>-0.005215</td>\n",
       "      <td>0.024660</td>\n",
       "      <td>-0.055376</td>\n",
       "      <td>0.984948</td>\n",
       "      <td>1.000000</td>\n",
       "      <td>-0.043536</td>\n",
       "      <td>-0.057473</td>\n",
       "      <td>0.462067</td>\n",
       "      <td>0.314635</td>\n",
       "      <td>0.389784</td>\n",
       "      <td>0.058540</td>\n",
       "      <td>0.264173</td>\n",
       "      <td>0.011866</td>\n",
       "      <td>0.140343</td>\n",
       "      <td>NaN</td>\n",
       "      <td>NaN</td>\n",
       "      <td>-0.040235</td>\n",
       "    </tr>\n",
       "    <tr>\n",
       "      <th>humidity</th>\n",
       "      <td>0.190610</td>\n",
       "      <td>0.001929</td>\n",
       "      <td>-0.010880</td>\n",
       "      <td>0.406244</td>\n",
       "      <td>-0.064949</td>\n",
       "      <td>-0.043536</td>\n",
       "      <td>1.000000</td>\n",
       "      <td>-0.318607</td>\n",
       "      <td>-0.348187</td>\n",
       "      <td>-0.265458</td>\n",
       "      <td>-0.317371</td>\n",
       "      <td>-0.078606</td>\n",
       "      <td>0.204537</td>\n",
       "      <td>-0.011335</td>\n",
       "      <td>-0.278011</td>\n",
       "      <td>NaN</td>\n",
       "      <td>NaN</td>\n",
       "      <td>-0.026507</td>\n",
       "    </tr>\n",
       "    <tr>\n",
       "      <th>windspeed</th>\n",
       "      <td>-0.147121</td>\n",
       "      <td>0.008409</td>\n",
       "      <td>0.013373</td>\n",
       "      <td>0.007261</td>\n",
       "      <td>-0.017852</td>\n",
       "      <td>-0.057473</td>\n",
       "      <td>-0.318607</td>\n",
       "      <td>1.000000</td>\n",
       "      <td>0.092276</td>\n",
       "      <td>0.091052</td>\n",
       "      <td>0.101369</td>\n",
       "      <td>-0.015221</td>\n",
       "      <td>-0.150192</td>\n",
       "      <td>0.036157</td>\n",
       "      <td>0.146631</td>\n",
       "      <td>NaN</td>\n",
       "      <td>NaN</td>\n",
       "      <td>-0.024804</td>\n",
       "    </tr>\n",
       "    <tr>\n",
       "      <th>casual</th>\n",
       "      <td>0.096758</td>\n",
       "      <td>0.043799</td>\n",
       "      <td>-0.319111</td>\n",
       "      <td>-0.135918</td>\n",
       "      <td>0.467097</td>\n",
       "      <td>0.462067</td>\n",
       "      <td>-0.348187</td>\n",
       "      <td>0.092276</td>\n",
       "      <td>1.000000</td>\n",
       "      <td>0.497250</td>\n",
       "      <td>0.690414</td>\n",
       "      <td>0.145241</td>\n",
       "      <td>0.092722</td>\n",
       "      <td>0.014109</td>\n",
       "      <td>0.302045</td>\n",
       "      <td>NaN</td>\n",
       "      <td>NaN</td>\n",
       "      <td>0.246959</td>\n",
       "    </tr>\n",
       "    <tr>\n",
       "      <th>registered</th>\n",
       "      <td>0.164011</td>\n",
       "      <td>-0.020956</td>\n",
       "      <td>0.119460</td>\n",
       "      <td>-0.109340</td>\n",
       "      <td>0.318571</td>\n",
       "      <td>0.314635</td>\n",
       "      <td>-0.265458</td>\n",
       "      <td>0.091052</td>\n",
       "      <td>0.497250</td>\n",
       "      <td>1.000000</td>\n",
       "      <td>0.970948</td>\n",
       "      <td>0.264265</td>\n",
       "      <td>0.169451</td>\n",
       "      <td>0.019111</td>\n",
       "      <td>0.380540</td>\n",
       "      <td>NaN</td>\n",
       "      <td>NaN</td>\n",
       "      <td>-0.084427</td>\n",
       "    </tr>\n",
       "    <tr>\n",
       "      <th>count</th>\n",
       "      <td>0.163439</td>\n",
       "      <td>-0.005393</td>\n",
       "      <td>0.011594</td>\n",
       "      <td>-0.128655</td>\n",
       "      <td>0.394454</td>\n",
       "      <td>0.389784</td>\n",
       "      <td>-0.317371</td>\n",
       "      <td>0.101369</td>\n",
       "      <td>0.690414</td>\n",
       "      <td>0.970948</td>\n",
       "      <td>1.000000</td>\n",
       "      <td>0.260403</td>\n",
       "      <td>0.166862</td>\n",
       "      <td>0.019826</td>\n",
       "      <td>0.400601</td>\n",
       "      <td>NaN</td>\n",
       "      <td>NaN</td>\n",
       "      <td>-0.002283</td>\n",
       "    </tr>\n",
       "    <tr>\n",
       "      <th>year</th>\n",
       "      <td>-0.004797</td>\n",
       "      <td>0.012021</td>\n",
       "      <td>-0.002482</td>\n",
       "      <td>-0.012548</td>\n",
       "      <td>0.061226</td>\n",
       "      <td>0.058540</td>\n",
       "      <td>-0.078606</td>\n",
       "      <td>-0.015221</td>\n",
       "      <td>0.145241</td>\n",
       "      <td>0.264265</td>\n",
       "      <td>0.260403</td>\n",
       "      <td>1.000000</td>\n",
       "      <td>-0.004932</td>\n",
       "      <td>0.001800</td>\n",
       "      <td>-0.004234</td>\n",
       "      <td>NaN</td>\n",
       "      <td>NaN</td>\n",
       "      <td>-0.003785</td>\n",
       "    </tr>\n",
       "    <tr>\n",
       "      <th>month</th>\n",
       "      <td>0.971524</td>\n",
       "      <td>0.001731</td>\n",
       "      <td>-0.003394</td>\n",
       "      <td>0.012144</td>\n",
       "      <td>0.257589</td>\n",
       "      <td>0.264173</td>\n",
       "      <td>0.204537</td>\n",
       "      <td>-0.150192</td>\n",
       "      <td>0.092722</td>\n",
       "      <td>0.169451</td>\n",
       "      <td>0.166862</td>\n",
       "      <td>-0.004932</td>\n",
       "      <td>1.000000</td>\n",
       "      <td>0.001974</td>\n",
       "      <td>-0.006818</td>\n",
       "      <td>NaN</td>\n",
       "      <td>NaN</td>\n",
       "      <td>-0.002266</td>\n",
       "    </tr>\n",
       "    <tr>\n",
       "      <th>day</th>\n",
       "      <td>0.001729</td>\n",
       "      <td>-0.015877</td>\n",
       "      <td>0.009829</td>\n",
       "      <td>-0.007890</td>\n",
       "      <td>0.015551</td>\n",
       "      <td>0.011866</td>\n",
       "      <td>-0.011335</td>\n",
       "      <td>0.036157</td>\n",
       "      <td>0.014109</td>\n",
       "      <td>0.019111</td>\n",
       "      <td>0.019826</td>\n",
       "      <td>0.001800</td>\n",
       "      <td>0.001974</td>\n",
       "      <td>1.000000</td>\n",
       "      <td>0.001132</td>\n",
       "      <td>NaN</td>\n",
       "      <td>NaN</td>\n",
       "      <td>-0.011070</td>\n",
       "    </tr>\n",
       "    <tr>\n",
       "      <th>hour</th>\n",
       "      <td>-0.006546</td>\n",
       "      <td>-0.000354</td>\n",
       "      <td>0.002780</td>\n",
       "      <td>-0.022740</td>\n",
       "      <td>0.145430</td>\n",
       "      <td>0.140343</td>\n",
       "      <td>-0.278011</td>\n",
       "      <td>0.146631</td>\n",
       "      <td>0.302045</td>\n",
       "      <td>0.380540</td>\n",
       "      <td>0.400601</td>\n",
       "      <td>-0.004234</td>\n",
       "      <td>-0.006818</td>\n",
       "      <td>0.001132</td>\n",
       "      <td>1.000000</td>\n",
       "      <td>NaN</td>\n",
       "      <td>NaN</td>\n",
       "      <td>-0.002925</td>\n",
       "    </tr>\n",
       "    <tr>\n",
       "      <th>minute</th>\n",
       "      <td>NaN</td>\n",
       "      <td>NaN</td>\n",
       "      <td>NaN</td>\n",
       "      <td>NaN</td>\n",
       "      <td>NaN</td>\n",
       "      <td>NaN</td>\n",
       "      <td>NaN</td>\n",
       "      <td>NaN</td>\n",
       "      <td>NaN</td>\n",
       "      <td>NaN</td>\n",
       "      <td>NaN</td>\n",
       "      <td>NaN</td>\n",
       "      <td>NaN</td>\n",
       "      <td>NaN</td>\n",
       "      <td>NaN</td>\n",
       "      <td>NaN</td>\n",
       "      <td>NaN</td>\n",
       "      <td>NaN</td>\n",
       "    </tr>\n",
       "    <tr>\n",
       "      <th>second</th>\n",
       "      <td>NaN</td>\n",
       "      <td>NaN</td>\n",
       "      <td>NaN</td>\n",
       "      <td>NaN</td>\n",
       "      <td>NaN</td>\n",
       "      <td>NaN</td>\n",
       "      <td>NaN</td>\n",
       "      <td>NaN</td>\n",
       "      <td>NaN</td>\n",
       "      <td>NaN</td>\n",
       "      <td>NaN</td>\n",
       "      <td>NaN</td>\n",
       "      <td>NaN</td>\n",
       "      <td>NaN</td>\n",
       "      <td>NaN</td>\n",
       "      <td>NaN</td>\n",
       "      <td>NaN</td>\n",
       "      <td>NaN</td>\n",
       "    </tr>\n",
       "    <tr>\n",
       "      <th>week</th>\n",
       "      <td>-0.010553</td>\n",
       "      <td>-0.191832</td>\n",
       "      <td>-0.704267</td>\n",
       "      <td>-0.047692</td>\n",
       "      <td>-0.038466</td>\n",
       "      <td>-0.040235</td>\n",
       "      <td>-0.026507</td>\n",
       "      <td>-0.024804</td>\n",
       "      <td>0.246959</td>\n",
       "      <td>-0.084427</td>\n",
       "      <td>-0.002283</td>\n",
       "      <td>-0.003785</td>\n",
       "      <td>-0.002266</td>\n",
       "      <td>-0.011070</td>\n",
       "      <td>-0.002925</td>\n",
       "      <td>NaN</td>\n",
       "      <td>NaN</td>\n",
       "      <td>1.000000</td>\n",
       "    </tr>\n",
       "  </tbody>\n",
       "</table>\n",
       "</div>"
      ],
      "text/plain": [
       "              season   holiday  workingday   weather      temp     atemp  \\\n",
       "season      1.000000  0.029368   -0.008126  0.008879  0.258689  0.264744   \n",
       "holiday     0.029368  1.000000   -0.250491 -0.007074  0.000295 -0.005215   \n",
       "workingday -0.008126 -0.250491    1.000000  0.033772  0.029966  0.024660   \n",
       "weather     0.008879 -0.007074    0.033772  1.000000 -0.055035 -0.055376   \n",
       "temp        0.258689  0.000295    0.029966 -0.055035  1.000000  0.984948   \n",
       "atemp       0.264744 -0.005215    0.024660 -0.055376  0.984948  1.000000   \n",
       "humidity    0.190610  0.001929   -0.010880  0.406244 -0.064949 -0.043536   \n",
       "windspeed  -0.147121  0.008409    0.013373  0.007261 -0.017852 -0.057473   \n",
       "casual      0.096758  0.043799   -0.319111 -0.135918  0.467097  0.462067   \n",
       "registered  0.164011 -0.020956    0.119460 -0.109340  0.318571  0.314635   \n",
       "count       0.163439 -0.005393    0.011594 -0.128655  0.394454  0.389784   \n",
       "year       -0.004797  0.012021   -0.002482 -0.012548  0.061226  0.058540   \n",
       "month       0.971524  0.001731   -0.003394  0.012144  0.257589  0.264173   \n",
       "day         0.001729 -0.015877    0.009829 -0.007890  0.015551  0.011866   \n",
       "hour       -0.006546 -0.000354    0.002780 -0.022740  0.145430  0.140343   \n",
       "minute           NaN       NaN         NaN       NaN       NaN       NaN   \n",
       "second           NaN       NaN         NaN       NaN       NaN       NaN   \n",
       "week       -0.010553 -0.191832   -0.704267 -0.047692 -0.038466 -0.040235   \n",
       "\n",
       "            humidity  windspeed    casual  registered     count      year  \\\n",
       "season      0.190610  -0.147121  0.096758    0.164011  0.163439 -0.004797   \n",
       "holiday     0.001929   0.008409  0.043799   -0.020956 -0.005393  0.012021   \n",
       "workingday -0.010880   0.013373 -0.319111    0.119460  0.011594 -0.002482   \n",
       "weather     0.406244   0.007261 -0.135918   -0.109340 -0.128655 -0.012548   \n",
       "temp       -0.064949  -0.017852  0.467097    0.318571  0.394454  0.061226   \n",
       "atemp      -0.043536  -0.057473  0.462067    0.314635  0.389784  0.058540   \n",
       "humidity    1.000000  -0.318607 -0.348187   -0.265458 -0.317371 -0.078606   \n",
       "windspeed  -0.318607   1.000000  0.092276    0.091052  0.101369 -0.015221   \n",
       "casual     -0.348187   0.092276  1.000000    0.497250  0.690414  0.145241   \n",
       "registered -0.265458   0.091052  0.497250    1.000000  0.970948  0.264265   \n",
       "count      -0.317371   0.101369  0.690414    0.970948  1.000000  0.260403   \n",
       "year       -0.078606  -0.015221  0.145241    0.264265  0.260403  1.000000   \n",
       "month       0.204537  -0.150192  0.092722    0.169451  0.166862 -0.004932   \n",
       "day        -0.011335   0.036157  0.014109    0.019111  0.019826  0.001800   \n",
       "hour       -0.278011   0.146631  0.302045    0.380540  0.400601 -0.004234   \n",
       "minute           NaN        NaN       NaN         NaN       NaN       NaN   \n",
       "second           NaN        NaN       NaN         NaN       NaN       NaN   \n",
       "week       -0.026507  -0.024804  0.246959   -0.084427 -0.002283 -0.003785   \n",
       "\n",
       "               month       day      hour  minute  second      week  \n",
       "season      0.971524  0.001729 -0.006546     NaN     NaN -0.010553  \n",
       "holiday     0.001731 -0.015877 -0.000354     NaN     NaN -0.191832  \n",
       "workingday -0.003394  0.009829  0.002780     NaN     NaN -0.704267  \n",
       "weather     0.012144 -0.007890 -0.022740     NaN     NaN -0.047692  \n",
       "temp        0.257589  0.015551  0.145430     NaN     NaN -0.038466  \n",
       "atemp       0.264173  0.011866  0.140343     NaN     NaN -0.040235  \n",
       "humidity    0.204537 -0.011335 -0.278011     NaN     NaN -0.026507  \n",
       "windspeed  -0.150192  0.036157  0.146631     NaN     NaN -0.024804  \n",
       "casual      0.092722  0.014109  0.302045     NaN     NaN  0.246959  \n",
       "registered  0.169451  0.019111  0.380540     NaN     NaN -0.084427  \n",
       "count       0.166862  0.019826  0.400601     NaN     NaN -0.002283  \n",
       "year       -0.004932  0.001800 -0.004234     NaN     NaN -0.003785  \n",
       "month       1.000000  0.001974 -0.006818     NaN     NaN -0.002266  \n",
       "day         0.001974  1.000000  0.001132     NaN     NaN -0.011070  \n",
       "hour       -0.006818  0.001132  1.000000     NaN     NaN -0.002925  \n",
       "minute           NaN       NaN       NaN     NaN     NaN       NaN  \n",
       "second           NaN       NaN       NaN     NaN     NaN       NaN  \n",
       "week       -0.002266 -0.011070 -0.002925     NaN     NaN  1.000000  "
      ]
     },
     "execution_count": 98,
     "metadata": {},
     "output_type": "execute_result"
    }
   ],
   "source": [
    "train.corr(method = 'pearson')"
   ]
  },
  {
   "cell_type": "markdown",
   "id": "181b5696",
   "metadata": {},
   "source": [
    "<p style= \"font-size:15px; line-height:24px;\">minute와 second를 제외한 모든 컬럼은 count에 대해 상관관계를 가지고 있다.<br/>\n",
    "따라서, <span style = 'background-color:#fff5b1; padding:0.2px;'>x에는 minute, second, casual, registered를 제외한 모든 컬럼을 넣을 것이다.</span></p>"
   ]
  },
  {
   "cell_type": "markdown",
   "id": "04cfc06b",
   "metadata": {},
   "source": [
    "<div style = \"height: 25px;\"></div>"
   ]
  },
  {
   "cell_type": "markdown",
   "id": "885f9907",
   "metadata": {},
   "source": [
    "### x, y 칼럼 선택하기"
   ]
  },
  {
   "cell_type": "code",
   "execution_count": 115,
   "id": "ea5f6e1b",
   "metadata": {},
   "outputs": [],
   "source": [
    "x = train[['season', 'holiday', 'workingday', 'weather', 'temp', 'atemp', 'humidity', 'windspeed', 'week', 'year', 'month', 'day', 'hour']].values\n",
    "y = train['count'].values"
   ]
  },
  {
   "cell_type": "code",
   "execution_count": 116,
   "id": "2efc4e2a",
   "metadata": {},
   "outputs": [
    {
     "data": {
      "text/plain": [
       "(10886, 13)"
      ]
     },
     "execution_count": 116,
     "metadata": {},
     "output_type": "execute_result"
    }
   ],
   "source": [
    "x.shape"
   ]
  },
  {
   "cell_type": "code",
   "execution_count": 117,
   "id": "7d82ee49",
   "metadata": {},
   "outputs": [
    {
     "data": {
      "text/plain": [
       "(10886,)"
      ]
     },
     "execution_count": 117,
     "metadata": {},
     "output_type": "execute_result"
    }
   ],
   "source": [
    "y.shape"
   ]
  },
  {
   "cell_type": "markdown",
   "id": "5ba7151f",
   "metadata": {},
   "source": [
    "<div style = \"height: 25px;\"></div>"
   ]
  },
  {
   "cell_type": "markdown",
   "id": "01b70368",
   "metadata": {},
   "source": [
    "### train 데이터와 test 데이터로 분리하기\n",
    "<hr/>"
   ]
  },
  {
   "cell_type": "code",
   "execution_count": 118,
   "id": "4ad6f9e2",
   "metadata": {},
   "outputs": [],
   "source": [
    "x_train, x_test, y_train, y_test = train_test_split(x, y, test_size = 0.2, random_state = 42)"
   ]
  },
  {
   "cell_type": "markdown",
   "id": "51d9ceda",
   "metadata": {},
   "source": [
    "<div style = \"height: 50px;\"></div>"
   ]
  },
  {
   "cell_type": "markdown",
   "id": "cfdaf7c9",
   "metadata": {},
   "source": [
    "## 5. LinearRegression 모델 학습\n",
    "<hr/>"
   ]
  },
  {
   "cell_type": "code",
   "execution_count": 119,
   "id": "31935137",
   "metadata": {},
   "outputs": [],
   "source": [
    "model = LinearRegression()"
   ]
  },
  {
   "cell_type": "code",
   "execution_count": 120,
   "id": "51053646",
   "metadata": {},
   "outputs": [
    {
     "data": {
      "text/plain": [
       "LinearRegression()"
      ]
     },
     "execution_count": 120,
     "metadata": {},
     "output_type": "execute_result"
    }
   ],
   "source": [
    "model.fit(x_train, y_train)"
   ]
  },
  {
   "cell_type": "markdown",
   "id": "f8defa58",
   "metadata": {},
   "source": [
    "<div style = \"height: 50px;\"></div>"
   ]
  },
  {
   "cell_type": "markdown",
   "id": "e0131b6f",
   "metadata": {},
   "source": [
    "## 6. 학습된 모델로 X_test에 대한 예측값 출력 및 손실함수값 계산\n",
    "<hr/>"
   ]
  },
  {
   "cell_type": "markdown",
   "id": "a66f809f",
   "metadata": {},
   "source": [
    "### 학습된 모델에 X_test를 입력해서 예측값 출력하기"
   ]
  },
  {
   "cell_type": "code",
   "execution_count": 121,
   "id": "2de2b0e6",
   "metadata": {},
   "outputs": [],
   "source": [
    "prediction = model.predict(x_test)"
   ]
  },
  {
   "cell_type": "code",
   "execution_count": 122,
   "id": "81e1a9e7",
   "metadata": {},
   "outputs": [
    {
     "data": {
      "text/plain": [
       "array([247.47963048,  48.19064523, 201.06116009, ..., 310.02294768,\n",
       "        38.53046232, 243.03583142])"
      ]
     },
     "execution_count": 122,
     "metadata": {},
     "output_type": "execute_result"
    }
   ],
   "source": [
    "prediction"
   ]
  },
  {
   "cell_type": "markdown",
   "id": "b1f80301",
   "metadata": {},
   "source": [
    "<div style = \"height: 25px;\"></div>"
   ]
  },
  {
   "cell_type": "markdown",
   "id": "6e4110dd",
   "metadata": {},
   "source": [
    "### 모델이 예측한 값과 정답 target 간의 손실함수 값 계산하기"
   ]
  },
  {
   "cell_type": "code",
   "execution_count": 123,
   "id": "5c590b99",
   "metadata": {},
   "outputs": [
    {
     "data": {
      "text/plain": [
       "19940.436219858962"
      ]
     },
     "execution_count": 123,
     "metadata": {},
     "output_type": "execute_result"
    }
   ],
   "source": [
    "mse = mean_squared_error(y_test, prediction)\n",
    "mse"
   ]
  },
  {
   "cell_type": "markdown",
   "id": "79c8835a",
   "metadata": {},
   "source": [
    "<div style = \"height: 25px;\"></div>"
   ]
  },
  {
   "cell_type": "markdown",
   "id": "063be00f",
   "metadata": {},
   "source": [
    "### mse 값과 함께 rmse 값도 계산하기"
   ]
  },
  {
   "cell_type": "code",
   "execution_count": 124,
   "id": "65db7cd8",
   "metadata": {},
   "outputs": [],
   "source": [
    "rmse = sqrt(mse)"
   ]
  },
  {
   "cell_type": "code",
   "execution_count": 125,
   "id": "1f8a5a90",
   "metadata": {},
   "outputs": [
    {
     "data": {
      "text/plain": [
       "141.21060944510847"
      ]
     },
     "execution_count": 125,
     "metadata": {},
     "output_type": "execute_result"
    }
   ],
   "source": [
    "rmse"
   ]
  },
  {
   "cell_type": "markdown",
   "id": "7a998c5e",
   "metadata": {},
   "source": [
    "<div style = \"height: 50px;\"></div>"
   ]
  },
  {
   "cell_type": "markdown",
   "id": "3f5d1263",
   "metadata": {},
   "source": [
    "## 7. x축은 temp 또는 humidity로, y축은 count로 예측 결과 시각화하기\n",
    "<hr/>"
   ]
  },
  {
   "cell_type": "markdown",
   "id": "3be4e237",
   "metadata": {},
   "source": [
    "### x축에 x 데이터 중 temp 데이터를, y축에는 count 데이터를 넣어서 시각화하기"
   ]
  },
  {
   "cell_type": "code",
   "execution_count": 126,
   "id": "b469bde0",
   "metadata": {},
   "outputs": [
    {
     "data": {
      "image/png": "[encoded data removed]",
      "text/plain": [
       "<Figure size 360x360 with 1 Axes>"
      ]
     },
     "metadata": {},
     "output_type": "display_data"
    }
   ],
   "source": [
    "sns.set(rc = {'figure.figsize':(5,5)})\n",
    "\n",
    "plt.scatter(x_test[:, 4], y_test)\n",
    "plt.scatter(x_test[:, 4], prediction)\n",
    "plt.show()"
   ]
  },
  {
   "cell_type": "markdown",
   "id": "b643d187",
   "metadata": {},
   "source": [
    "<div style = \"height: 25px;\"></div>"
   ]
  },
  {
   "cell_type": "markdown",
   "id": "93d548db",
   "metadata": {},
   "source": [
    "### x축에 x 데이터 중 humidity 데이터를, y축에는 count 데이터를 넣어서 시각화하기"
   ]
  },
  {
   "cell_type": "code",
   "execution_count": 127,
   "id": "94c96b38",
   "metadata": {},
   "outputs": [
    {
     "data": {
      "image/png": "[encoded data removed]",
      "text/plain": [
       "<Figure size 360x360 with 1 Axes>"
      ]
     },
     "metadata": {},
     "output_type": "display_data"
    }
   ],
   "source": [
    "sns.set(rc = {'figure.figsize':(5,5)})\n",
    "\n",
    "plt.scatter(x_test[:, 6], y_test)\n",
    "plt.scatter(x_test[:, 6], prediction)\n",
    "plt.show()"
   ]
  },
  {
   "cell_type": "markdown",
   "id": "469251bc",
   "metadata": {},
   "source": [
    "<div style = \"height: 50px;\"></div>"
   ]
  },
  {
   "cell_type": "markdown",
   "id": "cc1efa34",
   "metadata": {},
   "source": [
    "## 회고\n",
    "<hr/>"
   ]
  },
  {
   "cell_type": "markdown",
   "id": "53d7e37f",
   "metadata": {},
   "source": [
    "<p style= \"font-size:16px; line-height:30px;\">실제로 그래프로 시각화를 진행하는 것이 데이터를 이해하는데에 있어 얼마나 중요한지 깨달았습니다. 수치를 글로 확인하는 것 보다는 그래프가 훨씬 이해가 잘 되어서 앞으로 데이터를 시각화하는 것으로 EDA를 시작할 것 같습니다.<br/><br/>\n",
    "데이터에 결측치나 중복치가 없는 좋은 데이터여서 따로 전처리하지 않아도 rmse가 154를 달성해서 놀랐습니다. 처음에는 casual, registered를 더하면 target값인 count라는 것을 모른 채로 모델을 돌려서 53이라는 수치가 나와 매우 당황했습니다.<br/><br/>\n",
    "다행히도, 다른 분들과 모르는 것을 이야기하다보니 깨닫게 되어서 이유를 알게 되었고, x값을 수정할 수 있었습니다. <br/><br/>\n",
    "혼자서 하는 것보다는, 다른 사람과 이야기를 하는것이 의문을 푸는데에 있어 더욱 좋은 방법이라는 것을 깨닫게된 경험이었습니다.<br/>\n",
    "앞으로는 다른 사람들과 이야기를 많이 하면서 진행해야겠습니다.\n",
    "</p>"
   ]
  }
 ],
 "metadata": {
  "kernelspec": {
   "display_name": "Python 3 (ipykernel)",
   "language": "python",
   "name": "python3"
  },
  "language_info": {
   "codemirror_mode": {
    "name": "ipython",
    "version": 3
   },
   "file_extension": ".py",
   "mimetype": "text/x-python",
   "name": "python",
   "nbconvert_exporter": "python",
   "pygments_lexer": "ipython3",
   "version": "3.9.7"
  }
 },
 "nbformat": 4,
 "nbformat_minor": 5
}
