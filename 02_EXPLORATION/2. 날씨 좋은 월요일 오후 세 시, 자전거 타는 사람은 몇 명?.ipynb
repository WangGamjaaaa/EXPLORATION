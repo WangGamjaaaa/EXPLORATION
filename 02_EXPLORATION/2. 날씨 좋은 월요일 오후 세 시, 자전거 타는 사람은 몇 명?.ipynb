{
 "cells": [
  {
   "cell_type": "markdown",
   "id": "909587f7",
   "metadata": {},
   "source": [
    "# 목차\n",
    "<hr/>"
   ]
  },
  {
   "cell_type": "markdown",
   "id": "43f74bb0",
   "metadata": {},
   "source": [
    "> <ol>\n",
    "    <li style = \"margin-bottom:30px; list-style: none;\"><i style = \"font-weight:bold;font-style: normal;\">필요한 모듈 불러오기</i>\n",
    "    <li style = \"margin-bottom:30px; list-style: none;\"><i style = \"font-weight:bold;font-style: normal;\"><span style = \"font-weight:bold;color:#0172d4;\">PROJECT 1</span> : 손수 설계하는 선형회귀, 당뇨병 수치를 맞춰보자!</i>\n",
    "        <ul style = \"list-style:none;\">\n",
    "            <li style = \"margin-bottom:5px;\"><span style = \"font-weight:bold;color:#0172d4;\">1. </span> 데이터 준비하기</li>\n",
    "            <li style = \"margin-bottom:5px;\"><span style = \"font-weight:bold;color:#0172d4;\">2. </span> 모델에 입력할 데이터 X 준비하기</li>\n",
    "            <li style = \"margin-bottom:5px;\"><span style = \"font-weight:bold;color:#0172d4;\">3. </span> 모델에 예측할 데이터 y 준비하기</li>\n",
    "            <li style = \"margin-bottom:5px;\"><span style = \"font-weight:bold;color:#0172d4;\">4. </span> train 데이터와 test 데이터로 분리하기</li>\n",
    "            <li style = \"margin-bottom:5px;\"><span style = \"font-weight:bold;color:#0172d4;\">5. </span> 모델 준비하기</li>\n",
    "            <li style = \"margin-bottom:5px;\"><span style = \"font-weight:bold;color:#0172d4;\">6. </span> 손실함수 loss 정의하기</li>\n",
    "            <li style = \"margin-bottom:5px;\"><span style = \"font-weight:bold;color:#0172d4;\">7. </span> 기울기를 구하는 gradient 함수 구현하기</li>\n",
    "            <li style = \"margin-bottom:5px;\"><span style = \"font-weight:bold;color:#0172d4;\">8. </span> 하이퍼 파라미터인 학습률 설정하기</li>\n",
    "            <li style = \"margin-bottom:5px;\"><span style = \"font-weight:bold;color:#0172d4;\">9. </span> 모델 학습하기</li>\n",
    "            <li style = \"margin-bottom:5px;\"><span style = \"font-weight:bold;color:#0172d4;\">10. </span> test 데이터에 대한 성능 확인하기</li>\n",
    "            <li style = \"margin-bottom:5px;\"><span style = \"font-weight:bold;color:#0172d4;\">11. </span> 정답 데이터와 예측한 데이터 시각화하기</li>\n",
    "            <li style = \"margin-bottom:5px; list-style: none;\"><span style = \"font-weight:bold;color:#0172d4;\">12. </span> 회고</li>\n",
    "        </ul>\n",
    "    </li>\n",
    "    <li style = \"margin-bottom:30px; list-style: none;\"><i style = \"font-weight:bold;font-style: normal;\"><span style = \"font-weight:bold;color:#0172d4;\">PROJECT 2</span> : 날씨 좋은 월요일 오후 세 시, 자전거 타는 사람은 몇 명?</i>\n",
    "        <ul style = \"list-style:none;\">\n",
    "            <li style = \"margin-bottom:5px;\"><span style = \"font-weight:bold;color:#0172d4;\">1. </span> 데이터 가져오기</li>\n",
    "            <li style = \"margin-bottom:5px;\"><span style = \"font-weight:bold;color:#0172d4;\">2. </span> datetime 컬럼을 datetime 자료형으로 변환하고 연, 월, 일, 시, 분, 초까지 6가지 컬럼 생성하기</li>\n",
    "            <li style = \"margin-bottom:5px;\"><span style = \"font-weight:bold;color:#0172d4;\">3. </span> year, month, day, hour, minute, second 데이터 개수 시각화하기</li>\n",
    "            <li style = \"margin-bottom:5px;\"><span style = \"font-weight:bold;color:#0172d4;\">4. </span> X, y 컬럼 선택 및 train/test 데이터 분리</li>\n",
    "            <li style = \"margin-bottom:5px;\"><span style = \"font-weight:bold;color:#0172d4;\">5. </span> LinearRegression 모델 학습</li>\n",
    "            <li style = \"margin-bottom:5px;\"><span style = \"font-weight:bold;color:#0172d4;\">6. </span> 학습된 모델로 X_test에 대한 예측값 출력 및 손실함수값 계산</li>\n",
    "            <li style = \"margin-bottom:5px; list-style: none;\"><span style = \"font-weight:bold;color:#0172d4;\">7. </span> x축은 temp 또는 humidity로, y축은 count로 예측 결과 시각화하기</li>\n",
    "            <li style = \"margin-bottom:5px; list-style: none;\"><span style = \"font-weight:bold;color:#0172d4;\">8. </span> 회고</li>\n",
    "        </ul>\n",
    "    </li>\n",
    "</ol>"
   ]
  },
  {
   "cell_type": "markdown",
   "id": "117db759",
   "metadata": {},
   "source": [
    "<div style = \"height: 50px;\"></div>"
   ]
  },
  {
   "cell_type": "markdown",
   "id": "a40315a2",
   "metadata": {},
   "source": [
    "# 필요한 모듈 불러오기"
   ]
  },
  {
   "cell_type": "code",
   "execution_count": 218,
   "id": "5f1aab8f",
   "metadata": {},
   "outputs": [],
   "source": [
    "# 필요한 모듈 불러오기\n",
    "\n",
    "from IPython.display         import display, Image\n",
    "from math                    import sqrt\n",
    "from matplotlib              import pyplot as plt\n",
    "\n",
    "from sklearn.datasets        import load_diabetes \n",
    "from sklearn.linear_model    import LinearRegression\n",
    "from sklearn.model_selection import train_test_split\n",
    "from sklearn.metrics         import mean_squared_error\n",
    "from sklearn.preprocessing   import StandardScaler\n",
    "\n",
    "import numpy   as np\n",
    "import pandas  as pd\n",
    "import seaborn as sns"
   ]
  },
  {
   "cell_type": "markdown",
   "id": "78c3f5dd",
   "metadata": {},
   "source": [
    "<div style = \"height: 50px;\"></div>"
   ]
  },
  {
   "cell_type": "markdown",
   "id": "cc3a03dc",
   "metadata": {},
   "source": [
    "# <span style = \"font-weight:bold;color:#0172d4;\">PROJECT 1</span> : 손수 설계하는 선형회귀, 당뇨병 수치를 맞춰보자!"
   ]
  },
  {
   "cell_type": "markdown",
   "id": "1745b3c1",
   "metadata": {},
   "source": [
    "## 1. 데이터 준비하기\n",
    "<hr/>"
   ]
  },
  {
   "cell_type": "markdown",
   "id": "a7163a37",
   "metadata": {},
   "source": [
    "### 데이터 load하기"
   ]
  },
  {
   "cell_type": "code",
   "execution_count": 56,
   "id": "5fa5bb91",
   "metadata": {},
   "outputs": [],
   "source": [
    "diabetes = load_diabetes()"
   ]
  },
  {
   "cell_type": "markdown",
   "id": "db06954b",
   "metadata": {},
   "source": [
    "<div style = \"height: 15px;\"></div>"
   ]
  },
  {
   "cell_type": "markdown",
   "id": "20fe75a2",
   "metadata": {},
   "source": [
    "### data, target 지정하기"
   ]
  },
  {
   "cell_type": "code",
   "execution_count": 57,
   "id": "7b732317",
   "metadata": {},
   "outputs": [],
   "source": [
    "df_X = diabetes.data"
   ]
  },
  {
   "cell_type": "code",
   "execution_count": 58,
   "id": "954edba4",
   "metadata": {},
   "outputs": [],
   "source": [
    "df_y = diabetes.target"
   ]
  },
  {
   "cell_type": "markdown",
   "id": "f2606231",
   "metadata": {},
   "source": [
    "<div style = \"height: 15px;\"></div>"
   ]
  },
  {
   "cell_type": "markdown",
   "id": "9b33bfaa",
   "metadata": {},
   "source": [
    "### 데이터 이해하기"
   ]
  },
  {
   "cell_type": "code",
   "execution_count": 59,
   "id": "e5a525ce",
   "metadata": {},
   "outputs": [
    {
     "name": "stdout",
     "output_type": "stream",
     "text": [
      ".. _diabetes_dataset:\n",
      "\n",
      "Diabetes dataset\n",
      "----------------\n",
      "\n",
      "Ten baseline variables, age, sex, body mass index, average blood\n",
      "pressure, and six blood serum measurements were obtained for each of n =\n",
      "442 diabetes patients, as well as the response of interest, a\n",
      "quantitative measure of disease progression one year after baseline.\n",
      "\n",
      "**Data Set Characteristics:**\n",
      "\n",
      "  :Number of Instances: 442\n",
      "\n",
      "  :Number of Attributes: First 10 columns are numeric predictive values\n",
      "\n",
      "  :Target: Column 11 is a quantitative measure of disease progression one year after baseline\n",
      "\n",
      "  :Attribute Information:\n",
      "      - age     age in years\n",
      "      - sex\n",
      "      - bmi     body mass index\n",
      "      - bp      average blood pressure\n",
      "      - s1      tc, total serum cholesterol\n",
      "      - s2      ldl, low-density lipoproteins\n",
      "      - s3      hdl, high-density lipoproteins\n",
      "      - s4      tch, total cholesterol / HDL\n",
      "      - s5      ltg, possibly log of serum triglycerides level\n",
      "      - s6      glu, blood sugar level\n",
      "\n",
      "Note: Each of these 10 feature variables have been mean centered and scaled by the standard deviation times `n_samples` (i.e. the sum of squares of each column totals 1).\n",
      "\n",
      "Source URL:\n",
      "https://www4.stat.ncsu.edu/~boos/var.select/diabetes.html\n",
      "\n",
      "For more information see:\n",
      "Bradley Efron, Trevor Hastie, Iain Johnstone and Robert Tibshirani (2004) \"Least Angle Regression,\" Annals of Statistics (with discussion), 407-499.\n",
      "(https://web.stanford.edu/~hastie/Papers/LARS/LeastAngle_2002.pdf)\n"
     ]
    }
   ],
   "source": [
    "print(diabetes.DESCR)"
   ]
  },
  {
   "cell_type": "markdown",
   "id": "f915632a",
   "metadata": {},
   "source": [
    "### diabetes 데이터란?\n",
    "<p style= \"font-size:15px; line-height:24px;\">나이(age), 성별(sex), 체질량 지수(bmi), 평균 혈압(bp), 그리고 6개의 혈청 측정치(s1 ~ s6) 총 10개의 기준으로<br/>\n",
    "442명의 당뇨병 환자의 응답을 받은 후 1년 후의 질병 진행을 측정한 데이터이다.</p>"
   ]
  },
  {
   "cell_type": "markdown",
   "id": "3b2d8718",
   "metadata": {},
   "source": [
    "<div style = \"height: 15px;\"></div>"
   ]
  },
  {
   "cell_type": "markdown",
   "id": "6ac8ba53",
   "metadata": {},
   "source": [
    "### 데이터 모양 확인하기"
   ]
  },
  {
   "cell_type": "code",
   "execution_count": 60,
   "id": "4a245dba",
   "metadata": {},
   "outputs": [
    {
     "data": {
      "text/plain": [
       "(442, 10)"
      ]
     },
     "execution_count": 60,
     "metadata": {},
     "output_type": "execute_result"
    }
   ],
   "source": [
    "df_X.shape"
   ]
  },
  {
   "cell_type": "code",
   "execution_count": 61,
   "id": "382cc964",
   "metadata": {},
   "outputs": [
    {
     "data": {
      "text/plain": [
       "(442,)"
      ]
     },
     "execution_count": 61,
     "metadata": {},
     "output_type": "execute_result"
    }
   ],
   "source": [
    "df_y.shape"
   ]
  },
  {
   "cell_type": "code",
   "execution_count": 62,
   "id": "e6f3c80b",
   "metadata": {},
   "outputs": [
    {
     "data": {
      "text/plain": [
       "dict_keys(['data', 'target', 'frame', 'DESCR', 'feature_names', 'data_filename', 'target_filename'])"
      ]
     },
     "execution_count": 62,
     "metadata": {},
     "output_type": "execute_result"
    }
   ],
   "source": [
    "diabetes.keys()"
   ]
  },
  {
   "cell_type": "code",
   "execution_count": 63,
   "id": "33042776",
   "metadata": {},
   "outputs": [
    {
     "data": {
      "text/plain": [
       "['age', 'sex', 'bmi', 'bp', 's1', 's2', 's3', 's4', 's5', 's6']"
      ]
     },
     "execution_count": 63,
     "metadata": {},
     "output_type": "execute_result"
    }
   ],
   "source": [
    "diabetes.feature_names"
   ]
  },
  {
   "cell_type": "markdown",
   "id": "9d19b705",
   "metadata": {},
   "source": [
    "<div style = \"height: 15px;\"></div>"
   ]
  },
  {
   "cell_type": "markdown",
   "id": "d9b5f11a",
   "metadata": {},
   "source": [
    "### 데이터프레임 만들어 확인하기"
   ]
  },
  {
   "cell_type": "code",
   "execution_count": 64,
   "id": "deecf8f0",
   "metadata": {},
   "outputs": [],
   "source": [
    "diabetes_ = load_diabetes(as_frame = True)"
   ]
  },
  {
   "cell_type": "code",
   "execution_count": 65,
   "id": "0ef71601",
   "metadata": {},
   "outputs": [],
   "source": [
    "diabetes_df = diabetes_.frame"
   ]
  },
  {
   "cell_type": "code",
   "execution_count": 66,
   "id": "0cd917da",
   "metadata": {},
   "outputs": [
    {
     "data": {
      "text/html": [
       "<div>\n",
       "<style scoped>\n",
       "    .dataframe tbody tr th:only-of-type {\n",
       "        vertical-align: middle;\n",
       "    }\n",
       "\n",
       "    .dataframe tbody tr th {\n",
       "        vertical-align: top;\n",
       "    }\n",
       "\n",
       "    .dataframe thead th {\n",
       "        text-align: right;\n",
       "    }\n",
       "</style>\n",
       "<table border=\"1\" class=\"dataframe\">\n",
       "  <thead>\n",
       "    <tr style=\"text-align: right;\">\n",
       "      <th></th>\n",
       "      <th>age</th>\n",
       "      <th>sex</th>\n",
       "      <th>bmi</th>\n",
       "      <th>bp</th>\n",
       "      <th>s1</th>\n",
       "      <th>s2</th>\n",
       "      <th>s3</th>\n",
       "      <th>s4</th>\n",
       "      <th>s5</th>\n",
       "      <th>s6</th>\n",
       "      <th>target</th>\n",
       "    </tr>\n",
       "  </thead>\n",
       "  <tbody>\n",
       "    <tr>\n",
       "      <th>0</th>\n",
       "      <td>0.038076</td>\n",
       "      <td>0.050680</td>\n",
       "      <td>0.061696</td>\n",
       "      <td>0.021872</td>\n",
       "      <td>-0.044223</td>\n",
       "      <td>-0.034821</td>\n",
       "      <td>-0.043401</td>\n",
       "      <td>-0.002592</td>\n",
       "      <td>0.019908</td>\n",
       "      <td>-0.017646</td>\n",
       "      <td>151.0</td>\n",
       "    </tr>\n",
       "    <tr>\n",
       "      <th>1</th>\n",
       "      <td>-0.001882</td>\n",
       "      <td>-0.044642</td>\n",
       "      <td>-0.051474</td>\n",
       "      <td>-0.026328</td>\n",
       "      <td>-0.008449</td>\n",
       "      <td>-0.019163</td>\n",
       "      <td>0.074412</td>\n",
       "      <td>-0.039493</td>\n",
       "      <td>-0.068330</td>\n",
       "      <td>-0.092204</td>\n",
       "      <td>75.0</td>\n",
       "    </tr>\n",
       "    <tr>\n",
       "      <th>2</th>\n",
       "      <td>0.085299</td>\n",
       "      <td>0.050680</td>\n",
       "      <td>0.044451</td>\n",
       "      <td>-0.005671</td>\n",
       "      <td>-0.045599</td>\n",
       "      <td>-0.034194</td>\n",
       "      <td>-0.032356</td>\n",
       "      <td>-0.002592</td>\n",
       "      <td>0.002864</td>\n",
       "      <td>-0.025930</td>\n",
       "      <td>141.0</td>\n",
       "    </tr>\n",
       "    <tr>\n",
       "      <th>3</th>\n",
       "      <td>-0.089063</td>\n",
       "      <td>-0.044642</td>\n",
       "      <td>-0.011595</td>\n",
       "      <td>-0.036656</td>\n",
       "      <td>0.012191</td>\n",
       "      <td>0.024991</td>\n",
       "      <td>-0.036038</td>\n",
       "      <td>0.034309</td>\n",
       "      <td>0.022692</td>\n",
       "      <td>-0.009362</td>\n",
       "      <td>206.0</td>\n",
       "    </tr>\n",
       "    <tr>\n",
       "      <th>4</th>\n",
       "      <td>0.005383</td>\n",
       "      <td>-0.044642</td>\n",
       "      <td>-0.036385</td>\n",
       "      <td>0.021872</td>\n",
       "      <td>0.003935</td>\n",
       "      <td>0.015596</td>\n",
       "      <td>0.008142</td>\n",
       "      <td>-0.002592</td>\n",
       "      <td>-0.031991</td>\n",
       "      <td>-0.046641</td>\n",
       "      <td>135.0</td>\n",
       "    </tr>\n",
       "    <tr>\n",
       "      <th>...</th>\n",
       "      <td>...</td>\n",
       "      <td>...</td>\n",
       "      <td>...</td>\n",
       "      <td>...</td>\n",
       "      <td>...</td>\n",
       "      <td>...</td>\n",
       "      <td>...</td>\n",
       "      <td>...</td>\n",
       "      <td>...</td>\n",
       "      <td>...</td>\n",
       "      <td>...</td>\n",
       "    </tr>\n",
       "    <tr>\n",
       "      <th>437</th>\n",
       "      <td>0.041708</td>\n",
       "      <td>0.050680</td>\n",
       "      <td>0.019662</td>\n",
       "      <td>0.059744</td>\n",
       "      <td>-0.005697</td>\n",
       "      <td>-0.002566</td>\n",
       "      <td>-0.028674</td>\n",
       "      <td>-0.002592</td>\n",
       "      <td>0.031193</td>\n",
       "      <td>0.007207</td>\n",
       "      <td>178.0</td>\n",
       "    </tr>\n",
       "    <tr>\n",
       "      <th>438</th>\n",
       "      <td>-0.005515</td>\n",
       "      <td>0.050680</td>\n",
       "      <td>-0.015906</td>\n",
       "      <td>-0.067642</td>\n",
       "      <td>0.049341</td>\n",
       "      <td>0.079165</td>\n",
       "      <td>-0.028674</td>\n",
       "      <td>0.034309</td>\n",
       "      <td>-0.018118</td>\n",
       "      <td>0.044485</td>\n",
       "      <td>104.0</td>\n",
       "    </tr>\n",
       "    <tr>\n",
       "      <th>439</th>\n",
       "      <td>0.041708</td>\n",
       "      <td>0.050680</td>\n",
       "      <td>-0.015906</td>\n",
       "      <td>0.017282</td>\n",
       "      <td>-0.037344</td>\n",
       "      <td>-0.013840</td>\n",
       "      <td>-0.024993</td>\n",
       "      <td>-0.011080</td>\n",
       "      <td>-0.046879</td>\n",
       "      <td>0.015491</td>\n",
       "      <td>132.0</td>\n",
       "    </tr>\n",
       "    <tr>\n",
       "      <th>440</th>\n",
       "      <td>-0.045472</td>\n",
       "      <td>-0.044642</td>\n",
       "      <td>0.039062</td>\n",
       "      <td>0.001215</td>\n",
       "      <td>0.016318</td>\n",
       "      <td>0.015283</td>\n",
       "      <td>-0.028674</td>\n",
       "      <td>0.026560</td>\n",
       "      <td>0.044528</td>\n",
       "      <td>-0.025930</td>\n",
       "      <td>220.0</td>\n",
       "    </tr>\n",
       "    <tr>\n",
       "      <th>441</th>\n",
       "      <td>-0.045472</td>\n",
       "      <td>-0.044642</td>\n",
       "      <td>-0.073030</td>\n",
       "      <td>-0.081414</td>\n",
       "      <td>0.083740</td>\n",
       "      <td>0.027809</td>\n",
       "      <td>0.173816</td>\n",
       "      <td>-0.039493</td>\n",
       "      <td>-0.004220</td>\n",
       "      <td>0.003064</td>\n",
       "      <td>57.0</td>\n",
       "    </tr>\n",
       "  </tbody>\n",
       "</table>\n",
       "<p>442 rows × 11 columns</p>\n",
       "</div>"
      ],
      "text/plain": [
       "          age       sex       bmi        bp        s1        s2        s3  \\\n",
       "0    0.038076  0.050680  0.061696  0.021872 -0.044223 -0.034821 -0.043401   \n",
       "1   -0.001882 -0.044642 -0.051474 -0.026328 -0.008449 -0.019163  0.074412   \n",
       "2    0.085299  0.050680  0.044451 -0.005671 -0.045599 -0.034194 -0.032356   \n",
       "3   -0.089063 -0.044642 -0.011595 -0.036656  0.012191  0.024991 -0.036038   \n",
       "4    0.005383 -0.044642 -0.036385  0.021872  0.003935  0.015596  0.008142   \n",
       "..        ...       ...       ...       ...       ...       ...       ...   \n",
       "437  0.041708  0.050680  0.019662  0.059744 -0.005697 -0.002566 -0.028674   \n",
       "438 -0.005515  0.050680 -0.015906 -0.067642  0.049341  0.079165 -0.028674   \n",
       "439  0.041708  0.050680 -0.015906  0.017282 -0.037344 -0.013840 -0.024993   \n",
       "440 -0.045472 -0.044642  0.039062  0.001215  0.016318  0.015283 -0.028674   \n",
       "441 -0.045472 -0.044642 -0.073030 -0.081414  0.083740  0.027809  0.173816   \n",
       "\n",
       "           s4        s5        s6  target  \n",
       "0   -0.002592  0.019908 -0.017646   151.0  \n",
       "1   -0.039493 -0.068330 -0.092204    75.0  \n",
       "2   -0.002592  0.002864 -0.025930   141.0  \n",
       "3    0.034309  0.022692 -0.009362   206.0  \n",
       "4   -0.002592 -0.031991 -0.046641   135.0  \n",
       "..        ...       ...       ...     ...  \n",
       "437 -0.002592  0.031193  0.007207   178.0  \n",
       "438  0.034309 -0.018118  0.044485   104.0  \n",
       "439 -0.011080 -0.046879  0.015491   132.0  \n",
       "440  0.026560  0.044528 -0.025930   220.0  \n",
       "441 -0.039493 -0.004220  0.003064    57.0  \n",
       "\n",
       "[442 rows x 11 columns]"
      ]
     },
     "execution_count": 66,
     "metadata": {},
     "output_type": "execute_result"
    }
   ],
   "source": [
    "diabetes_df"
   ]
  },
  {
   "cell_type": "markdown",
   "id": "9273bfc8",
   "metadata": {},
   "source": [
    "<div style = \"height: 15px;\"></div>"
   ]
  },
  {
   "cell_type": "markdown",
   "id": "887d0f42",
   "metadata": {},
   "source": [
    "### 데이터 describe하기"
   ]
  },
  {
   "cell_type": "code",
   "execution_count": 67,
   "id": "74c0c50c",
   "metadata": {},
   "outputs": [
    {
     "data": {
      "text/html": [
       "<div>\n",
       "<style scoped>\n",
       "    .dataframe tbody tr th:only-of-type {\n",
       "        vertical-align: middle;\n",
       "    }\n",
       "\n",
       "    .dataframe tbody tr th {\n",
       "        vertical-align: top;\n",
       "    }\n",
       "\n",
       "    .dataframe thead th {\n",
       "        text-align: right;\n",
       "    }\n",
       "</style>\n",
       "<table border=\"1\" class=\"dataframe\">\n",
       "  <thead>\n",
       "    <tr style=\"text-align: right;\">\n",
       "      <th></th>\n",
       "      <th>age</th>\n",
       "      <th>sex</th>\n",
       "      <th>bmi</th>\n",
       "      <th>bp</th>\n",
       "      <th>s1</th>\n",
       "      <th>s2</th>\n",
       "      <th>s3</th>\n",
       "      <th>s4</th>\n",
       "      <th>s5</th>\n",
       "      <th>s6</th>\n",
       "      <th>target</th>\n",
       "    </tr>\n",
       "  </thead>\n",
       "  <tbody>\n",
       "    <tr>\n",
       "      <th>count</th>\n",
       "      <td>4.420000e+02</td>\n",
       "      <td>4.420000e+02</td>\n",
       "      <td>4.420000e+02</td>\n",
       "      <td>4.420000e+02</td>\n",
       "      <td>4.420000e+02</td>\n",
       "      <td>4.420000e+02</td>\n",
       "      <td>4.420000e+02</td>\n",
       "      <td>4.420000e+02</td>\n",
       "      <td>4.420000e+02</td>\n",
       "      <td>4.420000e+02</td>\n",
       "      <td>442.000000</td>\n",
       "    </tr>\n",
       "    <tr>\n",
       "      <th>mean</th>\n",
       "      <td>-3.634285e-16</td>\n",
       "      <td>1.308343e-16</td>\n",
       "      <td>-8.045349e-16</td>\n",
       "      <td>1.281655e-16</td>\n",
       "      <td>-8.835316e-17</td>\n",
       "      <td>1.327024e-16</td>\n",
       "      <td>-4.574646e-16</td>\n",
       "      <td>3.777301e-16</td>\n",
       "      <td>-3.830854e-16</td>\n",
       "      <td>-3.412882e-16</td>\n",
       "      <td>152.133484</td>\n",
       "    </tr>\n",
       "    <tr>\n",
       "      <th>std</th>\n",
       "      <td>4.761905e-02</td>\n",
       "      <td>4.761905e-02</td>\n",
       "      <td>4.761905e-02</td>\n",
       "      <td>4.761905e-02</td>\n",
       "      <td>4.761905e-02</td>\n",
       "      <td>4.761905e-02</td>\n",
       "      <td>4.761905e-02</td>\n",
       "      <td>4.761905e-02</td>\n",
       "      <td>4.761905e-02</td>\n",
       "      <td>4.761905e-02</td>\n",
       "      <td>77.093005</td>\n",
       "    </tr>\n",
       "    <tr>\n",
       "      <th>min</th>\n",
       "      <td>-1.072256e-01</td>\n",
       "      <td>-4.464164e-02</td>\n",
       "      <td>-9.027530e-02</td>\n",
       "      <td>-1.123996e-01</td>\n",
       "      <td>-1.267807e-01</td>\n",
       "      <td>-1.156131e-01</td>\n",
       "      <td>-1.023071e-01</td>\n",
       "      <td>-7.639450e-02</td>\n",
       "      <td>-1.260974e-01</td>\n",
       "      <td>-1.377672e-01</td>\n",
       "      <td>25.000000</td>\n",
       "    </tr>\n",
       "    <tr>\n",
       "      <th>25%</th>\n",
       "      <td>-3.729927e-02</td>\n",
       "      <td>-4.464164e-02</td>\n",
       "      <td>-3.422907e-02</td>\n",
       "      <td>-3.665645e-02</td>\n",
       "      <td>-3.424784e-02</td>\n",
       "      <td>-3.035840e-02</td>\n",
       "      <td>-3.511716e-02</td>\n",
       "      <td>-3.949338e-02</td>\n",
       "      <td>-3.324879e-02</td>\n",
       "      <td>-3.317903e-02</td>\n",
       "      <td>87.000000</td>\n",
       "    </tr>\n",
       "    <tr>\n",
       "      <th>50%</th>\n",
       "      <td>5.383060e-03</td>\n",
       "      <td>-4.464164e-02</td>\n",
       "      <td>-7.283766e-03</td>\n",
       "      <td>-5.670611e-03</td>\n",
       "      <td>-4.320866e-03</td>\n",
       "      <td>-3.819065e-03</td>\n",
       "      <td>-6.584468e-03</td>\n",
       "      <td>-2.592262e-03</td>\n",
       "      <td>-1.947634e-03</td>\n",
       "      <td>-1.077698e-03</td>\n",
       "      <td>140.500000</td>\n",
       "    </tr>\n",
       "    <tr>\n",
       "      <th>75%</th>\n",
       "      <td>3.807591e-02</td>\n",
       "      <td>5.068012e-02</td>\n",
       "      <td>3.124802e-02</td>\n",
       "      <td>3.564384e-02</td>\n",
       "      <td>2.835801e-02</td>\n",
       "      <td>2.984439e-02</td>\n",
       "      <td>2.931150e-02</td>\n",
       "      <td>3.430886e-02</td>\n",
       "      <td>3.243323e-02</td>\n",
       "      <td>2.791705e-02</td>\n",
       "      <td>211.500000</td>\n",
       "    </tr>\n",
       "    <tr>\n",
       "      <th>max</th>\n",
       "      <td>1.107267e-01</td>\n",
       "      <td>5.068012e-02</td>\n",
       "      <td>1.705552e-01</td>\n",
       "      <td>1.320442e-01</td>\n",
       "      <td>1.539137e-01</td>\n",
       "      <td>1.987880e-01</td>\n",
       "      <td>1.811791e-01</td>\n",
       "      <td>1.852344e-01</td>\n",
       "      <td>1.335990e-01</td>\n",
       "      <td>1.356118e-01</td>\n",
       "      <td>346.000000</td>\n",
       "    </tr>\n",
       "  </tbody>\n",
       "</table>\n",
       "</div>"
      ],
      "text/plain": [
       "                age           sex           bmi            bp            s1  \\\n",
       "count  4.420000e+02  4.420000e+02  4.420000e+02  4.420000e+02  4.420000e+02   \n",
       "mean  -3.634285e-16  1.308343e-16 -8.045349e-16  1.281655e-16 -8.835316e-17   \n",
       "std    4.761905e-02  4.761905e-02  4.761905e-02  4.761905e-02  4.761905e-02   \n",
       "min   -1.072256e-01 -4.464164e-02 -9.027530e-02 -1.123996e-01 -1.267807e-01   \n",
       "25%   -3.729927e-02 -4.464164e-02 -3.422907e-02 -3.665645e-02 -3.424784e-02   \n",
       "50%    5.383060e-03 -4.464164e-02 -7.283766e-03 -5.670611e-03 -4.320866e-03   \n",
       "75%    3.807591e-02  5.068012e-02  3.124802e-02  3.564384e-02  2.835801e-02   \n",
       "max    1.107267e-01  5.068012e-02  1.705552e-01  1.320442e-01  1.539137e-01   \n",
       "\n",
       "                 s2            s3            s4            s5            s6  \\\n",
       "count  4.420000e+02  4.420000e+02  4.420000e+02  4.420000e+02  4.420000e+02   \n",
       "mean   1.327024e-16 -4.574646e-16  3.777301e-16 -3.830854e-16 -3.412882e-16   \n",
       "std    4.761905e-02  4.761905e-02  4.761905e-02  4.761905e-02  4.761905e-02   \n",
       "min   -1.156131e-01 -1.023071e-01 -7.639450e-02 -1.260974e-01 -1.377672e-01   \n",
       "25%   -3.035840e-02 -3.511716e-02 -3.949338e-02 -3.324879e-02 -3.317903e-02   \n",
       "50%   -3.819065e-03 -6.584468e-03 -2.592262e-03 -1.947634e-03 -1.077698e-03   \n",
       "75%    2.984439e-02  2.931150e-02  3.430886e-02  3.243323e-02  2.791705e-02   \n",
       "max    1.987880e-01  1.811791e-01  1.852344e-01  1.335990e-01  1.356118e-01   \n",
       "\n",
       "           target  \n",
       "count  442.000000  \n",
       "mean   152.133484  \n",
       "std     77.093005  \n",
       "min     25.000000  \n",
       "25%     87.000000  \n",
       "50%    140.500000  \n",
       "75%    211.500000  \n",
       "max    346.000000  "
      ]
     },
     "execution_count": 67,
     "metadata": {},
     "output_type": "execute_result"
    }
   ],
   "source": [
    "diabetes_df.describe()"
   ]
  },
  {
   "cell_type": "markdown",
   "id": "bd02b772",
   "metadata": {},
   "source": [
    "<div style = \"height: 15px;\"></div>"
   ]
  },
  {
   "cell_type": "markdown",
   "id": "e5a08764",
   "metadata": {},
   "source": [
    "### 넘파이로 상관계수 구해보기"
   ]
  },
  {
   "cell_type": "code",
   "execution_count": 381,
   "id": "bd8cd803",
   "metadata": {},
   "outputs": [
    {
     "data": {
      "text/html": [
       "<div>\n",
       "<style scoped>\n",
       "    .dataframe tbody tr th:only-of-type {\n",
       "        vertical-align: middle;\n",
       "    }\n",
       "\n",
       "    .dataframe tbody tr th {\n",
       "        vertical-align: top;\n",
       "    }\n",
       "\n",
       "    .dataframe thead th {\n",
       "        text-align: right;\n",
       "    }\n",
       "</style>\n",
       "<table border=\"1\" class=\"dataframe\">\n",
       "  <thead>\n",
       "    <tr style=\"text-align: right;\">\n",
       "      <th></th>\n",
       "      <th>age</th>\n",
       "      <th>sex</th>\n",
       "      <th>bmi</th>\n",
       "      <th>bp</th>\n",
       "      <th>s1</th>\n",
       "      <th>s2</th>\n",
       "      <th>s3</th>\n",
       "      <th>s4</th>\n",
       "      <th>s5</th>\n",
       "      <th>s6</th>\n",
       "      <th>target</th>\n",
       "    </tr>\n",
       "  </thead>\n",
       "  <tbody>\n",
       "    <tr>\n",
       "      <th>age</th>\n",
       "      <td>1.000000</td>\n",
       "      <td>0.173737</td>\n",
       "      <td>0.185085</td>\n",
       "      <td>0.335427</td>\n",
       "      <td>0.260061</td>\n",
       "      <td>0.219243</td>\n",
       "      <td>-0.075181</td>\n",
       "      <td>0.203841</td>\n",
       "      <td>0.270777</td>\n",
       "      <td>0.301731</td>\n",
       "      <td>0.187889</td>\n",
       "    </tr>\n",
       "    <tr>\n",
       "      <th>sex</th>\n",
       "      <td>0.173737</td>\n",
       "      <td>1.000000</td>\n",
       "      <td>0.088161</td>\n",
       "      <td>0.241013</td>\n",
       "      <td>0.035277</td>\n",
       "      <td>0.142637</td>\n",
       "      <td>-0.379090</td>\n",
       "      <td>0.332115</td>\n",
       "      <td>0.149918</td>\n",
       "      <td>0.208133</td>\n",
       "      <td>0.043062</td>\n",
       "    </tr>\n",
       "    <tr>\n",
       "      <th>bmi</th>\n",
       "      <td>0.185085</td>\n",
       "      <td>0.088161</td>\n",
       "      <td>1.000000</td>\n",
       "      <td>0.395415</td>\n",
       "      <td>0.249777</td>\n",
       "      <td>0.261170</td>\n",
       "      <td>-0.366811</td>\n",
       "      <td>0.413807</td>\n",
       "      <td>0.446159</td>\n",
       "      <td>0.388680</td>\n",
       "      <td>0.586450</td>\n",
       "    </tr>\n",
       "    <tr>\n",
       "      <th>bp</th>\n",
       "      <td>0.335427</td>\n",
       "      <td>0.241013</td>\n",
       "      <td>0.395415</td>\n",
       "      <td>1.000000</td>\n",
       "      <td>0.242470</td>\n",
       "      <td>0.185558</td>\n",
       "      <td>-0.178761</td>\n",
       "      <td>0.257653</td>\n",
       "      <td>0.393478</td>\n",
       "      <td>0.390429</td>\n",
       "      <td>0.441484</td>\n",
       "    </tr>\n",
       "    <tr>\n",
       "      <th>s1</th>\n",
       "      <td>0.260061</td>\n",
       "      <td>0.035277</td>\n",
       "      <td>0.249777</td>\n",
       "      <td>0.242470</td>\n",
       "      <td>1.000000</td>\n",
       "      <td>0.896663</td>\n",
       "      <td>0.051519</td>\n",
       "      <td>0.542207</td>\n",
       "      <td>0.515501</td>\n",
       "      <td>0.325717</td>\n",
       "      <td>0.212022</td>\n",
       "    </tr>\n",
       "    <tr>\n",
       "      <th>s2</th>\n",
       "      <td>0.219243</td>\n",
       "      <td>0.142637</td>\n",
       "      <td>0.261170</td>\n",
       "      <td>0.185558</td>\n",
       "      <td>0.896663</td>\n",
       "      <td>1.000000</td>\n",
       "      <td>-0.196455</td>\n",
       "      <td>0.659817</td>\n",
       "      <td>0.318353</td>\n",
       "      <td>0.290600</td>\n",
       "      <td>0.174054</td>\n",
       "    </tr>\n",
       "    <tr>\n",
       "      <th>s3</th>\n",
       "      <td>-0.075181</td>\n",
       "      <td>-0.379090</td>\n",
       "      <td>-0.366811</td>\n",
       "      <td>-0.178761</td>\n",
       "      <td>0.051519</td>\n",
       "      <td>-0.196455</td>\n",
       "      <td>1.000000</td>\n",
       "      <td>-0.738493</td>\n",
       "      <td>-0.398577</td>\n",
       "      <td>-0.273697</td>\n",
       "      <td>-0.394789</td>\n",
       "    </tr>\n",
       "    <tr>\n",
       "      <th>s4</th>\n",
       "      <td>0.203841</td>\n",
       "      <td>0.332115</td>\n",
       "      <td>0.413807</td>\n",
       "      <td>0.257653</td>\n",
       "      <td>0.542207</td>\n",
       "      <td>0.659817</td>\n",
       "      <td>-0.738493</td>\n",
       "      <td>1.000000</td>\n",
       "      <td>0.617857</td>\n",
       "      <td>0.417212</td>\n",
       "      <td>0.430453</td>\n",
       "    </tr>\n",
       "    <tr>\n",
       "      <th>s5</th>\n",
       "      <td>0.270777</td>\n",
       "      <td>0.149918</td>\n",
       "      <td>0.446159</td>\n",
       "      <td>0.393478</td>\n",
       "      <td>0.515501</td>\n",
       "      <td>0.318353</td>\n",
       "      <td>-0.398577</td>\n",
       "      <td>0.617857</td>\n",
       "      <td>1.000000</td>\n",
       "      <td>0.464670</td>\n",
       "      <td>0.565883</td>\n",
       "    </tr>\n",
       "    <tr>\n",
       "      <th>s6</th>\n",
       "      <td>0.301731</td>\n",
       "      <td>0.208133</td>\n",
       "      <td>0.388680</td>\n",
       "      <td>0.390429</td>\n",
       "      <td>0.325717</td>\n",
       "      <td>0.290600</td>\n",
       "      <td>-0.273697</td>\n",
       "      <td>0.417212</td>\n",
       "      <td>0.464670</td>\n",
       "      <td>1.000000</td>\n",
       "      <td>0.382483</td>\n",
       "    </tr>\n",
       "    <tr>\n",
       "      <th>target</th>\n",
       "      <td>0.187889</td>\n",
       "      <td>0.043062</td>\n",
       "      <td>0.586450</td>\n",
       "      <td>0.441484</td>\n",
       "      <td>0.212022</td>\n",
       "      <td>0.174054</td>\n",
       "      <td>-0.394789</td>\n",
       "      <td>0.430453</td>\n",
       "      <td>0.565883</td>\n",
       "      <td>0.382483</td>\n",
       "      <td>1.000000</td>\n",
       "    </tr>\n",
       "  </tbody>\n",
       "</table>\n",
       "</div>"
      ],
      "text/plain": [
       "             age       sex       bmi        bp        s1        s2        s3  \\\n",
       "age     1.000000  0.173737  0.185085  0.335427  0.260061  0.219243 -0.075181   \n",
       "sex     0.173737  1.000000  0.088161  0.241013  0.035277  0.142637 -0.379090   \n",
       "bmi     0.185085  0.088161  1.000000  0.395415  0.249777  0.261170 -0.366811   \n",
       "bp      0.335427  0.241013  0.395415  1.000000  0.242470  0.185558 -0.178761   \n",
       "s1      0.260061  0.035277  0.249777  0.242470  1.000000  0.896663  0.051519   \n",
       "s2      0.219243  0.142637  0.261170  0.185558  0.896663  1.000000 -0.196455   \n",
       "s3     -0.075181 -0.379090 -0.366811 -0.178761  0.051519 -0.196455  1.000000   \n",
       "s4      0.203841  0.332115  0.413807  0.257653  0.542207  0.659817 -0.738493   \n",
       "s5      0.270777  0.149918  0.446159  0.393478  0.515501  0.318353 -0.398577   \n",
       "s6      0.301731  0.208133  0.388680  0.390429  0.325717  0.290600 -0.273697   \n",
       "target  0.187889  0.043062  0.586450  0.441484  0.212022  0.174054 -0.394789   \n",
       "\n",
       "              s4        s5        s6    target  \n",
       "age     0.203841  0.270777  0.301731  0.187889  \n",
       "sex     0.332115  0.149918  0.208133  0.043062  \n",
       "bmi     0.413807  0.446159  0.388680  0.586450  \n",
       "bp      0.257653  0.393478  0.390429  0.441484  \n",
       "s1      0.542207  0.515501  0.325717  0.212022  \n",
       "s2      0.659817  0.318353  0.290600  0.174054  \n",
       "s3     -0.738493 -0.398577 -0.273697 -0.394789  \n",
       "s4      1.000000  0.617857  0.417212  0.430453  \n",
       "s5      0.617857  1.000000  0.464670  0.565883  \n",
       "s6      0.417212  0.464670  1.000000  0.382483  \n",
       "target  0.430453  0.565883  0.382483  1.000000  "
      ]
     },
     "execution_count": 381,
     "metadata": {},
     "output_type": "execute_result"
    }
   ],
   "source": [
    "diabetes_df.corr(method = 'pearson')"
   ]
  },
  {
   "cell_type": "markdown",
   "id": "24df14a8",
   "metadata": {},
   "source": [
    "<p style= \"font-size:15px; line-height:24px;\">각각의 컬럼들과 target 값의 상관 관계를 확인해본 결과, 모든 컬럼은 target 대해 상관관계를 가지고 있다.<br/>\n",
    "따라서, <span style = 'background-color:#fff5b1; padding:0.2px;'>x에는 모든 컬럼을 넣을 것이다.</span></p>"
   ]
  },
  {
   "cell_type": "markdown",
   "id": "720ad2c9",
   "metadata": {},
   "source": [
    "<div style = \"height: 15px;\"></div>"
   ]
  },
  {
   "cell_type": "markdown",
   "id": "809f54b0",
   "metadata": {},
   "source": [
    "## 2. 모델에 입력할 데이터 X 준비하기\n",
    "<hr/>"
   ]
  },
  {
   "cell_type": "code",
   "execution_count": 68,
   "id": "0c847369",
   "metadata": {},
   "outputs": [
    {
     "data": {
      "text/plain": [
       "(442, 10)"
      ]
     },
     "execution_count": 68,
     "metadata": {},
     "output_type": "execute_result"
    }
   ],
   "source": [
    "x = np.array(df_X)\n",
    "x.shape"
   ]
  },
  {
   "cell_type": "markdown",
   "id": "6d76d450",
   "metadata": {},
   "source": [
    "<div style = \"height: 15px;\"></div>"
   ]
  },
  {
   "cell_type": "markdown",
   "id": "b1e2aa43",
   "metadata": {},
   "source": [
    "## 3. 모델에 입력할 데이터 y 준비하기\n",
    "<hr/>"
   ]
  },
  {
   "cell_type": "code",
   "execution_count": 69,
   "id": "329e070e",
   "metadata": {},
   "outputs": [
    {
     "data": {
      "text/plain": [
       "(442,)"
      ]
     },
     "execution_count": 69,
     "metadata": {},
     "output_type": "execute_result"
    }
   ],
   "source": [
    "y = np.array(df_y)\n",
    "y.shape"
   ]
  },
  {
   "cell_type": "markdown",
   "id": "9a4addc1",
   "metadata": {},
   "source": [
    "<p style= \"font-size:15px; line-height:24px;\">x와 df_X를 확인해본결과, 둘 다 넘파이 배열인 것을 확인할 수 있었습니다.<br/>np.array를 사용할 필요는 없다고 생각하나, LMS에 진행하라는 순서대로 진행했습니다.</p>"
   ]
  },
  {
   "cell_type": "markdown",
   "id": "9d50228a",
   "metadata": {},
   "source": [
    "<div style = \"height: 15px;\"></div>"
   ]
  },
  {
   "cell_type": "markdown",
   "id": "dff13b55",
   "metadata": {},
   "source": [
    "## 4. train 데이터와 test 데이터로 분리하기\n",
    "<hr/>"
   ]
  },
  {
   "cell_type": "code",
   "execution_count": 70,
   "id": "5d8d1a7a",
   "metadata": {},
   "outputs": [],
   "source": [
    "x_train, x_test, y_train, y_test = train_test_split(x, y, test_size = 0.2, random_state = 42)"
   ]
  },
  {
   "cell_type": "markdown",
   "id": "e12d6a22",
   "metadata": {},
   "source": [
    "<div style = \"height: 15px;\"></div>"
   ]
  },
  {
   "cell_type": "markdown",
   "id": "978fd4ee",
   "metadata": {},
   "source": [
    "## 5. 모델 준비하기\n",
    "<hr/>"
   ]
  },
  {
   "cell_type": "markdown",
   "id": "10ed4d2c",
   "metadata": {},
   "source": [
    "### 가중치 w와 b 준비하기"
   ]
  },
  {
   "cell_type": "code",
   "execution_count": 71,
   "id": "f22ef052",
   "metadata": {},
   "outputs": [],
   "source": [
    "w = np.random.rand(10)\n",
    "b = np.random.rand()"
   ]
  },
  {
   "cell_type": "code",
   "execution_count": 72,
   "id": "ec8118b8",
   "metadata": {},
   "outputs": [
    {
     "data": {
      "text/plain": [
       "array([0.47122209, 0.69717663, 0.87963764, 0.19413035, 0.01990065,\n",
       "       0.99167067, 0.02502401, 0.48655232, 0.04700484, 0.32593107])"
      ]
     },
     "execution_count": 72,
     "metadata": {},
     "output_type": "execute_result"
    }
   ],
   "source": [
    "w"
   ]
  },
  {
   "cell_type": "code",
   "execution_count": 73,
   "id": "ade55bdf",
   "metadata": {},
   "outputs": [
    {
     "data": {
      "text/plain": [
       "0.5097612245787113"
      ]
     },
     "execution_count": 73,
     "metadata": {},
     "output_type": "execute_result"
    }
   ],
   "source": [
    "b"
   ]
  },
  {
   "cell_type": "markdown",
   "id": "5368a96c",
   "metadata": {},
   "source": [
    "<div style = \"height: 15px;\"></div>"
   ]
  },
  {
   "cell_type": "markdown",
   "id": "ea65224f",
   "metadata": {},
   "source": [
    "### 모양 확인하기"
   ]
  },
  {
   "cell_type": "code",
   "execution_count": 74,
   "id": "91e7898b",
   "metadata": {},
   "outputs": [
    {
     "data": {
      "text/plain": [
       "(442, 10)"
      ]
     },
     "execution_count": 74,
     "metadata": {},
     "output_type": "execute_result"
    }
   ],
   "source": [
    "x.shape"
   ]
  },
  {
   "cell_type": "code",
   "execution_count": 75,
   "id": "e998ad62",
   "metadata": {},
   "outputs": [
    {
     "data": {
      "text/plain": [
       "(442,)"
      ]
     },
     "execution_count": 75,
     "metadata": {},
     "output_type": "execute_result"
    }
   ],
   "source": [
    "y.shape"
   ]
  },
  {
   "cell_type": "code",
   "execution_count": 76,
   "id": "884d6fa0",
   "metadata": {},
   "outputs": [
    {
     "data": {
      "text/plain": [
       "(10,)"
      ]
     },
     "execution_count": 76,
     "metadata": {},
     "output_type": "execute_result"
    }
   ],
   "source": [
    "w.shape"
   ]
  },
  {
   "cell_type": "markdown",
   "id": "90bd9774",
   "metadata": {},
   "source": [
    "<div style = \"height: 15px;\"></div>"
   ]
  },
  {
   "cell_type": "markdown",
   "id": "dcc515de",
   "metadata": {},
   "source": [
    "### 모델 함수 구현하기"
   ]
  },
  {
   "cell_type": "code",
   "execution_count": 77,
   "id": "4b13a1ed",
   "metadata": {},
   "outputs": [],
   "source": [
    "# y값 찾는 모델 함수 \n",
    "def model(x, w, b):\n",
    "    predictions = 0\n",
    "    for i in range(10):\n",
    "        predictions += x[:,i] * w[i] \n",
    "    predictions += b\n",
    "    return predictions"
   ]
  },
  {
   "cell_type": "markdown",
   "id": "15c1fdbe",
   "metadata": {},
   "source": [
    "<div style = \"height: 15px;\"></div>"
   ]
  },
  {
   "cell_type": "markdown",
   "id": "fd02e72e",
   "metadata": {},
   "source": [
    "## 6. 손실함수 loss 정의하기\n",
    "<hr/>"
   ]
  },
  {
   "cell_type": "markdown",
   "id": "68338da5",
   "metadata": {},
   "source": [
    "### 손실함수를 MSE 함수로 정의"
   ]
  },
  {
   "cell_type": "code",
   "execution_count": 78,
   "id": "e72cd399",
   "metadata": {},
   "outputs": [],
   "source": [
    "def MSE(a, b):\n",
    "    mse = ((a - b) ** 2).mean()\n",
    "    return mse"
   ]
  },
  {
   "cell_type": "markdown",
   "id": "dde33fe7",
   "metadata": {},
   "source": [
    "MSE : 오차의 제곱의 평균"
   ]
  },
  {
   "cell_type": "code",
   "execution_count": 79,
   "id": "b98ed54a",
   "metadata": {},
   "outputs": [],
   "source": [
    "# loss 값 찾는 함수 \n",
    "def loss(x, w, b, y):\n",
    "    prediction = model(x, w, b)\n",
    "    l = MSE(prediction, y)\n",
    "    return l"
   ]
  },
  {
   "cell_type": "markdown",
   "id": "934bedfe",
   "metadata": {},
   "source": [
    "<p style= \"font-size:15px; line-height:24px;\"><b>손실 함수(loss function)</b>: 모델의 예측값과 정답값에 대한 차이를 계산하는 함수<br/>\n",
    "모델을 돌려 예측 값을 predictions 변수에 저장한 후, predictions와 y를 받아 MSE함수를 구동하여 결과값을 변수 l에 저장한다.</p>"
   ]
  },
  {
   "cell_type": "markdown",
   "id": "9ba5d54f",
   "metadata": {},
   "source": [
    "<div style = \"height: 15px;\"></div>"
   ]
  },
  {
   "cell_type": "code",
   "execution_count": 80,
   "id": "6ada2cc5",
   "metadata": {},
   "outputs": [],
   "source": [
    "loss_value = loss(x, w, b, y)"
   ]
  },
  {
   "cell_type": "code",
   "execution_count": 81,
   "id": "fe4ab599",
   "metadata": {},
   "outputs": [
    {
     "data": {
      "text/plain": [
       "28910.51274125164"
      ]
     },
     "execution_count": 81,
     "metadata": {},
     "output_type": "execute_result"
    }
   ],
   "source": [
    "loss_value"
   ]
  },
  {
   "cell_type": "markdown",
   "id": "1f0f2b23",
   "metadata": {},
   "source": [
    "<p style= \"font-size:15px; line-height:24px;\"><span style = 'background-color:#fff5b1; padding:0.2px;'>loss값을 출력해본 결과, 28979.70055280569</span>라는 엄청난 값이 나왔다. <br/>loss값을 줄이기 위해 gradien 함수를 만들어 적용시키고자 한다.</p>"
   ]
  },
  {
   "cell_type": "markdown",
   "id": "83aff019",
   "metadata": {},
   "source": [
    "<div style = \"height: 15px;\"></div>"
   ]
  },
  {
   "cell_type": "markdown",
   "id": "e511da1e",
   "metadata": {},
   "source": [
    "## 7. 기울기를 구하는 gradient 함수 구현하기\n",
    "<hr/>"
   ]
  },
  {
   "cell_type": "code",
   "execution_count": 82,
   "id": "fb1afbd0",
   "metadata": {},
   "outputs": [],
   "source": [
    "def gradient(x, w, b, y):\n",
    "    # n은 가중치의 개수\n",
    "    n = len(w)\n",
    "    \n",
    "    # y_pred 준비\n",
    "    y_pred = model(x, w, b)\n",
    "    \n",
    "    # 공식에 맞게 gradient 계산\n",
    "    dw = 1/n * 2 * x.T.dot(y_pred - y)\n",
    "    \n",
    "    # b의 gradient 계산\n",
    "    db = 2 * (y_pred - y).mean()\n",
    "    return dw, db"
   ]
  },
  {
   "cell_type": "markdown",
   "id": "26e2da66",
   "metadata": {},
   "source": [
    "<div style = \"height: 15px;\"></div>"
   ]
  },
  {
   "cell_type": "markdown",
   "id": "dce28f96",
   "metadata": {},
   "source": [
    "### 경사 계산해보기"
   ]
  },
  {
   "cell_type": "code",
   "execution_count": 83,
   "id": "32411aa3",
   "metadata": {},
   "outputs": [],
   "source": [
    "w, b = gradient(x, w, b, y)"
   ]
  },
  {
   "cell_type": "code",
   "execution_count": 84,
   "id": "c1af9360",
   "metadata": {},
   "outputs": [
    {
     "data": {
      "text/plain": [
       "array([ -60.58636828,  -13.68856641, -189.54528027, -142.68362548,\n",
       "        -68.30718766,  -55.97615329,  127.57043398, -138.96864128,\n",
       "       -182.92454039, -123.53585197])"
      ]
     },
     "execution_count": 84,
     "metadata": {},
     "output_type": "execute_result"
    }
   ],
   "source": [
    "w"
   ]
  },
  {
   "cell_type": "code",
   "execution_count": 85,
   "id": "bdb5e887",
   "metadata": {},
   "outputs": [
    {
     "data": {
      "text/plain": [
       "-303.2474458766344"
      ]
     },
     "execution_count": 85,
     "metadata": {},
     "output_type": "execute_result"
    }
   ],
   "source": [
    "b"
   ]
  },
  {
   "cell_type": "code",
   "execution_count": 86,
   "id": "38e8ba81",
   "metadata": {},
   "outputs": [
    {
     "name": "stdout",
     "output_type": "stream",
     "text": [
      "217990.08676150785\n"
     ]
    }
   ],
   "source": [
    "print(loss(x, w, b, y))"
   ]
  },
  {
   "cell_type": "markdown",
   "id": "0c67b0b3",
   "metadata": {},
   "source": [
    "<div style = \"height: 50px;\"></div>"
   ]
  },
  {
   "cell_type": "markdown",
   "id": "5a30f1f7",
   "metadata": {},
   "source": [
    "## 8. 하이퍼 파라미터인 학습률 설정하기\n",
    "<hr/>"
   ]
  },
  {
   "cell_type": "markdown",
   "id": "511001ac",
   "metadata": {},
   "source": [
    "### 학습률, learning rate 설정하기"
   ]
  },
  {
   "cell_type": "code",
   "execution_count": 87,
   "id": "c2361e11",
   "metadata": {},
   "outputs": [],
   "source": [
    "# 임의로 learning rate 지정하기\n",
    "learning_rate = 0.0001"
   ]
  },
  {
   "cell_type": "markdown",
   "id": "616b5e14",
   "metadata": {},
   "source": [
    "<div style = \"height: 15px;\"></div>"
   ]
  },
  {
   "cell_type": "markdown",
   "id": "c92c9606",
   "metadata": {},
   "source": [
    "### 학습해보기"
   ]
  },
  {
   "cell_type": "code",
   "execution_count": 88,
   "id": "2564125e",
   "metadata": {},
   "outputs": [
    {
     "name": "stdout",
     "output_type": "stream",
     "text": [
      "Iteration 2 : Loss 217822.17\n",
      "Iteration 4 : Loss 217654.39\n",
      "Iteration 6 : Loss 217486.74\n",
      "Iteration 8 : Loss 217319.22\n",
      "Iteration 10 : Loss 217151.84\n",
      "Iteration 12 : Loss 216984.59\n",
      "Iteration 14 : Loss 216817.47\n",
      "Iteration 16 : Loss 216650.49\n",
      "Iteration 18 : Loss 216483.64\n",
      "Iteration 20 : Loss 216316.92\n",
      "Iteration 22 : Loss 216150.33\n",
      "Iteration 24 : Loss 215983.87\n",
      "Iteration 26 : Loss 215817.55\n",
      "Iteration 28 : Loss 215651.36\n",
      "Iteration 30 : Loss 215485.30\n",
      "Iteration 32 : Loss 215319.37\n",
      "Iteration 34 : Loss 215153.58\n",
      "Iteration 36 : Loss 214987.91\n",
      "Iteration 38 : Loss 214822.38\n",
      "Iteration 40 : Loss 214656.98\n",
      "Iteration 42 : Loss 214491.71\n",
      "Iteration 44 : Loss 214326.57\n",
      "Iteration 46 : Loss 214161.56\n",
      "Iteration 48 : Loss 213996.68\n",
      "Iteration 50 : Loss 213831.94\n",
      "Iteration 52 : Loss 213667.32\n",
      "Iteration 54 : Loss 213502.84\n",
      "Iteration 56 : Loss 213338.48\n",
      "Iteration 58 : Loss 213174.26\n",
      "Iteration 60 : Loss 213010.16\n",
      "Iteration 62 : Loss 212846.20\n",
      "Iteration 64 : Loss 212682.37\n",
      "Iteration 66 : Loss 212518.66\n",
      "Iteration 68 : Loss 212355.09\n",
      "Iteration 70 : Loss 212191.65\n",
      "Iteration 72 : Loss 212028.33\n",
      "Iteration 74 : Loss 211865.15\n",
      "Iteration 76 : Loss 211702.09\n",
      "Iteration 78 : Loss 211539.17\n",
      "Iteration 80 : Loss 211376.37\n",
      "Iteration 82 : Loss 211213.71\n",
      "Iteration 84 : Loss 211051.17\n",
      "Iteration 86 : Loss 210888.76\n",
      "Iteration 88 : Loss 210726.48\n",
      "Iteration 90 : Loss 210564.33\n",
      "Iteration 92 : Loss 210402.31\n",
      "Iteration 94 : Loss 210240.41\n",
      "Iteration 96 : Loss 210078.65\n",
      "Iteration 98 : Loss 209917.01\n",
      "Iteration 100 : Loss 209755.50\n",
      "Iteration 102 : Loss 209594.12\n",
      "Iteration 104 : Loss 209432.87\n",
      "Iteration 106 : Loss 209271.74\n",
      "Iteration 108 : Loss 209110.75\n",
      "Iteration 110 : Loss 208949.88\n",
      "Iteration 112 : Loss 208789.13\n",
      "Iteration 114 : Loss 208628.52\n",
      "Iteration 116 : Loss 208468.03\n",
      "Iteration 118 : Loss 208307.68\n",
      "Iteration 120 : Loss 208147.44\n",
      "Iteration 122 : Loss 207987.34\n",
      "Iteration 124 : Loss 207827.36\n",
      "Iteration 126 : Loss 207667.51\n",
      "Iteration 128 : Loss 207507.79\n",
      "Iteration 130 : Loss 207348.19\n",
      "Iteration 132 : Loss 207188.72\n",
      "Iteration 134 : Loss 207029.37\n",
      "Iteration 136 : Loss 206870.16\n",
      "Iteration 138 : Loss 206711.07\n",
      "Iteration 140 : Loss 206552.10\n",
      "Iteration 142 : Loss 206393.26\n",
      "Iteration 144 : Loss 206234.55\n",
      "Iteration 146 : Loss 206075.96\n",
      "Iteration 148 : Loss 205917.50\n",
      "Iteration 150 : Loss 205759.17\n",
      "Iteration 152 : Loss 205600.96\n",
      "Iteration 154 : Loss 205442.87\n",
      "Iteration 156 : Loss 205284.91\n",
      "Iteration 158 : Loss 205127.08\n",
      "Iteration 160 : Loss 204969.37\n",
      "Iteration 162 : Loss 204811.79\n",
      "Iteration 164 : Loss 204654.33\n",
      "Iteration 166 : Loss 204497.00\n",
      "Iteration 168 : Loss 204339.79\n",
      "Iteration 170 : Loss 204182.71\n",
      "Iteration 172 : Loss 204025.75\n",
      "Iteration 174 : Loss 203868.91\n",
      "Iteration 176 : Loss 203712.20\n",
      "Iteration 178 : Loss 203555.62\n",
      "Iteration 180 : Loss 203399.16\n",
      "Iteration 182 : Loss 203242.82\n",
      "Iteration 184 : Loss 203086.61\n",
      "Iteration 186 : Loss 202930.52\n",
      "Iteration 188 : Loss 202774.55\n",
      "Iteration 190 : Loss 202618.71\n",
      "Iteration 192 : Loss 202462.99\n",
      "Iteration 194 : Loss 202307.40\n",
      "Iteration 196 : Loss 202151.93\n",
      "Iteration 198 : Loss 201996.58\n",
      "Iteration 200 : Loss 201841.35\n",
      "Iteration 202 : Loss 201686.25\n",
      "Iteration 204 : Loss 201531.27\n",
      "Iteration 206 : Loss 201376.42\n",
      "Iteration 208 : Loss 201221.69\n",
      "Iteration 210 : Loss 201067.08\n",
      "Iteration 212 : Loss 200912.59\n",
      "Iteration 214 : Loss 200758.22\n",
      "Iteration 216 : Loss 200603.98\n",
      "Iteration 218 : Loss 200449.86\n",
      "Iteration 220 : Loss 200295.87\n",
      "Iteration 222 : Loss 200141.99\n",
      "Iteration 224 : Loss 199988.24\n",
      "Iteration 226 : Loss 199834.61\n",
      "Iteration 228 : Loss 199681.10\n",
      "Iteration 230 : Loss 199527.71\n",
      "Iteration 232 : Loss 199374.44\n",
      "Iteration 234 : Loss 199221.30\n",
      "Iteration 236 : Loss 199068.28\n",
      "Iteration 238 : Loss 198915.37\n",
      "Iteration 240 : Loss 198762.59\n",
      "Iteration 242 : Loss 198609.94\n",
      "Iteration 244 : Loss 198457.40\n",
      "Iteration 246 : Loss 198304.98\n",
      "Iteration 248 : Loss 198152.69\n",
      "Iteration 250 : Loss 198000.51\n",
      "Iteration 252 : Loss 197848.46\n",
      "Iteration 254 : Loss 197696.52\n",
      "Iteration 256 : Loss 197544.71\n",
      "Iteration 258 : Loss 197393.02\n",
      "Iteration 260 : Loss 197241.44\n",
      "Iteration 262 : Loss 197089.99\n",
      "Iteration 264 : Loss 196938.66\n",
      "Iteration 266 : Loss 196787.45\n",
      "Iteration 268 : Loss 196636.36\n",
      "Iteration 270 : Loss 196485.38\n",
      "Iteration 272 : Loss 196334.53\n",
      "Iteration 274 : Loss 196183.80\n",
      "Iteration 276 : Loss 196033.18\n",
      "Iteration 278 : Loss 195882.69\n",
      "Iteration 280 : Loss 195732.32\n",
      "Iteration 282 : Loss 195582.06\n",
      "Iteration 284 : Loss 195431.93\n",
      "Iteration 286 : Loss 195281.91\n",
      "Iteration 288 : Loss 195132.01\n",
      "Iteration 290 : Loss 194982.23\n",
      "Iteration 292 : Loss 194832.57\n",
      "Iteration 294 : Loss 194683.03\n",
      "Iteration 296 : Loss 194533.61\n",
      "Iteration 298 : Loss 194384.30\n",
      "Iteration 300 : Loss 194235.12\n",
      "Iteration 302 : Loss 194086.05\n",
      "Iteration 304 : Loss 193937.10\n",
      "Iteration 306 : Loss 193788.27\n",
      "Iteration 308 : Loss 193639.56\n",
      "Iteration 310 : Loss 193490.96\n",
      "Iteration 312 : Loss 193342.48\n",
      "Iteration 314 : Loss 193194.13\n",
      "Iteration 316 : Loss 193045.88\n",
      "Iteration 318 : Loss 192897.76\n",
      "Iteration 320 : Loss 192749.75\n",
      "Iteration 322 : Loss 192601.86\n",
      "Iteration 324 : Loss 192454.09\n",
      "Iteration 326 : Loss 192306.44\n",
      "Iteration 328 : Loss 192158.90\n",
      "Iteration 330 : Loss 192011.48\n",
      "Iteration 332 : Loss 191864.17\n",
      "Iteration 334 : Loss 191716.99\n",
      "Iteration 336 : Loss 191569.92\n",
      "Iteration 338 : Loss 191422.96\n",
      "Iteration 340 : Loss 191276.13\n",
      "Iteration 342 : Loss 191129.41\n",
      "Iteration 344 : Loss 190982.80\n",
      "Iteration 346 : Loss 190836.31\n",
      "Iteration 348 : Loss 190689.94\n",
      "Iteration 350 : Loss 190543.69\n",
      "Iteration 352 : Loss 190397.55\n",
      "Iteration 354 : Loss 190251.52\n",
      "Iteration 356 : Loss 190105.61\n",
      "Iteration 358 : Loss 189959.82\n",
      "Iteration 360 : Loss 189814.15\n",
      "Iteration 362 : Loss 189668.58\n",
      "Iteration 364 : Loss 189523.14\n",
      "Iteration 366 : Loss 189377.81\n",
      "Iteration 368 : Loss 189232.59\n",
      "Iteration 370 : Loss 189087.49\n",
      "Iteration 372 : Loss 188942.51\n",
      "Iteration 374 : Loss 188797.64\n",
      "Iteration 376 : Loss 188652.88\n",
      "Iteration 378 : Loss 188508.24\n",
      "Iteration 380 : Loss 188363.72\n",
      "Iteration 382 : Loss 188219.31\n",
      "Iteration 384 : Loss 188075.01\n",
      "Iteration 386 : Loss 187930.83\n",
      "Iteration 388 : Loss 187786.76\n",
      "Iteration 390 : Loss 187642.81\n",
      "Iteration 392 : Loss 187498.97\n",
      "Iteration 394 : Loss 187355.25\n",
      "Iteration 396 : Loss 187211.64\n",
      "Iteration 398 : Loss 187068.14\n",
      "Iteration 400 : Loss 186924.75\n",
      "Iteration 402 : Loss 186781.49\n",
      "Iteration 404 : Loss 186638.33\n",
      "Iteration 406 : Loss 186495.29\n",
      "Iteration 408 : Loss 186352.36\n",
      "Iteration 410 : Loss 186209.54\n",
      "Iteration 412 : Loss 186066.84\n",
      "Iteration 414 : Loss 185924.25\n",
      "Iteration 416 : Loss 185781.77\n",
      "Iteration 418 : Loss 185639.41\n",
      "Iteration 420 : Loss 185497.16\n",
      "Iteration 422 : Loss 185355.02\n",
      "Iteration 424 : Loss 185213.00\n",
      "Iteration 426 : Loss 185071.09\n",
      "Iteration 428 : Loss 184929.29\n",
      "Iteration 430 : Loss 184787.60\n",
      "Iteration 432 : Loss 184646.02\n",
      "Iteration 434 : Loss 184504.56\n",
      "Iteration 436 : Loss 184363.21\n",
      "Iteration 438 : Loss 184221.97\n",
      "Iteration 440 : Loss 184080.85\n",
      "Iteration 442 : Loss 183939.83\n",
      "Iteration 444 : Loss 183798.93\n",
      "Iteration 446 : Loss 183658.14\n",
      "Iteration 448 : Loss 183517.46\n",
      "Iteration 450 : Loss 183376.89\n",
      "Iteration 452 : Loss 183236.44\n",
      "Iteration 454 : Loss 183096.09\n",
      "Iteration 456 : Loss 182955.86\n",
      "Iteration 458 : Loss 182815.74\n",
      "Iteration 460 : Loss 182675.72\n",
      "Iteration 462 : Loss 182535.82\n",
      "Iteration 464 : Loss 182396.04\n",
      "Iteration 466 : Loss 182256.36\n",
      "Iteration 468 : Loss 182116.79\n",
      "Iteration 470 : Loss 181977.33\n",
      "Iteration 472 : Loss 181837.99\n",
      "Iteration 474 : Loss 181698.75\n",
      "Iteration 476 : Loss 181559.62\n",
      "Iteration 478 : Loss 181420.61\n",
      "Iteration 480 : Loss 181281.70\n",
      "Iteration 482 : Loss 181142.91\n",
      "Iteration 484 : Loss 181004.22\n",
      "Iteration 486 : Loss 180865.65\n",
      "Iteration 488 : Loss 180727.18\n",
      "Iteration 490 : Loss 180588.83\n",
      "Iteration 492 : Loss 180450.58\n",
      "Iteration 494 : Loss 180312.45\n",
      "Iteration 496 : Loss 180174.42\n",
      "Iteration 498 : Loss 180036.50\n",
      "Iteration 500 : Loss 179898.70\n",
      "Iteration 502 : Loss 179761.00\n",
      "Iteration 504 : Loss 179623.41\n",
      "Iteration 506 : Loss 179485.93\n",
      "Iteration 508 : Loss 179348.56\n",
      "Iteration 510 : Loss 179211.30\n",
      "Iteration 512 : Loss 179074.14\n",
      "Iteration 514 : Loss 178937.10\n",
      "Iteration 516 : Loss 178800.16\n",
      "Iteration 518 : Loss 178663.34\n",
      "Iteration 520 : Loss 178526.62\n",
      "Iteration 522 : Loss 178390.01\n",
      "Iteration 524 : Loss 178253.50\n",
      "Iteration 526 : Loss 178117.11\n",
      "Iteration 528 : Loss 177980.82\n",
      "Iteration 530 : Loss 177844.65\n",
      "Iteration 532 : Loss 177708.58\n",
      "Iteration 534 : Loss 177572.61\n",
      "Iteration 536 : Loss 177436.76\n",
      "Iteration 538 : Loss 177301.01\n",
      "Iteration 540 : Loss 177165.38\n",
      "Iteration 542 : Loss 177029.84\n",
      "Iteration 544 : Loss 176894.42\n",
      "Iteration 546 : Loss 176759.10\n",
      "Iteration 548 : Loss 176623.89\n",
      "Iteration 550 : Loss 176488.79\n",
      "Iteration 552 : Loss 176353.80\n",
      "Iteration 554 : Loss 176218.91\n",
      "Iteration 556 : Loss 176084.13\n",
      "Iteration 558 : Loss 175949.45\n",
      "Iteration 560 : Loss 175814.89\n",
      "Iteration 562 : Loss 175680.43\n",
      "Iteration 564 : Loss 175546.07\n",
      "Iteration 566 : Loss 175411.82\n",
      "Iteration 568 : Loss 175277.68\n",
      "Iteration 570 : Loss 175143.65\n",
      "Iteration 572 : Loss 175009.72\n",
      "Iteration 574 : Loss 174875.90\n",
      "Iteration 576 : Loss 174742.18\n",
      "Iteration 578 : Loss 174608.57\n",
      "Iteration 580 : Loss 174475.07\n",
      "Iteration 582 : Loss 174341.67\n",
      "Iteration 584 : Loss 174208.38\n",
      "Iteration 586 : Loss 174075.19\n",
      "Iteration 588 : Loss 173942.11\n",
      "Iteration 590 : Loss 173809.13\n",
      "Iteration 592 : Loss 173676.26\n",
      "Iteration 594 : Loss 173543.50\n",
      "Iteration 596 : Loss 173410.84\n",
      "Iteration 598 : Loss 173278.28\n",
      "Iteration 600 : Loss 173145.83\n",
      "Iteration 602 : Loss 173013.49\n",
      "Iteration 604 : Loss 172881.25\n",
      "Iteration 606 : Loss 172749.11\n",
      "Iteration 608 : Loss 172617.08\n",
      "Iteration 610 : Loss 172485.15\n",
      "Iteration 612 : Loss 172353.33\n",
      "Iteration 614 : Loss 172221.62\n",
      "Iteration 616 : Loss 172090.00\n",
      "Iteration 618 : Loss 171958.50\n",
      "Iteration 620 : Loss 171827.09\n",
      "Iteration 622 : Loss 171695.79\n",
      "Iteration 624 : Loss 171564.60\n",
      "Iteration 626 : Loss 171433.51\n",
      "Iteration 628 : Loss 171302.52\n",
      "Iteration 630 : Loss 171171.64\n",
      "Iteration 632 : Loss 171040.86\n",
      "Iteration 634 : Loss 170910.18\n",
      "Iteration 636 : Loss 170779.61\n",
      "Iteration 638 : Loss 170649.14\n",
      "Iteration 640 : Loss 170518.77\n",
      "Iteration 642 : Loss 170388.51\n",
      "Iteration 644 : Loss 170258.35\n",
      "Iteration 646 : Loss 170128.29\n",
      "Iteration 648 : Loss 169998.34\n",
      "Iteration 650 : Loss 169868.49\n",
      "Iteration 652 : Loss 169738.74\n",
      "Iteration 654 : Loss 169609.10\n",
      "Iteration 656 : Loss 169479.56\n",
      "Iteration 658 : Loss 169350.12\n",
      "Iteration 660 : Loss 169220.78\n",
      "Iteration 662 : Loss 169091.55\n",
      "Iteration 664 : Loss 168962.42\n",
      "Iteration 666 : Loss 168833.39\n",
      "Iteration 668 : Loss 168704.46\n",
      "Iteration 670 : Loss 168575.64\n",
      "Iteration 672 : Loss 168446.91\n",
      "Iteration 674 : Loss 168318.29\n",
      "Iteration 676 : Loss 168189.78\n",
      "Iteration 678 : Loss 168061.36\n",
      "Iteration 680 : Loss 167933.04\n",
      "Iteration 682 : Loss 167804.83\n",
      "Iteration 684 : Loss 167676.72\n",
      "Iteration 686 : Loss 167548.71\n",
      "Iteration 688 : Loss 167420.80\n",
      "Iteration 690 : Loss 167292.99\n",
      "Iteration 692 : Loss 167165.29\n",
      "Iteration 694 : Loss 167037.68\n",
      "Iteration 696 : Loss 166910.18\n",
      "Iteration 698 : Loss 166782.78\n",
      "Iteration 700 : Loss 166655.48\n",
      "Iteration 702 : Loss 166528.28\n",
      "Iteration 704 : Loss 166401.18\n",
      "Iteration 706 : Loss 166274.18\n",
      "Iteration 708 : Loss 166147.28\n",
      "Iteration 710 : Loss 166020.48\n",
      "Iteration 712 : Loss 165893.78\n",
      "Iteration 714 : Loss 165767.19\n",
      "Iteration 716 : Loss 165640.69\n",
      "Iteration 718 : Loss 165514.29\n",
      "Iteration 720 : Loss 165388.00\n",
      "Iteration 722 : Loss 165261.80\n",
      "Iteration 724 : Loss 165135.70\n",
      "Iteration 726 : Loss 165009.71\n",
      "Iteration 728 : Loss 164883.81\n",
      "Iteration 730 : Loss 164758.01\n",
      "Iteration 732 : Loss 164632.32\n",
      "Iteration 734 : Loss 164506.72\n",
      "Iteration 736 : Loss 164381.22\n",
      "Iteration 738 : Loss 164255.82\n",
      "Iteration 740 : Loss 164130.53\n",
      "Iteration 742 : Loss 164005.33\n",
      "Iteration 744 : Loss 163880.23\n",
      "Iteration 746 : Loss 163755.22\n",
      "Iteration 748 : Loss 163630.32\n",
      "Iteration 750 : Loss 163505.52\n",
      "Iteration 752 : Loss 163380.81\n",
      "Iteration 754 : Loss 163256.21\n",
      "Iteration 756 : Loss 163131.70\n",
      "Iteration 758 : Loss 163007.29\n",
      "Iteration 760 : Loss 162882.98\n",
      "Iteration 762 : Loss 162758.77\n",
      "Iteration 764 : Loss 162634.66\n",
      "Iteration 766 : Loss 162510.65\n",
      "Iteration 768 : Loss 162386.73\n",
      "Iteration 770 : Loss 162262.91\n",
      "Iteration 772 : Loss 162139.19\n",
      "Iteration 774 : Loss 162015.57\n",
      "Iteration 776 : Loss 161892.05\n",
      "Iteration 778 : Loss 161768.62\n",
      "Iteration 780 : Loss 161645.29\n",
      "Iteration 782 : Loss 161522.06\n",
      "Iteration 784 : Loss 161398.93\n",
      "Iteration 786 : Loss 161275.89\n",
      "Iteration 788 : Loss 161152.96\n",
      "Iteration 790 : Loss 161030.12\n",
      "Iteration 792 : Loss 160907.37\n",
      "Iteration 794 : Loss 160784.73\n",
      "Iteration 796 : Loss 160662.18\n",
      "Iteration 798 : Loss 160539.73\n",
      "Iteration 800 : Loss 160417.37\n",
      "Iteration 802 : Loss 160295.12\n",
      "Iteration 804 : Loss 160172.96\n",
      "Iteration 806 : Loss 160050.89\n",
      "Iteration 808 : Loss 159928.92\n",
      "Iteration 810 : Loss 159807.05\n",
      "Iteration 812 : Loss 159685.28\n",
      "Iteration 814 : Loss 159563.60\n",
      "Iteration 816 : Loss 159442.02\n",
      "Iteration 818 : Loss 159320.54\n",
      "Iteration 820 : Loss 159199.15\n",
      "Iteration 822 : Loss 159077.86\n",
      "Iteration 824 : Loss 158956.66\n",
      "Iteration 826 : Loss 158835.56\n",
      "Iteration 828 : Loss 158714.56\n",
      "Iteration 830 : Loss 158593.65\n",
      "Iteration 832 : Loss 158472.83\n",
      "Iteration 834 : Loss 158352.12\n",
      "Iteration 836 : Loss 158231.50\n",
      "Iteration 838 : Loss 158110.97\n",
      "Iteration 840 : Loss 157990.54\n",
      "Iteration 842 : Loss 157870.21\n",
      "Iteration 844 : Loss 157749.97\n",
      "Iteration 846 : Loss 157629.82\n",
      "Iteration 848 : Loss 157509.77\n",
      "Iteration 850 : Loss 157389.82\n",
      "Iteration 852 : Loss 157269.96\n",
      "Iteration 854 : Loss 157150.20\n",
      "Iteration 856 : Loss 157030.53\n",
      "Iteration 858 : Loss 156910.95\n",
      "Iteration 860 : Loss 156791.48\n",
      "Iteration 862 : Loss 156672.09\n",
      "Iteration 864 : Loss 156552.80\n",
      "Iteration 866 : Loss 156433.60\n",
      "Iteration 868 : Loss 156314.50\n",
      "Iteration 870 : Loss 156195.50\n",
      "Iteration 872 : Loss 156076.58\n",
      "Iteration 874 : Loss 155957.77\n",
      "Iteration 876 : Loss 155839.04\n",
      "Iteration 878 : Loss 155720.41\n",
      "Iteration 880 : Loss 155601.87\n",
      "Iteration 882 : Loss 155483.43\n",
      "Iteration 884 : Loss 155365.08\n",
      "Iteration 886 : Loss 155246.83\n",
      "Iteration 888 : Loss 155128.67\n",
      "Iteration 890 : Loss 155010.60\n",
      "Iteration 892 : Loss 154892.63\n",
      "Iteration 894 : Loss 154774.75\n",
      "Iteration 896 : Loss 154656.96\n",
      "Iteration 898 : Loss 154539.26\n",
      "Iteration 900 : Loss 154421.66\n",
      "Iteration 902 : Loss 154304.16\n",
      "Iteration 904 : Loss 154186.74\n",
      "Iteration 906 : Loss 154069.42\n",
      "Iteration 908 : Loss 153952.19\n",
      "Iteration 910 : Loss 153835.06\n",
      "Iteration 912 : Loss 153718.01\n",
      "Iteration 914 : Loss 153601.06\n",
      "Iteration 916 : Loss 153484.21\n",
      "Iteration 918 : Loss 153367.44\n",
      "Iteration 920 : Loss 153250.77\n",
      "Iteration 922 : Loss 153134.19\n",
      "Iteration 924 : Loss 153017.70\n",
      "Iteration 926 : Loss 152901.31\n",
      "Iteration 928 : Loss 152785.00\n",
      "Iteration 930 : Loss 152668.79\n",
      "Iteration 932 : Loss 152552.67\n",
      "Iteration 934 : Loss 152436.65\n",
      "Iteration 936 : Loss 152320.71\n",
      "Iteration 938 : Loss 152204.87\n",
      "Iteration 940 : Loss 152089.12\n",
      "Iteration 942 : Loss 151973.46\n",
      "Iteration 944 : Loss 151857.89\n",
      "Iteration 946 : Loss 151742.41\n",
      "Iteration 948 : Loss 151627.03\n",
      "Iteration 950 : Loss 151511.73\n",
      "Iteration 952 : Loss 151396.53\n",
      "Iteration 954 : Loss 151281.42\n",
      "Iteration 956 : Loss 151166.40\n",
      "Iteration 958 : Loss 151051.47\n",
      "Iteration 960 : Loss 150936.63\n",
      "Iteration 962 : Loss 150821.88\n",
      "Iteration 964 : Loss 150707.23\n",
      "Iteration 966 : Loss 150592.66\n",
      "Iteration 968 : Loss 150478.19\n",
      "Iteration 970 : Loss 150363.80\n",
      "Iteration 972 : Loss 150249.51\n",
      "Iteration 974 : Loss 150135.31\n",
      "Iteration 976 : Loss 150021.19\n",
      "Iteration 978 : Loss 149907.17\n",
      "Iteration 980 : Loss 149793.24\n",
      "Iteration 982 : Loss 149679.40\n",
      "Iteration 984 : Loss 149565.65\n",
      "Iteration 986 : Loss 149451.99\n",
      "Iteration 988 : Loss 149338.42\n",
      "Iteration 990 : Loss 149224.93\n",
      "Iteration 992 : Loss 149111.54\n",
      "Iteration 994 : Loss 148998.24\n",
      "Iteration 996 : Loss 148885.03\n",
      "Iteration 998 : Loss 148771.91\n"
     ]
    }
   ],
   "source": [
    "# 손실함수값이 반복횟수별로 얼마인지 저장할 리스트\n",
    "losses = []\n",
    "\n",
    "for i in range(1, 1000):\n",
    "    dw, db = gradient(x, w, b, y)\n",
    "    w -= learning_rate * dw\n",
    "    b -= learning_rate * db\n",
    "    l = loss(x, w, b, y)\n",
    "    losses.append(l)\n",
    "    \n",
    "    if i % 2 == 0:\n",
    "        print('Iteration %d : Loss %0.2f' % (i, l))"
   ]
  },
  {
   "cell_type": "markdown",
   "id": "f3168d75",
   "metadata": {},
   "source": [
    "<p style= \"font-size:15px; line-height:24px;\"><span style = 'background-color:#fff5b1; padding:0.2px;'>loss값이 반복을 할수록 조금씩 값이 떨어지는걸 확인할 수 있었다.</span><br/>\n",
    "학습이 성공적으로 이루어지는 것을 확인했으므로, 모델에 직접 적용해보고자 한다.</p>"
   ]
  },
  {
   "cell_type": "markdown",
   "id": "fb3a9b74",
   "metadata": {},
   "source": [
    "<div style = \"height: 15px;\"></div>"
   ]
  },
  {
   "cell_type": "markdown",
   "id": "ec0e152b",
   "metadata": {},
   "source": [
    "## 9. 모델 학습하기\n",
    "<hr/>"
   ]
  },
  {
   "cell_type": "markdown",
   "id": "ee937d0c",
   "metadata": {},
   "source": [
    "### 정의된 손실함수와 기울기 함수로 모델을 학습하기"
   ]
  },
  {
   "cell_type": "code",
   "execution_count": 101,
   "id": "4f7c60c2",
   "metadata": {},
   "outputs": [],
   "source": [
    "# 훈련 데이터 loss값 구하기\n",
    "prediction = model(x_train, w, b)\n",
    "train_mse = loss(x_train, w, b, y_train)"
   ]
  },
  {
   "cell_type": "code",
   "execution_count": 102,
   "id": "cf44304d",
   "metadata": {},
   "outputs": [
    {
     "data": {
      "text/plain": [
       "2871.504406041639"
      ]
     },
     "execution_count": 102,
     "metadata": {},
     "output_type": "execute_result"
    }
   ],
   "source": [
    "# 훈련 데이터의 loss값\n",
    "train_mse"
   ]
  },
  {
   "cell_type": "code",
   "execution_count": 103,
   "id": "15e4bf9d",
   "metadata": {},
   "outputs": [],
   "source": [
    "# 경사 계산해보기\n",
    "w, b = gradient(x_train, dw, db, y_train)"
   ]
  },
  {
   "cell_type": "code",
   "execution_count": 104,
   "id": "72020866",
   "metadata": {},
   "outputs": [
    {
     "data": {
      "text/plain": [
       "array([ -65.68664876,   -3.85914965, -175.95529263, -131.2719106 ,\n",
       "        -46.37304842,  -31.80453383,  110.01003573, -115.73066089,\n",
       "       -158.33577296, -124.31310537])"
      ]
     },
     "execution_count": 104,
     "metadata": {},
     "output_type": "execute_result"
    }
   ],
   "source": [
    "w"
   ]
  },
  {
   "cell_type": "code",
   "execution_count": 105,
   "id": "64b30956",
   "metadata": {},
   "outputs": [
    {
     "data": {
      "text/plain": [
       "-307.47308784841533"
      ]
     },
     "execution_count": 105,
     "metadata": {},
     "output_type": "execute_result"
    }
   ],
   "source": [
    "b"
   ]
  },
  {
   "cell_type": "code",
   "execution_count": 106,
   "id": "7e6dd0e1",
   "metadata": {},
   "outputs": [],
   "source": [
    "# 임의로 learning rate 지정하기\n",
    "learning_rate = 0.1"
   ]
  },
  {
   "cell_type": "code",
   "execution_count": 135,
   "id": "ec9a3ed2",
   "metadata": {},
   "outputs": [
    {
     "name": "stdout",
     "output_type": "stream",
     "text": [
      "Iteration 10 : Loss 3062.32\n",
      "Iteration 20 : Loss 3020.25\n",
      "Iteration 30 : Loss 2990.65\n",
      "Iteration 40 : Loss 2969.42\n",
      "Iteration 50 : Loss 2953.92\n",
      "Iteration 60 : Loss 2942.42\n",
      "Iteration 70 : Loss 2933.74\n",
      "Iteration 80 : Loss 2927.09\n",
      "Iteration 90 : Loss 2921.92\n",
      "Iteration 100 : Loss 2917.85\n",
      "Iteration 110 : Loss 2914.60\n",
      "Iteration 120 : Loss 2911.97\n",
      "Iteration 130 : Loss 2909.83\n",
      "Iteration 140 : Loss 2908.07\n",
      "Iteration 150 : Loss 2906.61\n",
      "Iteration 160 : Loss 2905.39\n",
      "Iteration 170 : Loss 2904.36\n",
      "Iteration 180 : Loss 2903.49\n",
      "Iteration 190 : Loss 2902.75\n",
      "Iteration 200 : Loss 2902.11\n",
      "Iteration 210 : Loss 2901.56\n",
      "Iteration 220 : Loss 2901.08\n",
      "Iteration 230 : Loss 2900.66\n",
      "Iteration 240 : Loss 2900.29\n",
      "Iteration 250 : Loss 2899.97\n",
      "Iteration 260 : Loss 2899.67\n",
      "Iteration 270 : Loss 2899.41\n",
      "Iteration 280 : Loss 2899.17\n",
      "Iteration 290 : Loss 2898.95\n",
      "Iteration 300 : Loss 2898.74\n",
      "Iteration 310 : Loss 2898.56\n",
      "Iteration 320 : Loss 2898.38\n",
      "Iteration 330 : Loss 2898.21\n",
      "Iteration 340 : Loss 2898.06\n",
      "Iteration 350 : Loss 2897.91\n",
      "Iteration 360 : Loss 2897.77\n",
      "Iteration 370 : Loss 2897.63\n",
      "Iteration 380 : Loss 2897.50\n",
      "Iteration 390 : Loss 2897.37\n",
      "Iteration 400 : Loss 2897.25\n",
      "Iteration 410 : Loss 2897.13\n",
      "Iteration 420 : Loss 2897.01\n",
      "Iteration 430 : Loss 2896.90\n",
      "Iteration 440 : Loss 2896.79\n",
      "Iteration 450 : Loss 2896.68\n",
      "Iteration 460 : Loss 2896.57\n",
      "Iteration 470 : Loss 2896.46\n",
      "Iteration 480 : Loss 2896.36\n",
      "Iteration 490 : Loss 2896.25\n",
      "Iteration 500 : Loss 2896.15\n",
      "Iteration 510 : Loss 2896.05\n",
      "Iteration 520 : Loss 2895.95\n",
      "Iteration 530 : Loss 2895.85\n",
      "Iteration 540 : Loss 2895.75\n",
      "Iteration 550 : Loss 2895.65\n",
      "Iteration 560 : Loss 2895.56\n",
      "Iteration 570 : Loss 2895.46\n",
      "Iteration 580 : Loss 2895.37\n",
      "Iteration 590 : Loss 2895.27\n",
      "Iteration 600 : Loss 2895.18\n",
      "Iteration 610 : Loss 2895.09\n",
      "Iteration 620 : Loss 2894.99\n",
      "Iteration 630 : Loss 2894.90\n",
      "Iteration 640 : Loss 2894.81\n",
      "Iteration 650 : Loss 2894.72\n",
      "Iteration 660 : Loss 2894.63\n",
      "Iteration 670 : Loss 2894.54\n",
      "Iteration 680 : Loss 2894.45\n",
      "Iteration 690 : Loss 2894.37\n",
      "Iteration 700 : Loss 2894.28\n",
      "Iteration 710 : Loss 2894.19\n",
      "Iteration 720 : Loss 2894.11\n",
      "Iteration 730 : Loss 2894.02\n",
      "Iteration 740 : Loss 2893.94\n",
      "Iteration 750 : Loss 2893.85\n",
      "Iteration 760 : Loss 2893.77\n",
      "Iteration 770 : Loss 2893.68\n",
      "Iteration 780 : Loss 2893.60\n",
      "Iteration 790 : Loss 2893.52\n",
      "Iteration 800 : Loss 2893.43\n",
      "Iteration 810 : Loss 2893.35\n",
      "Iteration 820 : Loss 2893.27\n",
      "Iteration 830 : Loss 2893.19\n",
      "Iteration 840 : Loss 2893.11\n",
      "Iteration 850 : Loss 2893.03\n",
      "Iteration 860 : Loss 2892.95\n",
      "Iteration 870 : Loss 2892.87\n",
      "Iteration 880 : Loss 2892.79\n",
      "Iteration 890 : Loss 2892.71\n",
      "Iteration 900 : Loss 2892.63\n",
      "Iteration 910 : Loss 2892.56\n",
      "Iteration 920 : Loss 2892.48\n",
      "Iteration 930 : Loss 2892.40\n",
      "Iteration 940 : Loss 2892.33\n",
      "Iteration 950 : Loss 2892.25\n",
      "Iteration 960 : Loss 2892.17\n",
      "Iteration 970 : Loss 2892.10\n",
      "Iteration 980 : Loss 2892.02\n",
      "Iteration 990 : Loss 2891.95\n",
      "Iteration 1000 : Loss 2891.87\n",
      "Iteration 1010 : Loss 2891.80\n",
      "Iteration 1020 : Loss 2891.73\n",
      "Iteration 1030 : Loss 2891.65\n",
      "Iteration 1040 : Loss 2891.58\n",
      "Iteration 1050 : Loss 2891.51\n",
      "Iteration 1060 : Loss 2891.43\n",
      "Iteration 1070 : Loss 2891.36\n",
      "Iteration 1080 : Loss 2891.29\n",
      "Iteration 1090 : Loss 2891.22\n",
      "Iteration 1100 : Loss 2891.15\n",
      "Iteration 1110 : Loss 2891.08\n",
      "Iteration 1120 : Loss 2891.01\n",
      "Iteration 1130 : Loss 2890.94\n",
      "Iteration 1140 : Loss 2890.87\n",
      "Iteration 1150 : Loss 2890.80\n",
      "Iteration 1160 : Loss 2890.73\n",
      "Iteration 1170 : Loss 2890.66\n",
      "Iteration 1180 : Loss 2890.59\n",
      "Iteration 1190 : Loss 2890.52\n",
      "Iteration 1200 : Loss 2890.45\n",
      "Iteration 1210 : Loss 2890.39\n",
      "Iteration 1220 : Loss 2890.32\n",
      "Iteration 1230 : Loss 2890.25\n",
      "Iteration 1240 : Loss 2890.18\n",
      "Iteration 1250 : Loss 2890.12\n",
      "Iteration 1260 : Loss 2890.05\n",
      "Iteration 1270 : Loss 2889.99\n",
      "Iteration 1280 : Loss 2889.92\n",
      "Iteration 1290 : Loss 2889.85\n",
      "Iteration 1300 : Loss 2889.79\n",
      "Iteration 1310 : Loss 2889.72\n",
      "Iteration 1320 : Loss 2889.66\n",
      "Iteration 1330 : Loss 2889.59\n",
      "Iteration 1340 : Loss 2889.53\n",
      "Iteration 1350 : Loss 2889.46\n",
      "Iteration 1360 : Loss 2889.40\n",
      "Iteration 1370 : Loss 2889.34\n",
      "Iteration 1380 : Loss 2889.27\n",
      "Iteration 1390 : Loss 2889.21\n",
      "Iteration 1400 : Loss 2889.15\n",
      "Iteration 1410 : Loss 2889.08\n",
      "Iteration 1420 : Loss 2889.02\n",
      "Iteration 1430 : Loss 2888.96\n",
      "Iteration 1440 : Loss 2888.90\n",
      "Iteration 1450 : Loss 2888.84\n",
      "Iteration 1460 : Loss 2888.77\n",
      "Iteration 1470 : Loss 2888.71\n",
      "Iteration 1480 : Loss 2888.65\n",
      "Iteration 1490 : Loss 2888.59\n",
      "Iteration 1500 : Loss 2888.53\n",
      "Iteration 1510 : Loss 2888.47\n",
      "Iteration 1520 : Loss 2888.41\n",
      "Iteration 1530 : Loss 2888.35\n",
      "Iteration 1540 : Loss 2888.29\n",
      "Iteration 1550 : Loss 2888.23\n",
      "Iteration 1560 : Loss 2888.17\n",
      "Iteration 1570 : Loss 2888.11\n",
      "Iteration 1580 : Loss 2888.05\n",
      "Iteration 1590 : Loss 2887.99\n",
      "Iteration 1600 : Loss 2887.93\n",
      "Iteration 1610 : Loss 2887.88\n",
      "Iteration 1620 : Loss 2887.82\n",
      "Iteration 1630 : Loss 2887.76\n",
      "Iteration 1640 : Loss 2887.70\n",
      "Iteration 1650 : Loss 2887.64\n",
      "Iteration 1660 : Loss 2887.59\n",
      "Iteration 1670 : Loss 2887.53\n",
      "Iteration 1680 : Loss 2887.47\n",
      "Iteration 1690 : Loss 2887.42\n",
      "Iteration 1700 : Loss 2887.36\n",
      "Iteration 1710 : Loss 2887.30\n",
      "Iteration 1720 : Loss 2887.25\n",
      "Iteration 1730 : Loss 2887.19\n",
      "Iteration 1740 : Loss 2887.13\n",
      "Iteration 1750 : Loss 2887.08\n",
      "Iteration 1760 : Loss 2887.02\n",
      "Iteration 1770 : Loss 2886.97\n",
      "Iteration 1780 : Loss 2886.91\n",
      "Iteration 1790 : Loss 2886.86\n",
      "Iteration 1800 : Loss 2886.80\n",
      "Iteration 1810 : Loss 2886.75\n",
      "Iteration 1820 : Loss 2886.69\n",
      "Iteration 1830 : Loss 2886.64\n",
      "Iteration 1840 : Loss 2886.59\n",
      "Iteration 1850 : Loss 2886.53\n",
      "Iteration 1860 : Loss 2886.48\n",
      "Iteration 1870 : Loss 2886.42\n",
      "Iteration 1880 : Loss 2886.37\n",
      "Iteration 1890 : Loss 2886.32\n",
      "Iteration 1900 : Loss 2886.27\n",
      "Iteration 1910 : Loss 2886.21\n",
      "Iteration 1920 : Loss 2886.16\n",
      "Iteration 1930 : Loss 2886.11\n",
      "Iteration 1940 : Loss 2886.05\n",
      "Iteration 1950 : Loss 2886.00\n",
      "Iteration 1960 : Loss 2885.95\n",
      "Iteration 1970 : Loss 2885.90\n",
      "Iteration 1980 : Loss 2885.85\n",
      "Iteration 1990 : Loss 2885.80\n",
      "Iteration 2000 : Loss 2885.74\n",
      "Iteration 2010 : Loss 2885.69\n",
      "Iteration 2020 : Loss 2885.64\n",
      "Iteration 2030 : Loss 2885.59\n",
      "Iteration 2040 : Loss 2885.54\n",
      "Iteration 2050 : Loss 2885.49\n",
      "Iteration 2060 : Loss 2885.44\n",
      "Iteration 2070 : Loss 2885.39\n",
      "Iteration 2080 : Loss 2885.34\n",
      "Iteration 2090 : Loss 2885.29\n",
      "Iteration 2100 : Loss 2885.24\n",
      "Iteration 2110 : Loss 2885.19\n",
      "Iteration 2120 : Loss 2885.14\n",
      "Iteration 2130 : Loss 2885.09\n",
      "Iteration 2140 : Loss 2885.04\n",
      "Iteration 2150 : Loss 2884.99\n",
      "Iteration 2160 : Loss 2884.94\n",
      "Iteration 2170 : Loss 2884.90\n",
      "Iteration 2180 : Loss 2884.85\n",
      "Iteration 2190 : Loss 2884.80\n",
      "Iteration 2200 : Loss 2884.75\n",
      "Iteration 2210 : Loss 2884.70\n",
      "Iteration 2220 : Loss 2884.65\n",
      "Iteration 2230 : Loss 2884.61\n",
      "Iteration 2240 : Loss 2884.56\n",
      "Iteration 2250 : Loss 2884.51\n",
      "Iteration 2260 : Loss 2884.46\n",
      "Iteration 2270 : Loss 2884.42\n",
      "Iteration 2280 : Loss 2884.37\n",
      "Iteration 2290 : Loss 2884.32\n",
      "Iteration 2300 : Loss 2884.28\n",
      "Iteration 2310 : Loss 2884.23\n",
      "Iteration 2320 : Loss 2884.18\n",
      "Iteration 2330 : Loss 2884.14\n",
      "Iteration 2340 : Loss 2884.09\n",
      "Iteration 2350 : Loss 2884.04\n",
      "Iteration 2360 : Loss 2884.00\n",
      "Iteration 2370 : Loss 2883.95\n",
      "Iteration 2380 : Loss 2883.91\n",
      "Iteration 2390 : Loss 2883.86\n",
      "Iteration 2400 : Loss 2883.82\n",
      "Iteration 2410 : Loss 2883.77\n",
      "Iteration 2420 : Loss 2883.73\n",
      "Iteration 2430 : Loss 2883.68\n",
      "Iteration 2440 : Loss 2883.64\n",
      "Iteration 2450 : Loss 2883.59\n",
      "Iteration 2460 : Loss 2883.55\n",
      "Iteration 2470 : Loss 2883.50\n",
      "Iteration 2480 : Loss 2883.46\n",
      "Iteration 2490 : Loss 2883.41\n",
      "Iteration 2500 : Loss 2883.37\n",
      "Iteration 2510 : Loss 2883.33\n",
      "Iteration 2520 : Loss 2883.28\n",
      "Iteration 2530 : Loss 2883.24\n",
      "Iteration 2540 : Loss 2883.20\n",
      "Iteration 2550 : Loss 2883.15\n",
      "Iteration 2560 : Loss 2883.11\n",
      "Iteration 2570 : Loss 2883.07\n",
      "Iteration 2580 : Loss 2883.02\n",
      "Iteration 2590 : Loss 2882.98\n",
      "Iteration 2600 : Loss 2882.94\n",
      "Iteration 2610 : Loss 2882.90\n",
      "Iteration 2620 : Loss 2882.85\n",
      "Iteration 2630 : Loss 2882.81\n",
      "Iteration 2640 : Loss 2882.77\n",
      "Iteration 2650 : Loss 2882.73\n",
      "Iteration 2660 : Loss 2882.68\n",
      "Iteration 2670 : Loss 2882.64\n",
      "Iteration 2680 : Loss 2882.60\n",
      "Iteration 2690 : Loss 2882.56\n",
      "Iteration 2700 : Loss 2882.52\n",
      "Iteration 2710 : Loss 2882.48\n",
      "Iteration 2720 : Loss 2882.44\n",
      "Iteration 2730 : Loss 2882.39\n",
      "Iteration 2740 : Loss 2882.35\n",
      "Iteration 2750 : Loss 2882.31\n",
      "Iteration 2760 : Loss 2882.27\n",
      "Iteration 2770 : Loss 2882.23\n",
      "Iteration 2780 : Loss 2882.19\n",
      "Iteration 2790 : Loss 2882.15\n",
      "Iteration 2800 : Loss 2882.11\n",
      "Iteration 2810 : Loss 2882.07\n",
      "Iteration 2820 : Loss 2882.03\n",
      "Iteration 2830 : Loss 2881.99\n",
      "Iteration 2840 : Loss 2881.95\n",
      "Iteration 2850 : Loss 2881.91\n",
      "Iteration 2860 : Loss 2881.87\n",
      "Iteration 2870 : Loss 2881.83\n",
      "Iteration 2880 : Loss 2881.79\n",
      "Iteration 2890 : Loss 2881.75\n",
      "Iteration 2900 : Loss 2881.72\n",
      "Iteration 2910 : Loss 2881.68\n",
      "Iteration 2920 : Loss 2881.64\n",
      "Iteration 2930 : Loss 2881.60\n",
      "Iteration 2940 : Loss 2881.56\n",
      "Iteration 2950 : Loss 2881.52\n",
      "Iteration 2960 : Loss 2881.48\n",
      "Iteration 2970 : Loss 2881.45\n",
      "Iteration 2980 : Loss 2881.41\n",
      "Iteration 2990 : Loss 2881.37\n",
      "Iteration 3000 : Loss 2881.33\n",
      "Iteration 3010 : Loss 2881.29\n",
      "Iteration 3020 : Loss 2881.26\n",
      "Iteration 3030 : Loss 2881.22\n",
      "Iteration 3040 : Loss 2881.18\n",
      "Iteration 3050 : Loss 2881.14\n",
      "Iteration 3060 : Loss 2881.11\n",
      "Iteration 3070 : Loss 2881.07\n",
      "Iteration 3080 : Loss 2881.03\n",
      "Iteration 3090 : Loss 2881.00\n",
      "Iteration 3100 : Loss 2880.96\n",
      "Iteration 3110 : Loss 2880.92\n",
      "Iteration 3120 : Loss 2880.89\n",
      "Iteration 3130 : Loss 2880.85\n",
      "Iteration 3140 : Loss 2880.81\n",
      "Iteration 3150 : Loss 2880.78\n",
      "Iteration 3160 : Loss 2880.74\n",
      "Iteration 3170 : Loss 2880.70\n",
      "Iteration 3180 : Loss 2880.67\n",
      "Iteration 3190 : Loss 2880.63\n",
      "Iteration 3200 : Loss 2880.60\n",
      "Iteration 3210 : Loss 2880.56\n",
      "Iteration 3220 : Loss 2880.53\n",
      "Iteration 3230 : Loss 2880.49\n",
      "Iteration 3240 : Loss 2880.46\n",
      "Iteration 3250 : Loss 2880.42\n",
      "Iteration 3260 : Loss 2880.39\n",
      "Iteration 3270 : Loss 2880.35\n",
      "Iteration 3280 : Loss 2880.32\n",
      "Iteration 3290 : Loss 2880.28\n",
      "Iteration 3300 : Loss 2880.25\n",
      "Iteration 3310 : Loss 2880.21\n",
      "Iteration 3320 : Loss 2880.18\n",
      "Iteration 3330 : Loss 2880.14\n",
      "Iteration 3340 : Loss 2880.11\n",
      "Iteration 3350 : Loss 2880.07\n",
      "Iteration 3360 : Loss 2880.04\n",
      "Iteration 3370 : Loss 2880.01\n",
      "Iteration 3380 : Loss 2879.97\n",
      "Iteration 3390 : Loss 2879.94\n",
      "Iteration 3400 : Loss 2879.91\n",
      "Iteration 3410 : Loss 2879.87\n",
      "Iteration 3420 : Loss 2879.84\n",
      "Iteration 3430 : Loss 2879.81\n",
      "Iteration 3440 : Loss 2879.77\n",
      "Iteration 3450 : Loss 2879.74\n",
      "Iteration 3460 : Loss 2879.71\n",
      "Iteration 3470 : Loss 2879.67\n",
      "Iteration 3480 : Loss 2879.64\n",
      "Iteration 3490 : Loss 2879.61\n",
      "Iteration 3500 : Loss 2879.57\n",
      "Iteration 3510 : Loss 2879.54\n",
      "Iteration 3520 : Loss 2879.51\n",
      "Iteration 3530 : Loss 2879.48\n",
      "Iteration 3540 : Loss 2879.45\n",
      "Iteration 3550 : Loss 2879.41\n",
      "Iteration 3560 : Loss 2879.38\n",
      "Iteration 3570 : Loss 2879.35\n",
      "Iteration 3580 : Loss 2879.32\n",
      "Iteration 3590 : Loss 2879.29\n",
      "Iteration 3600 : Loss 2879.25\n",
      "Iteration 3610 : Loss 2879.22\n",
      "Iteration 3620 : Loss 2879.19\n",
      "Iteration 3630 : Loss 2879.16\n",
      "Iteration 3640 : Loss 2879.13\n",
      "Iteration 3650 : Loss 2879.10\n",
      "Iteration 3660 : Loss 2879.07\n",
      "Iteration 3670 : Loss 2879.03\n",
      "Iteration 3680 : Loss 2879.00\n",
      "Iteration 3690 : Loss 2878.97\n",
      "Iteration 3700 : Loss 2878.94\n",
      "Iteration 3710 : Loss 2878.91\n",
      "Iteration 3720 : Loss 2878.88\n",
      "Iteration 3730 : Loss 2878.85\n",
      "Iteration 3740 : Loss 2878.82\n",
      "Iteration 3750 : Loss 2878.79\n",
      "Iteration 3760 : Loss 2878.76\n",
      "Iteration 3770 : Loss 2878.73\n",
      "Iteration 3780 : Loss 2878.70\n",
      "Iteration 3790 : Loss 2878.67\n",
      "Iteration 3800 : Loss 2878.64\n"
     ]
    },
    {
     "name": "stdout",
     "output_type": "stream",
     "text": [
      "Iteration 3810 : Loss 2878.61\n",
      "Iteration 3820 : Loss 2878.58\n",
      "Iteration 3830 : Loss 2878.55\n",
      "Iteration 3840 : Loss 2878.52\n",
      "Iteration 3850 : Loss 2878.49\n",
      "Iteration 3860 : Loss 2878.46\n",
      "Iteration 3870 : Loss 2878.43\n",
      "Iteration 3880 : Loss 2878.40\n",
      "Iteration 3890 : Loss 2878.37\n",
      "Iteration 3900 : Loss 2878.35\n",
      "Iteration 3910 : Loss 2878.32\n",
      "Iteration 3920 : Loss 2878.29\n",
      "Iteration 3930 : Loss 2878.26\n",
      "Iteration 3940 : Loss 2878.23\n",
      "Iteration 3950 : Loss 2878.20\n",
      "Iteration 3960 : Loss 2878.17\n",
      "Iteration 3970 : Loss 2878.15\n",
      "Iteration 3980 : Loss 2878.12\n",
      "Iteration 3990 : Loss 2878.09\n",
      "Iteration 4000 : Loss 2878.06\n",
      "Iteration 4010 : Loss 2878.03\n",
      "Iteration 4020 : Loss 2878.00\n",
      "Iteration 4030 : Loss 2877.98\n",
      "Iteration 4040 : Loss 2877.95\n",
      "Iteration 4050 : Loss 2877.92\n",
      "Iteration 4060 : Loss 2877.89\n",
      "Iteration 4070 : Loss 2877.87\n",
      "Iteration 4080 : Loss 2877.84\n",
      "Iteration 4090 : Loss 2877.81\n",
      "Iteration 4100 : Loss 2877.78\n",
      "Iteration 4110 : Loss 2877.76\n",
      "Iteration 4120 : Loss 2877.73\n",
      "Iteration 4130 : Loss 2877.70\n",
      "Iteration 4140 : Loss 2877.67\n",
      "Iteration 4150 : Loss 2877.65\n",
      "Iteration 4160 : Loss 2877.62\n",
      "Iteration 4170 : Loss 2877.59\n",
      "Iteration 4180 : Loss 2877.57\n",
      "Iteration 4190 : Loss 2877.54\n",
      "Iteration 4200 : Loss 2877.51\n",
      "Iteration 4210 : Loss 2877.49\n",
      "Iteration 4220 : Loss 2877.46\n",
      "Iteration 4230 : Loss 2877.44\n",
      "Iteration 4240 : Loss 2877.41\n",
      "Iteration 4250 : Loss 2877.38\n",
      "Iteration 4260 : Loss 2877.36\n",
      "Iteration 4270 : Loss 2877.33\n",
      "Iteration 4280 : Loss 2877.31\n",
      "Iteration 4290 : Loss 2877.28\n",
      "Iteration 4300 : Loss 2877.25\n",
      "Iteration 4310 : Loss 2877.23\n",
      "Iteration 4320 : Loss 2877.20\n",
      "Iteration 4330 : Loss 2877.18\n",
      "Iteration 4340 : Loss 2877.15\n",
      "Iteration 4350 : Loss 2877.13\n",
      "Iteration 4360 : Loss 2877.10\n",
      "Iteration 4370 : Loss 2877.08\n",
      "Iteration 4380 : Loss 2877.05\n",
      "Iteration 4390 : Loss 2877.03\n",
      "Iteration 4400 : Loss 2877.00\n",
      "Iteration 4410 : Loss 2876.98\n",
      "Iteration 4420 : Loss 2876.95\n",
      "Iteration 4430 : Loss 2876.93\n",
      "Iteration 4440 : Loss 2876.90\n",
      "Iteration 4450 : Loss 2876.88\n",
      "Iteration 4460 : Loss 2876.85\n",
      "Iteration 4470 : Loss 2876.83\n",
      "Iteration 4480 : Loss 2876.80\n",
      "Iteration 4490 : Loss 2876.78\n",
      "Iteration 4500 : Loss 2876.75\n",
      "Iteration 4510 : Loss 2876.73\n",
      "Iteration 4520 : Loss 2876.71\n",
      "Iteration 4530 : Loss 2876.68\n",
      "Iteration 4540 : Loss 2876.66\n",
      "Iteration 4550 : Loss 2876.63\n",
      "Iteration 4560 : Loss 2876.61\n",
      "Iteration 4570 : Loss 2876.59\n",
      "Iteration 4580 : Loss 2876.56\n",
      "Iteration 4590 : Loss 2876.54\n",
      "Iteration 4600 : Loss 2876.52\n",
      "Iteration 4610 : Loss 2876.49\n",
      "Iteration 4620 : Loss 2876.47\n",
      "Iteration 4630 : Loss 2876.44\n",
      "Iteration 4640 : Loss 2876.42\n",
      "Iteration 4650 : Loss 2876.40\n",
      "Iteration 4660 : Loss 2876.38\n",
      "Iteration 4670 : Loss 2876.35\n",
      "Iteration 4680 : Loss 2876.33\n",
      "Iteration 4690 : Loss 2876.31\n",
      "Iteration 4700 : Loss 2876.28\n",
      "Iteration 4710 : Loss 2876.26\n",
      "Iteration 4720 : Loss 2876.24\n",
      "Iteration 4730 : Loss 2876.21\n",
      "Iteration 4740 : Loss 2876.19\n",
      "Iteration 4750 : Loss 2876.17\n",
      "Iteration 4760 : Loss 2876.15\n",
      "Iteration 4770 : Loss 2876.12\n",
      "Iteration 4780 : Loss 2876.10\n",
      "Iteration 4790 : Loss 2876.08\n",
      "Iteration 4800 : Loss 2876.06\n",
      "Iteration 4810 : Loss 2876.04\n",
      "Iteration 4820 : Loss 2876.01\n",
      "Iteration 4830 : Loss 2875.99\n",
      "Iteration 4840 : Loss 2875.97\n",
      "Iteration 4850 : Loss 2875.95\n",
      "Iteration 4860 : Loss 2875.93\n",
      "Iteration 4870 : Loss 2875.90\n",
      "Iteration 4880 : Loss 2875.88\n",
      "Iteration 4890 : Loss 2875.86\n",
      "Iteration 4900 : Loss 2875.84\n",
      "Iteration 4910 : Loss 2875.82\n",
      "Iteration 4920 : Loss 2875.80\n",
      "Iteration 4930 : Loss 2875.78\n",
      "Iteration 4940 : Loss 2875.75\n",
      "Iteration 4950 : Loss 2875.73\n",
      "Iteration 4960 : Loss 2875.71\n",
      "Iteration 4970 : Loss 2875.69\n",
      "Iteration 4980 : Loss 2875.67\n",
      "Iteration 4990 : Loss 2875.65\n",
      "Iteration 5000 : Loss 2875.63\n",
      "Iteration 5010 : Loss 2875.61\n",
      "Iteration 5020 : Loss 2875.59\n",
      "Iteration 5030 : Loss 2875.56\n",
      "Iteration 5040 : Loss 2875.54\n",
      "Iteration 5050 : Loss 2875.52\n",
      "Iteration 5060 : Loss 2875.50\n",
      "Iteration 5070 : Loss 2875.48\n",
      "Iteration 5080 : Loss 2875.46\n",
      "Iteration 5090 : Loss 2875.44\n",
      "Iteration 5100 : Loss 2875.42\n",
      "Iteration 5110 : Loss 2875.40\n",
      "Iteration 5120 : Loss 2875.38\n",
      "Iteration 5130 : Loss 2875.36\n",
      "Iteration 5140 : Loss 2875.34\n",
      "Iteration 5150 : Loss 2875.32\n",
      "Iteration 5160 : Loss 2875.30\n",
      "Iteration 5170 : Loss 2875.28\n",
      "Iteration 5180 : Loss 2875.26\n",
      "Iteration 5190 : Loss 2875.24\n",
      "Iteration 5200 : Loss 2875.22\n",
      "Iteration 5210 : Loss 2875.20\n",
      "Iteration 5220 : Loss 2875.18\n",
      "Iteration 5230 : Loss 2875.16\n",
      "Iteration 5240 : Loss 2875.14\n",
      "Iteration 5250 : Loss 2875.12\n",
      "Iteration 5260 : Loss 2875.10\n",
      "Iteration 5270 : Loss 2875.08\n",
      "Iteration 5280 : Loss 2875.07\n",
      "Iteration 5290 : Loss 2875.05\n",
      "Iteration 5300 : Loss 2875.03\n",
      "Iteration 5310 : Loss 2875.01\n",
      "Iteration 5320 : Loss 2874.99\n",
      "Iteration 5330 : Loss 2874.97\n",
      "Iteration 5340 : Loss 2874.95\n",
      "Iteration 5350 : Loss 2874.93\n",
      "Iteration 5360 : Loss 2874.91\n",
      "Iteration 5370 : Loss 2874.89\n",
      "Iteration 5380 : Loss 2874.88\n",
      "Iteration 5390 : Loss 2874.86\n",
      "Iteration 5400 : Loss 2874.84\n",
      "Iteration 5410 : Loss 2874.82\n",
      "Iteration 5420 : Loss 2874.80\n",
      "Iteration 5430 : Loss 2874.78\n",
      "Iteration 5440 : Loss 2874.76\n",
      "Iteration 5450 : Loss 2874.75\n",
      "Iteration 5460 : Loss 2874.73\n",
      "Iteration 5470 : Loss 2874.71\n",
      "Iteration 5480 : Loss 2874.69\n",
      "Iteration 5490 : Loss 2874.67\n",
      "Iteration 5500 : Loss 2874.66\n",
      "Iteration 5510 : Loss 2874.64\n",
      "Iteration 5520 : Loss 2874.62\n",
      "Iteration 5530 : Loss 2874.60\n",
      "Iteration 5540 : Loss 2874.58\n",
      "Iteration 5550 : Loss 2874.57\n",
      "Iteration 5560 : Loss 2874.55\n",
      "Iteration 5570 : Loss 2874.53\n",
      "Iteration 5580 : Loss 2874.51\n",
      "Iteration 5590 : Loss 2874.49\n",
      "Iteration 5600 : Loss 2874.48\n",
      "Iteration 5610 : Loss 2874.46\n",
      "Iteration 5620 : Loss 2874.44\n",
      "Iteration 5630 : Loss 2874.42\n",
      "Iteration 5640 : Loss 2874.41\n",
      "Iteration 5650 : Loss 2874.39\n",
      "Iteration 5660 : Loss 2874.37\n",
      "Iteration 5670 : Loss 2874.36\n",
      "Iteration 5680 : Loss 2874.34\n",
      "Iteration 5690 : Loss 2874.32\n",
      "Iteration 5700 : Loss 2874.30\n",
      "Iteration 5710 : Loss 2874.29\n",
      "Iteration 5720 : Loss 2874.27\n",
      "Iteration 5730 : Loss 2874.25\n",
      "Iteration 5740 : Loss 2874.24\n",
      "Iteration 5750 : Loss 2874.22\n",
      "Iteration 5760 : Loss 2874.20\n",
      "Iteration 5770 : Loss 2874.19\n",
      "Iteration 5780 : Loss 2874.17\n",
      "Iteration 5790 : Loss 2874.15\n",
      "Iteration 5800 : Loss 2874.14\n",
      "Iteration 5810 : Loss 2874.12\n",
      "Iteration 5820 : Loss 2874.10\n",
      "Iteration 5830 : Loss 2874.09\n",
      "Iteration 5840 : Loss 2874.07\n",
      "Iteration 5850 : Loss 2874.06\n",
      "Iteration 5860 : Loss 2874.04\n",
      "Iteration 5870 : Loss 2874.02\n",
      "Iteration 5880 : Loss 2874.01\n",
      "Iteration 5890 : Loss 2873.99\n",
      "Iteration 5900 : Loss 2873.97\n",
      "Iteration 5910 : Loss 2873.96\n",
      "Iteration 5920 : Loss 2873.94\n",
      "Iteration 5930 : Loss 2873.93\n",
      "Iteration 5940 : Loss 2873.91\n",
      "Iteration 5950 : Loss 2873.89\n",
      "Iteration 5960 : Loss 2873.88\n",
      "Iteration 5970 : Loss 2873.86\n",
      "Iteration 5980 : Loss 2873.85\n",
      "Iteration 5990 : Loss 2873.83\n",
      "Iteration 6000 : Loss 2873.82\n",
      "Iteration 6010 : Loss 2873.80\n",
      "Iteration 6020 : Loss 2873.79\n",
      "Iteration 6030 : Loss 2873.77\n",
      "Iteration 6040 : Loss 2873.75\n",
      "Iteration 6050 : Loss 2873.74\n",
      "Iteration 6060 : Loss 2873.72\n",
      "Iteration 6070 : Loss 2873.71\n",
      "Iteration 6080 : Loss 2873.69\n",
      "Iteration 6090 : Loss 2873.68\n",
      "Iteration 6100 : Loss 2873.66\n",
      "Iteration 6110 : Loss 2873.65\n",
      "Iteration 6120 : Loss 2873.63\n",
      "Iteration 6130 : Loss 2873.62\n",
      "Iteration 6140 : Loss 2873.60\n",
      "Iteration 6150 : Loss 2873.59\n",
      "Iteration 6160 : Loss 2873.57\n",
      "Iteration 6170 : Loss 2873.56\n",
      "Iteration 6180 : Loss 2873.54\n",
      "Iteration 6190 : Loss 2873.53\n",
      "Iteration 6200 : Loss 2873.51\n",
      "Iteration 6210 : Loss 2873.50\n",
      "Iteration 6220 : Loss 2873.48\n",
      "Iteration 6230 : Loss 2873.47\n",
      "Iteration 6240 : Loss 2873.46\n",
      "Iteration 6250 : Loss 2873.44\n",
      "Iteration 6260 : Loss 2873.43\n",
      "Iteration 6270 : Loss 2873.41\n",
      "Iteration 6280 : Loss 2873.40\n",
      "Iteration 6290 : Loss 2873.38\n",
      "Iteration 6300 : Loss 2873.37\n",
      "Iteration 6310 : Loss 2873.36\n",
      "Iteration 6320 : Loss 2873.34\n",
      "Iteration 6330 : Loss 2873.33\n",
      "Iteration 6340 : Loss 2873.31\n",
      "Iteration 6350 : Loss 2873.30\n",
      "Iteration 6360 : Loss 2873.28\n",
      "Iteration 6370 : Loss 2873.27\n",
      "Iteration 6380 : Loss 2873.26\n",
      "Iteration 6390 : Loss 2873.24\n",
      "Iteration 6400 : Loss 2873.23\n",
      "Iteration 6410 : Loss 2873.22\n",
      "Iteration 6420 : Loss 2873.20\n",
      "Iteration 6430 : Loss 2873.19\n",
      "Iteration 6440 : Loss 2873.17\n",
      "Iteration 6450 : Loss 2873.16\n",
      "Iteration 6460 : Loss 2873.15\n",
      "Iteration 6470 : Loss 2873.13\n",
      "Iteration 6480 : Loss 2873.12\n",
      "Iteration 6490 : Loss 2873.11\n",
      "Iteration 6500 : Loss 2873.09\n",
      "Iteration 6510 : Loss 2873.08\n",
      "Iteration 6520 : Loss 2873.07\n",
      "Iteration 6530 : Loss 2873.05\n",
      "Iteration 6540 : Loss 2873.04\n",
      "Iteration 6550 : Loss 2873.03\n",
      "Iteration 6560 : Loss 2873.01\n",
      "Iteration 6570 : Loss 2873.00\n",
      "Iteration 6580 : Loss 2872.99\n",
      "Iteration 6590 : Loss 2872.97\n",
      "Iteration 6600 : Loss 2872.96\n",
      "Iteration 6610 : Loss 2872.95\n",
      "Iteration 6620 : Loss 2872.93\n",
      "Iteration 6630 : Loss 2872.92\n",
      "Iteration 6640 : Loss 2872.91\n",
      "Iteration 6650 : Loss 2872.90\n",
      "Iteration 6660 : Loss 2872.88\n",
      "Iteration 6670 : Loss 2872.87\n",
      "Iteration 6680 : Loss 2872.86\n",
      "Iteration 6690 : Loss 2872.84\n",
      "Iteration 6700 : Loss 2872.83\n",
      "Iteration 6710 : Loss 2872.82\n",
      "Iteration 6720 : Loss 2872.81\n",
      "Iteration 6730 : Loss 2872.79\n",
      "Iteration 6740 : Loss 2872.78\n",
      "Iteration 6750 : Loss 2872.77\n",
      "Iteration 6760 : Loss 2872.76\n",
      "Iteration 6770 : Loss 2872.74\n",
      "Iteration 6780 : Loss 2872.73\n",
      "Iteration 6790 : Loss 2872.72\n",
      "Iteration 6800 : Loss 2872.71\n",
      "Iteration 6810 : Loss 2872.70\n",
      "Iteration 6820 : Loss 2872.68\n",
      "Iteration 6830 : Loss 2872.67\n",
      "Iteration 6840 : Loss 2872.66\n",
      "Iteration 6850 : Loss 2872.65\n",
      "Iteration 6860 : Loss 2872.63\n",
      "Iteration 6870 : Loss 2872.62\n",
      "Iteration 6880 : Loss 2872.61\n",
      "Iteration 6890 : Loss 2872.60\n",
      "Iteration 6900 : Loss 2872.59\n",
      "Iteration 6910 : Loss 2872.57\n",
      "Iteration 6920 : Loss 2872.56\n",
      "Iteration 6930 : Loss 2872.55\n",
      "Iteration 6940 : Loss 2872.54\n",
      "Iteration 6950 : Loss 2872.53\n",
      "Iteration 6960 : Loss 2872.52\n",
      "Iteration 6970 : Loss 2872.50\n",
      "Iteration 6980 : Loss 2872.49\n",
      "Iteration 6990 : Loss 2872.48\n",
      "Iteration 7000 : Loss 2872.47\n",
      "Iteration 7010 : Loss 2872.46\n",
      "Iteration 7020 : Loss 2872.45\n",
      "Iteration 7030 : Loss 2872.43\n",
      "Iteration 7040 : Loss 2872.42\n",
      "Iteration 7050 : Loss 2872.41\n",
      "Iteration 7060 : Loss 2872.40\n",
      "Iteration 7070 : Loss 2872.39\n",
      "Iteration 7080 : Loss 2872.38\n",
      "Iteration 7090 : Loss 2872.37\n",
      "Iteration 7100 : Loss 2872.35\n",
      "Iteration 7110 : Loss 2872.34\n",
      "Iteration 7120 : Loss 2872.33\n",
      "Iteration 7130 : Loss 2872.32\n",
      "Iteration 7140 : Loss 2872.31\n",
      "Iteration 7150 : Loss 2872.30\n",
      "Iteration 7160 : Loss 2872.29\n",
      "Iteration 7170 : Loss 2872.28\n",
      "Iteration 7180 : Loss 2872.27\n",
      "Iteration 7190 : Loss 2872.25\n",
      "Iteration 7200 : Loss 2872.24\n",
      "Iteration 7210 : Loss 2872.23\n",
      "Iteration 7220 : Loss 2872.22\n",
      "Iteration 7230 : Loss 2872.21\n",
      "Iteration 7240 : Loss 2872.20\n",
      "Iteration 7250 : Loss 2872.19\n",
      "Iteration 7260 : Loss 2872.18\n",
      "Iteration 7270 : Loss 2872.17\n",
      "Iteration 7280 : Loss 2872.16\n",
      "Iteration 7290 : Loss 2872.15\n",
      "Iteration 7300 : Loss 2872.14\n",
      "Iteration 7310 : Loss 2872.13\n",
      "Iteration 7320 : Loss 2872.11\n",
      "Iteration 7330 : Loss 2872.10\n",
      "Iteration 7340 : Loss 2872.09\n",
      "Iteration 7350 : Loss 2872.08\n",
      "Iteration 7360 : Loss 2872.07\n",
      "Iteration 7370 : Loss 2872.06\n",
      "Iteration 7380 : Loss 2872.05\n",
      "Iteration 7390 : Loss 2872.04\n",
      "Iteration 7400 : Loss 2872.03\n",
      "Iteration 7410 : Loss 2872.02\n",
      "Iteration 7420 : Loss 2872.01\n",
      "Iteration 7430 : Loss 2872.00\n",
      "Iteration 7440 : Loss 2871.99\n",
      "Iteration 7450 : Loss 2871.98\n",
      "Iteration 7460 : Loss 2871.97\n",
      "Iteration 7470 : Loss 2871.96\n",
      "Iteration 7480 : Loss 2871.95\n",
      "Iteration 7490 : Loss 2871.94\n",
      "Iteration 7500 : Loss 2871.93\n",
      "Iteration 7510 : Loss 2871.92\n",
      "Iteration 7520 : Loss 2871.91\n",
      "Iteration 7530 : Loss 2871.90\n",
      "Iteration 7540 : Loss 2871.89\n",
      "Iteration 7550 : Loss 2871.88\n",
      "Iteration 7560 : Loss 2871.87\n",
      "Iteration 7570 : Loss 2871.86\n",
      "Iteration 7580 : Loss 2871.85\n",
      "Iteration 7590 : Loss 2871.84\n",
      "Iteration 7600 : Loss 2871.83\n",
      "Iteration 7610 : Loss 2871.82\n",
      "Iteration 7620 : Loss 2871.81\n",
      "Iteration 7630 : Loss 2871.80\n",
      "Iteration 7640 : Loss 2871.79\n",
      "Iteration 7650 : Loss 2871.78\n",
      "Iteration 7660 : Loss 2871.77\n",
      "Iteration 7670 : Loss 2871.76\n",
      "Iteration 7680 : Loss 2871.75\n",
      "Iteration 7690 : Loss 2871.75\n",
      "Iteration 7700 : Loss 2871.74\n",
      "Iteration 7710 : Loss 2871.73\n",
      "Iteration 7720 : Loss 2871.72\n"
     ]
    },
    {
     "name": "stdout",
     "output_type": "stream",
     "text": [
      "Iteration 7730 : Loss 2871.71\n",
      "Iteration 7740 : Loss 2871.70\n",
      "Iteration 7750 : Loss 2871.69\n",
      "Iteration 7760 : Loss 2871.68\n",
      "Iteration 7770 : Loss 2871.67\n",
      "Iteration 7780 : Loss 2871.66\n",
      "Iteration 7790 : Loss 2871.65\n",
      "Iteration 7800 : Loss 2871.64\n",
      "Iteration 7810 : Loss 2871.63\n",
      "Iteration 7820 : Loss 2871.63\n",
      "Iteration 7830 : Loss 2871.62\n",
      "Iteration 7840 : Loss 2871.61\n",
      "Iteration 7850 : Loss 2871.60\n",
      "Iteration 7860 : Loss 2871.59\n",
      "Iteration 7870 : Loss 2871.58\n",
      "Iteration 7880 : Loss 2871.57\n",
      "Iteration 7890 : Loss 2871.56\n",
      "Iteration 7900 : Loss 2871.55\n",
      "Iteration 7910 : Loss 2871.54\n",
      "Iteration 7920 : Loss 2871.54\n",
      "Iteration 7930 : Loss 2871.53\n",
      "Iteration 7940 : Loss 2871.52\n",
      "Iteration 7950 : Loss 2871.51\n",
      "Iteration 7960 : Loss 2871.50\n",
      "Iteration 7970 : Loss 2871.49\n",
      "Iteration 7980 : Loss 2871.48\n",
      "Iteration 7990 : Loss 2871.47\n"
     ]
    }
   ],
   "source": [
    "# 모델 학습시키기\n",
    "losses = []\n",
    "for i in range(1, 8000):\n",
    "    dw, db = gradient(x_train, w, b, y_train)\n",
    "    w -= learning_rate * dw\n",
    "    b -= learning_rate * db\n",
    "    l = loss(x_train, w, b, y_train)\n",
    "    losses.append(l)\n",
    "    \n",
    "    if i % 10 == 0:\n",
    "        print('Iteration %d : Loss %0.2f' % (i, l))"
   ]
  },
  {
   "cell_type": "markdown",
   "id": "8de73fa4",
   "metadata": {},
   "source": [
    "<p style= \"font-size:15px; line-height:24px;\"><span style = 'background-color:#fff5b1;'>learning rate</span>를 <span style = 'background-color:#fff5b1; padding:0.2px;'>0.1로</span> 설정을 한 뒤 <span style = 'background-color:#fff5b1; padding:0.2px;'>훈련</span>을 <span style = 'background-color:#fff5b1; padding:0.2px;'>200</span>번 반복하니, <span style = 'background-color:#fff5b1; padding:0.2px;'>loss값이 3000미만으로 줄은 것을 확인</span>할 수 있었다.</p>"
   ]
  },
  {
   "cell_type": "markdown",
   "id": "8a22fafe",
   "metadata": {},
   "source": [
    "<div style = \"height: 15px;\"></div>"
   ]
  },
  {
   "cell_type": "markdown",
   "id": "ff2b7959",
   "metadata": {},
   "source": [
    "### 훈련 횟수에 따른 loss값 시각화"
   ]
  },
  {
   "cell_type": "code",
   "execution_count": 136,
   "id": "c749111f",
   "metadata": {},
   "outputs": [
    {
     "data": {
      "image/png": "[encoded data removed]",
      "text/plain": [
       "<Figure size 432x288 with 1 Axes>"
      ]
     },
     "metadata": {
      "needs_background": "light"
     },
     "output_type": "display_data"
    }
   ],
   "source": [
    "plt.plot(losses)\n",
    "plt.show()"
   ]
  },
  {
   "cell_type": "markdown",
   "id": "dc55aff9",
   "metadata": {},
   "source": [
    "<div style = \"height: 15px;\"></div>"
   ]
  },
  {
   "cell_type": "markdown",
   "id": "bc1e12fd",
   "metadata": {},
   "source": [
    "### 훈련 데이터의 예측값과 실제값 비교하기"
   ]
  },
  {
   "cell_type": "code",
   "execution_count": 111,
   "id": "81c48c09",
   "metadata": {},
   "outputs": [
    {
     "data": {
      "image/png": "[encoded data removed]",
      "text/plain": [
       "<Figure size 432x288 with 1 Axes>"
      ]
     },
     "metadata": {
      "needs_background": "light"
     },
     "output_type": "display_data"
    }
   ],
   "source": [
    "plt.scatter(x_train[:, 0], y_train)\n",
    "plt.scatter(x_train[:, 0], prediction)\n",
    "plt.xlabel('x_train')\n",
    "plt.ylabel('target & H(x)')\n",
    "plt.show()"
   ]
  },
  {
   "cell_type": "markdown",
   "id": "361d88da",
   "metadata": {},
   "source": [
    "<p style= \"font-size:15px; line-height:24px;\">시각화를 해본 결과, 대체적으로 예측과 실제 데이터가 크게 분리되지 않고 비슷한 걸 확인할 수 있었다.</p>"
   ]
  },
  {
   "cell_type": "markdown",
   "id": "d1540ae6",
   "metadata": {},
   "source": [
    "<div style = \"height: 15px;\"></div>"
   ]
  },
  {
   "cell_type": "markdown",
   "id": "d8bf1e5c",
   "metadata": {},
   "source": [
    "## 10. test 데이터에 대한 성능 확인하기\n",
    "<hr/>"
   ]
  },
  {
   "cell_type": "code",
   "execution_count": 137,
   "id": "6ad4f144",
   "metadata": {},
   "outputs": [],
   "source": [
    "test_prediction = model(x_test, w, b)"
   ]
  },
  {
   "cell_type": "code",
   "execution_count": 138,
   "id": "137ae215",
   "metadata": {},
   "outputs": [
    {
     "data": {
      "text/plain": [
       "array([139.83505665, 180.21953058, 136.12735552, 292.61931977,\n",
       "       122.85670269,  92.55780569, 257.96176072, 183.3955755 ,\n",
       "        87.8777603 , 109.38321764,  94.41554643, 166.47920042,\n",
       "        57.09344929, 206.16026028,  99.54539799, 131.22687206,\n",
       "       220.36413468, 249.44748093, 196.36056088, 217.25697051,\n",
       "       207.46276771,  88.54276867,  71.01737548, 188.73541034,\n",
       "       155.45393241, 160.30180179, 188.88433321, 179.20576049,\n",
       "        48.61547237, 109.39380958, 176.81950807,  88.12967956,\n",
       "       132.36099519, 183.16836156, 173.5837854 , 190.69565589,\n",
       "       123.59023771, 118.89733769, 146.93909462,  59.70933462,\n",
       "        72.59883043, 107.69335118, 164.2504913 , 152.93639888,\n",
       "       172.60946871,  62.90381463,  74.02783283, 112.23091028,\n",
       "        53.95645369, 165.48760103, 154.2248875 ,  63.80832729,\n",
       "       107.13578656, 108.78466748, 173.64507241, 156.66078625,\n",
       "        94.34276392, 209.81275614, 119.50269725,  74.54965795,\n",
       "       186.86836417, 205.26283456, 141.03866312, 105.34508015,\n",
       "       129.0045877 , 202.82428399, 169.66399109, 163.80889355,\n",
       "       122.68245895, 143.33980345, 181.45400517, 197.8388341 ,\n",
       "       234.64967218, 144.84475923,  80.79205785, 155.05629602,\n",
       "       192.89573157, 208.00366117, 158.23131527, 203.76443051,\n",
       "       109.82778065, 139.82135465,  54.42971218,  55.89180126,\n",
       "       113.705356  ,  81.04517845,  81.32227341,  56.93555905,\n",
       "       165.59772899])"
      ]
     },
     "execution_count": 138,
     "metadata": {},
     "output_type": "execute_result"
    }
   ],
   "source": [
    "test_prediction"
   ]
  },
  {
   "cell_type": "code",
   "execution_count": 139,
   "id": "22f5cb35",
   "metadata": {},
   "outputs": [],
   "source": [
    "test_mse = loss(x_test, w, b, y_test)"
   ]
  },
  {
   "cell_type": "code",
   "execution_count": 140,
   "id": "1ec0c4ea",
   "metadata": {},
   "outputs": [
    {
     "data": {
      "text/plain": [
       "2891.6875889915823"
      ]
     },
     "execution_count": 140,
     "metadata": {},
     "output_type": "execute_result"
    }
   ],
   "source": [
    "test_mse"
   ]
  },
  {
   "cell_type": "code",
   "execution_count": 141,
   "id": "543a25a5",
   "metadata": {},
   "outputs": [],
   "source": [
    "# 경사 계산해보기\n",
    "w, b = gradient(x_test, w, b, y_test)"
   ]
  },
  {
   "cell_type": "code",
   "execution_count": 142,
   "id": "9671a713",
   "metadata": {},
   "outputs": [
    {
     "data": {
      "text/plain": [
       "array([ 7.55753647,  3.24110902,  4.15079695,  4.37416126, -7.1567354 ,\n",
       "       -4.14782168, -5.59842963,  1.87331382, -3.47242282, -0.74179733])"
      ]
     },
     "execution_count": 142,
     "metadata": {},
     "output_type": "execute_result"
    }
   ],
   "source": [
    "w"
   ]
  },
  {
   "cell_type": "code",
   "execution_count": 143,
   "id": "d0c2046d",
   "metadata": {},
   "outputs": [
    {
     "data": {
      "text/plain": [
       "-7.959541459120887"
      ]
     },
     "execution_count": 143,
     "metadata": {},
     "output_type": "execute_result"
    }
   ],
   "source": [
    "b"
   ]
  },
  {
   "cell_type": "code",
   "execution_count": 144,
   "id": "c0b8fa84",
   "metadata": {},
   "outputs": [],
   "source": [
    "# 임의로 learning rate 지정하기\n",
    "learning_rate = 0.1"
   ]
  },
  {
   "cell_type": "code",
   "execution_count": 145,
   "id": "227cbbc8",
   "metadata": {},
   "outputs": [
    {
     "name": "stdout",
     "output_type": "stream",
     "text": [
      "Iteration 10 : Loss 5097.33\n",
      "Iteration 20 : Loss 4410.73\n",
      "Iteration 30 : Loss 4096.42\n",
      "Iteration 40 : Loss 3863.61\n",
      "Iteration 50 : Loss 3687.21\n",
      "Iteration 60 : Loss 3551.47\n",
      "Iteration 70 : Loss 3445.17\n",
      "Iteration 80 : Loss 3360.35\n",
      "Iteration 90 : Loss 3291.29\n",
      "Iteration 100 : Loss 3233.93\n",
      "Iteration 110 : Loss 3185.35\n",
      "Iteration 120 : Loss 3143.44\n",
      "Iteration 130 : Loss 3106.69\n",
      "Iteration 140 : Loss 3073.99\n",
      "Iteration 150 : Loss 3044.53\n",
      "Iteration 160 : Loss 3017.72\n",
      "Iteration 170 : Loss 2993.12\n",
      "Iteration 180 : Loss 2970.40\n",
      "Iteration 190 : Loss 2949.29\n",
      "Iteration 200 : Loss 2929.59\n",
      "Iteration 210 : Loss 2911.16\n",
      "Iteration 220 : Loss 2893.87\n",
      "Iteration 230 : Loss 2877.60\n",
      "Iteration 240 : Loss 2862.28\n",
      "Iteration 250 : Loss 2847.84\n",
      "Iteration 260 : Loss 2834.19\n",
      "Iteration 270 : Loss 2821.30\n",
      "Iteration 280 : Loss 2809.11\n",
      "Iteration 290 : Loss 2797.58\n"
     ]
    }
   ],
   "source": [
    "# 모델 학습시키기\n",
    "losses = []\n",
    "for i in range(1, 300):\n",
    "    dw, db = gradient(x_test, w, b, y_test)\n",
    "    w -= learning_rate * dw\n",
    "    b -= learning_rate * db\n",
    "    l = loss(x_test, w, b, y_test)\n",
    "    losses.append(l)\n",
    "    \n",
    "    if i % 10 == 0:\n",
    "        print('Iteration %d : Loss %0.2f' % (i, l))"
   ]
  },
  {
   "cell_type": "markdown",
   "id": "8944debc",
   "metadata": {},
   "source": [
    "<div style = \"height: 15px;\"></div>"
   ]
  },
  {
   "cell_type": "markdown",
   "id": "3d0dc22d",
   "metadata": {},
   "source": [
    "<p style= \"font-size:15px; line-height:24px;\"><span style = 'background-color:#fff5b1;'>learning rate</span>를 <span style = 'background-color:#fff5b1; padding:0.2px;'>0.1로</span> 설정을 한 뒤 <span style = 'background-color:#fff5b1; padding:0.2px;'>훈련</span>을 <span style = 'background-color:#fff5b1; padding:0.2px;'>300</span>번 반복하니, <span style = 'background-color:#fff5b1; padding:0.2px;'>loss값이 3000미만으로 줄은 것을 확인</span>할 수 있었다. <br/>테스트 세트 또한 훈련 세트와 비슷하게 값이 떨어지는 것 같다.</p>"
   ]
  },
  {
   "cell_type": "markdown",
   "id": "e5c44523",
   "metadata": {},
   "source": [
    "<div style = \"height: 15px;\"></div>"
   ]
  },
  {
   "cell_type": "markdown",
   "id": "f1856eaf",
   "metadata": {},
   "source": [
    "### 훈련 횟수에 따른 loss값 시각화"
   ]
  },
  {
   "cell_type": "code",
   "execution_count": 146,
   "id": "7a33df84",
   "metadata": {},
   "outputs": [
    {
     "data": {
      "image/png": "[encoded data removed]",
      "text/plain": [
       "<Figure size 432x288 with 1 Axes>"
      ]
     },
     "metadata": {
      "needs_background": "light"
     },
     "output_type": "display_data"
    }
   ],
   "source": [
    "plt.plot(losses)\n",
    "plt.show()"
   ]
  },
  {
   "cell_type": "markdown",
   "id": "5a60a565",
   "metadata": {},
   "source": [
    "<div style = \"height: 15px;\"></div>"
   ]
  },
  {
   "cell_type": "markdown",
   "id": "ea71abba",
   "metadata": {},
   "source": [
    "## 11. 정답 데이터와 예측한 데이터 시각화하기\n",
    "<hr/>"
   ]
  },
  {
   "cell_type": "code",
   "execution_count": 147,
   "id": "a5b40599",
   "metadata": {},
   "outputs": [
    {
     "data": {
      "image/png": "[encoded data removed]",
      "text/plain": [
       "<Figure size 432x288 with 1 Axes>"
      ]
     },
     "metadata": {
      "needs_background": "light"
     },
     "output_type": "display_data"
    }
   ],
   "source": [
    "plt.scatter(x_test[:, 0], y_test)\n",
    "plt.scatter(x_test[:, 0], test_prediction)\n",
    "plt.xlabel('x_train')\n",
    "plt.ylabel('target & H(x)')\n",
    "plt.show()"
   ]
  },
  {
   "cell_type": "markdown",
   "id": "dc615788",
   "metadata": {},
   "source": [
    "<p style= \"font-size:16px; line-height:30px;\">시각화를 해본 결과, 훈련 데이터와 동일하게<br/>대체적으로 예측과 실제 데이터가 크게 분리되지 않고 비슷한 걸 확인할 수 있었다.</p>"
   ]
  },
  {
   "cell_type": "markdown",
   "id": "802e3a9a",
   "metadata": {},
   "source": [
    "<div style = \"height: 15px;\"></div>"
   ]
  },
  {
   "cell_type": "markdown",
   "id": "cfd3b96c",
   "metadata": {},
   "source": [
    "## 회고\n",
    "<hr/>"
   ]
  },
  {
   "cell_type": "markdown",
   "id": "02254f5b",
   "metadata": {},
   "source": [
    "<p style= \"font-size:16px; line-height:30px;\">늘 모델로 간단하게 구현만 했던 것을 직접적으로 함수로 구현하여 실행시키는 것은 생각보다 어려웠습니다.<br/>\n",
    "원리를 알고 사용해왔다고 생각했는데 python을 이용하여 함수로 구현해보니 그렇지 않다고 생각이 들었습니다. 그래도 천천히 진행해보니 원리도 이해가 되어서 좋았습니다. 앞으로는 함수로 구현하겠지만, 가끔이나마 모델을 돌릴 때 어려운 점이 있으면 이 EXPLORATION에 돌아와서 다시 볼 것 같습니다.</p>"
   ]
  },
  {
   "cell_type": "markdown",
   "id": "daace7d2",
   "metadata": {},
   "source": [
    "<div style = \"height: 50px;\"></div>"
   ]
  },
  {
   "cell_type": "markdown",
   "id": "f3683936",
   "metadata": {},
   "source": [
    "# <span style = \"font-weight:bold;color:#0172d4;\">PROJECT 2</span> : 날씨 좋은 월요일 오후 세 시, 자전거 타는 사람은 몇 명?"
   ]
  },
  {
   "cell_type": "markdown",
   "id": "c90d2e97",
   "metadata": {},
   "source": [
    "## 1. 데이터 가져오기\n",
    "<hr/>"
   ]
  },
  {
   "cell_type": "code",
   "execution_count": 356,
   "id": "a3a0e4df",
   "metadata": {},
   "outputs": [],
   "source": [
    "# 데이터 train변수로 가져오기\n",
    "train = pd.read_csv(\"train.csv\")"
   ]
  },
  {
   "cell_type": "code",
   "execution_count": 357,
   "id": "44f471be",
   "metadata": {},
   "outputs": [
    {
     "data": {
      "text/html": [
       "<div>\n",
       "<style scoped>\n",
       "    .dataframe tbody tr th:only-of-type {\n",
       "        vertical-align: middle;\n",
       "    }\n",
       "\n",
       "    .dataframe tbody tr th {\n",
       "        vertical-align: top;\n",
       "    }\n",
       "\n",
       "    .dataframe thead th {\n",
       "        text-align: right;\n",
       "    }\n",
       "</style>\n",
       "<table border=\"1\" class=\"dataframe\">\n",
       "  <thead>\n",
       "    <tr style=\"text-align: right;\">\n",
       "      <th></th>\n",
       "      <th>datetime</th>\n",
       "      <th>season</th>\n",
       "      <th>holiday</th>\n",
       "      <th>workingday</th>\n",
       "      <th>weather</th>\n",
       "      <th>temp</th>\n",
       "      <th>atemp</th>\n",
       "      <th>humidity</th>\n",
       "      <th>windspeed</th>\n",
       "      <th>casual</th>\n",
       "      <th>registered</th>\n",
       "      <th>count</th>\n",
       "    </tr>\n",
       "  </thead>\n",
       "  <tbody>\n",
       "    <tr>\n",
       "      <th>0</th>\n",
       "      <td>2011-01-01 00:00:00</td>\n",
       "      <td>1</td>\n",
       "      <td>0</td>\n",
       "      <td>0</td>\n",
       "      <td>1</td>\n",
       "      <td>9.84</td>\n",
       "      <td>14.395</td>\n",
       "      <td>81</td>\n",
       "      <td>0.0000</td>\n",
       "      <td>3</td>\n",
       "      <td>13</td>\n",
       "      <td>16</td>\n",
       "    </tr>\n",
       "    <tr>\n",
       "      <th>1</th>\n",
       "      <td>2011-01-01 01:00:00</td>\n",
       "      <td>1</td>\n",
       "      <td>0</td>\n",
       "      <td>0</td>\n",
       "      <td>1</td>\n",
       "      <td>9.02</td>\n",
       "      <td>13.635</td>\n",
       "      <td>80</td>\n",
       "      <td>0.0000</td>\n",
       "      <td>8</td>\n",
       "      <td>32</td>\n",
       "      <td>40</td>\n",
       "    </tr>\n",
       "    <tr>\n",
       "      <th>2</th>\n",
       "      <td>2011-01-01 02:00:00</td>\n",
       "      <td>1</td>\n",
       "      <td>0</td>\n",
       "      <td>0</td>\n",
       "      <td>1</td>\n",
       "      <td>9.02</td>\n",
       "      <td>13.635</td>\n",
       "      <td>80</td>\n",
       "      <td>0.0000</td>\n",
       "      <td>5</td>\n",
       "      <td>27</td>\n",
       "      <td>32</td>\n",
       "    </tr>\n",
       "    <tr>\n",
       "      <th>3</th>\n",
       "      <td>2011-01-01 03:00:00</td>\n",
       "      <td>1</td>\n",
       "      <td>0</td>\n",
       "      <td>0</td>\n",
       "      <td>1</td>\n",
       "      <td>9.84</td>\n",
       "      <td>14.395</td>\n",
       "      <td>75</td>\n",
       "      <td>0.0000</td>\n",
       "      <td>3</td>\n",
       "      <td>10</td>\n",
       "      <td>13</td>\n",
       "    </tr>\n",
       "    <tr>\n",
       "      <th>4</th>\n",
       "      <td>2011-01-01 04:00:00</td>\n",
       "      <td>1</td>\n",
       "      <td>0</td>\n",
       "      <td>0</td>\n",
       "      <td>1</td>\n",
       "      <td>9.84</td>\n",
       "      <td>14.395</td>\n",
       "      <td>75</td>\n",
       "      <td>0.0000</td>\n",
       "      <td>0</td>\n",
       "      <td>1</td>\n",
       "      <td>1</td>\n",
       "    </tr>\n",
       "    <tr>\n",
       "      <th>...</th>\n",
       "      <td>...</td>\n",
       "      <td>...</td>\n",
       "      <td>...</td>\n",
       "      <td>...</td>\n",
       "      <td>...</td>\n",
       "      <td>...</td>\n",
       "      <td>...</td>\n",
       "      <td>...</td>\n",
       "      <td>...</td>\n",
       "      <td>...</td>\n",
       "      <td>...</td>\n",
       "      <td>...</td>\n",
       "    </tr>\n",
       "    <tr>\n",
       "      <th>10881</th>\n",
       "      <td>2012-12-19 19:00:00</td>\n",
       "      <td>4</td>\n",
       "      <td>0</td>\n",
       "      <td>1</td>\n",
       "      <td>1</td>\n",
       "      <td>15.58</td>\n",
       "      <td>19.695</td>\n",
       "      <td>50</td>\n",
       "      <td>26.0027</td>\n",
       "      <td>7</td>\n",
       "      <td>329</td>\n",
       "      <td>336</td>\n",
       "    </tr>\n",
       "    <tr>\n",
       "      <th>10882</th>\n",
       "      <td>2012-12-19 20:00:00</td>\n",
       "      <td>4</td>\n",
       "      <td>0</td>\n",
       "      <td>1</td>\n",
       "      <td>1</td>\n",
       "      <td>14.76</td>\n",
       "      <td>17.425</td>\n",
       "      <td>57</td>\n",
       "      <td>15.0013</td>\n",
       "      <td>10</td>\n",
       "      <td>231</td>\n",
       "      <td>241</td>\n",
       "    </tr>\n",
       "    <tr>\n",
       "      <th>10883</th>\n",
       "      <td>2012-12-19 21:00:00</td>\n",
       "      <td>4</td>\n",
       "      <td>0</td>\n",
       "      <td>1</td>\n",
       "      <td>1</td>\n",
       "      <td>13.94</td>\n",
       "      <td>15.910</td>\n",
       "      <td>61</td>\n",
       "      <td>15.0013</td>\n",
       "      <td>4</td>\n",
       "      <td>164</td>\n",
       "      <td>168</td>\n",
       "    </tr>\n",
       "    <tr>\n",
       "      <th>10884</th>\n",
       "      <td>2012-12-19 22:00:00</td>\n",
       "      <td>4</td>\n",
       "      <td>0</td>\n",
       "      <td>1</td>\n",
       "      <td>1</td>\n",
       "      <td>13.94</td>\n",
       "      <td>17.425</td>\n",
       "      <td>61</td>\n",
       "      <td>6.0032</td>\n",
       "      <td>12</td>\n",
       "      <td>117</td>\n",
       "      <td>129</td>\n",
       "    </tr>\n",
       "    <tr>\n",
       "      <th>10885</th>\n",
       "      <td>2012-12-19 23:00:00</td>\n",
       "      <td>4</td>\n",
       "      <td>0</td>\n",
       "      <td>1</td>\n",
       "      <td>1</td>\n",
       "      <td>13.12</td>\n",
       "      <td>16.665</td>\n",
       "      <td>66</td>\n",
       "      <td>8.9981</td>\n",
       "      <td>4</td>\n",
       "      <td>84</td>\n",
       "      <td>88</td>\n",
       "    </tr>\n",
       "  </tbody>\n",
       "</table>\n",
       "<p>10886 rows × 12 columns</p>\n",
       "</div>"
      ],
      "text/plain": [
       "                  datetime  season  holiday  workingday  weather   temp  \\\n",
       "0      2011-01-01 00:00:00       1        0           0        1   9.84   \n",
       "1      2011-01-01 01:00:00       1        0           0        1   9.02   \n",
       "2      2011-01-01 02:00:00       1        0           0        1   9.02   \n",
       "3      2011-01-01 03:00:00       1        0           0        1   9.84   \n",
       "4      2011-01-01 04:00:00       1        0           0        1   9.84   \n",
       "...                    ...     ...      ...         ...      ...    ...   \n",
       "10881  2012-12-19 19:00:00       4        0           1        1  15.58   \n",
       "10882  2012-12-19 20:00:00       4        0           1        1  14.76   \n",
       "10883  2012-12-19 21:00:00       4        0           1        1  13.94   \n",
       "10884  2012-12-19 22:00:00       4        0           1        1  13.94   \n",
       "10885  2012-12-19 23:00:00       4        0           1        1  13.12   \n",
       "\n",
       "        atemp  humidity  windspeed  casual  registered  count  \n",
       "0      14.395        81     0.0000       3          13     16  \n",
       "1      13.635        80     0.0000       8          32     40  \n",
       "2      13.635        80     0.0000       5          27     32  \n",
       "3      14.395        75     0.0000       3          10     13  \n",
       "4      14.395        75     0.0000       0           1      1  \n",
       "...       ...       ...        ...     ...         ...    ...  \n",
       "10881  19.695        50    26.0027       7         329    336  \n",
       "10882  17.425        57    15.0013      10         231    241  \n",
       "10883  15.910        61    15.0013       4         164    168  \n",
       "10884  17.425        61     6.0032      12         117    129  \n",
       "10885  16.665        66     8.9981       4          84     88  \n",
       "\n",
       "[10886 rows x 12 columns]"
      ]
     },
     "execution_count": 357,
     "metadata": {},
     "output_type": "execute_result"
    }
   ],
   "source": [
    "train"
   ]
  },
  {
   "cell_type": "markdown",
   "id": "5739470f",
   "metadata": {},
   "source": [
    "<div style = \"height: 15px;\"></div>"
   ]
  },
  {
   "cell_type": "markdown",
   "id": "7504755f",
   "metadata": {},
   "source": [
    "## 2. datetime 컬럼을 datetime 자료형으로 변환하고<br/> 연, 월, 일, 시, 분, 초까지 6가지 컬럼 생성하기\n",
    "<hr/>"
   ]
  },
  {
   "cell_type": "markdown",
   "id": "0b001d1e",
   "metadata": {},
   "source": [
    "### datetime 컬럼을 datetime 자료형으로 변환하기"
   ]
  },
  {
   "cell_type": "code",
   "execution_count": 358,
   "id": "c5c3528a",
   "metadata": {},
   "outputs": [],
   "source": [
    "train['datetime'] = pd.to_datetime(train['datetime'])"
   ]
  },
  {
   "cell_type": "code",
   "execution_count": 359,
   "id": "cc225d90",
   "metadata": {},
   "outputs": [
    {
     "data": {
      "text/plain": [
       "0       2011-01-01 00:00:00\n",
       "1       2011-01-01 01:00:00\n",
       "2       2011-01-01 02:00:00\n",
       "3       2011-01-01 03:00:00\n",
       "4       2011-01-01 04:00:00\n",
       "                ...        \n",
       "10881   2012-12-19 19:00:00\n",
       "10882   2012-12-19 20:00:00\n",
       "10883   2012-12-19 21:00:00\n",
       "10884   2012-12-19 22:00:00\n",
       "10885   2012-12-19 23:00:00\n",
       "Name: datetime, Length: 10886, dtype: datetime64[ns]"
      ]
     },
     "execution_count": 359,
     "metadata": {},
     "output_type": "execute_result"
    }
   ],
   "source": [
    "train['datetime']"
   ]
  },
  {
   "cell_type": "markdown",
   "id": "4d44d382",
   "metadata": {},
   "source": [
    "<div style = \"height: 15px;\"></div>"
   ]
  },
  {
   "cell_type": "markdown",
   "id": "ef6432e7",
   "metadata": {},
   "source": [
    "### 컬럼 생성하기 "
   ]
  },
  {
   "cell_type": "code",
   "execution_count": 360,
   "id": "580148e4",
   "metadata": {},
   "outputs": [],
   "source": [
    "year = train['datetime'].dt.year # 연도 정보\n",
    "month = train['datetime'].dt.month # 월 정보\n",
    "day = train['datetime'].dt.day # 일 정보\n",
    "hour = train['datetime'].dt.hour # 시간 정보\n",
    "minute = train['datetime'].dt.minute # 분 정보\n",
    "second = train['datetime'].dt.second # 초 정보"
   ]
  },
  {
   "cell_type": "code",
   "execution_count": 361,
   "id": "21d3a31e",
   "metadata": {},
   "outputs": [],
   "source": [
    "train['year'] = year\n",
    "train['month'] = month\n",
    "train['day'] = day\n",
    "train['hour'] = hour\n",
    "train['minute'] = minute\n",
    "train['second'] = second"
   ]
  },
  {
   "cell_type": "code",
   "execution_count": 362,
   "id": "f023ac1b",
   "metadata": {},
   "outputs": [
    {
     "data": {
      "text/html": [
       "<div>\n",
       "<style scoped>\n",
       "    .dataframe tbody tr th:only-of-type {\n",
       "        vertical-align: middle;\n",
       "    }\n",
       "\n",
       "    .dataframe tbody tr th {\n",
       "        vertical-align: top;\n",
       "    }\n",
       "\n",
       "    .dataframe thead th {\n",
       "        text-align: right;\n",
       "    }\n",
       "</style>\n",
       "<table border=\"1\" class=\"dataframe\">\n",
       "  <thead>\n",
       "    <tr style=\"text-align: right;\">\n",
       "      <th></th>\n",
       "      <th>datetime</th>\n",
       "      <th>season</th>\n",
       "      <th>holiday</th>\n",
       "      <th>workingday</th>\n",
       "      <th>weather</th>\n",
       "      <th>temp</th>\n",
       "      <th>atemp</th>\n",
       "      <th>humidity</th>\n",
       "      <th>windspeed</th>\n",
       "      <th>casual</th>\n",
       "      <th>registered</th>\n",
       "      <th>count</th>\n",
       "      <th>year</th>\n",
       "      <th>month</th>\n",
       "      <th>day</th>\n",
       "      <th>hour</th>\n",
       "      <th>minute</th>\n",
       "      <th>second</th>\n",
       "    </tr>\n",
       "  </thead>\n",
       "  <tbody>\n",
       "    <tr>\n",
       "      <th>0</th>\n",
       "      <td>2011-01-01 00:00:00</td>\n",
       "      <td>1</td>\n",
       "      <td>0</td>\n",
       "      <td>0</td>\n",
       "      <td>1</td>\n",
       "      <td>9.84</td>\n",
       "      <td>14.395</td>\n",
       "      <td>81</td>\n",
       "      <td>0.0000</td>\n",
       "      <td>3</td>\n",
       "      <td>13</td>\n",
       "      <td>16</td>\n",
       "      <td>2011</td>\n",
       "      <td>1</td>\n",
       "      <td>1</td>\n",
       "      <td>0</td>\n",
       "      <td>0</td>\n",
       "      <td>0</td>\n",
       "    </tr>\n",
       "    <tr>\n",
       "      <th>1</th>\n",
       "      <td>2011-01-01 01:00:00</td>\n",
       "      <td>1</td>\n",
       "      <td>0</td>\n",
       "      <td>0</td>\n",
       "      <td>1</td>\n",
       "      <td>9.02</td>\n",
       "      <td>13.635</td>\n",
       "      <td>80</td>\n",
       "      <td>0.0000</td>\n",
       "      <td>8</td>\n",
       "      <td>32</td>\n",
       "      <td>40</td>\n",
       "      <td>2011</td>\n",
       "      <td>1</td>\n",
       "      <td>1</td>\n",
       "      <td>1</td>\n",
       "      <td>0</td>\n",
       "      <td>0</td>\n",
       "    </tr>\n",
       "    <tr>\n",
       "      <th>2</th>\n",
       "      <td>2011-01-01 02:00:00</td>\n",
       "      <td>1</td>\n",
       "      <td>0</td>\n",
       "      <td>0</td>\n",
       "      <td>1</td>\n",
       "      <td>9.02</td>\n",
       "      <td>13.635</td>\n",
       "      <td>80</td>\n",
       "      <td>0.0000</td>\n",
       "      <td>5</td>\n",
       "      <td>27</td>\n",
       "      <td>32</td>\n",
       "      <td>2011</td>\n",
       "      <td>1</td>\n",
       "      <td>1</td>\n",
       "      <td>2</td>\n",
       "      <td>0</td>\n",
       "      <td>0</td>\n",
       "    </tr>\n",
       "    <tr>\n",
       "      <th>3</th>\n",
       "      <td>2011-01-01 03:00:00</td>\n",
       "      <td>1</td>\n",
       "      <td>0</td>\n",
       "      <td>0</td>\n",
       "      <td>1</td>\n",
       "      <td>9.84</td>\n",
       "      <td>14.395</td>\n",
       "      <td>75</td>\n",
       "      <td>0.0000</td>\n",
       "      <td>3</td>\n",
       "      <td>10</td>\n",
       "      <td>13</td>\n",
       "      <td>2011</td>\n",
       "      <td>1</td>\n",
       "      <td>1</td>\n",
       "      <td>3</td>\n",
       "      <td>0</td>\n",
       "      <td>0</td>\n",
       "    </tr>\n",
       "    <tr>\n",
       "      <th>4</th>\n",
       "      <td>2011-01-01 04:00:00</td>\n",
       "      <td>1</td>\n",
       "      <td>0</td>\n",
       "      <td>0</td>\n",
       "      <td>1</td>\n",
       "      <td>9.84</td>\n",
       "      <td>14.395</td>\n",
       "      <td>75</td>\n",
       "      <td>0.0000</td>\n",
       "      <td>0</td>\n",
       "      <td>1</td>\n",
       "      <td>1</td>\n",
       "      <td>2011</td>\n",
       "      <td>1</td>\n",
       "      <td>1</td>\n",
       "      <td>4</td>\n",
       "      <td>0</td>\n",
       "      <td>0</td>\n",
       "    </tr>\n",
       "    <tr>\n",
       "      <th>...</th>\n",
       "      <td>...</td>\n",
       "      <td>...</td>\n",
       "      <td>...</td>\n",
       "      <td>...</td>\n",
       "      <td>...</td>\n",
       "      <td>...</td>\n",
       "      <td>...</td>\n",
       "      <td>...</td>\n",
       "      <td>...</td>\n",
       "      <td>...</td>\n",
       "      <td>...</td>\n",
       "      <td>...</td>\n",
       "      <td>...</td>\n",
       "      <td>...</td>\n",
       "      <td>...</td>\n",
       "      <td>...</td>\n",
       "      <td>...</td>\n",
       "      <td>...</td>\n",
       "    </tr>\n",
       "    <tr>\n",
       "      <th>10881</th>\n",
       "      <td>2012-12-19 19:00:00</td>\n",
       "      <td>4</td>\n",
       "      <td>0</td>\n",
       "      <td>1</td>\n",
       "      <td>1</td>\n",
       "      <td>15.58</td>\n",
       "      <td>19.695</td>\n",
       "      <td>50</td>\n",
       "      <td>26.0027</td>\n",
       "      <td>7</td>\n",
       "      <td>329</td>\n",
       "      <td>336</td>\n",
       "      <td>2012</td>\n",
       "      <td>12</td>\n",
       "      <td>19</td>\n",
       "      <td>19</td>\n",
       "      <td>0</td>\n",
       "      <td>0</td>\n",
       "    </tr>\n",
       "    <tr>\n",
       "      <th>10882</th>\n",
       "      <td>2012-12-19 20:00:00</td>\n",
       "      <td>4</td>\n",
       "      <td>0</td>\n",
       "      <td>1</td>\n",
       "      <td>1</td>\n",
       "      <td>14.76</td>\n",
       "      <td>17.425</td>\n",
       "      <td>57</td>\n",
       "      <td>15.0013</td>\n",
       "      <td>10</td>\n",
       "      <td>231</td>\n",
       "      <td>241</td>\n",
       "      <td>2012</td>\n",
       "      <td>12</td>\n",
       "      <td>19</td>\n",
       "      <td>20</td>\n",
       "      <td>0</td>\n",
       "      <td>0</td>\n",
       "    </tr>\n",
       "    <tr>\n",
       "      <th>10883</th>\n",
       "      <td>2012-12-19 21:00:00</td>\n",
       "      <td>4</td>\n",
       "      <td>0</td>\n",
       "      <td>1</td>\n",
       "      <td>1</td>\n",
       "      <td>13.94</td>\n",
       "      <td>15.910</td>\n",
       "      <td>61</td>\n",
       "      <td>15.0013</td>\n",
       "      <td>4</td>\n",
       "      <td>164</td>\n",
       "      <td>168</td>\n",
       "      <td>2012</td>\n",
       "      <td>12</td>\n",
       "      <td>19</td>\n",
       "      <td>21</td>\n",
       "      <td>0</td>\n",
       "      <td>0</td>\n",
       "    </tr>\n",
       "    <tr>\n",
       "      <th>10884</th>\n",
       "      <td>2012-12-19 22:00:00</td>\n",
       "      <td>4</td>\n",
       "      <td>0</td>\n",
       "      <td>1</td>\n",
       "      <td>1</td>\n",
       "      <td>13.94</td>\n",
       "      <td>17.425</td>\n",
       "      <td>61</td>\n",
       "      <td>6.0032</td>\n",
       "      <td>12</td>\n",
       "      <td>117</td>\n",
       "      <td>129</td>\n",
       "      <td>2012</td>\n",
       "      <td>12</td>\n",
       "      <td>19</td>\n",
       "      <td>22</td>\n",
       "      <td>0</td>\n",
       "      <td>0</td>\n",
       "    </tr>\n",
       "    <tr>\n",
       "      <th>10885</th>\n",
       "      <td>2012-12-19 23:00:00</td>\n",
       "      <td>4</td>\n",
       "      <td>0</td>\n",
       "      <td>1</td>\n",
       "      <td>1</td>\n",
       "      <td>13.12</td>\n",
       "      <td>16.665</td>\n",
       "      <td>66</td>\n",
       "      <td>8.9981</td>\n",
       "      <td>4</td>\n",
       "      <td>84</td>\n",
       "      <td>88</td>\n",
       "      <td>2012</td>\n",
       "      <td>12</td>\n",
       "      <td>19</td>\n",
       "      <td>23</td>\n",
       "      <td>0</td>\n",
       "      <td>0</td>\n",
       "    </tr>\n",
       "  </tbody>\n",
       "</table>\n",
       "<p>10886 rows × 18 columns</p>\n",
       "</div>"
      ],
      "text/plain": [
       "                 datetime  season  holiday  workingday  weather   temp  \\\n",
       "0     2011-01-01 00:00:00       1        0           0        1   9.84   \n",
       "1     2011-01-01 01:00:00       1        0           0        1   9.02   \n",
       "2     2011-01-01 02:00:00       1        0           0        1   9.02   \n",
       "3     2011-01-01 03:00:00       1        0           0        1   9.84   \n",
       "4     2011-01-01 04:00:00       1        0           0        1   9.84   \n",
       "...                   ...     ...      ...         ...      ...    ...   \n",
       "10881 2012-12-19 19:00:00       4        0           1        1  15.58   \n",
       "10882 2012-12-19 20:00:00       4        0           1        1  14.76   \n",
       "10883 2012-12-19 21:00:00       4        0           1        1  13.94   \n",
       "10884 2012-12-19 22:00:00       4        0           1        1  13.94   \n",
       "10885 2012-12-19 23:00:00       4        0           1        1  13.12   \n",
       "\n",
       "        atemp  humidity  windspeed  casual  registered  count  year  month  \\\n",
       "0      14.395        81     0.0000       3          13     16  2011      1   \n",
       "1      13.635        80     0.0000       8          32     40  2011      1   \n",
       "2      13.635        80     0.0000       5          27     32  2011      1   \n",
       "3      14.395        75     0.0000       3          10     13  2011      1   \n",
       "4      14.395        75     0.0000       0           1      1  2011      1   \n",
       "...       ...       ...        ...     ...         ...    ...   ...    ...   \n",
       "10881  19.695        50    26.0027       7         329    336  2012     12   \n",
       "10882  17.425        57    15.0013      10         231    241  2012     12   \n",
       "10883  15.910        61    15.0013       4         164    168  2012     12   \n",
       "10884  17.425        61     6.0032      12         117    129  2012     12   \n",
       "10885  16.665        66     8.9981       4          84     88  2012     12   \n",
       "\n",
       "       day  hour  minute  second  \n",
       "0        1     0       0       0  \n",
       "1        1     1       0       0  \n",
       "2        1     2       0       0  \n",
       "3        1     3       0       0  \n",
       "4        1     4       0       0  \n",
       "...    ...   ...     ...     ...  \n",
       "10881   19    19       0       0  \n",
       "10882   19    20       0       0  \n",
       "10883   19    21       0       0  \n",
       "10884   19    22       0       0  \n",
       "10885   19    23       0       0  \n",
       "\n",
       "[10886 rows x 18 columns]"
      ]
     },
     "execution_count": 362,
     "metadata": {},
     "output_type": "execute_result"
    }
   ],
   "source": [
    "train"
   ]
  },
  {
   "cell_type": "markdown",
   "id": "aabfcaf2",
   "metadata": {},
   "source": [
    "<div style = \"height: 15px;\"></div>"
   ]
  },
  {
   "cell_type": "markdown",
   "id": "da51b173",
   "metadata": {},
   "source": [
    "## 3. year, month, day, hour, minute, second 데이터 개수 시각화하기\n",
    "<hr/>"
   ]
  },
  {
   "cell_type": "code",
   "execution_count": 363,
   "id": "aafaa5de",
   "metadata": {
    "scrolled": false
   },
   "outputs": [
    {
     "data": {
      "text/plain": [
       "[Text(0.5, 1.0, 'second'), Text(0.5, 0, ''), Text(0, 0.5, '')]"
      ]
     },
     "execution_count": 363,
     "metadata": {},
     "output_type": "execute_result"
    },
    {
     "data": {
      "image/png": "[encoded data removed]",
      "text/plain": [
       "<Figure size 576x1296 with 6 Axes>"
      ]
     },
     "metadata": {},
     "output_type": "display_data"
    }
   ],
   "source": [
    "sns.set(rc = {'figure.figsize':(8,18)})\n",
    "\n",
    "plt.subplot(6,1,1)\n",
    "sns.countplot(x = year, data = train).set(title = 'year', xlabel = \"\", ylabel = \"\")\n",
    "plt.tight_layout(pad = 1.08, h_pad = 3)\n",
    "\n",
    "plt.subplot(6,1,2)\n",
    "sns.countplot(x = month, data = train).set(title = 'month', xlabel = \"\", ylabel = \"\")\n",
    "plt.tight_layout(pad = 1.08, h_pad = 3)\n",
    "\n",
    "plt.subplot(6,1,3)\n",
    "sns.countplot(x = day, data = train).set(title = 'day', xlabel = \"\", ylabel = \"\")\n",
    "plt.tight_layout(pad = 1.08, h_pad = 3)\n",
    "\n",
    "plt.subplot(6,1,4)\n",
    "sns.countplot(x = hour, data = train).set(title = 'hour', xlabel = \"\", ylabel = \"\")\n",
    "plt.tight_layout(pad = 1.08, h_pad = 3)\n",
    "\n",
    "plt.subplot(6,1,5)\n",
    "sns.countplot(x = minute, data = train).set(title = 'minute', xlabel = \"\", ylabel = \"\")\n",
    "plt.tight_layout(pad = 1.08, h_pad = 3)\n",
    "\n",
    "plt.subplot(6,1,6)\n",
    "sns.countplot(x = second, data = train).set(title = 'second', xlabel = \"\", ylabel = \"\")"
   ]
  },
  {
   "cell_type": "markdown",
   "id": "7be58385",
   "metadata": {},
   "source": [
    "<p style= \"font-size:15px; line-height:24px;\">그래프로 시각화해본 결과, minute, second 데이터는 0밖에 없으므로, 불필요한 데이터로 생각된다.<br/>\n",
    "따라서, <span style = 'background-color:#fff5b1; padding:0.2px;'>x에서 minute, second 데이터는 제외한다.</span></p>"
   ]
  },
  {
   "cell_type": "markdown",
   "id": "fbc3d4e6",
   "metadata": {},
   "source": [
    "<div style = \"height: 15px;\"></div>"
   ]
  },
  {
   "cell_type": "markdown",
   "id": "e7ea4f38",
   "metadata": {},
   "source": [
    "## 4. X, y 컬럼 선택 및 train/test 데이터 분리\n",
    "<hr/>"
   ]
  },
  {
   "cell_type": "markdown",
   "id": "77257037",
   "metadata": {},
   "source": [
    "### 불필요한 데이터 판단하기 - (1) 데이터 확인하기"
   ]
  },
  {
   "cell_type": "code",
   "execution_count": 364,
   "id": "513f84c7",
   "metadata": {},
   "outputs": [
    {
     "name": "stdout",
     "output_type": "stream",
     "text": [
      "<class 'pandas.core.frame.DataFrame'>\n",
      "RangeIndex: 10886 entries, 0 to 10885\n",
      "Data columns (total 18 columns):\n",
      " #   Column      Non-Null Count  Dtype         \n",
      "---  ------      --------------  -----         \n",
      " 0   datetime    10886 non-null  datetime64[ns]\n",
      " 1   season      10886 non-null  int64         \n",
      " 2   holiday     10886 non-null  int64         \n",
      " 3   workingday  10886 non-null  int64         \n",
      " 4   weather     10886 non-null  int64         \n",
      " 5   temp        10886 non-null  float64       \n",
      " 6   atemp       10886 non-null  float64       \n",
      " 7   humidity    10886 non-null  int64         \n",
      " 8   windspeed   10886 non-null  float64       \n",
      " 9   casual      10886 non-null  int64         \n",
      " 10  registered  10886 non-null  int64         \n",
      " 11  count       10886 non-null  int64         \n",
      " 12  year        10886 non-null  int64         \n",
      " 13  month       10886 non-null  int64         \n",
      " 14  day         10886 non-null  int64         \n",
      " 15  hour        10886 non-null  int64         \n",
      " 16  minute      10886 non-null  int64         \n",
      " 17  second      10886 non-null  int64         \n",
      "dtypes: datetime64[ns](1), float64(3), int64(14)\n",
      "memory usage: 1.5 MB\n"
     ]
    }
   ],
   "source": [
    "train.info()"
   ]
  },
  {
   "cell_type": "code",
   "execution_count": 365,
   "id": "de0cb548",
   "metadata": {},
   "outputs": [
    {
     "data": {
      "text/html": [
       "<div>\n",
       "<style scoped>\n",
       "    .dataframe tbody tr th:only-of-type {\n",
       "        vertical-align: middle;\n",
       "    }\n",
       "\n",
       "    .dataframe tbody tr th {\n",
       "        vertical-align: top;\n",
       "    }\n",
       "\n",
       "    .dataframe thead th {\n",
       "        text-align: right;\n",
       "    }\n",
       "</style>\n",
       "<table border=\"1\" class=\"dataframe\">\n",
       "  <thead>\n",
       "    <tr style=\"text-align: right;\">\n",
       "      <th></th>\n",
       "      <th>season</th>\n",
       "      <th>holiday</th>\n",
       "      <th>workingday</th>\n",
       "      <th>weather</th>\n",
       "      <th>temp</th>\n",
       "      <th>atemp</th>\n",
       "      <th>humidity</th>\n",
       "      <th>windspeed</th>\n",
       "      <th>casual</th>\n",
       "      <th>registered</th>\n",
       "      <th>count</th>\n",
       "      <th>year</th>\n",
       "      <th>month</th>\n",
       "      <th>day</th>\n",
       "      <th>hour</th>\n",
       "      <th>minute</th>\n",
       "      <th>second</th>\n",
       "    </tr>\n",
       "  </thead>\n",
       "  <tbody>\n",
       "    <tr>\n",
       "      <th>count</th>\n",
       "      <td>10886.000000</td>\n",
       "      <td>10886.000000</td>\n",
       "      <td>10886.000000</td>\n",
       "      <td>10886.000000</td>\n",
       "      <td>10886.00000</td>\n",
       "      <td>10886.000000</td>\n",
       "      <td>10886.000000</td>\n",
       "      <td>10886.000000</td>\n",
       "      <td>10886.000000</td>\n",
       "      <td>10886.000000</td>\n",
       "      <td>10886.000000</td>\n",
       "      <td>10886.000000</td>\n",
       "      <td>10886.000000</td>\n",
       "      <td>10886.000000</td>\n",
       "      <td>10886.000000</td>\n",
       "      <td>10886.0</td>\n",
       "      <td>10886.0</td>\n",
       "    </tr>\n",
       "    <tr>\n",
       "      <th>mean</th>\n",
       "      <td>2.506614</td>\n",
       "      <td>0.028569</td>\n",
       "      <td>0.680875</td>\n",
       "      <td>1.418427</td>\n",
       "      <td>20.23086</td>\n",
       "      <td>23.655084</td>\n",
       "      <td>61.886460</td>\n",
       "      <td>12.799395</td>\n",
       "      <td>36.021955</td>\n",
       "      <td>155.552177</td>\n",
       "      <td>191.574132</td>\n",
       "      <td>2011.501929</td>\n",
       "      <td>6.521495</td>\n",
       "      <td>9.992559</td>\n",
       "      <td>11.541613</td>\n",
       "      <td>0.0</td>\n",
       "      <td>0.0</td>\n",
       "    </tr>\n",
       "    <tr>\n",
       "      <th>std</th>\n",
       "      <td>1.116174</td>\n",
       "      <td>0.166599</td>\n",
       "      <td>0.466159</td>\n",
       "      <td>0.633839</td>\n",
       "      <td>7.79159</td>\n",
       "      <td>8.474601</td>\n",
       "      <td>19.245033</td>\n",
       "      <td>8.164537</td>\n",
       "      <td>49.960477</td>\n",
       "      <td>151.039033</td>\n",
       "      <td>181.144454</td>\n",
       "      <td>0.500019</td>\n",
       "      <td>3.444373</td>\n",
       "      <td>5.476608</td>\n",
       "      <td>6.915838</td>\n",
       "      <td>0.0</td>\n",
       "      <td>0.0</td>\n",
       "    </tr>\n",
       "    <tr>\n",
       "      <th>min</th>\n",
       "      <td>1.000000</td>\n",
       "      <td>0.000000</td>\n",
       "      <td>0.000000</td>\n",
       "      <td>1.000000</td>\n",
       "      <td>0.82000</td>\n",
       "      <td>0.760000</td>\n",
       "      <td>0.000000</td>\n",
       "      <td>0.000000</td>\n",
       "      <td>0.000000</td>\n",
       "      <td>0.000000</td>\n",
       "      <td>1.000000</td>\n",
       "      <td>2011.000000</td>\n",
       "      <td>1.000000</td>\n",
       "      <td>1.000000</td>\n",
       "      <td>0.000000</td>\n",
       "      <td>0.0</td>\n",
       "      <td>0.0</td>\n",
       "    </tr>\n",
       "    <tr>\n",
       "      <th>25%</th>\n",
       "      <td>2.000000</td>\n",
       "      <td>0.000000</td>\n",
       "      <td>0.000000</td>\n",
       "      <td>1.000000</td>\n",
       "      <td>13.94000</td>\n",
       "      <td>16.665000</td>\n",
       "      <td>47.000000</td>\n",
       "      <td>7.001500</td>\n",
       "      <td>4.000000</td>\n",
       "      <td>36.000000</td>\n",
       "      <td>42.000000</td>\n",
       "      <td>2011.000000</td>\n",
       "      <td>4.000000</td>\n",
       "      <td>5.000000</td>\n",
       "      <td>6.000000</td>\n",
       "      <td>0.0</td>\n",
       "      <td>0.0</td>\n",
       "    </tr>\n",
       "    <tr>\n",
       "      <th>50%</th>\n",
       "      <td>3.000000</td>\n",
       "      <td>0.000000</td>\n",
       "      <td>1.000000</td>\n",
       "      <td>1.000000</td>\n",
       "      <td>20.50000</td>\n",
       "      <td>24.240000</td>\n",
       "      <td>62.000000</td>\n",
       "      <td>12.998000</td>\n",
       "      <td>17.000000</td>\n",
       "      <td>118.000000</td>\n",
       "      <td>145.000000</td>\n",
       "      <td>2012.000000</td>\n",
       "      <td>7.000000</td>\n",
       "      <td>10.000000</td>\n",
       "      <td>12.000000</td>\n",
       "      <td>0.0</td>\n",
       "      <td>0.0</td>\n",
       "    </tr>\n",
       "    <tr>\n",
       "      <th>75%</th>\n",
       "      <td>4.000000</td>\n",
       "      <td>0.000000</td>\n",
       "      <td>1.000000</td>\n",
       "      <td>2.000000</td>\n",
       "      <td>26.24000</td>\n",
       "      <td>31.060000</td>\n",
       "      <td>77.000000</td>\n",
       "      <td>16.997900</td>\n",
       "      <td>49.000000</td>\n",
       "      <td>222.000000</td>\n",
       "      <td>284.000000</td>\n",
       "      <td>2012.000000</td>\n",
       "      <td>10.000000</td>\n",
       "      <td>15.000000</td>\n",
       "      <td>18.000000</td>\n",
       "      <td>0.0</td>\n",
       "      <td>0.0</td>\n",
       "    </tr>\n",
       "    <tr>\n",
       "      <th>max</th>\n",
       "      <td>4.000000</td>\n",
       "      <td>1.000000</td>\n",
       "      <td>1.000000</td>\n",
       "      <td>4.000000</td>\n",
       "      <td>41.00000</td>\n",
       "      <td>45.455000</td>\n",
       "      <td>100.000000</td>\n",
       "      <td>56.996900</td>\n",
       "      <td>367.000000</td>\n",
       "      <td>886.000000</td>\n",
       "      <td>977.000000</td>\n",
       "      <td>2012.000000</td>\n",
       "      <td>12.000000</td>\n",
       "      <td>19.000000</td>\n",
       "      <td>23.000000</td>\n",
       "      <td>0.0</td>\n",
       "      <td>0.0</td>\n",
       "    </tr>\n",
       "  </tbody>\n",
       "</table>\n",
       "</div>"
      ],
      "text/plain": [
       "             season       holiday    workingday       weather         temp  \\\n",
       "count  10886.000000  10886.000000  10886.000000  10886.000000  10886.00000   \n",
       "mean       2.506614      0.028569      0.680875      1.418427     20.23086   \n",
       "std        1.116174      0.166599      0.466159      0.633839      7.79159   \n",
       "min        1.000000      0.000000      0.000000      1.000000      0.82000   \n",
       "25%        2.000000      0.000000      0.000000      1.000000     13.94000   \n",
       "50%        3.000000      0.000000      1.000000      1.000000     20.50000   \n",
       "75%        4.000000      0.000000      1.000000      2.000000     26.24000   \n",
       "max        4.000000      1.000000      1.000000      4.000000     41.00000   \n",
       "\n",
       "              atemp      humidity     windspeed        casual    registered  \\\n",
       "count  10886.000000  10886.000000  10886.000000  10886.000000  10886.000000   \n",
       "mean      23.655084     61.886460     12.799395     36.021955    155.552177   \n",
       "std        8.474601     19.245033      8.164537     49.960477    151.039033   \n",
       "min        0.760000      0.000000      0.000000      0.000000      0.000000   \n",
       "25%       16.665000     47.000000      7.001500      4.000000     36.000000   \n",
       "50%       24.240000     62.000000     12.998000     17.000000    118.000000   \n",
       "75%       31.060000     77.000000     16.997900     49.000000    222.000000   \n",
       "max       45.455000    100.000000     56.996900    367.000000    886.000000   \n",
       "\n",
       "              count          year         month           day          hour  \\\n",
       "count  10886.000000  10886.000000  10886.000000  10886.000000  10886.000000   \n",
       "mean     191.574132   2011.501929      6.521495      9.992559     11.541613   \n",
       "std      181.144454      0.500019      3.444373      5.476608      6.915838   \n",
       "min        1.000000   2011.000000      1.000000      1.000000      0.000000   \n",
       "25%       42.000000   2011.000000      4.000000      5.000000      6.000000   \n",
       "50%      145.000000   2012.000000      7.000000     10.000000     12.000000   \n",
       "75%      284.000000   2012.000000     10.000000     15.000000     18.000000   \n",
       "max      977.000000   2012.000000     12.000000     19.000000     23.000000   \n",
       "\n",
       "        minute   second  \n",
       "count  10886.0  10886.0  \n",
       "mean       0.0      0.0  \n",
       "std        0.0      0.0  \n",
       "min        0.0      0.0  \n",
       "25%        0.0      0.0  \n",
       "50%        0.0      0.0  \n",
       "75%        0.0      0.0  \n",
       "max        0.0      0.0  "
      ]
     },
     "execution_count": 365,
     "metadata": {},
     "output_type": "execute_result"
    }
   ],
   "source": [
    "train.describe()"
   ]
  },
  {
   "cell_type": "markdown",
   "id": "7ae76773",
   "metadata": {},
   "source": [
    "<div style = \"height: 15px;\"></div>"
   ]
  },
  {
   "cell_type": "markdown",
   "id": "6836760b",
   "metadata": {},
   "source": [
    "###  불필요한 데이터 판단하기 - (2) 결측치 확인 및 제거"
   ]
  },
  {
   "cell_type": "code",
   "execution_count": 366,
   "id": "ff98853f",
   "metadata": {},
   "outputs": [
    {
     "data": {
      "text/plain": [
       "datetime      0\n",
       "season        0\n",
       "holiday       0\n",
       "workingday    0\n",
       "weather       0\n",
       "temp          0\n",
       "atemp         0\n",
       "humidity      0\n",
       "windspeed     0\n",
       "casual        0\n",
       "registered    0\n",
       "count         0\n",
       "year          0\n",
       "month         0\n",
       "day           0\n",
       "hour          0\n",
       "minute        0\n",
       "second        0\n",
       "dtype: int64"
      ]
     },
     "execution_count": 366,
     "metadata": {},
     "output_type": "execute_result"
    }
   ],
   "source": [
    "train.isnull().sum()"
   ]
  },
  {
   "cell_type": "markdown",
   "id": "22d604f2",
   "metadata": {},
   "source": [
    "<div style = \"height: 15px;\"></div>"
   ]
  },
  {
   "cell_type": "markdown",
   "id": "6cd9479f",
   "metadata": {},
   "source": [
    "###  불필요한 데이터 판단하기 - (3) 중복된 데이터 확인 및 제거"
   ]
  },
  {
   "cell_type": "code",
   "execution_count": 367,
   "id": "0a6c3342",
   "metadata": {},
   "outputs": [
    {
     "data": {
      "text/plain": [
       "0"
      ]
     },
     "execution_count": 367,
     "metadata": {},
     "output_type": "execute_result"
    }
   ],
   "source": [
    "train.duplicated().sum()"
   ]
  },
  {
   "cell_type": "markdown",
   "id": "968f64c4",
   "metadata": {},
   "source": [
    "<div style = \"height: 15px;\"></div>"
   ]
  },
  {
   "cell_type": "markdown",
   "id": "9d183fad",
   "metadata": {},
   "source": [
    "### 불필요한 데이터 판단하기 - (4) 넘파이로 상관계수 구해보기"
   ]
  },
  {
   "cell_type": "code",
   "execution_count": 368,
   "id": "092b6622",
   "metadata": {},
   "outputs": [
    {
     "data": {
      "text/html": [
       "<div>\n",
       "<style scoped>\n",
       "    .dataframe tbody tr th:only-of-type {\n",
       "        vertical-align: middle;\n",
       "    }\n",
       "\n",
       "    .dataframe tbody tr th {\n",
       "        vertical-align: top;\n",
       "    }\n",
       "\n",
       "    .dataframe thead th {\n",
       "        text-align: right;\n",
       "    }\n",
       "</style>\n",
       "<table border=\"1\" class=\"dataframe\">\n",
       "  <thead>\n",
       "    <tr style=\"text-align: right;\">\n",
       "      <th></th>\n",
       "      <th>season</th>\n",
       "      <th>holiday</th>\n",
       "      <th>workingday</th>\n",
       "      <th>weather</th>\n",
       "      <th>temp</th>\n",
       "      <th>atemp</th>\n",
       "      <th>humidity</th>\n",
       "      <th>windspeed</th>\n",
       "      <th>casual</th>\n",
       "      <th>registered</th>\n",
       "      <th>count</th>\n",
       "      <th>year</th>\n",
       "      <th>month</th>\n",
       "      <th>day</th>\n",
       "      <th>hour</th>\n",
       "      <th>minute</th>\n",
       "      <th>second</th>\n",
       "    </tr>\n",
       "  </thead>\n",
       "  <tbody>\n",
       "    <tr>\n",
       "      <th>season</th>\n",
       "      <td>1.000000</td>\n",
       "      <td>0.029368</td>\n",
       "      <td>-0.008126</td>\n",
       "      <td>0.008879</td>\n",
       "      <td>0.258689</td>\n",
       "      <td>0.264744</td>\n",
       "      <td>0.190610</td>\n",
       "      <td>-0.147121</td>\n",
       "      <td>0.096758</td>\n",
       "      <td>0.164011</td>\n",
       "      <td>0.163439</td>\n",
       "      <td>-0.004797</td>\n",
       "      <td>0.971524</td>\n",
       "      <td>0.001729</td>\n",
       "      <td>-0.006546</td>\n",
       "      <td>NaN</td>\n",
       "      <td>NaN</td>\n",
       "    </tr>\n",
       "    <tr>\n",
       "      <th>holiday</th>\n",
       "      <td>0.029368</td>\n",
       "      <td>1.000000</td>\n",
       "      <td>-0.250491</td>\n",
       "      <td>-0.007074</td>\n",
       "      <td>0.000295</td>\n",
       "      <td>-0.005215</td>\n",
       "      <td>0.001929</td>\n",
       "      <td>0.008409</td>\n",
       "      <td>0.043799</td>\n",
       "      <td>-0.020956</td>\n",
       "      <td>-0.005393</td>\n",
       "      <td>0.012021</td>\n",
       "      <td>0.001731</td>\n",
       "      <td>-0.015877</td>\n",
       "      <td>-0.000354</td>\n",
       "      <td>NaN</td>\n",
       "      <td>NaN</td>\n",
       "    </tr>\n",
       "    <tr>\n",
       "      <th>workingday</th>\n",
       "      <td>-0.008126</td>\n",
       "      <td>-0.250491</td>\n",
       "      <td>1.000000</td>\n",
       "      <td>0.033772</td>\n",
       "      <td>0.029966</td>\n",
       "      <td>0.024660</td>\n",
       "      <td>-0.010880</td>\n",
       "      <td>0.013373</td>\n",
       "      <td>-0.319111</td>\n",
       "      <td>0.119460</td>\n",
       "      <td>0.011594</td>\n",
       "      <td>-0.002482</td>\n",
       "      <td>-0.003394</td>\n",
       "      <td>0.009829</td>\n",
       "      <td>0.002780</td>\n",
       "      <td>NaN</td>\n",
       "      <td>NaN</td>\n",
       "    </tr>\n",
       "    <tr>\n",
       "      <th>weather</th>\n",
       "      <td>0.008879</td>\n",
       "      <td>-0.007074</td>\n",
       "      <td>0.033772</td>\n",
       "      <td>1.000000</td>\n",
       "      <td>-0.055035</td>\n",
       "      <td>-0.055376</td>\n",
       "      <td>0.406244</td>\n",
       "      <td>0.007261</td>\n",
       "      <td>-0.135918</td>\n",
       "      <td>-0.109340</td>\n",
       "      <td>-0.128655</td>\n",
       "      <td>-0.012548</td>\n",
       "      <td>0.012144</td>\n",
       "      <td>-0.007890</td>\n",
       "      <td>-0.022740</td>\n",
       "      <td>NaN</td>\n",
       "      <td>NaN</td>\n",
       "    </tr>\n",
       "    <tr>\n",
       "      <th>temp</th>\n",
       "      <td>0.258689</td>\n",
       "      <td>0.000295</td>\n",
       "      <td>0.029966</td>\n",
       "      <td>-0.055035</td>\n",
       "      <td>1.000000</td>\n",
       "      <td>0.984948</td>\n",
       "      <td>-0.064949</td>\n",
       "      <td>-0.017852</td>\n",
       "      <td>0.467097</td>\n",
       "      <td>0.318571</td>\n",
       "      <td>0.394454</td>\n",
       "      <td>0.061226</td>\n",
       "      <td>0.257589</td>\n",
       "      <td>0.015551</td>\n",
       "      <td>0.145430</td>\n",
       "      <td>NaN</td>\n",
       "      <td>NaN</td>\n",
       "    </tr>\n",
       "    <tr>\n",
       "      <th>atemp</th>\n",
       "      <td>0.264744</td>\n",
       "      <td>-0.005215</td>\n",
       "      <td>0.024660</td>\n",
       "      <td>-0.055376</td>\n",
       "      <td>0.984948</td>\n",
       "      <td>1.000000</td>\n",
       "      <td>-0.043536</td>\n",
       "      <td>-0.057473</td>\n",
       "      <td>0.462067</td>\n",
       "      <td>0.314635</td>\n",
       "      <td>0.389784</td>\n",
       "      <td>0.058540</td>\n",
       "      <td>0.264173</td>\n",
       "      <td>0.011866</td>\n",
       "      <td>0.140343</td>\n",
       "      <td>NaN</td>\n",
       "      <td>NaN</td>\n",
       "    </tr>\n",
       "    <tr>\n",
       "      <th>humidity</th>\n",
       "      <td>0.190610</td>\n",
       "      <td>0.001929</td>\n",
       "      <td>-0.010880</td>\n",
       "      <td>0.406244</td>\n",
       "      <td>-0.064949</td>\n",
       "      <td>-0.043536</td>\n",
       "      <td>1.000000</td>\n",
       "      <td>-0.318607</td>\n",
       "      <td>-0.348187</td>\n",
       "      <td>-0.265458</td>\n",
       "      <td>-0.317371</td>\n",
       "      <td>-0.078606</td>\n",
       "      <td>0.204537</td>\n",
       "      <td>-0.011335</td>\n",
       "      <td>-0.278011</td>\n",
       "      <td>NaN</td>\n",
       "      <td>NaN</td>\n",
       "    </tr>\n",
       "    <tr>\n",
       "      <th>windspeed</th>\n",
       "      <td>-0.147121</td>\n",
       "      <td>0.008409</td>\n",
       "      <td>0.013373</td>\n",
       "      <td>0.007261</td>\n",
       "      <td>-0.017852</td>\n",
       "      <td>-0.057473</td>\n",
       "      <td>-0.318607</td>\n",
       "      <td>1.000000</td>\n",
       "      <td>0.092276</td>\n",
       "      <td>0.091052</td>\n",
       "      <td>0.101369</td>\n",
       "      <td>-0.015221</td>\n",
       "      <td>-0.150192</td>\n",
       "      <td>0.036157</td>\n",
       "      <td>0.146631</td>\n",
       "      <td>NaN</td>\n",
       "      <td>NaN</td>\n",
       "    </tr>\n",
       "    <tr>\n",
       "      <th>casual</th>\n",
       "      <td>0.096758</td>\n",
       "      <td>0.043799</td>\n",
       "      <td>-0.319111</td>\n",
       "      <td>-0.135918</td>\n",
       "      <td>0.467097</td>\n",
       "      <td>0.462067</td>\n",
       "      <td>-0.348187</td>\n",
       "      <td>0.092276</td>\n",
       "      <td>1.000000</td>\n",
       "      <td>0.497250</td>\n",
       "      <td>0.690414</td>\n",
       "      <td>0.145241</td>\n",
       "      <td>0.092722</td>\n",
       "      <td>0.014109</td>\n",
       "      <td>0.302045</td>\n",
       "      <td>NaN</td>\n",
       "      <td>NaN</td>\n",
       "    </tr>\n",
       "    <tr>\n",
       "      <th>registered</th>\n",
       "      <td>0.164011</td>\n",
       "      <td>-0.020956</td>\n",
       "      <td>0.119460</td>\n",
       "      <td>-0.109340</td>\n",
       "      <td>0.318571</td>\n",
       "      <td>0.314635</td>\n",
       "      <td>-0.265458</td>\n",
       "      <td>0.091052</td>\n",
       "      <td>0.497250</td>\n",
       "      <td>1.000000</td>\n",
       "      <td>0.970948</td>\n",
       "      <td>0.264265</td>\n",
       "      <td>0.169451</td>\n",
       "      <td>0.019111</td>\n",
       "      <td>0.380540</td>\n",
       "      <td>NaN</td>\n",
       "      <td>NaN</td>\n",
       "    </tr>\n",
       "    <tr>\n",
       "      <th>count</th>\n",
       "      <td>0.163439</td>\n",
       "      <td>-0.005393</td>\n",
       "      <td>0.011594</td>\n",
       "      <td>-0.128655</td>\n",
       "      <td>0.394454</td>\n",
       "      <td>0.389784</td>\n",
       "      <td>-0.317371</td>\n",
       "      <td>0.101369</td>\n",
       "      <td>0.690414</td>\n",
       "      <td>0.970948</td>\n",
       "      <td>1.000000</td>\n",
       "      <td>0.260403</td>\n",
       "      <td>0.166862</td>\n",
       "      <td>0.019826</td>\n",
       "      <td>0.400601</td>\n",
       "      <td>NaN</td>\n",
       "      <td>NaN</td>\n",
       "    </tr>\n",
       "    <tr>\n",
       "      <th>year</th>\n",
       "      <td>-0.004797</td>\n",
       "      <td>0.012021</td>\n",
       "      <td>-0.002482</td>\n",
       "      <td>-0.012548</td>\n",
       "      <td>0.061226</td>\n",
       "      <td>0.058540</td>\n",
       "      <td>-0.078606</td>\n",
       "      <td>-0.015221</td>\n",
       "      <td>0.145241</td>\n",
       "      <td>0.264265</td>\n",
       "      <td>0.260403</td>\n",
       "      <td>1.000000</td>\n",
       "      <td>-0.004932</td>\n",
       "      <td>0.001800</td>\n",
       "      <td>-0.004234</td>\n",
       "      <td>NaN</td>\n",
       "      <td>NaN</td>\n",
       "    </tr>\n",
       "    <tr>\n",
       "      <th>month</th>\n",
       "      <td>0.971524</td>\n",
       "      <td>0.001731</td>\n",
       "      <td>-0.003394</td>\n",
       "      <td>0.012144</td>\n",
       "      <td>0.257589</td>\n",
       "      <td>0.264173</td>\n",
       "      <td>0.204537</td>\n",
       "      <td>-0.150192</td>\n",
       "      <td>0.092722</td>\n",
       "      <td>0.169451</td>\n",
       "      <td>0.166862</td>\n",
       "      <td>-0.004932</td>\n",
       "      <td>1.000000</td>\n",
       "      <td>0.001974</td>\n",
       "      <td>-0.006818</td>\n",
       "      <td>NaN</td>\n",
       "      <td>NaN</td>\n",
       "    </tr>\n",
       "    <tr>\n",
       "      <th>day</th>\n",
       "      <td>0.001729</td>\n",
       "      <td>-0.015877</td>\n",
       "      <td>0.009829</td>\n",
       "      <td>-0.007890</td>\n",
       "      <td>0.015551</td>\n",
       "      <td>0.011866</td>\n",
       "      <td>-0.011335</td>\n",
       "      <td>0.036157</td>\n",
       "      <td>0.014109</td>\n",
       "      <td>0.019111</td>\n",
       "      <td>0.019826</td>\n",
       "      <td>0.001800</td>\n",
       "      <td>0.001974</td>\n",
       "      <td>1.000000</td>\n",
       "      <td>0.001132</td>\n",
       "      <td>NaN</td>\n",
       "      <td>NaN</td>\n",
       "    </tr>\n",
       "    <tr>\n",
       "      <th>hour</th>\n",
       "      <td>-0.006546</td>\n",
       "      <td>-0.000354</td>\n",
       "      <td>0.002780</td>\n",
       "      <td>-0.022740</td>\n",
       "      <td>0.145430</td>\n",
       "      <td>0.140343</td>\n",
       "      <td>-0.278011</td>\n",
       "      <td>0.146631</td>\n",
       "      <td>0.302045</td>\n",
       "      <td>0.380540</td>\n",
       "      <td>0.400601</td>\n",
       "      <td>-0.004234</td>\n",
       "      <td>-0.006818</td>\n",
       "      <td>0.001132</td>\n",
       "      <td>1.000000</td>\n",
       "      <td>NaN</td>\n",
       "      <td>NaN</td>\n",
       "    </tr>\n",
       "    <tr>\n",
       "      <th>minute</th>\n",
       "      <td>NaN</td>\n",
       "      <td>NaN</td>\n",
       "      <td>NaN</td>\n",
       "      <td>NaN</td>\n",
       "      <td>NaN</td>\n",
       "      <td>NaN</td>\n",
       "      <td>NaN</td>\n",
       "      <td>NaN</td>\n",
       "      <td>NaN</td>\n",
       "      <td>NaN</td>\n",
       "      <td>NaN</td>\n",
       "      <td>NaN</td>\n",
       "      <td>NaN</td>\n",
       "      <td>NaN</td>\n",
       "      <td>NaN</td>\n",
       "      <td>NaN</td>\n",
       "      <td>NaN</td>\n",
       "    </tr>\n",
       "    <tr>\n",
       "      <th>second</th>\n",
       "      <td>NaN</td>\n",
       "      <td>NaN</td>\n",
       "      <td>NaN</td>\n",
       "      <td>NaN</td>\n",
       "      <td>NaN</td>\n",
       "      <td>NaN</td>\n",
       "      <td>NaN</td>\n",
       "      <td>NaN</td>\n",
       "      <td>NaN</td>\n",
       "      <td>NaN</td>\n",
       "      <td>NaN</td>\n",
       "      <td>NaN</td>\n",
       "      <td>NaN</td>\n",
       "      <td>NaN</td>\n",
       "      <td>NaN</td>\n",
       "      <td>NaN</td>\n",
       "      <td>NaN</td>\n",
       "    </tr>\n",
       "  </tbody>\n",
       "</table>\n",
       "</div>"
      ],
      "text/plain": [
       "              season   holiday  workingday   weather      temp     atemp  \\\n",
       "season      1.000000  0.029368   -0.008126  0.008879  0.258689  0.264744   \n",
       "holiday     0.029368  1.000000   -0.250491 -0.007074  0.000295 -0.005215   \n",
       "workingday -0.008126 -0.250491    1.000000  0.033772  0.029966  0.024660   \n",
       "weather     0.008879 -0.007074    0.033772  1.000000 -0.055035 -0.055376   \n",
       "temp        0.258689  0.000295    0.029966 -0.055035  1.000000  0.984948   \n",
       "atemp       0.264744 -0.005215    0.024660 -0.055376  0.984948  1.000000   \n",
       "humidity    0.190610  0.001929   -0.010880  0.406244 -0.064949 -0.043536   \n",
       "windspeed  -0.147121  0.008409    0.013373  0.007261 -0.017852 -0.057473   \n",
       "casual      0.096758  0.043799   -0.319111 -0.135918  0.467097  0.462067   \n",
       "registered  0.164011 -0.020956    0.119460 -0.109340  0.318571  0.314635   \n",
       "count       0.163439 -0.005393    0.011594 -0.128655  0.394454  0.389784   \n",
       "year       -0.004797  0.012021   -0.002482 -0.012548  0.061226  0.058540   \n",
       "month       0.971524  0.001731   -0.003394  0.012144  0.257589  0.264173   \n",
       "day         0.001729 -0.015877    0.009829 -0.007890  0.015551  0.011866   \n",
       "hour       -0.006546 -0.000354    0.002780 -0.022740  0.145430  0.140343   \n",
       "minute           NaN       NaN         NaN       NaN       NaN       NaN   \n",
       "second           NaN       NaN         NaN       NaN       NaN       NaN   \n",
       "\n",
       "            humidity  windspeed    casual  registered     count      year  \\\n",
       "season      0.190610  -0.147121  0.096758    0.164011  0.163439 -0.004797   \n",
       "holiday     0.001929   0.008409  0.043799   -0.020956 -0.005393  0.012021   \n",
       "workingday -0.010880   0.013373 -0.319111    0.119460  0.011594 -0.002482   \n",
       "weather     0.406244   0.007261 -0.135918   -0.109340 -0.128655 -0.012548   \n",
       "temp       -0.064949  -0.017852  0.467097    0.318571  0.394454  0.061226   \n",
       "atemp      -0.043536  -0.057473  0.462067    0.314635  0.389784  0.058540   \n",
       "humidity    1.000000  -0.318607 -0.348187   -0.265458 -0.317371 -0.078606   \n",
       "windspeed  -0.318607   1.000000  0.092276    0.091052  0.101369 -0.015221   \n",
       "casual     -0.348187   0.092276  1.000000    0.497250  0.690414  0.145241   \n",
       "registered -0.265458   0.091052  0.497250    1.000000  0.970948  0.264265   \n",
       "count      -0.317371   0.101369  0.690414    0.970948  1.000000  0.260403   \n",
       "year       -0.078606  -0.015221  0.145241    0.264265  0.260403  1.000000   \n",
       "month       0.204537  -0.150192  0.092722    0.169451  0.166862 -0.004932   \n",
       "day        -0.011335   0.036157  0.014109    0.019111  0.019826  0.001800   \n",
       "hour       -0.278011   0.146631  0.302045    0.380540  0.400601 -0.004234   \n",
       "minute           NaN        NaN       NaN         NaN       NaN       NaN   \n",
       "second           NaN        NaN       NaN         NaN       NaN       NaN   \n",
       "\n",
       "               month       day      hour  minute  second  \n",
       "season      0.971524  0.001729 -0.006546     NaN     NaN  \n",
       "holiday     0.001731 -0.015877 -0.000354     NaN     NaN  \n",
       "workingday -0.003394  0.009829  0.002780     NaN     NaN  \n",
       "weather     0.012144 -0.007890 -0.022740     NaN     NaN  \n",
       "temp        0.257589  0.015551  0.145430     NaN     NaN  \n",
       "atemp       0.264173  0.011866  0.140343     NaN     NaN  \n",
       "humidity    0.204537 -0.011335 -0.278011     NaN     NaN  \n",
       "windspeed  -0.150192  0.036157  0.146631     NaN     NaN  \n",
       "casual      0.092722  0.014109  0.302045     NaN     NaN  \n",
       "registered  0.169451  0.019111  0.380540     NaN     NaN  \n",
       "count       0.166862  0.019826  0.400601     NaN     NaN  \n",
       "year       -0.004932  0.001800 -0.004234     NaN     NaN  \n",
       "month       1.000000  0.001974 -0.006818     NaN     NaN  \n",
       "day         0.001974  1.000000  0.001132     NaN     NaN  \n",
       "hour       -0.006818  0.001132  1.000000     NaN     NaN  \n",
       "minute           NaN       NaN       NaN     NaN     NaN  \n",
       "second           NaN       NaN       NaN     NaN     NaN  "
      ]
     },
     "execution_count": 368,
     "metadata": {},
     "output_type": "execute_result"
    }
   ],
   "source": [
    "train.corr(method = 'pearson')"
   ]
  },
  {
   "cell_type": "markdown",
   "id": "181b5696",
   "metadata": {},
   "source": [
    "<p style= \"font-size:15px; line-height:24px;\">minute와 second를 제외한 모든 컬럼은 count에 대해 상관관계를 가지고 있다.<br/>\n",
    "따라서, <span style = 'background-color:#fff5b1; padding:0.2px;'>x에는 minute와 second를 제외한 모든 컬럼을 넣을 것이다.</span></p>"
   ]
  },
  {
   "cell_type": "markdown",
   "id": "04cfc06b",
   "metadata": {},
   "source": [
    "<div style = \"height: 15px;\"></div>"
   ]
  },
  {
   "cell_type": "markdown",
   "id": "885f9907",
   "metadata": {},
   "source": [
    "### x, y 칼럼 선택하기"
   ]
  },
  {
   "cell_type": "code",
   "execution_count": 369,
   "id": "ea5f6e1b",
   "metadata": {},
   "outputs": [],
   "source": [
    "x = train[['season', 'holiday', 'workingday', 'weather', 'temp', 'atemp', 'humidity', 'windspeed', 'casual', 'registered']].values\n",
    "y = train['count'].values"
   ]
  },
  {
   "cell_type": "code",
   "execution_count": 370,
   "id": "2efc4e2a",
   "metadata": {},
   "outputs": [
    {
     "data": {
      "text/plain": [
       "(10886, 10)"
      ]
     },
     "execution_count": 370,
     "metadata": {},
     "output_type": "execute_result"
    }
   ],
   "source": [
    "x.shape"
   ]
  },
  {
   "cell_type": "code",
   "execution_count": 371,
   "id": "7d82ee49",
   "metadata": {},
   "outputs": [
    {
     "data": {
      "text/plain": [
       "(10886,)"
      ]
     },
     "execution_count": 371,
     "metadata": {},
     "output_type": "execute_result"
    }
   ],
   "source": [
    "y.shape"
   ]
  },
  {
   "cell_type": "markdown",
   "id": "51d9ceda",
   "metadata": {},
   "source": [
    "<div style = \"height: 15px;\"></div>"
   ]
  },
  {
   "cell_type": "markdown",
   "id": "cfdaf7c9",
   "metadata": {},
   "source": [
    "## 5. LinearRegression 모델 학습\n",
    "<hr/>"
   ]
  },
  {
   "cell_type": "code",
   "execution_count": 372,
   "id": "31935137",
   "metadata": {},
   "outputs": [],
   "source": [
    "model = LinearRegression()"
   ]
  },
  {
   "cell_type": "code",
   "execution_count": 373,
   "id": "51053646",
   "metadata": {},
   "outputs": [
    {
     "data": {
      "text/plain": [
       "LinearRegression()"
      ]
     },
     "execution_count": 373,
     "metadata": {},
     "output_type": "execute_result"
    }
   ],
   "source": [
    "model.fit(x_train, y_train)"
   ]
  },
  {
   "cell_type": "markdown",
   "id": "f8defa58",
   "metadata": {},
   "source": [
    "<div style = \"height: 15px;\"></div>"
   ]
  },
  {
   "cell_type": "markdown",
   "id": "e0131b6f",
   "metadata": {},
   "source": [
    "## 6. 학습된 모델로 X_test에 대한 예측값 출력 및 손실함수값 계산\n",
    "<hr/>"
   ]
  },
  {
   "cell_type": "markdown",
   "id": "a66f809f",
   "metadata": {},
   "source": [
    "### 학습된 모델에 X_test를 입력해서 예측값 출력하기"
   ]
  },
  {
   "cell_type": "code",
   "execution_count": 374,
   "id": "2de2b0e6",
   "metadata": {},
   "outputs": [],
   "source": [
    "prediction = model.predict(x_test)"
   ]
  },
  {
   "cell_type": "code",
   "execution_count": 375,
   "id": "81e1a9e7",
   "metadata": {},
   "outputs": [
    {
     "data": {
      "text/plain": [
       "array([139.5483133 , 179.52030578, 134.04133298, 291.41193598,\n",
       "       123.78723656,  92.17357677, 258.23409704, 181.33895238,\n",
       "        90.22217862, 108.63143298,  94.13938654, 168.43379636,\n",
       "        53.50669663, 206.63040068, 100.13238561, 130.66881649,\n",
       "       219.53270758, 250.78291772, 196.36682356, 218.57497401,\n",
       "       207.35002447,  88.48361667,  70.43428801, 188.95725301,\n",
       "       154.88720039, 159.35957695, 188.31587948, 180.38835506,\n",
       "        47.98988446, 108.97514644, 174.78080029,  86.36598906,\n",
       "       132.95890535, 184.5410226 , 173.83298051, 190.35863287,\n",
       "       124.41740796, 119.65426903, 147.95402494,  59.05311211,\n",
       "        71.62636914, 107.68722902, 165.45544477, 155.00784964,\n",
       "       171.04558668,  61.45763075,  71.66975626, 114.96330486,\n",
       "        51.57808027, 167.57781958, 152.52505798,  62.95827693,\n",
       "       103.49862017, 109.20495627, 175.63844013, 154.60247734,\n",
       "        94.41476124, 210.74244148, 120.25601864,  77.61590087,\n",
       "       187.93503183, 206.49543321, 140.63018684, 105.59463059,\n",
       "       130.704246  , 202.18650868, 171.1330116 , 164.91246096,\n",
       "       124.72637597, 144.81210187, 181.99631481, 199.41234515,\n",
       "       234.21402489, 145.96053305,  79.86349114, 157.36828831,\n",
       "       192.74737754, 208.8980067 , 158.58505486, 206.0226849 ,\n",
       "       107.47978402, 140.93428553,  54.81856678,  55.92807758,\n",
       "       115.00974554,  78.95886675,  81.55731377,  54.3774778 ,\n",
       "       166.25477778])"
      ]
     },
     "execution_count": 375,
     "metadata": {},
     "output_type": "execute_result"
    }
   ],
   "source": [
    "prediction"
   ]
  },
  {
   "cell_type": "markdown",
   "id": "b1f80301",
   "metadata": {},
   "source": [
    "<div style = \"height: 15px;\"></div>"
   ]
  },
  {
   "cell_type": "markdown",
   "id": "6e4110dd",
   "metadata": {},
   "source": [
    "### 모델이 예측한 값과 정답 target 간의 손실함수 값 계산하기"
   ]
  },
  {
   "cell_type": "code",
   "execution_count": 376,
   "id": "5c590b99",
   "metadata": {},
   "outputs": [
    {
     "data": {
      "text/plain": [
       "2900.1732878832318"
      ]
     },
     "execution_count": 376,
     "metadata": {},
     "output_type": "execute_result"
    }
   ],
   "source": [
    "mse = mean_squared_error(y_test, prediction)\n",
    "mse"
   ]
  },
  {
   "cell_type": "markdown",
   "id": "79c8835a",
   "metadata": {},
   "source": [
    "<div style = \"height: 15px;\"></div>"
   ]
  },
  {
   "cell_type": "markdown",
   "id": "063be00f",
   "metadata": {},
   "source": [
    "### mse 값과 함께 rmse 값도 계산하기"
   ]
  },
  {
   "cell_type": "code",
   "execution_count": 377,
   "id": "65db7cd8",
   "metadata": {},
   "outputs": [],
   "source": [
    "rmse = sqrt(mse)"
   ]
  },
  {
   "cell_type": "code",
   "execution_count": 378,
   "id": "1f8a5a90",
   "metadata": {},
   "outputs": [
    {
     "data": {
      "text/plain": [
       "53.8532569849144"
      ]
     },
     "execution_count": 378,
     "metadata": {},
     "output_type": "execute_result"
    }
   ],
   "source": [
    "rmse"
   ]
  },
  {
   "cell_type": "markdown",
   "id": "7a998c5e",
   "metadata": {},
   "source": [
    "<div style = \"height: 15px;\"></div>"
   ]
  },
  {
   "cell_type": "markdown",
   "id": "3f5d1263",
   "metadata": {},
   "source": [
    "## 7. x축은 temp 또는 humidity로, y축은 count로 예측 결과 시각화하기\n",
    "<hr/>"
   ]
  },
  {
   "cell_type": "markdown",
   "id": "3be4e237",
   "metadata": {},
   "source": [
    "### x축에 x 데이터 중 temp 데이터를, y축에는 count 데이터를 넣어서 시각화하기"
   ]
  },
  {
   "cell_type": "code",
   "execution_count": 379,
   "id": "b469bde0",
   "metadata": {},
   "outputs": [
    {
     "data": {
      "image/png": "[encoded data removed]",
      "text/plain": [
       "<Figure size 360x360 with 1 Axes>"
      ]
     },
     "metadata": {},
     "output_type": "display_data"
    }
   ],
   "source": [
    "sns.set(rc = {'figure.figsize':(5,5)})\n",
    "\n",
    "plt.scatter(x_test[:, 4], y_test)\n",
    "plt.scatter(x_test[:, 4], prediction)\n",
    "plt.show()"
   ]
  },
  {
   "cell_type": "markdown",
   "id": "93d548db",
   "metadata": {},
   "source": [
    "### x축에 x 데이터 중 humidity 데이터를, y축에는 count 데이터를 넣어서 시각화하기"
   ]
  },
  {
   "cell_type": "code",
   "execution_count": 380,
   "id": "94c96b38",
   "metadata": {},
   "outputs": [
    {
     "data": {
      "image/png": "[encoded data removed]",
      "text/plain": [
       "<Figure size 360x360 with 1 Axes>"
      ]
     },
     "metadata": {},
     "output_type": "display_data"
    }
   ],
   "source": [
    "sns.set(rc = {'figure.figsize':(5,5)})\n",
    "\n",
    "plt.scatter(x_test[:, 6], y_test)\n",
    "plt.scatter(x_test[:, 6], prediction)\n",
    "plt.show()"
   ]
  },
  {
   "cell_type": "markdown",
   "id": "469251bc",
   "metadata": {},
   "source": [
    "<div style = \"height: 50px;\"></div>"
   ]
  },
  {
   "cell_type": "markdown",
   "id": "cc1efa34",
   "metadata": {},
   "source": [
    "## 회고\n",
    "<hr/>"
   ]
  },
  {
   "cell_type": "markdown",
   "id": "53d7e37f",
   "metadata": {},
   "source": [
    "<p style= \"font-size:16px; line-height:30px;\">실제로 그래프로 시각화를 진행하는 것이 데이터를 이해하는데에 있어 얼마나 중요한지 깨달았습니다. 수치를 글로 확인하는 것 보다는 그래프가 훨씬 이해가 잘 되어서 앞으로 데이터를 시각화하는 것으로 EDA를 시작할 것 같습니다.<br/>\n",
    "한가지 아쉬웠던 점은, 데이터에 결측치나 중복치가 없는 좋은 데이터여서 그런지 몰라도, 데이터를 전처리하지 않아도 rmse가 150이하를 달성했다는 것입니다.</p>"
   ]
  }
 ],
 "metadata": {
  "kernelspec": {
   "display_name": "Python 3 (ipykernel)",
   "language": "python",
   "name": "python3"
  },
  "language_info": {
   "codemirror_mode": {
    "name": "ipython",
    "version": 3
   },
   "file_extension": ".py",
   "mimetype": "text/x-python",
   "name": "python",
   "nbconvert_exporter": "python",
   "pygments_lexer": "ipython3",
   "version": "3.9.7"
  }
 },
 "nbformat": 4,
 "nbformat_minor": 5
}
