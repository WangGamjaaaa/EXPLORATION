{
 "cells": [
  {
   "cell_type": "markdown",
   "id": "77b10410",
   "metadata": {},
   "source": [
    "# 목차\n",
    "<hr/>"
   ]
  },
  {
   "cell_type": "markdown",
   "id": "20460ebe",
   "metadata": {},
   "source": [
    "<ol>\n",
    "    <li style = \"margin-bottom:30px; list-style: none;\"><i style = \"font-weight:bold;font-style: normal;\">필요한 모듈 불러오기</i>\n",
    "    <li style = \"margin-bottom:30px; list-style: none;\"><i style = \"font-weight:bold;font-style: normal;\">프로젝트 1 : 손수 설계하는 선형회귀, 당뇨병 수치를 맞춰보자!</i>\n",
    "        <ul style = \"padding-top:10px; list-style:none;\">\n",
    "            <li style = \"margin-bottom:5px;\"><span style = \"font-weight:bold;color:#0172d4;\">1. </span> 데이터 가져오기</li>\n",
    "            <li style = \"margin-bottom:5px;\"><span style = \"font-weight:bold;color:#0172d4;\">2. </span> 모델에 입력할 데이터 X 준비하기</li>\n",
    "            <li style = \"margin-bottom:5px;\"><span style = \"font-weight:bold;color:#0172d4;\">3. </span> 모델에 예측할 데이터 y 준비하기</li>\n",
    "            <li style = \"margin-bottom:5px;\"><span style = \"font-weight:bold;color:#0172d4;\">4. </span> train 데이터와 test 데이터로 분리하기</li>\n",
    "            <li style = \"margin-bottom:5px;\"><span style = \"font-weight:bold;color:#0172d4;\">5. </span> 모델 준비하기</li>\n",
    "            <li style = \"margin-bottom:5px;\"><span style = \"font-weight:bold;color:#0172d4;\">6. </span> 손실함수 loss 정의하기</li>\n",
    "            <li style = \"margin-bottom:5px;\"><span style = \"font-weight:bold;color:#0172d4;\">7. </span> 기울기를 구하는 gradient 함수 구현하기</li>\n",
    "            <li style = \"margin-bottom:5px;\"><span style = \"font-weight:bold;color:#0172d4;\">8. </span> 하이퍼 파라미터인 학습률 설정하기</li>\n",
    "            <li style = \"margin-bottom:5px;\"><span style = \"font-weight:bold;color:#0172d4;\">9. </span> 모델 학습하기</li>\n",
    "            <li style = \"margin-bottom:5px;\"><span style = \"font-weight:bold;color:#0172d4;\">10. </span> test 데이터에 대한 성능 확인하기</li>\n",
    "            <li style = \"margin-bottom:5px;\"><span style = \"font-weight:bold;color:#0172d4;\">11. </span> 데이터의 상관 관계 확인해보기</li>\n",
    "            <li style = \"margin-bottom:5px;\"><span style = \"font-weight:bold;color:#0172d4;\">12. </span> 특정 특성 값으로 모델 다시 학습해보기</li>\n",
    "            <li style = \"margin-bottom:5px;\"><span style = \"font-weight:bold;color:#0172d4;\">13. </span> 정답 데이터와 예측한 데이터 시각화하기</li>\n",
    "            <li style = \"margin-bottom:5px;\"><span style = \"font-weight:bold;color:#0172d4;\">14. </span> 결론</li>            \n",
    "        </ul>\n",
    "    </li>\n",
    "    <li style = \"margin-bottom:30px; list-style: none;\"><i style = \"font-weight:bold;font-style: normal;\">프로젝트 2 : 날씨 좋은 월요일 오후 세 시, 자전거 타는 사람은 몇 명?</i>\n",
    "        <ul style = \"padding-top:10px; list-style:none;\">\n",
    "            <li style = \"margin-bottom:5px;\"><span style = \"font-weight:bold;color:#0172d4;\">1. </span> 데이터 가져오기</li>\n",
    "            <li style = \"margin-bottom:5px;\"><span style = \"font-weight:bold;color:#0172d4;\">2. </span> datetime 컬럼을 datetime 자료형으로 변환하고 연, 월, 일, 시, 분, 초까지 6가지 컬럼 생성하기</li>\n",
    "            <li style = \"margin-bottom:5px;\"><span style = \"font-weight:bold;color:#0172d4;\">3. </span> year, month, day, hour, minute, second 데이터 개수 시각화하기</li>\n",
    "            <li style = \"margin-bottom:5px;\"><span style = \"font-weight:bold;color:#0172d4;\">4. </span> X, y 컬럼 선택 및 train/test 데이터 분리</li>\n",
    "            <li style = \"margin-bottom:5px;\"><span style = \"font-weight:bold;color:#0172d4;\">5. </span> LinearRegression 모델 학습</li>\n",
    "            <li style = \"margin-bottom:5px;\"><span style = \"font-weight:bold;color:#0172d4;\">6. </span> 학습된 모델로 X_test에 대한 예측값 출력 및 손실함수값 계산\n",
    "</li>\n",
    "            <li style = \"margin-bottom:5px;\"><span style = \"font-weight:bold;color:#0172d4;\">7. </span> x축은 temp 또는 humidity로, y축은 count로 예측 결과 시각화하기\n",
    "</li>\n",
    "            <li style = \"margin-bottom:5px;\"><span style = \"font-weight:bold;color:#0172d4;\">8. </span> 결론</li>\n",
    "        </ul>\n",
    "    </li>\n",
    "    <li style = \"margin-bottom:30px; list-style: none;\"><i style = \"font-weight:bold;font-style: normal;\">회고</i>\n",
    "</ol>"
   ]
  },
  {
   "cell_type": "markdown",
   "id": "df47d60c",
   "metadata": {},
   "source": [
    "<div style = \"height: 50px;\"><div/>"
   ]
  },
  {
   "cell_type": "markdown",
   "id": "73623ce1",
   "metadata": {},
   "source": [
    "# 필요한 모듈 불러오기"
   ]
  },
  {
   "cell_type": "code",
   "execution_count": 1,
   "id": "577f17b4",
   "metadata": {},
   "outputs": [],
   "source": [
    "# 필요한 모듈 불러오기\n",
    "\n",
    "from IPython.display         import display, Image\n",
    "from matplotlib              import pyplot as plt\n",
    "from sklearn.datasets        import load_diabetes \n",
    "from sklearn.model_selection import train_test_split\n",
    "from sklearn.linear_model    import LinearRegression\n",
    "from sklearn.metrics         import mean_squared_error\n",
    "\n",
    "import numpy   as np\n",
    "import pandas  as pd\n",
    "import seaborn as sns"
   ]
  },
  {
   "cell_type": "markdown",
   "id": "3df08efe",
   "metadata": {},
   "source": [
    "<div style = \"height: 50px;\"><div/>"
   ]
  },
  {
   "cell_type": "markdown",
   "id": "c361f90f",
   "metadata": {},
   "source": [
    "# 프로젝트 1 : 손수 설계하는 선형회귀, 당뇨병 수치를 맞춰보자!"
   ]
  },
  {
   "cell_type": "markdown",
   "id": "71d825e8",
   "metadata": {},
   "source": [
    "## (1) 데이터 가져오기\n",
    "<hr/>"
   ]
  },
  {
   "cell_type": "markdown",
   "id": "38749847",
   "metadata": {},
   "source": [
    "### 데이터 load하기"
   ]
  },
  {
   "cell_type": "code",
   "execution_count": 2,
   "id": "647a6dca",
   "metadata": {},
   "outputs": [],
   "source": [
    "diabetes = load_diabetes()"
   ]
  },
  {
   "cell_type": "markdown",
   "id": "85a50466",
   "metadata": {},
   "source": [
    "<div style = \"height: 15px;\"><div/>"
   ]
  },
  {
   "cell_type": "markdown",
   "id": "fb87edb9",
   "metadata": {},
   "source": [
    "### data, target 지정하기"
   ]
  },
  {
   "cell_type": "code",
   "execution_count": 3,
   "id": "394b027f",
   "metadata": {},
   "outputs": [],
   "source": [
    "df_X = diabetes.data"
   ]
  },
  {
   "cell_type": "code",
   "execution_count": 4,
   "id": "9bffefda",
   "metadata": {},
   "outputs": [],
   "source": [
    "df_y = diabetes.target"
   ]
  },
  {
   "cell_type": "markdown",
   "id": "6c57eb96",
   "metadata": {},
   "source": [
    "<div style = \"height: 15px;\"><div/>"
   ]
  },
  {
   "cell_type": "markdown",
   "id": "9a2ddb55",
   "metadata": {},
   "source": [
    "### 데이터 이해하기"
   ]
  },
  {
   "cell_type": "code",
   "execution_count": 5,
   "id": "e769aa67",
   "metadata": {},
   "outputs": [
    {
     "name": "stdout",
     "output_type": "stream",
     "text": [
      ".. _diabetes_dataset:\n",
      "\n",
      "Diabetes dataset\n",
      "----------------\n",
      "\n",
      "Ten baseline variables, age, sex, body mass index, average blood\n",
      "pressure, and six blood serum measurements were obtained for each of n =\n",
      "442 diabetes patients, as well as the response of interest, a\n",
      "quantitative measure of disease progression one year after baseline.\n",
      "\n",
      "**Data Set Characteristics:**\n",
      "\n",
      "  :Number of Instances: 442\n",
      "\n",
      "  :Number of Attributes: First 10 columns are numeric predictive values\n",
      "\n",
      "  :Target: Column 11 is a quantitative measure of disease progression one year after baseline\n",
      "\n",
      "  :Attribute Information:\n",
      "      - age     age in years\n",
      "      - sex\n",
      "      - bmi     body mass index\n",
      "      - bp      average blood pressure\n",
      "      - s1      tc, total serum cholesterol\n",
      "      - s2      ldl, low-density lipoproteins\n",
      "      - s3      hdl, high-density lipoproteins\n",
      "      - s4      tch, total cholesterol / HDL\n",
      "      - s5      ltg, possibly log of serum triglycerides level\n",
      "      - s6      glu, blood sugar level\n",
      "\n",
      "Note: Each of these 10 feature variables have been mean centered and scaled by the standard deviation times `n_samples` (i.e. the sum of squares of each column totals 1).\n",
      "\n",
      "Source URL:\n",
      "https://www4.stat.ncsu.edu/~boos/var.select/diabetes.html\n",
      "\n",
      "For more information see:\n",
      "Bradley Efron, Trevor Hastie, Iain Johnstone and Robert Tibshirani (2004) \"Least Angle Regression,\" Annals of Statistics (with discussion), 407-499.\n",
      "(https://web.stanford.edu/~hastie/Papers/LARS/LeastAngle_2002.pdf)\n"
     ]
    }
   ],
   "source": [
    "print(diabetes.DESCR)"
   ]
  },
  {
   "cell_type": "markdown",
   "id": "10fbb0d5",
   "metadata": {},
   "source": [
    "<div style = \"height: 15px;\"><div/>"
   ]
  },
  {
   "cell_type": "markdown",
   "id": "37e2191e",
   "metadata": {},
   "source": [
    "#### diabetes 데이터란?"
   ]
  },
  {
   "cell_type": "markdown",
   "id": "ba96ada3",
   "metadata": {},
   "source": [
    "나이(age), 성별(sex), 체질량 지수(bmi), 평균 혈압(bp), 그리고 6개의 혈청 측정치(s1 ~ s6) 총 10개의 기준으로<br/>\n",
    "442명의 당뇨병 환자의 응답을 받은 후 1년 후의 질병 진행을 측정한 데이터이다."
   ]
  },
  {
   "cell_type": "markdown",
   "id": "f97962fc",
   "metadata": {},
   "source": [
    "<div style = \"height: 15px;\"><div/>"
   ]
  },
  {
   "cell_type": "code",
   "execution_count": 6,
   "id": "31bfdef0",
   "metadata": {},
   "outputs": [
    {
     "data": {
      "text/plain": [
       "(442, 10)"
      ]
     },
     "execution_count": 6,
     "metadata": {},
     "output_type": "execute_result"
    }
   ],
   "source": [
    "df_X.shape"
   ]
  },
  {
   "cell_type": "code",
   "execution_count": 7,
   "id": "5f5a5040",
   "metadata": {},
   "outputs": [
    {
     "data": {
      "text/plain": [
       "(442,)"
      ]
     },
     "execution_count": 7,
     "metadata": {},
     "output_type": "execute_result"
    }
   ],
   "source": [
    "df_y.shape"
   ]
  },
  {
   "cell_type": "markdown",
   "id": "942578df",
   "metadata": {},
   "source": [
    "<div style = \"height: 15px;\"><div/>"
   ]
  },
  {
   "cell_type": "code",
   "execution_count": 8,
   "id": "7f10d74e",
   "metadata": {},
   "outputs": [],
   "source": [
    "diabetes_ = load_diabetes(as_frame = True)"
   ]
  },
  {
   "cell_type": "code",
   "execution_count": 9,
   "id": "9f334927",
   "metadata": {},
   "outputs": [],
   "source": [
    "diabetes_df = diabetes_.frame"
   ]
  },
  {
   "cell_type": "code",
   "execution_count": 10,
   "id": "94986c3d",
   "metadata": {},
   "outputs": [
    {
     "data": {
      "text/html": [
       "<div>\n",
       "<style scoped>\n",
       "    .dataframe tbody tr th:only-of-type {\n",
       "        vertical-align: middle;\n",
       "    }\n",
       "\n",
       "    .dataframe tbody tr th {\n",
       "        vertical-align: top;\n",
       "    }\n",
       "\n",
       "    .dataframe thead th {\n",
       "        text-align: right;\n",
       "    }\n",
       "</style>\n",
       "<table border=\"1\" class=\"dataframe\">\n",
       "  <thead>\n",
       "    <tr style=\"text-align: right;\">\n",
       "      <th></th>\n",
       "      <th>age</th>\n",
       "      <th>sex</th>\n",
       "      <th>bmi</th>\n",
       "      <th>bp</th>\n",
       "      <th>s1</th>\n",
       "      <th>s2</th>\n",
       "      <th>s3</th>\n",
       "      <th>s4</th>\n",
       "      <th>s5</th>\n",
       "      <th>s6</th>\n",
       "      <th>target</th>\n",
       "    </tr>\n",
       "  </thead>\n",
       "  <tbody>\n",
       "    <tr>\n",
       "      <th>count</th>\n",
       "      <td>4.420000e+02</td>\n",
       "      <td>4.420000e+02</td>\n",
       "      <td>4.420000e+02</td>\n",
       "      <td>4.420000e+02</td>\n",
       "      <td>4.420000e+02</td>\n",
       "      <td>4.420000e+02</td>\n",
       "      <td>4.420000e+02</td>\n",
       "      <td>4.420000e+02</td>\n",
       "      <td>4.420000e+02</td>\n",
       "      <td>4.420000e+02</td>\n",
       "      <td>442.000000</td>\n",
       "    </tr>\n",
       "    <tr>\n",
       "      <th>mean</th>\n",
       "      <td>-3.634285e-16</td>\n",
       "      <td>1.308343e-16</td>\n",
       "      <td>-8.045349e-16</td>\n",
       "      <td>1.281655e-16</td>\n",
       "      <td>-8.835316e-17</td>\n",
       "      <td>1.327024e-16</td>\n",
       "      <td>-4.574646e-16</td>\n",
       "      <td>3.777301e-16</td>\n",
       "      <td>-3.830854e-16</td>\n",
       "      <td>-3.412882e-16</td>\n",
       "      <td>152.133484</td>\n",
       "    </tr>\n",
       "    <tr>\n",
       "      <th>std</th>\n",
       "      <td>4.761905e-02</td>\n",
       "      <td>4.761905e-02</td>\n",
       "      <td>4.761905e-02</td>\n",
       "      <td>4.761905e-02</td>\n",
       "      <td>4.761905e-02</td>\n",
       "      <td>4.761905e-02</td>\n",
       "      <td>4.761905e-02</td>\n",
       "      <td>4.761905e-02</td>\n",
       "      <td>4.761905e-02</td>\n",
       "      <td>4.761905e-02</td>\n",
       "      <td>77.093005</td>\n",
       "    </tr>\n",
       "    <tr>\n",
       "      <th>min</th>\n",
       "      <td>-1.072256e-01</td>\n",
       "      <td>-4.464164e-02</td>\n",
       "      <td>-9.027530e-02</td>\n",
       "      <td>-1.123996e-01</td>\n",
       "      <td>-1.267807e-01</td>\n",
       "      <td>-1.156131e-01</td>\n",
       "      <td>-1.023071e-01</td>\n",
       "      <td>-7.639450e-02</td>\n",
       "      <td>-1.260974e-01</td>\n",
       "      <td>-1.377672e-01</td>\n",
       "      <td>25.000000</td>\n",
       "    </tr>\n",
       "    <tr>\n",
       "      <th>25%</th>\n",
       "      <td>-3.729927e-02</td>\n",
       "      <td>-4.464164e-02</td>\n",
       "      <td>-3.422907e-02</td>\n",
       "      <td>-3.665645e-02</td>\n",
       "      <td>-3.424784e-02</td>\n",
       "      <td>-3.035840e-02</td>\n",
       "      <td>-3.511716e-02</td>\n",
       "      <td>-3.949338e-02</td>\n",
       "      <td>-3.324879e-02</td>\n",
       "      <td>-3.317903e-02</td>\n",
       "      <td>87.000000</td>\n",
       "    </tr>\n",
       "    <tr>\n",
       "      <th>50%</th>\n",
       "      <td>5.383060e-03</td>\n",
       "      <td>-4.464164e-02</td>\n",
       "      <td>-7.283766e-03</td>\n",
       "      <td>-5.670611e-03</td>\n",
       "      <td>-4.320866e-03</td>\n",
       "      <td>-3.819065e-03</td>\n",
       "      <td>-6.584468e-03</td>\n",
       "      <td>-2.592262e-03</td>\n",
       "      <td>-1.947634e-03</td>\n",
       "      <td>-1.077698e-03</td>\n",
       "      <td>140.500000</td>\n",
       "    </tr>\n",
       "    <tr>\n",
       "      <th>75%</th>\n",
       "      <td>3.807591e-02</td>\n",
       "      <td>5.068012e-02</td>\n",
       "      <td>3.124802e-02</td>\n",
       "      <td>3.564384e-02</td>\n",
       "      <td>2.835801e-02</td>\n",
       "      <td>2.984439e-02</td>\n",
       "      <td>2.931150e-02</td>\n",
       "      <td>3.430886e-02</td>\n",
       "      <td>3.243323e-02</td>\n",
       "      <td>2.791705e-02</td>\n",
       "      <td>211.500000</td>\n",
       "    </tr>\n",
       "    <tr>\n",
       "      <th>max</th>\n",
       "      <td>1.107267e-01</td>\n",
       "      <td>5.068012e-02</td>\n",
       "      <td>1.705552e-01</td>\n",
       "      <td>1.320442e-01</td>\n",
       "      <td>1.539137e-01</td>\n",
       "      <td>1.987880e-01</td>\n",
       "      <td>1.811791e-01</td>\n",
       "      <td>1.852344e-01</td>\n",
       "      <td>1.335990e-01</td>\n",
       "      <td>1.356118e-01</td>\n",
       "      <td>346.000000</td>\n",
       "    </tr>\n",
       "  </tbody>\n",
       "</table>\n",
       "</div>"
      ],
      "text/plain": [
       "                age           sex           bmi            bp            s1  \\\n",
       "count  4.420000e+02  4.420000e+02  4.420000e+02  4.420000e+02  4.420000e+02   \n",
       "mean  -3.634285e-16  1.308343e-16 -8.045349e-16  1.281655e-16 -8.835316e-17   \n",
       "std    4.761905e-02  4.761905e-02  4.761905e-02  4.761905e-02  4.761905e-02   \n",
       "min   -1.072256e-01 -4.464164e-02 -9.027530e-02 -1.123996e-01 -1.267807e-01   \n",
       "25%   -3.729927e-02 -4.464164e-02 -3.422907e-02 -3.665645e-02 -3.424784e-02   \n",
       "50%    5.383060e-03 -4.464164e-02 -7.283766e-03 -5.670611e-03 -4.320866e-03   \n",
       "75%    3.807591e-02  5.068012e-02  3.124802e-02  3.564384e-02  2.835801e-02   \n",
       "max    1.107267e-01  5.068012e-02  1.705552e-01  1.320442e-01  1.539137e-01   \n",
       "\n",
       "                 s2            s3            s4            s5            s6  \\\n",
       "count  4.420000e+02  4.420000e+02  4.420000e+02  4.420000e+02  4.420000e+02   \n",
       "mean   1.327024e-16 -4.574646e-16  3.777301e-16 -3.830854e-16 -3.412882e-16   \n",
       "std    4.761905e-02  4.761905e-02  4.761905e-02  4.761905e-02  4.761905e-02   \n",
       "min   -1.156131e-01 -1.023071e-01 -7.639450e-02 -1.260974e-01 -1.377672e-01   \n",
       "25%   -3.035840e-02 -3.511716e-02 -3.949338e-02 -3.324879e-02 -3.317903e-02   \n",
       "50%   -3.819065e-03 -6.584468e-03 -2.592262e-03 -1.947634e-03 -1.077698e-03   \n",
       "75%    2.984439e-02  2.931150e-02  3.430886e-02  3.243323e-02  2.791705e-02   \n",
       "max    1.987880e-01  1.811791e-01  1.852344e-01  1.335990e-01  1.356118e-01   \n",
       "\n",
       "           target  \n",
       "count  442.000000  \n",
       "mean   152.133484  \n",
       "std     77.093005  \n",
       "min     25.000000  \n",
       "25%     87.000000  \n",
       "50%    140.500000  \n",
       "75%    211.500000  \n",
       "max    346.000000  "
      ]
     },
     "execution_count": 10,
     "metadata": {},
     "output_type": "execute_result"
    }
   ],
   "source": [
    "diabetes_df.describe()"
   ]
  },
  {
   "cell_type": "code",
   "execution_count": 11,
   "id": "0e86dadf",
   "metadata": {},
   "outputs": [
    {
     "data": {
      "text/plain": [
       "dict_keys(['data', 'target', 'frame', 'DESCR', 'feature_names', 'data_filename', 'target_filename'])"
      ]
     },
     "execution_count": 11,
     "metadata": {},
     "output_type": "execute_result"
    }
   ],
   "source": [
    "diabetes.keys()"
   ]
  },
  {
   "cell_type": "code",
   "execution_count": 12,
   "id": "ac052223",
   "metadata": {},
   "outputs": [
    {
     "data": {
      "text/plain": [
       "['age', 'sex', 'bmi', 'bp', 's1', 's2', 's3', 's4', 's5', 's6']"
      ]
     },
     "execution_count": 12,
     "metadata": {},
     "output_type": "execute_result"
    }
   ],
   "source": [
    "diabetes.feature_names"
   ]
  },
  {
   "cell_type": "code",
   "execution_count": 13,
   "id": "94e57eef",
   "metadata": {},
   "outputs": [
    {
     "data": {
      "text/html": [
       "<div>\n",
       "<style scoped>\n",
       "    .dataframe tbody tr th:only-of-type {\n",
       "        vertical-align: middle;\n",
       "    }\n",
       "\n",
       "    .dataframe tbody tr th {\n",
       "        vertical-align: top;\n",
       "    }\n",
       "\n",
       "    .dataframe thead th {\n",
       "        text-align: right;\n",
       "    }\n",
       "</style>\n",
       "<table border=\"1\" class=\"dataframe\">\n",
       "  <thead>\n",
       "    <tr style=\"text-align: right;\">\n",
       "      <th></th>\n",
       "      <th>age</th>\n",
       "      <th>sex</th>\n",
       "      <th>bmi</th>\n",
       "      <th>bp</th>\n",
       "      <th>s1</th>\n",
       "      <th>s2</th>\n",
       "      <th>s3</th>\n",
       "      <th>s4</th>\n",
       "      <th>s5</th>\n",
       "      <th>s6</th>\n",
       "      <th>target</th>\n",
       "    </tr>\n",
       "  </thead>\n",
       "  <tbody>\n",
       "    <tr>\n",
       "      <th>0</th>\n",
       "      <td>0.038076</td>\n",
       "      <td>0.050680</td>\n",
       "      <td>0.061696</td>\n",
       "      <td>0.021872</td>\n",
       "      <td>-0.044223</td>\n",
       "      <td>-0.034821</td>\n",
       "      <td>-0.043401</td>\n",
       "      <td>-0.002592</td>\n",
       "      <td>0.019908</td>\n",
       "      <td>-0.017646</td>\n",
       "      <td>151.0</td>\n",
       "    </tr>\n",
       "    <tr>\n",
       "      <th>1</th>\n",
       "      <td>-0.001882</td>\n",
       "      <td>-0.044642</td>\n",
       "      <td>-0.051474</td>\n",
       "      <td>-0.026328</td>\n",
       "      <td>-0.008449</td>\n",
       "      <td>-0.019163</td>\n",
       "      <td>0.074412</td>\n",
       "      <td>-0.039493</td>\n",
       "      <td>-0.068330</td>\n",
       "      <td>-0.092204</td>\n",
       "      <td>75.0</td>\n",
       "    </tr>\n",
       "    <tr>\n",
       "      <th>2</th>\n",
       "      <td>0.085299</td>\n",
       "      <td>0.050680</td>\n",
       "      <td>0.044451</td>\n",
       "      <td>-0.005671</td>\n",
       "      <td>-0.045599</td>\n",
       "      <td>-0.034194</td>\n",
       "      <td>-0.032356</td>\n",
       "      <td>-0.002592</td>\n",
       "      <td>0.002864</td>\n",
       "      <td>-0.025930</td>\n",
       "      <td>141.0</td>\n",
       "    </tr>\n",
       "    <tr>\n",
       "      <th>3</th>\n",
       "      <td>-0.089063</td>\n",
       "      <td>-0.044642</td>\n",
       "      <td>-0.011595</td>\n",
       "      <td>-0.036656</td>\n",
       "      <td>0.012191</td>\n",
       "      <td>0.024991</td>\n",
       "      <td>-0.036038</td>\n",
       "      <td>0.034309</td>\n",
       "      <td>0.022692</td>\n",
       "      <td>-0.009362</td>\n",
       "      <td>206.0</td>\n",
       "    </tr>\n",
       "    <tr>\n",
       "      <th>4</th>\n",
       "      <td>0.005383</td>\n",
       "      <td>-0.044642</td>\n",
       "      <td>-0.036385</td>\n",
       "      <td>0.021872</td>\n",
       "      <td>0.003935</td>\n",
       "      <td>0.015596</td>\n",
       "      <td>0.008142</td>\n",
       "      <td>-0.002592</td>\n",
       "      <td>-0.031991</td>\n",
       "      <td>-0.046641</td>\n",
       "      <td>135.0</td>\n",
       "    </tr>\n",
       "    <tr>\n",
       "      <th>...</th>\n",
       "      <td>...</td>\n",
       "      <td>...</td>\n",
       "      <td>...</td>\n",
       "      <td>...</td>\n",
       "      <td>...</td>\n",
       "      <td>...</td>\n",
       "      <td>...</td>\n",
       "      <td>...</td>\n",
       "      <td>...</td>\n",
       "      <td>...</td>\n",
       "      <td>...</td>\n",
       "    </tr>\n",
       "    <tr>\n",
       "      <th>437</th>\n",
       "      <td>0.041708</td>\n",
       "      <td>0.050680</td>\n",
       "      <td>0.019662</td>\n",
       "      <td>0.059744</td>\n",
       "      <td>-0.005697</td>\n",
       "      <td>-0.002566</td>\n",
       "      <td>-0.028674</td>\n",
       "      <td>-0.002592</td>\n",
       "      <td>0.031193</td>\n",
       "      <td>0.007207</td>\n",
       "      <td>178.0</td>\n",
       "    </tr>\n",
       "    <tr>\n",
       "      <th>438</th>\n",
       "      <td>-0.005515</td>\n",
       "      <td>0.050680</td>\n",
       "      <td>-0.015906</td>\n",
       "      <td>-0.067642</td>\n",
       "      <td>0.049341</td>\n",
       "      <td>0.079165</td>\n",
       "      <td>-0.028674</td>\n",
       "      <td>0.034309</td>\n",
       "      <td>-0.018118</td>\n",
       "      <td>0.044485</td>\n",
       "      <td>104.0</td>\n",
       "    </tr>\n",
       "    <tr>\n",
       "      <th>439</th>\n",
       "      <td>0.041708</td>\n",
       "      <td>0.050680</td>\n",
       "      <td>-0.015906</td>\n",
       "      <td>0.017282</td>\n",
       "      <td>-0.037344</td>\n",
       "      <td>-0.013840</td>\n",
       "      <td>-0.024993</td>\n",
       "      <td>-0.011080</td>\n",
       "      <td>-0.046879</td>\n",
       "      <td>0.015491</td>\n",
       "      <td>132.0</td>\n",
       "    </tr>\n",
       "    <tr>\n",
       "      <th>440</th>\n",
       "      <td>-0.045472</td>\n",
       "      <td>-0.044642</td>\n",
       "      <td>0.039062</td>\n",
       "      <td>0.001215</td>\n",
       "      <td>0.016318</td>\n",
       "      <td>0.015283</td>\n",
       "      <td>-0.028674</td>\n",
       "      <td>0.026560</td>\n",
       "      <td>0.044528</td>\n",
       "      <td>-0.025930</td>\n",
       "      <td>220.0</td>\n",
       "    </tr>\n",
       "    <tr>\n",
       "      <th>441</th>\n",
       "      <td>-0.045472</td>\n",
       "      <td>-0.044642</td>\n",
       "      <td>-0.073030</td>\n",
       "      <td>-0.081414</td>\n",
       "      <td>0.083740</td>\n",
       "      <td>0.027809</td>\n",
       "      <td>0.173816</td>\n",
       "      <td>-0.039493</td>\n",
       "      <td>-0.004220</td>\n",
       "      <td>0.003064</td>\n",
       "      <td>57.0</td>\n",
       "    </tr>\n",
       "  </tbody>\n",
       "</table>\n",
       "<p>442 rows × 11 columns</p>\n",
       "</div>"
      ],
      "text/plain": [
       "          age       sex       bmi        bp        s1        s2        s3  \\\n",
       "0    0.038076  0.050680  0.061696  0.021872 -0.044223 -0.034821 -0.043401   \n",
       "1   -0.001882 -0.044642 -0.051474 -0.026328 -0.008449 -0.019163  0.074412   \n",
       "2    0.085299  0.050680  0.044451 -0.005671 -0.045599 -0.034194 -0.032356   \n",
       "3   -0.089063 -0.044642 -0.011595 -0.036656  0.012191  0.024991 -0.036038   \n",
       "4    0.005383 -0.044642 -0.036385  0.021872  0.003935  0.015596  0.008142   \n",
       "..        ...       ...       ...       ...       ...       ...       ...   \n",
       "437  0.041708  0.050680  0.019662  0.059744 -0.005697 -0.002566 -0.028674   \n",
       "438 -0.005515  0.050680 -0.015906 -0.067642  0.049341  0.079165 -0.028674   \n",
       "439  0.041708  0.050680 -0.015906  0.017282 -0.037344 -0.013840 -0.024993   \n",
       "440 -0.045472 -0.044642  0.039062  0.001215  0.016318  0.015283 -0.028674   \n",
       "441 -0.045472 -0.044642 -0.073030 -0.081414  0.083740  0.027809  0.173816   \n",
       "\n",
       "           s4        s5        s6  target  \n",
       "0   -0.002592  0.019908 -0.017646   151.0  \n",
       "1   -0.039493 -0.068330 -0.092204    75.0  \n",
       "2   -0.002592  0.002864 -0.025930   141.0  \n",
       "3    0.034309  0.022692 -0.009362   206.0  \n",
       "4   -0.002592 -0.031991 -0.046641   135.0  \n",
       "..        ...       ...       ...     ...  \n",
       "437 -0.002592  0.031193  0.007207   178.0  \n",
       "438  0.034309 -0.018118  0.044485   104.0  \n",
       "439 -0.011080 -0.046879  0.015491   132.0  \n",
       "440  0.026560  0.044528 -0.025930   220.0  \n",
       "441 -0.039493 -0.004220  0.003064    57.0  \n",
       "\n",
       "[442 rows x 11 columns]"
      ]
     },
     "execution_count": 13,
     "metadata": {},
     "output_type": "execute_result"
    }
   ],
   "source": [
    "diabetes_df"
   ]
  },
  {
   "cell_type": "code",
   "execution_count": 14,
   "id": "61c2c94b",
   "metadata": {},
   "outputs": [
    {
     "data": {
      "text/plain": [
       "array([151.,  75., 141., 206., 135.,  97., 138.,  63., 110., 310., 101.,\n",
       "        69., 179., 185., 118., 171., 166., 144.,  97., 168.,  68.,  49.,\n",
       "        68., 245., 184., 202., 137.,  85., 131., 283., 129.,  59., 341.,\n",
       "        87.,  65., 102., 265., 276., 252.,  90., 100.,  55.,  61.,  92.,\n",
       "       259.,  53., 190., 142.,  75., 142., 155., 225.,  59., 104., 182.,\n",
       "       128.,  52.,  37., 170., 170.,  61., 144.,  52., 128.,  71., 163.,\n",
       "       150.,  97., 160., 178.,  48., 270., 202., 111.,  85.,  42., 170.,\n",
       "       200., 252., 113., 143.,  51.,  52., 210.,  65., 141.,  55., 134.,\n",
       "        42., 111.,  98., 164.,  48.,  96.,  90., 162., 150., 279.,  92.,\n",
       "        83., 128., 102., 302., 198.,  95.,  53., 134., 144., 232.,  81.,\n",
       "       104.,  59., 246., 297., 258., 229., 275., 281., 179., 200., 200.,\n",
       "       173., 180.,  84., 121., 161.,  99., 109., 115., 268., 274., 158.,\n",
       "       107.,  83., 103., 272.,  85., 280., 336., 281., 118., 317., 235.,\n",
       "        60., 174., 259., 178., 128.,  96., 126., 288.,  88., 292.,  71.,\n",
       "       197., 186.,  25.,  84.,  96., 195.,  53., 217., 172., 131., 214.,\n",
       "        59.,  70., 220., 268., 152.,  47.,  74., 295., 101., 151., 127.,\n",
       "       237., 225.,  81., 151., 107.,  64., 138., 185., 265., 101., 137.,\n",
       "       143., 141.,  79., 292., 178.,  91., 116.,  86., 122.,  72., 129.,\n",
       "       142.,  90., 158.,  39., 196., 222., 277.,  99., 196., 202., 155.,\n",
       "        77., 191.,  70.,  73.,  49.,  65., 263., 248., 296., 214., 185.,\n",
       "        78.,  93., 252., 150.,  77., 208.,  77., 108., 160.,  53., 220.,\n",
       "       154., 259.,  90., 246., 124.,  67.,  72., 257., 262., 275., 177.,\n",
       "        71.,  47., 187., 125.,  78.,  51., 258., 215., 303., 243.,  91.,\n",
       "       150., 310., 153., 346.,  63.,  89.,  50.,  39., 103., 308., 116.,\n",
       "       145.,  74.,  45., 115., 264.,  87., 202., 127., 182., 241.,  66.,\n",
       "        94., 283.,  64., 102., 200., 265.,  94., 230., 181., 156., 233.,\n",
       "        60., 219.,  80.,  68., 332., 248.,  84., 200.,  55.,  85.,  89.,\n",
       "        31., 129.,  83., 275.,  65., 198., 236., 253., 124.,  44., 172.,\n",
       "       114., 142., 109., 180., 144., 163., 147.,  97., 220., 190., 109.,\n",
       "       191., 122., 230., 242., 248., 249., 192., 131., 237.,  78., 135.,\n",
       "       244., 199., 270., 164.,  72.,  96., 306.,  91., 214.,  95., 216.,\n",
       "       263., 178., 113., 200., 139., 139.,  88., 148.,  88., 243.,  71.,\n",
       "        77., 109., 272.,  60.,  54., 221.,  90., 311., 281., 182., 321.,\n",
       "        58., 262., 206., 233., 242., 123., 167.,  63., 197.,  71., 168.,\n",
       "       140., 217., 121., 235., 245.,  40.,  52., 104., 132.,  88.,  69.,\n",
       "       219.,  72., 201., 110.,  51., 277.,  63., 118.,  69., 273., 258.,\n",
       "        43., 198., 242., 232., 175.,  93., 168., 275., 293., 281.,  72.,\n",
       "       140., 189., 181., 209., 136., 261., 113., 131., 174., 257.,  55.,\n",
       "        84.,  42., 146., 212., 233.,  91., 111., 152., 120.,  67., 310.,\n",
       "        94., 183.,  66., 173.,  72.,  49.,  64.,  48., 178., 104., 132.,\n",
       "       220.,  57.])"
      ]
     },
     "execution_count": 14,
     "metadata": {},
     "output_type": "execute_result"
    }
   ],
   "source": [
    "diabetes.target"
   ]
  },
  {
   "cell_type": "markdown",
   "id": "95a7d2db",
   "metadata": {},
   "source": [
    "<div style = \"height: 15px;\"><div/>"
   ]
  },
  {
   "cell_type": "markdown",
   "id": "1f3a5711",
   "metadata": {},
   "source": [
    "### 목표\n",
    "<p style = \"font-size:15px;\">이 데이터는 응답한 당뇨병의 응답을 바탕으로 1년 후의 당뇨병 진행도을 측정한 데이터이다.<br/>\n",
    "이 데이터를 바탕으로, 시간이 지남에 따라 당뇨병의 수치를 예측하는 모델을 만들고자 한다.<br/>\n",
    "따라서, 카테고리가 아닌 연속적인 값을 찾아야하므로, 회귀 모델을 사용해야 하며, \n",
    "그 중 <strong>선형 회귀 모델</strong>을 적용하여 <strong>당뇨병 수치를 예측</strong>하고자 한다.</p>"
   ]
  },
  {
   "cell_type": "markdown",
   "id": "4e8bb389",
   "metadata": {},
   "source": [
    "<div style = \"height: 15px;\"><div/>"
   ]
  },
  {
   "cell_type": "markdown",
   "id": "ee12b3eb",
   "metadata": {},
   "source": [
    "## (2) 모델에 입력할 데이터 X 준비하기\n",
    "<hr/>"
   ]
  },
  {
   "cell_type": "code",
   "execution_count": 15,
   "id": "acabbe5e",
   "metadata": {},
   "outputs": [
    {
     "data": {
      "text/plain": [
       "(442, 10)"
      ]
     },
     "execution_count": 15,
     "metadata": {},
     "output_type": "execute_result"
    }
   ],
   "source": [
    "x = np.array(df_X)\n",
    "x.shape"
   ]
  },
  {
   "cell_type": "markdown",
   "id": "f508eb68",
   "metadata": {},
   "source": [
    "<div style = \"height: 15px;\"><div/>"
   ]
  },
  {
   "cell_type": "markdown",
   "id": "a2740b63",
   "metadata": {},
   "source": [
    "## (3) 모델에 입력할 데이터 y 준비하기\n",
    "<hr/>"
   ]
  },
  {
   "cell_type": "code",
   "execution_count": 16,
   "id": "e6ff379a",
   "metadata": {},
   "outputs": [
    {
     "data": {
      "text/plain": [
       "(442,)"
      ]
     },
     "execution_count": 16,
     "metadata": {},
     "output_type": "execute_result"
    }
   ],
   "source": [
    "y = np.array(df_y)\n",
    "y.shape"
   ]
  },
  {
   "cell_type": "markdown",
   "id": "e803a55e",
   "metadata": {},
   "source": [
    "x와 df_X를 확인해본결과, 둘 다 넘파이 배열인 것을 확인할 수 있었습니다.<br/>\n",
    "굳이 np.array를 사용할 필요는 없지만, LMS에 진행하라는 순서대로 진행했습니다."
   ]
  },
  {
   "cell_type": "markdown",
   "id": "dc5932d3",
   "metadata": {},
   "source": [
    "<div style = \"height: 15px;\"><div/>"
   ]
  },
  {
   "cell_type": "markdown",
   "id": "2f6eb5c2",
   "metadata": {},
   "source": [
    "## (4) train 데이터와 test 데이터로 분리하기\n",
    "<hr/>"
   ]
  },
  {
   "cell_type": "code",
   "execution_count": 17,
   "id": "72a0ced7",
   "metadata": {},
   "outputs": [],
   "source": [
    "x_train, x_test, y_train, y_test = train_test_split(x, y, test_size = 0.2, random_state = 42)"
   ]
  },
  {
   "cell_type": "markdown",
   "id": "34db0bf4",
   "metadata": {},
   "source": [
    "<div style = \"height: 15px;\"><div/>"
   ]
  },
  {
   "cell_type": "markdown",
   "id": "a9a62f33",
   "metadata": {},
   "source": [
    "## (5) 모델 준비하기\n",
    "<hr/>"
   ]
  },
  {
   "cell_type": "markdown",
   "id": "2ba9b492",
   "metadata": {},
   "source": [
    "### 가중치 w와 b 준비하기"
   ]
  },
  {
   "cell_type": "code",
   "execution_count": 18,
   "id": "bb472388",
   "metadata": {},
   "outputs": [],
   "source": [
    "w = np.random.rand(10)\n",
    "b = np.random.rand()"
   ]
  },
  {
   "cell_type": "code",
   "execution_count": 19,
   "id": "c802c3e8",
   "metadata": {},
   "outputs": [
    {
     "data": {
      "text/plain": [
       "array([0.46148857, 0.26501434, 0.62751494, 0.9357584 , 0.16786671,\n",
       "       0.20631674, 0.90643041, 0.14306637, 0.49083395, 0.98725113])"
      ]
     },
     "execution_count": 19,
     "metadata": {},
     "output_type": "execute_result"
    }
   ],
   "source": [
    "w"
   ]
  },
  {
   "cell_type": "code",
   "execution_count": 20,
   "id": "b4c50444",
   "metadata": {},
   "outputs": [
    {
     "data": {
      "text/plain": [
       "0.8203368371158534"
      ]
     },
     "execution_count": 20,
     "metadata": {},
     "output_type": "execute_result"
    }
   ],
   "source": [
    "b"
   ]
  },
  {
   "cell_type": "markdown",
   "id": "1e534f06",
   "metadata": {},
   "source": [
    "<div style = \"height: 15px;\"><div/>"
   ]
  },
  {
   "cell_type": "markdown",
   "id": "a26b1979",
   "metadata": {},
   "source": [
    "### 모양 확인하기"
   ]
  },
  {
   "cell_type": "code",
   "execution_count": 21,
   "id": "6038f9d9",
   "metadata": {},
   "outputs": [
    {
     "data": {
      "text/plain": [
       "(442, 10)"
      ]
     },
     "execution_count": 21,
     "metadata": {},
     "output_type": "execute_result"
    }
   ],
   "source": [
    "x.shape"
   ]
  },
  {
   "cell_type": "code",
   "execution_count": 22,
   "id": "5a8aae01",
   "metadata": {},
   "outputs": [
    {
     "data": {
      "text/plain": [
       "(442,)"
      ]
     },
     "execution_count": 22,
     "metadata": {},
     "output_type": "execute_result"
    }
   ],
   "source": [
    "y.shape"
   ]
  },
  {
   "cell_type": "code",
   "execution_count": 23,
   "id": "eb1faa3b",
   "metadata": {},
   "outputs": [
    {
     "data": {
      "text/plain": [
       "(10,)"
      ]
     },
     "execution_count": 23,
     "metadata": {},
     "output_type": "execute_result"
    }
   ],
   "source": [
    "w.shape"
   ]
  },
  {
   "cell_type": "markdown",
   "id": "f1a91f73",
   "metadata": {},
   "source": [
    "<div style = \"height: 15px;\"><div/>"
   ]
  },
  {
   "cell_type": "markdown",
   "id": "163351c0",
   "metadata": {},
   "source": [
    "### 모델 함수 구현하기"
   ]
  },
  {
   "cell_type": "code",
   "execution_count": 24,
   "id": "d9024144",
   "metadata": {},
   "outputs": [],
   "source": [
    "# y값 찾는 모델 함수 \n",
    "def model(x, w, b):\n",
    "    predictions = 0\n",
    "    for i in range(10):\n",
    "        predictions += x[:,i] * w[i] \n",
    "    predictions += b\n",
    "    return predictions"
   ]
  },
  {
   "cell_type": "markdown",
   "id": "0ff7718c",
   "metadata": {},
   "source": [
    "<div style = \"height: 15px;\"><div/>"
   ]
  },
  {
   "cell_type": "markdown",
   "id": "62a038f0",
   "metadata": {},
   "source": [
    "<div style = \"height: 15px;\"><div/>"
   ]
  },
  {
   "cell_type": "markdown",
   "id": "41e6d981",
   "metadata": {},
   "source": [
    "## (6) 손실함수 loss 정의하기\n",
    "<hr/>"
   ]
  },
  {
   "cell_type": "markdown",
   "id": "a4723707",
   "metadata": {},
   "source": [
    "### 손실함수를 MSE 함수로 정의"
   ]
  },
  {
   "cell_type": "code",
   "execution_count": 25,
   "id": "55791b15",
   "metadata": {},
   "outputs": [],
   "source": [
    "def MSE(a, b):\n",
    "    mse = ((a - b) ** 2).mean()\n",
    "    return mse"
   ]
  },
  {
   "cell_type": "markdown",
   "id": "3d37c528",
   "metadata": {},
   "source": [
    "MSE : 오차의 제곱의 평균"
   ]
  },
  {
   "cell_type": "code",
   "execution_count": 26,
   "id": "304717b3",
   "metadata": {},
   "outputs": [],
   "source": [
    "# loss 값 찾는 함수 \n",
    "def loss(x, w, b, y):\n",
    "    prediction = model(x, w, b)\n",
    "    l = MSE(prediction, y)\n",
    "    return l"
   ]
  },
  {
   "cell_type": "markdown",
   "id": "65c9e760",
   "metadata": {},
   "source": [
    "**손실 함수(loss function)**: 모델의 예측값과 정답값에 대한 차이를 계산하는 함수<br/>\n",
    "모델을 돌려 예측 값을 predictions 변수에 저장한 후, predictions와 y를 받아 MSE함수를 구동하여 결과값을 변수 l에 저장한다."
   ]
  },
  {
   "cell_type": "markdown",
   "id": "27846442",
   "metadata": {},
   "source": [
    "<div style = \"height: 15px;\"><div/>"
   ]
  },
  {
   "cell_type": "code",
   "execution_count": 27,
   "id": "3637a4e6",
   "metadata": {},
   "outputs": [],
   "source": [
    "loss_value = loss(x, w, b, y)"
   ]
  },
  {
   "cell_type": "code",
   "execution_count": 28,
   "id": "6749b49b",
   "metadata": {},
   "outputs": [
    {
     "data": {
      "text/plain": [
       "28815.973403363896"
      ]
     },
     "execution_count": 28,
     "metadata": {},
     "output_type": "execute_result"
    }
   ],
   "source": [
    "loss_value"
   ]
  },
  {
   "cell_type": "markdown",
   "id": "953a50ec",
   "metadata": {},
   "source": [
    "loss값을 출력해본 결과, 28979.70055280569라는 엄청난 값이 나왔다. <br/>loss값을 줄이기 위해 gradien 함수를 만들어 적용시키고자 한다."
   ]
  },
  {
   "cell_type": "markdown",
   "id": "fe54c8e7",
   "metadata": {},
   "source": [
    "<div style = \"height: 15px;\"><div/>"
   ]
  },
  {
   "cell_type": "markdown",
   "id": "8d363735",
   "metadata": {},
   "source": [
    "## (7) 기울기를 구하는 gradient 함수 구현하기\n",
    "<hr/>"
   ]
  },
  {
   "cell_type": "code",
   "execution_count": 29,
   "id": "07d511a9",
   "metadata": {},
   "outputs": [],
   "source": [
    "def gradient(x, w, b, y):\n",
    "    # n은 가중치의 개수\n",
    "    n = len(w)\n",
    "    \n",
    "    # y_pred 준비\n",
    "    y_pred = model(x, w, b)\n",
    "    \n",
    "    # 공식에 맞게 gradient 계산\n",
    "    dw = 1/n * 2 * x.T.dot(y_pred - y)\n",
    "    \n",
    "    # b의 gradient 계산\n",
    "    db = 2 * (y_pred - y).mean()\n",
    "    return dw, db"
   ]
  },
  {
   "cell_type": "markdown",
   "id": "892cb821",
   "metadata": {},
   "source": [
    "<div style = \"height: 15px;\"><div/>"
   ]
  },
  {
   "cell_type": "markdown",
   "id": "1aaa1393",
   "metadata": {},
   "source": [
    "### 경사 계산해보기"
   ]
  },
  {
   "cell_type": "code",
   "execution_count": 30,
   "id": "4e1c7342",
   "metadata": {},
   "outputs": [],
   "source": [
    "w, b = gradient(x, w, b, y)"
   ]
  },
  {
   "cell_type": "code",
   "execution_count": 31,
   "id": "12783918",
   "metadata": {},
   "outputs": [
    {
     "data": {
      "text/plain": [
       "array([ -60.55296502,  -13.81420004, -189.58074259, -142.56133825,\n",
       "        -68.33794653,  -56.11835468,  127.78314271, -139.1568382 ,\n",
       "       -182.89939014, -123.45552111])"
      ]
     },
     "execution_count": 31,
     "metadata": {},
     "output_type": "execute_result"
    }
   ],
   "source": [
    "w"
   ]
  },
  {
   "cell_type": "code",
   "execution_count": 32,
   "id": "461576f1",
   "metadata": {},
   "outputs": [
    {
     "data": {
      "text/plain": [
       "-302.62629465156016"
      ]
     },
     "execution_count": 32,
     "metadata": {},
     "output_type": "execute_result"
    }
   ],
   "source": [
    "b"
   ]
  },
  {
   "cell_type": "code",
   "execution_count": 33,
   "id": "d12dc0a0",
   "metadata": {},
   "outputs": [
    {
     "name": "stdout",
     "output_type": "stream",
     "text": [
      "217426.56453489925\n"
     ]
    }
   ],
   "source": [
    "print(loss(x, w, b, y))"
   ]
  },
  {
   "cell_type": "markdown",
   "id": "dcde6b33",
   "metadata": {},
   "source": [
    "<div style = \"height: 50px;\"><div/>"
   ]
  },
  {
   "cell_type": "markdown",
   "id": "a65addf6",
   "metadata": {},
   "source": [
    "## (8) 하이퍼 파라미터인 학습률 설정하기\n",
    "<hr/>"
   ]
  },
  {
   "cell_type": "markdown",
   "id": "f4d0d1f4",
   "metadata": {},
   "source": [
    "### 학습률, learning rate 설정하기"
   ]
  },
  {
   "cell_type": "code",
   "execution_count": 34,
   "id": "a9a4a320",
   "metadata": {},
   "outputs": [],
   "source": [
    "# 임의로 learning rate 지정하기\n",
    "learning_rate = 0.0001"
   ]
  },
  {
   "cell_type": "markdown",
   "id": "41702778",
   "metadata": {},
   "source": [
    "<div style = \"height: 15px;\"><div/>"
   ]
  },
  {
   "cell_type": "markdown",
   "id": "42b645f7",
   "metadata": {},
   "source": [
    "### 학습해보기"
   ]
  },
  {
   "cell_type": "code",
   "execution_count": 35,
   "id": "82d4fad1",
   "metadata": {},
   "outputs": [
    {
     "name": "stdout",
     "output_type": "stream",
     "text": [
      "Iteration 2 : Loss 217259.10\n",
      "Iteration 4 : Loss 217091.77\n",
      "Iteration 6 : Loss 216924.57\n",
      "Iteration 8 : Loss 216757.51\n",
      "Iteration 10 : Loss 216590.57\n",
      "Iteration 12 : Loss 216423.77\n",
      "Iteration 14 : Loss 216257.10\n",
      "Iteration 16 : Loss 216090.57\n",
      "Iteration 18 : Loss 215924.16\n",
      "Iteration 20 : Loss 215757.89\n",
      "Iteration 22 : Loss 215591.75\n",
      "Iteration 24 : Loss 215425.74\n",
      "Iteration 26 : Loss 215259.87\n",
      "Iteration 28 : Loss 215094.12\n",
      "Iteration 30 : Loss 214928.51\n",
      "Iteration 32 : Loss 214763.03\n",
      "Iteration 34 : Loss 214597.68\n",
      "Iteration 36 : Loss 214432.46\n",
      "Iteration 38 : Loss 214267.37\n",
      "Iteration 40 : Loss 214102.41\n",
      "Iteration 42 : Loss 213937.59\n",
      "Iteration 44 : Loss 213772.89\n",
      "Iteration 46 : Loss 213608.33\n",
      "Iteration 48 : Loss 213443.89\n",
      "Iteration 50 : Loss 213279.59\n",
      "Iteration 52 : Loss 213115.42\n",
      "Iteration 54 : Loss 212951.38\n",
      "Iteration 56 : Loss 212787.46\n",
      "Iteration 58 : Loss 212623.68\n",
      "Iteration 60 : Loss 212460.03\n",
      "Iteration 62 : Loss 212296.50\n",
      "Iteration 64 : Loss 212133.11\n",
      "Iteration 66 : Loss 211969.85\n",
      "Iteration 68 : Loss 211806.71\n",
      "Iteration 70 : Loss 211643.71\n",
      "Iteration 72 : Loss 211480.84\n",
      "Iteration 74 : Loss 211318.09\n",
      "Iteration 76 : Loss 211155.47\n",
      "Iteration 78 : Loss 210992.99\n",
      "Iteration 80 : Loss 210830.63\n",
      "Iteration 82 : Loss 210668.40\n",
      "Iteration 84 : Loss 210506.30\n",
      "Iteration 86 : Loss 210344.32\n",
      "Iteration 88 : Loss 210182.48\n",
      "Iteration 90 : Loss 210020.77\n",
      "Iteration 92 : Loss 209859.18\n",
      "Iteration 94 : Loss 209697.72\n",
      "Iteration 96 : Loss 209536.39\n",
      "Iteration 98 : Loss 209375.19\n",
      "Iteration 100 : Loss 209214.11\n",
      "Iteration 102 : Loss 209053.16\n",
      "Iteration 104 : Loss 208892.35\n",
      "Iteration 106 : Loss 208731.65\n",
      "Iteration 108 : Loss 208571.09\n",
      "Iteration 110 : Loss 208410.65\n",
      "Iteration 112 : Loss 208250.34\n",
      "Iteration 114 : Loss 208090.16\n",
      "Iteration 116 : Loss 207930.11\n",
      "Iteration 118 : Loss 207770.18\n",
      "Iteration 120 : Loss 207610.38\n",
      "Iteration 122 : Loss 207450.70\n",
      "Iteration 124 : Loss 207291.15\n",
      "Iteration 126 : Loss 207131.73\n",
      "Iteration 128 : Loss 206972.44\n",
      "Iteration 130 : Loss 206813.27\n",
      "Iteration 132 : Loss 206654.23\n",
      "Iteration 134 : Loss 206495.31\n",
      "Iteration 136 : Loss 206336.52\n",
      "Iteration 138 : Loss 206177.86\n",
      "Iteration 140 : Loss 206019.32\n",
      "Iteration 142 : Loss 205860.91\n",
      "Iteration 144 : Loss 205702.62\n",
      "Iteration 146 : Loss 205544.46\n",
      "Iteration 148 : Loss 205386.43\n",
      "Iteration 150 : Loss 205228.52\n",
      "Iteration 152 : Loss 205070.73\n",
      "Iteration 154 : Loss 204913.07\n",
      "Iteration 156 : Loss 204755.54\n",
      "Iteration 158 : Loss 204598.13\n",
      "Iteration 160 : Loss 204440.85\n",
      "Iteration 162 : Loss 204283.69\n",
      "Iteration 164 : Loss 204126.65\n",
      "Iteration 166 : Loss 203969.74\n",
      "Iteration 168 : Loss 203812.95\n",
      "Iteration 170 : Loss 203656.29\n",
      "Iteration 172 : Loss 203499.76\n",
      "Iteration 174 : Loss 203343.34\n",
      "Iteration 176 : Loss 203187.05\n",
      "Iteration 178 : Loss 203030.89\n",
      "Iteration 180 : Loss 202874.85\n",
      "Iteration 182 : Loss 202718.93\n",
      "Iteration 184 : Loss 202563.14\n",
      "Iteration 186 : Loss 202407.47\n",
      "Iteration 188 : Loss 202251.92\n",
      "Iteration 190 : Loss 202096.50\n",
      "Iteration 192 : Loss 201941.20\n",
      "Iteration 194 : Loss 201786.02\n",
      "Iteration 196 : Loss 201630.97\n",
      "Iteration 198 : Loss 201476.04\n",
      "Iteration 200 : Loss 201321.23\n",
      "Iteration 202 : Loss 201166.55\n",
      "Iteration 204 : Loss 201011.98\n",
      "Iteration 206 : Loss 200857.54\n",
      "Iteration 208 : Loss 200703.23\n",
      "Iteration 210 : Loss 200549.03\n",
      "Iteration 212 : Loss 200394.96\n",
      "Iteration 214 : Loss 200241.01\n",
      "Iteration 216 : Loss 200087.18\n",
      "Iteration 218 : Loss 199933.48\n",
      "Iteration 220 : Loss 199779.89\n",
      "Iteration 222 : Loss 199626.43\n",
      "Iteration 224 : Loss 199473.09\n",
      "Iteration 226 : Loss 199319.87\n",
      "Iteration 228 : Loss 199166.78\n",
      "Iteration 230 : Loss 199013.80\n",
      "Iteration 232 : Loss 198860.95\n",
      "Iteration 234 : Loss 198708.21\n",
      "Iteration 236 : Loss 198555.60\n",
      "Iteration 238 : Loss 198403.11\n",
      "Iteration 240 : Loss 198250.74\n",
      "Iteration 242 : Loss 198098.49\n",
      "Iteration 244 : Loss 197946.37\n",
      "Iteration 246 : Loss 197794.36\n",
      "Iteration 248 : Loss 197642.47\n",
      "Iteration 250 : Loss 197490.70\n",
      "Iteration 252 : Loss 197339.06\n",
      "Iteration 254 : Loss 197187.53\n",
      "Iteration 256 : Loss 197036.13\n",
      "Iteration 258 : Loss 196884.84\n",
      "Iteration 260 : Loss 196733.68\n",
      "Iteration 262 : Loss 196582.63\n",
      "Iteration 264 : Loss 196431.71\n",
      "Iteration 266 : Loss 196280.90\n",
      "Iteration 268 : Loss 196130.21\n",
      "Iteration 270 : Loss 195979.65\n",
      "Iteration 272 : Loss 195829.20\n",
      "Iteration 274 : Loss 195678.87\n",
      "Iteration 276 : Loss 195528.66\n",
      "Iteration 278 : Loss 195378.57\n",
      "Iteration 280 : Loss 195228.60\n",
      "Iteration 282 : Loss 195078.75\n",
      "Iteration 284 : Loss 194929.02\n",
      "Iteration 286 : Loss 194779.41\n",
      "Iteration 288 : Loss 194629.91\n",
      "Iteration 290 : Loss 194480.53\n",
      "Iteration 292 : Loss 194331.28\n",
      "Iteration 294 : Loss 194182.14\n",
      "Iteration 296 : Loss 194033.11\n",
      "Iteration 298 : Loss 193884.21\n",
      "Iteration 300 : Loss 193735.43\n",
      "Iteration 302 : Loss 193586.76\n",
      "Iteration 304 : Loss 193438.21\n",
      "Iteration 306 : Loss 193289.78\n",
      "Iteration 308 : Loss 193141.46\n",
      "Iteration 310 : Loss 192993.27\n",
      "Iteration 312 : Loss 192845.19\n",
      "Iteration 314 : Loss 192697.23\n",
      "Iteration 316 : Loss 192549.38\n",
      "Iteration 318 : Loss 192401.66\n",
      "Iteration 320 : Loss 192254.05\n",
      "Iteration 322 : Loss 192106.56\n",
      "Iteration 324 : Loss 191959.18\n",
      "Iteration 326 : Loss 191811.92\n",
      "Iteration 328 : Loss 191664.78\n",
      "Iteration 330 : Loss 191517.76\n",
      "Iteration 332 : Loss 191370.85\n",
      "Iteration 334 : Loss 191224.06\n",
      "Iteration 336 : Loss 191077.38\n",
      "Iteration 338 : Loss 190930.82\n",
      "Iteration 340 : Loss 190784.38\n",
      "Iteration 342 : Loss 190638.05\n",
      "Iteration 344 : Loss 190491.84\n",
      "Iteration 346 : Loss 190345.75\n",
      "Iteration 348 : Loss 190199.77\n",
      "Iteration 350 : Loss 190053.91\n",
      "Iteration 352 : Loss 189908.16\n",
      "Iteration 354 : Loss 189762.53\n",
      "Iteration 356 : Loss 189617.01\n",
      "Iteration 358 : Loss 189471.61\n",
      "Iteration 360 : Loss 189326.32\n",
      "Iteration 362 : Loss 189181.15\n",
      "Iteration 364 : Loss 189036.10\n",
      "Iteration 366 : Loss 188891.16\n",
      "Iteration 368 : Loss 188746.33\n",
      "Iteration 370 : Loss 188601.62\n",
      "Iteration 372 : Loss 188457.03\n",
      "Iteration 374 : Loss 188312.55\n",
      "Iteration 376 : Loss 188168.18\n",
      "Iteration 378 : Loss 188023.93\n",
      "Iteration 380 : Loss 187879.79\n",
      "Iteration 382 : Loss 187735.77\n",
      "Iteration 384 : Loss 187591.86\n",
      "Iteration 386 : Loss 187448.07\n",
      "Iteration 388 : Loss 187304.39\n",
      "Iteration 390 : Loss 187160.82\n",
      "Iteration 392 : Loss 187017.37\n",
      "Iteration 394 : Loss 186874.03\n",
      "Iteration 396 : Loss 186730.80\n",
      "Iteration 398 : Loss 186587.69\n",
      "Iteration 400 : Loss 186444.69\n",
      "Iteration 402 : Loss 186301.81\n",
      "Iteration 404 : Loss 186159.03\n",
      "Iteration 406 : Loss 186016.38\n",
      "Iteration 408 : Loss 185873.83\n",
      "Iteration 410 : Loss 185731.40\n",
      "Iteration 412 : Loss 185589.08\n",
      "Iteration 414 : Loss 185446.87\n",
      "Iteration 416 : Loss 185304.78\n",
      "Iteration 418 : Loss 185162.80\n",
      "Iteration 420 : Loss 185020.93\n",
      "Iteration 422 : Loss 184879.17\n",
      "Iteration 424 : Loss 184737.53\n",
      "Iteration 426 : Loss 184596.00\n",
      "Iteration 428 : Loss 184454.58\n",
      "Iteration 430 : Loss 184313.27\n",
      "Iteration 432 : Loss 184172.08\n",
      "Iteration 434 : Loss 184031.00\n",
      "Iteration 436 : Loss 183890.02\n",
      "Iteration 438 : Loss 183749.16\n",
      "Iteration 440 : Loss 183608.42\n",
      "Iteration 442 : Loss 183467.78\n",
      "Iteration 444 : Loss 183327.26\n",
      "Iteration 446 : Loss 183186.84\n",
      "Iteration 448 : Loss 183046.54\n",
      "Iteration 450 : Loss 182906.35\n",
      "Iteration 452 : Loss 182766.27\n",
      "Iteration 454 : Loss 182626.31\n",
      "Iteration 456 : Loss 182486.45\n",
      "Iteration 458 : Loss 182346.70\n",
      "Iteration 460 : Loss 182207.07\n",
      "Iteration 462 : Loss 182067.54\n",
      "Iteration 464 : Loss 181928.13\n",
      "Iteration 466 : Loss 181788.82\n",
      "Iteration 468 : Loss 181649.63\n",
      "Iteration 470 : Loss 181510.55\n",
      "Iteration 472 : Loss 181371.58\n",
      "Iteration 474 : Loss 181232.71\n",
      "Iteration 476 : Loss 181093.96\n",
      "Iteration 478 : Loss 180955.32\n",
      "Iteration 480 : Loss 180816.79\n",
      "Iteration 482 : Loss 180678.36\n",
      "Iteration 484 : Loss 180540.05\n",
      "Iteration 486 : Loss 180401.85\n",
      "Iteration 488 : Loss 180263.76\n",
      "Iteration 490 : Loss 180125.77\n",
      "Iteration 492 : Loss 179987.90\n",
      "Iteration 494 : Loss 179850.13\n",
      "Iteration 496 : Loss 179712.48\n",
      "Iteration 498 : Loss 179574.93\n",
      "Iteration 500 : Loss 179437.49\n",
      "Iteration 502 : Loss 179300.16\n",
      "Iteration 504 : Loss 179162.94\n",
      "Iteration 506 : Loss 179025.83\n",
      "Iteration 508 : Loss 178888.83\n",
      "Iteration 510 : Loss 178751.94\n",
      "Iteration 512 : Loss 178615.15\n",
      "Iteration 514 : Loss 178478.47\n",
      "Iteration 516 : Loss 178341.90\n",
      "Iteration 518 : Loss 178205.44\n",
      "Iteration 520 : Loss 178069.09\n",
      "Iteration 522 : Loss 177932.85\n",
      "Iteration 524 : Loss 177796.71\n",
      "Iteration 526 : Loss 177660.68\n",
      "Iteration 528 : Loss 177524.76\n",
      "Iteration 530 : Loss 177388.95\n",
      "Iteration 532 : Loss 177253.25\n",
      "Iteration 534 : Loss 177117.65\n",
      "Iteration 536 : Loss 176982.16\n",
      "Iteration 538 : Loss 176846.78\n",
      "Iteration 540 : Loss 176711.50\n",
      "Iteration 542 : Loss 176576.34\n",
      "Iteration 544 : Loss 176441.28\n",
      "Iteration 546 : Loss 176306.32\n",
      "Iteration 548 : Loss 176171.48\n",
      "Iteration 550 : Loss 176036.74\n",
      "Iteration 552 : Loss 175902.10\n",
      "Iteration 554 : Loss 175767.58\n",
      "Iteration 556 : Loss 175633.16\n",
      "Iteration 558 : Loss 175498.85\n",
      "Iteration 560 : Loss 175364.64\n",
      "Iteration 562 : Loss 175230.54\n",
      "Iteration 564 : Loss 175096.55\n",
      "Iteration 566 : Loss 174962.66\n",
      "Iteration 568 : Loss 174828.88\n",
      "Iteration 570 : Loss 174695.20\n",
      "Iteration 572 : Loss 174561.63\n",
      "Iteration 574 : Loss 174428.17\n",
      "Iteration 576 : Loss 174294.81\n",
      "Iteration 578 : Loss 174161.56\n",
      "Iteration 580 : Loss 174028.41\n",
      "Iteration 582 : Loss 173895.37\n",
      "Iteration 584 : Loss 173762.44\n",
      "Iteration 586 : Loss 173629.61\n",
      "Iteration 588 : Loss 173496.88\n",
      "Iteration 590 : Loss 173364.26\n",
      "Iteration 592 : Loss 173231.75\n",
      "Iteration 594 : Loss 173099.34\n",
      "Iteration 596 : Loss 172967.04\n",
      "Iteration 598 : Loss 172834.84\n",
      "Iteration 600 : Loss 172702.74\n",
      "Iteration 602 : Loss 172570.75\n",
      "Iteration 604 : Loss 172438.87\n",
      "Iteration 606 : Loss 172307.09\n",
      "Iteration 608 : Loss 172175.41\n",
      "Iteration 610 : Loss 172043.84\n",
      "Iteration 612 : Loss 171912.37\n",
      "Iteration 614 : Loss 171781.01\n",
      "Iteration 616 : Loss 171649.75\n",
      "Iteration 618 : Loss 171518.59\n",
      "Iteration 620 : Loss 171387.54\n",
      "Iteration 622 : Loss 171256.59\n",
      "Iteration 624 : Loss 171125.75\n",
      "Iteration 626 : Loss 170995.01\n",
      "Iteration 628 : Loss 170864.38\n",
      "Iteration 630 : Loss 170733.84\n",
      "Iteration 632 : Loss 170603.41\n",
      "Iteration 634 : Loss 170473.09\n",
      "Iteration 636 : Loss 170342.86\n",
      "Iteration 638 : Loss 170212.75\n",
      "Iteration 640 : Loss 170082.73\n",
      "Iteration 642 : Loss 169952.82\n",
      "Iteration 644 : Loss 169823.01\n",
      "Iteration 646 : Loss 169693.30\n",
      "Iteration 648 : Loss 169563.69\n",
      "Iteration 650 : Loss 169434.19\n",
      "Iteration 652 : Loss 169304.79\n",
      "Iteration 654 : Loss 169175.50\n",
      "Iteration 656 : Loss 169046.30\n",
      "Iteration 658 : Loss 168917.21\n",
      "Iteration 660 : Loss 168788.22\n",
      "Iteration 662 : Loss 168659.33\n",
      "Iteration 664 : Loss 168530.55\n",
      "Iteration 666 : Loss 168401.87\n",
      "Iteration 668 : Loss 168273.29\n",
      "Iteration 670 : Loss 168144.81\n",
      "Iteration 672 : Loss 168016.43\n",
      "Iteration 674 : Loss 167888.15\n",
      "Iteration 676 : Loss 167759.98\n",
      "Iteration 678 : Loss 167631.91\n",
      "Iteration 680 : Loss 167503.94\n",
      "Iteration 682 : Loss 167376.07\n",
      "Iteration 684 : Loss 167248.30\n",
      "Iteration 686 : Loss 167120.63\n",
      "Iteration 688 : Loss 166993.07\n",
      "Iteration 690 : Loss 166865.60\n",
      "Iteration 692 : Loss 166738.24\n",
      "Iteration 694 : Loss 166610.98\n",
      "Iteration 696 : Loss 166483.82\n",
      "Iteration 698 : Loss 166356.75\n",
      "Iteration 700 : Loss 166229.79\n",
      "Iteration 702 : Loss 166102.94\n",
      "Iteration 704 : Loss 165976.18\n",
      "Iteration 706 : Loss 165849.52\n",
      "Iteration 708 : Loss 165722.96\n",
      "Iteration 710 : Loss 165596.50\n",
      "Iteration 712 : Loss 165470.14\n",
      "Iteration 714 : Loss 165343.89\n",
      "Iteration 716 : Loss 165217.73\n",
      "Iteration 718 : Loss 165091.67\n",
      "Iteration 720 : Loss 164965.71\n",
      "Iteration 722 : Loss 164839.86\n",
      "Iteration 724 : Loss 164714.10\n",
      "Iteration 726 : Loss 164588.44\n",
      "Iteration 728 : Loss 164462.88\n",
      "Iteration 730 : Loss 164337.42\n",
      "Iteration 732 : Loss 164212.06\n",
      "Iteration 734 : Loss 164086.80\n",
      "Iteration 736 : Loss 163961.64\n",
      "Iteration 738 : Loss 163836.58\n",
      "Iteration 740 : Loss 163711.61\n",
      "Iteration 742 : Loss 163586.75\n",
      "Iteration 744 : Loss 163461.98\n",
      "Iteration 746 : Loss 163337.32\n",
      "Iteration 748 : Loss 163212.75\n",
      "Iteration 750 : Loss 163088.28\n",
      "Iteration 752 : Loss 162963.91\n",
      "Iteration 754 : Loss 162839.64\n",
      "Iteration 756 : Loss 162715.47\n",
      "Iteration 758 : Loss 162591.39\n",
      "Iteration 760 : Loss 162467.42\n",
      "Iteration 762 : Loss 162343.54\n",
      "Iteration 764 : Loss 162219.76\n",
      "Iteration 766 : Loss 162096.08\n",
      "Iteration 768 : Loss 161972.49\n",
      "Iteration 770 : Loss 161849.01\n",
      "Iteration 772 : Loss 161725.62\n",
      "Iteration 774 : Loss 161602.33\n",
      "Iteration 776 : Loss 161479.14\n",
      "Iteration 778 : Loss 161356.04\n",
      "Iteration 780 : Loss 161233.04\n",
      "Iteration 782 : Loss 161110.14\n",
      "Iteration 784 : Loss 160987.34\n",
      "Iteration 786 : Loss 160864.64\n",
      "Iteration 788 : Loss 160742.03\n",
      "Iteration 790 : Loss 160619.52\n",
      "Iteration 792 : Loss 160497.10\n",
      "Iteration 794 : Loss 160374.79\n",
      "Iteration 796 : Loss 160252.56\n",
      "Iteration 798 : Loss 160130.44\n",
      "Iteration 800 : Loss 160008.42\n",
      "Iteration 802 : Loss 159886.49\n",
      "Iteration 804 : Loss 159764.65\n",
      "Iteration 806 : Loss 159642.92\n",
      "Iteration 808 : Loss 159521.28\n",
      "Iteration 810 : Loss 159399.73\n",
      "Iteration 812 : Loss 159278.28\n",
      "Iteration 814 : Loss 159156.93\n",
      "Iteration 816 : Loss 159035.68\n",
      "Iteration 818 : Loss 158914.52\n",
      "Iteration 820 : Loss 158793.46\n",
      "Iteration 822 : Loss 158672.49\n",
      "Iteration 824 : Loss 158551.62\n",
      "Iteration 826 : Loss 158430.84\n",
      "Iteration 828 : Loss 158310.16\n",
      "Iteration 830 : Loss 158189.58\n",
      "Iteration 832 : Loss 158069.09\n",
      "Iteration 834 : Loss 157948.70\n",
      "Iteration 836 : Loss 157828.40\n",
      "Iteration 838 : Loss 157708.19\n",
      "Iteration 840 : Loss 157588.09\n",
      "Iteration 842 : Loss 157468.08\n",
      "Iteration 844 : Loss 157348.16\n",
      "Iteration 846 : Loss 157228.34\n",
      "Iteration 848 : Loss 157108.61\n",
      "Iteration 850 : Loss 156988.98\n",
      "Iteration 852 : Loss 156869.44\n",
      "Iteration 854 : Loss 156750.00\n",
      "Iteration 856 : Loss 156630.65\n",
      "Iteration 858 : Loss 156511.39\n",
      "Iteration 860 : Loss 156392.23\n",
      "Iteration 862 : Loss 156273.17\n",
      "Iteration 864 : Loss 156154.20\n",
      "Iteration 866 : Loss 156035.32\n",
      "Iteration 868 : Loss 155916.54\n",
      "Iteration 870 : Loss 155797.85\n",
      "Iteration 872 : Loss 155679.26\n",
      "Iteration 874 : Loss 155560.76\n",
      "Iteration 876 : Loss 155442.35\n",
      "Iteration 878 : Loss 155324.04\n",
      "Iteration 880 : Loss 155205.82\n",
      "Iteration 882 : Loss 155087.70\n",
      "Iteration 884 : Loss 154969.66\n",
      "Iteration 886 : Loss 154851.73\n",
      "Iteration 888 : Loss 154733.88\n",
      "Iteration 890 : Loss 154616.13\n",
      "Iteration 892 : Loss 154498.47\n",
      "Iteration 894 : Loss 154380.91\n",
      "Iteration 896 : Loss 154263.44\n",
      "Iteration 898 : Loss 154146.06\n",
      "Iteration 900 : Loss 154028.77\n",
      "Iteration 902 : Loss 153911.58\n",
      "Iteration 904 : Loss 153794.48\n",
      "Iteration 906 : Loss 153677.47\n",
      "Iteration 908 : Loss 153560.56\n",
      "Iteration 910 : Loss 153443.74\n",
      "Iteration 912 : Loss 153327.01\n",
      "Iteration 914 : Loss 153210.37\n",
      "Iteration 916 : Loss 153093.83\n",
      "Iteration 918 : Loss 152977.37\n",
      "Iteration 920 : Loss 152861.01\n",
      "Iteration 922 : Loss 152744.75\n",
      "Iteration 924 : Loss 152628.57\n",
      "Iteration 926 : Loss 152512.49\n",
      "Iteration 928 : Loss 152396.50\n",
      "Iteration 930 : Loss 152280.60\n",
      "Iteration 932 : Loss 152164.79\n",
      "Iteration 934 : Loss 152049.07\n",
      "Iteration 936 : Loss 151933.45\n",
      "Iteration 938 : Loss 151817.91\n",
      "Iteration 940 : Loss 151702.47\n",
      "Iteration 942 : Loss 151587.12\n",
      "Iteration 944 : Loss 151471.86\n",
      "Iteration 946 : Loss 151356.70\n",
      "Iteration 948 : Loss 151241.62\n",
      "Iteration 950 : Loss 151126.64\n",
      "Iteration 952 : Loss 151011.74\n",
      "Iteration 954 : Loss 150896.94\n",
      "Iteration 956 : Loss 150782.23\n",
      "Iteration 958 : Loss 150667.61\n",
      "Iteration 960 : Loss 150553.07\n",
      "Iteration 962 : Loss 150438.64\n",
      "Iteration 964 : Loss 150324.29\n",
      "Iteration 966 : Loss 150210.03\n",
      "Iteration 968 : Loss 150095.86\n",
      "Iteration 970 : Loss 149981.78\n",
      "Iteration 972 : Loss 149867.79\n",
      "Iteration 974 : Loss 149753.90\n",
      "Iteration 976 : Loss 149640.09\n",
      "Iteration 978 : Loss 149526.37\n",
      "Iteration 980 : Loss 149412.75\n",
      "Iteration 982 : Loss 149299.21\n",
      "Iteration 984 : Loss 149185.76\n",
      "Iteration 986 : Loss 149072.41\n",
      "Iteration 988 : Loss 148959.14\n",
      "Iteration 990 : Loss 148845.96\n",
      "Iteration 992 : Loss 148732.88\n",
      "Iteration 994 : Loss 148619.88\n",
      "Iteration 996 : Loss 148506.97\n",
      "Iteration 998 : Loss 148394.15\n"
     ]
    }
   ],
   "source": [
    "# 손실함수값이 반복횟수별로 얼마인지 저장할 리스트\n",
    "losses = []\n",
    "\n",
    "for i in range(1, 1000):\n",
    "    dw, db = gradient(x, w, b, y)\n",
    "    w -= learning_rate * dw\n",
    "    b -= learning_rate * db\n",
    "    l = loss(x, w, b, y)\n",
    "    losses.append(l)\n",
    "    \n",
    "    if i % 2 == 0:\n",
    "        print('Iteration %d : Loss %0.2f' % (i, l))"
   ]
  },
  {
   "cell_type": "markdown",
   "id": "bdc356f4",
   "metadata": {},
   "source": [
    "loss값이 반복을 할수록 조금씩 값이 떨어지는걸 확인할 수 있었다.<br/>\n",
    "학습이 성공적으로 이루어지는 것을 확인했으므로, 모델에 직접 적용해보고자 한다."
   ]
  },
  {
   "cell_type": "markdown",
   "id": "ec0e152b",
   "metadata": {},
   "source": [
    "## (9) 모델 학습하기\n",
    "<hr/>"
   ]
  },
  {
   "cell_type": "markdown",
   "id": "ee937d0c",
   "metadata": {},
   "source": [
    "### 정의된 손실함수와 기울기 함수로 모델을 학습하기"
   ]
  },
  {
   "cell_type": "code",
   "execution_count": 102,
   "id": "4f7c60c2",
   "metadata": {},
   "outputs": [],
   "source": [
    "# 훈련 데이터 loss값 구하기\n",
    "train_prediction = model(x_train, w, b)\n",
    "train_mse = loss(x_train, w, b, y_train)"
   ]
  },
  {
   "cell_type": "code",
   "execution_count": 103,
   "id": "cf44304d",
   "metadata": {},
   "outputs": [
    {
     "data": {
      "text/plain": [
       "3265.879331904626"
      ]
     },
     "execution_count": 103,
     "metadata": {},
     "output_type": "execute_result"
    }
   ],
   "source": [
    "# 훈련 데이터의 loss값\n",
    "train_mse"
   ]
  },
  {
   "cell_type": "code",
   "execution_count": 104,
   "id": "15e4bf9d",
   "metadata": {},
   "outputs": [],
   "source": [
    "# 경사 계산해보기\n",
    "w, b = gradient(x_train, dw, db, y_train)"
   ]
  },
  {
   "cell_type": "code",
   "execution_count": 105,
   "id": "72020866",
   "metadata": {},
   "outputs": [
    {
     "data": {
      "text/plain": [
       "array([-220.68760466, -164.43605633,  -57.85104355,  -39.22361329,\n",
       "        137.52223296, -144.57773636, -198.78332619, -155.65743382])"
      ]
     },
     "execution_count": 105,
     "metadata": {},
     "output_type": "execute_result"
    }
   ],
   "source": [
    "w"
   ]
  },
  {
   "cell_type": "code",
   "execution_count": 106,
   "id": "64b30956",
   "metadata": {},
   "outputs": [
    {
     "data": {
      "text/plain": [
       "-307.603350213334"
      ]
     },
     "execution_count": 106,
     "metadata": {},
     "output_type": "execute_result"
    }
   ],
   "source": [
    "b"
   ]
  },
  {
   "cell_type": "code",
   "execution_count": 107,
   "id": "7e6dd0e1",
   "metadata": {},
   "outputs": [],
   "source": [
    "# 임의로 learning rate 지정하기\n",
    "learning_rate = 0.1"
   ]
  },
  {
   "cell_type": "code",
   "execution_count": 108,
   "id": "ec9a3ed2",
   "metadata": {},
   "outputs": [
    {
     "name": "stdout",
     "output_type": "stream",
     "text": [
      "Iteration 10 : Loss 7628.89\n",
      "Iteration 20 : Loss 3915.56\n",
      "Iteration 30 : Loss 3471.74\n",
      "Iteration 40 : Loss 3290.34\n",
      "Iteration 50 : Loss 3192.54\n",
      "Iteration 60 : Loss 3133.16\n",
      "Iteration 70 : Loss 3094.87\n",
      "Iteration 80 : Loss 3069.26\n",
      "Iteration 90 : Loss 3051.63\n",
      "Iteration 100 : Loss 3039.18\n",
      "Iteration 110 : Loss 3030.19\n",
      "Iteration 120 : Loss 3023.57\n",
      "Iteration 130 : Loss 3018.60\n",
      "Iteration 140 : Loss 3014.80\n",
      "Iteration 150 : Loss 3011.88\n",
      "Iteration 160 : Loss 3009.59\n",
      "Iteration 170 : Loss 3007.78\n",
      "Iteration 180 : Loss 3006.35\n",
      "Iteration 190 : Loss 3005.19\n",
      "Iteration 200 : Loss 3004.26\n",
      "Iteration 210 : Loss 3003.50\n",
      "Iteration 220 : Loss 3002.88\n",
      "Iteration 230 : Loss 3002.36\n",
      "Iteration 240 : Loss 3001.93\n",
      "Iteration 250 : Loss 3001.56\n",
      "Iteration 260 : Loss 3001.25\n",
      "Iteration 270 : Loss 3000.98\n",
      "Iteration 280 : Loss 3000.74\n",
      "Iteration 290 : Loss 3000.53\n",
      "Iteration 300 : Loss 3000.34\n",
      "Iteration 310 : Loss 3000.17\n",
      "Iteration 320 : Loss 3000.01\n",
      "Iteration 330 : Loss 2999.87\n",
      "Iteration 340 : Loss 2999.73\n",
      "Iteration 350 : Loss 2999.60\n",
      "Iteration 360 : Loss 2999.48\n",
      "Iteration 370 : Loss 2999.36\n",
      "Iteration 380 : Loss 2999.25\n",
      "Iteration 390 : Loss 2999.14\n",
      "Iteration 400 : Loss 2999.03\n",
      "Iteration 410 : Loss 2998.92\n",
      "Iteration 420 : Loss 2998.82\n",
      "Iteration 430 : Loss 2998.72\n",
      "Iteration 440 : Loss 2998.61\n",
      "Iteration 450 : Loss 2998.51\n",
      "Iteration 460 : Loss 2998.42\n",
      "Iteration 470 : Loss 2998.32\n",
      "Iteration 480 : Loss 2998.22\n",
      "Iteration 490 : Loss 2998.12\n",
      "Iteration 500 : Loss 2998.03\n",
      "Iteration 510 : Loss 2997.93\n",
      "Iteration 520 : Loss 2997.84\n",
      "Iteration 530 : Loss 2997.74\n",
      "Iteration 540 : Loss 2997.65\n",
      "Iteration 550 : Loss 2997.56\n",
      "Iteration 560 : Loss 2997.46\n",
      "Iteration 570 : Loss 2997.37\n",
      "Iteration 580 : Loss 2997.28\n",
      "Iteration 590 : Loss 2997.19\n",
      "Iteration 600 : Loss 2997.10\n",
      "Iteration 610 : Loss 2997.01\n",
      "Iteration 620 : Loss 2996.92\n",
      "Iteration 630 : Loss 2996.83\n",
      "Iteration 640 : Loss 2996.74\n",
      "Iteration 650 : Loss 2996.65\n",
      "Iteration 660 : Loss 2996.56\n",
      "Iteration 670 : Loss 2996.47\n",
      "Iteration 680 : Loss 2996.38\n",
      "Iteration 690 : Loss 2996.30\n",
      "Iteration 700 : Loss 2996.21\n",
      "Iteration 710 : Loss 2996.12\n",
      "Iteration 720 : Loss 2996.03\n",
      "Iteration 730 : Loss 2995.95\n",
      "Iteration 740 : Loss 2995.86\n",
      "Iteration 750 : Loss 2995.78\n",
      "Iteration 760 : Loss 2995.69\n",
      "Iteration 770 : Loss 2995.61\n",
      "Iteration 780 : Loss 2995.52\n",
      "Iteration 790 : Loss 2995.44\n",
      "Iteration 800 : Loss 2995.36\n",
      "Iteration 810 : Loss 2995.27\n",
      "Iteration 820 : Loss 2995.19\n",
      "Iteration 830 : Loss 2995.11\n",
      "Iteration 840 : Loss 2995.02\n",
      "Iteration 850 : Loss 2994.94\n",
      "Iteration 860 : Loss 2994.86\n",
      "Iteration 870 : Loss 2994.78\n",
      "Iteration 880 : Loss 2994.70\n",
      "Iteration 890 : Loss 2994.62\n",
      "Iteration 900 : Loss 2994.54\n",
      "Iteration 910 : Loss 2994.46\n",
      "Iteration 920 : Loss 2994.38\n",
      "Iteration 930 : Loss 2994.30\n",
      "Iteration 940 : Loss 2994.22\n",
      "Iteration 950 : Loss 2994.14\n",
      "Iteration 960 : Loss 2994.06\n",
      "Iteration 970 : Loss 2993.98\n",
      "Iteration 980 : Loss 2993.90\n",
      "Iteration 990 : Loss 2993.83\n",
      "Iteration 1000 : Loss 2993.75\n",
      "Iteration 1010 : Loss 2993.67\n",
      "Iteration 1020 : Loss 2993.60\n",
      "Iteration 1030 : Loss 2993.52\n",
      "Iteration 1040 : Loss 2993.44\n",
      "Iteration 1050 : Loss 2993.37\n",
      "Iteration 1060 : Loss 2993.29\n",
      "Iteration 1070 : Loss 2993.22\n",
      "Iteration 1080 : Loss 2993.14\n",
      "Iteration 1090 : Loss 2993.07\n",
      "Iteration 1100 : Loss 2992.99\n",
      "Iteration 1110 : Loss 2992.92\n",
      "Iteration 1120 : Loss 2992.84\n",
      "Iteration 1130 : Loss 2992.77\n",
      "Iteration 1140 : Loss 2992.70\n",
      "Iteration 1150 : Loss 2992.62\n",
      "Iteration 1160 : Loss 2992.55\n",
      "Iteration 1170 : Loss 2992.48\n",
      "Iteration 1180 : Loss 2992.41\n",
      "Iteration 1190 : Loss 2992.34\n",
      "Iteration 1200 : Loss 2992.26\n",
      "Iteration 1210 : Loss 2992.19\n",
      "Iteration 1220 : Loss 2992.12\n",
      "Iteration 1230 : Loss 2992.05\n",
      "Iteration 1240 : Loss 2991.98\n",
      "Iteration 1250 : Loss 2991.91\n",
      "Iteration 1260 : Loss 2991.84\n",
      "Iteration 1270 : Loss 2991.77\n",
      "Iteration 1280 : Loss 2991.70\n",
      "Iteration 1290 : Loss 2991.63\n",
      "Iteration 1300 : Loss 2991.56\n",
      "Iteration 1310 : Loss 2991.49\n",
      "Iteration 1320 : Loss 2991.43\n",
      "Iteration 1330 : Loss 2991.36\n",
      "Iteration 1340 : Loss 2991.29\n",
      "Iteration 1350 : Loss 2991.22\n",
      "Iteration 1360 : Loss 2991.15\n",
      "Iteration 1370 : Loss 2991.09\n",
      "Iteration 1380 : Loss 2991.02\n",
      "Iteration 1390 : Loss 2990.95\n",
      "Iteration 1400 : Loss 2990.89\n",
      "Iteration 1410 : Loss 2990.82\n",
      "Iteration 1420 : Loss 2990.76\n",
      "Iteration 1430 : Loss 2990.69\n",
      "Iteration 1440 : Loss 2990.62\n",
      "Iteration 1450 : Loss 2990.56\n",
      "Iteration 1460 : Loss 2990.49\n",
      "Iteration 1470 : Loss 2990.43\n",
      "Iteration 1480 : Loss 2990.37\n",
      "Iteration 1490 : Loss 2990.30\n",
      "Iteration 1500 : Loss 2990.24\n",
      "Iteration 1510 : Loss 2990.17\n",
      "Iteration 1520 : Loss 2990.11\n",
      "Iteration 1530 : Loss 2990.05\n",
      "Iteration 1540 : Loss 2989.98\n",
      "Iteration 1550 : Loss 2989.92\n",
      "Iteration 1560 : Loss 2989.86\n",
      "Iteration 1570 : Loss 2989.80\n",
      "Iteration 1580 : Loss 2989.73\n",
      "Iteration 1590 : Loss 2989.67\n",
      "Iteration 1600 : Loss 2989.61\n",
      "Iteration 1610 : Loss 2989.55\n",
      "Iteration 1620 : Loss 2989.49\n",
      "Iteration 1630 : Loss 2989.43\n",
      "Iteration 1640 : Loss 2989.37\n",
      "Iteration 1650 : Loss 2989.31\n",
      "Iteration 1660 : Loss 2989.25\n",
      "Iteration 1670 : Loss 2989.19\n",
      "Iteration 1680 : Loss 2989.13\n",
      "Iteration 1690 : Loss 2989.07\n",
      "Iteration 1700 : Loss 2989.01\n",
      "Iteration 1710 : Loss 2988.95\n",
      "Iteration 1720 : Loss 2988.89\n",
      "Iteration 1730 : Loss 2988.83\n",
      "Iteration 1740 : Loss 2988.77\n",
      "Iteration 1750 : Loss 2988.71\n",
      "Iteration 1760 : Loss 2988.66\n",
      "Iteration 1770 : Loss 2988.60\n",
      "Iteration 1780 : Loss 2988.54\n",
      "Iteration 1790 : Loss 2988.48\n",
      "Iteration 1800 : Loss 2988.43\n",
      "Iteration 1810 : Loss 2988.37\n",
      "Iteration 1820 : Loss 2988.31\n",
      "Iteration 1830 : Loss 2988.26\n",
      "Iteration 1840 : Loss 2988.20\n",
      "Iteration 1850 : Loss 2988.14\n",
      "Iteration 1860 : Loss 2988.09\n",
      "Iteration 1870 : Loss 2988.03\n",
      "Iteration 1880 : Loss 2987.98\n",
      "Iteration 1890 : Loss 2987.92\n",
      "Iteration 1900 : Loss 2987.87\n",
      "Iteration 1910 : Loss 2987.81\n",
      "Iteration 1920 : Loss 2987.76\n",
      "Iteration 1930 : Loss 2987.70\n",
      "Iteration 1940 : Loss 2987.65\n",
      "Iteration 1950 : Loss 2987.59\n",
      "Iteration 1960 : Loss 2987.54\n",
      "Iteration 1970 : Loss 2987.49\n",
      "Iteration 1980 : Loss 2987.43\n",
      "Iteration 1990 : Loss 2987.38\n",
      "Iteration 2000 : Loss 2987.33\n",
      "Iteration 2010 : Loss 2987.27\n",
      "Iteration 2020 : Loss 2987.22\n",
      "Iteration 2030 : Loss 2987.17\n",
      "Iteration 2040 : Loss 2987.12\n",
      "Iteration 2050 : Loss 2987.06\n",
      "Iteration 2060 : Loss 2987.01\n",
      "Iteration 2070 : Loss 2986.96\n",
      "Iteration 2080 : Loss 2986.91\n",
      "Iteration 2090 : Loss 2986.86\n",
      "Iteration 2100 : Loss 2986.81\n",
      "Iteration 2110 : Loss 2986.76\n",
      "Iteration 2120 : Loss 2986.70\n",
      "Iteration 2130 : Loss 2986.65\n",
      "Iteration 2140 : Loss 2986.60\n",
      "Iteration 2150 : Loss 2986.55\n",
      "Iteration 2160 : Loss 2986.50\n",
      "Iteration 2170 : Loss 2986.45\n",
      "Iteration 2180 : Loss 2986.40\n",
      "Iteration 2190 : Loss 2986.35\n",
      "Iteration 2200 : Loss 2986.31\n",
      "Iteration 2210 : Loss 2986.26\n",
      "Iteration 2220 : Loss 2986.21\n",
      "Iteration 2230 : Loss 2986.16\n",
      "Iteration 2240 : Loss 2986.11\n",
      "Iteration 2250 : Loss 2986.06\n",
      "Iteration 2260 : Loss 2986.01\n",
      "Iteration 2270 : Loss 2985.97\n",
      "Iteration 2280 : Loss 2985.92\n",
      "Iteration 2290 : Loss 2985.87\n",
      "Iteration 2300 : Loss 2985.82\n",
      "Iteration 2310 : Loss 2985.78\n",
      "Iteration 2320 : Loss 2985.73\n",
      "Iteration 2330 : Loss 2985.68\n",
      "Iteration 2340 : Loss 2985.63\n",
      "Iteration 2350 : Loss 2985.59\n",
      "Iteration 2360 : Loss 2985.54\n",
      "Iteration 2370 : Loss 2985.50\n",
      "Iteration 2380 : Loss 2985.45\n",
      "Iteration 2390 : Loss 2985.40\n",
      "Iteration 2400 : Loss 2985.36\n",
      "Iteration 2410 : Loss 2985.31\n",
      "Iteration 2420 : Loss 2985.27\n",
      "Iteration 2430 : Loss 2985.22\n",
      "Iteration 2440 : Loss 2985.18\n",
      "Iteration 2450 : Loss 2985.13\n",
      "Iteration 2460 : Loss 2985.09\n",
      "Iteration 2470 : Loss 2985.04\n",
      "Iteration 2480 : Loss 2985.00\n",
      "Iteration 2490 : Loss 2984.95\n",
      "Iteration 2500 : Loss 2984.91\n",
      "Iteration 2510 : Loss 2984.87\n",
      "Iteration 2520 : Loss 2984.82\n",
      "Iteration 2530 : Loss 2984.78\n",
      "Iteration 2540 : Loss 2984.73\n",
      "Iteration 2550 : Loss 2984.69\n",
      "Iteration 2560 : Loss 2984.65\n",
      "Iteration 2570 : Loss 2984.61\n",
      "Iteration 2580 : Loss 2984.56\n",
      "Iteration 2590 : Loss 2984.52\n",
      "Iteration 2600 : Loss 2984.48\n",
      "Iteration 2610 : Loss 2984.43\n",
      "Iteration 2620 : Loss 2984.39\n",
      "Iteration 2630 : Loss 2984.35\n",
      "Iteration 2640 : Loss 2984.31\n",
      "Iteration 2650 : Loss 2984.27\n",
      "Iteration 2660 : Loss 2984.23\n",
      "Iteration 2670 : Loss 2984.18\n",
      "Iteration 2680 : Loss 2984.14\n",
      "Iteration 2690 : Loss 2984.10\n",
      "Iteration 2700 : Loss 2984.06\n",
      "Iteration 2710 : Loss 2984.02\n",
      "Iteration 2720 : Loss 2983.98\n",
      "Iteration 2730 : Loss 2983.94\n",
      "Iteration 2740 : Loss 2983.90\n",
      "Iteration 2750 : Loss 2983.86\n",
      "Iteration 2760 : Loss 2983.82\n",
      "Iteration 2770 : Loss 2983.78\n",
      "Iteration 2780 : Loss 2983.74\n",
      "Iteration 2790 : Loss 2983.70\n",
      "Iteration 2800 : Loss 2983.66\n",
      "Iteration 2810 : Loss 2983.62\n",
      "Iteration 2820 : Loss 2983.58\n",
      "Iteration 2830 : Loss 2983.54\n",
      "Iteration 2840 : Loss 2983.50\n",
      "Iteration 2850 : Loss 2983.46\n",
      "Iteration 2860 : Loss 2983.43\n",
      "Iteration 2870 : Loss 2983.39\n",
      "Iteration 2880 : Loss 2983.35\n",
      "Iteration 2890 : Loss 2983.31\n",
      "Iteration 2900 : Loss 2983.27\n",
      "Iteration 2910 : Loss 2983.24\n",
      "Iteration 2920 : Loss 2983.20\n",
      "Iteration 2930 : Loss 2983.16\n",
      "Iteration 2940 : Loss 2983.12\n",
      "Iteration 2950 : Loss 2983.09\n",
      "Iteration 2960 : Loss 2983.05\n",
      "Iteration 2970 : Loss 2983.01\n",
      "Iteration 2980 : Loss 2982.97\n",
      "Iteration 2990 : Loss 2982.94\n"
     ]
    }
   ],
   "source": [
    "# 모델 학습시키기\n",
    "losses = []\n",
    "for i in range(1, 3000):\n",
    "    dw, db = gradient(x_train, w, b, y_train)\n",
    "    w -= learning_rate * dw\n",
    "    b -= learning_rate * db\n",
    "    l = loss(x_train, w, b, y_train)\n",
    "    losses.append(l)\n",
    "    \n",
    "    if i % 10 == 0:\n",
    "        print('Iteration %d : Loss %0.2f' % (i, l))"
   ]
  },
  {
   "cell_type": "markdown",
   "id": "8de73fa4",
   "metadata": {},
   "source": [
    "`learning rate`를 `0.1로` 설정을 한 뒤 `훈련`을 `200`번 반복하니, loss값이 3000미만으로 줄은 것을 확인할 수 있었다."
   ]
  },
  {
   "cell_type": "markdown",
   "id": "dc55aff9",
   "metadata": {},
   "source": [
    "<div style = \"height: 15px;\"><div/>"
   ]
  },
  {
   "cell_type": "markdown",
   "id": "bc1e12fd",
   "metadata": {},
   "source": [
    "### 훈련 데이터의 예측값과 실제값 비교하기"
   ]
  },
  {
   "cell_type": "code",
   "execution_count": 109,
   "id": "81c48c09",
   "metadata": {},
   "outputs": [
    {
     "data": {
      "image/png": "[encoded data removed]",
      "text/plain": [
       "<Figure size 432x288 with 1 Axes>"
      ]
     },
     "metadata": {
      "needs_background": "light"
     },
     "output_type": "display_data"
    }
   ],
   "source": [
    "plt.scatter(x_train[:, 0], y_train)\n",
    "plt.scatter(x_train[:, 0], train_prediction)\n",
    "plt.xlabel('x_train')\n",
    "plt.ylabel('target & H(x)')\n",
    "plt.show()"
   ]
  },
  {
   "cell_type": "markdown",
   "id": "d1540ae6",
   "metadata": {},
   "source": [
    "<div style = \"height: 15px;\"><div/>"
   ]
  },
  {
   "cell_type": "markdown",
   "id": "5802dff3",
   "metadata": {},
   "source": [
    "### 데이터의 상관 관계 확인해보기"
   ]
  },
  {
   "cell_type": "code",
   "execution_count": 44,
   "id": "d7559d35",
   "metadata": {
    "scrolled": true
   },
   "outputs": [],
   "source": [
    "diabetes_df['target'] = diabetes.target"
   ]
  },
  {
   "cell_type": "code",
   "execution_count": 45,
   "id": "af2a7c7a",
   "metadata": {},
   "outputs": [
    {
     "data": {
      "text/html": [
       "<div>\n",
       "<style scoped>\n",
       "    .dataframe tbody tr th:only-of-type {\n",
       "        vertical-align: middle;\n",
       "    }\n",
       "\n",
       "    .dataframe tbody tr th {\n",
       "        vertical-align: top;\n",
       "    }\n",
       "\n",
       "    .dataframe thead th {\n",
       "        text-align: right;\n",
       "    }\n",
       "</style>\n",
       "<table border=\"1\" class=\"dataframe\">\n",
       "  <thead>\n",
       "    <tr style=\"text-align: right;\">\n",
       "      <th></th>\n",
       "      <th>age</th>\n",
       "      <th>sex</th>\n",
       "      <th>bmi</th>\n",
       "      <th>bp</th>\n",
       "      <th>s1</th>\n",
       "      <th>s2</th>\n",
       "      <th>s3</th>\n",
       "      <th>s4</th>\n",
       "      <th>s5</th>\n",
       "      <th>s6</th>\n",
       "      <th>target</th>\n",
       "    </tr>\n",
       "  </thead>\n",
       "  <tbody>\n",
       "    <tr>\n",
       "      <th>0</th>\n",
       "      <td>0.038076</td>\n",
       "      <td>0.050680</td>\n",
       "      <td>0.061696</td>\n",
       "      <td>0.021872</td>\n",
       "      <td>-0.044223</td>\n",
       "      <td>-0.034821</td>\n",
       "      <td>-0.043401</td>\n",
       "      <td>-0.002592</td>\n",
       "      <td>0.019908</td>\n",
       "      <td>-0.017646</td>\n",
       "      <td>151.0</td>\n",
       "    </tr>\n",
       "    <tr>\n",
       "      <th>1</th>\n",
       "      <td>-0.001882</td>\n",
       "      <td>-0.044642</td>\n",
       "      <td>-0.051474</td>\n",
       "      <td>-0.026328</td>\n",
       "      <td>-0.008449</td>\n",
       "      <td>-0.019163</td>\n",
       "      <td>0.074412</td>\n",
       "      <td>-0.039493</td>\n",
       "      <td>-0.068330</td>\n",
       "      <td>-0.092204</td>\n",
       "      <td>75.0</td>\n",
       "    </tr>\n",
       "    <tr>\n",
       "      <th>2</th>\n",
       "      <td>0.085299</td>\n",
       "      <td>0.050680</td>\n",
       "      <td>0.044451</td>\n",
       "      <td>-0.005671</td>\n",
       "      <td>-0.045599</td>\n",
       "      <td>-0.034194</td>\n",
       "      <td>-0.032356</td>\n",
       "      <td>-0.002592</td>\n",
       "      <td>0.002864</td>\n",
       "      <td>-0.025930</td>\n",
       "      <td>141.0</td>\n",
       "    </tr>\n",
       "    <tr>\n",
       "      <th>3</th>\n",
       "      <td>-0.089063</td>\n",
       "      <td>-0.044642</td>\n",
       "      <td>-0.011595</td>\n",
       "      <td>-0.036656</td>\n",
       "      <td>0.012191</td>\n",
       "      <td>0.024991</td>\n",
       "      <td>-0.036038</td>\n",
       "      <td>0.034309</td>\n",
       "      <td>0.022692</td>\n",
       "      <td>-0.009362</td>\n",
       "      <td>206.0</td>\n",
       "    </tr>\n",
       "    <tr>\n",
       "      <th>4</th>\n",
       "      <td>0.005383</td>\n",
       "      <td>-0.044642</td>\n",
       "      <td>-0.036385</td>\n",
       "      <td>0.021872</td>\n",
       "      <td>0.003935</td>\n",
       "      <td>0.015596</td>\n",
       "      <td>0.008142</td>\n",
       "      <td>-0.002592</td>\n",
       "      <td>-0.031991</td>\n",
       "      <td>-0.046641</td>\n",
       "      <td>135.0</td>\n",
       "    </tr>\n",
       "    <tr>\n",
       "      <th>...</th>\n",
       "      <td>...</td>\n",
       "      <td>...</td>\n",
       "      <td>...</td>\n",
       "      <td>...</td>\n",
       "      <td>...</td>\n",
       "      <td>...</td>\n",
       "      <td>...</td>\n",
       "      <td>...</td>\n",
       "      <td>...</td>\n",
       "      <td>...</td>\n",
       "      <td>...</td>\n",
       "    </tr>\n",
       "    <tr>\n",
       "      <th>437</th>\n",
       "      <td>0.041708</td>\n",
       "      <td>0.050680</td>\n",
       "      <td>0.019662</td>\n",
       "      <td>0.059744</td>\n",
       "      <td>-0.005697</td>\n",
       "      <td>-0.002566</td>\n",
       "      <td>-0.028674</td>\n",
       "      <td>-0.002592</td>\n",
       "      <td>0.031193</td>\n",
       "      <td>0.007207</td>\n",
       "      <td>178.0</td>\n",
       "    </tr>\n",
       "    <tr>\n",
       "      <th>438</th>\n",
       "      <td>-0.005515</td>\n",
       "      <td>0.050680</td>\n",
       "      <td>-0.015906</td>\n",
       "      <td>-0.067642</td>\n",
       "      <td>0.049341</td>\n",
       "      <td>0.079165</td>\n",
       "      <td>-0.028674</td>\n",
       "      <td>0.034309</td>\n",
       "      <td>-0.018118</td>\n",
       "      <td>0.044485</td>\n",
       "      <td>104.0</td>\n",
       "    </tr>\n",
       "    <tr>\n",
       "      <th>439</th>\n",
       "      <td>0.041708</td>\n",
       "      <td>0.050680</td>\n",
       "      <td>-0.015906</td>\n",
       "      <td>0.017282</td>\n",
       "      <td>-0.037344</td>\n",
       "      <td>-0.013840</td>\n",
       "      <td>-0.024993</td>\n",
       "      <td>-0.011080</td>\n",
       "      <td>-0.046879</td>\n",
       "      <td>0.015491</td>\n",
       "      <td>132.0</td>\n",
       "    </tr>\n",
       "    <tr>\n",
       "      <th>440</th>\n",
       "      <td>-0.045472</td>\n",
       "      <td>-0.044642</td>\n",
       "      <td>0.039062</td>\n",
       "      <td>0.001215</td>\n",
       "      <td>0.016318</td>\n",
       "      <td>0.015283</td>\n",
       "      <td>-0.028674</td>\n",
       "      <td>0.026560</td>\n",
       "      <td>0.044528</td>\n",
       "      <td>-0.025930</td>\n",
       "      <td>220.0</td>\n",
       "    </tr>\n",
       "    <tr>\n",
       "      <th>441</th>\n",
       "      <td>-0.045472</td>\n",
       "      <td>-0.044642</td>\n",
       "      <td>-0.073030</td>\n",
       "      <td>-0.081414</td>\n",
       "      <td>0.083740</td>\n",
       "      <td>0.027809</td>\n",
       "      <td>0.173816</td>\n",
       "      <td>-0.039493</td>\n",
       "      <td>-0.004220</td>\n",
       "      <td>0.003064</td>\n",
       "      <td>57.0</td>\n",
       "    </tr>\n",
       "  </tbody>\n",
       "</table>\n",
       "<p>442 rows × 11 columns</p>\n",
       "</div>"
      ],
      "text/plain": [
       "          age       sex       bmi        bp        s1        s2        s3  \\\n",
       "0    0.038076  0.050680  0.061696  0.021872 -0.044223 -0.034821 -0.043401   \n",
       "1   -0.001882 -0.044642 -0.051474 -0.026328 -0.008449 -0.019163  0.074412   \n",
       "2    0.085299  0.050680  0.044451 -0.005671 -0.045599 -0.034194 -0.032356   \n",
       "3   -0.089063 -0.044642 -0.011595 -0.036656  0.012191  0.024991 -0.036038   \n",
       "4    0.005383 -0.044642 -0.036385  0.021872  0.003935  0.015596  0.008142   \n",
       "..        ...       ...       ...       ...       ...       ...       ...   \n",
       "437  0.041708  0.050680  0.019662  0.059744 -0.005697 -0.002566 -0.028674   \n",
       "438 -0.005515  0.050680 -0.015906 -0.067642  0.049341  0.079165 -0.028674   \n",
       "439  0.041708  0.050680 -0.015906  0.017282 -0.037344 -0.013840 -0.024993   \n",
       "440 -0.045472 -0.044642  0.039062  0.001215  0.016318  0.015283 -0.028674   \n",
       "441 -0.045472 -0.044642 -0.073030 -0.081414  0.083740  0.027809  0.173816   \n",
       "\n",
       "           s4        s5        s6  target  \n",
       "0   -0.002592  0.019908 -0.017646   151.0  \n",
       "1   -0.039493 -0.068330 -0.092204    75.0  \n",
       "2   -0.002592  0.002864 -0.025930   141.0  \n",
       "3    0.034309  0.022692 -0.009362   206.0  \n",
       "4   -0.002592 -0.031991 -0.046641   135.0  \n",
       "..        ...       ...       ...     ...  \n",
       "437 -0.002592  0.031193  0.007207   178.0  \n",
       "438  0.034309 -0.018118  0.044485   104.0  \n",
       "439 -0.011080 -0.046879  0.015491   132.0  \n",
       "440  0.026560  0.044528 -0.025930   220.0  \n",
       "441 -0.039493 -0.004220  0.003064    57.0  \n",
       "\n",
       "[442 rows x 11 columns]"
      ]
     },
     "execution_count": 45,
     "metadata": {},
     "output_type": "execute_result"
    }
   ],
   "source": [
    "diabetes_df"
   ]
  },
  {
   "cell_type": "markdown",
   "id": "e0ad3755",
   "metadata": {},
   "source": [
    "<div style = \"height: 15px;\"><div/>"
   ]
  },
  {
   "cell_type": "markdown",
   "id": "e4c3b162",
   "metadata": {},
   "source": [
    "### age"
   ]
  },
  {
   "cell_type": "code",
   "execution_count": 46,
   "id": "7ae0ab8c",
   "metadata": {},
   "outputs": [],
   "source": [
    "# age 변수 지정하기\n",
    "age = diabetes_df[['age']].values"
   ]
  },
  {
   "cell_type": "code",
   "execution_count": 47,
   "id": "0bce83d2",
   "metadata": {},
   "outputs": [],
   "source": [
    "# feature target 변수 지정하기\n",
    "feature_target = diabetes_df[['target']].values"
   ]
  },
  {
   "cell_type": "code",
   "execution_count": 48,
   "id": "d3442583",
   "metadata": {},
   "outputs": [
    {
     "data": {
      "text/plain": [
       "array([[ 0.03807591],\n",
       "       [-0.00188202],\n",
       "       [ 0.08529891],\n",
       "       [-0.08906294],\n",
       "       [ 0.00538306],\n",
       "       [-0.09269548],\n",
       "       [-0.04547248],\n",
       "       [ 0.06350368],\n",
       "       [ 0.04170844],\n",
       "       [-0.07090025],\n",
       "       [-0.09632802],\n",
       "       [ 0.02717829],\n",
       "       [ 0.01628068],\n",
       "       [ 0.00538306],\n",
       "       [ 0.04534098],\n",
       "       [-0.05273755],\n",
       "       [-0.00551455],\n",
       "       [ 0.07076875],\n",
       "       [-0.0382074 ],\n",
       "       [-0.02730979],\n",
       "       [-0.04910502],\n",
       "       [-0.0854304 ],\n",
       "       [-0.0854304 ],\n",
       "       [ 0.04534098],\n",
       "       [-0.06363517],\n",
       "       [-0.06726771],\n",
       "       [-0.10722563],\n",
       "       [-0.02367725],\n",
       "       [ 0.05260606],\n",
       "       [ 0.06713621],\n",
       "       [-0.06000263],\n",
       "       [-0.02367725],\n",
       "       [ 0.03444337],\n",
       "       [ 0.03081083],\n",
       "       [ 0.01628068],\n",
       "       [ 0.04897352],\n",
       "       [ 0.01264814],\n",
       "       [-0.00914709],\n",
       "       [-0.00188202],\n",
       "       [-0.00188202],\n",
       "       [ 0.00538306],\n",
       "       [-0.09996055],\n",
       "       [-0.06000263],\n",
       "       [ 0.01991321],\n",
       "       [ 0.04534098],\n",
       "       [ 0.02717829],\n",
       "       [-0.05637009],\n",
       "       [-0.07816532],\n",
       "       [ 0.06713621],\n",
       "       [-0.04183994],\n",
       "       [ 0.03444337],\n",
       "       [ 0.05987114],\n",
       "       [-0.05273755],\n",
       "       [-0.00914709],\n",
       "       [-0.04910502],\n",
       "       [-0.04183994],\n",
       "       [-0.04183994],\n",
       "       [-0.02730979],\n",
       "       [ 0.04170844],\n",
       "       [ 0.06350368],\n",
       "       [-0.07090025],\n",
       "       [-0.04183994],\n",
       "       [-0.02730979],\n",
       "       [-0.03457486],\n",
       "       [ 0.06713621],\n",
       "       [-0.04547248],\n",
       "       [-0.00914709],\n",
       "       [ 0.04170844],\n",
       "       [ 0.03807591],\n",
       "       [ 0.01628068],\n",
       "       [-0.00188202],\n",
       "       [-0.00188202],\n",
       "       [ 0.06350368],\n",
       "       [ 0.01264814],\n",
       "       [ 0.01264814],\n",
       "       [-0.00914709],\n",
       "       [-0.03094232],\n",
       "       [-0.09632802],\n",
       "       [ 0.00538306],\n",
       "       [-0.10359309],\n",
       "       [ 0.07076875],\n",
       "       [ 0.01264814],\n",
       "       [-0.01641217],\n",
       "       [-0.0382074 ],\n",
       "       [ 0.00175052],\n",
       "       [ 0.04534098],\n",
       "       [-0.07090025],\n",
       "       [ 0.04534098],\n",
       "       [-0.05273755],\n",
       "       [-0.04547248],\n",
       "       [ 0.01264814],\n",
       "       [ 0.04534098],\n",
       "       [-0.02004471],\n",
       "       [-0.04910502],\n",
       "       [-0.07816532],\n",
       "       [-0.07090025],\n",
       "       [ 0.0562386 ],\n",
       "       [-0.02730979],\n",
       "       [ 0.00175052],\n",
       "       [-0.00188202],\n",
       "       [ 0.01628068],\n",
       "       [ 0.01628068],\n",
       "       [-0.09269548],\n",
       "       [ 0.05987114],\n",
       "       [-0.02730979],\n",
       "       [ 0.02354575],\n",
       "       [-0.09632802],\n",
       "       [ 0.02717829],\n",
       "       [ 0.01991321],\n",
       "       [ 0.03807591],\n",
       "       [ 0.04170844],\n",
       "       [ 0.01991321],\n",
       "       [-0.0854304 ],\n",
       "       [ 0.01991321],\n",
       "       [ 0.02354575],\n",
       "       [-0.03094232],\n",
       "       [ 0.04897352],\n",
       "       [ 0.05987114],\n",
       "       [-0.05637009],\n",
       "       [ 0.01628068],\n",
       "       [-0.04910502],\n",
       "       [ 0.06350368],\n",
       "       [ 0.04897352],\n",
       "       [ 0.00538306],\n",
       "       [-0.00551455],\n",
       "       [-0.00551455],\n",
       "       [-0.08906294],\n",
       "       [ 0.03444337],\n",
       "       [-0.05273755],\n",
       "       [ 0.0090156 ],\n",
       "       [-0.06363517],\n",
       "       [-0.09632802],\n",
       "       [ 0.01628068],\n",
       "       [-0.04183994],\n",
       "       [-0.07453279],\n",
       "       [-0.00551455],\n",
       "       [-0.09269548],\n",
       "       [ 0.00538306],\n",
       "       [ 0.03444337],\n",
       "       [ 0.02354575],\n",
       "       [ 0.04170844],\n",
       "       [-0.02730979],\n",
       "       [ 0.04170844],\n",
       "       [-0.03094232],\n",
       "       [ 0.03081083],\n",
       "       [-0.04183994],\n",
       "       [-0.03094232],\n",
       "       [-0.05637009],\n",
       "       [-0.06000263],\n",
       "       [-0.04910502],\n",
       "       [ 0.02354575],\n",
       "       [ 0.00175052],\n",
       "       [-0.03457486],\n",
       "       [ 0.04170844],\n",
       "       [ 0.06713621],\n",
       "       [-0.02730979],\n",
       "       [-0.01641217],\n",
       "       [-0.00188202],\n",
       "       [-0.01277963],\n",
       "       [-0.00551455],\n",
       "       [-0.00914709],\n",
       "       [-0.04547248],\n",
       "       [-0.05273755],\n",
       "       [ 0.01628068],\n",
       "       [ 0.04534098],\n",
       "       [-0.04183994],\n",
       "       [-0.05637009],\n",
       "       [ 0.07076875],\n",
       "       [ 0.00175052],\n",
       "       [-0.00188202],\n",
       "       [ 0.02354575],\n",
       "       [-0.02004471],\n",
       "       [ 0.04170844],\n",
       "       [-0.06363517],\n",
       "       [ 0.01628068],\n",
       "       [ 0.06713621],\n",
       "       [ 0.04534098],\n",
       "       [ 0.04897352],\n",
       "       [ 0.04170844],\n",
       "       [-0.02367725],\n",
       "       [-0.0382074 ],\n",
       "       [ 0.04897352],\n",
       "       [ 0.04534098],\n",
       "       [ 0.04534098],\n",
       "       [ 0.01628068],\n",
       "       [-0.07453279],\n",
       "       [-0.08179786],\n",
       "       [-0.06726771],\n",
       "       [ 0.00538306],\n",
       "       [-0.00188202],\n",
       "       [ 0.0090156 ],\n",
       "       [-0.00551455],\n",
       "       [ 0.0562386 ],\n",
       "       [ 0.0090156 ],\n",
       "       [-0.06726771],\n",
       "       [ 0.02717829],\n",
       "       [-0.02367725],\n",
       "       [ 0.04897352],\n",
       "       [-0.05273755],\n",
       "       [ 0.04170844],\n",
       "       [ 0.0562386 ],\n",
       "       [-0.03457486],\n",
       "       [ 0.08166637],\n",
       "       [-0.00188202],\n",
       "       [ 0.11072668],\n",
       "       [-0.03094232],\n",
       "       [ 0.00175052],\n",
       "       [ 0.0090156 ],\n",
       "       [ 0.03081083],\n",
       "       [ 0.03807591],\n",
       "       [ 0.0090156 ],\n",
       "       [ 0.09256398],\n",
       "       [ 0.06713621],\n",
       "       [ 0.00175052],\n",
       "       [ 0.03081083],\n",
       "       [ 0.02717829],\n",
       "       [ 0.01264814],\n",
       "       [ 0.07440129],\n",
       "       [-0.04183994],\n",
       "       [-0.08906294],\n",
       "       [ 0.02354575],\n",
       "       [-0.04547248],\n",
       "       [-0.02367725],\n",
       "       [-0.09996055],\n",
       "       [-0.02730979],\n",
       "       [ 0.03081083],\n",
       "       [-0.10359309],\n",
       "       [ 0.06713621],\n",
       "       [-0.05273755],\n",
       "       [-0.02730979],\n",
       "       [-0.0382074 ],\n",
       "       [ 0.0090156 ],\n",
       "       [ 0.01264814],\n",
       "       [ 0.06713621],\n",
       "       [ 0.04534098],\n",
       "       [ 0.06713621],\n",
       "       [ 0.02717829],\n",
       "       [ 0.0562386 ],\n",
       "       [ 0.03444337],\n",
       "       [ 0.02354575],\n",
       "       [ 0.04897352],\n",
       "       [ 0.03081083],\n",
       "       [-0.10359309],\n",
       "       [ 0.01628068],\n",
       "       [-0.06000263],\n",
       "       [-0.02730979],\n",
       "       [ 0.04170844],\n",
       "       [-0.08179786],\n",
       "       [-0.04183994],\n",
       "       [-0.01277963],\n",
       "       [ 0.06713621],\n",
       "       [-0.05273755],\n",
       "       [ 0.00538306],\n",
       "       [ 0.08166637],\n",
       "       [ 0.03081083],\n",
       "       [ 0.00175052],\n",
       "       [-0.04910502],\n",
       "       [-0.02730979],\n",
       "       [ 0.07803383],\n",
       "       [ 0.01264814],\n",
       "       [ 0.04170844],\n",
       "       [ 0.04897352],\n",
       "       [-0.01641217],\n",
       "       [-0.07453279],\n",
       "       [ 0.03444337],\n",
       "       [-0.03457486],\n",
       "       [-0.05273755],\n",
       "       [ 0.05987114],\n",
       "       [ 0.06350368],\n",
       "       [ 0.0090156 ],\n",
       "       [ 0.00538306],\n",
       "       [ 0.03807591],\n",
       "       [ 0.01264814],\n",
       "       [ 0.07440129],\n",
       "       [ 0.01628068],\n",
       "       [-0.00551455],\n",
       "       [ 0.01264814],\n",
       "       [-0.03457486],\n",
       "       [ 0.06713621],\n",
       "       [ 0.03807591],\n",
       "       [ 0.0090156 ],\n",
       "       [-0.09269548],\n",
       "       [ 0.07076875],\n",
       "       [-0.01641217],\n",
       "       [ 0.04170844],\n",
       "       [ 0.01264814],\n",
       "       [-0.0382074 ],\n",
       "       [ 0.04534098],\n",
       "       [ 0.07076875],\n",
       "       [-0.07453279],\n",
       "       [ 0.05987114],\n",
       "       [ 0.07440129],\n",
       "       [ 0.0090156 ],\n",
       "       [-0.07090025],\n",
       "       [ 0.02354575],\n",
       "       [-0.05273755],\n",
       "       [ 0.06713621],\n",
       "       [ 0.00175052],\n",
       "       [ 0.02354575],\n",
       "       [ 0.03807591],\n",
       "       [ 0.01628068],\n",
       "       [-0.00188202],\n",
       "       [ 0.01264814],\n",
       "       [ 0.07440129],\n",
       "       [ 0.04170844],\n",
       "       [-0.00914709],\n",
       "       [ 0.0090156 ],\n",
       "       [ 0.06713621],\n",
       "       [ 0.00175052],\n",
       "       [-0.00914709],\n",
       "       [-0.00551455],\n",
       "       [ 0.09619652],\n",
       "       [-0.07453279],\n",
       "       [ 0.05987114],\n",
       "       [-0.02367725],\n",
       "       [ 0.0090156 ],\n",
       "       [ 0.01628068],\n",
       "       [ 0.01991321],\n",
       "       [ 0.08893144],\n",
       "       [ 0.01991321],\n",
       "       [-0.02367725],\n",
       "       [ 0.09619652],\n",
       "       [ 0.02354575],\n",
       "       [ 0.07076875],\n",
       "       [ 0.03081083],\n",
       "       [-0.00188202],\n",
       "       [ 0.04534098],\n",
       "       [ 0.07440129],\n",
       "       [-0.0382074 ],\n",
       "       [-0.01277963],\n",
       "       [ 0.0090156 ],\n",
       "       [ 0.08166637],\n",
       "       [ 0.03081083],\n",
       "       [ 0.02717829],\n",
       "       [-0.06000263],\n",
       "       [ 0.00538306],\n",
       "       [-0.02004471],\n",
       "       [ 0.01991321],\n",
       "       [-0.06363517],\n",
       "       [ 0.02717829],\n",
       "       [-0.01641217],\n",
       "       [ 0.03081083],\n",
       "       [ 0.0562386 ],\n",
       "       [-0.02004471],\n",
       "       [-0.10722563],\n",
       "       [ 0.08166637],\n",
       "       [ 0.00538306],\n",
       "       [ 0.03807591],\n",
       "       [ 0.03081083],\n",
       "       [ 0.00175052],\n",
       "       [-0.02730979],\n",
       "       [-0.0854304 ],\n",
       "       [ 0.01264814],\n",
       "       [-0.05273755],\n",
       "       [-0.02367725],\n",
       "       [-0.07453279],\n",
       "       [-0.00551455],\n",
       "       [-0.06000263],\n",
       "       [-0.02004471],\n",
       "       [ 0.03807591],\n",
       "       [ 0.01628068],\n",
       "       [ 0.04170844],\n",
       "       [ 0.01991321],\n",
       "       [-0.04910502],\n",
       "       [ 0.00175052],\n",
       "       [ 0.03444337],\n",
       "       [-0.04547248],\n",
       "       [-0.00914709],\n",
       "       [-0.01641217],\n",
       "       [-0.00914709],\n",
       "       [ 0.01991321],\n",
       "       [ 0.05260606],\n",
       "       [-0.02730979],\n",
       "       [-0.07453279],\n",
       "       [-0.10722563],\n",
       "       [ 0.04534098],\n",
       "       [-0.00188202],\n",
       "       [ 0.01991321],\n",
       "       [ 0.01628068],\n",
       "       [-0.00188202],\n",
       "       [ 0.01628068],\n",
       "       [-0.07090025],\n",
       "       [ 0.04897352],\n",
       "       [ 0.00538306],\n",
       "       [ 0.03444337],\n",
       "       [ 0.02354575],\n",
       "       [ 0.01991321],\n",
       "       [-0.04547248],\n",
       "       [ 0.05260606],\n",
       "       [-0.00551455],\n",
       "       [ 0.0090156 ],\n",
       "       [-0.02367725],\n",
       "       [-0.04183994],\n",
       "       [-0.07453279],\n",
       "       [ 0.03444337],\n",
       "       [-0.06000263],\n",
       "       [-0.0854304 ],\n",
       "       [ 0.05260606],\n",
       "       [ 0.01264814],\n",
       "       [ 0.05987114],\n",
       "       [-0.02367725],\n",
       "       [ 0.01628068],\n",
       "       [ 0.11072668],\n",
       "       [-0.02004471],\n",
       "       [-0.01641217],\n",
       "       [ 0.04897352],\n",
       "       [-0.05637009],\n",
       "       [ 0.02717829],\n",
       "       [ 0.06350368],\n",
       "       [-0.05273755],\n",
       "       [-0.00914709],\n",
       "       [ 0.00538306],\n",
       "       [ 0.07440129],\n",
       "       [-0.05273755],\n",
       "       [ 0.08166637],\n",
       "       [-0.00551455],\n",
       "       [-0.02730979],\n",
       "       [-0.05273755],\n",
       "       [ 0.0090156 ],\n",
       "       [-0.02004471],\n",
       "       [ 0.02354575],\n",
       "       [ 0.03807591],\n",
       "       [-0.07816532],\n",
       "       [ 0.0090156 ],\n",
       "       [ 0.00175052],\n",
       "       [-0.07816532],\n",
       "       [ 0.03081083],\n",
       "       [-0.03457486],\n",
       "       [ 0.04897352],\n",
       "       [-0.04183994],\n",
       "       [-0.00914709],\n",
       "       [ 0.07076875],\n",
       "       [ 0.0090156 ],\n",
       "       [-0.02730979],\n",
       "       [ 0.01628068],\n",
       "       [-0.01277963],\n",
       "       [-0.05637009],\n",
       "       [ 0.04170844],\n",
       "       [-0.00551455],\n",
       "       [ 0.04170844],\n",
       "       [-0.04547248],\n",
       "       [-0.04547248]])"
      ]
     },
     "execution_count": 48,
     "metadata": {},
     "output_type": "execute_result"
    }
   ],
   "source": [
    "age"
   ]
  },
  {
   "cell_type": "code",
   "execution_count": 49,
   "id": "b5aeda3c",
   "metadata": {},
   "outputs": [
    {
     "data": {
      "text/plain": [
       "array([[151.],\n",
       "       [ 75.],\n",
       "       [141.],\n",
       "       [206.],\n",
       "       [135.],\n",
       "       [ 97.],\n",
       "       [138.],\n",
       "       [ 63.],\n",
       "       [110.],\n",
       "       [310.],\n",
       "       [101.],\n",
       "       [ 69.],\n",
       "       [179.],\n",
       "       [185.],\n",
       "       [118.],\n",
       "       [171.],\n",
       "       [166.],\n",
       "       [144.],\n",
       "       [ 97.],\n",
       "       [168.],\n",
       "       [ 68.],\n",
       "       [ 49.],\n",
       "       [ 68.],\n",
       "       [245.],\n",
       "       [184.],\n",
       "       [202.],\n",
       "       [137.],\n",
       "       [ 85.],\n",
       "       [131.],\n",
       "       [283.],\n",
       "       [129.],\n",
       "       [ 59.],\n",
       "       [341.],\n",
       "       [ 87.],\n",
       "       [ 65.],\n",
       "       [102.],\n",
       "       [265.],\n",
       "       [276.],\n",
       "       [252.],\n",
       "       [ 90.],\n",
       "       [100.],\n",
       "       [ 55.],\n",
       "       [ 61.],\n",
       "       [ 92.],\n",
       "       [259.],\n",
       "       [ 53.],\n",
       "       [190.],\n",
       "       [142.],\n",
       "       [ 75.],\n",
       "       [142.],\n",
       "       [155.],\n",
       "       [225.],\n",
       "       [ 59.],\n",
       "       [104.],\n",
       "       [182.],\n",
       "       [128.],\n",
       "       [ 52.],\n",
       "       [ 37.],\n",
       "       [170.],\n",
       "       [170.],\n",
       "       [ 61.],\n",
       "       [144.],\n",
       "       [ 52.],\n",
       "       [128.],\n",
       "       [ 71.],\n",
       "       [163.],\n",
       "       [150.],\n",
       "       [ 97.],\n",
       "       [160.],\n",
       "       [178.],\n",
       "       [ 48.],\n",
       "       [270.],\n",
       "       [202.],\n",
       "       [111.],\n",
       "       [ 85.],\n",
       "       [ 42.],\n",
       "       [170.],\n",
       "       [200.],\n",
       "       [252.],\n",
       "       [113.],\n",
       "       [143.],\n",
       "       [ 51.],\n",
       "       [ 52.],\n",
       "       [210.],\n",
       "       [ 65.],\n",
       "       [141.],\n",
       "       [ 55.],\n",
       "       [134.],\n",
       "       [ 42.],\n",
       "       [111.],\n",
       "       [ 98.],\n",
       "       [164.],\n",
       "       [ 48.],\n",
       "       [ 96.],\n",
       "       [ 90.],\n",
       "       [162.],\n",
       "       [150.],\n",
       "       [279.],\n",
       "       [ 92.],\n",
       "       [ 83.],\n",
       "       [128.],\n",
       "       [102.],\n",
       "       [302.],\n",
       "       [198.],\n",
       "       [ 95.],\n",
       "       [ 53.],\n",
       "       [134.],\n",
       "       [144.],\n",
       "       [232.],\n",
       "       [ 81.],\n",
       "       [104.],\n",
       "       [ 59.],\n",
       "       [246.],\n",
       "       [297.],\n",
       "       [258.],\n",
       "       [229.],\n",
       "       [275.],\n",
       "       [281.],\n",
       "       [179.],\n",
       "       [200.],\n",
       "       [200.],\n",
       "       [173.],\n",
       "       [180.],\n",
       "       [ 84.],\n",
       "       [121.],\n",
       "       [161.],\n",
       "       [ 99.],\n",
       "       [109.],\n",
       "       [115.],\n",
       "       [268.],\n",
       "       [274.],\n",
       "       [158.],\n",
       "       [107.],\n",
       "       [ 83.],\n",
       "       [103.],\n",
       "       [272.],\n",
       "       [ 85.],\n",
       "       [280.],\n",
       "       [336.],\n",
       "       [281.],\n",
       "       [118.],\n",
       "       [317.],\n",
       "       [235.],\n",
       "       [ 60.],\n",
       "       [174.],\n",
       "       [259.],\n",
       "       [178.],\n",
       "       [128.],\n",
       "       [ 96.],\n",
       "       [126.],\n",
       "       [288.],\n",
       "       [ 88.],\n",
       "       [292.],\n",
       "       [ 71.],\n",
       "       [197.],\n",
       "       [186.],\n",
       "       [ 25.],\n",
       "       [ 84.],\n",
       "       [ 96.],\n",
       "       [195.],\n",
       "       [ 53.],\n",
       "       [217.],\n",
       "       [172.],\n",
       "       [131.],\n",
       "       [214.],\n",
       "       [ 59.],\n",
       "       [ 70.],\n",
       "       [220.],\n",
       "       [268.],\n",
       "       [152.],\n",
       "       [ 47.],\n",
       "       [ 74.],\n",
       "       [295.],\n",
       "       [101.],\n",
       "       [151.],\n",
       "       [127.],\n",
       "       [237.],\n",
       "       [225.],\n",
       "       [ 81.],\n",
       "       [151.],\n",
       "       [107.],\n",
       "       [ 64.],\n",
       "       [138.],\n",
       "       [185.],\n",
       "       [265.],\n",
       "       [101.],\n",
       "       [137.],\n",
       "       [143.],\n",
       "       [141.],\n",
       "       [ 79.],\n",
       "       [292.],\n",
       "       [178.],\n",
       "       [ 91.],\n",
       "       [116.],\n",
       "       [ 86.],\n",
       "       [122.],\n",
       "       [ 72.],\n",
       "       [129.],\n",
       "       [142.],\n",
       "       [ 90.],\n",
       "       [158.],\n",
       "       [ 39.],\n",
       "       [196.],\n",
       "       [222.],\n",
       "       [277.],\n",
       "       [ 99.],\n",
       "       [196.],\n",
       "       [202.],\n",
       "       [155.],\n",
       "       [ 77.],\n",
       "       [191.],\n",
       "       [ 70.],\n",
       "       [ 73.],\n",
       "       [ 49.],\n",
       "       [ 65.],\n",
       "       [263.],\n",
       "       [248.],\n",
       "       [296.],\n",
       "       [214.],\n",
       "       [185.],\n",
       "       [ 78.],\n",
       "       [ 93.],\n",
       "       [252.],\n",
       "       [150.],\n",
       "       [ 77.],\n",
       "       [208.],\n",
       "       [ 77.],\n",
       "       [108.],\n",
       "       [160.],\n",
       "       [ 53.],\n",
       "       [220.],\n",
       "       [154.],\n",
       "       [259.],\n",
       "       [ 90.],\n",
       "       [246.],\n",
       "       [124.],\n",
       "       [ 67.],\n",
       "       [ 72.],\n",
       "       [257.],\n",
       "       [262.],\n",
       "       [275.],\n",
       "       [177.],\n",
       "       [ 71.],\n",
       "       [ 47.],\n",
       "       [187.],\n",
       "       [125.],\n",
       "       [ 78.],\n",
       "       [ 51.],\n",
       "       [258.],\n",
       "       [215.],\n",
       "       [303.],\n",
       "       [243.],\n",
       "       [ 91.],\n",
       "       [150.],\n",
       "       [310.],\n",
       "       [153.],\n",
       "       [346.],\n",
       "       [ 63.],\n",
       "       [ 89.],\n",
       "       [ 50.],\n",
       "       [ 39.],\n",
       "       [103.],\n",
       "       [308.],\n",
       "       [116.],\n",
       "       [145.],\n",
       "       [ 74.],\n",
       "       [ 45.],\n",
       "       [115.],\n",
       "       [264.],\n",
       "       [ 87.],\n",
       "       [202.],\n",
       "       [127.],\n",
       "       [182.],\n",
       "       [241.],\n",
       "       [ 66.],\n",
       "       [ 94.],\n",
       "       [283.],\n",
       "       [ 64.],\n",
       "       [102.],\n",
       "       [200.],\n",
       "       [265.],\n",
       "       [ 94.],\n",
       "       [230.],\n",
       "       [181.],\n",
       "       [156.],\n",
       "       [233.],\n",
       "       [ 60.],\n",
       "       [219.],\n",
       "       [ 80.],\n",
       "       [ 68.],\n",
       "       [332.],\n",
       "       [248.],\n",
       "       [ 84.],\n",
       "       [200.],\n",
       "       [ 55.],\n",
       "       [ 85.],\n",
       "       [ 89.],\n",
       "       [ 31.],\n",
       "       [129.],\n",
       "       [ 83.],\n",
       "       [275.],\n",
       "       [ 65.],\n",
       "       [198.],\n",
       "       [236.],\n",
       "       [253.],\n",
       "       [124.],\n",
       "       [ 44.],\n",
       "       [172.],\n",
       "       [114.],\n",
       "       [142.],\n",
       "       [109.],\n",
       "       [180.],\n",
       "       [144.],\n",
       "       [163.],\n",
       "       [147.],\n",
       "       [ 97.],\n",
       "       [220.],\n",
       "       [190.],\n",
       "       [109.],\n",
       "       [191.],\n",
       "       [122.],\n",
       "       [230.],\n",
       "       [242.],\n",
       "       [248.],\n",
       "       [249.],\n",
       "       [192.],\n",
       "       [131.],\n",
       "       [237.],\n",
       "       [ 78.],\n",
       "       [135.],\n",
       "       [244.],\n",
       "       [199.],\n",
       "       [270.],\n",
       "       [164.],\n",
       "       [ 72.],\n",
       "       [ 96.],\n",
       "       [306.],\n",
       "       [ 91.],\n",
       "       [214.],\n",
       "       [ 95.],\n",
       "       [216.],\n",
       "       [263.],\n",
       "       [178.],\n",
       "       [113.],\n",
       "       [200.],\n",
       "       [139.],\n",
       "       [139.],\n",
       "       [ 88.],\n",
       "       [148.],\n",
       "       [ 88.],\n",
       "       [243.],\n",
       "       [ 71.],\n",
       "       [ 77.],\n",
       "       [109.],\n",
       "       [272.],\n",
       "       [ 60.],\n",
       "       [ 54.],\n",
       "       [221.],\n",
       "       [ 90.],\n",
       "       [311.],\n",
       "       [281.],\n",
       "       [182.],\n",
       "       [321.],\n",
       "       [ 58.],\n",
       "       [262.],\n",
       "       [206.],\n",
       "       [233.],\n",
       "       [242.],\n",
       "       [123.],\n",
       "       [167.],\n",
       "       [ 63.],\n",
       "       [197.],\n",
       "       [ 71.],\n",
       "       [168.],\n",
       "       [140.],\n",
       "       [217.],\n",
       "       [121.],\n",
       "       [235.],\n",
       "       [245.],\n",
       "       [ 40.],\n",
       "       [ 52.],\n",
       "       [104.],\n",
       "       [132.],\n",
       "       [ 88.],\n",
       "       [ 69.],\n",
       "       [219.],\n",
       "       [ 72.],\n",
       "       [201.],\n",
       "       [110.],\n",
       "       [ 51.],\n",
       "       [277.],\n",
       "       [ 63.],\n",
       "       [118.],\n",
       "       [ 69.],\n",
       "       [273.],\n",
       "       [258.],\n",
       "       [ 43.],\n",
       "       [198.],\n",
       "       [242.],\n",
       "       [232.],\n",
       "       [175.],\n",
       "       [ 93.],\n",
       "       [168.],\n",
       "       [275.],\n",
       "       [293.],\n",
       "       [281.],\n",
       "       [ 72.],\n",
       "       [140.],\n",
       "       [189.],\n",
       "       [181.],\n",
       "       [209.],\n",
       "       [136.],\n",
       "       [261.],\n",
       "       [113.],\n",
       "       [131.],\n",
       "       [174.],\n",
       "       [257.],\n",
       "       [ 55.],\n",
       "       [ 84.],\n",
       "       [ 42.],\n",
       "       [146.],\n",
       "       [212.],\n",
       "       [233.],\n",
       "       [ 91.],\n",
       "       [111.],\n",
       "       [152.],\n",
       "       [120.],\n",
       "       [ 67.],\n",
       "       [310.],\n",
       "       [ 94.],\n",
       "       [183.],\n",
       "       [ 66.],\n",
       "       [173.],\n",
       "       [ 72.],\n",
       "       [ 49.],\n",
       "       [ 64.],\n",
       "       [ 48.],\n",
       "       [178.],\n",
       "       [104.],\n",
       "       [132.],\n",
       "       [220.],\n",
       "       [ 57.]])"
      ]
     },
     "execution_count": 49,
     "metadata": {},
     "output_type": "execute_result"
    }
   ],
   "source": [
    "feature_target"
   ]
  },
  {
   "cell_type": "markdown",
   "id": "9bfeed22",
   "metadata": {},
   "source": [
    "<div style = \"height: 15px;\"><div/>"
   ]
  },
  {
   "cell_type": "markdown",
   "id": "15f4958e",
   "metadata": {},
   "source": [
    "#### 그래프로 출력하기"
   ]
  },
  {
   "cell_type": "code",
   "execution_count": 50,
   "id": "e16582bc",
   "metadata": {},
   "outputs": [
    {
     "data": {
      "image/png": "[encoded data removed]",
      "text/plain": [
       "<Figure size 432x288 with 1 Axes>"
      ]
     },
     "metadata": {
      "needs_background": "light"
     },
     "output_type": "display_data"
    }
   ],
   "source": [
    "plt.scatter(age, feature_target)\n",
    "plt.show()"
   ]
  },
  {
   "cell_type": "markdown",
   "id": "b5066d61",
   "metadata": {},
   "source": [
    "그래프로 출력해본 결과, 원형으로 나오므로 <br/>\n",
    "**나이는 당뇨병 수치에 영향을 미치지 않는 것으로 확인되었다.**"
   ]
  },
  {
   "cell_type": "markdown",
   "id": "b3bed1ac",
   "metadata": {},
   "source": [
    "<div style = \"height: 15px;\"><div/>"
   ]
  },
  {
   "cell_type": "markdown",
   "id": "cb761acc",
   "metadata": {},
   "source": [
    "### sex"
   ]
  },
  {
   "cell_type": "code",
   "execution_count": 51,
   "id": "61d8a14c",
   "metadata": {},
   "outputs": [],
   "source": [
    "# sex 변수 지정하기\n",
    "sex = diabetes_df[['sex']].values"
   ]
  },
  {
   "cell_type": "markdown",
   "id": "c659020a",
   "metadata": {},
   "source": [
    "#### 그래프로 출력하기"
   ]
  },
  {
   "cell_type": "code",
   "execution_count": 52,
   "id": "33cad3e7",
   "metadata": {},
   "outputs": [
    {
     "data": {
      "image/png": "[encoded data removed]",
      "text/plain": [
       "<Figure size 432x288 with 1 Axes>"
      ]
     },
     "metadata": {
      "needs_background": "light"
     },
     "output_type": "display_data"
    }
   ],
   "source": [
    "plt.scatter(sex, feature_target)\n",
    "plt.show()"
   ]
  },
  {
   "cell_type": "markdown",
   "id": "1dd17add",
   "metadata": {},
   "source": [
    "그래프로 출력해본 결과, 선형으로 나오지만 성별은 각각 -0.04464164와 0.05068012로<br/> \n",
    "남성과 여성을 더미 값으로 지정하였으므로<br/>\n",
    "그래프를 확인해본 결과 **당뇨병 수치에 영향을 미치지 않는 것으로 확인되었다.**"
   ]
  },
  {
   "cell_type": "markdown",
   "id": "eb87a06c",
   "metadata": {},
   "source": [
    "<div style = \"height: 15px;\"><div/>"
   ]
  },
  {
   "cell_type": "markdown",
   "id": "04697093",
   "metadata": {},
   "source": [
    "### bmi"
   ]
  },
  {
   "cell_type": "code",
   "execution_count": 53,
   "id": "e525ff34",
   "metadata": {},
   "outputs": [],
   "source": [
    "# bmi 변수 지정하기\n",
    "bmi = diabetes_df[['bmi']].values"
   ]
  },
  {
   "cell_type": "markdown",
   "id": "4a1addf1",
   "metadata": {},
   "source": [
    "#### 그래프로 출력하기"
   ]
  },
  {
   "cell_type": "code",
   "execution_count": 54,
   "id": "f452e1d9",
   "metadata": {},
   "outputs": [
    {
     "data": {
      "image/png": "[encoded data removed]",
      "text/plain": [
       "<Figure size 432x288 with 1 Axes>"
      ]
     },
     "metadata": {
      "needs_background": "light"
     },
     "output_type": "display_data"
    }
   ],
   "source": [
    "plt.scatter(bmi, feature_target)\n",
    "plt.show()"
   ]
  },
  {
   "cell_type": "markdown",
   "id": "1d52a594",
   "metadata": {},
   "source": [
    "그래프로 출력해본 결과, 선형으로 나왔다.<br/> \n",
    "그래프를 확인해본 결과  bmi 수치가 높아질 수록 당뇨병 수치가 오르는 것을 확인할 수 있었으므로<br/> <b style=\"color: red;\">당뇨병 수치와 bmi는 상관관계가 있는 것으로 판단했다.</b>"
   ]
  },
  {
   "cell_type": "markdown",
   "id": "9923ccbd",
   "metadata": {},
   "source": [
    "<div style = \"height: 15px;\"><div/>"
   ]
  },
  {
   "cell_type": "markdown",
   "id": "4dc3cfd8",
   "metadata": {},
   "source": [
    "### bp"
   ]
  },
  {
   "cell_type": "code",
   "execution_count": 55,
   "id": "397edb91",
   "metadata": {},
   "outputs": [],
   "source": [
    "# bp 변수 지정하기\n",
    "bp = diabetes_df[['bp']].values"
   ]
  },
  {
   "cell_type": "markdown",
   "id": "ad96fecb",
   "metadata": {},
   "source": [
    "#### 그래프로 출력하기"
   ]
  },
  {
   "cell_type": "code",
   "execution_count": 56,
   "id": "e4ebd6aa",
   "metadata": {},
   "outputs": [
    {
     "data": {
      "image/png": "[encoded data removed]",
      "text/plain": [
       "<Figure size 432x288 with 1 Axes>"
      ]
     },
     "metadata": {
      "needs_background": "light"
     },
     "output_type": "display_data"
    }
   ],
   "source": [
    "plt.scatter(bp, feature_target)\n",
    "plt.show()"
   ]
  },
  {
   "cell_type": "markdown",
   "id": "57bf6106",
   "metadata": {},
   "source": [
    "그래프로 출력해본 결과, 원형에 가깝게 나오므로 <br/>\n",
    "**bp(혈압)는 당뇨병 수치와 상관관게가 약한 것으로 판단되었다.**"
   ]
  },
  {
   "cell_type": "markdown",
   "id": "e4733b14",
   "metadata": {},
   "source": [
    "<div style = \"height: 15px;\"><div/>"
   ]
  },
  {
   "cell_type": "markdown",
   "id": "9bf35ca5",
   "metadata": {},
   "source": [
    "### s1"
   ]
  },
  {
   "cell_type": "code",
   "execution_count": 57,
   "id": "1515b34f",
   "metadata": {},
   "outputs": [],
   "source": [
    "# s 변수 지정하기\n",
    "s1 = diabetes_df[['s1']].values"
   ]
  },
  {
   "cell_type": "markdown",
   "id": "7d0ddb96",
   "metadata": {},
   "source": [
    "#### 그래프로 출력하기\n"
   ]
  },
  {
   "cell_type": "code",
   "execution_count": 58,
   "id": "68acab80",
   "metadata": {},
   "outputs": [
    {
     "data": {
      "image/png": "[encoded data removed]",
      "text/plain": [
       "<Figure size 432x288 with 1 Axes>"
      ]
     },
     "metadata": {
      "needs_background": "light"
     },
     "output_type": "display_data"
    }
   ],
   "source": [
    "plt.scatter(s1, feature_target)\n",
    "plt.show()"
   ]
  },
  {
   "cell_type": "markdown",
   "id": "67659175",
   "metadata": {},
   "source": [
    "그래프로 출력해본 결과, 원형에 가깝게 나오므로 <br/>\n",
    "**s1(혈청 측정치 1번)은 당뇨병 수치와 상관관게가 없는 것으로 판단되었다.**"
   ]
  },
  {
   "cell_type": "markdown",
   "id": "9ed038e3",
   "metadata": {},
   "source": [
    "<div style = \"height: 15px;\"><div/>"
   ]
  },
  {
   "cell_type": "markdown",
   "id": "eb8107a3",
   "metadata": {},
   "source": [
    "### s2"
   ]
  },
  {
   "cell_type": "code",
   "execution_count": 59,
   "id": "86930af3",
   "metadata": {},
   "outputs": [],
   "source": [
    "# s2 변수 지정하기\n",
    "s2 = diabetes_df[['s2']].values"
   ]
  },
  {
   "cell_type": "markdown",
   "id": "a25f1fe3",
   "metadata": {},
   "source": [
    "#### 그래프로 출력하기"
   ]
  },
  {
   "cell_type": "code",
   "execution_count": 60,
   "id": "81c48a39",
   "metadata": {},
   "outputs": [
    {
     "data": {
      "image/png": "[encoded data removed]",
      "text/plain": [
       "<Figure size 432x288 with 1 Axes>"
      ]
     },
     "metadata": {
      "needs_background": "light"
     },
     "output_type": "display_data"
    }
   ],
   "source": [
    "plt.scatter(s2, feature_target)\n",
    "plt.show()"
   ]
  },
  {
   "cell_type": "markdown",
   "id": "e7ebfa06",
   "metadata": {},
   "source": [
    "그래프로 출력해본 결과, 원형에 가깝게 나오므로 <br/>\n",
    "**s2(혈청 측정치 2번)은 당뇨병 수치와 상관관게가 없는 것으로 판단되었다.**"
   ]
  },
  {
   "cell_type": "markdown",
   "id": "7c73b396",
   "metadata": {},
   "source": [
    "<div style = \"height: 15px;\"><div/>"
   ]
  },
  {
   "cell_type": "markdown",
   "id": "a23feac2",
   "metadata": {},
   "source": [
    "### s3"
   ]
  },
  {
   "cell_type": "code",
   "execution_count": 61,
   "id": "e505541f",
   "metadata": {},
   "outputs": [],
   "source": [
    "# s3 변수 지정하기\n",
    "s3 = diabetes_df[['s3']].values"
   ]
  },
  {
   "cell_type": "markdown",
   "id": "7cc9b536",
   "metadata": {},
   "source": [
    "#### 그래프로 출력하기"
   ]
  },
  {
   "cell_type": "code",
   "execution_count": 62,
   "id": "97c06bba",
   "metadata": {},
   "outputs": [
    {
     "data": {
      "image/png": "[encoded data removed]",
      "text/plain": [
       "<Figure size 432x288 with 1 Axes>"
      ]
     },
     "metadata": {
      "needs_background": "light"
     },
     "output_type": "display_data"
    }
   ],
   "source": [
    "plt.scatter(s3, feature_target)\n",
    "plt.show()"
   ]
  },
  {
   "cell_type": "markdown",
   "id": "e92115d4",
   "metadata": {},
   "source": [
    "그래프로 출력해본 결과, 약간의 선형 그래프 모습을 띄고 있으므로<br/>\n",
    "**s3(혈청 측정치 3번)은 당뇨병 수치와 상관관게가 있는 것으로 판단되었다.**"
   ]
  },
  {
   "cell_type": "markdown",
   "id": "ba0eba29",
   "metadata": {},
   "source": [
    "<div style = \"height: 15px;\"><div/>"
   ]
  },
  {
   "cell_type": "markdown",
   "id": "8fbd7329",
   "metadata": {},
   "source": [
    "### s4"
   ]
  },
  {
   "cell_type": "code",
   "execution_count": 63,
   "id": "8a7405d3",
   "metadata": {},
   "outputs": [],
   "source": [
    "# s4 변수 지정하기\n",
    "s4 = diabetes_df[['s4']].values"
   ]
  },
  {
   "cell_type": "markdown",
   "id": "b9b5f2ab",
   "metadata": {},
   "source": [
    "#### 그래프로 출력하기"
   ]
  },
  {
   "cell_type": "code",
   "execution_count": 64,
   "id": "692b7948",
   "metadata": {},
   "outputs": [
    {
     "data": {
      "image/png": "[encoded data removed]",
      "text/plain": [
       "<Figure size 432x288 with 1 Axes>"
      ]
     },
     "metadata": {
      "needs_background": "light"
     },
     "output_type": "display_data"
    }
   ],
   "source": [
    "plt.scatter(s4, feature_target)\n",
    "plt.show()"
   ]
  },
  {
   "cell_type": "markdown",
   "id": "7f99165b",
   "metadata": {},
   "source": [
    "그래프를 출력하고, 확인해본 결과 **s4(혈청 측정치 4번)은 당뇨병 수치에 영향을 미치지 않는 것으로 확인되었다.**"
   ]
  },
  {
   "cell_type": "markdown",
   "id": "75e38e4d",
   "metadata": {},
   "source": [
    "<div style = \"height: 15px;\"><div/>"
   ]
  },
  {
   "cell_type": "markdown",
   "id": "cfe304de",
   "metadata": {},
   "source": [
    "### s5"
   ]
  },
  {
   "cell_type": "code",
   "execution_count": 65,
   "id": "4825e9bd",
   "metadata": {},
   "outputs": [],
   "source": [
    "# s5 변수 지정하기\n",
    "s5 = diabetes_df[['s5']].values"
   ]
  },
  {
   "cell_type": "markdown",
   "id": "6fbef3e6",
   "metadata": {},
   "source": [
    "#### 그래프로 출력하기\n"
   ]
  },
  {
   "cell_type": "code",
   "execution_count": 66,
   "id": "96e3583d",
   "metadata": {},
   "outputs": [
    {
     "data": {
      "image/png": "[encoded data removed]",
      "text/plain": [
       "<Figure size 432x288 with 1 Axes>"
      ]
     },
     "metadata": {
      "needs_background": "light"
     },
     "output_type": "display_data"
    }
   ],
   "source": [
    "plt.scatter(s5, feature_target)\n",
    "plt.show()\n"
   ]
  },
  {
   "cell_type": "markdown",
   "id": "01f6babc",
   "metadata": {},
   "source": [
    "그래프로 출력해본 결과, 선형에 가까운 그래프가 나왔다.<br/>\n",
    "s5(혈청 측정치 5번)가 높아질 수록 당뇨병 수치가 오르는 것을 확인할 수 있었으므로<br/>\n",
    "<b style=\"color: red;\">당뇨병 수치와 s5(혈청 측정치 5번)는 상관관계가 강한 것으로 판단했다.</b>\n"
   ]
  },
  {
   "cell_type": "markdown",
   "id": "990bce0f",
   "metadata": {},
   "source": [
    "<div style = \"height: 15px;\"><div/>"
   ]
  },
  {
   "cell_type": "markdown",
   "id": "c1fe2167",
   "metadata": {},
   "source": [
    "### s6"
   ]
  },
  {
   "cell_type": "code",
   "execution_count": 67,
   "id": "f97a5a0d",
   "metadata": {},
   "outputs": [],
   "source": [
    "# s6 변수 지정하기\n",
    "s6 = diabetes_df[['s6']].values"
   ]
  },
  {
   "cell_type": "markdown",
   "id": "dd26d071",
   "metadata": {},
   "source": [
    "#### 그래프로 출력하기"
   ]
  },
  {
   "cell_type": "code",
   "execution_count": 68,
   "id": "3c97ff25",
   "metadata": {},
   "outputs": [
    {
     "data": {
      "image/png": "[encoded data removed]",
      "text/plain": [
       "<Figure size 432x288 with 1 Axes>"
      ]
     },
     "metadata": {
      "needs_background": "light"
     },
     "output_type": "display_data"
    }
   ],
   "source": [
    "plt.scatter(s6, feature_target)\n",
    "plt.show()"
   ]
  },
  {
   "cell_type": "markdown",
   "id": "5dc6aa98",
   "metadata": {},
   "source": [
    "그래프로 출력해본 결과, 원형에 가깝게 나오므로 <br/>\n",
    "**s6(혈청 측정치 6번)은 당뇨병 수치와 상관관게가 약한 것으로 판단되었다.**"
   ]
  },
  {
   "cell_type": "markdown",
   "id": "f8cc25b1",
   "metadata": {},
   "source": [
    "<div style = \"height: 15px;\"><div/>"
   ]
  },
  {
   "cell_type": "markdown",
   "id": "2962e3e5",
   "metadata": {},
   "source": [
    "### 넘파이로 상관계수 구해보기"
   ]
  },
  {
   "cell_type": "code",
   "execution_count": 69,
   "id": "0ce3b7ec",
   "metadata": {},
   "outputs": [
    {
     "data": {
      "text/html": [
       "<div>\n",
       "<style scoped>\n",
       "    .dataframe tbody tr th:only-of-type {\n",
       "        vertical-align: middle;\n",
       "    }\n",
       "\n",
       "    .dataframe tbody tr th {\n",
       "        vertical-align: top;\n",
       "    }\n",
       "\n",
       "    .dataframe thead th {\n",
       "        text-align: right;\n",
       "    }\n",
       "</style>\n",
       "<table border=\"1\" class=\"dataframe\">\n",
       "  <thead>\n",
       "    <tr style=\"text-align: right;\">\n",
       "      <th></th>\n",
       "      <th>age</th>\n",
       "      <th>sex</th>\n",
       "      <th>bmi</th>\n",
       "      <th>bp</th>\n",
       "      <th>s1</th>\n",
       "      <th>s2</th>\n",
       "      <th>s3</th>\n",
       "      <th>s4</th>\n",
       "      <th>s5</th>\n",
       "      <th>s6</th>\n",
       "      <th>target</th>\n",
       "    </tr>\n",
       "  </thead>\n",
       "  <tbody>\n",
       "    <tr>\n",
       "      <th>age</th>\n",
       "      <td>1.000000</td>\n",
       "      <td>0.173737</td>\n",
       "      <td>0.185085</td>\n",
       "      <td>0.335427</td>\n",
       "      <td>0.260061</td>\n",
       "      <td>0.219243</td>\n",
       "      <td>-0.075181</td>\n",
       "      <td>0.203841</td>\n",
       "      <td>0.270777</td>\n",
       "      <td>0.301731</td>\n",
       "      <td>0.187889</td>\n",
       "    </tr>\n",
       "    <tr>\n",
       "      <th>sex</th>\n",
       "      <td>0.173737</td>\n",
       "      <td>1.000000</td>\n",
       "      <td>0.088161</td>\n",
       "      <td>0.241013</td>\n",
       "      <td>0.035277</td>\n",
       "      <td>0.142637</td>\n",
       "      <td>-0.379090</td>\n",
       "      <td>0.332115</td>\n",
       "      <td>0.149918</td>\n",
       "      <td>0.208133</td>\n",
       "      <td>0.043062</td>\n",
       "    </tr>\n",
       "    <tr>\n",
       "      <th>bmi</th>\n",
       "      <td>0.185085</td>\n",
       "      <td>0.088161</td>\n",
       "      <td>1.000000</td>\n",
       "      <td>0.395415</td>\n",
       "      <td>0.249777</td>\n",
       "      <td>0.261170</td>\n",
       "      <td>-0.366811</td>\n",
       "      <td>0.413807</td>\n",
       "      <td>0.446159</td>\n",
       "      <td>0.388680</td>\n",
       "      <td>0.586450</td>\n",
       "    </tr>\n",
       "    <tr>\n",
       "      <th>bp</th>\n",
       "      <td>0.335427</td>\n",
       "      <td>0.241013</td>\n",
       "      <td>0.395415</td>\n",
       "      <td>1.000000</td>\n",
       "      <td>0.242470</td>\n",
       "      <td>0.185558</td>\n",
       "      <td>-0.178761</td>\n",
       "      <td>0.257653</td>\n",
       "      <td>0.393478</td>\n",
       "      <td>0.390429</td>\n",
       "      <td>0.441484</td>\n",
       "    </tr>\n",
       "    <tr>\n",
       "      <th>s1</th>\n",
       "      <td>0.260061</td>\n",
       "      <td>0.035277</td>\n",
       "      <td>0.249777</td>\n",
       "      <td>0.242470</td>\n",
       "      <td>1.000000</td>\n",
       "      <td>0.896663</td>\n",
       "      <td>0.051519</td>\n",
       "      <td>0.542207</td>\n",
       "      <td>0.515501</td>\n",
       "      <td>0.325717</td>\n",
       "      <td>0.212022</td>\n",
       "    </tr>\n",
       "    <tr>\n",
       "      <th>s2</th>\n",
       "      <td>0.219243</td>\n",
       "      <td>0.142637</td>\n",
       "      <td>0.261170</td>\n",
       "      <td>0.185558</td>\n",
       "      <td>0.896663</td>\n",
       "      <td>1.000000</td>\n",
       "      <td>-0.196455</td>\n",
       "      <td>0.659817</td>\n",
       "      <td>0.318353</td>\n",
       "      <td>0.290600</td>\n",
       "      <td>0.174054</td>\n",
       "    </tr>\n",
       "    <tr>\n",
       "      <th>s3</th>\n",
       "      <td>-0.075181</td>\n",
       "      <td>-0.379090</td>\n",
       "      <td>-0.366811</td>\n",
       "      <td>-0.178761</td>\n",
       "      <td>0.051519</td>\n",
       "      <td>-0.196455</td>\n",
       "      <td>1.000000</td>\n",
       "      <td>-0.738493</td>\n",
       "      <td>-0.398577</td>\n",
       "      <td>-0.273697</td>\n",
       "      <td>-0.394789</td>\n",
       "    </tr>\n",
       "    <tr>\n",
       "      <th>s4</th>\n",
       "      <td>0.203841</td>\n",
       "      <td>0.332115</td>\n",
       "      <td>0.413807</td>\n",
       "      <td>0.257653</td>\n",
       "      <td>0.542207</td>\n",
       "      <td>0.659817</td>\n",
       "      <td>-0.738493</td>\n",
       "      <td>1.000000</td>\n",
       "      <td>0.617857</td>\n",
       "      <td>0.417212</td>\n",
       "      <td>0.430453</td>\n",
       "    </tr>\n",
       "    <tr>\n",
       "      <th>s5</th>\n",
       "      <td>0.270777</td>\n",
       "      <td>0.149918</td>\n",
       "      <td>0.446159</td>\n",
       "      <td>0.393478</td>\n",
       "      <td>0.515501</td>\n",
       "      <td>0.318353</td>\n",
       "      <td>-0.398577</td>\n",
       "      <td>0.617857</td>\n",
       "      <td>1.000000</td>\n",
       "      <td>0.464670</td>\n",
       "      <td>0.565883</td>\n",
       "    </tr>\n",
       "    <tr>\n",
       "      <th>s6</th>\n",
       "      <td>0.301731</td>\n",
       "      <td>0.208133</td>\n",
       "      <td>0.388680</td>\n",
       "      <td>0.390429</td>\n",
       "      <td>0.325717</td>\n",
       "      <td>0.290600</td>\n",
       "      <td>-0.273697</td>\n",
       "      <td>0.417212</td>\n",
       "      <td>0.464670</td>\n",
       "      <td>1.000000</td>\n",
       "      <td>0.382483</td>\n",
       "    </tr>\n",
       "    <tr>\n",
       "      <th>target</th>\n",
       "      <td>0.187889</td>\n",
       "      <td>0.043062</td>\n",
       "      <td>0.586450</td>\n",
       "      <td>0.441484</td>\n",
       "      <td>0.212022</td>\n",
       "      <td>0.174054</td>\n",
       "      <td>-0.394789</td>\n",
       "      <td>0.430453</td>\n",
       "      <td>0.565883</td>\n",
       "      <td>0.382483</td>\n",
       "      <td>1.000000</td>\n",
       "    </tr>\n",
       "  </tbody>\n",
       "</table>\n",
       "</div>"
      ],
      "text/plain": [
       "             age       sex       bmi        bp        s1        s2        s3  \\\n",
       "age     1.000000  0.173737  0.185085  0.335427  0.260061  0.219243 -0.075181   \n",
       "sex     0.173737  1.000000  0.088161  0.241013  0.035277  0.142637 -0.379090   \n",
       "bmi     0.185085  0.088161  1.000000  0.395415  0.249777  0.261170 -0.366811   \n",
       "bp      0.335427  0.241013  0.395415  1.000000  0.242470  0.185558 -0.178761   \n",
       "s1      0.260061  0.035277  0.249777  0.242470  1.000000  0.896663  0.051519   \n",
       "s2      0.219243  0.142637  0.261170  0.185558  0.896663  1.000000 -0.196455   \n",
       "s3     -0.075181 -0.379090 -0.366811 -0.178761  0.051519 -0.196455  1.000000   \n",
       "s4      0.203841  0.332115  0.413807  0.257653  0.542207  0.659817 -0.738493   \n",
       "s5      0.270777  0.149918  0.446159  0.393478  0.515501  0.318353 -0.398577   \n",
       "s6      0.301731  0.208133  0.388680  0.390429  0.325717  0.290600 -0.273697   \n",
       "target  0.187889  0.043062  0.586450  0.441484  0.212022  0.174054 -0.394789   \n",
       "\n",
       "              s4        s5        s6    target  \n",
       "age     0.203841  0.270777  0.301731  0.187889  \n",
       "sex     0.332115  0.149918  0.208133  0.043062  \n",
       "bmi     0.413807  0.446159  0.388680  0.586450  \n",
       "bp      0.257653  0.393478  0.390429  0.441484  \n",
       "s1      0.542207  0.515501  0.325717  0.212022  \n",
       "s2      0.659817  0.318353  0.290600  0.174054  \n",
       "s3     -0.738493 -0.398577 -0.273697 -0.394789  \n",
       "s4      1.000000  0.617857  0.417212  0.430453  \n",
       "s5      0.617857  1.000000  0.464670  0.565883  \n",
       "s6      0.417212  0.464670  1.000000  0.382483  \n",
       "target  0.430453  0.565883  0.382483  1.000000  "
      ]
     },
     "execution_count": 69,
     "metadata": {},
     "output_type": "execute_result"
    }
   ],
   "source": [
    "diabetes_df.corr(method = 'pearson')"
   ]
  },
  {
   "cell_type": "markdown",
   "id": "ef07385e",
   "metadata": {},
   "source": [
    "- age의 상관계수는 0.187\n",
    "- sex의 상관계수는 0.043\n",
    "- bmi의 상관계수는 0.586\n",
    "- bp의 상관계수는 0.441\n",
    "- s1의 상관 계수는 0.212\n",
    "- s2의 상관 계수는 0.174\n",
    "- s3의 상관 계수는 -0.394\n",
    "- s4의 상관 계수는 0.430\n",
    "- s5의 상관 계수는 0.565\n",
    "- s6의 상관 계수는 0.382이다.\n"
   ]
  },
  {
   "cell_type": "markdown",
   "id": "c5756011",
   "metadata": {},
   "source": [
    "각각의 특성 값과 target 값의 상관 관계를 확인해본 결과,<br/>\n",
    "<b style=\"color: red;\">BMI, s5가 가장 강한 상관관계를 가지고 있으며</b> bp, s4, s6은 약한 상관 관계를 가지고 있다.<br/>\n",
    "s3은 음의 상관관계를 가지고 있다."
   ]
  },
  {
   "cell_type": "markdown",
   "id": "7e6ad4e0",
   "metadata": {},
   "source": [
    "**따라서, 상관계수가 낮은 age, sex를 제외하고 모델을 학습시키고자한다.**"
   ]
  },
  {
   "cell_type": "markdown",
   "id": "eefdea9b",
   "metadata": {},
   "source": [
    "<div style = \"height: 15px;\"><div/>"
   ]
  },
  {
   "cell_type": "markdown",
   "id": "04787180",
   "metadata": {},
   "source": [
    "### 특정 특성 값으로 모델 다시 학습해보기\n",
    "<hr/>"
   ]
  },
  {
   "cell_type": "markdown",
   "id": "ae1e13f2",
   "metadata": {},
   "source": [
    "### x, y 설정하기"
   ]
  },
  {
   "cell_type": "code",
   "execution_count": 110,
   "id": "e8a80ee9",
   "metadata": {},
   "outputs": [],
   "source": [
    "x = diabetes_df[['bmi', 'bp', 's1', 's2', 's3', 's4', 's5', 's6']].values"
   ]
  },
  {
   "cell_type": "code",
   "execution_count": 111,
   "id": "be410a2d",
   "metadata": {},
   "outputs": [],
   "source": [
    "y = diabetes_df['target'].values"
   ]
  },
  {
   "cell_type": "code",
   "execution_count": 112,
   "id": "0856fd68",
   "metadata": {},
   "outputs": [
    {
     "data": {
      "text/plain": [
       "(442, 8)"
      ]
     },
     "execution_count": 112,
     "metadata": {},
     "output_type": "execute_result"
    }
   ],
   "source": [
    "x.shape"
   ]
  },
  {
   "cell_type": "code",
   "execution_count": 113,
   "id": "cfee6f6f",
   "metadata": {},
   "outputs": [
    {
     "data": {
      "text/plain": [
       "(442,)"
      ]
     },
     "execution_count": 113,
     "metadata": {},
     "output_type": "execute_result"
    }
   ],
   "source": [
    "y.shape"
   ]
  },
  {
   "cell_type": "markdown",
   "id": "c8ab99ce",
   "metadata": {},
   "source": [
    "<div style = \"height: 15px;\"><div/>"
   ]
  },
  {
   "cell_type": "markdown",
   "id": "cac28d95",
   "metadata": {},
   "source": [
    "### train, test 데이터 분리하기"
   ]
  },
  {
   "cell_type": "code",
   "execution_count": 114,
   "id": "888e2b25",
   "metadata": {},
   "outputs": [],
   "source": [
    "x_train, x_test, y_train, y_test = train_test_split(x, y, test_size = 0.2, random_state = 42)"
   ]
  },
  {
   "cell_type": "markdown",
   "id": "2c5c0093",
   "metadata": {},
   "source": [
    "<div style = \"height: 15px;\"><div/>"
   ]
  },
  {
   "cell_type": "markdown",
   "id": "33d5a978",
   "metadata": {},
   "source": [
    "### 임의의 w, b값 준비하기"
   ]
  },
  {
   "cell_type": "code",
   "execution_count": 115,
   "id": "2794f59d",
   "metadata": {},
   "outputs": [],
   "source": [
    "# w와 b 준비하기\n",
    "w = np.random.rand(8)\n",
    "b = np.random.rand()"
   ]
  },
  {
   "cell_type": "markdown",
   "id": "63355f83",
   "metadata": {},
   "source": [
    "<div style = \"height: 15px;\"><div/>"
   ]
  },
  {
   "cell_type": "markdown",
   "id": "b3241d6a",
   "metadata": {},
   "source": [
    "### 정의된 손실함수와 기울기 함수로 모델을 학습하기"
   ]
  },
  {
   "cell_type": "code",
   "execution_count": 116,
   "id": "62939c09",
   "metadata": {},
   "outputs": [],
   "source": [
    "# y값 찾는 모델 함수 \n",
    "def model(x, w, b):\n",
    "    predictions = 0\n",
    "    for i in range(len(w)):\n",
    "        predictions += x[:,i] * w[i]\n",
    "    predictions += b\n",
    "    return predictions"
   ]
  },
  {
   "cell_type": "code",
   "execution_count": 117,
   "id": "f68b7844",
   "metadata": {},
   "outputs": [],
   "source": [
    "# 훈련 데이터 loss값 구하기\n",
    "train_prediction = model(x_train, w, b)\n",
    "train_mse = loss(x_train, w, b, y_train)"
   ]
  },
  {
   "cell_type": "code",
   "execution_count": 118,
   "id": "c1d6eb33",
   "metadata": {},
   "outputs": [
    {
     "data": {
      "text/plain": [
       "29416.042037313302"
      ]
     },
     "execution_count": 118,
     "metadata": {},
     "output_type": "execute_result"
    }
   ],
   "source": [
    "# 훈련 데이터의 loss값\n",
    "train_mse"
   ]
  },
  {
   "cell_type": "code",
   "execution_count": 119,
   "id": "de8f334a",
   "metadata": {},
   "outputs": [
    {
     "data": {
      "text/plain": [
       "array([0.78707088, 0.01191431, 0.9265314 , 0.83836097, 0.40781061,\n",
       "       0.8358799 , 0.85475419, 0.20101846])"
      ]
     },
     "execution_count": 119,
     "metadata": {},
     "output_type": "execute_result"
    }
   ],
   "source": [
    "w"
   ]
  },
  {
   "cell_type": "code",
   "execution_count": 120,
   "id": "0f29ffae",
   "metadata": {},
   "outputs": [
    {
     "data": {
      "text/plain": [
       "0.9243438634041767"
      ]
     },
     "execution_count": 120,
     "metadata": {},
     "output_type": "execute_result"
    }
   ],
   "source": [
    "b"
   ]
  },
  {
   "cell_type": "code",
   "execution_count": 121,
   "id": "9a8de621",
   "metadata": {},
   "outputs": [],
   "source": [
    "# 경사 계산해보기\n",
    "w, b = gradient(x_train, w, b, y_train)"
   ]
  },
  {
   "cell_type": "code",
   "execution_count": 122,
   "id": "b98c9af4",
   "metadata": {},
   "outputs": [],
   "source": [
    "# 임의로 learning rate 지정하기\n",
    "learning_rate = 0.01"
   ]
  },
  {
   "cell_type": "code",
   "execution_count": 123,
   "id": "7b8949a1",
   "metadata": {},
   "outputs": [
    {
     "name": "stdout",
     "output_type": "stream",
     "text": [
      "Iteration 24999 : Loss 2984.91\n"
     ]
    }
   ],
   "source": [
    "losses = []\n",
    "\n",
    "for i in range(1, 25000):\n",
    "    dw, db = gradient(x_train, w, b, y_train)\n",
    "    w -= learning_rate * dw\n",
    "    b -= learning_rate * db\n",
    "    l = loss(x_train, w, b, y_train)\n",
    "    losses.append(l)\n",
    "    \n",
    "#     if i % 1000 == 0:\n",
    "print('Iteration %d : Loss %0.2f' % (i, l))"
   ]
  },
  {
   "cell_type": "markdown",
   "id": "a228c993",
   "metadata": {},
   "source": [
    "성공적으로 loss값이 줄어든 것을 확인할 수 있었다.<br/>\n",
    "이제, 새로운 데이터인 테스트 세트에 대한 예측을 해보고자 한다. "
   ]
  },
  {
   "cell_type": "markdown",
   "id": "836e74ef",
   "metadata": {},
   "source": [
    "<div style = \"height: 15px;\"><div/>"
   ]
  },
  {
   "cell_type": "markdown",
   "id": "e8121c79",
   "metadata": {},
   "source": [
    "### 데이터 예측하기"
   ]
  },
  {
   "cell_type": "code",
   "execution_count": 124,
   "id": "30250d89",
   "metadata": {},
   "outputs": [],
   "source": [
    "# w와 b 준비하기\n",
    "w = np.random.rand(8)\n",
    "b = np.random.rand()"
   ]
  },
  {
   "cell_type": "code",
   "execution_count": 125,
   "id": "f41f1a3e",
   "metadata": {},
   "outputs": [],
   "source": [
    "# 훈련 데이터 loss값 구하기\n",
    "test_prediction = model(x_test, w, b)\n",
    "test_mse = loss(x_test, w, b, y_test)"
   ]
  },
  {
   "cell_type": "code",
   "execution_count": 126,
   "id": "f2d226e1",
   "metadata": {},
   "outputs": [
    {
     "data": {
      "text/plain": [
       "26539.894147381878"
      ]
     },
     "execution_count": 126,
     "metadata": {},
     "output_type": "execute_result"
    }
   ],
   "source": [
    "# 훈련 데이터의 loss값\n",
    "test_mse"
   ]
  },
  {
   "cell_type": "code",
   "execution_count": 127,
   "id": "57459577",
   "metadata": {},
   "outputs": [],
   "source": [
    "# 경사 계산해보기\n",
    "w, b = gradient(x_test, w, b, y_test)"
   ]
  },
  {
   "cell_type": "code",
   "execution_count": 128,
   "id": "979e0458",
   "metadata": {},
   "outputs": [],
   "source": [
    "# 임의로 learning rate 지정하기\n",
    "learning_rate = 0.1"
   ]
  },
  {
   "cell_type": "code",
   "execution_count": 129,
   "id": "86776fb5",
   "metadata": {},
   "outputs": [
    {
     "name": "stdout",
     "output_type": "stream",
     "text": [
      "Iteration 1000 : Loss 2697.74\n",
      "Iteration 2000 : Loss 2692.13\n",
      "Iteration 3000 : Loss 2690.99\n",
      "Iteration 4000 : Loss 2690.21\n",
      "Iteration 5000 : Loss 2689.58\n",
      "Iteration 6000 : Loss 2689.05\n",
      "Iteration 7000 : Loss 2688.56\n",
      "Iteration 8000 : Loss 2688.10\n",
      "Iteration 9000 : Loss 2687.67\n",
      "Iteration 10000 : Loss 2687.25\n",
      "Iteration 11000 : Loss 2686.86\n",
      "Iteration 12000 : Loss 2686.48\n",
      "Iteration 13000 : Loss 2686.12\n",
      "Iteration 14000 : Loss 2685.77\n",
      "Iteration 15000 : Loss 2685.43\n",
      "Iteration 16000 : Loss 2685.11\n",
      "Iteration 17000 : Loss 2684.80\n",
      "Iteration 18000 : Loss 2684.51\n",
      "Iteration 19000 : Loss 2684.22\n",
      "Iteration 20000 : Loss 2683.95\n",
      "Iteration 21000 : Loss 2683.69\n",
      "Iteration 22000 : Loss 2683.43\n",
      "Iteration 23000 : Loss 2683.19\n",
      "Iteration 24000 : Loss 2682.96\n",
      "Iteration 25000 : Loss 2682.74\n",
      "Iteration 26000 : Loss 2682.53\n",
      "Iteration 27000 : Loss 2682.32\n",
      "Iteration 28000 : Loss 2682.12\n",
      "Iteration 29000 : Loss 2681.94\n",
      "Iteration 30000 : Loss 2681.75\n",
      "Iteration 31000 : Loss 2681.58\n",
      "Iteration 32000 : Loss 2681.41\n",
      "Iteration 33000 : Loss 2681.25\n",
      "Iteration 34000 : Loss 2681.10\n",
      "Iteration 35000 : Loss 2680.95\n",
      "Iteration 36000 : Loss 2680.81\n",
      "Iteration 37000 : Loss 2680.67\n",
      "Iteration 38000 : Loss 2680.54\n",
      "Iteration 39000 : Loss 2680.42\n",
      "Iteration 40000 : Loss 2680.30\n",
      "Iteration 41000 : Loss 2680.18\n",
      "Iteration 42000 : Loss 2680.07\n",
      "Iteration 43000 : Loss 2679.96\n",
      "Iteration 44000 : Loss 2679.86\n",
      "Iteration 45000 : Loss 2679.76\n",
      "Iteration 46000 : Loss 2679.67\n",
      "Iteration 47000 : Loss 2679.58\n",
      "Iteration 48000 : Loss 2679.49\n",
      "Iteration 49000 : Loss 2679.41\n",
      "Iteration 50000 : Loss 2679.33\n",
      "Iteration 51000 : Loss 2679.25\n",
      "Iteration 52000 : Loss 2679.18\n",
      "Iteration 53000 : Loss 2679.11\n",
      "Iteration 54000 : Loss 2679.04\n",
      "Iteration 55000 : Loss 2678.97\n",
      "Iteration 56000 : Loss 2678.91\n",
      "Iteration 57000 : Loss 2678.85\n",
      "Iteration 58000 : Loss 2678.79\n",
      "Iteration 59000 : Loss 2678.74\n",
      "Iteration 60000 : Loss 2678.68\n",
      "Iteration 61000 : Loss 2678.63\n",
      "Iteration 62000 : Loss 2678.58\n",
      "Iteration 63000 : Loss 2678.54\n",
      "Iteration 64000 : Loss 2678.49\n",
      "Iteration 65000 : Loss 2678.45\n",
      "Iteration 66000 : Loss 2678.41\n",
      "Iteration 67000 : Loss 2678.37\n",
      "Iteration 68000 : Loss 2678.33\n",
      "Iteration 69000 : Loss 2678.29\n",
      "Iteration 70000 : Loss 2678.26\n",
      "Iteration 71000 : Loss 2678.22\n",
      "Iteration 72000 : Loss 2678.19\n",
      "Iteration 73000 : Loss 2678.16\n",
      "Iteration 74000 : Loss 2678.13\n",
      "Iteration 75000 : Loss 2678.10\n",
      "Iteration 76000 : Loss 2678.07\n",
      "Iteration 77000 : Loss 2678.05\n",
      "Iteration 78000 : Loss 2678.02\n",
      "Iteration 79000 : Loss 2678.00\n",
      "Iteration 80000 : Loss 2677.97\n",
      "Iteration 81000 : Loss 2677.95\n",
      "Iteration 82000 : Loss 2677.93\n",
      "Iteration 83000 : Loss 2677.91\n",
      "Iteration 84000 : Loss 2677.89\n",
      "Iteration 85000 : Loss 2677.87\n",
      "Iteration 86000 : Loss 2677.85\n",
      "Iteration 87000 : Loss 2677.83\n",
      "Iteration 88000 : Loss 2677.82\n",
      "Iteration 89000 : Loss 2677.80\n",
      "Iteration 90000 : Loss 2677.79\n",
      "Iteration 91000 : Loss 2677.77\n",
      "Iteration 92000 : Loss 2677.76\n",
      "Iteration 93000 : Loss 2677.74\n",
      "Iteration 94000 : Loss 2677.73\n",
      "Iteration 95000 : Loss 2677.72\n",
      "Iteration 96000 : Loss 2677.70\n",
      "Iteration 97000 : Loss 2677.69\n",
      "Iteration 98000 : Loss 2677.68\n",
      "Iteration 99000 : Loss 2677.67\n",
      "Iteration 100000 : Loss 2677.66\n",
      "Iteration 101000 : Loss 2677.65\n",
      "Iteration 102000 : Loss 2677.64\n",
      "Iteration 103000 : Loss 2677.63\n",
      "Iteration 104000 : Loss 2677.62\n",
      "Iteration 105000 : Loss 2677.61\n",
      "Iteration 106000 : Loss 2677.61\n",
      "Iteration 107000 : Loss 2677.60\n",
      "Iteration 108000 : Loss 2677.59\n",
      "Iteration 109000 : Loss 2677.58\n",
      "Iteration 110000 : Loss 2677.58\n",
      "Iteration 111000 : Loss 2677.57\n",
      "Iteration 112000 : Loss 2677.56\n",
      "Iteration 113000 : Loss 2677.56\n",
      "Iteration 114000 : Loss 2677.55\n",
      "Iteration 115000 : Loss 2677.55\n",
      "Iteration 116000 : Loss 2677.54\n",
      "Iteration 117000 : Loss 2677.54\n",
      "Iteration 118000 : Loss 2677.53\n",
      "Iteration 119000 : Loss 2677.53\n",
      "Iteration 120000 : Loss 2677.52\n",
      "Iteration 121000 : Loss 2677.52\n",
      "Iteration 122000 : Loss 2677.51\n",
      "Iteration 123000 : Loss 2677.51\n",
      "Iteration 124000 : Loss 2677.51\n",
      "Iteration 125000 : Loss 2677.50\n",
      "Iteration 126000 : Loss 2677.50\n",
      "Iteration 127000 : Loss 2677.49\n",
      "Iteration 128000 : Loss 2677.49\n",
      "Iteration 129000 : Loss 2677.49\n",
      "Iteration 130000 : Loss 2677.48\n",
      "Iteration 131000 : Loss 2677.48\n",
      "Iteration 132000 : Loss 2677.48\n",
      "Iteration 133000 : Loss 2677.48\n",
      "Iteration 134000 : Loss 2677.47\n",
      "Iteration 135000 : Loss 2677.47\n",
      "Iteration 136000 : Loss 2677.47\n",
      "Iteration 137000 : Loss 2677.47\n",
      "Iteration 138000 : Loss 2677.46\n",
      "Iteration 139000 : Loss 2677.46\n",
      "Iteration 140000 : Loss 2677.46\n",
      "Iteration 141000 : Loss 2677.46\n",
      "Iteration 142000 : Loss 2677.46\n",
      "Iteration 143000 : Loss 2677.45\n",
      "Iteration 144000 : Loss 2677.45\n",
      "Iteration 145000 : Loss 2677.45\n",
      "Iteration 146000 : Loss 2677.45\n",
      "Iteration 147000 : Loss 2677.45\n",
      "Iteration 148000 : Loss 2677.45\n",
      "Iteration 149000 : Loss 2677.45\n",
      "Iteration 150000 : Loss 2677.44\n",
      "Iteration 151000 : Loss 2677.44\n",
      "Iteration 152000 : Loss 2677.44\n",
      "Iteration 153000 : Loss 2677.44\n",
      "Iteration 154000 : Loss 2677.44\n",
      "Iteration 155000 : Loss 2677.44\n",
      "Iteration 156000 : Loss 2677.44\n",
      "Iteration 157000 : Loss 2677.44\n",
      "Iteration 158000 : Loss 2677.44\n",
      "Iteration 159000 : Loss 2677.43\n",
      "Iteration 160000 : Loss 2677.43\n",
      "Iteration 161000 : Loss 2677.43\n",
      "Iteration 162000 : Loss 2677.43\n",
      "Iteration 163000 : Loss 2677.43\n",
      "Iteration 164000 : Loss 2677.43\n",
      "Iteration 165000 : Loss 2677.43\n",
      "Iteration 166000 : Loss 2677.43\n",
      "Iteration 167000 : Loss 2677.43\n",
      "Iteration 168000 : Loss 2677.43\n",
      "Iteration 169000 : Loss 2677.43\n",
      "Iteration 170000 : Loss 2677.43\n",
      "Iteration 171000 : Loss 2677.43\n",
      "Iteration 172000 : Loss 2677.43\n",
      "Iteration 173000 : Loss 2677.42\n",
      "Iteration 174000 : Loss 2677.42\n",
      "Iteration 175000 : Loss 2677.42\n",
      "Iteration 176000 : Loss 2677.42\n",
      "Iteration 177000 : Loss 2677.42\n",
      "Iteration 178000 : Loss 2677.42\n",
      "Iteration 179000 : Loss 2677.42\n",
      "Iteration 180000 : Loss 2677.42\n",
      "Iteration 181000 : Loss 2677.42\n",
      "Iteration 182000 : Loss 2677.42\n",
      "Iteration 183000 : Loss 2677.42\n",
      "Iteration 184000 : Loss 2677.42\n",
      "Iteration 185000 : Loss 2677.42\n",
      "Iteration 186000 : Loss 2677.42\n",
      "Iteration 187000 : Loss 2677.42\n",
      "Iteration 188000 : Loss 2677.42\n",
      "Iteration 189000 : Loss 2677.42\n"
     ]
    }
   ],
   "source": [
    "losses = []\n",
    "\n",
    "for i in range(1, 190000):\n",
    "    dw, db = gradient(x_test, w, b, y_test)\n",
    "    w -= learning_rate * dw\n",
    "    b -= learning_rate * db\n",
    "    l = loss(x_test, w, b, y_test)\n",
    "    losses.append(l)\n",
    "    \n",
    "    if i % 1000 == 0:\n",
    "        print('Iteration %d : Loss %0.2f' % (i, l))"
   ]
  },
  {
   "cell_type": "markdown",
   "id": "90443c4a",
   "metadata": {},
   "source": [
    "<b style=\"color: blue;\">반복 값을 계속 늘려봤으나, loss값은 2677.42에서 줄어들지 않았다.</b><br/>\n",
    "데이터 전처리를 통해 데이터를 좀 더 다듬어야 loss값이 줄어들 것 같다."
   ]
  },
  {
   "cell_type": "markdown",
   "id": "602b3b4f",
   "metadata": {},
   "source": [
    "<div style = \"height: 15px;\"><div/>"
   ]
  },
  {
   "cell_type": "markdown",
   "id": "d8bf1e5c",
   "metadata": {},
   "source": [
    "## (10) test 데이터에 대한 성능 확인하기\n",
    "<hr/>"
   ]
  },
  {
   "cell_type": "code",
   "execution_count": 130,
   "id": "6ad4f144",
   "metadata": {},
   "outputs": [],
   "source": [
    "test_prediction = model(x_test, w, b)"
   ]
  },
  {
   "cell_type": "code",
   "execution_count": 131,
   "id": "137ae215",
   "metadata": {},
   "outputs": [
    {
     "data": {
      "text/plain": [
       "array([165.56930469, 156.43246235, 213.69520843, 272.43242426,\n",
       "       134.39340932, 112.45466849, 253.88658397, 238.23393151,\n",
       "       124.64425744, 132.483613  , 108.11483979, 160.04791295,\n",
       "        62.75666405, 209.69345288, 117.88834732, 129.76332489,\n",
       "       250.41361869, 222.25255031, 163.21098598, 199.46941051,\n",
       "       225.51589609, 100.24113292,  72.768319  , 200.10533541,\n",
       "       150.02242693, 147.48265547, 169.51572848, 147.74402883,\n",
       "        63.54224535, 134.16037218, 159.6095148 ,  85.65956022,\n",
       "       167.50280587, 180.30227688, 173.82528625, 217.27384371,\n",
       "       144.90049762, 144.18795146, 161.31704742,  67.176614  ,\n",
       "        73.37401439, 109.68628792, 151.9790036 , 149.79093488,\n",
       "       211.32611595,  70.35691276,  83.79590132, 101.20784436,\n",
       "        55.94719517, 166.26558091, 142.44703484,  80.56609912,\n",
       "        96.5467471 , 105.67593586, 169.10507051, 136.2214535 ,\n",
       "        99.8069587 , 200.1457729 , 126.96091314,  87.35418699,\n",
       "       184.06650543, 196.14754099, 142.86148897, 111.22515693,\n",
       "       125.72740622, 208.06562757, 172.12802141, 166.22071865,\n",
       "       125.55564645, 159.21052101, 206.03675647, 187.60865411,\n",
       "       227.05599613, 142.96814129,  78.67788097, 143.6589416 ,\n",
       "       211.61561257, 203.00086617, 160.42223201, 187.64349338,\n",
       "       109.5838074 , 134.13473129,  81.59402108,  70.35375488,\n",
       "       116.28716582,  86.25164702,  75.79292477,  57.35210372,\n",
       "       143.5020937 ])"
      ]
     },
     "execution_count": 131,
     "metadata": {},
     "output_type": "execute_result"
    }
   ],
   "source": [
    "test_prediction"
   ]
  },
  {
   "cell_type": "code",
   "execution_count": 132,
   "id": "22f5cb35",
   "metadata": {},
   "outputs": [],
   "source": [
    "test_mse = loss(x_test, w, b, y_test)"
   ]
  },
  {
   "cell_type": "code",
   "execution_count": 133,
   "id": "1ec0c4ea",
   "metadata": {},
   "outputs": [
    {
     "data": {
      "text/plain": [
       "2677.4184792847554"
      ]
     },
     "execution_count": 133,
     "metadata": {},
     "output_type": "execute_result"
    }
   ],
   "source": [
    "test_mse"
   ]
  },
  {
   "cell_type": "code",
   "execution_count": 134,
   "id": "543a25a5",
   "metadata": {},
   "outputs": [],
   "source": [
    "# 경사 계산해보기\n",
    "w, b = gradient(x_test, w, b, y_test)"
   ]
  },
  {
   "cell_type": "code",
   "execution_count": 135,
   "id": "9671a713",
   "metadata": {},
   "outputs": [
    {
     "data": {
      "text/plain": [
       "array([ 1.24952940e-05,  1.54158580e-05, -3.75864569e-03,  3.17240270e-03,\n",
       "        1.60385456e-03,  2.42562049e-04,  1.25394174e-03,  6.27059001e-06])"
      ]
     },
     "execution_count": 135,
     "metadata": {},
     "output_type": "execute_result"
    }
   ],
   "source": [
    "w"
   ]
  },
  {
   "cell_type": "code",
   "execution_count": 136,
   "id": "d0c2046d",
   "metadata": {},
   "outputs": [
    {
     "data": {
      "text/plain": [
       "-1.5366022023627418e-06"
      ]
     },
     "execution_count": 136,
     "metadata": {},
     "output_type": "execute_result"
    }
   ],
   "source": [
    "b"
   ]
  },
  {
   "cell_type": "code",
   "execution_count": 137,
   "id": "c0b8fa84",
   "metadata": {},
   "outputs": [],
   "source": [
    "# 임의로 learning rate 지정하기\n",
    "learning_rate = 0.1"
   ]
  },
  {
   "cell_type": "code",
   "execution_count": 138,
   "id": "227cbbc8",
   "metadata": {},
   "outputs": [
    {
     "name": "stdout",
     "output_type": "stream",
     "text": [
      "Iteration 10 : Loss 4999.18\n",
      "Iteration 20 : Loss 4280.40\n",
      "Iteration 30 : Loss 3936.45\n",
      "Iteration 40 : Loss 3691.71\n",
      "Iteration 50 : Loss 3514.03\n",
      "Iteration 60 : Loss 3383.09\n",
      "Iteration 70 : Loss 3284.94\n",
      "Iteration 80 : Loss 3209.94\n",
      "Iteration 90 : Loss 3151.41\n",
      "Iteration 100 : Loss 3104.75\n",
      "Iteration 110 : Loss 3066.73\n",
      "Iteration 120 : Loss 3035.09\n",
      "Iteration 130 : Loss 3008.25\n",
      "Iteration 140 : Loss 2985.08\n",
      "Iteration 150 : Loss 2964.77\n",
      "Iteration 160 : Loss 2946.74\n",
      "Iteration 170 : Loss 2930.56\n",
      "Iteration 180 : Loss 2915.91\n",
      "Iteration 190 : Loss 2902.55\n",
      "Iteration 200 : Loss 2890.29\n",
      "Iteration 210 : Loss 2878.99\n",
      "Iteration 220 : Loss 2868.53\n",
      "Iteration 230 : Loss 2858.83\n",
      "Iteration 240 : Loss 2849.79\n",
      "Iteration 250 : Loss 2841.35\n",
      "Iteration 260 : Loss 2833.47\n",
      "Iteration 270 : Loss 2826.08\n",
      "Iteration 280 : Loss 2819.15\n",
      "Iteration 290 : Loss 2812.65\n"
     ]
    }
   ],
   "source": [
    "# 모델 학습시키기\n",
    "\n",
    "for i in range(1, 300):\n",
    "    dw, db = gradient(x_test, w, b, y_test)\n",
    "    w -= learning_rate * dw\n",
    "    b -= learning_rate * db\n",
    "    l = loss(x_test, w, b, y_test)\n",
    "    losses.append(l)\n",
    "    \n",
    "    if i % 10 == 0:\n",
    "        print('Iteration %d : Loss %0.2f' % (i, l))"
   ]
  },
  {
   "cell_type": "markdown",
   "id": "8944debc",
   "metadata": {},
   "source": [
    "<div style = \"height: 15px;\"><div/>"
   ]
  },
  {
   "cell_type": "markdown",
   "id": "3d0dc22d",
   "metadata": {},
   "source": [
    "`learning rate`를 `0.1로` 설정을 한 뒤 `훈련`을 `300`번 반복하니, loss값이 3000미만으로 줄은 것을 확인할 수 있었다.<br/>\n",
    "테스트 세트 또한 훈련 세트와 비슷하게 값이 떨어지는 것 같다."
   ]
  },
  {
   "cell_type": "markdown",
   "id": "e5c44523",
   "metadata": {},
   "source": [
    "<div style = \"height: 15px;\"><div/>"
   ]
  },
  {
   "cell_type": "markdown",
   "id": "5a60a565",
   "metadata": {},
   "source": [
    "<div style = \"height: 15px;\"><div/>"
   ]
  },
  {
   "cell_type": "markdown",
   "id": "ea71abba",
   "metadata": {},
   "source": [
    "## (11) 정답 데이터와 예측한 데이터 시각화하기\n",
    "<hr/>"
   ]
  },
  {
   "cell_type": "code",
   "execution_count": 142,
   "id": "a5b40599",
   "metadata": {},
   "outputs": [
    {
     "data": {
      "image/png": "[encoded data removed]",
      "text/plain": [
       "<Figure size 432x288 with 1 Axes>"
      ]
     },
     "metadata": {
      "needs_background": "light"
     },
     "output_type": "display_data"
    }
   ],
   "source": [
    "plt.scatter(x_test[:, 0], y_test)\n",
    "plt.scatter(x_test[:, 0], test_prediction)\n",
    "plt.xlabel('x_train')\n",
    "plt.ylabel('target & H(x)')\n",
    "plt.show()"
   ]
  },
  {
   "cell_type": "markdown",
   "id": "daace7d2",
   "metadata": {},
   "source": [
    "<div style = \"height: 50px;\"><div/>"
   ]
  },
  {
   "cell_type": "markdown",
   "id": "cc1efa34",
   "metadata": {},
   "source": [
    "## 회고\n",
    "<hr/>"
   ]
  },
  {
   "cell_type": "code",
   "execution_count": null,
   "id": "503437de",
   "metadata": {},
   "outputs": [],
   "source": [
    "늘 모델로 간단하게 구현만 했던 것을 직접적으로 함수로 구현하여 실행시키는 것은 생각보다 어려웠습니다.<br/>\n",
    "원리를 알고 사용해왔다고 생각했는데 python을 이용하여 함수로 구현해보니 그렇지 않다고 생각이 들었고, 선형 회귀에 대해 다른 사람들과 이야기를 나눠보는 경험을 통해 더 잘 이"
   ]
  },
  {
   "cell_type": "code",
   "execution_count": null,
   "id": "4997c4fd",
   "metadata": {},
   "outputs": [],
   "source": []
  },
  {
   "cell_type": "code",
   "execution_count": null,
   "id": "1870636a",
   "metadata": {},
   "outputs": [],
   "source": []
  },
  {
   "cell_type": "code",
   "execution_count": 141,
   "id": "a9a3de24",
   "metadata": {},
   "outputs": [],
   "source": [
    "# # 선형회귀모델 적용하기\n",
    "# model = LinearRegression()\n",
    "# # 모델 훈련하기\n",
    "# total = model.fit(x_train, y_train)\n",
    "# print(total.coef_)\n",
    "# print(total.intercept_)\n",
    "\n",
    "# # 새로운 데이터(x_test)의 예측값\n",
    "\n",
    "# predictions = model.predict(x_test)\n",
    "# mse = mean_squared_error(y_test, predictions)\n",
    "# print(mse)"
   ]
  },
  {
   "cell_type": "code",
   "execution_count": null,
   "id": "1ee38126",
   "metadata": {},
   "outputs": [],
   "source": []
  },
  {
   "cell_type": "code",
   "execution_count": null,
   "id": "b6ad3870",
   "metadata": {},
   "outputs": [],
   "source": []
  },
  {
   "cell_type": "code",
   "execution_count": null,
   "id": "2627f637",
   "metadata": {},
   "outputs": [],
   "source": []
  },
  {
   "cell_type": "code",
   "execution_count": null,
   "id": "c55be647",
   "metadata": {},
   "outputs": [],
   "source": []
  },
  {
   "cell_type": "code",
   "execution_count": null,
   "id": "32377acb",
   "metadata": {},
   "outputs": [],
   "source": []
  },
  {
   "cell_type": "code",
   "execution_count": null,
   "id": "12173783",
   "metadata": {},
   "outputs": [],
   "source": []
  },
  {
   "cell_type": "code",
   "execution_count": null,
   "id": "c2067b55",
   "metadata": {},
   "outputs": [],
   "source": []
  },
  {
   "cell_type": "code",
   "execution_count": null,
   "id": "688d082c",
   "metadata": {},
   "outputs": [],
   "source": []
  },
  {
   "cell_type": "code",
   "execution_count": null,
   "id": "208fc216",
   "metadata": {},
   "outputs": [],
   "source": []
  },
  {
   "cell_type": "code",
   "execution_count": null,
   "id": "6e37fb3c",
   "metadata": {},
   "outputs": [],
   "source": []
  },
  {
   "cell_type": "code",
   "execution_count": null,
   "id": "d2f0f22e",
   "metadata": {},
   "outputs": [],
   "source": []
  },
  {
   "cell_type": "code",
   "execution_count": null,
   "id": "926f6949",
   "metadata": {},
   "outputs": [],
   "source": []
  },
  {
   "cell_type": "code",
   "execution_count": null,
   "id": "d8e88a68",
   "metadata": {},
   "outputs": [],
   "source": []
  },
  {
   "cell_type": "code",
   "execution_count": null,
   "id": "736cded4",
   "metadata": {},
   "outputs": [],
   "source": []
  }
 ],
 "metadata": {
  "kernelspec": {
   "display_name": "Python 3 (ipykernel)",
   "language": "python",
   "name": "python3"
  },
  "language_info": {
   "codemirror_mode": {
    "name": "ipython",
    "version": 3
   },
   "file_extension": ".py",
   "mimetype": "text/x-python",
   "name": "python",
   "nbconvert_exporter": "python",
   "pygments_lexer": "ipython3",
   "version": "3.9.7"
  }
 },
 "nbformat": 4,
 "nbformat_minor": 5
}
