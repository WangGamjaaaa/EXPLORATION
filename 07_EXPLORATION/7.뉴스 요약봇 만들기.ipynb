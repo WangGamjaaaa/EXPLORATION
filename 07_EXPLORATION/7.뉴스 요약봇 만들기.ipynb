{
 "cells": [
  {
   "cell_type": "markdown",
   "id": "0a56b2a4",
   "metadata": {
    "id": "77b10410"
   },
   "source": [
    "# 목차\n",
    "<hr/>"
   ]
  },
  {
   "cell_type": "markdown",
   "id": "26580bfa",
   "metadata": {
    "id": "20460ebe"
   },
   "source": [
    "<ol>\n",
    "    <li style = \"margin-bottom:30px; list-style: none;\"><i style = \"font-weight:bold;font-style: normal;\">구글 드라이브 mount하여 연동하기</i></li>\n",
    "    <li style = \"margin-bottom:30px; list-style: none;\"><i style = \"font-weight:bold;font-style: normal;\">필요한 모듈 불러오기</i></li>\n",
    "    <li style = \"margin-bottom:30px; list-style: none;\"><i style = \"font-weight:bold;font-style: normal;\"><span style = \"font-weight:bold;color:#0172d4;\">STEP 1</span> : 데이터 수집하기</i></li>\n",
    "    <li style = \"margin-bottom:30px; list-style: none;\"><i style = \"font-weight:bold;font-style: normal;\"><span style = \"font-weight:bold;color:#0172d4;\">STEP 2</span> : 데이터 전처리하기 (추상적 요약)</i>\n",
    "        <ul style = \"margin-top:10px; list-style:none;\">\n",
    "            <li style = \"margin-bottom:3px;\"><span style = \"font-weight:bold;color:#0172d4;\">1. </span> 중복 샘플과 NULL 값이 존재하는 샘플 제거</li>\n",
    "            <li style = \"margin-bottom:5px;\"><span style = \"font-weight:bold;color:#0172d4;\">2. </span> 텍스트 정규화를 위한 사전 만들기</li>\n",
    "            <li style = \"margin-bottom:5px;\"><span style = \"font-weight:bold;color:#0172d4;\">3. </span> 데이터 전처리하기</li>\n",
    "            <li style = \"margin-bottom:5px;\"><span style = \"font-weight:bold;color:#0172d4;\">4. </span> 학습에 사용할 데이터의 크기를 결정하기</li>\n",
    "            <li style = \"margin-bottom:5px;\"><span style = \"font-weight:bold;color:#0172d4;\">5. </span> 시작 토큰과 종료 토큰 추가하기</li>\n",
    "            <li style = \"margin-bottom:5px;\"><span style = \"font-weight:bold;color:#0172d4;\">6. </span> 훈련 데이터와 테스트 데이터 분리하기</li>\n",
    "            <li style = \"margin-bottom:5px;\"><span style = \"font-weight:bold;color:#0172d4;\">7. </span> 단어 집합(vocabulary) 만들기 및 정수 인코딩</li>\n",
    "            <li style = \"margin-bottom:5px;\"><span style = \"font-weight:bold;color:#0172d4;\">8. </span> 패딩하기 전, 요약문의 길이가 1인 샘플 확인하기</li>\n",
    "            <li style = \"margin-bottom:5px;\"><span style = \"font-weight:bold;color:#0172d4;\">9. </span> 패딩하기</li>\n",
    "        </ul>\n",
    "    </li>\n",
    "    <li style = \"margin-bottom:30px; list-style: none;\"><i style = \"font-weight:bold;font-style: normal;\"><span style = \"font-weight:bold;color:#0172d4;\">STEP 3</span> : 어텐션 메커니즘 사용하기 (추상적 요약)</i>\n",
    "        <ul style = \"margin-top:10px; list-style:none;\">\n",
    "            <li style = \"margin-bottom:3px;\"><span style = \"font-weight:bold;color:#0172d4;\">1. </span> 인코더 설계하기</li>\n",
    "            <li style = \"margin-bottom:5px;\"><span style = \"font-weight:bold;color:#0172d4;\">2. </span> 디코더 설계하기</li>\n",
    "            <li style = \"margin-bottom:5px;\"><span style = \"font-weight:bold;color:#0172d4;\">3. </span> 어텐션 메커니즘 사용하여 seq2seq 설계하기</li>\n",
    "            <li style = \"margin-bottom:5px;\"><span style = \"font-weight:bold;color:#0172d4;\">4. </span> 모델 훈련하기</li>\n",
    "        </ul>\n",
    "    </li>\n",
    "    <li style = \"margin-bottom:30px; list-style: none;\"><i style = \"font-weight:bold;font-style: normal;\"><span style = \"font-weight:bold;color:#0172d4;\">STEP 4</span> : 실제 결과와 요약문 비교하기 (추상적 요약)</i>\n",
    "        <ul style = \"margin-top:10px; list-style:none;\">\n",
    "            <li style = \"margin-bottom:3px;\"><span style = \"font-weight:bold;color:#0172d4;\">1. </span> 인퍼런스 모델 구현하기</li>\n",
    "            <li style = \"margin-bottom:5px;\"><span style = \"font-weight:bold;color:#0172d4;\">2. </span> 인퍼런스 단계에서 단어 시퀀스를 완성하는 함수만들기</li>\n",
    "            <li style = \"margin-bottom:5px;\"><span style = \"font-weight:bold;color:#0172d4;\">3. </span> 모델 테스트하기</li>\n",
    "        </ul>\n",
    "    </li>\n",
    "    <li style = \"margin-bottom:30px; list-style: none;\"><i style = \"font-weight:bold;font-style: normal;\"><span style = \"font-weight:bold;color:#0172d4;\">STEP 5</span> : 인공지능 만들기</i>\n",
    "        <ul style = \"margin-top:10px; list-style:none;\">\n",
    "            <li style = \"margin-bottom:3px;\"><span style = \"font-weight:bold;color:#0172d4;\">1. </span> loss 지정하기</li>\n",
    "            <li style = \"margin-bottom:5px;\"><span style = \"font-weight:bold;color:#0172d4;\">2. </span> 텍스트 생성 클래스 선언하기</li>\n",
    "            <li style = \"margin-bottom:5px;\"><span style = \"font-weight:bold;color:#0172d4;\">3. </span> Model Build</li>\n",
    "            <li style = \"margin-bottom:5px;\"><span style = \"font-weight:bold;color:#0172d4;\">4. </span> Model 훈련하기</li>\n",
    "            <li style = \"margin-bottom:5px;\"><span style = \"font-weight:bold;color:#0172d4;\">5. </span> 작문을 통해 모델 평가해보기</li>\n",
    "        </ul>\n",
    "    </li>\n",
    "    <li style = \"margin-bottom:30px; list-style: none;\"><i style = \"font-weight:bold;font-style: normal;\"><span style = \"font-weight:bold;color:#0172d4;\">STEP 5</span> : 인공지능 만들기</i></li>\n",
    "    <li style = \"margin-bottom:30px; list-style: none;\"><i style = \"font-weight:bold;font-style: normal;\"><span style = \"font-weight:bold;color:#0172d4;\">STEP 6</span> : Summa을 이용해서 추출적 요약해보기</i>\n",
    "        <ul style = \"margin-top:10px; list-style:none;\">\n",
    "            <li style = \"margin-bottom:3px;\"><span style = \"font-weight:bold;color:#0172d4;\">1. </span> 텍스트 전처리를 적용한 텍스트로 요약해보기</li>\n",
    "            <li style = \"margin-bottom:5px;\"><span style = \"font-weight:bold;color:#0172d4;\">2. </span> 불용어를 제거하지 않고 전처리한 텍스트 요약하기</li>\n",
    "            <li style = \"margin-bottom:5px;\"><span style = \"font-weight:bold;color:#0172d4;\">3. </span> 데이터 전처리 하지 않은 원본의 텍스트 사용하여 요약하기</li>\n",
    "        </ul>\n",
    "    </li>\n",
    "    <li style = \"margin-bottom:30px; list-style: none;\"><i style = \"font-weight:bold;font-style: normal;\"><span style = \"font-weight:bold;color:#0172d4;\">STEP 6</span> : 추출적 요약과 추상적 요약의 결과 비교해보기</i>\n",
    "        <ul style = \"margin-top:10px; list-style:none;\">\n",
    "            <li style = \"margin-bottom:3px;\"><span style = \"font-weight:bold;color:#0172d4;\">1. </span> 추출적 요약</li>\n",
    "            <li style = \"margin-bottom:5px;\"><span style = \"font-weight:bold;color:#0172d4;\">2. </span> 추상적 요약</li>\n",
    "        </ul>\n",
    "    </li>\n",
    "    <li style = \"margin-bottom:30px; list-style: none;\"><i style = \"font-weight:bold;font-style: normal;\">회고</i>\n",
    "</ol>"
   ]
  },
  {
   "cell_type": "markdown",
   "id": "e4526b5b",
   "metadata": {
    "id": "df47d60c"
   },
   "source": [
    "<div style = \"height: 50px;\"><div/>"
   ]
  },
  {
   "cell_type": "markdown",
   "id": "64fe0b4c",
   "metadata": {
    "id": "b8af1b75"
   },
   "source": [
    "# 구글 드라이브 mount하여 연동하기"
   ]
  },
  {
   "cell_type": "code",
   "execution_count": null,
   "id": "80430b59",
   "metadata": {
    "colab": {
     "base_uri": "https://localhost:8080/"
    },
    "executionInfo": {
     "elapsed": 27039,
     "status": "ok",
     "timestamp": 1653317155075,
     "user": {
      "displayName": "생크림와플먹고싶다",
      "userId": "13048533309979940862"
     },
     "user_tz": -540
    },
    "id": "yXnWySMp7df-",
    "outputId": "60831b77-8c57-486f-f9f4-ad2b630d11a5"
   },
   "outputs": [
    {
     "name": "stdout",
     "output_type": "stream",
     "text": [
      "Mounted at /content/drive\n"
     ]
    }
   ],
   "source": [
    "from google.colab import drive\n",
    "drive.mount('/content/drive')"
   ]
  },
  {
   "cell_type": "markdown",
   "id": "b5926d91",
   "metadata": {
    "id": "c81f4ad2"
   },
   "source": [
    "<div style = \"height: 50px;\"><div/>"
   ]
  },
  {
   "cell_type": "markdown",
   "id": "5beaf0de",
   "metadata": {
    "id": "73623ce1"
   },
   "source": [
    "# 필요한 모듈 불러오기"
   ]
  },
  {
   "cell_type": "code",
   "execution_count": null,
   "id": "e2ee4b52",
   "metadata": {
    "colab": {
     "base_uri": "https://localhost:8080/"
    },
    "executionInfo": {
     "elapsed": 5447,
     "status": "ok",
     "timestamp": 1653317181829,
     "user": {
      "displayName": "생크림와플먹고싶다",
      "userId": "13048533309979940862"
     },
     "user_tz": -540
    },
    "id": "EWLNaib37uJN",
    "outputId": "ac7cb070-0a1e-48be-f1d4-92b9ad071325"
   },
   "outputs": [
    {
     "name": "stdout",
     "output_type": "stream",
     "text": [
      "Collecting summa\n",
      "  Downloading summa-1.2.0.tar.gz (54 kB)\n",
      "\u001b[?25l\r",
      "\u001b[K     |██████                          | 10 kB 34.0 MB/s eta 0:00:01\r",
      "\u001b[K     |████████████                    | 20 kB 24.0 MB/s eta 0:00:01\r",
      "\u001b[K     |██████████████████              | 30 kB 18.0 MB/s eta 0:00:01\r",
      "\u001b[K     |███████████████████████▉        | 40 kB 15.0 MB/s eta 0:00:01\r",
      "\u001b[K     |█████████████████████████████▉  | 51 kB 8.6 MB/s eta 0:00:01\r",
      "\u001b[K     |████████████████████████████████| 54 kB 2.8 MB/s \n",
      "\u001b[?25hRequirement already satisfied: scipy>=0.19 in /usr/local/lib/python3.7/dist-packages (from summa) (1.4.1)\n",
      "Requirement already satisfied: numpy>=1.13.3 in /usr/local/lib/python3.7/dist-packages (from scipy>=0.19->summa) (1.21.6)\n",
      "Building wheels for collected packages: summa\n",
      "  Building wheel for summa (setup.py) ... \u001b[?25l\u001b[?25hdone\n",
      "  Created wheel for summa: filename=summa-1.2.0-py3-none-any.whl size=54412 sha256=06bfce778c1c04f0310a168da0d43324d9dbcebe10840c749379cc4bcbd43614\n",
      "  Stored in directory: /root/.cache/pip/wheels/29/64/ac/7b443477588d365ef37ada30d456bdf5f07dc5be9f6324cb6e\n",
      "Successfully built summa\n",
      "Installing collected packages: summa\n",
      "Successfully installed summa-1.2.0\n"
     ]
    }
   ],
   "source": [
    "! pip install summa"
   ]
  },
  {
   "cell_type": "code",
   "execution_count": null,
   "id": "ac3cbc06",
   "metadata": {
    "colab": {
     "base_uri": "https://localhost:8080/"
    },
    "executionInfo": {
     "elapsed": 1946,
     "status": "ok",
     "timestamp": 1653317183758,
     "user": {
      "displayName": "생크림와플먹고싶다",
      "userId": "13048533309979940862"
     },
     "user_tz": -540
    },
    "id": "AO1E1f227xb7",
    "outputId": "b019b22f-53d9-4900-b252-9eb5dd95d971"
   },
   "outputs": [
    {
     "name": "stdout",
     "output_type": "stream",
     "text": [
      "Requirement already satisfied: importlib_metadata in /usr/local/lib/python3.7/dist-packages (4.11.3)\n",
      "Requirement already satisfied: typing-extensions>=3.6.4 in /usr/local/lib/python3.7/dist-packages (from importlib_metadata) (4.2.0)\n",
      "Requirement already satisfied: zipp>=0.5 in /usr/local/lib/python3.7/dist-packages (from importlib_metadata) (3.8.0)\n"
     ]
    }
   ],
   "source": [
    "!pip install importlib_metadata"
   ]
  },
  {
   "cell_type": "markdown",
   "id": "c729484e",
   "metadata": {
    "id": "cac1706f"
   },
   "source": [
    "<p style= \"font-size:15px; line-height:24px;\">코랩에서는 로컬에서 다운 받은 패키지를 사용할 수 없다. <br/>따라서 파일을 실행 시킬 때마다 pip로 패키지를 다운 받아야 한다.</p>"
   ]
  },
  {
   "cell_type": "markdown",
   "id": "e976994c",
   "metadata": {
    "id": "1f1cb268"
   },
   "source": [
    "<div style = \"height: 25px;\"></div>"
   ]
  },
  {
   "cell_type": "code",
   "execution_count": 2,
   "id": "51863efb",
   "metadata": {
    "colab": {
     "base_uri": "https://localhost:8080/"
    },
    "executionInfo": {
     "elapsed": 3597,
     "status": "ok",
     "timestamp": 1653317187348,
     "user": {
      "displayName": "생크림와플먹고싶다",
      "userId": "13048533309979940862"
     },
     "user_tz": -540
    },
    "id": "577f17b4",
    "outputId": "573c86fe-6c8a-46e3-a5bc-c26bf1855074"
   },
   "outputs": [
    {
     "name": "stderr",
     "output_type": "stream",
     "text": [
      "[nltk_data] Downloading package stopwords to /home/yhy/nltk_data...\n",
      "[nltk_data]   Package stopwords is already up-to-date!\n"
     ]
    },
    {
     "data": {
      "text/plain": [
       "True"
      ]
     },
     "execution_count": 2,
     "metadata": {},
     "output_type": "execute_result"
    }
   ],
   "source": [
    "import nltk\n",
    "import tensorflow\n",
    "import summa\n",
    "\n",
    "import os\n",
    "import re\n",
    "import requests\n",
    "import urllib.request\n",
    "import warnings\n",
    "warnings.filterwarnings(\"ignore\", category=UserWarning, module='bs4')\n",
    "\n",
    "import matplotlib.pyplot as plt\n",
    "import numpy             as np\n",
    "import pandas            as pd\n",
    "\n",
    "from nltk.corpus                             import stopwords\n",
    "from bs4                                     import BeautifulSoup \n",
    "from tensorflow.keras.preprocessing.text     import Tokenizer\n",
    "from tensorflow.keras.preprocessing.sequence import pad_sequences\n",
    "from tensorflow.keras.layers                 import Input, LSTM, Embedding, Dense, Concatenate, TimeDistributed\n",
    "from tensorflow.keras.models                 import Model\n",
    "from tensorflow.keras.callbacks              import EarlyStopping, ModelCheckpoint\n",
    "from importlib_metadata                      import version\n",
    "from tensorflow.keras.layers                 import AdditiveAttention\n",
    "from summa.summarizer                        import summarize\n",
    "\n",
    "nltk.download('stopwords')"
   ]
  },
  {
   "cell_type": "markdown",
   "id": "e209aa4f",
   "metadata": {
    "id": "4754b515"
   },
   "source": [
    "<div style = \"height: 25px;\"></div>"
   ]
  },
  {
   "cell_type": "markdown",
   "id": "fb65c9c8",
   "metadata": {
    "id": "295e0393"
   },
   "source": [
    "<p style= \"font-size:15px; line-height:24px;\">마찬가지로, stopwords를 사용하기 위해서는 파일을 열 때마다 </p>"
   ]
  },
  {
   "cell_type": "code",
   "execution_count": null,
   "id": "7023da7e",
   "metadata": {
    "id": "afa868bc"
   },
   "outputs": [],
   "source": [
    "nltk.download('stopwords')"
   ]
  },
  {
   "cell_type": "markdown",
   "id": "330ff1d7",
   "metadata": {
    "id": "d77efe4b"
   },
   "source": [
    "<p style= \"font-size:15px; line-height:24px;\">위 코드를 실행시켜서 다운을 받아야 한다.</p>"
   ]
  },
  {
   "cell_type": "markdown",
   "id": "f893340b",
   "metadata": {
    "id": "3df08efe"
   },
   "source": [
    "<div style = \"height: 50px;\"></div>"
   ]
  },
  {
   "cell_type": "markdown",
   "id": "debc6a7c",
   "metadata": {
    "id": "4c037cec"
   },
   "source": [
    "# <span style = \"font-weight:bold;color:#0172d4;\">STEP 1</span> : 데이터 수집하기"
   ]
  },
  {
   "cell_type": "markdown",
   "id": "5a780e4e",
   "metadata": {
    "id": "18b8b3fb"
   },
   "source": [
    "- 뉴스 기사 데이터(news_summary_more.csv)를 사용"
   ]
  },
  {
   "cell_type": "code",
   "execution_count": 5,
   "id": "9301fd48",
   "metadata": {
    "id": "5fd376c0"
   },
   "outputs": [],
   "source": [
    "data = pd.read_csv('data/news_summary_more.csv', encoding='iso-8859-1')"
   ]
  },
  {
   "cell_type": "code",
   "execution_count": null,
   "id": "aef521ae",
   "metadata": {
    "colab": {
     "base_uri": "https://localhost:8080/"
    },
    "executionInfo": {
     "elapsed": 13,
     "status": "ok",
     "timestamp": 1653308687788,
     "user": {
      "displayName": "생크림와플먹고싶다",
      "userId": "13048533309979940862"
     },
     "user_tz": -540
    },
    "id": "cd0c12dc",
    "outputId": "c98b6597-86a9-478a-dfcc-d6582ec57fb9"
   },
   "outputs": [
    {
     "data": {
      "text/plain": [
       "(98401, 2)"
      ]
     },
     "execution_count": 23,
     "metadata": {},
     "output_type": "execute_result"
    }
   ],
   "source": [
    "data.shape"
   ]
  },
  {
   "cell_type": "code",
   "execution_count": null,
   "id": "ab63029e",
   "metadata": {
    "colab": {
     "base_uri": "https://localhost:8080/",
     "height": 363
    },
    "executionInfo": {
     "elapsed": 11,
     "status": "ok",
     "timestamp": 1653308687788,
     "user": {
      "displayName": "생크림와플먹고싶다",
      "userId": "13048533309979940862"
     },
     "user_tz": -540
    },
    "id": "d3b60ff7",
    "outputId": "8388f7ee-245c-45cb-a47f-554fda3f1455"
   },
   "outputs": [
    {
     "data": {
      "text/html": [
       "\n",
       "  <div id=\"df-1425dec3-4cc1-42d5-896a-b340d387ff87\">\n",
       "    <div class=\"colab-df-container\">\n",
       "      <div>\n",
       "<style scoped>\n",
       "    .dataframe tbody tr th:only-of-type {\n",
       "        vertical-align: middle;\n",
       "    }\n",
       "\n",
       "    .dataframe tbody tr th {\n",
       "        vertical-align: top;\n",
       "    }\n",
       "\n",
       "    .dataframe thead th {\n",
       "        text-align: right;\n",
       "    }\n",
       "</style>\n",
       "<table border=\"1\" class=\"dataframe\">\n",
       "  <thead>\n",
       "    <tr style=\"text-align: right;\">\n",
       "      <th></th>\n",
       "      <th>headlines</th>\n",
       "      <th>text</th>\n",
       "    </tr>\n",
       "  </thead>\n",
       "  <tbody>\n",
       "    <tr>\n",
       "      <th>0</th>\n",
       "      <td>upGrad learner switches to career in ML &amp; Al w...</td>\n",
       "      <td>Saurav Kant, an alumnus of upGrad and IIIT-B's...</td>\n",
       "    </tr>\n",
       "    <tr>\n",
       "      <th>1</th>\n",
       "      <td>Delhi techie wins free food from Swiggy for on...</td>\n",
       "      <td>Kunal Shah's credit card bill payment platform...</td>\n",
       "    </tr>\n",
       "    <tr>\n",
       "      <th>2</th>\n",
       "      <td>New Zealand end Rohit Sharma-led India's 12-ma...</td>\n",
       "      <td>New Zealand defeated India by 8 wickets in the...</td>\n",
       "    </tr>\n",
       "    <tr>\n",
       "      <th>3</th>\n",
       "      <td>Aegon life iTerm insurance plan helps customer...</td>\n",
       "      <td>With Aegon Life iTerm Insurance plan, customer...</td>\n",
       "    </tr>\n",
       "    <tr>\n",
       "      <th>4</th>\n",
       "      <td>Have known Hirani for yrs, what if MeToo claim...</td>\n",
       "      <td>Speaking about the sexual harassment allegatio...</td>\n",
       "    </tr>\n",
       "    <tr>\n",
       "      <th>5</th>\n",
       "      <td>Rahat Fateh Ali Khan denies getting notice for...</td>\n",
       "      <td>Pakistani singer Rahat Fateh Ali Khan has deni...</td>\n",
       "    </tr>\n",
       "    <tr>\n",
       "      <th>6</th>\n",
       "      <td>India get all out for 92, their lowest ODI tot...</td>\n",
       "      <td>India recorded their lowest ODI total in New Z...</td>\n",
       "    </tr>\n",
       "    <tr>\n",
       "      <th>7</th>\n",
       "      <td>Govt directs Alok Verma to join work 1 day bef...</td>\n",
       "      <td>Weeks after ex-CBI Director Alok Verma told th...</td>\n",
       "    </tr>\n",
       "    <tr>\n",
       "      <th>8</th>\n",
       "      <td>Called PM Modi 'sir' 10 times to satisfy his e...</td>\n",
       "      <td>Andhra Pradesh CM N Chandrababu Naidu has said...</td>\n",
       "    </tr>\n",
       "    <tr>\n",
       "      <th>9</th>\n",
       "      <td>Cong wins Ramgarh bypoll in Rajasthan, takes t...</td>\n",
       "      <td>Congress candidate Shafia Zubair won the Ramga...</td>\n",
       "    </tr>\n",
       "  </tbody>\n",
       "</table>\n",
       "</div>\n",
       "      <button class=\"colab-df-convert\" onclick=\"convertToInteractive('df-1425dec3-4cc1-42d5-896a-b340d387ff87')\"\n",
       "              title=\"Convert this dataframe to an interactive table.\"\n",
       "              style=\"display:none;\">\n",
       "        \n",
       "  <svg xmlns=\"http://www.w3.org/2000/svg\" height=\"24px\"viewBox=\"0 0 24 24\"\n",
       "       width=\"24px\">\n",
       "    <path d=\"M0 0h24v24H0V0z\" fill=\"none\"/>\n",
       "    <path d=\"M18.56 5.44l.94 2.06.94-2.06 2.06-.94-2.06-.94-.94-2.06-.94 2.06-2.06.94zm-11 1L8.5 8.5l.94-2.06 2.06-.94-2.06-.94L8.5 2.5l-.94 2.06-2.06.94zm10 10l.94 2.06.94-2.06 2.06-.94-2.06-.94-.94-2.06-.94 2.06-2.06.94z\"/><path d=\"M17.41 7.96l-1.37-1.37c-.4-.4-.92-.59-1.43-.59-.52 0-1.04.2-1.43.59L10.3 9.45l-7.72 7.72c-.78.78-.78 2.05 0 2.83L4 21.41c.39.39.9.59 1.41.59.51 0 1.02-.2 1.41-.59l7.78-7.78 2.81-2.81c.8-.78.8-2.07 0-2.86zM5.41 20L4 18.59l7.72-7.72 1.47 1.35L5.41 20z\"/>\n",
       "  </svg>\n",
       "      </button>\n",
       "      \n",
       "  <style>\n",
       "    .colab-df-container {\n",
       "      display:flex;\n",
       "      flex-wrap:wrap;\n",
       "      gap: 12px;\n",
       "    }\n",
       "\n",
       "    .colab-df-convert {\n",
       "      background-color: #E8F0FE;\n",
       "      border: none;\n",
       "      border-radius: 50%;\n",
       "      cursor: pointer;\n",
       "      display: none;\n",
       "      fill: #1967D2;\n",
       "      height: 32px;\n",
       "      padding: 0 0 0 0;\n",
       "      width: 32px;\n",
       "    }\n",
       "\n",
       "    .colab-df-convert:hover {\n",
       "      background-color: #E2EBFA;\n",
       "      box-shadow: 0px 1px 2px rgba(60, 64, 67, 0.3), 0px 1px 3px 1px rgba(60, 64, 67, 0.15);\n",
       "      fill: #174EA6;\n",
       "    }\n",
       "\n",
       "    [theme=dark] .colab-df-convert {\n",
       "      background-color: #3B4455;\n",
       "      fill: #D2E3FC;\n",
       "    }\n",
       "\n",
       "    [theme=dark] .colab-df-convert:hover {\n",
       "      background-color: #434B5C;\n",
       "      box-shadow: 0px 1px 3px 1px rgba(0, 0, 0, 0.15);\n",
       "      filter: drop-shadow(0px 1px 2px rgba(0, 0, 0, 0.3));\n",
       "      fill: #FFFFFF;\n",
       "    }\n",
       "  </style>\n",
       "\n",
       "      <script>\n",
       "        const buttonEl =\n",
       "          document.querySelector('#df-1425dec3-4cc1-42d5-896a-b340d387ff87 button.colab-df-convert');\n",
       "        buttonEl.style.display =\n",
       "          google.colab.kernel.accessAllowed ? 'block' : 'none';\n",
       "\n",
       "        async function convertToInteractive(key) {\n",
       "          const element = document.querySelector('#df-1425dec3-4cc1-42d5-896a-b340d387ff87');\n",
       "          const dataTable =\n",
       "            await google.colab.kernel.invokeFunction('convertToInteractive',\n",
       "                                                     [key], {});\n",
       "          if (!dataTable) return;\n",
       "\n",
       "          const docLinkHtml = 'Like what you see? Visit the ' +\n",
       "            '<a target=\"_blank\" href=https://colab.research.google.com/notebooks/data_table.ipynb>data table notebook</a>'\n",
       "            + ' to learn more about interactive tables.';\n",
       "          element.innerHTML = '';\n",
       "          dataTable['output_type'] = 'display_data';\n",
       "          await google.colab.output.renderOutput(dataTable, element);\n",
       "          const docLink = document.createElement('div');\n",
       "          docLink.innerHTML = docLinkHtml;\n",
       "          element.appendChild(docLink);\n",
       "        }\n",
       "      </script>\n",
       "    </div>\n",
       "  </div>\n",
       "  "
      ],
      "text/plain": [
       "                                           headlines  \\\n",
       "0  upGrad learner switches to career in ML & Al w...   \n",
       "1  Delhi techie wins free food from Swiggy for on...   \n",
       "2  New Zealand end Rohit Sharma-led India's 12-ma...   \n",
       "3  Aegon life iTerm insurance plan helps customer...   \n",
       "4  Have known Hirani for yrs, what if MeToo claim...   \n",
       "5  Rahat Fateh Ali Khan denies getting notice for...   \n",
       "6  India get all out for 92, their lowest ODI tot...   \n",
       "7  Govt directs Alok Verma to join work 1 day bef...   \n",
       "8  Called PM Modi 'sir' 10 times to satisfy his e...   \n",
       "9  Cong wins Ramgarh bypoll in Rajasthan, takes t...   \n",
       "\n",
       "                                                text  \n",
       "0  Saurav Kant, an alumnus of upGrad and IIIT-B's...  \n",
       "1  Kunal Shah's credit card bill payment platform...  \n",
       "2  New Zealand defeated India by 8 wickets in the...  \n",
       "3  With Aegon Life iTerm Insurance plan, customer...  \n",
       "4  Speaking about the sexual harassment allegatio...  \n",
       "5  Pakistani singer Rahat Fateh Ali Khan has deni...  \n",
       "6  India recorded their lowest ODI total in New Z...  \n",
       "7  Weeks after ex-CBI Director Alok Verma told th...  \n",
       "8  Andhra Pradesh CM N Chandrababu Naidu has said...  \n",
       "9  Congress candidate Shafia Zubair won the Ramga...  "
      ]
     },
     "execution_count": 24,
     "metadata": {},
     "output_type": "execute_result"
    }
   ],
   "source": [
    "data.head(10)"
   ]
  },
  {
   "cell_type": "markdown",
   "id": "60d60850",
   "metadata": {
    "id": "93112830"
   },
   "source": [
    "<div style = \"height: 50px;\"></div>"
   ]
  },
  {
   "cell_type": "markdown",
   "id": "f7485c9f",
   "metadata": {
    "id": "531cdd36"
   },
   "source": [
    "# <span style = \"font-weight:bold;color:#0172d4;\">STEP 2</span> : 데이터 전처리하기 (추상적 요약)"
   ]
  },
  {
   "cell_type": "markdown",
   "id": "dea6ef61",
   "metadata": {
    "id": "2ee2e8a1"
   },
   "source": [
    "## 1. 중복 샘플과 NULL 값이 존재하는 샘플 제거\n",
    "<hr/>"
   ]
  },
  {
   "cell_type": "code",
   "execution_count": null,
   "id": "a26a4e39",
   "metadata": {
    "colab": {
     "base_uri": "https://localhost:8080/"
    },
    "executionInfo": {
     "elapsed": 9,
     "status": "ok",
     "timestamp": 1653308687788,
     "user": {
      "displayName": "생크림와플먹고싶다",
      "userId": "13048533309979940862"
     },
     "user_tz": -540
    },
    "id": "df320561",
    "outputId": "11810e3c-45f8-471f-c344-ffc7485c8969"
   },
   "outputs": [
    {
     "name": "stdout",
     "output_type": "stream",
     "text": [
      "text 열에서 중복을 배제한 유일한 샘플의 수 : 98360\n",
      "headlines 열에서 중복을 배제한 유일한 샘플의 수 : 98280\n"
     ]
    }
   ],
   "source": [
    "print('text 열에서 중복을 배제한 유일한 샘플의 수 :', data['text'].nunique())\n",
    "print('headlines 열에서 중복을 배제한 유일한 샘플의 수 :', data['headlines'].nunique())"
   ]
  },
  {
   "cell_type": "markdown",
   "id": "74866580",
   "metadata": {
    "id": "3559b9b9"
   },
   "source": [
    "<p style= \"font-size:15px; line-height:24px;\">data의 샘플 수는 98,401로, test에는 41개의 중복된 샘플이,<br/>\n",
    "headlines에는 121개의 중복 샘플이 존재한다.<br/>\n",
    "headlines은 기사의 요약 또는 제목을 뜻하므로, text가 다르더라도, 중복되는 값이 있다는 뜻으로 해석된다.<br/>\n",
    "따라서, 중복 값은 text만 제거할 것이다.</p>"
   ]
  },
  {
   "cell_type": "markdown",
   "id": "9c295c4c",
   "metadata": {
    "id": "14d9314a"
   },
   "source": [
    "<div style = \"height: 25px;\"></div>"
   ]
  },
  {
   "cell_type": "markdown",
   "id": "2e28480c",
   "metadata": {
    "id": "2d774e26"
   },
   "source": [
    "### drop_duplicates() 사용하여 중복 샘플 제거하기"
   ]
  },
  {
   "cell_type": "markdown",
   "id": "542574d8",
   "metadata": {
    "id": "05828020"
   },
   "source": [
    "#### text의 중복 제거"
   ]
  },
  {
   "cell_type": "code",
   "execution_count": null,
   "id": "3e0aca55",
   "metadata": {
    "id": "456bdac5"
   },
   "outputs": [],
   "source": [
    "data = data.drop_duplicates(subset = ['text'], inplace = False)"
   ]
  },
  {
   "cell_type": "code",
   "execution_count": null,
   "id": "4dc50fc2",
   "metadata": {
    "colab": {
     "base_uri": "https://localhost:8080/"
    },
    "executionInfo": {
     "elapsed": 7,
     "status": "ok",
     "timestamp": 1653308691335,
     "user": {
      "displayName": "생크림와플먹고싶다",
      "userId": "13048533309979940862"
     },
     "user_tz": -540
    },
    "id": "50e96fba",
    "outputId": "bb24524d-dcd8-439c-add6-46bc1a663346"
   },
   "outputs": [
    {
     "data": {
      "text/plain": [
       "98360"
      ]
     },
     "execution_count": 27,
     "metadata": {},
     "output_type": "execute_result"
    }
   ],
   "source": [
    "len(data)"
   ]
  },
  {
   "cell_type": "markdown",
   "id": "5053fc7b",
   "metadata": {
    "id": "4b7bc166"
   },
   "source": [
    "<div style = \"height: 25px;\"></div>"
   ]
  },
  {
   "cell_type": "markdown",
   "id": "d422e236",
   "metadata": {
    "id": "2480587b"
   },
   "source": [
    "### isnull().sum()이용하여 nall값 제거하기"
   ]
  },
  {
   "cell_type": "code",
   "execution_count": null,
   "id": "5192167d",
   "metadata": {
    "colab": {
     "base_uri": "https://localhost:8080/"
    },
    "executionInfo": {
     "elapsed": 5,
     "status": "ok",
     "timestamp": 1653308691336,
     "user": {
      "displayName": "생크림와플먹고싶다",
      "userId": "13048533309979940862"
     },
     "user_tz": -540
    },
    "id": "1b3fcfa4",
    "outputId": "487bd9da-1571-4867-b2f1-4cec7225f719"
   },
   "outputs": [
    {
     "data": {
      "text/plain": [
       "headlines    0\n",
       "text         0\n",
       "dtype: int64"
      ]
     },
     "execution_count": 28,
     "metadata": {},
     "output_type": "execute_result"
    }
   ],
   "source": [
    "data.isnull().sum()"
   ]
  },
  {
   "cell_type": "markdown",
   "id": "4712c835",
   "metadata": {
    "id": "143a40fd"
   },
   "source": [
    "중복값을 제거했으나, nall 값이 없는 것을 확인하였다."
   ]
  },
  {
   "cell_type": "markdown",
   "id": "218d8bec",
   "metadata": {
    "id": "9e205adc"
   },
   "source": [
    "<div style = \"height: 50px;\"></div>"
   ]
  },
  {
   "cell_type": "markdown",
   "id": "c1ab8c93",
   "metadata": {
    "id": "845d3bdc"
   },
   "source": [
    "## 2. 텍스트 정규화를 위한 사전 만들기\n",
    "<hr/>"
   ]
  },
  {
   "cell_type": "code",
   "execution_count": null,
   "id": "e848ecaa",
   "metadata": {
    "colab": {
     "base_uri": "https://localhost:8080/"
    },
    "executionInfo": {
     "elapsed": 3,
     "status": "ok",
     "timestamp": 1653320228769,
     "user": {
      "displayName": "생크림와플먹고싶다",
      "userId": "13048533309979940862"
     },
     "user_tz": -540
    },
    "id": "ce0af115",
    "outputId": "3837944f-f3b5-4753-e3de-084c0432f0e4"
   },
   "outputs": [
    {
     "name": "stdout",
     "output_type": "stream",
     "text": [
      "정규화 사전의 수:  120\n"
     ]
    }
   ],
   "source": [
    "contractions = {\"ain't\": \"is not\", \"aren't\": \"are not\",\"can't\": \"cannot\", \"'cause\": \"because\", \"could've\": \"could have\", \"couldn't\": \"could not\",\n",
    "                           \"didn't\": \"did not\",  \"doesn't\": \"does not\", \"don't\": \"do not\", \"hadn't\": \"had not\", \"hasn't\": \"has not\", \"haven't\": \"have not\",\n",
    "                           \"he'd\": \"he would\",\"he'll\": \"he will\", \"he's\": \"he is\", \"how'd\": \"how did\", \"how'd'y\": \"how do you\", \"how'll\": \"how will\", \"how's\": \"how is\",\n",
    "                           \"I'd\": \"I would\", \"I'd've\": \"I would have\", \"I'll\": \"I will\", \"I'll've\": \"I will have\",\"I'm\": \"I am\", \"I've\": \"I have\", \"i'd\": \"i would\",\n",
    "                           \"i'd've\": \"i would have\", \"i'll\": \"i will\",  \"i'll've\": \"i will have\",\"i'm\": \"i am\", \"i've\": \"i have\", \"isn't\": \"is not\", \"it'd\": \"it would\",\n",
    "                           \"it'd've\": \"it would have\", \"it'll\": \"it will\", \"it'll've\": \"it will have\",\"it's\": \"it is\", \"let's\": \"let us\", \"ma'am\": \"madam\",\n",
    "                           \"mayn't\": \"may not\", \"might've\": \"might have\",\"mightn't\": \"might not\",\"mightn't've\": \"might not have\", \"must've\": \"must have\",\n",
    "                           \"mustn't\": \"must not\", \"mustn't've\": \"must not have\", \"needn't\": \"need not\", \"needn't've\": \"need not have\",\"o'clock\": \"of the clock\",\n",
    "                           \"oughtn't\": \"ought not\", \"oughtn't've\": \"ought not have\", \"shan't\": \"shall not\", \"sha'n't\": \"shall not\", \"shan't've\": \"shall not have\",\n",
    "                           \"she'd\": \"she would\", \"she'd've\": \"she would have\", \"she'll\": \"she will\", \"she'll've\": \"she will have\", \"she's\": \"she is\",\n",
    "                           \"should've\": \"should have\", \"shouldn't\": \"should not\", \"shouldn't've\": \"should not have\", \"so've\": \"so have\",\"so's\": \"so as\",\n",
    "                           \"this's\": \"this is\",\"that'd\": \"that would\", \"that'd've\": \"that would have\", \"that's\": \"that is\", \"there'd\": \"there would\",\n",
    "                           \"there'd've\": \"there would have\", \"there's\": \"there is\", \"here's\": \"here is\",\"they'd\": \"they would\", \"they'd've\": \"they would have\",\n",
    "                           \"they'll\": \"they will\", \"they'll've\": \"they will have\", \"they're\": \"they are\", \"they've\": \"they have\", \"to've\": \"to have\",\n",
    "                           \"wasn't\": \"was not\", \"we'd\": \"we would\", \"we'd've\": \"we would have\", \"we'll\": \"we will\", \"we'll've\": \"we will have\", \"we're\": \"we are\",\n",
    "                           \"we've\": \"we have\", \"weren't\": \"were not\", \"what'll\": \"what will\", \"what'll've\": \"what will have\", \"what're\": \"what are\",\n",
    "                           \"what's\": \"what is\", \"what've\": \"what have\", \"when's\": \"when is\", \"when've\": \"when have\", \"where'd\": \"where did\", \"where's\": \"where is\",\n",
    "                           \"where've\": \"where have\", \"who'll\": \"who will\", \"who'll've\": \"who will have\", \"who's\": \"who is\", \"who've\": \"who have\",\n",
    "                           \"why's\": \"why is\", \"why've\": \"why have\", \"will've\": \"will have\", \"won't\": \"will not\", \"won't've\": \"will not have\",\n",
    "                           \"would've\": \"would have\", \"wouldn't\": \"would not\", \"wouldn't've\": \"would not have\", \"y'all\": \"you all\",\n",
    "                           \"y'all'd\": \"you all would\",\"y'all'd've\": \"you all would have\",\"y'all're\": \"you all are\",\"y'all've\": \"you all have\",\n",
    "                           \"you'd\": \"you would\", \"you'd've\": \"you would have\", \"you'll\": \"you will\", \"you'll've\": \"you will have\",\n",
    "                           \"you're\": \"you are\", \"you've\": \"you have\"}\n",
    "\n",
    "print(\"정규화 사전의 수: \", len(contractions))"
   ]
  },
  {
   "cell_type": "markdown",
   "id": "317a10f2",
   "metadata": {
    "id": "3795b0c0"
   },
   "source": [
    "<div style = \"height: 50px;\"></div>"
   ]
  },
  {
   "cell_type": "markdown",
   "id": "4a8d9842",
   "metadata": {
    "id": "4c2869cc"
   },
   "source": [
    "## 3. 데이터 전처리하기\n",
    "<hr/>"
   ]
  },
  {
   "cell_type": "markdown",
   "id": "8107e0a8",
   "metadata": {
    "id": "1f27e2a3"
   },
   "source": [
    "### 데이터 전처리 함수 "
   ]
  },
  {
   "cell_type": "code",
   "execution_count": null,
   "id": "b218066f",
   "metadata": {
    "id": "a72cc259"
   },
   "outputs": [],
   "source": [
    "def preprocess_sentence(sentence, remove_stopwords=True):\n",
    "    sentence = sentence.lower() # 텍스트 소문자화\n",
    "    sentence = BeautifulSoup(sentence, \"lxml\").text # <br />, <a href = ...> 등의 html 태그 제거\n",
    "    sentence = re.sub(r'\\([^)]*\\)', '', sentence) # 괄호로 닫힌 문자열 (...) 제거 Ex) my husband (and myself!) for => my husband for\n",
    "    sentence = re.sub('\"','', sentence) # 쌍따옴표 \" 제거\n",
    "    sentence = ' '.join([contractions[t] if t in contractions else t for t in sentence.split(\" \")]) # 약어 정규화\n",
    "    sentence = re.sub(r\"'s\\b\",\"\", sentence) # 소유격 제거. Ex) roland's -> roland\n",
    "    sentence = re.sub(\"[^a-zA-Z]\", \" \", sentence) # 영어 외 문자(숫자, 특수문자 등) 공백으로 변환\n",
    "    sentence = re.sub('[m]{2,}', 'mm', sentence) # m이 3개 이상이면 2개로 변경. Ex) ummmmmmm yeah -> umm yeah\n",
    "    \n",
    "    # 불용어 제거 (Text)\n",
    "    if remove_stopwords:\n",
    "        tokens = ' '.join(word for word in sentence.split() if not word in stopwords.words('english') if len(word) > 1)\n",
    "    # 불용어 미제거 (Summary)\n",
    "    else:\n",
    "        tokens = ' '.join(word for word in sentence.split() if len(word) > 1)\n",
    "    return tokens"
   ]
  },
  {
   "cell_type": "markdown",
   "id": "559e2b19",
   "metadata": {
    "id": "f2be6d65"
   },
   "source": [
    "<div style = \"height: 25px;\"></div>"
   ]
  },
  {
   "cell_type": "markdown",
   "id": "0a795894",
   "metadata": {
    "id": "81b6332c"
   },
   "source": [
    "### 전체 Text 데이터에 대한 전처리 "
   ]
  },
  {
   "cell_type": "code",
   "execution_count": null,
   "id": "0d2cd9ad",
   "metadata": {
    "colab": {
     "base_uri": "https://localhost:8080/"
    },
    "executionInfo": {
     "elapsed": 777414,
     "status": "ok",
     "timestamp": 1653309832543,
     "user": {
      "displayName": "생크림와플먹고싶다",
      "userId": "13048533309979940862"
     },
     "user_tz": -540
    },
    "id": "1d967eb7",
    "outputId": "31942758-763a-43a3-f179-63b6180a7daf"
   },
   "outputs": [
    {
     "name": "stdout",
     "output_type": "stream",
     "text": [
      "text 전처리 후 결과:  ['saurav kant alumnus upgrad iiit pg program machine learning artificial intelligence sr systems engineer infosys almost years work experience program upgrad degree career support helped transition data scientist tech mahindra salary hike upgrad online power learning powered lakh careers', 'kunal shah credit card bill payment platform cred gave users chance win free food swiggy one year pranav kaushik delhi techie bagged reward spending cred coins users get one cred coin per rupee bill paid used avail rewards brands like ixigo bookmyshow ubereats cult fit', 'new zealand defeated india wickets fourth odi hamilton thursday win first match five match odi series india lost international match rohit sharma captaincy consecutive victories dating back march match witnessed india getting seventh lowest total odi cricket history', 'aegon life iterm insurance plan customers enjoy tax benefits premiums paid save taxes plan provides life cover age years also customers options insure critical illnesses disability accidental death benefit rider life cover age years', 'speaking sexual harassment allegations rajkumar hirani sonam kapoor said known hirani many years true metoo movement get derailed metoo movement always believe woman case need reserve judgment added hirani accused assistant worked sanju']\n"
     ]
    }
   ],
   "source": [
    "clean_text = [preprocess_sentence(s) for s in data['text']]\n",
    "print(\"text 전처리 후 결과: \", clean_text[:5])"
   ]
  },
  {
   "cell_type": "markdown",
   "id": "c42c9715",
   "metadata": {
    "id": "1b4eb56a"
   },
   "source": [
    "<div style = \"height: 25px;\"></div>"
   ]
  },
  {
   "cell_type": "markdown",
   "id": "81d84f8d",
   "metadata": {
    "id": "05ec921f"
   },
   "source": [
    "### 전체 headlines 데이터에 대한 전처리"
   ]
  },
  {
   "cell_type": "code",
   "execution_count": null,
   "id": "2872eea3",
   "metadata": {
    "colab": {
     "base_uri": "https://localhost:8080/"
    },
    "executionInfo": {
     "elapsed": 17308,
     "status": "ok",
     "timestamp": 1653285972515,
     "user": {
      "displayName": "생크림와플먹고싶다",
      "userId": "13048533309979940862"
     },
     "user_tz": -540
    },
    "id": "4c0634bf",
    "outputId": "42b8b517-656d-4327-bf15-c3b4d200a3db"
   },
   "outputs": [
    {
     "name": "stdout",
     "output_type": "stream",
     "text": [
      "Summary 전처리 후 결과:  ['upgrad learner switches to career in ml al with salary hike', 'delhi techie wins free food from swiggy for one year on cred', 'new zealand end rohit sharma led india match winning streak', 'aegon life iterm insurance plan helps customers save tax', 'have known hirani for yrs what if metoo claims are not true sonam']\n"
     ]
    }
   ],
   "source": [
    "clean_headlines = [preprocess_sentence(s, False) for s in data['headlines']]\n",
    "print(\"Summary 전처리 후 결과: \", clean_headlines[:5])"
   ]
  },
  {
   "cell_type": "markdown",
   "id": "0371d838",
   "metadata": {
    "id": "8a10a6fe"
   },
   "source": [
    "<p style= \"font-size:15px; line-height:24px;\">headlines은 요약된 내용이며 후에 모델의 출력 값과 비교 할 target값이므로, 불용어를 제거하지 않는다.<br/>\n",
    "대신, 텍스트에 특수 문자가 섞여있으니 특수문자 제거를 비롯하여 각종 데이터 전처리를 preprocess_sentence함수를 통해 진행 할 것이다.</p>"
   ]
  },
  {
   "cell_type": "markdown",
   "id": "c303b924",
   "metadata": {
    "id": "b897a8f7"
   },
   "source": [
    "<div style = \"height: 25px;\"></div>"
   ]
  },
  {
   "cell_type": "markdown",
   "id": "67b088fa",
   "metadata": {
    "id": "9a705296"
   },
   "source": [
    "### 전처리한 데이터 데이터 프레임에 저장하기"
   ]
  },
  {
   "cell_type": "code",
   "execution_count": null,
   "id": "87fbaa0e",
   "metadata": {
    "id": "ae5c817c"
   },
   "outputs": [],
   "source": [
    "data['text'] = clean_text\n",
    "data['headlines'] = clean_headlines"
   ]
  },
  {
   "cell_type": "code",
   "execution_count": null,
   "id": "0aca913f",
   "metadata": {
    "id": "07f32d3a"
   },
   "outputs": [],
   "source": [
    "data2 = data.copy()\n",
    "data = data2.copy()"
   ]
  },
  {
   "cell_type": "code",
   "execution_count": null,
   "id": "45421d70",
   "metadata": {
    "id": "51a335a3"
   },
   "outputs": [],
   "source": [
    "# 빈 값을 Null 값으로 변환\n",
    "data.replace('', np.nan, inplace=True)"
   ]
  },
  {
   "cell_type": "code",
   "execution_count": null,
   "id": "dcb101c9",
   "metadata": {
    "colab": {
     "base_uri": "https://localhost:8080/"
    },
    "executionInfo": {
     "elapsed": 21,
     "status": "ok",
     "timestamp": 1653285972518,
     "user": {
      "displayName": "생크림와플먹고싶다",
      "userId": "13048533309979940862"
     },
     "user_tz": -540
    },
    "id": "be931dff",
    "outputId": "2de572fa-dfbf-4b6e-cb0b-9dedd11c7dcd"
   },
   "outputs": [
    {
     "data": {
      "text/plain": [
       "0    upgrad learner switches to career in ml al wit...\n",
       "Name: headlines, dtype: object"
      ]
     },
     "execution_count": 19,
     "metadata": {},
     "output_type": "execute_result"
    }
   ],
   "source": [
    "data['headlines'][:1]"
   ]
  },
  {
   "cell_type": "markdown",
   "id": "cd0cbaa9",
   "metadata": {
    "id": "fdc027df"
   },
   "source": [
    "<div style = \"height: 25px;\"></div>"
   ]
  },
  {
   "cell_type": "markdown",
   "id": "4a6a323d",
   "metadata": {
    "id": "126e448d"
   },
   "source": [
    "### 한번 더 null값 확인하기"
   ]
  },
  {
   "cell_type": "code",
   "execution_count": null,
   "id": "8a747b3f",
   "metadata": {
    "colab": {
     "base_uri": "https://localhost:8080/"
    },
    "executionInfo": {
     "elapsed": 15,
     "status": "ok",
     "timestamp": 1653285972519,
     "user": {
      "displayName": "생크림와플먹고싶다",
      "userId": "13048533309979940862"
     },
     "user_tz": -540
    },
    "id": "d0b49647",
    "outputId": "16a6e734-5c7a-4a47-b922-782e493eda9e"
   },
   "outputs": [
    {
     "data": {
      "text/plain": [
       "headlines    0\n",
       "text         0\n",
       "dtype: int64"
      ]
     },
     "execution_count": 20,
     "metadata": {},
     "output_type": "execute_result"
    }
   ],
   "source": [
    "data.isnull().sum()"
   ]
  },
  {
   "cell_type": "markdown",
   "id": "78414cda",
   "metadata": {
    "id": "c07c2db3"
   },
   "source": [
    "<div style = \"height: 50px;\"></div>"
   ]
  },
  {
   "cell_type": "markdown",
   "id": "9606b71e",
   "metadata": {
    "id": "e44edc19"
   },
   "source": [
    "## 4. 학습에 사용할 데이터의 크기를 결정하기\n",
    "<hr/>"
   ]
  },
  {
   "cell_type": "markdown",
   "id": "7a0e8ee7",
   "metadata": {
    "id": "037b6f1e"
   },
   "source": [
    "### text와 headlines의 정보 출력해보기"
   ]
  },
  {
   "cell_type": "code",
   "execution_count": null,
   "id": "73a46e2a",
   "metadata": {
    "colab": {
     "base_uri": "https://localhost:8080/"
    },
    "executionInfo": {
     "elapsed": 595,
     "status": "ok",
     "timestamp": 1653285973105,
     "user": {
      "displayName": "생크림와플먹고싶다",
      "userId": "13048533309979940862"
     },
     "user_tz": -540
    },
    "id": "cedc88a9",
    "outputId": "27bf1092-6312-4104-d092-015e5271ac2f"
   },
   "outputs": [
    {
     "name": "stdout",
     "output_type": "stream",
     "text": [
      "text의 최소 길이 : 1\n",
      "text의 최대 길이 : 60\n",
      "text의 평균 길이 : 35.09968483123221\n",
      "headlines의 최소 길이 : 1\n",
      "headlines의 최대 길이 : 16\n",
      "headlines의 평균 길이 : 9.299532330215534\n"
     ]
    }
   ],
   "source": [
    "text_len = [len(s.split()) for s in data['text']]\n",
    "headlines_len = [len(s.split()) for s in data['headlines']]\n",
    "\n",
    "print('text의 최소 길이 : {}'.format(np.min(text_len)))\n",
    "print('text의 최대 길이 : {}'.format(np.max(text_len)))\n",
    "print('text의 평균 길이 : {}'.format(np.mean(text_len)))\n",
    "print('headlines의 최소 길이 : {}'.format(np.min(headlines_len)))\n",
    "print('headlines의 최대 길이 : {}'.format(np.max(headlines_len)))\n",
    "print('headlines의 평균 길이 : {}'.format(np.mean(headlines_len)))"
   ]
  },
  {
   "cell_type": "markdown",
   "id": "eba25ecc",
   "metadata": {
    "id": "d2f58e76"
   },
   "source": [
    "<div style = \"height: 25px;\"></div>"
   ]
  },
  {
   "cell_type": "markdown",
   "id": "897d15f4",
   "metadata": {
    "id": "08088a29"
   },
   "source": [
    "### 정보를 바탕으로 시각화 해보기 (1)"
   ]
  },
  {
   "cell_type": "code",
   "execution_count": null,
   "id": "d998e7c7",
   "metadata": {
    "colab": {
     "base_uri": "https://localhost:8080/",
     "height": 351
    },
    "executionInfo": {
     "elapsed": 18,
     "status": "ok",
     "timestamp": 1653285973106,
     "user": {
      "displayName": "생크림와플먹고싶다",
      "userId": "13048533309979940862"
     },
     "user_tz": -540
    },
    "id": "3ce5f948",
    "outputId": "405ae7dd-5600-4a1b-81aa-d1ca797cdba2"
   },
   "outputs": [
    {
     "data": {
      "image/png": "[encoded data removed]",
      "text/plain": [
       "<Figure size 576x360 with 2 Axes>"
      ]
     },
     "metadata": {
      "needs_background": "light"
     },
     "output_type": "display_data"
    }
   ],
   "source": [
    "plt.figure(figsize = (8, 5))\n",
    "plt.subplot(1,2,1)\n",
    "plt.boxplot(text_len)\n",
    "plt.title('text')\n",
    "plt.tight_layout(pad = 2)\n",
    "\n",
    "plt.subplot(1,2,2)\n",
    "plt.boxplot(headlines_len)\n",
    "plt.title('headlines')\n",
    "plt.tight_layout(pad = 2)\n",
    "plt.show()"
   ]
  },
  {
   "cell_type": "markdown",
   "id": "70384774",
   "metadata": {
    "id": "55251327"
   },
   "source": [
    "<div style = \"height: 25px;\"></div>"
   ]
  },
  {
   "cell_type": "markdown",
   "id": "cc573174",
   "metadata": {
    "id": "49e1e067"
   },
   "source": [
    "### 정보를 바탕으로 시각화 해보기 (2)"
   ]
  },
  {
   "cell_type": "code",
   "execution_count": null,
   "id": "5162e343",
   "metadata": {
    "colab": {
     "base_uri": "https://localhost:8080/",
     "height": 711
    },
    "executionInfo": {
     "elapsed": 613,
     "status": "ok",
     "timestamp": 1653285973709,
     "user": {
      "displayName": "생크림와플먹고싶다",
      "userId": "13048533309979940862"
     },
     "user_tz": -540
    },
    "id": "03c67115",
    "outputId": "c984114d-a850-4f5a-afe8-06a2cdf3cd47"
   },
   "outputs": [
    {
     "data": {
      "image/png": "[encoded data removed]",
      "text/plain": [
       "<Figure size 576x720 with 2 Axes>"
      ]
     },
     "metadata": {
      "needs_background": "light"
     },
     "output_type": "display_data"
    }
   ],
   "source": [
    "plt.figure(figsize = (8, 10))\n",
    "\n",
    "plt.subplot(2, 1, 1)\n",
    "plt.title('text')\n",
    "plt.hist(text_len, bins = 40)\n",
    "plt.xlabel('length of samples')\n",
    "plt.ylabel('number of samples')\n",
    "plt.tight_layout(pad = 2)\n",
    "\n",
    "plt.subplot(2, 1, 2)\n",
    "plt.title('headlines')\n",
    "plt.hist(headlines_len, bins = 40)\n",
    "plt.xlabel('length of samples')\n",
    "plt.ylabel('number of samples')\n",
    "plt.tight_layout(pad = 2)\n",
    "plt.show()"
   ]
  },
  {
   "cell_type": "markdown",
   "id": "85d4a731",
   "metadata": {
    "id": "48af16b0"
   },
   "source": [
    "<p style= \"font-size:15px; line-height:24px;\">그래프의 값이 각각 0 ~ 60, 0 ~ 16이 나왔는데, 그렇다는 것은 문장의 길이가 0인 것도 있으며 그래프에서는 보이지 않지만 다른 문장에 비해 극단적으로 긴 문장이 있다는 것을 뜻한다.<br/>\n",
    "이렇게 극단적으로 긴 문장이 존재하게 되면 문장에 패딩을 할 때는 긴 문장의 길이로 모든 문장의 패딩 길이가 결정되기 때문에 잘라내는 것이 좋다. <br/><br/>\n",
    "그래프를 출력했을 때, text에서는 대부분의 데이터가 41정도의 길이를 가지고 있으며, headlines에서는 대부분 11정도의 길이를 가지고 있는듯 하다.<br/><br/>\n",
    "text로 에를 들면, 문장의 길이가 60인(단어의 개수 = 60인 문장)데이터를 자르지 않고 패딩을 넣어주게 된다면, 대부분의 데이터는 30~ 40 사이에 있는데, 60인 문장 하나 때문에 대부분의 문장들이 20개 이상의 패딩을 가지게 된다. 그렇게 되면 데이터를 잘 학습하지 못할 수 있기 때문에, 텍스트 문장의 길이를 제한하는 것이 좋다.<br/><br/>\n",
    "따라서, <span style = 'background-color:#fff5b1; padding:0.2px;'>학습에 사용할 데이터의 크기를 임의로 41, 11로 설정해볼 것이다.</span></p>"
   ]
  },
  {
   "cell_type": "markdown",
   "id": "e824dafe",
   "metadata": {
    "id": "7d4076da"
   },
   "source": [
    "<div style = \"height: 25px;\"></div>"
   ]
  },
  {
   "cell_type": "markdown",
   "id": "6f1b0621",
   "metadata": {
    "id": "75433d49"
   },
   "source": [
    "### 길이를 선택했을 때, 얼마나 많은 샘플들을 자르지 않고 포함할 수 있는지 통계로 확인하기"
   ]
  },
  {
   "cell_type": "code",
   "execution_count": null,
   "id": "9a6c1a98",
   "metadata": {
    "id": "181dd7a1"
   },
   "outputs": [],
   "source": [
    "# 훈련 데이터와 샘플의 길이를 입력하면, 데이터의 몇 %가 해당하는지 계산하는 함수\n",
    "def below_threshold_len(max_len, nested_list):\n",
    "    cnt = 0\n",
    "    for s in nested_list:\n",
    "        if(len(s.split()) <= max_len):\n",
    "            cnt = cnt + 1\n",
    "    print('전체 샘플 중 길이가 %s 이하인 샘플의 비율: %s'%(max_len, (cnt / len(nested_list))))"
   ]
  },
  {
   "cell_type": "markdown",
   "id": "58ea570f",
   "metadata": {
    "id": "ea3f8c2e"
   },
   "source": [
    "<div style = \"height: 25px;\"></div>"
   ]
  },
  {
   "cell_type": "markdown",
   "id": "3b03f80d",
   "metadata": {
    "id": "cdacd432"
   },
   "source": [
    "### 함수 적용해보기"
   ]
  },
  {
   "cell_type": "code",
   "execution_count": null,
   "id": "dc6fdbc9",
   "metadata": {
    "id": "3e636d81"
   },
   "outputs": [],
   "source": [
    "text_max_len = 41\n",
    "headlines_max_len = 11"
   ]
  },
  {
   "cell_type": "code",
   "execution_count": null,
   "id": "5a777504",
   "metadata": {
    "colab": {
     "base_uri": "https://localhost:8080/"
    },
    "executionInfo": {
     "elapsed": 618,
     "status": "ok",
     "timestamp": 1653285974317,
     "user": {
      "displayName": "생크림와플먹고싶다",
      "userId": "13048533309979940862"
     },
     "user_tz": -540
    },
    "id": "e6d1c618",
    "outputId": "a6d57cbe-f97d-43c4-fe33-99b7076f083a"
   },
   "outputs": [
    {
     "name": "stdout",
     "output_type": "stream",
     "text": [
      "전체 샘플 중 길이가 41 이하인 샘플의 비율: 0.9549613664091094\n",
      "전체 샘플 중 길이가 11 이하인 샘플의 비율: 0.9449877999186661\n"
     ]
    }
   ],
   "source": [
    "below_threshold_len(text_max_len, data['text'])\n",
    "below_threshold_len(headlines_max_len, data['headlines'])"
   ]
  },
  {
   "cell_type": "markdown",
   "id": "b17a4e17",
   "metadata": {
    "id": "9d0c6b61"
   },
   "source": [
    "<p style= \"font-size:15px; line-height:24px;\">그래프를 보고 예상한 대로, 대부분의 데이터가 설정한 값에 있는 것을 확인하였다.\n",
    "각 샘플의 길이가 설정한 값보다 클 시, 데이터를 제외하여 정제할 것이다.</p>"
   ]
  },
  {
   "cell_type": "markdown",
   "id": "5971d5fe",
   "metadata": {
    "id": "61296b46"
   },
   "source": [
    "<div style = \"height: 25px;\"></div>"
   ]
  },
  {
   "cell_type": "markdown",
   "id": "ae98ed9b",
   "metadata": {
    "id": "7852c4d4"
   },
   "source": [
    "### 설정한 값으로 데이터 정제하기\n"
   ]
  },
  {
   "cell_type": "code",
   "execution_count": null,
   "id": "e503c206",
   "metadata": {
    "colab": {
     "base_uri": "https://localhost:8080/"
    },
    "executionInfo": {
     "elapsed": 60,
     "status": "ok",
     "timestamp": 1653285974318,
     "user": {
      "displayName": "생크림와플먹고싶다",
      "userId": "13048533309979940862"
     },
     "user_tz": -540
    },
    "id": "297de2b2",
    "outputId": "32a55cc8-e394-40bd-8105-29a2083a37b3"
   },
   "outputs": [
    {
     "name": "stdout",
     "output_type": "stream",
     "text": [
      "전체 샘플수 : 88749\n"
     ]
    }
   ],
   "source": [
    "data = data[data['text'].apply(lambda x: len(x.split()) <= text_max_len)]\n",
    "data = data[data['headlines'].apply(lambda x: len(x.split()) <= headlines_max_len)]\n",
    "\n",
    "print('전체 샘플수 :', (len(data)))"
   ]
  },
  {
   "cell_type": "markdown",
   "id": "98c70608",
   "metadata": {
    "id": "66cd0736"
   },
   "source": [
    "<div style = \"height: 25px;\"></div>"
   ]
  },
  {
   "cell_type": "markdown",
   "id": "bb8abaaa",
   "metadata": {
    "id": "3bb92715"
   },
   "source": [
    "## 5. 시작 토큰과 종료 토큰 추가하기\n",
    "<hr/>"
   ]
  },
  {
   "cell_type": "code",
   "execution_count": null,
   "id": "a50cd895",
   "metadata": {
    "colab": {
     "base_uri": "https://localhost:8080/"
    },
    "executionInfo": {
     "elapsed": 56,
     "status": "ok",
     "timestamp": 1653285974319,
     "user": {
      "displayName": "생크림와플먹고싶다",
      "userId": "13048533309979940862"
     },
     "user_tz": -540
    },
    "id": "3a103c39",
    "outputId": "22b2eecf-8509-468d-d26b-ae74f5453d24"
   },
   "outputs": [
    {
     "name": "stderr",
     "output_type": "stream",
     "text": [
      "/usr/local/lib/python3.7/dist-packages/ipykernel_launcher.py:2: SettingWithCopyWarning: \n",
      "A value is trying to be set on a copy of a slice from a DataFrame.\n",
      "Try using .loc[row_indexer,col_indexer] = value instead\n",
      "\n",
      "See the caveats in the documentation: https://pandas.pydata.org/pandas-docs/stable/user_guide/indexing.html#returning-a-view-versus-a-copy\n",
      "  \n",
      "/usr/local/lib/python3.7/dist-packages/ipykernel_launcher.py:3: SettingWithCopyWarning: \n",
      "A value is trying to be set on a copy of a slice from a DataFrame.\n",
      "Try using .loc[row_indexer,col_indexer] = value instead\n",
      "\n",
      "See the caveats in the documentation: https://pandas.pydata.org/pandas-docs/stable/user_guide/indexing.html#returning-a-view-versus-a-copy\n",
      "  This is separate from the ipykernel package so we can avoid doing imports until\n"
     ]
    }
   ],
   "source": [
    "# 요약 데이터에는 시작 토큰과 종료 토큰을 추가한다.\n",
    "data['decoder_input'] = data['headlines'].apply(lambda x : 'sostoken ' + x)\n",
    "data['decoder_target'] = data['headlines'].apply(lambda x : x + ' eostoken')"
   ]
  },
  {
   "cell_type": "code",
   "execution_count": null,
   "id": "6942c7a8",
   "metadata": {
    "colab": {
     "base_uri": "https://localhost:8080/",
     "height": 441
    },
    "executionInfo": {
     "elapsed": 50,
     "status": "ok",
     "timestamp": 1653285974319,
     "user": {
      "displayName": "생크림와플먹고싶다",
      "userId": "13048533309979940862"
     },
     "user_tz": -540
    },
    "id": "24aac790",
    "outputId": "080c99d9-549b-4059-f432-457c8d1adfe2"
   },
   "outputs": [
    {
     "data": {
      "text/html": [
       "\n",
       "  <div id=\"df-a240e07e-38fd-4624-bc2c-e903d6015a20\">\n",
       "    <div class=\"colab-df-container\">\n",
       "      <div>\n",
       "<style scoped>\n",
       "    .dataframe tbody tr th:only-of-type {\n",
       "        vertical-align: middle;\n",
       "    }\n",
       "\n",
       "    .dataframe tbody tr th {\n",
       "        vertical-align: top;\n",
       "    }\n",
       "\n",
       "    .dataframe thead th {\n",
       "        text-align: right;\n",
       "    }\n",
       "</style>\n",
       "<table border=\"1\" class=\"dataframe\">\n",
       "  <thead>\n",
       "    <tr style=\"text-align: right;\">\n",
       "      <th></th>\n",
       "      <th>headlines</th>\n",
       "      <th>text</th>\n",
       "      <th>decoder_input</th>\n",
       "      <th>decoder_target</th>\n",
       "    </tr>\n",
       "  </thead>\n",
       "  <tbody>\n",
       "    <tr>\n",
       "      <th>0</th>\n",
       "      <td>upgrad learner switches to career in ml al wit...</td>\n",
       "      <td>saurav kant alumnus upgrad iiit pg program mac...</td>\n",
       "      <td>sostoken upgrad learner switches to career in ...</td>\n",
       "      <td>upgrad learner switches to career in ml al wit...</td>\n",
       "    </tr>\n",
       "    <tr>\n",
       "      <th>2</th>\n",
       "      <td>new zealand end rohit sharma led india match w...</td>\n",
       "      <td>new zealand defeated india wickets fourth odi ...</td>\n",
       "      <td>sostoken new zealand end rohit sharma led indi...</td>\n",
       "      <td>new zealand end rohit sharma led india match w...</td>\n",
       "    </tr>\n",
       "    <tr>\n",
       "      <th>3</th>\n",
       "      <td>aegon life iterm insurance plan helps customer...</td>\n",
       "      <td>aegon life iterm insurance plan customers enjo...</td>\n",
       "      <td>sostoken aegon life iterm insurance plan helps...</td>\n",
       "      <td>aegon life iterm insurance plan helps customer...</td>\n",
       "    </tr>\n",
       "    <tr>\n",
       "      <th>5</th>\n",
       "      <td>rahat fateh ali khan denies getting notice for...</td>\n",
       "      <td>pakistani singer rahat fateh ali khan denied r...</td>\n",
       "      <td>sostoken rahat fateh ali khan denies getting n...</td>\n",
       "      <td>rahat fateh ali khan denies getting notice for...</td>\n",
       "    </tr>\n",
       "    <tr>\n",
       "      <th>7</th>\n",
       "      <td>govt directs alok verma to join work day befor...</td>\n",
       "      <td>weeks ex cbi director alok verma told departme...</td>\n",
       "      <td>sostoken govt directs alok verma to join work ...</td>\n",
       "      <td>govt directs alok verma to join work day befor...</td>\n",
       "    </tr>\n",
       "  </tbody>\n",
       "</table>\n",
       "</div>\n",
       "      <button class=\"colab-df-convert\" onclick=\"convertToInteractive('df-a240e07e-38fd-4624-bc2c-e903d6015a20')\"\n",
       "              title=\"Convert this dataframe to an interactive table.\"\n",
       "              style=\"display:none;\">\n",
       "        \n",
       "  <svg xmlns=\"http://www.w3.org/2000/svg\" height=\"24px\"viewBox=\"0 0 24 24\"\n",
       "       width=\"24px\">\n",
       "    <path d=\"M0 0h24v24H0V0z\" fill=\"none\"/>\n",
       "    <path d=\"M18.56 5.44l.94 2.06.94-2.06 2.06-.94-2.06-.94-.94-2.06-.94 2.06-2.06.94zm-11 1L8.5 8.5l.94-2.06 2.06-.94-2.06-.94L8.5 2.5l-.94 2.06-2.06.94zm10 10l.94 2.06.94-2.06 2.06-.94-2.06-.94-.94-2.06-.94 2.06-2.06.94z\"/><path d=\"M17.41 7.96l-1.37-1.37c-.4-.4-.92-.59-1.43-.59-.52 0-1.04.2-1.43.59L10.3 9.45l-7.72 7.72c-.78.78-.78 2.05 0 2.83L4 21.41c.39.39.9.59 1.41.59.51 0 1.02-.2 1.41-.59l7.78-7.78 2.81-2.81c.8-.78.8-2.07 0-2.86zM5.41 20L4 18.59l7.72-7.72 1.47 1.35L5.41 20z\"/>\n",
       "  </svg>\n",
       "      </button>\n",
       "      \n",
       "  <style>\n",
       "    .colab-df-container {\n",
       "      display:flex;\n",
       "      flex-wrap:wrap;\n",
       "      gap: 12px;\n",
       "    }\n",
       "\n",
       "    .colab-df-convert {\n",
       "      background-color: #E8F0FE;\n",
       "      border: none;\n",
       "      border-radius: 50%;\n",
       "      cursor: pointer;\n",
       "      display: none;\n",
       "      fill: #1967D2;\n",
       "      height: 32px;\n",
       "      padding: 0 0 0 0;\n",
       "      width: 32px;\n",
       "    }\n",
       "\n",
       "    .colab-df-convert:hover {\n",
       "      background-color: #E2EBFA;\n",
       "      box-shadow: 0px 1px 2px rgba(60, 64, 67, 0.3), 0px 1px 3px 1px rgba(60, 64, 67, 0.15);\n",
       "      fill: #174EA6;\n",
       "    }\n",
       "\n",
       "    [theme=dark] .colab-df-convert {\n",
       "      background-color: #3B4455;\n",
       "      fill: #D2E3FC;\n",
       "    }\n",
       "\n",
       "    [theme=dark] .colab-df-convert:hover {\n",
       "      background-color: #434B5C;\n",
       "      box-shadow: 0px 1px 3px 1px rgba(0, 0, 0, 0.15);\n",
       "      filter: drop-shadow(0px 1px 2px rgba(0, 0, 0, 0.3));\n",
       "      fill: #FFFFFF;\n",
       "    }\n",
       "  </style>\n",
       "\n",
       "      <script>\n",
       "        const buttonEl =\n",
       "          document.querySelector('#df-a240e07e-38fd-4624-bc2c-e903d6015a20 button.colab-df-convert');\n",
       "        buttonEl.style.display =\n",
       "          google.colab.kernel.accessAllowed ? 'block' : 'none';\n",
       "\n",
       "        async function convertToInteractive(key) {\n",
       "          const element = document.querySelector('#df-a240e07e-38fd-4624-bc2c-e903d6015a20');\n",
       "          const dataTable =\n",
       "            await google.colab.kernel.invokeFunction('convertToInteractive',\n",
       "                                                     [key], {});\n",
       "          if (!dataTable) return;\n",
       "\n",
       "          const docLinkHtml = 'Like what you see? Visit the ' +\n",
       "            '<a target=\"_blank\" href=https://colab.research.google.com/notebooks/data_table.ipynb>data table notebook</a>'\n",
       "            + ' to learn more about interactive tables.';\n",
       "          element.innerHTML = '';\n",
       "          dataTable['output_type'] = 'display_data';\n",
       "          await google.colab.output.renderOutput(dataTable, element);\n",
       "          const docLink = document.createElement('div');\n",
       "          docLink.innerHTML = docLinkHtml;\n",
       "          element.appendChild(docLink);\n",
       "        }\n",
       "      </script>\n",
       "    </div>\n",
       "  </div>\n",
       "  "
      ],
      "text/plain": [
       "                                           headlines  \\\n",
       "0  upgrad learner switches to career in ml al wit...   \n",
       "2  new zealand end rohit sharma led india match w...   \n",
       "3  aegon life iterm insurance plan helps customer...   \n",
       "5  rahat fateh ali khan denies getting notice for...   \n",
       "7  govt directs alok verma to join work day befor...   \n",
       "\n",
       "                                                text  \\\n",
       "0  saurav kant alumnus upgrad iiit pg program mac...   \n",
       "2  new zealand defeated india wickets fourth odi ...   \n",
       "3  aegon life iterm insurance plan customers enjo...   \n",
       "5  pakistani singer rahat fateh ali khan denied r...   \n",
       "7  weeks ex cbi director alok verma told departme...   \n",
       "\n",
       "                                       decoder_input  \\\n",
       "0  sostoken upgrad learner switches to career in ...   \n",
       "2  sostoken new zealand end rohit sharma led indi...   \n",
       "3  sostoken aegon life iterm insurance plan helps...   \n",
       "5  sostoken rahat fateh ali khan denies getting n...   \n",
       "7  sostoken govt directs alok verma to join work ...   \n",
       "\n",
       "                                      decoder_target  \n",
       "0  upgrad learner switches to career in ml al wit...  \n",
       "2  new zealand end rohit sharma led india match w...  \n",
       "3  aegon life iterm insurance plan helps customer...  \n",
       "5  rahat fateh ali khan denies getting notice for...  \n",
       "7  govt directs alok verma to join work day befor...  "
      ]
     },
     "execution_count": 29,
     "metadata": {},
     "output_type": "execute_result"
    }
   ],
   "source": [
    "data.head()"
   ]
  },
  {
   "cell_type": "markdown",
   "id": "fbe023b6",
   "metadata": {
    "id": "3351cece"
   },
   "source": [
    "<div style = \"height: 25px;\"></div>"
   ]
  },
  {
   "cell_type": "markdown",
   "id": "68299530",
   "metadata": {
    "id": "23c7992b"
   },
   "source": [
    "### 인코더의 입력, 디코더의 입력과 레이블을 각각 다시 Numpy 타입으로 저장"
   ]
  },
  {
   "cell_type": "code",
   "execution_count": null,
   "id": "a38cecf2",
   "metadata": {
    "id": "32d232c1"
   },
   "outputs": [],
   "source": [
    "encoder_input = np.array(data['text']) # 인코더 입력\n",
    "decoder_input = np.array(data['decoder_input']) # 디코더 입력\n",
    "decoder_target = np.array(data['decoder_target']) # 디코더의 타겟값"
   ]
  },
  {
   "cell_type": "markdown",
   "id": "811ecc71",
   "metadata": {
    "id": "0cf366b6"
   },
   "source": [
    "<div style = \"height: 50px;\"></div>"
   ]
  },
  {
   "cell_type": "markdown",
   "id": "ab835412",
   "metadata": {
    "id": "fc2bc59c"
   },
   "source": [
    "## 6. 훈련 데이터와 테스트 데이터 분리하기\n",
    "<hr/>"
   ]
  },
  {
   "cell_type": "markdown",
   "id": "93d18243",
   "metadata": {
    "id": "9354206f"
   },
   "source": [
    "### encoder_input과 크기 및 형태가 같은 순서가 섞인 정수 시퀀스 만들기"
   ]
  },
  {
   "cell_type": "code",
   "execution_count": null,
   "id": "43f7372e",
   "metadata": {
    "colab": {
     "base_uri": "https://localhost:8080/"
    },
    "executionInfo": {
     "elapsed": 46,
     "status": "ok",
     "timestamp": 1653285974321,
     "user": {
      "displayName": "생크림와플먹고싶다",
      "userId": "13048533309979940862"
     },
     "user_tz": -540
    },
    "id": "575baf82",
    "outputId": "9f1c6907-611f-4008-edba-0154808aff29"
   },
   "outputs": [
    {
     "name": "stdout",
     "output_type": "stream",
     "text": [
      "[50237 17578 47354 ... 36857 68585 43418]\n"
     ]
    }
   ],
   "source": [
    "indices = np.arange(encoder_input.shape[0])\n",
    "np.random.shuffle(indices)\n",
    "print(indices)"
   ]
  },
  {
   "cell_type": "markdown",
   "id": "eb4887c3",
   "metadata": {
    "id": "26317f23"
   },
   "source": [
    "셔플하여 만든 정수 시퀀스를 이용해 다시 데이터의 샘플 순서를 정의해 주어 샘플을 섞는다."
   ]
  },
  {
   "cell_type": "code",
   "execution_count": null,
   "id": "38641c8a",
   "metadata": {
    "id": "5f9d1cd5"
   },
   "outputs": [],
   "source": [
    "encoder_input = encoder_input[indices]\n",
    "decoder_input = decoder_input[indices]\n",
    "decoder_target = decoder_target[indices]"
   ]
  },
  {
   "cell_type": "code",
   "execution_count": null,
   "id": "37c46be5",
   "metadata": {
    "colab": {
     "base_uri": "https://localhost:8080/"
    },
    "executionInfo": {
     "elapsed": 37,
     "status": "ok",
     "timestamp": 1653285974322,
     "user": {
      "displayName": "생크림와플먹고싶다",
      "userId": "13048533309979940862"
     },
     "user_tz": -540
    },
    "id": "166e26b8",
    "outputId": "e156aa35-77a9-4e79-90cc-91c2b8e07f10"
   },
   "outputs": [
    {
     "data": {
      "text/plain": [
       "array(['new zealand school with no students pledges to remain open eostoken',\n",
       "       'english vinglish actress sujata passes away due to cancer eostoken',\n",
       "       'infosys ceo salil parekh to get crore as salary eostoken', ...,\n",
       "       'world richest people lose billion in one day eostoken',\n",
       "       'how does icc demerit system for players work eostoken',\n",
       "       'poland issues list of nazi war criminals to interpol eostoken'],\n",
       "      dtype=object)"
      ]
     },
     "execution_count": 33,
     "metadata": {},
     "output_type": "execute_result"
    }
   ],
   "source": [
    "decoder_target"
   ]
  },
  {
   "cell_type": "markdown",
   "id": "ecef4396",
   "metadata": {
    "id": "043a571b"
   },
   "source": [
    "<div style = \"height: 25px;\"></div>"
   ]
  },
  {
   "cell_type": "markdown",
   "id": "348216d6",
   "metadata": {
    "id": "8ea65967"
   },
   "source": [
    "### 섞인 데이터를 8:2의 비율로 훈련 데이터와 테스트 데이터로 분리"
   ]
  },
  {
   "cell_type": "code",
   "execution_count": null,
   "id": "d0403072",
   "metadata": {
    "colab": {
     "base_uri": "https://localhost:8080/"
    },
    "executionInfo": {
     "elapsed": 34,
     "status": "ok",
     "timestamp": 1653285974324,
     "user": {
      "displayName": "생크림와플먹고싶다",
      "userId": "13048533309979940862"
     },
     "user_tz": -540
    },
    "id": "fc8a28df",
    "outputId": "40781522-3d7f-40a3-e018-4c08792db506"
   },
   "outputs": [
    {
     "name": "stdout",
     "output_type": "stream",
     "text": [
      "테스트 데이터의 수 :  17749\n"
     ]
    }
   ],
   "source": [
    "n_of_val = int(len(encoder_input) * 0.2)\n",
    "print('테스트 데이터의 수 : ', n_of_val)"
   ]
  },
  {
   "cell_type": "markdown",
   "id": "94c6cea1",
   "metadata": {
    "id": "b747182d"
   },
   "source": [
    "<div style = \"height: 25px;\"></div>"
   ]
  },
  {
   "cell_type": "markdown",
   "id": "caeb378f",
   "metadata": {
    "id": "21ef9bc6"
   },
   "source": [
    "### 테스트 데이터의 개수를 이용해 전체 데이터를 양분"
   ]
  },
  {
   "cell_type": "code",
   "execution_count": null,
   "id": "b6157fd7",
   "metadata": {
    "id": "be7afbb9"
   },
   "outputs": [],
   "source": [
    "encoder_input_train = encoder_input[: -n_of_val]\n",
    "decoder_input_train = decoder_input[: -n_of_val]\n",
    "decoder_target_train = decoder_target[: -n_of_val]\n",
    "\n",
    "encoder_input_test = encoder_input[-n_of_val :]\n",
    "decoder_input_test = decoder_input[-n_of_val :]\n",
    "decoder_target_test = decoder_target[-n_of_val :]"
   ]
  },
  {
   "cell_type": "code",
   "execution_count": null,
   "id": "7b4169ee",
   "metadata": {
    "colab": {
     "base_uri": "https://localhost:8080/"
    },
    "executionInfo": {
     "elapsed": 26,
     "status": "ok",
     "timestamp": 1653285974325,
     "user": {
      "displayName": "생크림와플먹고싶다",
      "userId": "13048533309979940862"
     },
     "user_tz": -540
    },
    "id": "1b474faf",
    "outputId": "b7ae6861-205d-4a05-8006-daed74485a9b"
   },
   "outputs": [
    {
     "data": {
      "text/plain": [
       "(17749,)"
      ]
     },
     "execution_count": 36,
     "metadata": {},
     "output_type": "execute_result"
    }
   ],
   "source": [
    "decoder_target_test.shape"
   ]
  },
  {
   "cell_type": "markdown",
   "id": "870a2690",
   "metadata": {
    "id": "d5034e78"
   },
   "source": [
    "<div style = \"height: 25px;\"></div>"
   ]
  },
  {
   "cell_type": "markdown",
   "id": "d853b96f",
   "metadata": {
    "id": "86489d87"
   },
   "source": [
    "### 확인하기"
   ]
  },
  {
   "cell_type": "code",
   "execution_count": null,
   "id": "0821873d",
   "metadata": {
    "colab": {
     "base_uri": "https://localhost:8080/"
    },
    "executionInfo": {
     "elapsed": 23,
     "status": "ok",
     "timestamp": 1653285974326,
     "user": {
      "displayName": "생크림와플먹고싶다",
      "userId": "13048533309979940862"
     },
     "user_tz": -540
    },
    "id": "576b7215",
    "outputId": "ce673db7-14ad-463b-efdb-780ce28ed445"
   },
   "outputs": [
    {
     "name": "stdout",
     "output_type": "stream",
     "text": [
      "훈련 데이터의 개수 : 71000\n",
      "훈련 레이블의 개수 : 71000\n",
      "테스트 데이터의 개수 : 17749\n",
      "테스트 레이블의 개수 : 17749\n"
     ]
    }
   ],
   "source": [
    "print('훈련 데이터의 개수 :', len(encoder_input_train))\n",
    "print('훈련 레이블의 개수 :', len(decoder_input_train))\n",
    "print('테스트 데이터의 개수 :', len(encoder_input_test))\n",
    "print('테스트 레이블의 개수 :', len(decoder_input_test))"
   ]
  },
  {
   "cell_type": "markdown",
   "id": "2228bb00",
   "metadata": {
    "id": "70f819bf"
   },
   "source": [
    "<div style = \"height: 50px;\"></div>"
   ]
  },
  {
   "cell_type": "markdown",
   "id": "90ebe99c",
   "metadata": {
    "id": "33c30cd1"
   },
   "source": [
    "## 7. 단어 집합(vocabulary) 만들기 및 정수 인코딩\n",
    "<hr/>"
   ]
  },
  {
   "cell_type": "markdown",
   "id": "f106a5b9",
   "metadata": {
    "id": "90d35377"
   },
   "source": [
    "### 단어 집합 만들기 - encoder"
   ]
  },
  {
   "cell_type": "code",
   "execution_count": null,
   "id": "90c4b2bc",
   "metadata": {
    "id": "61e5f34b"
   },
   "outputs": [],
   "source": [
    "# 단어 집합 해주는 함수\n",
    "def vocabulary(x_tokenizer):\n",
    "    threshold = 7\n",
    "\n",
    "    # 단어 개수\n",
    "    total_cnt = len(src_tokenizer.word_index)\n",
    "\n",
    "    # 등장 빈도수가 threshold보다 작은 단어의 개수를 카운터하여 저장\n",
    "    rare_cnt = 0\n",
    "\n",
    "    # 훈련 데이터의 전체 단어 빈도수 총 합\n",
    "    total_freq = 0\n",
    "\n",
    "    # 등장 빈도수가 threshold보다 작은 단어의 등장 빈도수의 총 합을 카운트\n",
    "    rare_freq = 0\n",
    "\n",
    "    # 단어와 빈도수를 긱긱 key와 value로 언패킹하여 받음\n",
    "    for key, value in src_tokenizer.word_counts.items():\n",
    "        total_freq = total_freq + value\n",
    "\n",
    "        # 단어의 등장 빈도수가 threshold보다 작을 시,\n",
    "        if value < threshold:\n",
    "            rare_cnt = rare_cnt + 1\n",
    "            rare_freq = rare_freq + value\n",
    "            \n",
    "    return total_cnt, threshold, rare_cnt, rare_freq, total_freq"
   ]
  },
  {
   "cell_type": "markdown",
   "id": "0c29bbe9",
   "metadata": {
    "id": "64280b39"
   },
   "source": [
    "<div style = \"height: 25px;\"></div>"
   ]
  },
  {
   "cell_type": "code",
   "execution_count": null,
   "id": "c46dd16f",
   "metadata": {
    "id": "410ffcb7"
   },
   "outputs": [],
   "source": [
    "src_tokenizer = Tokenizer()\n",
    "\n",
    "# 입력된 데이터로부터 단어 집합 생성\n",
    "src_tokenizer.fit_on_texts(encoder_input_train)"
   ]
  },
  {
   "cell_type": "markdown",
   "id": "a17c4295",
   "metadata": {
    "id": "80926c85"
   },
   "source": [
    "src_tokenizer.word_counts.items()에는 단어와 각 단어의 등장 빈도수가 저장되어있다."
   ]
  },
  {
   "cell_type": "code",
   "execution_count": null,
   "id": "242b7a32",
   "metadata": {
    "id": "8438cf24"
   },
   "outputs": [],
   "source": [
    "total_cnt, threshold, rare_cnt, rare_freq, total_freq = vocabulary(src_tokenizer)"
   ]
  },
  {
   "cell_type": "code",
   "execution_count": null,
   "id": "3f8e4899",
   "metadata": {
    "colab": {
     "base_uri": "https://localhost:8080/"
    },
    "executionInfo": {
     "elapsed": 18,
     "status": "ok",
     "timestamp": 1653285976392,
     "user": {
      "displayName": "생크림와플먹고싶다",
      "userId": "13048533309979940862"
     },
     "user_tz": -540
    },
    "id": "bc7525f3",
    "outputId": "03f75407-2dbd-489e-b777-97b9ded863d6"
   },
   "outputs": [
    {
     "name": "stdout",
     "output_type": "stream",
     "text": [
      "단어 집합(vocabulary)의 크기 : 65978\n",
      "등장 빈도가 6번 이하인 희귀 단어의 수: 45001\n",
      "단어 집합에서 희귀 단어를 제외시킬 경우의 단어 집합의 크기 20977\n",
      "단어 집합에서 희귀 단어의 비율: 68.2060686895632\n",
      "전체 등장 빈도에서 희귀 단어 등장 빈도 비율: 3.7142886094419727\n"
     ]
    }
   ],
   "source": [
    "print('단어 집합(vocabulary)의 크기 :', total_cnt)\n",
    "print('등장 빈도가 %s번 이하인 희귀 단어의 수: %s'%(threshold - 1, rare_cnt))\n",
    "print('단어 집합에서 희귀 단어를 제외시킬 경우의 단어 집합의 크기 %s'%(total_cnt - rare_cnt))\n",
    "print(\"단어 집합에서 희귀 단어의 비율:\", (rare_cnt / total_cnt)*100)\n",
    "print(\"전체 등장 빈도에서 희귀 단어 등장 빈도 비율:\", (rare_freq / total_freq)*100)"
   ]
  },
  {
   "cell_type": "markdown",
   "id": "60a5c92c",
   "metadata": {
    "id": "712c5dcf"
   },
   "source": [
    "<p style= \"font-size:15px; line-height:24px;\">등장 빈도가 7회 미만인 단어들은 단어 집합에서 68%를 차지하는 것을 확인했다. (threshold 값)<br/>   \n",
    "하지만 실제로 훈련 데이터에서 등장 빈도로 차지하는 비중은 상대적으로 적은 수치인 3.7%밖에 되지 않으므로,<br/>\n",
    "<span style = 'background-color:#fff5b1; padding:0.2px;'>등장 빈도가 6회 이하인 단어들은 정수 인코딩 과정에서 빼고, 훈련 데이터에서 제거할 것이다.</span></p>"
   ]
  },
  {
   "cell_type": "markdown",
   "id": "08b85204",
   "metadata": {
    "id": "782c0573"
   },
   "source": [
    "<div style = \"height: 25px;\"></div>"
   ]
  },
  {
   "cell_type": "markdown",
   "id": "d0e20110",
   "metadata": {
    "id": "9da138ab"
   },
   "source": [
    "### 단어 집합 크기 제한하여 단어 집합 다시 생성하기 - encoder"
   ]
  },
  {
   "cell_type": "code",
   "execution_count": null,
   "id": "f6dca718",
   "metadata": {
    "id": "c5eb03b8"
   },
   "outputs": [],
   "source": [
    "src_vocab = 21000\n",
    "src_tokenizer = Tokenizer(num_words = src_vocab)\n",
    "src_tokenizer.fit_on_texts(encoder_input_train)"
   ]
  },
  {
   "cell_type": "markdown",
   "id": "2388c3ed",
   "metadata": {
    "id": "676346f3"
   },
   "source": [
    "<div style = \"height: 25px;\"></div>"
   ]
  },
  {
   "cell_type": "markdown",
   "id": "e1e24443",
   "metadata": {
    "id": "f366a054"
   },
   "source": [
    "### 정수 인코딩하기 - encoder"
   ]
  },
  {
   "cell_type": "code",
   "execution_count": null,
   "id": "a12fc1db",
   "metadata": {
    "id": "ed074110"
   },
   "outputs": [],
   "source": [
    "encoder_input_train = src_tokenizer.texts_to_sequences(encoder_input_train)\n",
    "encoder_input_test = src_tokenizer.texts_to_sequences(encoder_input_test)"
   ]
  },
  {
   "cell_type": "code",
   "execution_count": null,
   "id": "d348a683",
   "metadata": {
    "colab": {
     "base_uri": "https://localhost:8080/"
    },
    "executionInfo": {
     "elapsed": 9,
     "status": "ok",
     "timestamp": 1653285980515,
     "user": {
      "displayName": "생크림와플먹고싶다",
      "userId": "13048533309979940862"
     },
     "user_tz": -540
    },
    "id": "d78b566b",
    "outputId": "4ebd84b2-8c8c-496f-82a2-e28e48e85682"
   },
   "outputs": [
    {
     "name": "stdout",
     "output_type": "stream",
     "text": [
      "[[25, 796, 175, 147, 3380, 1251, 245, 243, 1052, 25, 413, 3032, 15132, 175, 261, 31, 660, 246, 2558, 149, 5611, 514, 2132, 756, 147, 9631, 1457, 3805], [76, 20978, 173, 435, 367, 1528, 1039, 13, 920, 414, 215, 7340, 1119, 79, 1125, 20978, 1039, 462, 16511, 82, 141, 312, 20978, 6, 3168, 330, 39, 755, 166, 39, 671, 1598, 188], [25, 1217, 133, 13448, 7341, 2538, 908, 1309, 17, 1307, 17, 17358, 261, 6, 121, 908, 2735, 17, 3868, 1126, 2340, 17, 908, 956, 2513, 5612, 17, 18, 27, 2513, 2735, 7584, 2901, 3894, 309, 5743, 17]]\n"
     ]
    }
   ],
   "source": [
    "print(encoder_input_train[:3])"
   ]
  },
  {
   "cell_type": "markdown",
   "id": "3d6fe42f",
   "metadata": {
    "id": "d451ed08"
   },
   "source": [
    "<p style= \"font-size:15px; line-height:24px;\">출력해본 결과, 정수인코딩이 잘 된 것을 확인하였다.</p>"
   ]
  },
  {
   "cell_type": "markdown",
   "id": "29e0ba7f",
   "metadata": {
    "id": "0c0b07e7"
   },
   "source": [
    "<div style = \"height: 50px;\"></div>"
   ]
  },
  {
   "cell_type": "markdown",
   "id": "5e348865",
   "metadata": {
    "id": "35de10d2"
   },
   "source": [
    "### 단어 집합 만들기 - decoder"
   ]
  },
  {
   "cell_type": "code",
   "execution_count": null,
   "id": "e50e62eb",
   "metadata": {
    "id": "459cff17"
   },
   "outputs": [],
   "source": [
    "tar_tokenizer = Tokenizer()\n",
    "tar_tokenizer.fit_on_texts(decoder_input_train)"
   ]
  },
  {
   "cell_type": "code",
   "execution_count": null,
   "id": "f27a1adf",
   "metadata": {
    "id": "c696b94f"
   },
   "outputs": [],
   "source": [
    "total_cnt, threshold, rare_cnt, rare_freq, total_freq = vocabulary(tar_tokenizer)"
   ]
  },
  {
   "cell_type": "code",
   "execution_count": null,
   "id": "1ed975e1",
   "metadata": {
    "colab": {
     "base_uri": "https://localhost:8080/"
    },
    "executionInfo": {
     "elapsed": 13,
     "status": "ok",
     "timestamp": 1653285981674,
     "user": {
      "displayName": "생크림와플먹고싶다",
      "userId": "13048533309979940862"
     },
     "user_tz": -540
    },
    "id": "fc8c204a",
    "outputId": "dc4c2fd1-c695-474c-adce-2d8ed35784ac"
   },
   "outputs": [
    {
     "name": "stdout",
     "output_type": "stream",
     "text": [
      "단어 집합(vocabulary)의 크기 : 65978\n",
      "등장 빈도가 6번 이하인 희귀 단어의 수: 45001\n",
      "단어 집합에서 희귀 단어를 제외시킬 경우의 단어 집합의 크기 20977\n",
      "단어 집합에서 희귀 단어의 비율: 68.2060686895632\n",
      "전체 등장 빈도에서 희귀 단어 등장 빈도 비율: 3.7142886094419727\n"
     ]
    }
   ],
   "source": [
    "print('단어 집합(vocabulary)의 크기 :', total_cnt)\n",
    "print('등장 빈도가 %s번 이하인 희귀 단어의 수: %s'%(threshold - 1, rare_cnt))\n",
    "print('단어 집합에서 희귀 단어를 제외시킬 경우의 단어 집합의 크기 %s'%(total_cnt - rare_cnt))\n",
    "print(\"단어 집합에서 희귀 단어의 비율:\", (rare_cnt / total_cnt)*100)\n",
    "print(\"전체 등장 빈도에서 희귀 단어 등장 빈도 비율:\", (rare_freq / total_freq)*100)"
   ]
  },
  {
   "cell_type": "markdown",
   "id": "80b93564",
   "metadata": {
    "id": "1403fc2b"
   },
   "source": [
    "<div style = \"height: 25px;\"></div>"
   ]
  },
  {
   "cell_type": "markdown",
   "id": "ca96bc37",
   "metadata": {
    "id": "fc9d70c2"
   },
   "source": [
    "### 단어 집합 크기 제한하여 단어 집합 다시 생성하기 - decoder"
   ]
  },
  {
   "cell_type": "code",
   "execution_count": null,
   "id": "9bb4a274",
   "metadata": {
    "id": "9c03ec55"
   },
   "outputs": [],
   "source": [
    "tar_vocab = 21000\n",
    "tar_tokenizer = Tokenizer(num_words = tar_vocab) \n",
    "tar_tokenizer.fit_on_texts(decoder_input_train)\n",
    "tar_tokenizer.fit_on_texts(decoder_target_train)"
   ]
  },
  {
   "cell_type": "code",
   "execution_count": null,
   "id": "83c52e3a",
   "metadata": {
    "colab": {
     "base_uri": "https://localhost:8080/"
    },
    "executionInfo": {
     "elapsed": 15,
     "status": "ok",
     "timestamp": 1653285983442,
     "user": {
      "displayName": "생크림와플먹고싶다",
      "userId": "13048533309979940862"
     },
     "user_tz": -540
    },
    "id": "ba8f57bb",
    "outputId": "6398fa97-c9c7-4a36-c941-a5be9e6860a1"
   },
   "outputs": [
    {
     "data": {
      "text/plain": [
       "(71000,)"
      ]
     },
     "execution_count": 49,
     "metadata": {},
     "output_type": "execute_result"
    }
   ],
   "source": [
    "decoder_target_train.shape"
   ]
  },
  {
   "cell_type": "markdown",
   "id": "d4695935",
   "metadata": {
    "id": "e58b1631"
   },
   "source": [
    "<div style = \"height: 25px;\"></div>"
   ]
  },
  {
   "cell_type": "markdown",
   "id": "09e4f738",
   "metadata": {
    "id": "c1ab4af1"
   },
   "source": [
    "### 정수 인코딩하기 - decoder"
   ]
  },
  {
   "cell_type": "code",
   "execution_count": null,
   "id": "36061fd0",
   "metadata": {
    "id": "18b71937"
   },
   "outputs": [],
   "source": [
    "decoder_input_train = tar_tokenizer.texts_to_sequences(decoder_input_train) \n",
    "decoder_target_train = tar_tokenizer.texts_to_sequences(decoder_target_train)\n",
    "\n",
    "decoder_input_test = tar_tokenizer.texts_to_sequences(decoder_input_test)\n",
    "decoder_target_test = tar_tokenizer.texts_to_sequences(decoder_target_test)"
   ]
  },
  {
   "cell_type": "code",
   "execution_count": null,
   "id": "edfad1fe",
   "metadata": {
    "colab": {
     "base_uri": "https://localhost:8080/"
    },
    "executionInfo": {
     "elapsed": 16,
     "status": "ok",
     "timestamp": 1653285985455,
     "user": {
      "displayName": "생크림와플먹고싶다",
      "userId": "13048533309979940862"
     },
     "user_tz": -540
    },
    "id": "e58f825c",
    "outputId": "e7c2b0e6-eaae-4882-838c-28122ef603c5"
   },
   "outputs": [
    {
     "name": "stdout",
     "output_type": "stream",
     "text": [
      "input\n",
      "input  [[1, 38, 1206, 168, 8, 44, 178, 2693, 3, 1400, 180], [1, 1169, 18682, 254, 18683, 384, 260, 196, 3, 575], [1, 584, 70, 12492, 6841, 3, 72, 27, 17, 956], [1, 9877, 114, 12493, 3612, 4, 17, 92, 67, 6, 2862], [1, 3954, 5504, 18684, 169, 227, 10, 5770]]\n",
      "target\n",
      "decoder  [[38, 1206, 168, 8, 44, 178, 2693, 3, 1400, 180, 2], [1169, 18682, 254, 18683, 384, 260, 196, 3, 575, 2], [584, 70, 12492, 6841, 3, 72, 27, 17, 956, 2], [9877, 114, 12493, 3612, 4, 17, 92, 67, 6, 2862, 2], [3954, 5504, 18684, 169, 227, 10, 5770, 2]]\n"
     ]
    }
   ],
   "source": [
    "print('input')\n",
    "print('input ',decoder_input_train[:5])\n",
    "print('target')\n",
    "print('decoder ',decoder_target_train[:5])"
   ]
  },
  {
   "cell_type": "code",
   "execution_count": null,
   "id": "ec0ddf05",
   "metadata": {
    "colab": {
     "base_uri": "https://localhost:8080/"
    },
    "executionInfo": {
     "elapsed": 8,
     "status": "ok",
     "timestamp": 1653285985456,
     "user": {
      "displayName": "생크림와플먹고싶다",
      "userId": "13048533309979940862"
     },
     "user_tz": -540
    },
    "id": "522c54d8",
    "outputId": "1a11d98b-2bb1-41c9-bdc1-72064a541516"
   },
   "outputs": [
    {
     "data": {
      "text/plain": [
       "17749"
      ]
     },
     "execution_count": 52,
     "metadata": {},
     "output_type": "execute_result"
    }
   ],
   "source": [
    "len(decoder_target_test)"
   ]
  },
  {
   "cell_type": "markdown",
   "id": "faf85b85",
   "metadata": {
    "id": "a6ce0ac7"
   },
   "source": [
    "<div style = \"height: 50px;\"></div>"
   ]
  },
  {
   "cell_type": "markdown",
   "id": "258942db",
   "metadata": {
    "id": "4d5be3cd"
   },
   "source": [
    "## 8. 패딩하기 전, 요약문의 길이가 1인 샘플 확인하기\n",
    "<hr/>"
   ]
  },
  {
   "cell_type": "code",
   "execution_count": null,
   "id": "31872504",
   "metadata": {
    "id": "44f3fb4a"
   },
   "outputs": [],
   "source": [
    "drop_train = [index for index, sentence in enumerate(decoder_input_train) if len(sentence) == 1]\n",
    "drop_test = [index for index, sentence in enumerate(decoder_input_test) if len(sentence) == 1]"
   ]
  },
  {
   "cell_type": "code",
   "execution_count": null,
   "id": "15ac1d1c",
   "metadata": {
    "colab": {
     "base_uri": "https://localhost:8080/"
    },
    "executionInfo": {
     "elapsed": 24,
     "status": "ok",
     "timestamp": 1653285985897,
     "user": {
      "displayName": "생크림와플먹고싶다",
      "userId": "13048533309979940862"
     },
     "user_tz": -540
    },
    "id": "940bd4b3",
    "outputId": "08320b7e-be35-4dd7-dc4e-dee01cfd7da3"
   },
   "outputs": [
    {
     "name": "stdout",
     "output_type": "stream",
     "text": [
      "삭제할 훈련 데이터의 개수 :  0\n",
      "삭제할 테스트 데이터의 개수 :  0\n"
     ]
    }
   ],
   "source": [
    "print('삭제할 훈련 데이터의 개수 : ', len(drop_train))\n",
    "print('삭제할 테스트 데이터의 개수 : ', len(drop_test))"
   ]
  },
  {
   "cell_type": "code",
   "execution_count": null,
   "id": "21acddcd",
   "metadata": {
    "id": "b0fec154"
   },
   "outputs": [],
   "source": [
    "encoder_input_train = [sentence for index, sentence in enumerate(encoder_input_train) if index not in drop_train]\n",
    "decoder_input_train = [sentence for index, sentence in enumerate(decoder_input_train) if index not in drop_train]\n",
    "decoder_target_train = [sentence for index, sentence in enumerate(decoder_target_train) if index not in drop_train]"
   ]
  },
  {
   "cell_type": "code",
   "execution_count": null,
   "id": "c9f70a53",
   "metadata": {
    "id": "4a374e04"
   },
   "outputs": [],
   "source": [
    "encoder_input_test = [sentence for index, sentence in enumerate(encoder_input_test) if index not in drop_test]\n",
    "decoder_input_test = [sentence for index, sentence in enumerate(decoder_input_test) if index not in drop_test]\n",
    "decoder_target_test = [sentence for index, sentence in enumerate(decoder_target_test) if index not in drop_test]"
   ]
  },
  {
   "cell_type": "code",
   "execution_count": null,
   "id": "80ac7897",
   "metadata": {
    "colab": {
     "base_uri": "https://localhost:8080/"
    },
    "executionInfo": {
     "elapsed": 15,
     "status": "ok",
     "timestamp": 1653285985898,
     "user": {
      "displayName": "생크림와플먹고싶다",
      "userId": "13048533309979940862"
     },
     "user_tz": -540
    },
    "id": "1488ebdc",
    "outputId": "32dfc61f-b790-4f3f-9e3f-41e2657f2a32"
   },
   "outputs": [
    {
     "name": "stdout",
     "output_type": "stream",
     "text": [
      "훈련 데이터의 개수 : 71000\n",
      "훈련 레이블의 개수 : 71000\n",
      "테스트 데이터의 개수 : 17749\n",
      "테스트 레이블의 개수 : 17749\n"
     ]
    }
   ],
   "source": [
    "print('훈련 데이터의 개수 :', len(encoder_input_train))\n",
    "print('훈련 레이블의 개수 :', len(decoder_input_train))\n",
    "print('테스트 데이터의 개수 :', len(encoder_input_test))\n",
    "print('테스트 레이블의 개수 :', len(decoder_input_test))"
   ]
  },
  {
   "cell_type": "markdown",
   "id": "587eaa4d",
   "metadata": {
    "id": "b02092d3"
   },
   "source": [
    "<div style = \"height: 50px;\"></div>"
   ]
  },
  {
   "cell_type": "markdown",
   "id": "f8126988",
   "metadata": {
    "id": "e629183c"
   },
   "source": [
    "## 9. 패딩하기\n",
    "<hr/>"
   ]
  },
  {
   "cell_type": "code",
   "execution_count": null,
   "id": "ead8658d",
   "metadata": {
    "id": "aa06cfba"
   },
   "outputs": [],
   "source": [
    "encoder_input_train = pad_sequences(encoder_input_train, maxlen = text_max_len, padding = 'post')\n",
    "encoder_input_test = pad_sequences(encoder_input_test, maxlen = text_max_len, padding = 'post')"
   ]
  },
  {
   "cell_type": "code",
   "execution_count": null,
   "id": "fc1433a0",
   "metadata": {
    "id": "04a7affb"
   },
   "outputs": [],
   "source": [
    "decoder_input_train = pad_sequences(decoder_input_train, maxlen = headlines_max_len, padding = 'post')\n",
    "decoder_target_train = pad_sequences(decoder_target_train, maxlen = headlines_max_len, padding = 'post')"
   ]
  },
  {
   "cell_type": "code",
   "execution_count": null,
   "id": "045d1165",
   "metadata": {
    "id": "433fdb10"
   },
   "outputs": [],
   "source": [
    "decoder_input_test = pad_sequences(decoder_input_test, maxlen = headlines_max_len, padding = 'post')\n",
    "decoder_target_test = pad_sequences(decoder_target_test, maxlen = headlines_max_len, padding = 'post')"
   ]
  },
  {
   "cell_type": "code",
   "execution_count": null,
   "id": "1b0b18b5",
   "metadata": {
    "colab": {
     "base_uri": "https://localhost:8080/"
    },
    "executionInfo": {
     "elapsed": 18,
     "status": "ok",
     "timestamp": 1653285986662,
     "user": {
      "displayName": "생크림와플먹고싶다",
      "userId": "13048533309979940862"
     },
     "user_tz": -540
    },
    "id": "2b89c0c9",
    "outputId": "e82df837-00fc-456f-d770-e485ee1b432b"
   },
   "outputs": [
    {
     "data": {
      "text/plain": [
       "(17749, 11)"
      ]
     },
     "execution_count": 61,
     "metadata": {},
     "output_type": "execute_result"
    }
   ],
   "source": [
    "decoder_target_test.shape"
   ]
  },
  {
   "cell_type": "markdown",
   "id": "59d31713",
   "metadata": {
    "id": "24762155"
   },
   "source": [
    "<div style = \"height: 50px;\"></div>"
   ]
  },
  {
   "cell_type": "markdown",
   "id": "e18d386d",
   "metadata": {
    "id": "53440243"
   },
   "source": [
    "# <span style = \"font-weight:bold;color:#0172d4;\">STEP 3</span> : 어텐션 메커니즘 사용하기 (추상적 요약)"
   ]
  },
  {
   "cell_type": "markdown",
   "id": "01a64472",
   "metadata": {
    "id": "629be84e"
   },
   "source": [
    "## 1. 인코더 설계하기\n",
    "<hr/>"
   ]
  },
  {
   "cell_type": "code",
   "execution_count": null,
   "id": "14848bb6",
   "metadata": {
    "id": "fbaccc80"
   },
   "outputs": [],
   "source": [
    "embedding_dim = 128\n",
    "hidden_size = 356"
   ]
  },
  {
   "cell_type": "code",
   "execution_count": null,
   "id": "eaeea41e",
   "metadata": {
    "id": "bf8236cb"
   },
   "outputs": [],
   "source": [
    "encoder_inputs = Input(shape = (text_max_len,))"
   ]
  },
  {
   "cell_type": "code",
   "execution_count": null,
   "id": "21c172ae",
   "metadata": {
    "id": "e21daa4d"
   },
   "outputs": [],
   "source": [
    "# 인코더의 임베딩 층\n",
    "enc_emb = Embedding(src_vocab, embedding_dim)(encoder_inputs)"
   ]
  },
  {
   "cell_type": "code",
   "execution_count": null,
   "id": "7ecb7bed",
   "metadata": {
    "id": "51fa47a1"
   },
   "outputs": [],
   "source": [
    "# 인코더의 LSTM 1\n",
    "encoder_lstm1 = LSTM(hidden_size, return_sequences = True, return_state = True ,dropout = 0.4)\n",
    "encoder_output1, state_h1, state_c1 = encoder_lstm1(enc_emb)"
   ]
  },
  {
   "cell_type": "code",
   "execution_count": null,
   "id": "c5a237b2",
   "metadata": {
    "id": "893293ee"
   },
   "outputs": [],
   "source": [
    "# 인코더의 LSTM 2\n",
    "encoder_lstm2 = LSTM(hidden_size, return_sequences = True, return_state = True, dropout = 0.4)\n",
    "encoder_output2, state_h2, state_c2 = encoder_lstm2(encoder_output1)"
   ]
  },
  {
   "cell_type": "code",
   "execution_count": null,
   "id": "f24ff2d5",
   "metadata": {
    "id": "7a4836f7"
   },
   "outputs": [],
   "source": [
    "# 인코더의 LSTM 3\n",
    "encoder_lstm3 = LSTM(hidden_size, return_state = True, return_sequences = True, dropout = 0.4)\n",
    "encoder_outputs, state_h, state_c= encoder_lstm3(encoder_output2)"
   ]
  },
  {
   "cell_type": "markdown",
   "id": "f3d67098",
   "metadata": {
    "id": "6276a0e0"
   },
   "source": [
    "<div style = \"height: 50px;\"></div>"
   ]
  },
  {
   "cell_type": "markdown",
   "id": "816dd87c",
   "metadata": {
    "id": "2d57651c"
   },
   "source": [
    "## 2. 디코더 설계하기\n",
    "<hr/>"
   ]
  },
  {
   "cell_type": "code",
   "execution_count": null,
   "id": "18d51442",
   "metadata": {
    "id": "daa04334"
   },
   "outputs": [],
   "source": [
    "decoder_inputs = Input(shape = (None, ))"
   ]
  },
  {
   "cell_type": "code",
   "execution_count": null,
   "id": "5431b8be",
   "metadata": {
    "id": "98d23fa3"
   },
   "outputs": [],
   "source": [
    "# 디코더의 임베딩 층\n",
    "dec_emb_layer = Embedding(tar_vocab, embedding_dim)\n",
    "dec_emb = dec_emb_layer(decoder_inputs)"
   ]
  },
  {
   "cell_type": "code",
   "execution_count": null,
   "id": "fc0344a0",
   "metadata": {
    "id": "c2f6a842"
   },
   "outputs": [],
   "source": [
    "# 디코더의 LSTM\n",
    "decoder_lstm = LSTM(hidden_size, return_sequences = True, return_state = True, dropout = 0.4)\n",
    "decoder_outputs, _, _ = decoder_lstm(dec_emb, initial_state = [state_h, state_c])"
   ]
  },
  {
   "cell_type": "code",
   "execution_count": null,
   "id": "ade54dbb",
   "metadata": {
    "id": "82fca8d0"
   },
   "outputs": [],
   "source": [
    "# 디코더의 출력층\n",
    "decoder_softmax_layer = Dense(tar_vocab, activation = 'softmax')\n",
    "decoder_softmax_outputs = decoder_softmax_layer(decoder_outputs)"
   ]
  },
  {
   "cell_type": "code",
   "execution_count": null,
   "id": "d73909aa",
   "metadata": {
    "id": "a17d5d35"
   },
   "outputs": [],
   "source": [
    "# 모델 정의하기\n",
    "model = Model([encoder_inputs, decoder_inputs], decoder_softmax_outputs)"
   ]
  },
  {
   "cell_type": "code",
   "execution_count": null,
   "id": "bf69d7e7",
   "metadata": {
    "colab": {
     "base_uri": "https://localhost:8080/"
    },
    "executionInfo": {
     "elapsed": 64,
     "status": "ok",
     "timestamp": 1653285991994,
     "user": {
      "displayName": "생크림와플먹고싶다",
      "userId": "13048533309979940862"
     },
     "user_tz": -540
    },
    "id": "e3fa6fe6",
    "outputId": "33c0d895-0f76-4097-ec53-027ca7dfcf21"
   },
   "outputs": [
    {
     "name": "stdout",
     "output_type": "stream",
     "text": [
      "Model: \"model\"\n",
      "__________________________________________________________________________________________________\n",
      " Layer (type)                   Output Shape         Param #     Connected to                     \n",
      "==================================================================================================\n",
      " input_1 (InputLayer)           [(None, 41)]         0           []                               \n",
      "                                                                                                  \n",
      " embedding (Embedding)          (None, 41, 128)      2688000     ['input_1[0][0]']                \n",
      "                                                                                                  \n",
      " lstm (LSTM)                    [(None, 41, 356),    690640      ['embedding[0][0]']              \n",
      "                                 (None, 356),                                                     \n",
      "                                 (None, 356)]                                                     \n",
      "                                                                                                  \n",
      " input_2 (InputLayer)           [(None, None)]       0           []                               \n",
      "                                                                                                  \n",
      " lstm_1 (LSTM)                  [(None, 41, 356),    1015312     ['lstm[0][0]']                   \n",
      "                                 (None, 356),                                                     \n",
      "                                 (None, 356)]                                                     \n",
      "                                                                                                  \n",
      " embedding_1 (Embedding)        (None, None, 128)    2688000     ['input_2[0][0]']                \n",
      "                                                                                                  \n",
      " lstm_2 (LSTM)                  [(None, 41, 356),    1015312     ['lstm_1[0][0]']                 \n",
      "                                 (None, 356),                                                     \n",
      "                                 (None, 356)]                                                     \n",
      "                                                                                                  \n",
      " lstm_3 (LSTM)                  [(None, None, 356),  690640      ['embedding_1[0][0]',            \n",
      "                                 (None, 356),                     'lstm_2[0][1]',                 \n",
      "                                 (None, 356)]                     'lstm_2[0][2]']                 \n",
      "                                                                                                  \n",
      " dense (Dense)                  (None, None, 21000)  7497000     ['lstm_3[0][0]']                 \n",
      "                                                                                                  \n",
      "==================================================================================================\n",
      "Total params: 16,284,904\n",
      "Trainable params: 16,284,904\n",
      "Non-trainable params: 0\n",
      "__________________________________________________________________________________________________\n"
     ]
    }
   ],
   "source": [
    "model.summary()"
   ]
  },
  {
   "cell_type": "markdown",
   "id": "55813bd3",
   "metadata": {
    "id": "bac5609f"
   },
   "source": [
    "<div style = \"height: 50px;\"></div>"
   ]
  },
  {
   "cell_type": "markdown",
   "id": "a594c489",
   "metadata": {
    "id": "89db2dec"
   },
   "source": [
    "## 3. 어텐션 메커니즘 사용하여 seq2seq 설계하기\n",
    "<hr/>"
   ]
  },
  {
   "cell_type": "code",
   "execution_count": null,
   "id": "326aeb50",
   "metadata": {
    "id": "e355cdc2"
   },
   "outputs": [],
   "source": [
    "# 어텐션 층 (어텐션 함수)\n",
    "attn_layer = AdditiveAttention(name = 'attention_layer')"
   ]
  },
  {
   "cell_type": "code",
   "execution_count": null,
   "id": "c1b03c6f",
   "metadata": {
    "id": "218447b1"
   },
   "outputs": [],
   "source": [
    "# 인코더와 디코더의 모든 time step의 hidden state를 어텐션 층에 전달하고 결과를 리턴\n",
    "attn_out = attn_layer([decoder_outputs, encoder_outputs])"
   ]
  },
  {
   "cell_type": "code",
   "execution_count": null,
   "id": "434c16e4",
   "metadata": {
    "id": "ddfe123a"
   },
   "outputs": [],
   "source": [
    "# 어텐션의 결과와 디코더의 hidden state들을 연결\n",
    "decoder_concat_input = Concatenate(axis = -1, name = 'concat_layer')([decoder_outputs, attn_out])"
   ]
  },
  {
   "cell_type": "code",
   "execution_count": null,
   "id": "fb515a87",
   "metadata": {
    "id": "6df2adcc"
   },
   "outputs": [],
   "source": [
    "# 디코더의 출력층\n",
    "decoder_softmax_layer = Dense(tar_vocab, activation = 'softmax')\n",
    "decoder_softmax_outputs = decoder_softmax_layer(decoder_concat_input)"
   ]
  },
  {
   "cell_type": "code",
   "execution_count": null,
   "id": "e49a82e6",
   "metadata": {
    "id": "230f8919"
   },
   "outputs": [],
   "source": [
    "# 모델 정의하기\n",
    "model = Model([encoder_inputs, decoder_inputs], decoder_softmax_outputs)"
   ]
  },
  {
   "cell_type": "code",
   "execution_count": null,
   "id": "2dd1c080",
   "metadata": {
    "colab": {
     "base_uri": "https://localhost:8080/"
    },
    "executionInfo": {
     "elapsed": 37,
     "status": "ok",
     "timestamp": 1653285991999,
     "user": {
      "displayName": "생크림와플먹고싶다",
      "userId": "13048533309979940862"
     },
     "user_tz": -540
    },
    "id": "866835b6",
    "outputId": "5a855872-bed4-40e0-b1c9-ce47087eb0f7"
   },
   "outputs": [
    {
     "name": "stdout",
     "output_type": "stream",
     "text": [
      "Model: \"model_1\"\n",
      "__________________________________________________________________________________________________\n",
      " Layer (type)                   Output Shape         Param #     Connected to                     \n",
      "==================================================================================================\n",
      " input_1 (InputLayer)           [(None, 41)]         0           []                               \n",
      "                                                                                                  \n",
      " embedding (Embedding)          (None, 41, 128)      2688000     ['input_1[0][0]']                \n",
      "                                                                                                  \n",
      " lstm (LSTM)                    [(None, 41, 356),    690640      ['embedding[0][0]']              \n",
      "                                 (None, 356),                                                     \n",
      "                                 (None, 356)]                                                     \n",
      "                                                                                                  \n",
      " input_2 (InputLayer)           [(None, None)]       0           []                               \n",
      "                                                                                                  \n",
      " lstm_1 (LSTM)                  [(None, 41, 356),    1015312     ['lstm[0][0]']                   \n",
      "                                 (None, 356),                                                     \n",
      "                                 (None, 356)]                                                     \n",
      "                                                                                                  \n",
      " embedding_1 (Embedding)        (None, None, 128)    2688000     ['input_2[0][0]']                \n",
      "                                                                                                  \n",
      " lstm_2 (LSTM)                  [(None, 41, 356),    1015312     ['lstm_1[0][0]']                 \n",
      "                                 (None, 356),                                                     \n",
      "                                 (None, 356)]                                                     \n",
      "                                                                                                  \n",
      " lstm_3 (LSTM)                  [(None, None, 356),  690640      ['embedding_1[0][0]',            \n",
      "                                 (None, 356),                     'lstm_2[0][1]',                 \n",
      "                                 (None, 356)]                     'lstm_2[0][2]']                 \n",
      "                                                                                                  \n",
      " attention_layer (AdditiveAtten  (None, None, 356)   356         ['lstm_3[0][0]',                 \n",
      " tion)                                                            'lstm_2[0][0]']                 \n",
      "                                                                                                  \n",
      " concat_layer (Concatenate)     (None, None, 712)    0           ['lstm_3[0][0]',                 \n",
      "                                                                  'attention_layer[0][0]']        \n",
      "                                                                                                  \n",
      " dense_1 (Dense)                (None, None, 21000)  14973000    ['concat_layer[0][0]']           \n",
      "                                                                                                  \n",
      "==================================================================================================\n",
      "Total params: 23,761,260\n",
      "Trainable params: 23,761,260\n",
      "Non-trainable params: 0\n",
      "__________________________________________________________________________________________________\n"
     ]
    }
   ],
   "source": [
    "model.summary()"
   ]
  },
  {
   "cell_type": "markdown",
   "id": "50ad861c",
   "metadata": {
    "id": "c9ebba9d"
   },
   "source": [
    "<div style = \"height: 50px;\"></div>"
   ]
  },
  {
   "cell_type": "markdown",
   "id": "6698d456",
   "metadata": {
    "id": "295e3963"
   },
   "source": [
    "## 4. 모델 훈련하기\n",
    "<hr/>"
   ]
  },
  {
   "cell_type": "code",
   "execution_count": null,
   "id": "51b489ef",
   "metadata": {
    "id": "4a5039b2"
   },
   "outputs": [],
   "source": [
    "os.makedirs(name = \"Model2\", exist_ok = True)"
   ]
  },
  {
   "cell_type": "code",
   "execution_count": null,
   "id": "9055bb15",
   "metadata": {
    "id": "f203cecc"
   },
   "outputs": [],
   "source": [
    "# 모델 컴파일\n",
    "model.compile(optimizer = 'rmsprop', loss = 'sparse_categorical_crossentropy')"
   ]
  },
  {
   "cell_type": "code",
   "execution_count": null,
   "id": "34671846",
   "metadata": {
    "id": "fbc1ee09"
   },
   "outputs": [],
   "source": [
    "es = EarlyStopping(monitor = 'val_loss', patience = 2, verbose = 1)"
   ]
  },
  {
   "cell_type": "code",
   "execution_count": null,
   "id": "e7390abc",
   "metadata": {
    "id": "ee47e5ba"
   },
   "outputs": [],
   "source": [
    "# 모델 체크포인트 \n",
    "check_point = ModelCheckpoint(filepath = \"Model2/model_{epoch:02d}-{val_loss:.4f}.hdf5\")"
   ]
  },
  {
   "cell_type": "code",
   "execution_count": null,
   "id": "bcf8dafa",
   "metadata": {
    "colab": {
     "base_uri": "https://localhost:8080/"
    },
    "executionInfo": {
     "elapsed": 1078347,
     "status": "ok",
     "timestamp": 1653287070610,
     "user": {
      "displayName": "생크림와플먹고싶다",
      "userId": "13048533309979940862"
     },
     "user_tz": -540
    },
    "id": "adc0967d",
    "outputId": "5e090dfd-a934-4d3b-b8d0-dc66e9c41249",
    "scrolled": true
   },
   "outputs": [
    {
     "name": "stdout",
     "output_type": "stream",
     "text": [
      "Epoch 1/50\n",
      "278/278 [==============================] - 62s 184ms/step - loss: 6.4804 - val_loss: 5.9799\n",
      "Epoch 2/50\n",
      "278/278 [==============================] - 52s 188ms/step - loss: 5.8492 - val_loss: 5.5960\n",
      "Epoch 3/50\n",
      "278/278 [==============================] - 54s 193ms/step - loss: 5.4601 - val_loss: 5.2665\n",
      "Epoch 4/50\n",
      "278/278 [==============================] - 53s 192ms/step - loss: 5.1424 - val_loss: 5.0439\n",
      "Epoch 5/50\n",
      "278/278 [==============================] - 53s 192ms/step - loss: 4.8905 - val_loss: 4.8961\n",
      "Epoch 6/50\n",
      "278/278 [==============================] - 53s 192ms/step - loss: 4.6830 - val_loss: 4.8029\n",
      "Epoch 7/50\n",
      "278/278 [==============================] - 54s 193ms/step - loss: 4.5002 - val_loss: 4.6969\n",
      "Epoch 8/50\n",
      "278/278 [==============================] - 54s 193ms/step - loss: 4.3371 - val_loss: 4.6102\n",
      "Epoch 9/50\n",
      "278/278 [==============================] - 54s 193ms/step - loss: 4.1899 - val_loss: 4.5493\n",
      "Epoch 10/50\n",
      "278/278 [==============================] - 54s 193ms/step - loss: 4.0532 - val_loss: 4.4975\n",
      "Epoch 11/50\n",
      "278/278 [==============================] - 54s 193ms/step - loss: 3.9337 - val_loss: 4.4882\n",
      "Epoch 12/50\n",
      "278/278 [==============================] - 54s 193ms/step - loss: 3.8219 - val_loss: 4.4476\n",
      "Epoch 13/50\n",
      "278/278 [==============================] - 54s 193ms/step - loss: 3.7188 - val_loss: 4.4172\n",
      "Epoch 14/50\n",
      "278/278 [==============================] - 54s 193ms/step - loss: 3.6218 - val_loss: 4.4144\n",
      "Epoch 15/50\n",
      "278/278 [==============================] - 54s 193ms/step - loss: 3.5304 - val_loss: 4.3987\n",
      "Epoch 16/50\n",
      "278/278 [==============================] - 54s 193ms/step - loss: 3.4476 - val_loss: 4.3899\n",
      "Epoch 17/50\n",
      "278/278 [==============================] - 54s 193ms/step - loss: 3.3697 - val_loss: 4.3930\n",
      "Epoch 18/50\n",
      "278/278 [==============================] - 54s 193ms/step - loss: 3.2946 - val_loss: 4.3851\n",
      "Epoch 19/50\n",
      "278/278 [==============================] - 54s 193ms/step - loss: 3.2242 - val_loss: 4.3893\n",
      "Epoch 20/50\n",
      "278/278 [==============================] - 54s 193ms/step - loss: 3.1589 - val_loss: 4.3993\n",
      "Epoch 20: early stopping\n"
     ]
    }
   ],
   "source": [
    "history = model.fit(x = [encoder_input_train, decoder_input_train], y = decoder_target_train,\n",
    "                    validation_data = ([encoder_input_test, decoder_input_test], decoder_target_test),\n",
    "                    batch_size = 256, callbacks = [es, check_point], epochs = 50)"
   ]
  },
  {
   "cell_type": "markdown",
   "id": "80bbb535",
   "metadata": {
    "id": "8d00d07e"
   },
   "source": [
    "<div style = \"height: 25px;\"></div>"
   ]
  },
  {
   "cell_type": "markdown",
   "id": "4908d318",
   "metadata": {
    "id": "7ada27c9"
   },
   "source": [
    "### 훈련 데이터, 검증 데이터의 러닝 커브 시각화하기"
   ]
  },
  {
   "cell_type": "code",
   "execution_count": null,
   "id": "dca9f129",
   "metadata": {
    "colab": {
     "base_uri": "https://localhost:8080/",
     "height": 265
    },
    "executionInfo": {
     "elapsed": 20,
     "status": "ok",
     "timestamp": 1653287070611,
     "user": {
      "displayName": "생크림와플먹고싶다",
      "userId": "13048533309979940862"
     },
     "user_tz": -540
    },
    "id": "cdd72f30",
    "outputId": "db1a9d32-a087-4016-b55f-3cce4f984d04"
   },
   "outputs": [
    {
     "data": {
      "image/png": "[encoded data removed]",
      "text/plain": [
       "<Figure size 432x288 with 1 Axes>"
      ]
     },
     "metadata": {
      "needs_background": "light"
     },
     "output_type": "display_data"
    }
   ],
   "source": [
    "plt.plot(history.history['loss'], label='train')\n",
    "plt.plot(history.history['val_loss'], label='test')\n",
    "plt.legend()\n",
    "plt.show()"
   ]
  },
  {
   "cell_type": "markdown",
   "id": "f1ed017d",
   "metadata": {
    "id": "a100b042"
   },
   "source": [
    "<p style= \"font-size:15px; line-height:24px;\">모델을 훈련한 결과, 최종적인 loss 값들은,<br/>\n",
    "<span style = 'background-color:#fff5b1; padding:0.2px;'>loss: 3.1589, val_loss: 4.3993 이다.</span><br/>\n",
    "그래프를 출력한 결과, 0에 수렴하지 않고, loss가 4점대에 머무르는 Local minimum에 빠진 것 같다.</p>"
   ]
  },
  {
   "cell_type": "markdown",
   "id": "18861177",
   "metadata": {},
   "source": [
    "#### 인퍼런스 모델 구현하기"
   ]
  },
  {
   "cell_type": "code",
   "execution_count": 247,
   "id": "a67e1025",
   "metadata": {
    "colab": {
     "base_uri": "https://localhost:8080/"
    },
    "executionInfo": {
     "elapsed": 32627,
     "status": "ok",
     "timestamp": 1653363097121,
     "user": {
      "displayName": "생크림와플먹고싶다",
      "userId": "13048533309979940862"
     },
     "user_tz": -540
    },
    "id": "3de7a202",
    "outputId": "f38e4c8f-8f38-408b-866a-1a1c4b31df16"
   },
   "outputs": [
    {
     "name": "stdout",
     "output_type": "stream",
     "text": [
      "원문 :  billion louvre abu dhabi museum inaugurated island wednesday years project announced french president emmanuel macron unveiled museum featuring permanent loaned artworks france displays include works van gogh picasso quran bible open verses carrying message \n",
      "실제 요약 :  cr louvre abu dhabi opens years after announcement \n",
      "예측 요약 :   world first indian city to be held in us for\n",
      "\n",
      "\n",
      "원문 :  cameron tyler winklevoss twins claimed mark zuckerberg stole idea facebook believed become world first bitcoin billionaires pair received million settlement facebook used million money invest bitcoin since cryptocurrency surged almost making year old brothers billionaires \n",
      "실제 요약 :  twins who sued facebook become world st bitcoin billionaires \n",
      "예측 요약 :   louis vuitton billionaire george clooney becomes billionaire\n",
      "\n",
      "\n",
      "원문 :  chinese technology giant zte claimed cannot fix office toilet made us based manufacturer american standard zte could buy spare parts repair due us export ban according notice company administration department notice said toilet would fixed soon ban lifted \n",
      "실제 요약 :  cannot fix office toilet due to us export ban claims zte \n",
      "예측 요약 :   us firm uses phone to spread software of data\n",
      "\n",
      "\n",
      "원문 :  union minister suresh prabhu thursday said india violate international law trade iran would like work iran manner wherein countries trade items mutual interest added bilateral trade india iran increased billion billion previous fiscal \n",
      "실제 요약 :  will not violate international laws in trade with iran prabhu \n",
      "예측 요약 :   us to make nuclear deal with iran nuclear deal\n",
      "\n",
      "\n",
      "원문 :  chinese smartphone maker xiaomi ceo lei jun said company plans invest billion indian startups next five years lei also said xiaomi already invested six indian companies including hungama xiaomi accounted smartphone shipments india september quarter according research firm idc \n",
      "실제 요약 :  xiaomi plans to invest bn in indian startups ceo lei jun \n",
      "예측 요약 :   xiaomi signs mn fund for xiaomi in india report\n",
      "\n",
      "\n",
      "원문 :  australian spin legend shane warne said number times indian captain virat kohli hit hundreds chasing opposition score even sachin tendulkar could sure finishes ten years spoken breath sachin warne added \n",
      "실제 요약 :  sachin could not do what kohli has done while chasing warne \n",
      "예측 요약 :   kohli didn not be made in ipl auction ganguly\n",
      "\n",
      "\n",
      "원문 :  india consumer price index retail inflation increased seven month high october year earlier september government data showed rise mainly attributed increase fuel vegetable prices vegetable prices rose last year fuel light inflation stood \n",
      "실제 요약 :  retail inflation in october rises to month high of \n",
      "예측 요약 :   wholesale inflation hits month high of in november\n",
      "\n",
      "\n",
      "원문 :  cbi questioned four senior rbi officials connection billion pnb fraud linked jewellers nirav modi mehul choksi questioned alleged lapses pnb audit discrepancies detected officials also reportedly questioned alleged benefits choksi gitanjali group due gold import scheme \n",
      "실제 요약 :  cbi questions senior rbi officials over bn pnb fraud \n",
      "예측 요약 :   cbi moves pnb fraud over nirav modi over pnb fraud\n",
      "\n",
      "\n",
      "원문 :  many cricketers including overseas players signed upcoming ipl auction fill available spots capped uncapped three associate nations first time cricketers arunachal pradesh bihar manipur meghalaya mizoram nagaland sikkim uttarakhand puducherry registered auction \n",
      "실제 요약 :  players register for ipl auction only spots to be filled \n",
      "예측 요약 :   ipl clubs lose cr to buy ipl for cr\n",
      "\n",
      "\n",
      "원문 :  icc requested indian fans sell tickets purchased first semi final england pakistan case plan attend match indian fans reportedly purchased tickets teams decided icc fearing seats go vacant requested \n",
      "실제 요약 :  indian fans buy eng pak tickets icc asks to resell \n",
      "예측 요약 :   pakistan suspends pakistan for not playing in matches\n",
      "\n",
      "\n",
      "원문 :  us court monday ordered north korea pay million damages torture death us college student otto warmbier passed away following release north korea prison year old died days returned us coma warmbier parents sued north korea april \n",
      "실제 요약 :  us court orders korea to pay million over student death \n",
      "예측 요약 :   us orders death penalty for murder of year\n",
      "\n",
      "\n",
      "원문 :  bjp saturday alleged aap government wasted public funds lunch parties delhi cm arvind kejriwal residence cost lakh terming alleged expenditure mind union minister piyush goyal said kejriwal party misusing funds last two years political needs purposes \n",
      "실제 요약 :  aap govt spent on at kejriwal residence bjp \n",
      "예측 요약 :   bjp files complaint against kejriwal over govt scam\n",
      "\n",
      "\n",
      "원문 :  national carrier air india reportedly delayed payment salaries employees third consecutive month air india spokesperson said employees expected receive salaries may next week air india employees reportedly get paid th st every month \n",
      "실제 요약 :  air india delays salaries for third month in row \n",
      "예측 요약 :   air india to pay crore bonus to employees\n",
      "\n",
      "\n",
      "원문 :  railway minister piyush goyal instructed indian railway catering tourism corporation make railway reserved accommodation available commercial purposes stating colonial mindset place modern india saloon coaches usually feature two bedrooms lounge toilet kitchen earlier reserved railway officials \n",
      "실제 요약 :  railways to provide saloon coaches for commercial purposes \n",
      "예측 요약 :   railways to get free trains to trains for trains\n",
      "\n",
      "\n",
      "원문 :  paradise papers leak revealed qatari investment firm sold coaching giant shares mumbai ambit group mauritius based subsidiary ambit group effectively making crore transaction two companies acknowledging deal ambit group said complied rbi prescribed norms \n",
      "실제 요약 :  qatar firm funded via mauritius paradise papers \n",
      "예측 요약 :   ed to sell stake in cement to sell paradise papers\n",
      "\n",
      "\n",
      "원문 :  luxury carmaker mercedes benz india launched version compact suv three engine variants starting lakh torque nm capable kmph seconds car dual clutch transmission ensure rapid gear shifts \n",
      "실제 요약 :  mercedes benz launches new suv starting at lakh \n",
      "예측 요약 :   rolls royce to make comeback at electric car\n",
      "\n",
      "\n",
      "원문 :  july us spacecraft apollo soviet union soyuz space create history hour apollo soyuz astronauts cosmonauts conducted experiments shared meals held joint news conference nasa astronaut later said soviet union america could work together space could work together earth \n",
      "실제 요약 :  cold war rivals us and soviet union met in space in \n",
      "예측 요약 :   astronaut reveals he edited how astronauts reveal to earth\n",
      "\n",
      "\n",
      "원문 :  amazon reportedly planning release least eight new hardware devices powered digital assistant alexa end year want customers able use alexa wherever amazon founder jeff bezos earlier said devices include microwave oven receiver car gadget report added \n",
      "실제 요약 :  amazon to release alexa enabled microwave gadgets report \n",
      "예측 요약 :   amazon to launch its own megapixel phone in the\n",
      "\n",
      "\n",
      "원문 :  video showing man proposing girlfriend marriage using intercom board indigo plane gone viral girlfriend walks following goes one knee rose officials said first made proposal leading plane later obtained permission use intercom \n",
      "실제 요약 :  video man proposes to girlfriend over intercom on plane \n",
      "예측 요약 :   couple told to girlfriend girlfriend told it is not girlfriend\n",
      "\n",
      "\n",
      "원문 :  actor akshay kumar thanked gst council understanding need menstrual hygiene sanitary pads goods services tax tweeted one days news brings tears joy cause close heart gets fulfilled sure crores women country sending gratitude way \n",
      "실제 요약 :  akshay thanks govt for sanitary pads from gst \n",
      "예측 요약 :   rajinikanth to make sanitary pads in film industry reports\n",
      "\n",
      "\n",
      "원문 :  class student madurai school allegedly committed suicide hanging scolded sending prank message police said sent message saying holiday school students absent day scolded following boy ended life police said \n",
      "실제 요약 :  boy hangs himself after being scolded for sending prank msg \n",
      "예측 요약 :   class student commits suicide in up over class girl\n",
      "\n",
      "\n",
      "원문 :  white house national trade council director peter said india tariffs imposed harley davidson motorcycles could result foreign investments country india agrees lower tariffs harley davidson motorcycles indian consumers buy save less harley sell invest stated \n",
      "실제 요약 :  india should lower tariffs on harley davidson us \n",
      "예측 요약 :   us to buy its biggest businesses for billion\n",
      "\n",
      "\n",
      "원문 :  calling iranian regime rogue us president donald trump friday announced certify iran nuclear deal threatening pull deal point time trump said deal continuous review notably us president certify iran compliance pact every days \n",
      "실제 요약 :  trump announces he will not certify iran nuclear deal \n",
      "예측 요약 :   iran will not be allowed to iran nuclear deal iran\n",
      "\n",
      "\n",
      "원문 :  according theory tradition wearing engagement rings left hand traced ancient believed love ran fourth left finger heart however scientifically proven another theory states people right handed rings placed one least used fingers left hand \n",
      "실제 요약 :  why are engagement rings on the left hand \n",
      "예측 요약 :   ed sheeran performs on his first time in years\n",
      "\n",
      "\n",
      "원문 :  doctors mexico managed save life year old woman removing kg ovarian grew month period body believed biggest ever removed whole reportedly weighed equivalent ten newborn babies reportedly crushed internal organs problems walking eating breathing \n",
      "실제 요약 :  woman undergoes surgery to remove kg \n",
      "예측 요약 :   woman found in mcdonald finds birth of child in years\n",
      "\n",
      "\n",
      "원문 :  india meteorological department sounded red alert thrissur districts kerala predictions extremely heavy rainfall october tourists advised travel regions especially meanwhile cm pinarayi vijayan said state sought support central agencies asked five companies ndrf \n",
      "실제 요약 :  red alert in kerala districts over heavy rain tourists warned \n",
      "예측 요약 :   mumbai rains closed over cyclone ockhi\n",
      "\n",
      "\n",
      "원문 :  contract worker maintenance work british airways data centre believed inadvertently turned power supply knocking computer systems investigation global ba power outage likely focus human error instead equipment failure meanwhile british airways faces compensation bill million \n",
      "실제 요약 :  british airways outage by man who turned off power reports \n",
      "예측 요약 :   mcdonald former us workers charged for drug scandal\n",
      "\n",
      "\n",
      "원문 :  vijay mallya left india legally cannot declared fugitive arrested uk lawyer told court left even warrant issued leave avoid criminal prosecution added lawyer also said mallya cannot leave uk per terms bail granted \n",
      "실제 요약 :  mallya cannot be declared fugitive was arrested in uk lawyer \n",
      "예측 요약 :   mallya not not be given to kill lawyer lawyer\n",
      "\n",
      "\n",
      "원문 :  white house called deaths palestinians gaza border propaganda attempt hamas militant group came palestinians killed israeli forces injured protests new us embassy jerusalem defending israel white house added country right defend \n",
      "실제 요약 :  gaza protest deaths propaganda attempt by hamas us \n",
      "예측 요약 :   libyan dictator killed in us after attacks\n",
      "\n",
      "\n",
      "원문 :  japanese conglomerate toshiba sued chip business partner western digital billion interfering sale flash memory chip unit toshiba plans use cash sale balance massive loss nuclear power business western digital jointly runs toshiba main semiconductor plant accused toshiba breaching joint venture contracts \n",
      "실제 요약 :  toshiba sues partner for bn on obstructing chip unit sale \n",
      "예측 요약 :   japan stock dips to buy for billion reports\n",
      "\n",
      "\n",
      "원문 :  pakistan claimed friday international court justice rejected india request delay proceedings kulbhushan jadhav case december india adopted stance matter one life death pakistan stated icj court appeals pakistan attorney general ali said \n",
      "실제 요약 :  icj rejected india request to delay kulbhushan case pak \n",
      "예측 요약 :   india is icj not kulbhushan jadhav to jadhav case\n",
      "\n",
      "\n",
      "원문 :  income tax department sunday said records relating ongoing investigation nirav modi mehul choksi transferred fire broke income tax office mumbai clarification came media reports claimed records destroyed fire department investigating crore pnb scam \n",
      "실제 요약 :  nirav modi records safe shifted before fire department \n",
      "예측 요약 :   ed attaches properties of nirav modi in pnb scam\n",
      "\n",
      "\n",
      "원문 :  police chinese city tianjin seized computers used mine bitcoin local power grid reported abnormal electricity usage state media reported police said high power fans also confiscated adding largest electricity theft case recent years five people investigation another detained \n",
      "실제 요약 :  china seizes bitcoin mining computers over power theft \n",
      "예측 요약 :   illegal thieves found in california wildfire\n",
      "\n",
      "\n",
      "원문 :  actress soha ali khan took social media share collage pictures sister law kareena kapoor niece sara nephew ibrahim pictures taken brother saif ali khan th birthday celebrations soha pregnant first child wrote photo caption august company \n",
      "실제 요약 :  soha ali khan shares picture with kareena sara ibrahim \n",
      "예측 요약 :   jacqueline shares pic of saif ali khan daughter\n",
      "\n",
      "\n",
      "원문 :  part road bridge collapsed onto rail tracks station mumbai andheri tuesday morning injuring least five people rescue operations currently underway collapse affected local train services disrupted traffic movement bridge connects andheri east andheri west stations used thousands commuters daily \n",
      "실제 요약 :  road over bridge collapses on rail tracks at mumbai station \n",
      "예측 요약 :   mumbai local train express catches fire in mumbai\n",
      "\n",
      "\n",
      "원문 :  prime minister narendra modi addressing nation occasion independence day commended women lead lives due triple talaq starting movement practice want tell succeed whole country supports significant step towards women empowerment said \n",
      "실제 요약 :  pm modi hails women fighting triple talaq in day address \n",
      "예측 요약 :   pm modi meets women in parliament to meet pm modi\n",
      "\n",
      "\n",
      "원문 :  anonymous letter received senior railway officer claimed would bomb explosion every month tamil nadu railway station till time neet withdrawn government comes amid mass protests state following year old girl suicide supreme court declared neet could exempted tamil nadu \n",
      "실제 요약 :  letter threatens explosion each month till neet is withdrawn \n",
      "예측 요약 :   indian students protest in india protest over protest\n",
      "\n",
      "\n",
      "원문 :  uk foreign secretary boris johnson said russia stockpiling novichok type nerve agent used allegedly poison former spy sergei skripal added russia investigating ways weapons used comes russia said nerve agent could developed uk \n",
      "실제 요약 :  russia nerve agent used to poison former spy uk \n",
      "예측 요약 :   russia expels us diplomats in tit for tat move\n",
      "\n",
      "\n",
      "원문 :  de silva former top counter terrorism sri lankan official arrested alleged plot assassinate president maithripala sirisena arrested interrogated five days alleged plot kill sirisena several police officials former defence secretary police accused silva involved alleged assassination plot \n",
      "실제 요약 :  top sri lanka policeman arrested over plot to kill president \n",
      "예측 요약 :   ex pak diplomat held for assaulting yr old in australia\n",
      "\n",
      "\n",
      "원문 :  three asiatic lions killed run goods train gujarat amreli district tuesday pride six lions moving along track two male female lion run train died spot strict action taken whoever found guilty official said \n",
      "실제 요약 :  lions die after being run over by train in gujarat \n",
      "예측 요약 :   two people fall sick in bihar hospital in up\n",
      "\n",
      "\n",
      "원문 :  centre consulted parties work unanimous mechanism going ahead nrc exercise assam janata dal leader sharad yadav said added able declaring cut date get tired final draft nrc released july \n",
      "실제 요약 :  govt should have consulted all parties on nrc list sharad yadav \n",
      "예측 요약 :   will not support any support for any time bjp\n",
      "\n",
      "\n",
      "원문 :  former pakistan captain waqar younis slammed twitter suggesting women odis overs side user tweeted wait saying women given equal treatment asking equal treatment wrong waqar later tweeted clarification saying meant discrimination prejudice towards women \n",
      "실제 요약 :  waqar younis slammed for suggesting shortening women odis \n",
      "예측 요약 :   pakistan captain sarfraz launches jersey from cricket\n",
      "\n",
      "\n",
      "원문 :  delhi state consumer disputes redressal commission allowed sbi appeal cannot held guilty service customer loses money handing stranger inside bank follows complaint woman gave notes stranger help count alleged stranger notes left \n",
      "실제 요약 :  bank not liable if customer hands over money to stranger \n",
      "예측 요약 :   govt asked to pay crore for divorce from employer\n",
      "\n",
      "\n",
      "원문 :  lava hawaii kilauea volcano erupting days largest freshwater lake big island june us geological survey revealed within two hours molten rock boiled away year old lake filled entire area feet deep places added \n",
      "실제 요약 :  lake in hours as hawaii volcano lava hits it \n",
      "예측 요약 :   of beer island found in the last year\n",
      "\n",
      "\n",
      "원문 :  elon musk led tesla let go approximately workforce effort reduce costs become profitable billionaire said email employees cuts almost entirely made salaried population production associates included said earlier musk told employees tesla undertaking thorough reorganisation \n",
      "실제 요약 :  elon musk tesla cuts of workforce to become profitable \n",
      "예측 요약 :   tesla to remain profitable tesla for first time in yrs\n",
      "\n",
      "\n",
      "원문 :  singer ed sheeran denying rumours taking break music tweeted das earlier reported sheeran would quit music five ten years releasing another album sheeran latest album third studio album released march year \n",
      "실제 요약 :  das sheeran while denying rumour of quitting music \n",
      "예측 요약 :   ed sheeran sheeran to announce his own name\n",
      "\n",
      "\n",
      "원문 :  rotomac owner vikram kothari allegedly defrauded banks crore son mouth brand pan parag late founder kothari vikram kothari set business name rotomac real estate business also started mouth business kothari foods \n",
      "실제 요약 :  who is vikram kothari accused in cr rotomac fraud \n",
      "예측 요약 :   paytm ceo son to get crore payout on crore\n",
      "\n",
      "\n",
      "원문 :  poster rajkummar rao starrer unveiled directed hansal mehta film marks fourth time rao mehta collaborate actor director shahid aligarh film revolves around rao british terrorist pakistani descent ahmed omar saeed sheikh release april \n",
      "실제 요약 :  poster of rajkummar rao starrer omert unveiled \n",
      "예측 요약 :   trailer of rajkummar rao starrer upcoming film released\n",
      "\n",
      "\n",
      "원문 :  rare joint statement leaders france germany italy thursday dismissed claims made us president donald trump paris climate deal also reaffirmed commitment swift implementation deal trump claimed globally binding deal fight climate change unfair united states \n",
      "실제 요약 :  us cannot renegotiate paris climate deal france germany \n",
      "예측 요약 :   us federal federal federal diplomat to be hacked by trump\n",
      "\n",
      "\n",
      "원문 :  kashmiri student allegedly attacked private university haryana ambala wednesday days police arrested three people attacking two kashmiri students state district police said victim argument fellow student beat along outsiders students reached compromise police added \n",
      "실제 요약 :  another kashmiri student attacked in haryana \n",
      "예측 요약 :   delhi police arrests cctv for robbing self driving\n",
      "\n",
      "\n"
     ]
    }
   ],
   "source": [
    "for i in range(50, 100):\n",
    "    print('원문 : ', seq2text(encoder_input_test[i]))\n",
    "    print('실제 요약 : ', seq2headlines(decoder_input_test[i]))\n",
    "    print('예측 요약 : ', decode_sequence(encoder_input_test[i].reshape(1, text_max_len)))\n",
    "    print('\\n')"
   ]
  },
  {
   "cell_type": "markdown",
   "id": "82f78218",
   "metadata": {
    "id": "bfc94e4f"
   },
   "source": [
    "<div style = \"height: 50px;\"></div>"
   ]
  },
  {
   "cell_type": "markdown",
   "id": "aa2ac8f1",
   "metadata": {
    "id": "15da06e2"
   },
   "source": [
    "# <span style = \"font-weight:bold;color:#0172d4;\">STEP 4</span> : 실제 결과와 요약문 비교하기 (추상적 요약)"
   ]
  },
  {
   "cell_type": "markdown",
   "id": "a83f95ce",
   "metadata": {
    "id": "01dc9b38"
   },
   "source": [
    "## 1. 인퍼런스 모델 구현하기\n",
    "<hr/>"
   ]
  },
  {
   "cell_type": "code",
   "execution_count": null,
   "id": "8e6067c3",
   "metadata": {
    "id": "63c7ac00"
   },
   "outputs": [],
   "source": [
    "src_index_to_word = src_tokenizer.index_word # 원문 단어 집합에서 정수 -> 단어를 얻음"
   ]
  },
  {
   "cell_type": "code",
   "execution_count": null,
   "id": "293ce4de",
   "metadata": {
    "id": "57942e55"
   },
   "outputs": [],
   "source": [
    "tar_word_to_index = tar_tokenizer.word_index # 요약 단어 집합에서 단어 -> 정수를 얻음"
   ]
  },
  {
   "cell_type": "code",
   "execution_count": null,
   "id": "47b61455",
   "metadata": {
    "id": "4b882b3b"
   },
   "outputs": [],
   "source": [
    "tar_index_to_word = tar_tokenizer.index_word # 요약 단어 집합에서 정수 -> 단어를 얻음"
   ]
  },
  {
   "cell_type": "code",
   "execution_count": null,
   "id": "d3f31476",
   "metadata": {
    "id": "d3029e9d"
   },
   "outputs": [],
   "source": [
    "# 인코더 설계 \n",
    "encoder_model = Model(inputs = encoder_inputs, outputs = [encoder_outputs, state_h, state_c])"
   ]
  },
  {
   "cell_type": "code",
   "execution_count": null,
   "id": "a5b6da10",
   "metadata": {
    "id": "ab87d8a3"
   },
   "outputs": [],
   "source": [
    "# 이전 시점의 상태들을 저장하는 텐서\n",
    "decoder_state_input_h = Input(shape = (hidden_size, ))\n",
    "decoder_state_input_c = Input(shape = (hidden_size, ))\n",
    "\n",
    "dec_emb2 = dec_emb_layer(decoder_inputs)"
   ]
  },
  {
   "cell_type": "code",
   "execution_count": null,
   "id": "54032e63",
   "metadata": {
    "id": "d7e22938"
   },
   "outputs": [],
   "source": [
    "decoder_outputs2, state_h2, state_c2 = decoder_lstm(dec_emb2, initial_state = [decoder_state_input_h, decoder_state_input_c])"
   ]
  },
  {
   "cell_type": "code",
   "execution_count": null,
   "id": "f8cf6e3d",
   "metadata": {
    "id": "625a0bac"
   },
   "outputs": [],
   "source": [
    "# 어텐션 함수\n",
    "decoder_hidden_state_input = Input(shape = (text_max_len, hidden_size))\n",
    "attn_out_inf = attn_layer([decoder_outputs2, decoder_hidden_state_input])\n",
    "decoder_inf_concat = Concatenate(axis = -1, name = 'concat')([decoder_outputs2, attn_out_inf])"
   ]
  },
  {
   "cell_type": "code",
   "execution_count": null,
   "id": "a8ca976c",
   "metadata": {
    "id": "eba03e8f"
   },
   "outputs": [],
   "source": [
    "# 디코더의 출력층\n",
    "decoder_outputs2 = decoder_softmax_layer(decoder_inf_concat)"
   ]
  },
  {
   "cell_type": "code",
   "execution_count": null,
   "id": "6f7fd6ff",
   "metadata": {
    "id": "147643d8"
   },
   "outputs": [],
   "source": [
    "# 최종 디코더 모델\n",
    "decoder_model = Model([decoder_inputs] + [decoder_hidden_state_input, decoder_state_input_h, decoder_state_input_c],\n",
    "                     [decoder_outputs2] + [state_h2, state_c2])"
   ]
  },
  {
   "cell_type": "markdown",
   "id": "8c95b5e2",
   "metadata": {
    "id": "f60ec6be"
   },
   "source": [
    "<div style = \"height: 50px;\"></div>"
   ]
  },
  {
   "cell_type": "markdown",
   "id": "9fce65fd",
   "metadata": {
    "id": "bdead089"
   },
   "source": [
    "## 2. 인퍼런스 단계에서 단어 시퀀스를 완성하는 함수만들기\n",
    "<hr/>"
   ]
  },
  {
   "cell_type": "code",
   "execution_count": null,
   "id": "98a7196e",
   "metadata": {
    "id": "e4d11ff6"
   },
   "outputs": [],
   "source": [
    "def decode_sequence(input_seq):\n",
    "    # 입력으로부터 인코더의 상태를 얻음\n",
    "    e_out, e_h, e_c = encoder_model.predict(input_seq)\n",
    "    \n",
    "    # <sos>에 해당하는 토큰 생성\n",
    "    target_seq = np.zeros((1, 1))\n",
    "    target_seq[0, 0] = tar_word_to_index['sostoken']\n",
    "    \n",
    "    stop_condition = False\n",
    "    decoded_sentence = ''\n",
    "    \n",
    "    while not stop_condition:\n",
    "        output_tokens, h, c = decoder_model.predict([target_seq] + [e_out, e_h, e_c])\n",
    "        sampled_token_index = np.argmax(output_tokens[0, -1, :])\n",
    "        sampled_token = tar_index_to_word[sampled_token_index]\n",
    "        \n",
    "        if sampled_token != 'eostoken':\n",
    "             decoded_sentence += ' ' + sampled_token\n",
    "            \n",
    "        # <eos>에 도달하거나 최대 길이를 넘으면 중단\n",
    "        if (sampled_token == 'eostoken' or len(decoded_sentence.split()) >= (headlines_max_len - 1)):\n",
    "            stop_condition = True\n",
    "        \n",
    "        # 길이가 1인 타겟 시퀀스를 업데이트\n",
    "        target_seq = np.zeros((1, 1))\n",
    "        target_seq[0, 0] = sampled_token_index\n",
    "        \n",
    "        # 상태를 업데이트 합니다.\n",
    "        e_h, e_c = h, c\n",
    "    \n",
    "    return decoded_sentence"
   ]
  },
  {
   "cell_type": "markdown",
   "id": "de75b7a0",
   "metadata": {
    "id": "38b00fba"
   },
   "source": [
    "<div style = \"height: 50px;\"></div>"
   ]
  },
  {
   "cell_type": "markdown",
   "id": "1f96052b",
   "metadata": {
    "id": "52aa0735"
   },
   "source": [
    "## 3. 모델 테스트하기\n",
    "<hr/>"
   ]
  },
  {
   "cell_type": "code",
   "execution_count": null,
   "id": "87398453",
   "metadata": {
    "id": "eb0261fd"
   },
   "outputs": [],
   "source": [
    "# 원문의 정수 시퀀스를 텍스트 시퀀스로 변환\n",
    "def seq2text(input_seq):\n",
    "    temp = ''\n",
    "    \n",
    "    for i in input_seq:\n",
    "        if i != 0:\n",
    "            temp = temp + src_index_to_word[i] + ' '\n",
    "    \n",
    "    return temp"
   ]
  },
  {
   "cell_type": "code",
   "execution_count": null,
   "id": "1f2e4484",
   "metadata": {
    "id": "d971cdc2"
   },
   "outputs": [],
   "source": [
    "# 요약문의 정수 시퀀스를 텍스트 시퀀스로 변환\n",
    "def seq2headlines(input_seq):\n",
    "    temp = ''\n",
    "    \n",
    "    for i in input_seq:\n",
    "        if (i != 0 and i != tar_word_to_index['sostoken']) and i != tar_word_to_index['eostoken']:\n",
    "            temp = temp + tar_index_to_word[i] + ' '\n",
    "            \n",
    "    return temp"
   ]
  },
  {
   "cell_type": "code",
   "execution_count": null,
   "id": "8ab56c46",
   "metadata": {
    "colab": {
     "base_uri": "https://localhost:8080/"
    },
    "executionInfo": {
     "elapsed": 24631,
     "status": "ok",
     "timestamp": 1653287095667,
     "user": {
      "displayName": "생크림와플먹고싶다",
      "userId": "13048533309979940862"
     },
     "user_tz": -540
    },
    "id": "3de7a202",
    "outputId": "df5635fc-237d-4d3d-b482-5c171e1a6e45"
   },
   "outputs": [
    {
     "name": "stdout",
     "output_type": "stream",
     "text": [
      "원문 :  commentator harsha bhogle took dig australian media criticising indian pitches virat kohli since start australia tour bhogle listed positives dharamsala test mocked aussie media saying wonder search criticise test australian newspapers also accused indian pitch \n",
      "실제 요약 :  bhogle takes dig at aus media over kohli pitch comments \n",
      "예측 요약 :   kohli calls kohli for aussie team india\n",
      "\n",
      "\n",
      "원문 :  raveena tandon slamming singer papon kissing minor girl tweeted disgusting shameful man arrested lyricist kausar munir wrote forcibly kissing old girl child affection sexual least meanwhile thakur defending papon said man gesture affection \n",
      "실제 요약 :  and shameful raveena on papon kissing minor girl \n",
      "예측 요약 :   tv actress slams school for sexually abuse girl\n",
      "\n",
      "\n",
      "원문 :  united democratic party extend support national people party form non congress government working president paul said comes day congress met governor stake claim form new government bjp ally secured six seats npp secured seats congress secured \n",
      "실제 요약 :  extends support to npp to form non cong meghalaya govt \n",
      "예측 요약 :   lok sabha adjourned in lok sabha amid protests\n",
      "\n",
      "\n",
      "원문 :  madhya pradesh high court observed woman right know details husband salary comes woman seeking higher maintenance amount filed rti plea find estranged husband salary details two judge hc bench said wife cannot denied information considering third party \n",
      "실제 요약 :  wife has right to know husband salary details hc \n",
      "예측 요약 :   woman files complaint against husband husband for marrying husband\n",
      "\n",
      "\n",
      "원문 :  caught world worst case super sexual encounter southeast asia cured infection deemed resistant two conventional antibiotics doctors successfully treated another drug doctors reported two similar cases australia one also caught bug southeast asia \n",
      "실제 요약 :  uk man cured of world worst case of \n",
      "예측 요약 :   years since cancer human abused for years\n",
      "\n",
      "\n",
      "원문 :  twitter users claimed katy perry new song taylor swift users also tweeted response swift song bad blood believed perry reported two singers friendly swift accused perry stealing dancers world tour \n",
      "실제 요약 :  twitter users claim perry new song is about taylor swift \n",
      "예측 요약 :   twitter users react to troll who called her own song\n",
      "\n",
      "\n",
      "원문 :  referring defence minister nirmala sitharaman speech rafale deal lok sabha pm narendra modi saturday said congratulate defence minister nirmala sitharaman showed people india real face country compromise national security politics insult holy parliament added \n",
      "실제 요약 :  congratulate defence minister sitharaman pm modi on rafale row \n",
      "예측 요약 :   pm modi is defence minister sitharaman on rafale deal\n",
      "\n",
      "\n",
      "원문 :  meeting president paul pope francis issued apology sins church members implicated rwanda genocide killed people vatican maintained church institution bore responsibility rwanda accusation catholic complicity \n",
      "실제 요약 :  pope francis apologises for church sins in rwanda genocide \n",
      "예측 요약 :   pope calls for vatican over vatican\n",
      "\n",
      "\n",
      "원문 :  swara bhaskar brings forth world focus needs attention wrote hindustan times film could done much passion wrote ndtv mid day said swara hard come across performance gut real rated nnn \n",
      "실제 요약 :  swara bhaskar of hits the theatres \n",
      "예측 요약 :   do not want to become world bank director\n",
      "\n",
      "\n",
      "원문 :  shanghai court sentenced wu founder chinese insurance company years prison fund raising fraud embezzlement worth billion court also ordered billion assets wu founded detained last year regulators seized control february \n",
      "실제 요약 :  china sentences founder of to yrs for bn fraud \n",
      "예측 요약 :   us man jailed for bankruptcy over bn from taxes\n",
      "\n",
      "\n",
      "원문 :  taking half hour ride rear cockpit india indigenous combat aircraft tejas singapore defence minister hen tuesday said aircraft excellent impressive added pilot flying plane felt like riding car really smooth \n",
      "실제 요약 :  singapore defence minister flies india tejas fighter jet \n",
      "예측 요약 :   indian fighter jets in japan to get down\n",
      "\n",
      "\n",
      "원문 :  unidentified man allegedly mowed bus dragged kilometres got stuck vehicle karnataka thursday police arrested driver said unaware body trapped bus throughout journey body discovered bus taken wash \n",
      "실제 요약 :  bus drags dead man for over km in karnataka \n",
      "예측 요약 :   man killed as bus driver hits fire in maharashtra\n",
      "\n",
      "\n",
      "원문 :  bangladesh awarded five penalty runs india champions trophy semi final thursday keeper ms dhoni throw hit glove ground per laws team awarded five penalty runs ball touches protective gear placed ground dhoni fifth penalty offence international cricket \n",
      "실제 요약 :  why was bangladesh awarded penalty runs against india \n",
      "예측 요약 :   sl captain climbs desh to win th straight match\n",
      "\n",
      "\n",
      "원문 :  smartphone app developer developed app called notification history log allows users access deleted messages whatsapp app dashboard notifications android smartphones preview also shows entire deleted message also receiver sender deleted message \n",
      "실제 요약 :  app lets users access deleted messages on whatsapp \n",
      "예측 요약 :   app lets users find users apps on android apps\n",
      "\n",
      "\n",
      "원문 :  denying reports katrina kaif star opposite akshay kumar film rohit shetty said true still working script akshay reportedly seen playing anti terrorism squad officer film earlier reports suggested actress pooja hegde would feature film female lead character \n",
      "실제 요약 :  not true rohit shetty on katrina starring in sooryavanshi \n",
      "예측 요약 :   akshay to star in film rohit sharma film report\n",
      "\n",
      "\n",
      "원문 :  india women cricket team defeated defending champions australia runs thursday reach world cup final second time history harmanpreet kaur scored highest score indian india face hosts england title clash sunday first reached final lost australia \n",
      "실제 요약 :  india beat defending champions aus to reach women wc final \n",
      "예측 요약 :   india beat australia to win their world cup final\n",
      "\n",
      "\n",
      "원문 :  earth oceans covered purple green sulphur bacteria prevented life forms fish mammals thriving confirmed nasa research study analysed fossilised remains pigments preserved billion year old rocks australia stated purple bacteria appeared close surface required high intensity sunlight \n",
      "실제 요약 :  nasa study once revealed earth had purple oceans \n",
      "예측 요약 :   earth like planets may be like earth study\n",
      "\n",
      "\n",
      "원문 :  gurugram based online marketplace shopclues laid employees across multiple functions startup confirmed adding decision made taking account individual performances shopclues said impacted less total workforce comes shopclues saw executive departures including exit senior director category \n",
      "실제 요약 :  online marketplace shopclues fires employees \n",
      "예측 요약 :   swiggy shuts down as its staff on workforce report\n",
      "\n",
      "\n",
      "원문 :  university grants commission urged universities across india observe armed forces flag day december ugc advisory asked institutions organise talks commemorate supreme sacrifices made armed forces personnel large scale digital campaign reportedly launched december encourage people show solidarity armed forces \n",
      "실제 요약 :  ugc asks universities to observe armed forces flag day \n",
      "예측 요약 :   govt to give students to students for independence day\n",
      "\n",
      "\n",
      "원문 :  flying ants invaded wimbledon courts wednesday causing inconvenience distraction players forced away american sam querrey complained chair umpire said umpire laughed complaint frenchman jo playing court said nose hair \n",
      "실제 요약 :  of flying ants invade the courts at wimbledon \n",
      "예측 요약 :   man fined for taking selfie on middle finger to fight\n",
      "\n",
      "\n",
      "원문 :  year old policeman agra arrested allegedly raping year old married daughter inside police post went meet accused reportedly confessed crime saying daughter provoked rape victim alleged father sexually abused \n",
      "실제 요약 :  cop arrested for raping own daughter inside police post \n",
      "예측 요약 :   man rapes daughter for raping daughter in gurugram\n",
      "\n",
      "\n",
      "원문 :  market bolivia la vendors sell items like dried frogs owl feathers visitors de las market also find witch doctors claim contact supernatural deal spiritual matters interestingly market roughly feet sea level \n",
      "실제 요약 :  frogs sold at bolivia market \n",
      "예측 요약 :   firm offers lakh for selling coins for lakh\n",
      "\n",
      "\n",
      "원문 :  technology major apple accused former chip supplier imagination technologies lying deal ended june imagination put sale value dropped sudden announcement apple longer using graphics technology however apple says began relationship imagination two years ago \n",
      "실제 요약 :  apple accuses chipmaker of lying about how their deal ended \n",
      "예측 요약 :   apple executive quit amid harassment scandal\n",
      "\n",
      "\n",
      "원문 :  international campaign abolish nuclear weapons year nobel peace prize said goal make nuclear weapons unacceptable minds people every country people eventually force nuclear armed governments listen give anti nuclear group added \n",
      "실제 요약 :  goal is to make nukes unacceptable nobel peace prize winner \n",
      "예측 요약 :   korea nuclear war is dangerous us president\n",
      "\n",
      "\n",
      "원문 :  parliamentary panel asked government furnish year wise data expenditure incurred providing salaries allowances ias ips officers within three months panel also expressed strong displeasure ministry personnel inability provide details mechanism assess officers contribution gdp added \n",
      "실제 요약 :  govt asked to give expenditure details on ias ips officers \n",
      "예측 요약 :   panel panel panel panel panel to revoke passport passport\n",
      "\n",
      "\n",
      "원문 :  according reports saif ali khan daughter sara made saif kareena drop kissing clause film contracts sara reportedly said kind films characters bollywood venturing kissing like scene saif screen kiss rangoon kareena kissing scene ki ka \n",
      "실제 요약 :  sara made dad saif kareena break no kissing policy reports \n",
      "예측 요약 :   sara ali khan to debut film on koffee with karan\n",
      "\n",
      "\n",
      "원문 :  australian navy seized heroin worth crore arabian sea officials said nearly eight tons kg heroin seized three ships december operation impact flow narcotics around world use drug money fund extremist organisations officials added \n",
      "실제 요약 :  heroin worth crore seized in arabian sea \n",
      "예측 요약 :   crore cocaine worth crore seized in australia\n",
      "\n",
      "\n",
      "원문 :  archaeologists university sydney museum discovered remains inside ancient coffin thought empty coffin acquired years ago classified empty museum founder research suggests remains belong egyptian died aged years ago \n",
      "실제 요약 :  egyptian coffin presumed empty for yrs found with mummy \n",
      "예측 요약 :   year old found in dinosaur era fossil found in\n",
      "\n",
      "\n",
      "원문 :  vidya balan member reconstituted censor board decided part screenings films produced husband siddharth roy kapur star brothers law aditya move welcomed board members source quoted saying \n",
      "실제 요약 :  balan not to be part of cbfc screening of husband films \n",
      "예측 요약 :   censor board to replace pahlaj on pahlaj reports\n",
      "\n",
      "\n",
      "원문 :  mumbai police said people detained total firs registered incidents related maharashtra bandh wednesday mumbai several incidents road rail route reported bandh br ambedkar grandson called bandh clashes erupted bhima koregaon battle th anniversary \n",
      "실제 요약 :  over detained firs filed in mumbai during maha bandh \n",
      "예측 요약 :   over people arrested in mumbai on mumbai floods\n",
      "\n",
      "\n",
      "원문 :  hillary clinton said interview husband former us president bill clinton affair monica abuse power adding white house intern adult asked bill resigned affair came light hillary said absolutely \n",
      "실제 요약 :  bill affair with monica was not abuse of power hillary \n",
      "예측 요약 :   pope francis calls for clinton on clinton\n",
      "\n",
      "\n",
      "원문 :  development kerala love jihad case lawyer hadiya father said statements cannot taken face value raised concerns mental well comes hadiya recently said conversion hinduism islam forced married shafin jahan muslim man \n",
      "실제 요약 :  cannot take hadiya statement at face value father lawyer \n",
      "예측 요약 :   my family has not my family to be family honeypreet\n",
      "\n",
      "\n",
      "원문 :  us indian space agencies nasa isro jointly develop launch world biggest expensive earth imaging satellite costing billion satellite named nisar nasa isro synthetic radar radars satellite take earth every week helping scientists study changes climate environment \n",
      "실제 요약 :  nasa isro to jointly make most expensive imaging satellite \n",
      "예측 요약 :   nasa launches its first ever satellite mission\n",
      "\n",
      "\n",
      "원문 :  singh released video titled geography class racist people singh responds racist comments sarcastically also takes jibe us president donald trump video trip around world must trolls know india pakistan afghanistan actually three separate countries says lily towards end nnn \n",
      "실제 요약 :  superwoman video class for racist people out \n",
      "예측 요약 :   us media donald trump to teach india over threats\n",
      "\n",
      "\n",
      "원문 :  police arrested year old man raped year old year old girl delhi gave tell anyone incident accused lured girls house promising give sweets girls parents later approached police following man taken custody \n",
      "실제 요약 :  yr old rapes minors pays them to not tell anyone \n",
      "예측 요약 :   man arrested for raping year old girl in delhi\n",
      "\n",
      "\n",
      "원문 :  merger snapdeal flipkart awaiting approval tata sons chairman emeritus ratan tata family offices wipro chairman azim premji according bloomberg report azim premji private equity fund premjiinvest ratan tata investors snapdeal interestingly vc firm kalaari capital common investor snapdeal flipkart \n",
      "실제 요약 :  flipkart snapdeal merger said to require tata premji nod \n",
      "예측 요약 :   flipkart to buy india board board chief reports\n",
      "\n",
      "\n",
      "원문 :  indian carriers require billion financing support projected deliveries aircraft next nearly years report aviation think tank said many planes delivered year next five years added india domestic market grow around financial year report stated \n",
      "실제 요약 :  indian carriers need bn to buy planes over yrs report \n",
      "예측 요약 :   india to buy boeing as world largest boeing\n",
      "\n",
      "\n",
      "원문 :  class student telangana allegedly tied volleyball post beaten police officers clicked picture maths teacher sleeping class boy sent picture district education officer whatsapp teacher suspended later cops thrashed allegedly drinking alcohol school \n",
      "실제 요약 :  cops tie boy beat him for clicking pic of sleeping teacher \n",
      "예측 요약 :   video shows cop taking up police officer in up school\n",
      "\n",
      "\n",
      "원문 :  government unclaimed deposits amounting crore june higher previous year unclaimed deposits stood crore deposits transferred rbi education awareness fund takes bank accounts deposits operated claimed years \n",
      "실제 요약 :  crore left unclaimed in bank as of june \n",
      "예측 요약 :   govt releases cr loan for loan deposits in\n",
      "\n",
      "\n",
      "원문 :  uk high court ordered vijay mallya pay minimum towards costs incurred indian banks legal battle recover dues last month uk court ruling allowed indian banks sell mallya assets recover around crore court also refused overturn worldwide order freezing mallya assets \n",
      "실제 요약 :  mallya to pay cr as legal costs by indian banks \n",
      "예측 요약 :   vijay mallya to pay mallya to recover mallya from uk\n",
      "\n",
      "\n",
      "원문 :  reacting pahlaj becoming presenter erotic thriller julie user tweeted thankfully worry censor board making cuts julie another tweet read sacked censor board discovering intercourse user wrote yeh kya hai julie overpowered \n",
      "실제 요약 :  pahlaj trolled for becoming presenter of erotic film julie \n",
      "예측 요약 :   pahlaj responds to pahlaj asking for padmavati\n",
      "\n",
      "\n",
      "원문 :  pm narendra modi inaugurated new bjp headquarters deen dayal upadhyaya marg sunday bjp became first national party move office outside lutyens bungalow zone spread acres office rooms foundation laid august supreme court directive party offices relocated \n",
      "실제 요약 :  pm modi inaugurates new bjp hq outside lutyens bungalow zone \n",
      "예측 요약 :   cong to launch first party for years\n",
      "\n",
      "\n",
      "원문 :  ka first song ranbir kapoor katrina kaif starrer film jagga jasoos released song composed pritam vocals arijit singh gandhi lyrics amitabh bhattacharya directed anurag basu film release july \n",
      "실제 요약 :  ka st song from ranbir kat jagga jasoos out \n",
      "예측 요약 :   katrina kaif starrer song hits theatres\n",
      "\n",
      "\n",
      "원문 :  commentating winter olympics pyeongchang former freestyle skier five time olympian cooper said chinese look hard tell cooper made comments following jump chinese aerial skier yan qualifying run event former freestyle skier later wrote clarification tweet \n",
      "실제 요약 :  all look same time olympian commentator on chinese skiers \n",
      "예측 요약 :   world champion defends vijender to compete in olympics\n",
      "\n",
      "\n",
      "원문 :  snapchat ceo evan spiegel monday said afraid facebook trying copy photo sharing app features adding win long run talking social media platform recent data scandal involving million users spiegel also said snapchat better positioned navigate situation \n",
      "실제 요약 :  not afraid of facebook copying snapchat features ceo \n",
      "예측 요약 :   snapchat ceo admits to user after users snapchat snapchat\n",
      "\n",
      "\n",
      "원문 :  mahendra singh dhoni wicketkeeper captained india year test cricket history dhoni made test debut december also successful indian test captain victories matches india became number one test team first time history dhoni captaincy \n",
      "실제 요약 :  dhoni only keeper to lead india in its year test history \n",
      "예측 요약 :   dhoni becomes st indian cricketer to play odis in odis\n",
      "\n",
      "\n",
      "원문 :  bengaluru based social education startup trust friday launched offline mobile app provide teaching tools resources government school teachers app multimedia lessons aligned state curriculum various subjects aims empower around teachers creating interactive classroom learning experience \n",
      "실제 요약 :  bengaluru startup launches free education app for teachers \n",
      "예측 요약 :   bengaluru launches smart smart campaign to help bengaluru police\n",
      "\n",
      "\n",
      "원문 :  indian captain virat kohli rested limited series sri lanka returned indian squad six match odi series south africa pacers shardul thakur mohammed shami rounder kedar jadhav also included member squad ravichandran ashwin ravindra jadeja named fifth straight odi series \n",
      "실제 요약 :  kohli returns to india squad for match odi series vs sa \n",
      "예측 요약 :   kohli rested for odis after odis post series vs england\n",
      "\n",
      "\n",
      "원문 :  study conducted university edinburgh found depression result permanent structural changes brain found parts brain known white matter contains fibre enable brain cells communicate one another electrical signals study participants \n",
      "실제 요약 :  study finds depression causes changes in brain structure \n",
      "예측 요약 :   study finds why human brain brain is like\n",
      "\n",
      "\n",
      "원문 :  festival steel held kawasaki japan sunday huge steel paraded portable shrines streets part festival festival started aims raise awareness safe sex raise funds hiv research \n",
      "실제 요약 :  in photos festival of the steel held in japan \n",
      "예측 요약 :   new york was the first to have been arrested\n",
      "\n",
      "\n"
     ]
    }
   ],
   "source": [
    "for i in range(50, 100):\n",
    "    print('원문 : ', seq2text(encoder_input_test[i]))\n",
    "    print('실제 요약 : ', seq2headlines(decoder_input_test[i]))\n",
    "    print('예측 요약 : ', decode_sequence(encoder_input_test[i].reshape(1, text_max_len)))\n",
    "    print('\\n')"
   ]
  },
  {
   "cell_type": "markdown",
   "id": "35f7cbd1",
   "metadata": {
    "id": "201b85fb"
   },
   "source": [
    "<p style= \"font-size:15px; line-height:24px;\">텍스트를 출력하여 해석해 본 결과, 대표적으로 하나를 뽑아 번역을 해본 결과, <br/><br/>\n",
    "<span style = \"font-weight:bold;color:#0172d4;\">실제 요약:</span> 아내는 남편의 급여 세부 사항을 알 권리가 있다. hc<br/>\n",
    "    <span style = \"font-weight:bold;color:#0172d4;\">예측 요약:</span> 여자가 남편과의 결혼에 대해 남편을 고소하다<br/><br/>\n",
    "로 나왔다. 요약이 전체적으로 잘 이루어지지 않은 것 같다.\n",
    "</p>"
   ]
  },
  {
   "cell_type": "markdown",
   "id": "18d48a9a",
   "metadata": {
    "id": "f2e99ca2"
   },
   "source": [
    "<div style = \"height: 50px;\"></div>"
   ]
  },
  {
   "cell_type": "markdown",
   "id": "96ec4dfb",
   "metadata": {
    "id": "97d3d7d9"
   },
   "source": [
    "# <span style = \"font-weight:bold;color:#0172d4;\">STEP 5</span> : 파라미터 조정하여 loss값 줄여보기"
   ]
  },
  {
   "cell_type": "markdown",
   "id": "8b053d6c",
   "metadata": {},
   "source": [
    "<p style= \"font-size:15px; line-height:24px;\">여러 파일에서 실행시킨 후 합치는 작업을 진행했으나, 계속해서 이유도 모르게 주피터 노트북이 다운이되는 현상이 발생했습니다.<br/>\n",
    "너무 한꺼번에 많은 양을 붙여넣기해서 오류가 나는 것으로 판단하여, 아쉽지만 필요한 부분만 잘라 셀에 붙여넣었습니다.<br/>\n",
    "생략 된 부분은 위의 과정과 동일하므로 보실 때 유의하시길 바랍니다.</p>"
   ]
  },
  {
   "cell_type": "code",
   "execution_count": null,
   "id": "23685d7b",
   "metadata": {
    "colab": {
     "base_uri": "https://localhost:8080/",
     "height": 711
    },
    "executionInfo": {
     "elapsed": 613,
     "status": "ok",
     "timestamp": 1653285973709,
     "user": {
      "displayName": "생크림와플먹고싶다",
      "userId": "13048533309979940862"
     },
     "user_tz": -540
    },
    "id": "03c67115",
    "outputId": "c984114d-a850-4f5a-afe8-06a2cdf3cd47"
   },
   "outputs": [
    {
     "data": {
      "image/png": "[encoded data removed]",
      "text/plain": [
       "<Figure size 576x720 with 2 Axes>"
      ]
     },
     "metadata": {
      "needs_background": "light"
     },
     "output_type": "display_data"
    }
   ],
   "source": [
    "plt.figure(figsize = (8, 10))\n",
    "\n",
    "plt.subplot(2, 1, 1)\n",
    "plt.title('text')\n",
    "plt.hist(text_len, bins = 40)\n",
    "plt.xlabel('length of samples')\n",
    "plt.ylabel('number of samples')\n",
    "plt.tight_layout(pad = 2)\n",
    "\n",
    "plt.subplot(2, 1, 2)\n",
    "plt.title('headlines')\n",
    "plt.hist(headlines_len, bins = 40)\n",
    "plt.xlabel('length of samples')\n",
    "plt.ylabel('number of samples')\n",
    "plt.tight_layout(pad = 2)\n",
    "plt.show()"
   ]
  },
  {
   "cell_type": "markdown",
   "id": "160a63c5",
   "metadata": {},
   "source": [
    "#### 샘플의 길이 조정하기"
   ]
  },
  {
   "cell_type": "code",
   "execution_count": null,
   "id": "63e9e504",
   "metadata": {
    "id": "3e636d81"
   },
   "outputs": [],
   "source": [
    "# 원래 설정한 샘플의 길이 값\n",
    "text_max_len = 41\n",
    "headlines_max_len = 11"
   ]
  },
  {
   "cell_type": "code",
   "execution_count": 34,
   "id": "dda1ca28",
   "metadata": {
    "colab": {
     "base_uri": "https://localhost:8080/"
    },
    "executionInfo": {
     "elapsed": 697,
     "status": "ok",
     "timestamp": 1653357993287,
     "user": {
      "displayName": "생크림와플먹고싶다",
      "userId": "13048533309979940862"
     },
     "user_tz": -540
    },
    "id": "297de2b2",
    "outputId": "3d57b2af-2e8e-4e4f-84aa-3f95d1539b73"
   },
   "outputs": [
    {
     "name": "stdout",
     "output_type": "stream",
     "text": [
      "전체 샘플수 : 82210\n"
     ]
    }
   ],
   "source": [
    "data = data[data['text'].apply(lambda x: 30 <= len(x.split()) <= text_max_len)]\n",
    "data = data[data['headlines'].apply(lambda x: 6 <= len(x.split()) <= headlines_max_len)]\n",
    "print('전체 샘플수 :', (len(data)))"
   ]
  },
  {
   "cell_type": "markdown",
   "id": "0bd44bfd",
   "metadata": {},
   "source": [
    "이번에는 양방향으로 데이터를 제거하였습니다."
   ]
  },
  {
   "cell_type": "markdown",
   "id": "99d4ad7b",
   "metadata": {},
   "source": [
    "#### 훈련/테스트 데이터 분리"
   ]
  },
  {
   "cell_type": "code",
   "execution_count": 41,
   "id": "e2bc615f",
   "metadata": {
    "colab": {
     "base_uri": "https://localhost:8080/"
    },
    "executionInfo": {
     "elapsed": 4,
     "status": "ok",
     "timestamp": 1653358004043,
     "user": {
      "displayName": "생크림와플먹고싶다",
      "userId": "13048533309979940862"
     },
     "user_tz": -540
    },
    "id": "fc8a28df",
    "outputId": "0a43e67a-6cfc-450f-a90a-e963940cb84e"
   },
   "outputs": [
    {
     "name": "stdout",
     "output_type": "stream",
     "text": [
      "테스트 데이터의 수 :  16442\n"
     ]
    }
   ],
   "source": [
    "n_of_val = int(len(encoder_input) * 0.2)\n",
    "print('테스트 데이터의 수 : ', n_of_val)"
   ]
  },
  {
   "cell_type": "code",
   "execution_count": 42,
   "id": "b5ce4f46",
   "metadata": {
    "executionInfo": {
     "elapsed": 3,
     "status": "ok",
     "timestamp": 1653358004044,
     "user": {
      "displayName": "생크림와플먹고싶다",
      "userId": "13048533309979940862"
     },
     "user_tz": -540
    },
    "id": "be7afbb9"
   },
   "outputs": [],
   "source": [
    "# 테스트 데이터의 개수를 이용해 전체 데이터를 양분\n",
    "encoder_input_train = encoder_input[: -n_of_val]\n",
    "decoder_input_train = decoder_input[: -n_of_val]\n",
    "decoder_target_train = decoder_target[: -n_of_val]\n",
    "\n",
    "encoder_input_test = encoder_input[-n_of_val :]\n",
    "decoder_input_test = decoder_input[-n_of_val :]\n",
    "decoder_target_test = decoder_target[-n_of_val :]"
   ]
  },
  {
   "cell_type": "code",
   "execution_count": 44,
   "id": "6cd7ebc2",
   "metadata": {
    "colab": {
     "base_uri": "https://localhost:8080/"
    },
    "executionInfo": {
     "elapsed": 6,
     "status": "ok",
     "timestamp": 1653358004540,
     "user": {
      "displayName": "생크림와플먹고싶다",
      "userId": "13048533309979940862"
     },
     "user_tz": -540
    },
    "id": "576b7215",
    "outputId": "fececa79-6c43-4166-b83f-ef609bc916fd"
   },
   "outputs": [
    {
     "name": "stdout",
     "output_type": "stream",
     "text": [
      "훈련 데이터의 개수 : 65768\n",
      "훈련 레이블의 개수 : 65768\n",
      "테스트 데이터의 개수 : 16442\n",
      "테스트 레이블의 개수 : 16442\n"
     ]
    }
   ],
   "source": [
    "print('훈련 데이터의 개수 :', len(encoder_input_train))\n",
    "print('훈련 레이블의 개수 :', len(decoder_input_train))\n",
    "print('테스트 데이터의 개수 :', len(encoder_input_test))\n",
    "print('테스트 레이블의 개수 :', len(decoder_input_test))"
   ]
  },
  {
   "cell_type": "markdown",
   "id": "03510f44",
   "metadata": {},
   "source": [
    "#### vocab 설정하기"
   ]
  },
  {
   "cell_type": "code",
   "execution_count": 48,
   "id": "b9906985",
   "metadata": {
    "colab": {
     "base_uri": "https://localhost:8080/"
    },
    "executionInfo": {
     "elapsed": 10,
     "status": "ok",
     "timestamp": 1653358007824,
     "user": {
      "displayName": "생크림와플먹고싶다",
      "userId": "13048533309979940862"
     },
     "user_tz": -540
    },
    "id": "bc7525f3",
    "outputId": "0599619c-cdb2-436b-d87f-46f879efe556"
   },
   "outputs": [
    {
     "name": "stdout",
     "output_type": "stream",
     "text": [
      "단어 집합(vocabulary)의 크기 : 64679\n",
      "등장 빈도가 6번 이하인 희귀 단어의 수: 44176\n",
      "단어 집합에서 희귀 단어를 제외시킬 경우의 단어 집합의 크기 20503\n",
      "단어 집합에서 희귀 단어의 비율: 68.30037570154145\n",
      "전체 등장 빈도에서 희귀 단어 등장 빈도 비율: 3.8718442937125674\n"
     ]
    }
   ],
   "source": [
    "print('단어 집합(vocabulary)의 크기 :', total_cnt)\n",
    "print('등장 빈도가 %s번 이하인 희귀 단어의 수: %s'%(threshold - 1, rare_cnt))\n",
    "print('단어 집합에서 희귀 단어를 제외시킬 경우의 단어 집합의 크기 %s'%(total_cnt - rare_cnt))\n",
    "print(\"단어 집합에서 희귀 단어의 비율:\", (rare_cnt / total_cnt)*100)\n",
    "print(\"전체 등장 빈도에서 희귀 단어 등장 빈도 비율:\", (rare_freq / total_freq)*100)"
   ]
  },
  {
   "cell_type": "code",
   "execution_count": 49,
   "id": "e7d023a0",
   "metadata": {
    "executionInfo": {
     "elapsed": 2529,
     "status": "ok",
     "timestamp": 1653358010347,
     "user": {
      "displayName": "생크림와플먹고싶다",
      "userId": "13048533309979940862"
     },
     "user_tz": -540
    },
    "id": "c5eb03b8"
   },
   "outputs": [],
   "source": [
    "src_vocab = 20500\n",
    "src_tokenizer = Tokenizer(num_words = src_vocab)\n",
    "src_tokenizer.fit_on_texts(encoder_input_train)"
   ]
  },
  {
   "cell_type": "code",
   "execution_count": 55,
   "id": "ffd09e39",
   "metadata": {
    "executionInfo": {
     "elapsed": 1984,
     "status": "ok",
     "timestamp": 1653358015270,
     "user": {
      "displayName": "생크림와플먹고싶다",
      "userId": "13048533309979940862"
     },
     "user_tz": -540
    },
    "id": "9c03ec55"
   },
   "outputs": [],
   "source": [
    "tar_vocab = 20500\n",
    "tar_tokenizer = Tokenizer(num_words = tar_vocab) \n",
    "tar_tokenizer.fit_on_texts(decoder_input_train)\n",
    "tar_tokenizer.fit_on_texts(decoder_target_train)"
   ]
  },
  {
   "cell_type": "markdown",
   "id": "1b83d2cc",
   "metadata": {},
   "source": [
    "#### 인코더 설계하기"
   ]
  },
  {
   "cell_type": "code",
   "execution_count": 257,
   "id": "f008991e",
   "metadata": {
    "executionInfo": {
     "elapsed": 317,
     "status": "ok",
     "timestamp": 1653363816171,
     "user": {
      "displayName": "생크림와플먹고싶다",
      "userId": "13048533309979940862"
     },
     "user_tz": -540
    },
    "id": "fbaccc80"
   },
   "outputs": [],
   "source": [
    "embedding_dim = 184\n",
    "hidden_size = 324"
   ]
  },
  {
   "cell_type": "code",
   "execution_count": 258,
   "id": "e83d1a2d",
   "metadata": {
    "executionInfo": {
     "elapsed": 4,
     "status": "ok",
     "timestamp": 1653363816568,
     "user": {
      "displayName": "생크림와플먹고싶다",
      "userId": "13048533309979940862"
     },
     "user_tz": -540
    },
    "id": "bf8236cb"
   },
   "outputs": [],
   "source": [
    "encoder_inputs = Input(shape = (text_max_len,))"
   ]
  },
  {
   "cell_type": "code",
   "execution_count": 259,
   "id": "902666f9",
   "metadata": {
    "executionInfo": {
     "elapsed": 3,
     "status": "ok",
     "timestamp": 1653363816568,
     "user": {
      "displayName": "생크림와플먹고싶다",
      "userId": "13048533309979940862"
     },
     "user_tz": -540
    },
    "id": "e21daa4d"
   },
   "outputs": [],
   "source": [
    "# 인코더의 임베딩 층\n",
    "enc_emb = Embedding(src_vocab, embedding_dim)(encoder_inputs)"
   ]
  },
  {
   "cell_type": "code",
   "execution_count": 260,
   "id": "ea77f8cb",
   "metadata": {
    "executionInfo": {
     "elapsed": 607,
     "status": "ok",
     "timestamp": 1653363817607,
     "user": {
      "displayName": "생크림와플먹고싶다",
      "userId": "13048533309979940862"
     },
     "user_tz": -540
    },
    "id": "51fa47a1"
   },
   "outputs": [],
   "source": [
    "# 인코더의 LSTM 1\n",
    "encoder_lstm1 = LSTM(hidden_size, return_sequences = True, return_state = True ,dropout = 0.4)\n",
    "encoder_output1, state_h1, state_c1 = encoder_lstm1(enc_emb)"
   ]
  },
  {
   "cell_type": "code",
   "execution_count": 261,
   "id": "347200a2",
   "metadata": {
    "executionInfo": {
     "elapsed": 313,
     "status": "ok",
     "timestamp": 1653363817918,
     "user": {
      "displayName": "생크림와플먹고싶다",
      "userId": "13048533309979940862"
     },
     "user_tz": -540
    },
    "id": "893293ee"
   },
   "outputs": [],
   "source": [
    "# 인코더의 LSTM 2\n",
    "encoder_lstm2 = LSTM(hidden_size, return_sequences = True, return_state = True, dropout = 0.4)\n",
    "encoder_output2, state_h2, state_c2 = encoder_lstm2(encoder_output1)"
   ]
  },
  {
   "cell_type": "code",
   "execution_count": 264,
   "id": "f2ca2e50",
   "metadata": {
    "executionInfo": {
     "elapsed": 588,
     "status": "ok",
     "timestamp": 1653363833794,
     "user": {
      "displayName": "생크림와플먹고싶다",
      "userId": "13048533309979940862"
     },
     "user_tz": -540
    },
    "id": "7a4836f7"
   },
   "outputs": [],
   "source": [
    "# 인코더의 LSTM 3\n",
    "encoder_lstm3 = LSTM(hidden_size, return_state = True, return_sequences = True, dropout = 0.4)\n",
    "encoder_output3, state_h, state_c= encoder_lstm3(encoder_output2)"
   ]
  },
  {
   "cell_type": "code",
   "execution_count": 265,
   "id": "1dc49316",
   "metadata": {
    "executionInfo": {
     "elapsed": 309,
     "status": "ok",
     "timestamp": 1653363834102,
     "user": {
      "displayName": "생크림와플먹고싶다",
      "userId": "13048533309979940862"
     },
     "user_tz": -540
    },
    "id": "yyTe8kP6KCch"
   },
   "outputs": [],
   "source": [
    "# 인코더의 LSTM 4\n",
    "encoder_lstm4 = LSTM(hidden_size, return_state = True, return_sequences = True, dropout = 0.4)\n",
    "encoder_outputs, state_h, state_c= encoder_lstm4(encoder_output3)"
   ]
  },
  {
   "cell_type": "markdown",
   "id": "0ba95f19",
   "metadata": {},
   "source": [
    "<p style= \"font-size:15px; line-height:24px;\">기존과는 달리 LSTM을 한층 더 쌓았다.<br/>\n",
    "한층을 더 쌓으면 조금이나마 나은 효과가 나오지 않을까 생각한다.</p>"
   ]
  },
  {
   "cell_type": "markdown",
   "id": "f944ff68",
   "metadata": {},
   "source": [
    "#### 최종적인 어텐션 모델의 summary()"
   ]
  },
  {
   "cell_type": "code",
   "execution_count": 96,
   "id": "31cb3f66",
   "metadata": {
    "colab": {
     "base_uri": "https://localhost:8080/"
    },
    "executionInfo": {
     "elapsed": 17,
     "status": "ok",
     "timestamp": 1653395303074,
     "user": {
      "displayName": "생크림와플먹고싶다",
      "userId": "13048533309979940862"
     },
     "user_tz": -540
    },
    "id": "866835b6",
    "outputId": "c4fec7c9-350b-4e43-d6c9-27d1ff9181fa"
   },
   "outputs": [
    {
     "name": "stdout",
     "output_type": "stream",
     "text": [
      "Model: \"model_1\"\n",
      "__________________________________________________________________________________________________\n",
      " Layer (type)                   Output Shape         Param #     Connected to                     \n",
      "==================================================================================================\n",
      " input_1 (InputLayer)           [(None, 41)]         0           []                               \n",
      "                                                                                                  \n",
      " embedding (Embedding)          (None, 41, 184)      3772000     ['input_1[0][0]']                \n",
      "                                                                                                  \n",
      " lstm (LSTM)                    [(None, 41, 326),    666344      ['embedding[0][0]']              \n",
      "                                 (None, 326),                                                     \n",
      "                                 (None, 326)]                                                     \n",
      "                                                                                                  \n",
      " lstm_1 (LSTM)                  [(None, 41, 326),    851512      ['lstm[0][0]']                   \n",
      "                                 (None, 326),                                                     \n",
      "                                 (None, 326)]                                                     \n",
      "                                                                                                  \n",
      " input_2 (InputLayer)           [(None, None)]       0           []                               \n",
      "                                                                                                  \n",
      " lstm_2 (LSTM)                  [(None, 41, 326),    851512      ['lstm_1[0][0]']                 \n",
      "                                 (None, 326),                                                     \n",
      "                                 (None, 326)]                                                     \n",
      "                                                                                                  \n",
      " embedding_1 (Embedding)        (None, None, 184)    3772000     ['input_2[0][0]']                \n",
      "                                                                                                  \n",
      " lstm_3 (LSTM)                  [(None, 41, 326),    851512      ['lstm_2[0][0]']                 \n",
      "                                 (None, 326),                                                     \n",
      "                                 (None, 326)]                                                     \n",
      "                                                                                                  \n",
      " lstm_4 (LSTM)                  [(None, None, 326),  666344      ['embedding_1[0][0]',            \n",
      "                                 (None, 326),                     'lstm_3[0][1]',                 \n",
      "                                 (None, 326)]                     'lstm_3[0][2]']                 \n",
      "                                                                                                  \n",
      " attention_layer (AdditiveAtten  (None, None, 326)   326         ['lstm_4[0][0]',                 \n",
      " tion)                                                            'lstm_3[0][0]']                 \n",
      "                                                                                                  \n",
      " concat_layer (Concatenate)     (None, None, 652)    0           ['lstm_4[0][0]',                 \n",
      "                                                                  'attention_layer[0][0]']        \n",
      "                                                                                                  \n",
      " dense_1 (Dense)                (None, None, 20500)  13386500    ['concat_layer[0][0]']           \n",
      "                                                                                                  \n",
      "==================================================================================================\n",
      "Total params: 24,818,050\n",
      "Trainable params: 24,818,050\n",
      "Non-trainable params: 0\n",
      "__________________________________________________________________________________________________\n"
     ]
    }
   ],
   "source": [
    "model.summary()"
   ]
  },
  {
   "cell_type": "markdown",
   "id": "f61b4997",
   "metadata": {},
   "source": [
    "#### 모델 훈련하기"
   ]
  },
  {
   "cell_type": "code",
   "execution_count": 280,
   "id": "37493e6d",
   "metadata": {
    "executionInfo": {
     "elapsed": 15,
     "status": "ok",
     "timestamp": 1653363838292,
     "user": {
      "displayName": "생크림와플먹고싶다",
      "userId": "13048533309979940862"
     },
     "user_tz": -540
    },
    "id": "fbc1ee09"
   },
   "outputs": [],
   "source": [
    "es = EarlyStopping(monitor = 'val_loss', patience = 5, verbose = 1)"
   ]
  },
  {
   "cell_type": "markdown",
   "id": "64db7123",
   "metadata": {},
   "source": [
    "<p style= \"font-size:15px; line-height:24px;\">patience를 5로 주어, 중간에 끊지 않고 에포크 60까지 쭉 돌려보고자 한다.</p>"
   ]
  },
  {
   "cell_type": "code",
   "execution_count": 101,
   "id": "05f3dd92",
   "metadata": {
    "colab": {
     "base_uri": "https://localhost:8080/"
    },
    "executionInfo": {
     "elapsed": 937060,
     "status": "ok",
     "timestamp": 1653396240543,
     "user": {
      "displayName": "생크림와플먹고싶다",
      "userId": "13048533309979940862"
     },
     "user_tz": -540
    },
    "id": "adc0967d",
    "outputId": "af9287a5-b7c8-43b9-cb6e-4fce730371cc",
    "scrolled": true
   },
   "outputs": [
    {
     "name": "stdout",
     "output_type": "stream",
     "text": [
      "Epoch 1/60\n",
      "65/65 [==============================] - 44s 450ms/step - loss: 6.9088 - val_loss: 6.3987\n",
      "Epoch 2/60\n",
      "65/65 [==============================] - 27s 417ms/step - loss: 6.3784 - val_loss: 6.1304\n",
      "Epoch 3/60\n",
      "65/65 [==============================] - 27s 417ms/step - loss: 6.1190 - val_loss: 5.9524\n",
      "Epoch 4/60\n",
      "65/65 [==============================] - 27s 417ms/step - loss: 5.9381 - val_loss: 5.8241\n",
      "Epoch 5/60\n",
      "65/65 [==============================] - 27s 417ms/step - loss: 5.7716 - val_loss: 5.6752\n",
      "Epoch 6/60\n",
      "65/65 [==============================] - 27s 417ms/step - loss: 5.6051 - val_loss: 5.5832\n",
      "Epoch 7/60\n",
      "65/65 [==============================] - 27s 417ms/step - loss: 5.4227 - val_loss: 5.3890\n",
      "Epoch 8/60\n",
      "65/65 [==============================] - 27s 417ms/step - loss: 5.2256 - val_loss: 5.2549\n",
      "Epoch 9/60\n",
      "65/65 [==============================] - 27s 417ms/step - loss: 5.0419 - val_loss: 5.1213\n",
      "Epoch 10/60\n",
      "65/65 [==============================] - 27s 417ms/step - loss: 4.8713 - val_loss: 5.0438\n",
      "Epoch 11/60\n",
      "65/65 [==============================] - 27s 417ms/step - loss: 4.7183 - val_loss: 4.9288\n",
      "Epoch 12/60\n",
      "65/65 [==============================] - 27s 417ms/step - loss: 4.5767 - val_loss: 4.8644\n",
      "Epoch 13/60\n",
      "65/65 [==============================] - 27s 417ms/step - loss: 4.4425 - val_loss: 4.8019\n",
      "Epoch 14/60\n",
      "65/65 [==============================] - 27s 417ms/step - loss: 4.3191 - val_loss: 4.7442\n",
      "Epoch 15/60\n",
      "65/65 [==============================] - 27s 417ms/step - loss: 4.1986 - val_loss: 4.7099\n",
      "Epoch 16/60\n",
      "65/65 [==============================] - 27s 417ms/step - loss: 4.0869 - val_loss: 4.6622\n",
      "Epoch 17/60\n",
      "65/65 [==============================] - 27s 417ms/step - loss: 3.9782 - val_loss: 4.6392\n",
      "Epoch 18/60\n",
      "65/65 [==============================] - 27s 417ms/step - loss: 3.8755 - val_loss: 4.5965\n",
      "Epoch 19/60\n",
      "65/65 [==============================] - 27s 417ms/step - loss: 3.7768 - val_loss: 4.5735\n",
      "Epoch 20/60\n",
      "65/65 [==============================] - 27s 416ms/step - loss: 3.6845 - val_loss: 4.5527\n",
      "Epoch 21/60\n",
      "65/65 [==============================] - 27s 417ms/step - loss: 3.5909 - val_loss: 4.5354\n",
      "Epoch 22/60\n",
      "65/65 [==============================] - 27s 417ms/step - loss: 3.5040 - val_loss: 4.5195\n",
      "Epoch 23/60\n",
      "65/65 [==============================] - 27s 417ms/step - loss: 3.4199 - val_loss: 4.5078\n",
      "Epoch 24/60\n",
      "65/65 [==============================] - 27s 417ms/step - loss: 3.3384 - val_loss: 4.5087\n",
      "Epoch 25/60\n",
      "65/65 [==============================] - 27s 417ms/step - loss: 3.2604 - val_loss: 4.4989\n",
      "Epoch 26/60\n",
      "65/65 [==============================] - 27s 417ms/step - loss: 3.1846 - val_loss: 4.4937\n",
      "Epoch 27/60\n",
      "65/65 [==============================] - 27s 417ms/step - loss: 3.1112 - val_loss: 4.4922\n",
      "Epoch 28/60\n",
      "65/65 [==============================] - 27s 417ms/step - loss: 3.0416 - val_loss: 4.4894\n",
      "Epoch 29/60\n",
      "65/65 [==============================] - 27s 417ms/step - loss: 2.9735 - val_loss: 4.4832\n",
      "Epoch 30/60\n",
      "65/65 [==============================] - 27s 417ms/step - loss: 2.9098 - val_loss: 4.4870\n",
      "Epoch 31/60\n",
      "65/65 [==============================] - 27s 417ms/step - loss: 2.8448 - val_loss: 4.4992\n",
      "Epoch 32/60\n",
      "65/65 [==============================] - 27s 417ms/step - loss: 2.7839 - val_loss: 4.4945\n",
      "Epoch 33/60\n",
      "65/65 [==============================] - 27s 417ms/step - loss: 2.7236 - val_loss: 4.5002\n",
      "Epoch 34/60\n",
      "65/65 [==============================] - 27s 417ms/step - loss: 2.6664 - val_loss: 4.5077\n",
      "Epoch 34: early stopping\n"
     ]
    }
   ],
   "source": [
    "history = model.fit(x = [encoder_input_train, decoder_input_train], y = decoder_target_train,\n",
    "                    validation_data = ([encoder_input_test, decoder_input_test], decoder_target_test),\n",
    "                    batch_size = 1024, callbacks = [es, check_point], epochs = 60)"
   ]
  },
  {
   "cell_type": "markdown",
   "id": "a493ca5e",
   "metadata": {},
   "source": [
    "<p style= \"font-size:15px; line-height:24px;\">또한, 배치 사이즈도 1024로 늘려 성능향상을 기대하였으나, loss값은 2.9로 떨어진 것에 비해,<br/> val_loss값은 오히려 더 올라간 것을 확인할 수 있었다.<br/><br/>\n",
    "조정 전 : loss: 3.1589, val_loss: 4.3993<br/>\n",
    "조정 후:  loss: 2.6664  val_loss: 4.5077</p>"
   ]
  },
  {
   "cell_type": "markdown",
   "id": "9090e805",
   "metadata": {
    "id": "8d00d07e"
   },
   "source": [
    "<div style = \"height: 25px;\"></div>"
   ]
  },
  {
   "cell_type": "markdown",
   "id": "ffdda6b8",
   "metadata": {
    "id": "7ada27c9"
   },
   "source": [
    "### 훈련 데이터, 검증 데이터의 러닝 커브 시각화하기"
   ]
  },
  {
   "cell_type": "code",
   "execution_count": 102,
   "id": "b5ba51e2",
   "metadata": {
    "colab": {
     "base_uri": "https://localhost:8080/",
     "height": 265
    },
    "executionInfo": {
     "elapsed": 19,
     "status": "ok",
     "timestamp": 1653396240544,
     "user": {
      "displayName": "생크림와플먹고싶다",
      "userId": "13048533309979940862"
     },
     "user_tz": -540
    },
    "id": "cdd72f30",
    "outputId": "cf371a0c-a858-4b39-8c5e-042c89b44618"
   },
   "outputs": [
    {
     "data": {
      "image/png": "[encoded data removed]",
      "text/plain": [
       "<Figure size 432x288 with 1 Axes>"
      ]
     },
     "metadata": {
      "needs_background": "light"
     },
     "output_type": "display_data"
    }
   ],
   "source": [
    "plt.plot(history.history['loss'], label='train')\n",
    "plt.plot(history.history['val_loss'], label='test')\n",
    "plt.legend()\n",
    "plt.show()"
   ]
  },
  {
   "cell_type": "markdown",
   "id": "35f47402",
   "metadata": {},
   "source": [
    "<div style = \"height: 50px;\"></div>"
   ]
  },
  {
   "cell_type": "markdown",
   "id": "7e4b7066",
   "metadata": {
    "id": "eccbc88f"
   },
   "source": [
    "# <span style = \"font-weight:bold;color:#0172d4;\">STEP 6</span> : Summa을 이용해서 추출적 요약해보기"
   ]
  },
  {
   "cell_type": "markdown",
   "id": "4883ed38",
   "metadata": {
    "id": "98b4c1c4"
   },
   "source": [
    "## 1. 텍스트 전처리를 적용한 텍스트로 요약해보기\n",
    "<hr/>"
   ]
  },
  {
   "cell_type": "code",
   "execution_count": null,
   "id": "08939675",
   "metadata": {
    "id": "c835b895"
   },
   "outputs": [],
   "source": [
    "summa_text = clean_text.copy()"
   ]
  },
  {
   "cell_type": "code",
   "execution_count": null,
   "id": "bfc148ae",
   "metadata": {
    "id": "KDjbksj-8ubZ"
   },
   "outputs": [],
   "source": [
    "summa_text = pd.DataFrame(summa_text)"
   ]
  },
  {
   "cell_type": "markdown",
   "id": "608243ab",
   "metadata": {
    "id": "3762d78a"
   },
   "source": [
    "<p style= \"font-size:15px; line-height:24px;\">파일을 열 때마다 전처리를 하기에는 너무 오래 걸리므로, 카피하여 txt로 저장한다.</p>"
   ]
  },
  {
   "cell_type": "code",
   "execution_count": null,
   "id": "b5a62efe",
   "metadata": {
    "id": "Yim8_-urYoRN"
   },
   "outputs": [],
   "source": [
    "txt_path = 'data/summa_text.txt'"
   ]
  },
  {
   "cell_type": "code",
   "execution_count": null,
   "id": "c6cb4278",
   "metadata": {
    "id": "eUzxXo0sY5RB"
   },
   "outputs": [],
   "source": [
    "summa_text = pd.read_table(txt_path)"
   ]
  },
  {
   "cell_type": "code",
   "execution_count": null,
   "id": "832612b5",
   "metadata": {
    "id": "BAD7hdP7cC_o"
   },
   "outputs": [],
   "source": [
    "summa_text = summa_text.values.tolist()"
   ]
  },
  {
   "cell_type": "code",
   "execution_count": null,
   "id": "d6ba69fb",
   "metadata": {
    "colab": {
     "base_uri": "https://localhost:8080/"
    },
    "executionInfo": {
     "elapsed": 3,
     "status": "ok",
     "timestamp": 1653318240808,
     "user": {
      "displayName": "생크림와플먹고싶다",
      "userId": "13048533309979940862"
     },
     "user_tz": -540
    },
    "id": "xrrpMLEQX0pp",
    "outputId": "d4e2ab19-5e08-4fc5-85e8-5e9719727f32"
   },
   "outputs": [
    {
     "data": {
      "text/plain": [
       "list"
      ]
     },
     "execution_count": 17,
     "metadata": {},
     "output_type": "execute_result"
    }
   ],
   "source": [
    "type(summa_text)"
   ]
  },
  {
   "cell_type": "code",
   "execution_count": null,
   "id": "d5a71bb0",
   "metadata": {
    "colab": {
     "base_uri": "https://localhost:8080/",
     "height": 69
    },
    "executionInfo": {
     "elapsed": 9,
     "status": "ok",
     "timestamp": 1653319444799,
     "user": {
      "displayName": "생크림와플먹고싶다",
      "userId": "13048533309979940862"
     },
     "user_tz": -540
    },
    "id": "jyTCwm56ZYCO",
    "outputId": "5416d662-2083-40fd-fe68-e9dd17ad0bed"
   },
   "outputs": [
    {
     "data": {
      "text/plain": [
       "['0,saurav kant alumnus upgrad iiit pg program machine learning artificial intelligence sr systems engineer infosys almost years work experience program upgrad degree career support helped transition data scientist tech mahindra salary hike upgrad online power learning powered lakh careers']"
      ]
     },
     "execution_count": 20,
     "metadata": {},
     "output_type": "execute_result"
    }
   ],
   "source": [
    "summa_text[0]"
   ]
  },
  {
   "cell_type": "code",
   "execution_count": null,
   "id": "ecdcd279",
   "metadata": {
    "id": "ffcbf368",
    "outputId": "7bad717c-ffba-4fa8-bb24-2938a39ede21"
   },
   "outputs": [
    {
     "name": "stdout",
     "output_type": "stream",
     "text": [
      "['0,saurav kant alumnus upgrad iiit pg program machine learning artificial intelligence sr systems engineer infosys almost years work experience program upgrad degree career support helped transition data scientist tech mahindra salary hike upgrad online power learning powered lakh careers'] \n",
      "\n",
      "Summary:\n"
     ]
    },
    {
     "ename": "ValueError",
     "evalue": "Text parameter must be a Unicode object (str)!",
     "output_type": "error",
     "traceback": [
      "\u001b[0;31m---------------------------------------------------------------------------\u001b[0m",
      "\u001b[0;31mValueError\u001b[0m                                Traceback (most recent call last)",
      "\u001b[0;32m/tmp/ipykernel_843/3013139009.py\u001b[0m in \u001b[0;36m<module>\u001b[0;34m\u001b[0m\n\u001b[1;32m      2\u001b[0m     \u001b[0mprint\u001b[0m\u001b[0;34m(\u001b[0m\u001b[0mi\u001b[0m\u001b[0;34m,\u001b[0m \u001b[0;34m\"\\n\"\u001b[0m\u001b[0;34m)\u001b[0m\u001b[0;34m\u001b[0m\u001b[0;34m\u001b[0m\u001b[0m\n\u001b[1;32m      3\u001b[0m     \u001b[0mprint\u001b[0m\u001b[0;34m(\u001b[0m\u001b[0;34m\"Summary:\"\u001b[0m\u001b[0;34m)\u001b[0m\u001b[0;34m\u001b[0m\u001b[0;34m\u001b[0m\u001b[0m\n\u001b[0;32m----> 4\u001b[0;31m     \u001b[0mprint\u001b[0m\u001b[0;34m(\u001b[0m\u001b[0msummarize\u001b[0m\u001b[0;34m(\u001b[0m\u001b[0mi\u001b[0m\u001b[0;34m,\u001b[0m \u001b[0mwords\u001b[0m \u001b[0;34m=\u001b[0m \u001b[0;36m11\u001b[0m\u001b[0;34m)\u001b[0m\u001b[0;34m)\u001b[0m\u001b[0;34m\u001b[0m\u001b[0;34m\u001b[0m\u001b[0m\n\u001b[0m\u001b[1;32m      5\u001b[0m     \u001b[0mprint\u001b[0m\u001b[0;34m(\u001b[0m\u001b[0;34m)\u001b[0m\u001b[0;34m\u001b[0m\u001b[0;34m\u001b[0m\u001b[0m\n\u001b[1;32m      6\u001b[0m     \u001b[0;31m# print(str(i), end = \"\\n\")\u001b[0m\u001b[0;34m\u001b[0m\u001b[0;34m\u001b[0m\u001b[0m\n",
      "\u001b[0;32m~/anaconda3/lib/python3.9/site-packages/summa/summarizer.py\u001b[0m in \u001b[0;36msummarize\u001b[0;34m(text, ratio, words, language, split, scores, additional_stopwords)\u001b[0m\n\u001b[1;32m    112\u001b[0m \u001b[0;32mdef\u001b[0m \u001b[0msummarize\u001b[0m\u001b[0;34m(\u001b[0m\u001b[0mtext\u001b[0m\u001b[0;34m,\u001b[0m \u001b[0mratio\u001b[0m\u001b[0;34m=\u001b[0m\u001b[0;36m0.2\u001b[0m\u001b[0;34m,\u001b[0m \u001b[0mwords\u001b[0m\u001b[0;34m=\u001b[0m\u001b[0;32mNone\u001b[0m\u001b[0;34m,\u001b[0m \u001b[0mlanguage\u001b[0m\u001b[0;34m=\u001b[0m\u001b[0;34m\"english\"\u001b[0m\u001b[0;34m,\u001b[0m \u001b[0msplit\u001b[0m\u001b[0;34m=\u001b[0m\u001b[0;32mFalse\u001b[0m\u001b[0;34m,\u001b[0m \u001b[0mscores\u001b[0m\u001b[0;34m=\u001b[0m\u001b[0;32mFalse\u001b[0m\u001b[0;34m,\u001b[0m \u001b[0madditional_stopwords\u001b[0m\u001b[0;34m=\u001b[0m\u001b[0;32mNone\u001b[0m\u001b[0;34m)\u001b[0m\u001b[0;34m:\u001b[0m\u001b[0;34m\u001b[0m\u001b[0;34m\u001b[0m\u001b[0m\n\u001b[1;32m    113\u001b[0m     \u001b[0;32mif\u001b[0m \u001b[0;32mnot\u001b[0m \u001b[0misinstance\u001b[0m\u001b[0;34m(\u001b[0m\u001b[0mtext\u001b[0m\u001b[0;34m,\u001b[0m \u001b[0mstr\u001b[0m\u001b[0;34m)\u001b[0m\u001b[0;34m:\u001b[0m\u001b[0;34m\u001b[0m\u001b[0;34m\u001b[0m\u001b[0m\n\u001b[0;32m--> 114\u001b[0;31m         \u001b[0;32mraise\u001b[0m \u001b[0mValueError\u001b[0m\u001b[0;34m(\u001b[0m\u001b[0;34m\"Text parameter must be a Unicode object (str)!\"\u001b[0m\u001b[0;34m)\u001b[0m\u001b[0;34m\u001b[0m\u001b[0;34m\u001b[0m\u001b[0m\n\u001b[0m\u001b[1;32m    115\u001b[0m \u001b[0;34m\u001b[0m\u001b[0m\n\u001b[1;32m    116\u001b[0m     \u001b[0;31m# Gets a list of processed sentences.\u001b[0m\u001b[0;34m\u001b[0m\u001b[0;34m\u001b[0m\u001b[0m\n",
      "\u001b[0;31mValueError\u001b[0m: Text parameter must be a Unicode object (str)!"
     ]
    }
   ],
   "source": [
    "for i in summa_text[:5]:\n",
    "    print(i, \"\\n\")\n",
    "    print(\"Summary:\")\n",
    "    print(summarize(i, words = 11))\n",
    "    print()\n",
    "    # print(str(i), end = \"\\n\")"
   ]
  },
  {
   "cell_type": "markdown",
   "id": "ce0b9b70",
   "metadata": {
    "id": "715cc7e9"
   },
   "source": [
    "<p style= \"font-size:15px; line-height:24px;\">i가 str이 아니라는 에러를 확인하였다.\n",
    "출력 결과를 보니, i가 list로 출력이 되므로, 값을 확인한 후 다시 for문을 돌리고자 한다.</p>"
   ]
  },
  {
   "cell_type": "markdown",
   "id": "018369a5",
   "metadata": {
    "id": "908b8e8e"
   },
   "source": [
    "<p style= \"font-size:15px; line-height:24px;\">summa_text를 확인해본 결과, list안 list형식이므로 text만 출력하기 위해서는 아래처럼 지정해야 한다.</p>"
   ]
  },
  {
   "cell_type": "code",
   "execution_count": null,
   "id": "d7b6f14a",
   "metadata": {
    "colab": {
     "base_uri": "https://localhost:8080/",
     "height": 69
    },
    "executionInfo": {
     "elapsed": 361,
     "status": "ok",
     "timestamp": 1653319460581,
     "user": {
      "displayName": "생크림와플먹고싶다",
      "userId": "13048533309979940862"
     },
     "user_tz": -540
    },
    "id": "XCBtuWg0fHhA",
    "outputId": "a4699101-660d-411e-c2bc-6c6310b363c3"
   },
   "outputs": [
    {
     "data": {
      "text/plain": [
       "'1,kunal shah credit card bill payment platform cred gave users chance win free food swiggy one year pranav kaushik delhi techie bagged reward spending cred coins users get one cred coin per rupee bill paid used avail rewards brands like ixigo bookmyshow ubereats cult fit'"
      ]
     },
     "execution_count": 19,
     "metadata": {},
     "output_type": "execute_result"
    }
   ],
   "source": [
    "summa_text[1][0]"
   ]
  },
  {
   "cell_type": "code",
   "execution_count": null,
   "id": "2dfd0e01",
   "metadata": {
    "id": "9630217b",
    "outputId": "e470de5c-a820-4a72-f93d-7d5402ac3ae9"
   },
   "outputs": [
    {
     "name": "stdout",
     "output_type": "stream",
     "text": [
      "0,saurav kant alumnus upgrad iiit pg program machine learning artificial intelligence sr systems engineer infosys almost years work experience program upgrad degree career support helped transition data scientist tech mahindra salary hike upgrad online power learning powered lakh careers \n",
      "\n",
      "Summary:\n",
      "\n",
      "\n",
      "1,kunal shah credit card bill payment platform cred gave users chance win free food swiggy one year pranav kaushik delhi techie bagged reward spending cred coins users get one cred coin per rupee bill paid used avail rewards brands like ixigo bookmyshow ubereats cult fit \n",
      "\n",
      "Summary:\n",
      "\n",
      "\n",
      "2,new zealand defeated india wickets fourth odi hamilton thursday win first match five match odi series india lost international match rohit sharma captaincy consecutive victories dating back march match witnessed india getting seventh lowest total odi cricket history \n",
      "\n",
      "Summary:\n",
      "\n",
      "\n"
     ]
    }
   ],
   "source": [
    "for i in range(3):\n",
    "    print(summa_text[i][0], \"\\n\")\n",
    "    print(\"Summary:\")\n",
    "    print(summarize(summa_text[i][0], words = 11))\n",
    "    print()\n",
    "    # print(str(i), end = \"\\n\")"
   ]
  },
  {
   "cell_type": "markdown",
   "id": "ed573f46",
   "metadata": {
    "id": "0e77295d"
   },
   "source": [
    "<p style= \"font-size:15px; line-height:24px;\">오류는 발생하지 않았으나, 모델이 요약문을 출력하지 않는다.<br/>\n",
    "전처리 과정에 있어 불용어로 잘못 판단한 의미가 있는 단어들이 많이 삭제가 된 것 같다.<br/>\n",
    "</p>"
   ]
  },
  {
   "cell_type": "markdown",
   "id": "839b47e6",
   "metadata": {
    "id": "d9accb43"
   },
   "source": [
    "<div style = \"height: 50px;\"></div>"
   ]
  },
  {
   "cell_type": "markdown",
   "id": "cf0a7853",
   "metadata": {
    "id": "511b4f4b"
   },
   "source": [
    "## 2. 불용어를 제거하지 않고 전처리한 텍스트 요약하기\n",
    "<hr/>"
   ]
  },
  {
   "cell_type": "markdown",
   "id": "98dff028",
   "metadata": {
    "id": "f65441b9"
   },
   "source": [
    "<p style= \"font-size:15px; line-height:24px;\">preprocess_sentence()값에 False를 주어 불용어를 제거하지 않고 진행하고자 한다. </p>"
   ]
  },
  {
   "cell_type": "code",
   "execution_count": null,
   "id": "8f92dfd5",
   "metadata": {
    "id": "ZbpKq2BTj4oB"
   },
   "outputs": [],
   "source": [
    "clean_text = [preprocess_sentence(s, False) for s in data['text']]\n"
   ]
  },
  {
   "cell_type": "code",
   "execution_count": null,
   "id": "7fbe2044",
   "metadata": {
    "colab": {
     "base_uri": "https://localhost:8080/",
     "height": 86
    },
    "executionInfo": {
     "elapsed": 5,
     "status": "ok",
     "timestamp": 1653320293771,
     "user": {
      "displayName": "생크림와플먹고싶다",
      "userId": "13048533309979940862"
     },
     "user_tz": -540
    },
    "id": "KKcMpBb4kYad",
    "outputId": "d47226f2-e848-42e0-dec4-77aa09062de5"
   },
   "outputs": [
    {
     "data": {
      "application/vnd.google.colaboratory.intrinsic+json": {
       "type": "string"
      },
      "text/plain": [
       "'saurav kant an alumnus of upgrad and iiit pg program in machine learning and artificial intelligence was sr systems engineer at infosys with almost years of work experience the program and upgrad degree career support helped him transition to data scientist at tech mahindra with salary hike upgrad online power learning has powered lakh careers'"
      ]
     },
     "execution_count": 121,
     "metadata": {},
     "output_type": "execute_result"
    }
   ],
   "source": [
    "clean_text[0]"
   ]
  },
  {
   "cell_type": "markdown",
   "id": "bab4535e",
   "metadata": {
    "id": "qoym5_v81n1L"
   },
   "source": [
    "<p style= \"font-size:15px; line-height:24px;\">clean_text를 출력하여 확인해본 결과, list안 list형식이 아니었다.<br/>\n",
    "따라서, range 대신 슬라이싱하여 for문을 돌려 요약할 것이다.</p>"
   ]
  },
  {
   "cell_type": "code",
   "execution_count": null,
   "id": "1855a9a3",
   "metadata": {
    "colab": {
     "base_uri": "https://localhost:8080/"
    },
    "executionInfo": {
     "elapsed": 3,
     "status": "ok",
     "timestamp": 1653320282592,
     "user": {
      "displayName": "생크림와플먹고싶다",
      "userId": "13048533309979940862"
     },
     "user_tz": -540
    },
    "id": "Wvf_cd014R_0",
    "outputId": "5c7c7a7b-cbec-480a-8ddd-f5d3d3b07132"
   },
   "outputs": [
    {
     "name": "stdout",
     "output_type": "stream",
     "text": [
      "saurav kant an alumnus of upgrad and iiit pg program in machine learning and artificial intelligence was sr systems engineer at infosys with almost years of work experience the program and upgrad degree career support helped him transition to data scientist at tech mahindra with salary hike upgrad online power learning has powered lakh careers \n",
      "\n",
      "Summary:\n",
      "\n",
      "\n",
      "kunal shah credit card bill payment platform cred gave users chance to win free food from swiggy for one year pranav kaushik delhi techie bagged this reward after spending cred coins users get one cred coin per rupee of bill paid which can be used to avail rewards from brands like ixigo bookmyshow ubereats cult fit and more \n",
      "\n",
      "Summary:\n",
      "\n",
      "\n",
      "new zealand defeated india by wickets in the fourth odi at hamilton on thursday to win their first match of the five match odi series india lost an international match under rohit sharma captaincy after consecutive victories dating back to march the match witnessed india getting all out for their seventh lowest total in odi cricket history \n",
      "\n",
      "Summary:\n",
      "\n",
      "\n",
      "with aegon life iterm insurance plan customers can enjoy tax benefits on your premiums paid and save up to on taxes the plan provides life cover up to the age of years also customers have options to insure against critical illnesses disability and accidental death benefit rider with life cover up to the age of years \n",
      "\n",
      "Summary:\n",
      "\n",
      "\n",
      "speaking about the sexual harassment allegations against rajkumar hirani sonam kapoor said have known hirani for many years what if it is not true the metoo movement will get derailed in the metoo movement always believe woman but in this case we need to reserve our judgment she added hirani has been accused by an assistant who worked in sanju \n",
      "\n",
      "Summary:\n",
      "\n",
      "\n"
     ]
    }
   ],
   "source": [
    "for i in clean_text[0:5]:\n",
    "    print(i, \"\\n\")\n",
    "    print(\"Summary:\")\n",
    "    print(summarize(i, words = 40))\n",
    "    print()\n",
    "    # print(str(i), end = \"\\n\")"
   ]
  },
  {
   "cell_type": "markdown",
   "id": "68bd9121",
   "metadata": {
    "id": "p8GLqoFl12Fb"
   },
   "source": [
    "<p style= \"font-size:15px; line-height:24px;\">출력한 결과, 앞서 한 1번과 동일하게 요약본이 나오지 않는 것을 확인하였다. 따라서 원본 데이터를 그대로 요약해볼 것이다.</p>"
   ]
  },
  {
   "cell_type": "markdown",
   "id": "4d239c0a",
   "metadata": {
    "id": "AWKGWosU14s8"
   },
   "source": [
    "<div style = \"height: 50px;\"></div>"
   ]
  },
  {
   "cell_type": "markdown",
   "id": "5ffb9c11",
   "metadata": {
    "id": "1gIdCFQK15cx"
   },
   "source": [
    "## 3. 데이터 전처리 하지 않은 원본의 텍스트 사용하여 요약하기\n",
    "<hr/>"
   ]
  },
  {
   "cell_type": "code",
   "execution_count": 6,
   "id": "be337d3f",
   "metadata": {
    "id": "xO1I8ewIixmI"
   },
   "outputs": [],
   "source": [
    "txt = data['text']"
   ]
  },
  {
   "cell_type": "code",
   "execution_count": 7,
   "id": "7fb7fdff",
   "metadata": {
    "colab": {
     "base_uri": "https://localhost:8080/"
    },
    "executionInfo": {
     "elapsed": 200823,
     "status": "ok",
     "timestamp": 1653320665671,
     "user": {
      "displayName": "생크림와플먹고싶다",
      "userId": "13048533309979940862"
     },
     "user_tz": -540
    },
    "id": "QhZpSjAUk4th",
    "outputId": "e51e8ff0-4f68-43e8-cbf2-b5dfb1e822aa"
   },
   "outputs": [
    {
     "name": "stdout",
     "output_type": "stream",
     "text": [
      "Saurav Kant, an alumnus of upGrad and IIIT-B's PG Program in Machine learning and Artificial Intelligence, was a Sr Systems Engineer at Infosys with almost 5 years of work experience. The program and upGrad's 360-degree career support helped him transition to a Data Scientist at Tech Mahindra with 90% salary hike. upGrad's Online Power Learning has powered 3 lakh+ careers. \n",
      "\n",
      "Summary:\n",
      "upGrad's Online Power Learning has powered 3 lakh+ careers.\n",
      "\n",
      "Kunal Shah's credit card bill payment platform, CRED, gave users a chance to win free food from Swiggy for one year. Pranav Kaushik, a Delhi techie, bagged this reward after spending 2000 CRED coins. Users get one CRED coin per rupee of bill paid, which can be used to avail rewards from brands like Ixigo, BookMyShow, UberEats, Cult.Fit and more. \n",
      "\n",
      "Summary:\n",
      "\n",
      "\n",
      "New Zealand defeated India by 8 wickets in the fourth ODI at Hamilton on Thursday to win their first match of the five-match ODI series. India lost an international match under Rohit Sharma's captaincy after 12 consecutive victories dating back to March 2018. The match witnessed India getting all out for 92, their seventh lowest total in ODI cricket history. \n",
      "\n",
      "Summary:\n",
      "The match witnessed India getting all out for 92, their seventh lowest total in ODI cricket history.\n",
      "\n",
      "With Aegon Life iTerm Insurance plan, customers can enjoy tax benefits on your premiums paid and save up to Ã¢ÂÂ¹46,800^ on taxes. The plan provides life cover up to the age of 100 years. Also, customers have options to insure against Critical Illnesses, Disability and Accidental Death Benefit Rider with a life cover up to the age of 80 years. \n",
      "\n",
      "Summary:\n",
      "\n",
      "\n",
      "Speaking about the sexual harassment allegations against Rajkumar Hirani, Sonam Kapoor said, \"I've known Hirani for many years...What if it's not true, the [#MeToo] movement will get derailed.\" \"In the #MeToo movement, I always believe a woman. But in this case, we need to reserve our judgment,\" she added. Hirani has been accused by an assistant who worked in 'Sanju'. \n",
      "\n",
      "Summary:\n",
      "\n",
      "\n",
      "Pakistani singer Rahat Fateh Ali Khan has denied receiving any notice from the Enforcement Directorate over allegedly smuggling foreign currency out of India. \"It would have been better if the authorities would have served the notice first if any and then publicised this,\" reads a press release issued on behalf of Rahat. The statement further called the allegation \"bizarre\". \n",
      "\n",
      "Summary:\n",
      "\n",
      "\n",
      "India recorded their lowest ODI total in New Zealand after getting all out for 92 runs in 30.5 overs in the fourth ODI at Hamilton on Thursday. Seven of India's batsmen were dismissed for single-digit scores, while their number ten batsman Yuzvendra Chahal top-scored with 18*(37). India's previous lowest ODI total in New Zealand was 108. \n",
      "\n",
      "Summary:\n",
      "India's previous lowest ODI total in New Zealand was 108.\n",
      "\n",
      "Weeks after ex-CBI Director Alok Verma told the Department of Personnel and Training to consider him retired, the Home Ministry asked him to join work on the last day of his fixed tenure as Director on Thursday. The ministry directed him to immediately join as DG, Fire Services, the post he was transferred to after his removal as CBI chief. \n",
      "\n",
      "Summary:\n",
      "\n",
      "\n",
      "Andhra Pradesh CM N Chandrababu Naidu has said, \"When I met then US President Bill Clinton, I addressed him as Mr Clinton, not as 'sir'. (PM Narendra) Modi is my junior in politics...I addressed him as sir 10 times.\" \"I did this...to satisfy his ego in the hope that he will do justice to the state,\" he added. \n",
      "\n",
      "Summary:\n",
      "\n",
      "\n",
      "Congress candidate Shafia Zubair won the Ramgarh Assembly seat in Rajasthan, by defeating BJP's Sukhwant Singh with a margin of 12,228 votes in the bypoll. With this victory, Congress has taken its total to 100 seats in the 200-member assembly. The election to the Ramgarh seat was delayed due to the death of sitting MLA and BSP candidate Laxman Singh. \n",
      "\n",
      "Summary:\n",
      "\n",
      "\n",
      "Two minor cousins in Uttar Pradesh's Gorakhpur were allegedly repeatedly burnt with tongs and forced to eat human excreta by their family for being friends with two boys from the same school. The cousins revealed their ordeal to the police and Child Welfare Committee after being brought back to Gorakhpur from Nepal, where they had fled to escape the torture. \n",
      "\n",
      "Summary:\n",
      "\n",
      "\n",
      "Isha Ghosh, an 81-year-old member of Bharat Scouts and Guides (BSG), has been imparting physical and mental training to schoolchildren in Jharkhand for several decades. Chaibasa-based Ghosh reportedly walks seven kilometres daily and spends eight hours conducting physical training, apart from climbing and yoga sessions. She says, \"One should do something for society till one's last breath.\" \n",
      "\n",
      "Summary:\n",
      "\n",
      "\n",
      "Urging saints and seers at the Kumbh Mela to quit smoking, Yoga guru Ramdev said, \"We follow Ram and Krishna who never smoked in their life then why should we?\" Making them take a pledge to quit tobacco, he collected chillum (clay pipe) from several sadhus. He said he will deposit the chillums for display at a museum he'll build. \n",
      "\n",
      "Summary:\n",
      "\n",
      "\n",
      "Former stripper and regional sales director of a pharmaceutical company, Sunrise Lee, gave a doctor a lap dance in a nightclub to persuade him to prescribe an addictive fentanyl spray in 2012, the company's sales representative told a US court. She said she saw Lee \"sitting on [doctor's] lap, kind of bouncing around.\" Lee has been accused of bribing doctors. \n",
      "\n",
      "Summary:\n",
      "\n",
      "\n",
      "Reliance Industries' Chairman Mukesh Ambani's daughter Isha Ambani, who got married last month, said she only cried at her 'bidaai' because she felt peer pressure as everyone was crying, especially her parents. \"I was emotional too but everyone around me would cry all the time,\" she added. \"It was a very emotional affair for everyone in my family,\" said Isha. \n",
      "\n",
      "Summary:\n",
      "\"It was a very emotional affair for everyone in my family,\" said Isha.\n",
      "\n",
      "Louis Vuitton owner LVMH, which makes high-end beverages like MoÃÂ«t & Chandon champagne and Hennessy cognac, said it's stockpiling four months' worth of wine and spirits in UK in preparation for Brexit. \"We're ready for worst case scenario if there are difficulties with deliveries,\" the French luxury giant said. The UK is scheduled to leave the EU on March 29. \n",
      "\n",
      "Summary:\n",
      "\n",
      "\n",
      "Filmmaker Karan Johar and actress Tabu turned showstoppers for Gaurav Gupta on the opening night of LakmÃÂ© Fashion Week Summer/ Resort 2019. While Johar wore a red sequinned jacket with black pants, Tabu walked the ramp in a grey embellished gown. The fashion show, which began on January 29, will continue till February 3. \n",
      "\n",
      "Summary:\n",
      "Filmmaker Karan Johar and actress Tabu turned showstoppers for Gaurav Gupta on the opening night of LakmÃÂ© Fashion Week Summer/ Resort 2019.\n",
      "\n",
      "In a jibe at Congress President Rahul Gandhi, PM Narendra Modi on Wednesday said those on \"bail will have to go to jail.\" PM Modi added, \"He is out on bail and his associates too are facing charges...I know they will be convicted one day.\" The PM claimed he'd waged a war on corruption because he's from a common household.  \n",
      "\n",
      "Summary:\n",
      "\n",
      "\n",
      "Days after he threatened to step down from his post if Congress MLAs continue \"crossing the line,\" Karnataka Chief Minister HD Kumaraswamy accused them of taking potshots and asked, \"How many more days can I tolerate such stuff?\" Kumaraswamy, who made the statements after a Congress MLA demanded that Siddaramaiah be made CM again, said, \"Power is ephemeral.\" \n",
      "\n",
      "Summary:\n",
      "\n",
      "\n",
      "Union Minister Dharmendra Pradhan on Wednesday claimed the illegal mining mafia in Odisha operates under the control of CM Naveen Patnaik and state Congress chief Niranjan Patnaik. He added, \"The time has come for the people of Odisha to put a full stop to their activities...The time has come for us to ask for an explanation from this corrupt government.\" \n",
      "\n",
      "Summary:\n",
      "\n",
      "\n",
      "Claiming there is a dearth of ideas among opposition parties, Prime Minister Narendra Modi on Wednesday said, \"The opposition talks only about Modi the whole day, I suspect they even dream about me.\" PM Modi, who was addressing the New India Youth Conclave inÃ¢ÂÂ Surat, added that the opposition parties have only one agenda which is \"Modi\".  \n",
      "\n",
      "Summary:\n",
      "\n",
      "\n",
      "The Indian Space Research Organisation on Wednesday unveiled Human Space Flight Centre in Bengaluru for its Ã¢ÂÂ¹10,000-crore manned space mission 'Gaganyaan' scheduled for 2021. ISRO said the centre will be responsible for development of engineering systems for crew survival in space and crew selection and training. It'll also pursue activities for sustained human space flight missions, ISRO added. \n",
      "\n",
      "Summary:\n",
      "It'll also pursue activities for sustained human space flight missions, ISRO added.\n",
      "\n",
      "At least 12 people have been killed and 170 others have been injured in Saudi Arabia this week due to flooding from heavy rain. The emergency services rescued 271 people from the flooded areas, more than half of them in Tabuk. Heavy rains hit mainly western and northwestern parts of Saudi Arabia, near its border with Jordan. \n",
      "\n",
      "Summary:\n",
      "\n",
      "\n",
      "Reliance Industries' Chairman Mukesh Ambani's daughter Isha Ambani has featured on the cover of the February edition of Vogue India. She's dressed in a white shirt dress and black ruffled skirt by Australian designer Toni Maticevski, while accessorising her look with a Misho ring. In the cover story on her, Isha has spoken about her work and life after marriage.\n",
      "  \n",
      "\n",
      "Summary:\n",
      "Reliance Industries' Chairman Mukesh Ambani's daughter Isha Ambani has featured on the cover of the February edition of Vogue India.\n",
      "\n",
      "Indian Oil Corporation on Wednesday said it's looking for an annual deal to buy US crude as it seeks to broaden oil purchasing options. This comes amid uncertainties over Iran imports. The US had in November granted a six-month waiver to India from sanctions against Iran and restricted the country's monthly intake of Iranian oil to 3,00,000 barrels per day.\n",
      "\n",
      " \n",
      "\n",
      "Summary:\n",
      "\n",
      "\n",
      "Former Windies fast bowler Curtly Ambrose dismissed seven Australian batsmen within a span of 32 balls giving away just one run, in a Test match on January 30, 1993. Ambrose's spell helped his team bowl out Australia for 119 in the first innings, after being 85 for 2 at one point. Ambrose ended with first-innings figures of 18-9-25-7. \n",
      "\n",
      "Summary:\n",
      "Ambrose ended with first-innings figures of 18-9-25-7.\n",
      "\n",
      "A London zoo is offering people to name a cockroach after their exes on Valentine's Day for ÃÂ£1.50 (nearly Ã¢ÂÂ¹140). \"For those that don't quite require revenge, there's another way to make you feel better about getting back at your ex,\" the zoo said in a statement. The names will appear on zoo's 'roach board' on February 14.  \n",
      "\n",
      "Summary:\n",
      "The names will appear on zoo's 'roach board' on February 14.\n",
      "\n",
      "Stand-in captain Rohit Sharma has become the 14th Indian cricketer to play 200 ODIs, achieving the feat after taking the field against New Zealand in fourth ODI at Hamilton on Thursday. The 31-year-old had made his ODI debut on June 23, 2007, against Ireland in Belfast. Rohit scored 7,799 runs in his first 199 ODIs at an average of 48.14. \n",
      "\n",
      "Summary:\n",
      "Rohit scored 7,799 runs in his first 199 ODIs at an average of 48.14.\n",
      "\n",
      "Batsman Shubman Gill has become the 227th cricketer to represent India in ODI cricket, achieving the feat against New Zealand in the fourth ODI at Hamilton on Thursday. The 19-year-old received his maiden ODI cap from former captain MS Dhoni. Notably, Shubman was named Player of the Under-19 World Cup in New Zealand last year. \n",
      "\n",
      "Summary:\n",
      "Notably, Shubman was named Player of the Under-19 World Cup in New Zealand last year.\n",
      "\n",
      "Investigators searching for a lost plane carrying Argentine forward Emiliano Sala found two seat cushions on French coast that \"likely\" belonged to the aircraft. The investigators said they'll now launch an underwater seabed search for aircraft wreckage. The Cardiff City footballer was travelling from France's Nantes to Wales' Cardiff when his plane disappeared over English Channel on January 21. \n",
      "\n",
      "Summary:\n",
      "\n",
      "\n",
      "Italian third division football side Lucchese's head coach Giancarlo Favarin has been banned for five months for headbutting Alessandria's assistant coach Gaetano Mancino during a brawl following the teams' 2-2 draw on Sunday. Mancino was caught off-balance and knocked to the ground after the headbutt. Earlier in the match, Favarin had told his own player to break an opponent's legs. \n",
      "\n",
      "Summary:\n",
      "\n",
      "\n",
      "Cyclists taking part in National Track Cycling Championship in Jaipur opted to sleep on the floor inside the stadium instead of hotels over expensive cycles. The organisers had booked hotels but they didn't have the provision for cyclists to keep their bikes inside. A national gold medallist said their cycles cost between Ã¢ÂÂ¹5-9 lakh and once damaged, they become non-repairable.  \n",
      "\n",
      "Summary:\n",
      "\n",
      "\n",
      "Silvia Grecco, a 56-year-old Brazilian mother narrates her local football team Palmeiras' matches live to her 12-year-old blind and autistic son Nickollas from the stands. \"I describe details: this player is wearing short sleeves...colour of...football boots, hair colour...Everything I see and feel, I tell him, even when I need to curse the referee!\" Grecco said after a recent match. \n",
      "\n",
      "Summary:\n",
      "\n",
      "\n",
      "A TechCrunch report has claimed that IndiaÃ¢ÂÂs largest bank SBI secured a passwordless server \"overnight\" on being alerted it allowed anyone to access phone numbers, bank balances, and transactions of millions of its customers. The Mumbai-based server was containing two months of data from SBI Quick, an SMS and call-based system used to request basic information about accounts, TechCrunch revealed. \n",
      "\n",
      "Summary:\n",
      "\n",
      "\n",
      "Rahul Gandhi has replied to Goa CM Manohar Parrikar's letter, which accused the Congress President of using his \"visit to an ailing man for political gains\". \"He's under immense pressure from the PM after our meeting and needs to demonstrate his loyalty by attacking me,\" Gandhi wrote in his letter. Parrikar had clarified he didn't discuss Rafale deal with Rahul. \n",
      "\n",
      "Summary:\n",
      "\n",
      "\n",
      "Twenty-seven-year-old Mohammed Mahuwala was arrested in Indore on Wednesday for allegedly cheating e-commerce giant Amazon of nearly Ã¢ÂÂ¹30 lakh. Mahuwala was a member of a gang who ordered costly gadgets from Amazon. \"[They] used to get refund of the amount paid...by saying the parcel...was empty. In reality, these devices were taken out from parcel and sold...to local shopkeepers,\" said police. \n",
      "\n",
      "Summary:\n",
      "Mahuwala was a member of a gang who ordered costly gadgets from Amazon.\n",
      "\n",
      "AgustaWestland chopper scam co-accused Rajiv Saxena was extradited to India from UAE on Wednesday. He had been evading the Enforcement Directorate's summons claiming he was suffering from leukaemia but had moved an anti-money laundering court for anticipatory bail in December, stating he had never been summoned at his Dubai address. Saxena's lawyers alleged he had been \"illegally extradited\".  \n",
      "\n",
      "Summary:\n",
      "AgustaWestland chopper scam co-accused Rajiv Saxena was extradited to India from UAE on Wednesday.\n",
      "\n",
      "Afghan President Ashraf Ghani has said the \"keys to war\" are in Pakistan's Islamabad, Quetta and Rawalpindi, accusing the country of providing safe havens to militants, including those belonging to the Taliban. Ghani added the \"key to peace was in Afghanistan\". His comments came amid the talks between the US and the Taliban to end the 17-year war in Afghanistan. \n",
      "\n",
      "Summary:\n",
      "\n",
      "\n",
      "A Singapore-based insurance agent has been jailed for two years and five months for threatening to harm his clients unless they paid him in bitcoins. The 36-year-old set up an email account, and signed the messages as 'Lord Voldemort', a fictional character from the Harry Potter series. Ye Lin Myint targeted about 33 people, including those who cancelled insurance policies. \n",
      "\n",
      "Summary:\n",
      "\n",
      "\n",
      "Gabrielle Reilly, a 22-year-old US woman, created earrings for her Apple AirPods and put it up for sale online for $20 (about Ã¢ÂÂ¹1,500). \"I absolutely refuse to lose them (AirPods)...So I made earrings,\" she explained. The earrings, which took her over an hour to make, debuted in a video on Twitter that has since garnered over three million views. \n",
      "\n",
      "Summary:\n",
      "\"I absolutely refuse to lose them (AirPods)...So I made earrings,\" she explained.\n",
      "\n",
      "Ex-ICICI Bank CEO Chanda Kochhar said she's \"utterly disappointed, hurt and shocked\" by the bank's decision to terminate her. Kochhar said she served ICICI for 34 years with utmost honesty and integrity and that ultimately truth will prevail. Adding that she hasn't been given a copy of the independent probe report, Kochhar said none of ICICI's credit decisions are unilateral \n",
      "\n",
      "Summary:\n",
      "Adding that she hasn't been given a copy of the independent probe report, Kochhar said none of ICICI's credit decisions are unilateral\n",
      "\n",
      "Swedish multinational fast-fashion brand Hennes & Mauritz AB (H&M) has hired Christopher Wylie, the whistleblower who exposed Facebook's Cambridge Analytica data scandal. WylieÃ¢ÂÂs focus will be to help get better insights on customers, products and markets and support work on sustainable and ethical artificial intelligence, H&M spokesperson said. Wylie is a former employee of Cambridge Analytica. \n",
      "\n",
      "Summary:\n",
      "Swedish multinational fast-fashion brand Hennes & Mauritz AB (H&M) has hired Christopher Wylie, the whistleblower who exposed Facebook's Cambridge Analytica data scandal.\n",
      "\n",
      "Micro-blogging platform Twitter is testing a new feature on Android to put news on the top of a user's timeline. \"With this update, weÃ¢ÂÂre making it easier for people to see news and stories their followers have been discussing,\" Product Manager Walter Gurzynski said. The feature comes alongside a prompt saying, \"Catch up on what's happened while you were away.\" \n",
      "\n",
      "Summary:\n",
      "Micro-blogging platform Twitter is testing a new feature on Android to put news on the top of a user's timeline.\n",
      "\n",
      "Samsung has started mass producing its one terabyte 'embedded Universal Flash Storage (eUFS) 2.1' technology for \"use in next-generation mobile applications\", which it claims is the industry's first such eUFS. The company added the new eUFS will let smartphones store 260 10-minute videos shot in 4K UHD format. It'll be sized the same as the previous 512GB version, Samsung said. \n",
      "\n",
      "Summary:\n",
      "\n",
      "\n",
      "Prime Minister Narendra Modi on Wednesday said the people with 'negative mindset' are questioning him and his government for floating pro-poor schemes. He added negative mindset people are raising doubts about schemes such as building toilets and providing free gas connections to the poor. He further said that negative mentality laced with a vested interest still exists in the country. \n",
      "\n",
      "Summary:\n",
      "Prime Minister Narendra Modi on Wednesday said the people with 'negative mindset' are questioning him and his government for floating pro-poor schemes.\n",
      "\n",
      "Union Minister Anantkumar Hegde took a dig at Congress President Rahul Gandhi by calling him a \"hybrid specimen\" who has no clue about religion. \"A father who's...Muslim, a mother who's...Christian and the son is supposed to be...Brahmin. How is that even possible?\" he said. He added such \"hybrid specimen\" cannot be found in any laboratory in the world. \n",
      "\n",
      "Summary:\n",
      "\n",
      "\n",
      "Several parts of the US are set to experience record low temperatures as the polar vortex hit the Upper Midwest, with more than 200 million people expected to experience below-freezing temperatures this week. Temperatures throughout the Upper Midwest are expected to be at least 20-40Ã¢ÂÂ below zero. Government offices and schools have been closed in several areas. \n",
      "\n",
      "Summary:\n",
      "\n",
      "\n",
      "The police on Wednesday registered cases against 13 persons, including a woman leader of Hindu Mahasabha, in Aligarh for firing at an effigy of Mahatma Gandhi with an air pistol. \"The incident took place in a house in Naurangabad locality of the city,\" Senior Superintendent of Police said. The video of the event went viral on social media, he added. \n",
      "\n",
      "Summary:\n",
      "\n",
      "\n",
      "Railway police has rescued a woman travelling on a train in Chennai who got her leg stuck inside the commode of a toilet. After being caught inside the commode hole, she struggled to remove her leg and following failed attempts, she shouted for help, reports said. Railway police used a cutter to pry open the commode and freed her leg. \n",
      "\n",
      "Summary:\n",
      "\n",
      "\n",
      "The US on Tuesday began returning asylum seekers to Mexico, sending back a migrant from a Central American nation and called the move a \"response to the illegal migration crisis\" faced by it. Under its Migrant Protection Protocols policy, the US will return certain migrants who cross into the country illegally back to Mexico while their asylum requests are processed. \n",
      "\n",
      "Summary:\n",
      "\n",
      "\n",
      "Former Finance Minister Yashwant Sinha on Tuesday demanded a probe into the alleged diversion of loans worth Ã¢ÂÂ¹31,000 crore by Dewan Housing Finance (DHFL). All agencies including regulators of the government have failed to track nefarious deals, he said. This comes after a media report on Tuesday accused DHFL's controlling shareholders of diverting funds to shell companies to buy assets. \n",
      "\n",
      "Summary:\n",
      "\n",
      "\n",
      "US-based Boeing on Wednesday reported annual sales worth $101.12 billion in 2018, the first time the planemaker's sales crossed the $100-billion mark in its 102-year history. The company said it expects to deliver between 895 and 905 commercial aircraft in 2019. Boeing retained its position as the world's largest planemaker for the seventh straight year, delivering 806 aircraft in 2018.  \n",
      "\n",
      "Summary:\n",
      "Boeing retained its position as the world's largest planemaker for the seventh straight year, delivering 806 aircraft in 2018.\n",
      "\n",
      "text \n",
      "\n",
      "Summary:\n",
      "\n",
      "\n",
      "OnePlus has emerged as India's best-selling premium smartphone brand of 2018, as per a report by Counterpoint. It captured 36% of the market share in the premium segment, in Q4 2018. Further, its OnePlus 6 emerged as the highest selling premium smartphone of 2018 followed by OnePlus 6T. \n",
      "\n",
      "Summary:\n",
      "Further, its OnePlus 6 emerged as the highest selling premium smartphone of 2018 followed by OnePlus 6T.\n",
      "\n",
      "Filmmaker Pooja Bhatt, while talking about the presentation of women in her films, said, \"I can never look at a female body, even if it's naked, in a vulgar manner.\" \"Our audience can say...the women in my films are bold or sensual, but never ever vulgar,\" she added. Pooja further said her censor board is her \"own heart and mind\". \n",
      "\n",
      "Summary:\n",
      "\n",
      "\n",
      "Actress Mishti, who has featured in 'Manikarnika: The Queen of Jhansi', has said the film's co-director Kangana Ranaut made false promises to the cast. \"Kangana had said, 'I want dates because all characters look jumbled up...I'm trying my best to give everybody a prominent space on screen.' After watching the movie, there is no scope for other characters,\" Mishti added.  \n",
      "\n",
      "Summary:\n",
      "\n",
      "\n",
      "The high-powered committee led by PM Narendra Modi to select the next CBI Director will meet again on February 1, Congress leader Mallikarjun Kharge has said. The panel consisting of Kharge and Chief Justice of India Ranjan Gogoi met on January 24, but the meeting ended \"inconclusively\" after Kharge cited lack of details in the list of 80 IPS officers.  \n",
      "\n",
      "Summary:\n",
      "\n",
      "\n",
      "Nevada State Athletic Commission has banned MMA fighters Conor McGregor and Khabib Nurmagomedov for six months and nine months respectively over their roles in the mass brawl that occurred after their fight at UFC 229 last October. McGregor and Khabib have been fined $50,000 (Ã¢ÂÂ¹35 lakh) and $500,000 (Ã¢ÂÂ¹3.5 crore) respectively. The brawl occurred after Nurmagomedov confronted McGregor's teammate. \n",
      "\n",
      "Summary:\n",
      "\n",
      "\n",
      "Pakistan captain Sarfaraz Ahmed, who has been banned for four matches over racist remarks, took an apparent dig at his critics by sharing a video of a child reciting 'log hai na' poem on Twitter. \"Pyaar karna hai to khud se kar...dushmani karne ke liye log hai na,\" the poem read. \"This is how the world is,\" Sarfaraz wrote. \n",
      "\n",
      "Summary:\n",
      "\n",
      "\n",
      "Banned cricketer Sreesanth has told Supreme Court he initially confessed to Delhi Police about his alleged involvement in 2013 IPL spot-fixing scandal to escape continuous police torture. Sreesanth further said the bookie tried dragging him into spot-fixing but he didn't fall for it. Citing Sreesanth not informing BCCI about fixing approach, the apex court said Sreesanth's conduct \"wasn't good\". \n",
      "\n",
      "Summary:\n",
      "Sreesanth further said the bookie tried dragging him into spot-fixing but he didn't fall for it.\n",
      "\n",
      "The Finance Ministry on Wednesday said the government will present an Interim Budget on February 1. The clarification came amid speculations that a full Budget may be presented during the session. The government recently assigned Piyush Goyal temporary additional charge of the Finance and Corporate Affairs ministries in the absence of Arun Jaitley, who is in the US for treatment. \n",
      "\n",
      "Summary:\n",
      "The Finance Ministry on Wednesday said the government will present an Interim Budget on February 1.\n",
      "\n",
      "US President Donald Trump on Wednesday called his country's top intelligence chiefs \"naive\" and \"wrong\" on Iran and added that they should perhaps \"go back to school\". Trump claimed Iran is testing rockets, calling the country \"a source of potential danger and conflict\". Top US intelligence officials on Tuesday said that Iran isn't currently taking steps towards building nuclear weapons. \n",
      "\n",
      "Summary:\n",
      "\n",
      "\n",
      "A senior priest at the Vatican who handled cases of sexual abuse has quit after being accused of sexual abuse by a former nun. The accused priest claimed he is innocent and said he would consider taking legal action. The Vatican said in a statement that a Church investigation of the case was underway. \n",
      "\n",
      "Summary:\n",
      "\n",
      "\n",
      "A 22-year-old writer turned down a job offer, claiming she was bullied to the point of tears during her two-hour interview by a UK company's CEO. Olivia Bland added the \"brutal\" interview brought back painful memories of her abusive relationship. \"I am so sorry that anyone has been hurt, it is never my intent,\" Web Applications CEO Craig Dean replied.  \n",
      "\n",
      "Summary:\n",
      "\n",
      "\n",
      "Noida Police has arrested Sector 20 station in-charge Manoj Pant and three journalists for allegedly extorting money from a call centre owner for removing his name from an FIR. The four were caught while taking bribe money of Ã¢ÂÂ¹8 lakh, police said. Pant was the lead investigator in the Paytm extortion case involving Founder Vijay Shekhar Sharma's secretary Sonia Dhawan. \n",
      "\n",
      "Summary:\n",
      "\n",
      "\n",
      "Airtel on Wednesday said that Qatar's sovereign wealth fund Qatar Investment Authority will invest $200 million through a primary equity issuance in Airtel Africa. India's second-largest telecom operator's Africa unit recently raised $1.25 billion from six investors. Airtel Africa, the holding company for Airtel's operations in 14 African countries, is preparing for an initial public offering. \n",
      "\n",
      "Summary:\n",
      "Airtel Africa, the holding company for Airtel's operations in 14 African countries, is preparing for an initial public offering.\n",
      "\n",
      "Actor Shreyas Talpade said that 'Golmaal' filmmaker Rohit Shetty is still working on the script for the fifth instalment of the 'Golmaal' film franchise. \"He was telling us the other day that he...cracked some story. Once he's done with the...scripting, he'll take a call,Ã¢ÂÂ the actor added. The series features Shreyas along with Ajay Devgn, Arshad Warsi and Tusshar Kapoor. \n",
      "\n",
      "Summary:\n",
      "\n",
      "\n",
      "A 72-year-old man named Terry Sanderson has sued 'Avengers' actress Gwyneth Paltrow for allegedly crashing into him while skiing, and is seeking $3.1 million (over Ã¢ÂÂ¹22 crore) in damages. The lawsuit states the actress got up and skied away after knocking the man down, leaving him with broken ribs. The incident reportedly took place in 2016 in Utah, US.  \n",
      "\n",
      "Summary:\n",
      "\n",
      "\n",
      "Yami Gautam was felicitated by Border Security Force (BSF) in Amritsar for her performance in 'Uri: The Surgical Strike'. \"BSF is the first line of defence of our country and it gives me...pride to have met them,\" Yami said. The film, which also stars Vicky Kaushal, is based on the Indian Army's surgical strike operation which took place in 2016. \n",
      "\n",
      "Summary:\n",
      "Yami Gautam was felicitated by Border Security Force (BSF) in Amritsar for her performance in 'Uri: The Surgical Strike'.\n",
      "\n",
      "Social media giant Facebook has hired privacy critic Nate Cardozo, formerly the top legal counsel for US privacy watchdog EFF, as a privacy policy manager for WhatsApp. Cardozo had called Facebook a \"faceless corporation\" whose business model depends on user's confusion and indifference about privacy, in October 2015. Facebook has also hired attorney Robyn Greene as its privacy policy manager. \n",
      "\n",
      "Summary:\n",
      "\n",
      "\n",
      "Apple CEO Tim Cook said the company plans to lower some iPhones' prices in markets with currencies that weakened against the US dollar in the past year. \"WeÃ¢ÂÂve decided to go back to (iPhone prices) more commensurate with...local prices...a year ago,\" Cook added. The price cuts, in hopes of increasing sales, are reportedly occurring for second time in 12 years. \n",
      "\n",
      "Summary:\n",
      "\"WeÃ¢ÂÂve decided to go back to (iPhone prices) more commensurate with...local prices...a year ago,\" Cook added.\n",
      "\n",
      "Scientists in Australia's Flinders University are testing a wetsuit prototype that could protect its wearer after a shark attack. The suit, made of synthetic material similar to the material used in bulletproof vests, could help reduce blood loss after a shark attack. \"The majority of fatalities from shark bites is due to blood loss...shock from blood loss,\" a scientist said. \n",
      "\n",
      "Summary:\n",
      "\"The majority of fatalities from shark bites is due to blood loss...shock from blood loss,\" a scientist said.\n",
      "\n",
      "BJP National Secretary Rahul Sinha on Wednesday asked the party workers in West Bengal to come armed with sticks to PM Narendra Modi's rally in the state on February 2. His statement came a day after clashes broke out following BJP chief Amit Shah's WB rally. Sinha added the TMC is indulged in violence as they're afraid of BJP's strength. \n",
      "\n",
      "Summary:\n",
      "\n",
      "\n",
      "BJP President Amit Shah on Wednesday took a dig at the Opposition parties saying that the 'mahagathbandhan' for the Opposition is 4B - \"Bua-Bhatija-Bhai-Behen\". He added that 4B for the BJP meant \"Badhta Bharat, Banta Bharat\". He said Opposition's government cannot take the country ahead and \"only Modiji can provide a 'mazboot' (strong) government\". \n",
      "\n",
      "Summary:\n",
      "\n",
      "\n",
      "German automaker Volkswagen Group has retained the car industry's top spot in global sales, beating its Japanese rival Toyota. Volkswagen's sales, including its MAN and Scania heavy trucks and buses, rose 0.9% to 10.83 million in 2018, the company had said. Toyota came second with around 10.6 million deliveries, including its affiliated brands Daihatsu and Hino, in 2018. \n",
      "\n",
      "Summary:\n",
      "Volkswagen's sales, including its MAN and Scania heavy trucks and buses, rose 0.9% to 10.83 million in 2018, the company had said.\n",
      "\n",
      "Ousted Nissan Chairman Carlos Ghosn has said his arrest over alleged financial misconduct was led by \"plot and treason\" by the Japanese carmaker's executives who opposed its deeper integration with Renault and Mitsubishi. Ghosn added he had discussed the integration plans with Nissan's CEO in September, a month before his arrest. He further said he wouldn't flee if granted bail. \n",
      "\n",
      "Summary:\n",
      "\n",
      "\n",
      "The government has cut down customs duty on import of parts and components for electric vehicles to 10-15%, down from the previous 15-30%. The Central Board of Indirect Taxes and Customs said disassembled parts will attract 10% duty, whereas 15% will be levied on pre-assembled packs. However, fully built electric vehicles will continue to attract 25% import duty. \n",
      "\n",
      "Summary:\n",
      "\n",
      "\n",
      "Government officials on Wednesday said that a swine flu outbreak has killed 76 people this year in Rajasthan. Colder weather has worsened the seasonal outbreak of the H1N1 virus in the country, officials added. Rajasthan recorded more than a third of all swine flu deaths in India with Jodhpur being the worst affected area in the state, officials said. \n",
      "\n",
      "Summary:\n",
      "Government officials on Wednesday said that a swine flu outbreak has killed 76 people this year in Rajasthan.\n",
      "\n",
      "North Korea is \"unlikely to completely give up its nuclear weapons and production capabilities\", Director of US' National Intelligence, Daniel Coats, said. \"North Korean leaders view nuclear arms as critical to regime survival,\" he added. His statements come despite North Korea's agreement with the US at the Singapore summit last year to denuclearise the Korean Peninsula.  \n",
      "\n",
      "Summary:\n",
      "\"North Korean leaders view nuclear arms as critical to regime survival,\" he added.\n",
      "\n",
      "Jet Airways on Wednesday denied it was directed by GE Capital Aviation Services to ground its aircraft due to non-payment of dues. The airline said it's in the process of delivering three aircraft to lessors due to the expiry of lease terms. Further, three aircraft have been temporarily grounded to carry out an engine normalisation exercise, it added. \n",
      "\n",
      "Summary:\n",
      "Further, three aircraft have been temporarily grounded to carry out an engine normalisation exercise, it added.\n",
      "\n",
      "Retired Justice Srikrishna's enquiry panel has found that ex-CEO Chanda Kochhar violated ICICI Bank's code of conduct. The bank said it'll treat Kochhar's exit as termination and will take back all bonuses paid to her from April 2009 until March 2018. The CBI recently filed a case against Kochhar, her husband, and Videocon MD in the ICICI-Videocon loan case. \n",
      "\n",
      "Summary:\n",
      "Retired Justice Srikrishna's enquiry panel has found that ex-CEO Chanda Kochhar violated ICICI Bank's code of conduct.\n",
      "\n",
      "Ex-India cricketer Jacob Martin has been shifted to general ward from the ICU after being on a ventilator for nearly a month following a road accident, wherein he severely injured his lungs. Martin's wife Khyati mentioned there are chances that Jacob will be in hospital for two more months. BCCI, CSK and various cricketers provided financial assistance for Martin's treatment. \n",
      "\n",
      "Summary:\n",
      "\n",
      "\n",
      "Sri Lanka all-rounder Thisara Perera has written to Sri Lanka Cricket CEO Ashley de Silva, asking the board to intervene after ODI captain Lasith Malinga's wife Tanya targeted him on Facebook. Tanya accused Perera of meeting country's Sports Minister to secure his place in the team. \"We've become laughing stock of whole country...because of one person's personal vendetta,\" Perera wrote. \n",
      "\n",
      "Summary:\n",
      "Tanya accused Perera of meeting country's Sports Minister to secure his place in the team.\n",
      "\n",
      "Goa CM and ex-Defence Minister Manohar Parrikar has written a letter to Congress President Rahul Gandhi over his claim that Parrikar told him he has nothing to do with new Rafale deal. Parrikar wrote, \"Kindly do not use your visit to an ailing person to feed political opportunism.\" In their five-minute meeting, they didn't discuss anything about Rafale, he added. \n",
      "\n",
      "Summary:\n",
      "\n",
      "\n",
      "Prime Minister Narendra Modi stopped his speech at the inauguration of the new terminal building at Surat airport after observing that a cameraman had fainted. PM Modi then asked his officers to urgently arrange for an ambulance for the cameraman. \"It's good that PM was paying attention to his surroundings during his speech,\" the cameraman later said from a hospital.  \n",
      "\n",
      "Summary:\n",
      "PM Modi then asked his officers to urgently arrange for an ambulance for the cameraman.\n",
      "\n",
      "A couple got divorced minutes after their wedding ceremony got over in Gujarat's Gondal as a disagreement broke out and relatives from both sides started throwing dishes at each other during lunch. The advocates representing both sides arrived at the marriage hall and got the couple divorced within minutes. The couple even reportedly returned the gifts exchanged during the ceremony. \n",
      "\n",
      "Summary:\n",
      "\n",
      "\n",
      "Gujarat Education Minister Bhupendrasinh Chudasma has written a congratulatory message to a yoga ashram run by rape-convict Asaram's organisation for observing February 14 as \"Matru-Pitru Pujan Divas\" (Mother-Father worship day). After the Congress termed the letter as \"unfortunate\", saying it \"shows the nexus between BJP and godman\", Chudasma clarified, \"All I have done is sent best wishes.\"  \n",
      "\n",
      "Summary:\n",
      "\n",
      "\n",
      "Venezuelan President NicolÃÂ¡s Maduro has claimed that his American counterpart Donald Trump ordered the Colombian government and the Colombian mafia to kill him. \"If something happens to me, Trump and Colombian President IvÃÂ¡n MÃÂ¡rquez will bear responsibility,\" he added. The US has blamed Maduro for the economic crisis in Venezuela and recognised opposition leader Juan GuaidÃÂ³ as interim President. \n",
      "\n",
      "Summary:\n",
      "\n",
      "\n",
      "Eight Asian billionaires aged 90 or above on the Bloomberg Billionaires Index of world's 500 richest people have a combined net worth of $125 billion. The richest among them is Hong Kong's Li Ka Shing with a net worth of $30.5 billion. India's 90-year-old Pallonji Mistry, who controls 18.3% of Tata Sons through Shapoorji Pallonji Group, is worth $20.1 billion. \n",
      "\n",
      "Summary:\n",
      "The richest among them is Hong Kong's Li Ka Shing with a net worth of $30.5 billion.\n",
      "\n",
      "Tamil Nadu food safety officials on Wednesday raided and seized 1,000 kgs of banned plastic items from Hotel Saravana Bhavan in Chennai's Vadapalani. Officials began a surprise check in the branch at 8 am. The state government had banned single-use plastics from January 1 and said the banned items should be handed over at the offices of the city corporation. \n",
      "\n",
      "Summary:\n",
      "\n",
      "\n",
      "Actress Shamita Shetty was verbally abused and her driver was slapped in an incident of road rage in Mumbai on Tuesday, as per reports. The incident reportedly took place after a motorist who was accompanied by two friends, rammed his vehicle into Shamita's car. The men allegedly manhandled and threatened Shamita's driver when he stepped out to inspect the damage.  \n",
      "\n",
      "Summary:\n",
      "\n",
      "\n",
      "Actress Vaani Kapoor said that trolling has become a norm on social media, adding, \"There's no one who hasn't got trolled on social media.\" \"Everybody is out there to pull the other person down but it'll only bother [you] if you let it bother you,\" Vaani added. She further said, social media offers a platform \"where people enjoy belittling everybody\".  \n",
      "\n",
      "Summary:\n",
      "\n",
      "\n",
      "Actress Sushmita Sen took to Instagram to share a joke on the subject of marriage. \"Whoever invented marriage was creepy as hell. Like I love you so much IÃ¢ÂÂm gonna get the government involved so you canÃ¢ÂÂt leave,\" Sushmita's post read. \"This is an insult to [the] beauty of marriage,\" an Instagram user commented on her post. \n",
      "\n",
      "Summary:\n",
      "\"This is an insult to [the] beauty of marriage,\" an Instagram user commented on her post.\n",
      "\n",
      "Television actor Karanvir Bohra, who flew to Russia on Tuesday to attend a film festival, has been detained in Moscow due to passport damage. \"They [are] contemplating to deport me back to India,\" the actor wrote on Twitter. The Indian embassy in Russia's capital responded to his tweet and said that they were looking into the issue.  \n",
      "\n",
      "Summary:\n",
      "\n",
      "\n",
      "While speaking about winning awards for his films, Shah Rukh Khan said, \"If I don't get an award, that award is at a loss.\" \"Sometimes, the prestige of an award increases when I receive it,\" the actor jokingly added. Shah Rukh further said that he was \"extremely ambitious\" but in a \"fair manner\".  \n",
      "\n",
      "Summary:\n",
      "\n",
      "\n",
      "Actress Patralekhaa will make her debut in the Kannada film industry with the action-comedy film 'Where is my Kannadaka?' \"I can definitely say that itÃ¢ÂÂs a kind of role that I havenÃ¢ÂÂt portrayed on screen so far and that makes it special for me,\" the actress said in a statement. Shooting for the film will reportedly begin in April. \n",
      "\n",
      "Summary:\n",
      "\n",
      "\n",
      "Gmail on Tuesday faced a global outage, which also affected India, wherein certain users complained they faced a '404 error' message while trying to sign-in to their accounts. The error message read: \"The requested URL was not found on this server. That's all we know.\" Google responded saying \"problem with Gmail should be resolved (now). We apologise for the inconvenience\". \n",
      "\n",
      "Summary:\n",
      "\n",
      "\n",
      "Shiv Sena chief Uddhav Thackeray has asked the BJP to decide about the alliance with the Sena within 15 days and said the BJP should make a concrete proposal on the alliance. Thackeray added that only if the BJP agrees to Sena's terms and conditions, the party will agree for an alliance. Sena is free to fight independently, he said.  \n",
      "\n",
      "Summary:\n",
      "\n",
      "\n",
      "BJP President Amit Shah on Wednesday took a dig at the Opposition's proposed grand alliance saying if the \"mahagathbandhan comes to power, each opposition leader will be a Prime Minister every day of the week\". He added, \"[The] country will go on...holiday on Sunday\". He said the Opposition is thinking about leading the country but does not have a leader. \n",
      "\n",
      "Summary:\n",
      "He said the Opposition is thinking about leading the country but does not have a leader.\n",
      "\n",
      "Prime Minister Narendra Modi on Wednesday said his government's demonetisation decision made houses affordable for the aspiring youth. He added decisions like demonetisation and RERA have put a check on black money that used to be \"parked in the real estate sector\". He said 'UDAN' (Ude Desh ka Aam Nagrik) scheme has boosted the development of the country's aviation sector. \n",
      "\n",
      "Summary:\n",
      "\n",
      "\n"
     ]
    }
   ],
   "source": [
    "for i in txt[:100]:\n",
    "    print(i, \"\\n\")\n",
    "    print(\"Summary:\")\n",
    "    print(summarize(i, words = 11))\n",
    "    print()\n",
    "    # print(str(i), end = \"\\n\")"
   ]
  },
  {
   "cell_type": "markdown",
   "id": "aebef34c",
   "metadata": {
    "id": "ZgVoPGio2D-8"
   },
   "source": [
    "<p style= \"font-size:15px; line-height:24px;\">요약본을 출력해본 결과, 단어의 개수가 11개 미만인 문장들은 잘 출력이 되는 것을 확인할 수 있었다. <br/>\n",
    "단어의 개수를 11개 미만으로 잡은 이유는, 앞서 데이터의 분포도를 확인해본 결과 11개 미만의 단어를 가진 문장의 비율이 94%를 차지했기 때문이다.<br/><br/>\n",
    "요약된 내용을 해석해본 결과, 몇개의 특수 문자들이 포함되어 있음애도 불구하고, 요약을 잘 하는 것을 확인할 수 있었다.</p>"
   ]
  },
  {
   "cell_type": "markdown",
   "id": "5e83b11f",
   "metadata": {
    "id": "Bqvipjfd3X48"
   },
   "source": [
    "<p style= \"font-size:15px; line-height:24px;\"><span style = \"font-weight:bold;color:#0172d4;\">요약할 내용</span><br/>\n",
    "런던의 한 동물원은 밸런타인데이에 1.50파운드(약 140파운드)에 전처들의 이름을 따서 바퀴벌레의 이름을 짓도록 사람들에게 제공하고 있다. \"복수가 필요하지 않은 사람들을 위해, 당신의 전남편에게 복수하는 것에 대해 당신을 더 기분 좋게 만드는 다른 방법이 있습니다\"라고 동물원은 성명에서 말했다. 이 이름들은 2월 14일 동물원의 '바퀴판'에 등장할 예정입니다.<br/><br/>\n",
    "<span style = \"font-weight:bold;color:#0172d4;\">요약된 내용</span><br/>\n",
    "이 이름들은 2월 14일 동물원의 '바퀴판'에 등장할 예정입니다.</p>"
   ]
  },
  {
   "cell_type": "markdown",
   "id": "af7b9abf",
   "metadata": {},
   "source": [
    "<div style = \"height: 50px;\"></div>"
   ]
  },
  {
   "cell_type": "markdown",
   "id": "80e6fe23",
   "metadata": {},
   "source": [
    "# <span style = \"font-weight:bold;color:#0172d4;\">STEP 7</span> : 추출적 요약과 추상적 요약의 결과 비교해보기"
   ]
  },
  {
   "cell_type": "markdown",
   "id": "94984c1c",
   "metadata": {},
   "source": [
    "### 1. 추출적 요약\n",
    "<hr/>"
   ]
  },
  {
   "cell_type": "markdown",
   "id": "4ba7ab03",
   "metadata": {
    "id": "Bqvipjfd3X48"
   },
   "source": [
    "<p style= \"font-size:15px; line-height:24px;\"><span style = \"font-weight:bold;color:#0172d4;\">요약할 내용</span><br/>\n",
    "런던의 한 동물원은 밸런타인데이에 1.50파운드(약 140파운드)에 전처들의 이름을 따서 바퀴벌레의 이름을 짓도록 사람들에게 제공하고 있다. \"복수가 필요하지 않은 사람들을 위해, 당신의 전남편에게 복수하는 것에 대해 당신을 더 기분 좋게 만드는 다른 방법이 있습니다\"라고 동물원은 성명에서 말했다. 이 이름들은 2월 14일 동물원의 '바퀴판'에 등장할 예정입니다.<br/><br/>\n",
    "<span style = \"font-weight:bold;color:#0172d4;\">요약된 내용</span><br/>\n",
    "이 이름들은 2월 14일 동물원의 '바퀴판'에 등장할 예정입니다.</p>"
   ]
  },
  {
   "cell_type": "markdown",
   "id": "cd090454",
   "metadata": {},
   "source": [
    "<div style = \"height: 25px;\"></div>"
   ]
  },
  {
   "cell_type": "markdown",
   "id": "2fcd4eaa",
   "metadata": {},
   "source": [
    "### 2. 추상적 요약\n",
    "<hr/>"
   ]
  },
  {
   "cell_type": "markdown",
   "id": "4addbbdd",
   "metadata": {},
   "source": [
    "<p style= \"font-size:15px; line-height:24px;\"><span style = \"font-weight:bold;color:#0172d4;\">요약할 내용</span><br/>\n",
    "10억 루브르 아부다비 박물관 개관 수요일 프로젝트 발표 에마뉘엘 마크롱 프랑스 대통령이 영구 대여된 미술품을 특징으로 하는 박물관을 공개했습니다. 프랑스 전시품에는 메시지를 담은 작품 반 고흐 피카소 쿠란 성경 구절이 포함되어 있습니다.<br/><br/>\n",
    "<span style = \"font-weight:bold;color:#0172d4;\">실제 요약</span><br/>\n",
    "루브르 아부다비, 발표 후 수년 만에 개장<br/><br/>\n",
    "<span style = \"font-weight:bold;color:#0172d4;\">요약된 내용</span><br/>\n",
    "세계 최초의 인도 도시.</p>"
   ]
  },
  {
   "cell_type": "markdown",
   "id": "328750cd",
   "metadata": {},
   "source": [
    "<div style = \"height: 25px;\"></div>"
   ]
  },
  {
   "cell_type": "markdown",
   "id": "9aa7f0c7",
   "metadata": {},
   "source": [
    "<p style= \"font-size:15px; line-height:24px;\">추출적 요약은 본문에 있는 단어, 문장을 뽑아서 사용하는 반면, 추상적 요약은 새로운 문장을 만들어 내기 때문에 본문에는 없는 단어를 생성하여 내용과 맞지 않는 경우가 많았습니다. \n",
    "loss값을 더욱 0에 수렴하도록 모델을 수정하고, 임베딩을 더 깔끔하게 한다면 지금보다는 좀 더 자연스러운 문장이 나올 것 같으나 그러지 못한 것이 매우 아쉽습니다.\n",
    "<br/><br/>\n",
    "추상적 요약을 하기 위해서는 각종 전처리와, 임베딩 등 복잡한 과정을 거쳐서 모델을 구현한 반면에 추출적 요약은 패키지를 불러와 전처리 없이 요약을 진행하다보니 편리함을 느꼈습니다.<br/>\n",
    "때문에 실제에서 일을 한다면 머신러닝의 패키지를 사용할 것 같다는 생각이 들었습니다.</p>"
   ]
  },
  {
   "cell_type": "markdown",
   "id": "c43e0864",
   "metadata": {},
   "source": [
    "<div style = \"height: 50px;\"></div>"
   ]
  },
  {
   "cell_type": "markdown",
   "id": "6b0fa0ef",
   "metadata": {
    "id": "c361f90f"
   },
   "source": [
    "# 회고"
   ]
  },
  {
   "cell_type": "markdown",
   "id": "19c14722",
   "metadata": {
    "id": "TB9FGq_237gm"
   },
   "source": [
    "<p style= \"font-size:16px; line-height:30px;\">사실, 여러 파일에서 여러번 시도를 했는데, 주피터 노트북이 계속 다운되어서 다 담지 못한 것이 너무 아쉽습니다.<br/><br/>\n",
    "또한 작업을 하면서, 에러가 나거나 좋지 않은 모델이 나온 부분은 지금까지 삭제해왔는데 이번 작업에 다 담지 못한 것이 후회가 됩니다.<br/>\n",
    "앞으로는 작업할 때는 코드를 지우지 않아야겠습니다.<br/><br/>\n",
    "자연어 처리에 대해서는 어렵게 느끼다보니, 이해하는데에 시간이 많이 걸렸습니다. 때문에 익스를 진행할 때에는 시간이 부족한 상황이 발생하였고, 다양한 시도를 하지 못한 것이 아쉽습니다.<br/></p>"
   ]
  },
  {
   "cell_type": "markdown",
   "id": "b42c6cce",
   "metadata": {},
   "source": [
    "#### 에러사진"
   ]
  },
  {
   "cell_type": "markdown",
   "id": "340e58f5",
   "metadata": {},
   "source": [
    "<img src = \"img/error1.png\" style = \"float:left;\">"
   ]
  },
  {
   "cell_type": "markdown",
   "id": "d465d0c2",
   "metadata": {},
   "source": [
    "<img src = \"img/error2.png\" style = \"float:left;\">"
   ]
  },
  {
   "cell_type": "markdown",
   "id": "ce20fc75",
   "metadata": {},
   "source": [
    "ps. 너무나도 자주 본 화면임에도 불구하고.. 다시 봐도 마음이 아픕니다.."
   ]
  }
 ],
 "metadata": {
  "kernelspec": {
   "display_name": "Python 3 (ipykernel)",
   "language": "python",
   "name": "python3"
  },
  "language_info": {
   "codemirror_mode": {
    "name": "ipython",
    "version": 3
   },
   "file_extension": ".py",
   "mimetype": "text/x-python",
   "name": "python",
   "nbconvert_exporter": "python",
   "pygments_lexer": "ipython3",
   "version": "3.9.7"
  }
 },
 "nbformat": 4,
 "nbformat_minor": 5
}
