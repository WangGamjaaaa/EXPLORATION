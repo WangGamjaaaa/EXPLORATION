{
 "cells": [
  {
   "cell_type": "markdown",
   "id": "21d9effb",
   "metadata": {},
   "source": [
    "## 들어가며"
   ]
  },
  {
   "cell_type": "markdown",
   "id": "57e6cbea",
   "metadata": {},
   "source": [
    "### 학습목표\n",
    "<hr/>"
   ]
  },
  {
   "cell_type": "markdown",
   "id": "4bfd8457",
   "metadata": {},
   "source": [
    "- scikit-learn에 내장된 예제 데이터셋의 종류를 알고 활용할 수 있다.\n",
    "- scikit-learn에 내장된 분류 모델들을 학습시키고 예측해 볼 수 있다.\n",
    "- 모델의 성능을 평가하는 지표의 종류에 대해 이해하고, 활용 및 확인해 볼 수 있다.\n",
    "- Decision Tree, XGBoost, RandomForest, 로지스틱 회귀 모델을 활용해서 간단하게 학습 및 예측해 볼 수 있다.\n",
    "- 데이터셋을 사용해서 스스로 분류 기초 실습을 진행할 수 있다."
   ]
  },
  {
   "cell_type": "markdown",
   "id": "c9a88f9d",
   "metadata": {},
   "source": [
    "<p></p>"
   ]
  },
  {
   "cell_type": "markdown",
   "id": "59b6decb",
   "metadata": {},
   "source": [
    "## 1-2. Iris의 세 가지 품종, 분류해 볼까요? <br/>(1) 붓꽃 분류 문제\n",
    "<hr/>"
   ]
  },
  {
   "cell_type": "markdown",
   "id": "b5da767d",
   "metadata": {},
   "source": [
    "<img src = \"img/petal_sepal.png\">"
   ]
  },
  {
   "cell_type": "markdown",
   "id": "246d7e0e",
   "metadata": {},
   "source": [
    "## iris란?"
   ]
  },
  {
   "cell_type": "markdown",
   "id": "ef52f420",
   "metadata": {},
   "source": [
    "- 아이리스는 통계학자인 피셔(Fisher)가 소개한 데이터\n",
    "- 붓꽃의 3가지 종(setosa, versicolor, virginica)에 대해 꽃받침(sepal)과 꽃잎(petal)의 길이를 정리한 데이터"
   ]
  },
  {
   "cell_type": "markdown",
   "id": "e34b0eaf",
   "metadata": {},
   "source": [
    "### Q1. petal과 sepal의 의미?"
   ]
  },
  {
   "cell_type": "markdown",
   "id": "223ed344",
   "metadata": {},
   "source": [
    "= iris 저장된 데이터들 중의 하나이다.\n",
    "\n",
    "- petal: 꽃잎을 뜻함\n",
    "- sepal: 꽃받침을 뜻함"
   ]
  },
  {
   "cell_type": "markdown",
   "id": "1f589cfe",
   "metadata": {},
   "source": [
    "### Q2. scikit-learn이 예제로 제공하는 데이터셋 "
   ]
  },
  {
   "cell_type": "markdown",
   "id": "58de16ca",
   "metadata": {},
   "source": [
    "<p style= \"font-size:15px; font-weight:bold;\">Toy datasets</p>\n",
    "\n",
    "- Boston house prices dataset\n",
    "- Iris plants dataset\n",
    "- Diabetes dataset\n",
    "- Optical recognition of handwritten digits dataset\n",
    "- Linnerrud dataset\n",
    "- Wine recognition dataset\n",
    "- Breast cancer wisconsin (diagnostic) dataset"
   ]
  },
  {
   "cell_type": "markdown",
   "id": "d55cea26",
   "metadata": {},
   "source": [
    "<p style= \"font-size:15px; font-weight:bold;\">Real world datasets</p>\n",
    "\n",
    "- The Olivetti faces dataset\n",
    "- The 20 newsgroups text dataset\n",
    "- The Labeled Faces in the Wild face recognition dataset\n",
    "- Forest covertypes\n",
    "- RCV1 dataset\n",
    "- Kddcup 99 dataset\n",
    "- California Housing dataset"
   ]
  },
  {
   "cell_type": "markdown",
   "id": "6852397f",
   "metadata": {},
   "source": [
    "## 1-3. Iris의 세 가지 품종, 분류해 볼까요?<br/> (2) 데이터 준비, 그리고 자세히 살펴보기는 기본!\n",
    "<hr/>"
   ]
  },
  {
   "cell_type": "code",
   "execution_count": 1,
   "id": "c8c2e4c5",
   "metadata": {},
   "outputs": [],
   "source": [
    "# iris 데이터셋 불러오기\n",
    "from sklearn.datasets import load_iris"
   ]
  },
  {
   "cell_type": "code",
   "execution_count": 2,
   "id": "a41d487a",
   "metadata": {},
   "outputs": [],
   "source": [
    "iris = load_iris()"
   ]
  },
  {
   "cell_type": "code",
   "execution_count": 3,
   "id": "66aeaaa1",
   "metadata": {},
   "outputs": [
    {
     "name": "stdout",
     "output_type": "stream",
     "text": [
      "['DESCR', 'data', 'feature_names', 'filename', 'frame', 'target', 'target_names']\n"
     ]
    }
   ],
   "source": [
    "# dir()을 실행하여 객체가 어떤 변수와 메서드를 가지고 있는지 확인하기\n",
    "print(dir(iris))"
   ]
  },
  {
   "cell_type": "code",
   "execution_count": 4,
   "id": "c5f2f592",
   "metadata": {},
   "outputs": [
    {
     "data": {
      "text/plain": [
       "dict_keys(['data', 'target', 'frame', 'target_names', 'DESCR', 'feature_names', 'filename'])"
      ]
     },
     "execution_count": 4,
     "metadata": {},
     "output_type": "execute_result"
    }
   ],
   "source": [
    "# keys()를 실행하여 iris에 담긴 정보의 종류 및 개수 확인하기\n",
    "iris.keys()"
   ]
  },
  {
   "cell_type": "code",
   "execution_count": 5,
   "id": "e22fb3b1",
   "metadata": {},
   "outputs": [],
   "source": [
    "# 변수에 모델의 데이터 저장\n",
    "iris_data = iris.data"
   ]
  },
  {
   "cell_type": "code",
   "execution_count": 6,
   "id": "cad0b43a",
   "metadata": {},
   "outputs": [
    {
     "name": "stdout",
     "output_type": "stream",
     "text": [
      "(150, 4)\n"
     ]
    }
   ],
   "source": [
    "# shape()를 실행하여 데이터의 크기를 확인하기 = 4행 150열\n",
    "print(iris_data.shape)"
   ]
  },
  {
   "cell_type": "code",
   "execution_count": 7,
   "id": "71dfa8f1",
   "metadata": {},
   "outputs": [
    {
     "data": {
      "text/plain": [
       "array([5.1, 3.5, 1.4, 0.2])"
      ]
     },
     "execution_count": 7,
     "metadata": {},
     "output_type": "execute_result"
    }
   ],
   "source": [
    "# iris_data의 0번째 인덱스 값 확인하기\n",
    "iris_data[0]"
   ]
  },
  {
   "cell_type": "markdown",
   "id": "dfe48d11",
   "metadata": {},
   "source": [
    "= 순서대로 `sepal length`, `sepal width`, `petal length`, `petal width`를 나타냄."
   ]
  },
  {
   "cell_type": "markdown",
   "id": "e6978897",
   "metadata": {},
   "source": [
    "### Q3. 우리는 붓꽃의 꽃잎과 꽃받침 길이를 이용해 무엇을 맞추고 싶은 건가요?"
   ]
  },
  {
   "cell_type": "markdown",
   "id": "a3fb9e92",
   "metadata": {},
   "source": [
    "- sepal length (꽃받침의 길이)\n",
    "- sepal width (꽃받침의 너비)\n",
    "- petal length (꽃받침의 길이)\n",
    "- petal width (꽃받침의 너비)\n",
    "\n",
    "위 4가지의 데이터를 통해 붓꽃의 3가지 종(setosa, versicolor, virginica) 중 어떤 종에 더 가까운지 판단하여 \n",
    "붓꽃의 종류를 맞추는 것이다."
   ]
  },
  {
   "cell_type": "markdown",
   "id": "50822e17",
   "metadata": {},
   "source": [
    "### 라벨(label)과 타겟(target)"
   ]
  },
  {
   "cell_type": "markdown",
   "id": "b820ad8f",
   "metadata": {},
   "source": [
    "- 머신러닝 모델이 출력해야하는 정답"
   ]
  },
  {
   "cell_type": "code",
   "execution_count": 8,
   "id": "8aefaedb",
   "metadata": {},
   "outputs": [],
   "source": [
    "# 타겟값 설정하기\n",
    "iris_label = iris.target"
   ]
  },
  {
   "cell_type": "code",
   "execution_count": 9,
   "id": "2d49a5ad",
   "metadata": {},
   "outputs": [
    {
     "data": {
      "text/plain": [
       "(150,)"
      ]
     },
     "execution_count": 9,
     "metadata": {},
     "output_type": "execute_result"
    }
   ],
   "source": [
    "# target값의 모양 확인하기\n",
    "iris_label.shape"
   ]
  },
  {
   "cell_type": "code",
   "execution_count": 10,
   "id": "95be49e1",
   "metadata": {},
   "outputs": [
    {
     "data": {
      "text/plain": [
       "array([0, 0, 0, 0, 0, 0, 0, 0, 0, 0, 0, 0, 0, 0, 0, 0, 0, 0, 0, 0, 0, 0,\n",
       "       0, 0, 0, 0, 0, 0, 0, 0, 0, 0, 0, 0, 0, 0, 0, 0, 0, 0, 0, 0, 0, 0,\n",
       "       0, 0, 0, 0, 0, 0, 1, 1, 1, 1, 1, 1, 1, 1, 1, 1, 1, 1, 1, 1, 1, 1,\n",
       "       1, 1, 1, 1, 1, 1, 1, 1, 1, 1, 1, 1, 1, 1, 1, 1, 1, 1, 1, 1, 1, 1,\n",
       "       1, 1, 1, 1, 1, 1, 1, 1, 1, 1, 1, 1, 2, 2, 2, 2, 2, 2, 2, 2, 2, 2,\n",
       "       2, 2, 2, 2, 2, 2, 2, 2, 2, 2, 2, 2, 2, 2, 2, 2, 2, 2, 2, 2, 2, 2,\n",
       "       2, 2, 2, 2, 2, 2, 2, 2, 2, 2, 2, 2, 2, 2, 2, 2, 2, 2])"
      ]
     },
     "execution_count": 10,
     "metadata": {},
     "output_type": "execute_result"
    }
   ],
   "source": [
    "# 붓꽃의 종이 3가지이므로 3종류의 데이터 값이 나옴\n",
    "iris_label"
   ]
  },
  {
   "cell_type": "code",
   "execution_count": 11,
   "id": "22d479c4",
   "metadata": {},
   "outputs": [
    {
     "data": {
      "text/plain": [
       "array(['setosa', 'versicolor', 'virginica'], dtype='<U10')"
      ]
     },
     "execution_count": 11,
     "metadata": {},
     "output_type": "execute_result"
    }
   ],
   "source": [
    "# 3종류의 데이터 값 확인해보기\n",
    "iris.target_names"
   ]
  },
  {
   "cell_type": "markdown",
   "id": "8ebdc7d2",
   "metadata": {},
   "source": [
    "=  setosa(0), versicolor(1), virginica(2)를 뜻함"
   ]
  },
  {
   "cell_type": "code",
   "execution_count": 12,
   "id": "008e766b",
   "metadata": {},
   "outputs": [
    {
     "data": {
      "text/plain": [
       "'.. _iris_dataset:\\n\\nIris plants dataset\\n--------------------\\n\\n**Data Set Characteristics:**\\n\\n    :Number of Instances: 150 (50 in each of three classes)\\n    :Number of Attributes: 4 numeric, predictive attributes and the class\\n    :Attribute Information:\\n        - sepal length in cm\\n        - sepal width in cm\\n        - petal length in cm\\n        - petal width in cm\\n        - class:\\n                - Iris-Setosa\\n                - Iris-Versicolour\\n                - Iris-Virginica\\n                \\n    :Summary Statistics:\\n\\n    ============== ==== ==== ======= ===== ====================\\n                    Min  Max   Mean    SD   Class Correlation\\n    ============== ==== ==== ======= ===== ====================\\n    sepal length:   4.3  7.9   5.84   0.83    0.7826\\n    sepal width:    2.0  4.4   3.05   0.43   -0.4194\\n    petal length:   1.0  6.9   3.76   1.76    0.9490  (high!)\\n    petal width:    0.1  2.5   1.20   0.76    0.9565  (high!)\\n    ============== ==== ==== ======= ===== ====================\\n\\n    :Missing Attribute Values: None\\n    :Class Distribution: 33.3% for each of 3 classes.\\n    :Creator: R.A. Fisher\\n    :Donor: Michael Marshall (MARSHALL%PLU@io.arc.nasa.gov)\\n    :Date: July, 1988\\n\\nThe famous Iris database, first used by Sir R.A. Fisher. The dataset is taken\\nfrom Fisher\\'s paper. Note that it\\'s the same as in R, but not as in the UCI\\nMachine Learning Repository, which has two wrong data points.\\n\\nThis is perhaps the best known database to be found in the\\npattern recognition literature.  Fisher\\'s paper is a classic in the field and\\nis referenced frequently to this day.  (See Duda & Hart, for example.)  The\\ndata set contains 3 classes of 50 instances each, where each class refers to a\\ntype of iris plant.  One class is linearly separable from the other 2; the\\nlatter are NOT linearly separable from each other.\\n\\n.. topic:: References\\n\\n   - Fisher, R.A. \"The use of multiple measurements in taxonomic problems\"\\n     Annual Eugenics, 7, Part II, 179-188 (1936); also in \"Contributions to\\n     Mathematical Statistics\" (John Wiley, NY, 1950).\\n   - Duda, R.O., & Hart, P.E. (1973) Pattern Classification and Scene Analysis.\\n     (Q327.D83) John Wiley & Sons.  ISBN 0-471-22361-1.  See page 218.\\n   - Dasarathy, B.V. (1980) \"Nosing Around the Neighborhood: A New System\\n     Structure and Classification Rule for Recognition in Partially Exposed\\n     Environments\".  IEEE Transactions on Pattern Analysis and Machine\\n     Intelligence, Vol. PAMI-2, No. 1, 67-71.\\n   - Gates, G.W. (1972) \"The Reduced Nearest Neighbor Rule\".  IEEE Transactions\\n     on Information Theory, May 1972, 431-433.\\n   - See also: 1988 MLC Proceedings, 54-64.  Cheeseman et al\"s AUTOCLASS II\\n     conceptual clustering system finds 3 classes in the data.\\n   - Many, many more ...'"
      ]
     },
     "execution_count": 12,
     "metadata": {},
     "output_type": "execute_result"
    }
   ],
   "source": [
    "# DESCR을 사용하여 데이터셋의 설명 확인하기\n",
    "iris.DESCR"
   ]
  },
  {
   "cell_type": "code",
   "execution_count": 13,
   "id": "7abc1033",
   "metadata": {},
   "outputs": [
    {
     "data": {
      "text/plain": [
       "['sepal length (cm)',\n",
       " 'sepal width (cm)',\n",
       " 'petal length (cm)',\n",
       " 'petal width (cm)']"
      ]
     },
     "execution_count": 13,
     "metadata": {},
     "output_type": "execute_result"
    }
   ],
   "source": [
    "# feature_names 사용하여 feature(데이터의 특성) 확인해보기\n",
    "iris.feature_names"
   ]
  },
  {
   "cell_type": "code",
   "execution_count": 14,
   "id": "9dd25536",
   "metadata": {},
   "outputs": [
    {
     "data": {
      "text/plain": [
       "'/home/aiffel-dj32/anaconda3/lib/python3.9/site-packages/sklearn/datasets/data/iris.csv'"
      ]
     },
     "execution_count": 14,
     "metadata": {},
     "output_type": "execute_result"
    }
   ],
   "source": [
    "# filename 사용하여 파일의 이름, 형태 확인해보기\n",
    "iris.filename"
   ]
  },
  {
   "cell_type": "markdown",
   "id": "29fb9458",
   "metadata": {},
   "source": [
    "## 1-4. 첫 번째 머신러닝 실습, 간단하고도 빠르게! <br/>(1) 머신러닝 모델을 학습시키기 위한 문제지와 정답지 준비\n",
    "<hr/>"
   ]
  },
  {
   "cell_type": "markdown",
   "id": "aa52befd",
   "metadata": {},
   "source": [
    "### pandas란?\n",
    "파이썬에서 표 형태로 이루어진 2차원 배열 데이터를 다루는데에 가장 많이 쓰이는 도구이다.  \n",
    "표 데이터를 활용하여 데이터 분석을 하기도 하고, 대형 데이터의 여러 통계량을 다루는 것에 최적화되어있다."
   ]
  },
  {
   "cell_type": "code",
   "execution_count": 15,
   "id": "06c05637",
   "metadata": {},
   "outputs": [],
   "source": [
    "# pandas 불러오기 - as를 사용하여 별칭을 pd로 정함\n",
    "import pandas as pd"
   ]
  },
  {
   "cell_type": "code",
   "execution_count": 16,
   "id": "dff3a035",
   "metadata": {},
   "outputs": [
    {
     "name": "stdout",
     "output_type": "stream",
     "text": [
      "1.3.4\n"
     ]
    }
   ],
   "source": [
    "# __version__ 사용하여 pandas의 버전 확인하기\n",
    "print(pd.__version__)"
   ]
  },
  {
   "cell_type": "code",
   "execution_count": 17,
   "id": "6914ba5b",
   "metadata": {},
   "outputs": [],
   "source": [
    "# 데이터 프레임 만들기\n",
    "iris_df = pd.DataFrame(data = iris_data, columns = iris.feature_names)"
   ]
  },
  {
   "cell_type": "code",
   "execution_count": 18,
   "id": "d9137eef",
   "metadata": {},
   "outputs": [
    {
     "data": {
      "text/html": [
       "<div>\n",
       "<style scoped>\n",
       "    .dataframe tbody tr th:only-of-type {\n",
       "        vertical-align: middle;\n",
       "    }\n",
       "\n",
       "    .dataframe tbody tr th {\n",
       "        vertical-align: top;\n",
       "    }\n",
       "\n",
       "    .dataframe thead th {\n",
       "        text-align: right;\n",
       "    }\n",
       "</style>\n",
       "<table border=\"1\" class=\"dataframe\">\n",
       "  <thead>\n",
       "    <tr style=\"text-align: right;\">\n",
       "      <th></th>\n",
       "      <th>sepal length (cm)</th>\n",
       "      <th>sepal width (cm)</th>\n",
       "      <th>petal length (cm)</th>\n",
       "      <th>petal width (cm)</th>\n",
       "    </tr>\n",
       "  </thead>\n",
       "  <tbody>\n",
       "    <tr>\n",
       "      <th>0</th>\n",
       "      <td>5.1</td>\n",
       "      <td>3.5</td>\n",
       "      <td>1.4</td>\n",
       "      <td>0.2</td>\n",
       "    </tr>\n",
       "    <tr>\n",
       "      <th>1</th>\n",
       "      <td>4.9</td>\n",
       "      <td>3.0</td>\n",
       "      <td>1.4</td>\n",
       "      <td>0.2</td>\n",
       "    </tr>\n",
       "    <tr>\n",
       "      <th>2</th>\n",
       "      <td>4.7</td>\n",
       "      <td>3.2</td>\n",
       "      <td>1.3</td>\n",
       "      <td>0.2</td>\n",
       "    </tr>\n",
       "    <tr>\n",
       "      <th>3</th>\n",
       "      <td>4.6</td>\n",
       "      <td>3.1</td>\n",
       "      <td>1.5</td>\n",
       "      <td>0.2</td>\n",
       "    </tr>\n",
       "    <tr>\n",
       "      <th>4</th>\n",
       "      <td>5.0</td>\n",
       "      <td>3.6</td>\n",
       "      <td>1.4</td>\n",
       "      <td>0.2</td>\n",
       "    </tr>\n",
       "    <tr>\n",
       "      <th>...</th>\n",
       "      <td>...</td>\n",
       "      <td>...</td>\n",
       "      <td>...</td>\n",
       "      <td>...</td>\n",
       "    </tr>\n",
       "    <tr>\n",
       "      <th>145</th>\n",
       "      <td>6.7</td>\n",
       "      <td>3.0</td>\n",
       "      <td>5.2</td>\n",
       "      <td>2.3</td>\n",
       "    </tr>\n",
       "    <tr>\n",
       "      <th>146</th>\n",
       "      <td>6.3</td>\n",
       "      <td>2.5</td>\n",
       "      <td>5.0</td>\n",
       "      <td>1.9</td>\n",
       "    </tr>\n",
       "    <tr>\n",
       "      <th>147</th>\n",
       "      <td>6.5</td>\n",
       "      <td>3.0</td>\n",
       "      <td>5.2</td>\n",
       "      <td>2.0</td>\n",
       "    </tr>\n",
       "    <tr>\n",
       "      <th>148</th>\n",
       "      <td>6.2</td>\n",
       "      <td>3.4</td>\n",
       "      <td>5.4</td>\n",
       "      <td>2.3</td>\n",
       "    </tr>\n",
       "    <tr>\n",
       "      <th>149</th>\n",
       "      <td>5.9</td>\n",
       "      <td>3.0</td>\n",
       "      <td>5.1</td>\n",
       "      <td>1.8</td>\n",
       "    </tr>\n",
       "  </tbody>\n",
       "</table>\n",
       "<p>150 rows × 4 columns</p>\n",
       "</div>"
      ],
      "text/plain": [
       "     sepal length (cm)  sepal width (cm)  petal length (cm)  petal width (cm)\n",
       "0                  5.1               3.5                1.4               0.2\n",
       "1                  4.9               3.0                1.4               0.2\n",
       "2                  4.7               3.2                1.3               0.2\n",
       "3                  4.6               3.1                1.5               0.2\n",
       "4                  5.0               3.6                1.4               0.2\n",
       "..                 ...               ...                ...               ...\n",
       "145                6.7               3.0                5.2               2.3\n",
       "146                6.3               2.5                5.0               1.9\n",
       "147                6.5               3.0                5.2               2.0\n",
       "148                6.2               3.4                5.4               2.3\n",
       "149                5.9               3.0                5.1               1.8\n",
       "\n",
       "[150 rows x 4 columns]"
      ]
     },
     "execution_count": 18,
     "metadata": {},
     "output_type": "execute_result"
    }
   ],
   "source": [
    "iris_df"
   ]
  },
  {
   "cell_type": "markdown",
   "id": "4f07c527",
   "metadata": {},
   "source": [
    "`DataFrame` 을 만들면서 `data`에는 `iris_data`를 넣어주고,  \n",
    "각 컬럼에는 `feature_names`로 이름을 붙여주었습니다."
   ]
  },
  {
   "cell_type": "code",
   "execution_count": 19,
   "id": "4435732a",
   "metadata": {},
   "outputs": [],
   "source": [
    "# target 데이터 추가하기\n",
    "iris_df['label'] = iris.target"
   ]
  },
  {
   "cell_type": "code",
   "execution_count": 20,
   "id": "33270cb2",
   "metadata": {},
   "outputs": [
    {
     "data": {
      "text/html": [
       "<div>\n",
       "<style scoped>\n",
       "    .dataframe tbody tr th:only-of-type {\n",
       "        vertical-align: middle;\n",
       "    }\n",
       "\n",
       "    .dataframe tbody tr th {\n",
       "        vertical-align: top;\n",
       "    }\n",
       "\n",
       "    .dataframe thead th {\n",
       "        text-align: right;\n",
       "    }\n",
       "</style>\n",
       "<table border=\"1\" class=\"dataframe\">\n",
       "  <thead>\n",
       "    <tr style=\"text-align: right;\">\n",
       "      <th></th>\n",
       "      <th>sepal length (cm)</th>\n",
       "      <th>sepal width (cm)</th>\n",
       "      <th>petal length (cm)</th>\n",
       "      <th>petal width (cm)</th>\n",
       "      <th>label</th>\n",
       "    </tr>\n",
       "  </thead>\n",
       "  <tbody>\n",
       "    <tr>\n",
       "      <th>0</th>\n",
       "      <td>5.1</td>\n",
       "      <td>3.5</td>\n",
       "      <td>1.4</td>\n",
       "      <td>0.2</td>\n",
       "      <td>0</td>\n",
       "    </tr>\n",
       "    <tr>\n",
       "      <th>1</th>\n",
       "      <td>4.9</td>\n",
       "      <td>3.0</td>\n",
       "      <td>1.4</td>\n",
       "      <td>0.2</td>\n",
       "      <td>0</td>\n",
       "    </tr>\n",
       "    <tr>\n",
       "      <th>2</th>\n",
       "      <td>4.7</td>\n",
       "      <td>3.2</td>\n",
       "      <td>1.3</td>\n",
       "      <td>0.2</td>\n",
       "      <td>0</td>\n",
       "    </tr>\n",
       "    <tr>\n",
       "      <th>3</th>\n",
       "      <td>4.6</td>\n",
       "      <td>3.1</td>\n",
       "      <td>1.5</td>\n",
       "      <td>0.2</td>\n",
       "      <td>0</td>\n",
       "    </tr>\n",
       "    <tr>\n",
       "      <th>4</th>\n",
       "      <td>5.0</td>\n",
       "      <td>3.6</td>\n",
       "      <td>1.4</td>\n",
       "      <td>0.2</td>\n",
       "      <td>0</td>\n",
       "    </tr>\n",
       "    <tr>\n",
       "      <th>...</th>\n",
       "      <td>...</td>\n",
       "      <td>...</td>\n",
       "      <td>...</td>\n",
       "      <td>...</td>\n",
       "      <td>...</td>\n",
       "    </tr>\n",
       "    <tr>\n",
       "      <th>145</th>\n",
       "      <td>6.7</td>\n",
       "      <td>3.0</td>\n",
       "      <td>5.2</td>\n",
       "      <td>2.3</td>\n",
       "      <td>2</td>\n",
       "    </tr>\n",
       "    <tr>\n",
       "      <th>146</th>\n",
       "      <td>6.3</td>\n",
       "      <td>2.5</td>\n",
       "      <td>5.0</td>\n",
       "      <td>1.9</td>\n",
       "      <td>2</td>\n",
       "    </tr>\n",
       "    <tr>\n",
       "      <th>147</th>\n",
       "      <td>6.5</td>\n",
       "      <td>3.0</td>\n",
       "      <td>5.2</td>\n",
       "      <td>2.0</td>\n",
       "      <td>2</td>\n",
       "    </tr>\n",
       "    <tr>\n",
       "      <th>148</th>\n",
       "      <td>6.2</td>\n",
       "      <td>3.4</td>\n",
       "      <td>5.4</td>\n",
       "      <td>2.3</td>\n",
       "      <td>2</td>\n",
       "    </tr>\n",
       "    <tr>\n",
       "      <th>149</th>\n",
       "      <td>5.9</td>\n",
       "      <td>3.0</td>\n",
       "      <td>5.1</td>\n",
       "      <td>1.8</td>\n",
       "      <td>2</td>\n",
       "    </tr>\n",
       "  </tbody>\n",
       "</table>\n",
       "<p>150 rows × 5 columns</p>\n",
       "</div>"
      ],
      "text/plain": [
       "     sepal length (cm)  sepal width (cm)  petal length (cm)  petal width (cm)  \\\n",
       "0                  5.1               3.5                1.4               0.2   \n",
       "1                  4.9               3.0                1.4               0.2   \n",
       "2                  4.7               3.2                1.3               0.2   \n",
       "3                  4.6               3.1                1.5               0.2   \n",
       "4                  5.0               3.6                1.4               0.2   \n",
       "..                 ...               ...                ...               ...   \n",
       "145                6.7               3.0                5.2               2.3   \n",
       "146                6.3               2.5                5.0               1.9   \n",
       "147                6.5               3.0                5.2               2.0   \n",
       "148                6.2               3.4                5.4               2.3   \n",
       "149                5.9               3.0                5.1               1.8   \n",
       "\n",
       "     label  \n",
       "0        0  \n",
       "1        0  \n",
       "2        0  \n",
       "3        0  \n",
       "4        0  \n",
       "..     ...  \n",
       "145      2  \n",
       "146      2  \n",
       "147      2  \n",
       "148      2  \n",
       "149      2  \n",
       "\n",
       "[150 rows x 5 columns]"
      ]
     },
     "execution_count": 20,
     "metadata": {},
     "output_type": "execute_result"
    }
   ],
   "source": [
    "iris_df"
   ]
  },
  {
   "cell_type": "markdown",
   "id": "db4c28ac",
   "metadata": {},
   "source": [
    "###  정리하기"
   ]
  },
  {
   "cell_type": "markdown",
   "id": "bc73d9f3",
   "metadata": {},
   "source": [
    "<p style= \"font-size:15px; font-weight:bold;\">feature</p>\n",
    "\n",
    "- 머신러닝 모델에게 `입력`되는 데이터. \n",
    "- `문제지`로 비유하기도 한다.\n",
    "- 변수 이름으로는 `X`를 많이 사용한다."
   ]
  },
  {
   "cell_type": "markdown",
   "id": "f068a6d6",
   "metadata": {},
   "source": [
    "<p style= \"font-size:15px; font-weight:bold;\">label 또는 target</p>\n",
    "\n",
    "- 머신러닝 모델이 `맞혀야 하는` 데이터. \n",
    "- `정답지`라고 비유하기도 한다. \n",
    "- 변수 이름으로는 `y`를 많이 사용한다."
   ]
  },
  {
   "cell_type": "markdown",
   "id": "ce29fa49",
   "metadata": {},
   "source": [
    "### train_test_split()"
   ]
  },
  {
   "cell_type": "markdown",
   "id": "5070ebd5",
   "metadata": {},
   "source": [
    "- 전달되는 리스트나 배열을 비율에 맞게 훈련 세트와 테스트 세트로 나누어 주는 함수\n",
    "- `random_state()`: 자체적으로 랜덤 시드를 정하여 항상 같은 랜덤결과를 도출할 수 있음.\n",
    "- `test_size`: 테스트 세트의 비율을 0.2로 지정함 (훈련세트: 80%, 테스트 세트: 20%)"
   ]
  },
  {
   "cell_type": "code",
   "execution_count": 21,
   "id": "ed71393b",
   "metadata": {},
   "outputs": [],
   "source": [
    "# train_test_split 불러오기\n",
    "from sklearn.model_selection import train_test_split"
   ]
  },
  {
   "cell_type": "code",
   "execution_count": 22,
   "id": "968d6963",
   "metadata": {},
   "outputs": [],
   "source": [
    "# train_test_split사용하여 훈련 데이터와 테스트 데이터 나누기\n",
    "x_train, x_test, y_train, y_test = train_test_split(iris_data, iris_label, test_size = 0.2, random_state = 7)"
   ]
  },
  {
   "cell_type": "code",
   "execution_count": 23,
   "id": "2cab8e4d",
   "metadata": {},
   "outputs": [
    {
     "name": "stdout",
     "output_type": "stream",
     "text": [
      "x_train 개수:  120 , x_test 개수:  30\n"
     ]
    }
   ],
   "source": [
    "# 테스트와 훈련 세트 크기 확인해보기\n",
    "print('x_train 개수: ', len(x_train),', x_test 개수: ', len(x_test))"
   ]
  },
  {
   "cell_type": "code",
   "execution_count": 24,
   "id": "7f4c8aef",
   "metadata": {},
   "outputs": [
    {
     "data": {
      "text/plain": [
       "((120, 4), (120,))"
      ]
     },
     "execution_count": 24,
     "metadata": {},
     "output_type": "execute_result"
    }
   ],
   "source": [
    "# test_size가 잘 실행되었는지 확인해보기\n",
    "x_train.shape, y_train.shape"
   ]
  },
  {
   "cell_type": "code",
   "execution_count": 25,
   "id": "0c71e0de",
   "metadata": {},
   "outputs": [
    {
     "data": {
      "text/plain": [
       "((30, 4), (30,))"
      ]
     },
     "execution_count": 25,
     "metadata": {},
     "output_type": "execute_result"
    }
   ],
   "source": [
    "x_test.shape, y_test.shape"
   ]
  },
  {
   "cell_type": "code",
   "execution_count": 26,
   "id": "830ef702",
   "metadata": {},
   "outputs": [
    {
     "data": {
      "text/plain": [
       "(array([2, 1, 0, 2, 1, 0, 0, 0, 0, 2, 2, 1, 2, 2, 1, 0, 1, 1, 2, 0, 0, 0,\n",
       "        2, 0, 2, 1, 1, 1, 0, 0, 0, 1, 2, 1, 1, 0, 2, 0, 0, 2, 2, 0, 2, 0,\n",
       "        1, 2, 1, 0, 1, 0, 2, 2, 1, 0, 0, 1, 2, 0, 2, 2, 1, 0, 1, 0, 2, 2,\n",
       "        0, 0, 2, 1, 2, 2, 1, 0, 0, 2, 0, 0, 1, 2, 2, 1, 1, 0, 2, 0, 0, 1,\n",
       "        1, 2, 0, 1, 1, 2, 2, 1, 2, 0, 1, 1, 0, 0, 0, 1, 1, 0, 2, 2, 1, 2,\n",
       "        0, 2, 1, 1, 0, 2, 1, 2, 1, 0]),\n",
       " array([2, 1, 0, 1, 2, 0, 1, 1, 0, 1, 1, 1, 0, 2, 0, 1, 2, 2, 0, 0, 1, 2,\n",
       "        1, 2, 2, 2, 1, 1, 2, 2]))"
      ]
     },
     "execution_count": 26,
     "metadata": {},
     "output_type": "execute_result"
    }
   ],
   "source": [
    "# y값 확인해보기 - y는 target값을 의미한다.\n",
    "y_train, y_test"
   ]
  },
  {
   "cell_type": "markdown",
   "id": "66d47bab",
   "metadata": {},
   "source": [
    "무작위로 잘 섞여져있는 것을 확인할 수 있다."
   ]
  },
  {
   "cell_type": "markdown",
   "id": "35e6781b",
   "metadata": {},
   "source": [
    "## 1-5. 첫 번째 머신러닝 실습, 간단하고도 빠르게! <br/>(2) 첫 번째 머신러닝 모델 학습시키기\n",
    "<hr/>"
   ]
  },
  {
   "cell_type": "markdown",
   "id": "16232210",
   "metadata": {},
   "source": [
    "### 지도학습 VS 비지도학습"
   ]
  },
  {
   "cell_type": "markdown",
   "id": "7a2f7def",
   "metadata": {},
   "source": [
    "- `지도학습`은 지도받을 수 있는, 즉 `정답(target 데이터)이 있는 문제`에 대해 학습하는 것을 말하고,\n",
    "- 반대로 `비지도 학습`은 `정답(target)이 없는 문제`를 학습하는 것을 말한다."
   ]
  },
  {
   "cell_type": "markdown",
   "id": "6b4c4ccc",
   "metadata": {},
   "source": [
    "### Q5. 붓꽃 품종 문제는 지도학습인가, 비지도학습인가?"
   ]
  },
  {
   "cell_type": "markdown",
   "id": "83b56f8b",
   "metadata": {},
   "source": [
    "target(정답지)를  주고 모델을 훈련시킨 후  \n",
    " 예측값이 정답이 맞는지 맞지 않는지를 확인하므로,  \n",
    "지도학습이다.  "
   ]
  },
  {
   "cell_type": "markdown",
   "id": "1f25c304",
   "metadata": {},
   "source": [
    "### 분류(Classification)와 회귀(Regression)"
   ]
  },
  {
   "cell_type": "markdown",
   "id": "dec899e5",
   "metadata": {},
   "source": [
    "<p style= \"font-size:15px; font-weight:bold;\">분류(Classification)</p>"
   ]
  },
  {
   "cell_type": "markdown",
   "id": "d46522d9",
   "metadata": {},
   "source": [
    "- 입력받은 데이터를 특정 카테고리 중 하나로 `분류`해내는 문제 \n",
    "- 예측 결과가 연속성을 지니지 않으며 `이산값`을 가지고 있다\n",
    "- 타겟값이 `범주형 변수`인 경우\n",
    "- 종류에는 `이진분류`와 `다중분류`가 있다"
   ]
  },
  {
   "cell_type": "markdown",
   "id": "5602a922",
   "metadata": {},
   "source": [
    "<p style= \"font-size:15px; font-weight:bold;\">회귀(Regression)</p>"
   ]
  },
  {
   "cell_type": "markdown",
   "id": "5ce019fa",
   "metadata": {},
   "source": [
    "\n",
    "\n",
    "- 입력받은 데이터에 따라 특정 필드의 `수치`를 맞히는 문제\n",
    "- 회귀는 예측 결과가 `연속성`을 지닌다\n",
    "- `실수형 변수`를 통해 예측하여 예측 결과값이 연속성을 지니고 있는 경우\n"
   ]
  },
  {
   "cell_type": "markdown",
   "id": "de69741f",
   "metadata": {},
   "source": [
    "### Q6. 붓꽃 품종 문제는 분류 문제인가, 회귀 문제인가요?"
   ]
  },
  {
   "cell_type": "markdown",
   "id": "69405bc3",
   "metadata": {},
   "source": [
    "붓꽃의 3가지 종(setosa, versicolor, virginica)에 대해    \n",
    "꽃받침(sepal)과 꽃잎(petal)의 길이를 정리한 데이터를 학습하여   \n",
    "붓꽃의 종류(특정 카테고리) 중 하나로 분류해내므로    \n",
    "\n",
    "분류(Classification)이다."
   ]
  },
  {
   "cell_type": "markdown",
   "id": "2e712327",
   "metadata": {},
   "source": [
    "### Q7. 분류 문제와 회귀 문제의 예는 무엇이 있을까요?"
   ]
  },
  {
   "cell_type": "markdown",
   "id": "b8d4807b",
   "metadata": {},
   "source": [
    "분류문제\n",
    ": 와인의 당도, 색, 농도 등을 바탕으로 와인의 종류를 구별하기\n",
    "\n",
    "회귀문제\n",
    ": 지역의 범죄율, 지방세율 등의 데이터가 주어졌을 때 주택 가격의 중간 값 예측하기"
   ]
  },
  {
   "cell_type": "markdown",
   "id": "666e1414",
   "metadata": {},
   "source": [
    "### Q8. Decision Tree의 한국말과 이름이 붙은 이유를 설명하기"
   ]
  },
  {
   "cell_type": "markdown",
   "id": "37599d47",
   "metadata": {},
   "source": [
    "결정 트리 모델 또는 의사 결정 나무\n",
    "\n",
    "의사결정나무는 데이터를 분석하여 이들 사이에 존재하는 패턴을 예측 가능한 규칙들의 조합으로 나타내며, 그 모양이 ‘나무’와 같다고 해서 의사결정나무라 불림\n"
   ]
  },
  {
   "cell_type": "markdown",
   "id": "2fa0c86a",
   "metadata": {},
   "source": [
    "### Q9. Decision Tree의 단점이과 이를 극복하기 위해 등장한 모델은? 그리고 그 모델의 원리는?"
   ]
  },
  {
   "cell_type": "markdown",
   "id": "b809fd12",
   "metadata": {},
   "source": [
    "결정경계(decision boundary)가 데이터 축에 수직이어서   \n",
    "특정 데이터에만 잘 작동할 가능성이 높다.  \n",
    "이를 극복하기 위해  RandomForest가 등장했다.  \n",
    "여러개의 결정트리를 합쳐( = 숲) 하나로 묶어 놓은 원리이다."
   ]
  },
  {
   "cell_type": "code",
   "execution_count": 27,
   "id": "7f130ca0",
   "metadata": {},
   "outputs": [],
   "source": [
    "# 결정 트리 모델 불러오기\n",
    "from sklearn.tree import DecisionTreeClassifier"
   ]
  },
  {
   "cell_type": "code",
   "execution_count": 28,
   "id": "0ffc5aea",
   "metadata": {},
   "outputs": [],
   "source": [
    "# 변수에 모델을 저장 / 랜덤 시드 지정하기\n",
    "decision_tree = DecisionTreeClassifier(random_state = 32)"
   ]
  },
  {
   "cell_type": "code",
   "execution_count": 29,
   "id": "64c02861",
   "metadata": {},
   "outputs": [
    {
     "data": {
      "text/plain": [
       "'classifier'"
      ]
     },
     "execution_count": 29,
     "metadata": {},
     "output_type": "execute_result"
    }
   ],
   "source": [
    "decision_tree._estimator_type"
   ]
  },
  {
   "cell_type": "code",
   "execution_count": 30,
   "id": "ce80c798",
   "metadata": {},
   "outputs": [
    {
     "data": {
      "text/plain": [
       "DecisionTreeClassifier(random_state=32)"
      ]
     },
     "execution_count": 30,
     "metadata": {},
     "output_type": "execute_result"
    }
   ],
   "source": [
    "# 모델 fit()으로 훈련시키기\n",
    "decision_tree.fit(x_train, y_train)"
   ]
  },
  {
   "cell_type": "markdown",
   "id": "1584a173",
   "metadata": {},
   "source": [
    "### fit() 메서드"
   ]
  },
  {
   "cell_type": "markdown",
   "id": "7a2bd784",
   "metadata": {},
   "source": [
    "- 모델을 훈련시킴\n",
    "\n",
    "- 모델에 데이터를 전달하여 규칙을 학습하는 과정을 훈련이라 함"
   ]
  },
  {
   "cell_type": "markdown",
   "id": "e8e980fb",
   "metadata": {},
   "source": [
    "## 1-6. 첫 번째 머신러닝 실습, 간단하고도 빠르게!<br/>(3) 첫 번째 머신러닝 모델 평가하기\n",
    "<hr/>"
   ]
  },
  {
   "cell_type": "code",
   "execution_count": 31,
   "id": "2c86e719",
   "metadata": {},
   "outputs": [],
   "source": [
    "# 테스트 데이터로 예측해보기\n",
    "y_pred = decision_tree.predict(x_test)"
   ]
  },
  {
   "cell_type": "markdown",
   "id": "7e0749cb",
   "metadata": {},
   "source": [
    "`predict`은 새로운 데이터의 정답을 예측함"
   ]
  },
  {
   "cell_type": "code",
   "execution_count": 32,
   "id": "53afc4cd",
   "metadata": {},
   "outputs": [
    {
     "data": {
      "text/plain": [
       "array([2, 1, 0, 1, 2, 0, 1, 1, 0, 1, 2, 1, 0, 2, 0, 2, 2, 2, 0, 0, 1, 2,\n",
       "       1, 1, 2, 2, 1, 1, 2, 2])"
      ]
     },
     "execution_count": 32,
     "metadata": {},
     "output_type": "execute_result"
    }
   ],
   "source": [
    "# 모델이 예측한 값 출력해보기\n",
    "y_pred"
   ]
  },
  {
   "cell_type": "code",
   "execution_count": 33,
   "id": "277dc7b0",
   "metadata": {},
   "outputs": [
    {
     "data": {
      "text/plain": [
       "array([2, 1, 0, 1, 2, 0, 1, 1, 0, 1, 1, 1, 0, 2, 0, 1, 2, 2, 0, 0, 1, 2,\n",
       "       1, 2, 2, 2, 1, 1, 2, 2])"
      ]
     },
     "execution_count": 33,
     "metadata": {},
     "output_type": "execute_result"
    }
   ],
   "source": [
    "# 실제 값과 비교해보기\n",
    "y_test"
   ]
  },
  {
   "cell_type": "code",
   "execution_count": 34,
   "id": "3f671f85",
   "metadata": {},
   "outputs": [],
   "source": [
    "# 정확도 평가 패키지 불러오기\n",
    "from sklearn.metrics import accuracy_score"
   ]
  },
  {
   "cell_type": "code",
   "execution_count": 35,
   "id": "04d1fd69",
   "metadata": {},
   "outputs": [],
   "source": [
    "# 모델의 정확도 평가하기\n",
    "accuracy = accuracy_score(y_test, y_pred)"
   ]
  },
  {
   "cell_type": "code",
   "execution_count": 36,
   "id": "aaa13cc6",
   "metadata": {},
   "outputs": [
    {
     "data": {
      "text/plain": [
       "0.9"
      ]
     },
     "execution_count": 36,
     "metadata": {},
     "output_type": "execute_result"
    }
   ],
   "source": [
    "accuracy"
   ]
  },
  {
   "cell_type": "markdown",
   "id": "b9206f7a",
   "metadata": {},
   "source": [
    "### 정확도 계산법"
   ]
  },
  {
   "cell_type": "markdown",
   "id": "f90895ea",
   "metadata": {},
   "source": [
    "<img src=\"img/정확도.png\" style= \"float:left\">"
   ]
  },
  {
   "cell_type": "markdown",
   "id": "44409a6c",
   "metadata": {},
   "source": [
    "## 1-7. 첫 번째 머신러닝 실습, 간단하고도 빠르게!<br/>(4) 다른 모델도 해 보고 싶다면? 코드 한 줄만 바꾸면 돼!\n",
    "<hr/>"
   ]
  },
  {
   "cell_type": "markdown",
   "id": "d029385a",
   "metadata": {},
   "source": [
    "### Decision Tree 모델의 학습, 예측 과정 "
   ]
  },
  {
   "cell_type": "code",
   "execution_count": 37,
   "id": "e0ded5fc",
   "metadata": {},
   "outputs": [],
   "source": [
    "# 모듈 import 하기\n",
    "from sklearn.datasets import load_iris\n",
    "from sklearn.model_selection import train_test_split\n",
    "from sklearn.tree import DecisionTreeClassifier\n",
    "from sklearn.metrics import classification_report"
   ]
  },
  {
   "cell_type": "code",
   "execution_count": 38,
   "id": "94fa0735",
   "metadata": {},
   "outputs": [],
   "source": [
    "# 데이터 준비하기\n",
    "iris = load_iris()\n",
    "iris_data = iris.data\n",
    "iris_label = iris.target"
   ]
  },
  {
   "cell_type": "code",
   "execution_count": 39,
   "id": "773fcae5",
   "metadata": {},
   "outputs": [],
   "source": [
    "# 훈련 데이터와 테스트 데이터 분리하기\n",
    "x_train, x_test, y_train, y_test = train_test_split(iris_data, iris_label, test_size = 0.2, random_state = 7)"
   ]
  },
  {
   "cell_type": "code",
   "execution_count": 40,
   "id": "6d5ff3d7",
   "metadata": {},
   "outputs": [],
   "source": [
    "# 모델 학습 및 예측하기\n",
    "decision_tree = DecisionTreeClassifier(random_state = 32)\n",
    "decision_tree.fit(x_train, y_train)\n",
    "y_pred = decision_tree.predict(x_test)"
   ]
  },
  {
   "cell_type": "code",
   "execution_count": 41,
   "id": "3a53c5a8",
   "metadata": {},
   "outputs": [
    {
     "name": "stdout",
     "output_type": "stream",
     "text": [
      "              precision    recall  f1-score   support\n",
      "\n",
      "           0       1.00      1.00      1.00         7\n",
      "           1       0.91      0.83      0.87        12\n",
      "           2       0.83      0.91      0.87        11\n",
      "\n",
      "    accuracy                           0.90        30\n",
      "   macro avg       0.91      0.91      0.91        30\n",
      "weighted avg       0.90      0.90      0.90        30\n",
      "\n"
     ]
    }
   ],
   "source": [
    "print(classification_report(y_test, y_pred))"
   ]
  },
  {
   "cell_type": "markdown",
   "id": "a89a291f",
   "metadata": {},
   "source": [
    "<p style= \"font-size:16px;\">여기서 모델을 바꿔보고 싶다면 (4) 모델 학습 및 예측 부분에서 모델만 바꿔주면 된다. <br/>모델이 바뀐다고 해도 위와 같이 진행되는 큰 흐름은 변하지 않으니 이 흐름을 잘 기억해두도록 하자.</p>"
   ]
  },
  {
   "cell_type": "markdown",
   "id": "4fc3cef3",
   "metadata": {},
   "source": [
    "### 랜덤 포레스트(Random Forest)"
   ]
  },
  {
   "cell_type": "markdown",
   "id": "5914ce27",
   "metadata": {},
   "source": [
    "- Decision Tree을 여러개 모아놓은 형태이다.\n",
    "- Decision Tree 모델을 여러 개 합쳐놓음으로써 Decision Tree의 단점을 극복한 모델\n",
    "- 이러한 기법을 `앙상블(Ensemble)`이라고 한다."
   ]
  },
  {
   "cell_type": "markdown",
   "id": "de745aab",
   "metadata": {},
   "source": [
    "<img src = \"img/Random Forest 03.gif\">"
   ]
  },
  {
   "cell_type": "markdown",
   "id": "42ae024d",
   "metadata": {},
   "source": [
    "### 랜덤 포레스트(Random Forest)의 과정"
   ]
  },
  {
   "cell_type": "markdown",
   "id": "69b555b9",
   "metadata": {},
   "source": [
    "1. 건강의 위험도를 예측하기 위해서는 많은 요소를 고려 성별, 키, 몸무게, 지역, 운동량, 흡연유무, 음주 여부, 혈당, 근육량, 기초 대사량 등 수많은 요소가 필요"
   ]
  },
  {
   "cell_type": "markdown",
   "id": "593f96bb",
   "metadata": {},
   "source": [
    "2. Feature가 30개라 했을 때 30개의 Feature를 기반으로 하나의 결정 트리를 만든다면 트리의 가지가 많아질 것이고, 이는 오버피팅의 결과를 야기"
   ]
  },
  {
   "cell_type": "markdown",
   "id": "0e77367f",
   "metadata": {},
   "source": [
    "3. 30개의 Feature 중 랜덤으로 5개의 Feature만 선택해서 하나의 결정 트리 생성"
   ]
  },
  {
   "cell_type": "markdown",
   "id": "8add9cf4",
   "metadata": {},
   "source": [
    "4. 계속 반복하여 여러 개의 결정 트리 생성"
   ]
  },
  {
   "cell_type": "markdown",
   "id": "d4161601",
   "metadata": {},
   "source": [
    "5. 여러 결정 트리들이 내린 예측 값들 중 가장 많이 나온 값을 최종 예측값으로 지정 (앙상블)"
   ]
  },
  {
   "cell_type": "markdown",
   "id": "76d100e9",
   "metadata": {},
   "source": [
    "6. 하나의 거대한 (깊이가 깊은) 결정 트리를 만드는 것이 아니라 여러 개의 작은 결정 트리를 만드는 것"
   ]
  },
  {
   "cell_type": "markdown",
   "id": "9004ddd9",
   "metadata": {},
   "source": [
    "### 분류와 회귀"
   ]
  },
  {
   "cell_type": "markdown",
   "id": "e159b9cd",
   "metadata": {},
   "source": [
    "- **분류** : 샘플을 몇개의 클래스 중 하나로 분류하는 문제이다.\n",
    "- **회귀** : 임의의 어떤 숫자를 예측하는 문제이다."
   ]
  },
  {
   "cell_type": "markdown",
   "id": "99b4dbbb",
   "metadata": {},
   "source": [
    "### 앙상블 (Ensemble method) "
   ]
  },
  {
   "cell_type": "markdown",
   "id": "d0ebd819",
   "metadata": {},
   "source": [
    "- 의견을 통합하거나 여러가지 결과를 합치는 방식을 뜻한다.\n",
    "- 정형 데이터를 다루는 데에 있어 가장 뛰어난 성과를 보인다.\n",
    "- 대부분 결정 트리를 기반으로 만들어져 있다."
   ]
  },
  {
   "cell_type": "markdown",
   "id": "5954f1bd",
   "metadata": {},
   "source": [
    "### Q10. Random Forest의 Random은 무엇이 랜덤이라는 것을 나타내나요?\n",
    "Random Forest는 여러 개의 의사 결정 트리를 모아 놓은것으로,  \n",
    "각각의 의사 결정 트리를 만들기 위해 쓰이는 특성들을 랜덤으로 선택한다."
   ]
  },
  {
   "cell_type": "code",
   "execution_count": 42,
   "id": "2cc6a3db",
   "metadata": {},
   "outputs": [],
   "source": [
    "# random forest 불러오기\n",
    "from sklearn.ensemble import RandomForestClassifier"
   ]
  },
  {
   "cell_type": "code",
   "execution_count": 43,
   "id": "a3d066d2",
   "metadata": {},
   "outputs": [],
   "source": [
    "# 훈련세트, 테스트 세트 나누기\n",
    "x_train, x_test, y_train, y_test = train_test_split(iris_data, iris_label, test_size = 0.2, random_state = 21)"
   ]
  },
  {
   "cell_type": "code",
   "execution_count": 44,
   "id": "9290f3d7",
   "metadata": {},
   "outputs": [],
   "source": [
    "# 변수에 모델을 저장 / 랜덤 시드 지정하기 \n",
    "random_forest = RandomForestClassifier(random_state = 32)"
   ]
  },
  {
   "cell_type": "code",
   "execution_count": 45,
   "id": "89a64577",
   "metadata": {},
   "outputs": [
    {
     "data": {
      "text/plain": [
       "RandomForestClassifier(random_state=32)"
      ]
     },
     "execution_count": 45,
     "metadata": {},
     "output_type": "execute_result"
    }
   ],
   "source": [
    "# 모델 훈련시키기\n",
    "random_forest.fit(x_train, y_train)"
   ]
  },
  {
   "cell_type": "code",
   "execution_count": 46,
   "id": "d55a8427",
   "metadata": {},
   "outputs": [
    {
     "name": "stdout",
     "output_type": "stream",
     "text": [
      "              precision    recall  f1-score   support\n",
      "\n",
      "           0       0.57      0.36      0.44        11\n",
      "           1       0.27      0.25      0.26        12\n",
      "           2       0.25      0.43      0.32         7\n",
      "\n",
      "    accuracy                           0.33        30\n",
      "   macro avg       0.36      0.35      0.34        30\n",
      "weighted avg       0.38      0.33      0.34        30\n",
      "\n"
     ]
    }
   ],
   "source": [
    "# 결과 출력하기\n",
    "print(classification_report(y_test, y_pred))"
   ]
  },
  {
   "cell_type": "markdown",
   "id": "810ac502",
   "metadata": {},
   "source": [
    "### 다른 scikit-learn 내장 분류 모델"
   ]
  },
  {
   "cell_type": "markdown",
   "id": "e2facf84",
   "metadata": {},
   "source": [
    "### 1. Support Vector Machine (SVM)"
   ]
  },
  {
   "cell_type": "markdown",
   "id": "d3effeff",
   "metadata": {},
   "source": [
    "`SVM`은 Support Vector와 Hyperplane(초평면)을 이용해서   \n",
    "분류를 수행하게 되는 대표적인 `선형 분류 알고리즘`입니다."
   ]
  },
  {
   "cell_type": "markdown",
   "id": "aca4907d",
   "metadata": {},
   "source": [
    "<img src = \"img/SVM.png\">"
   ]
  },
  {
   "cell_type": "markdown",
   "id": "24c8dddc",
   "metadata": {},
   "source": []
  },
  {
   "cell_type": "markdown",
   "id": "0bf59ae2",
   "metadata": {},
   "source": [
    "2차원 공간에서 즉, 데이터에 2개의 클래스만 존재할 때"
   ]
  },
  {
   "cell_type": "markdown",
   "id": "7f3f1a90",
   "metadata": {},
   "source": [
    "- **Decision Boundary(결정 경계)** : 두 개의 클래스를 구분해 주는 선\n",
    "- **Support Vector** : Decision Boundary에 가까이 있는 데이터\n",
    "- **Margin** : Decision Boundary와 Support Vector 사이의 거리"
   ]
  },
  {
   "cell_type": "markdown",
   "id": "536ac20c",
   "metadata": {},
   "source": [
    "<img src = \"img/SVM2.png\">"
   ]
  },
  {
   "cell_type": "markdown",
   "id": "b1d873dd",
   "metadata": {},
   "source": [
    "Margin이 넓을수록 새로운 데이터를 잘 구분할 수 있다. (Margin 최대화 -> robustness 최대화)"
   ]
  },
  {
   "cell_type": "markdown",
   "id": "b1f4a1c1",
   "metadata": {},
   "source": [
    "<p style= \"font-size:15px; font-weight:bold;\">Kernel Trick</p>"
   ]
  },
  {
   "cell_type": "markdown",
   "id": "d0d48b2e",
   "metadata": {},
   "source": [
    "- 저차원의 공간을 고차원의 공간으로 매핑해주는 작업.\n",
    "- 데이터의 분포가 선형으로 분리가 되지 않을 경우(`Linearly separable`)<br/>데이터를 고차원으로 이동시켜 Linearly separable하도록 만든다."
   ]
  },
  {
   "cell_type": "markdown",
   "id": "30ace7e7",
   "metadata": {},
   "source": [
    "<p style= \"font-size:15px; font-weight:bold;\">cost</p>"
   ]
  },
  {
   "cell_type": "markdown",
   "id": "d96b4aad",
   "metadata": {},
   "source": [
    "- Decision Boundary와 Margin의 간격을 결정함\n",
    "- cost가 높으면 Margin이 좁아지고 train error가 작아진다.<br/>(그러나 새로운 데이터에서는 분류를 잘 할 수 있다.)\n",
    "- cost가 낮으면 Margin이 넓어지고, train error는 커진다."
   ]
  },
  {
   "cell_type": "markdown",
   "id": "93e5cd1a",
   "metadata": {},
   "source": [
    "<p style= \"font-size:15px; font-weight:bold;\">γ</p>"
   ]
  },
  {
   "cell_type": "markdown",
   "id": "29112cd9",
   "metadata": {},
   "source": [
    "- 한 train data당 영향을 미치는 범위를 결정함\n",
    "\n",
    "\n",
    "- γ가 커질경우\n",
    "    - 데이터가 영향을 미치는 범위가 줄어든다. \n",
    "    -  Decision Boundary에 가까이 있는 데이터만이 선의 굴곡에 영향을 준다.\n",
    "    -  Decision Boundary는 구불구불하게 그어진다. `오버피팅을 초래한다.`  \n",
    "    \n",
    "    \n",
    "\n",
    "- γ가 작아질경우\n",
    "    - 데이터가 영향을 미치는 범위가 커진다.\n",
    "    - Decision Boundary가 `직선`에 가까워진다."
   ]
  },
  {
   "cell_type": "markdown",
   "id": "d0045161",
   "metadata": {},
   "source": [
    "<img src = \"img/SVM3.png\">"
   ]
  },
  {
   "cell_type": "markdown",
   "id": "c8887aa9",
   "metadata": {},
   "source": [
    "## 직접 SVM 모델 사용해보기"
   ]
  },
  {
   "cell_type": "code",
   "execution_count": 47,
   "id": "a344fcd1",
   "metadata": {},
   "outputs": [],
   "source": [
    "# SVM 불러오기\n",
    "from sklearn import svm"
   ]
  },
  {
   "cell_type": "code",
   "execution_count": 48,
   "id": "424dc059",
   "metadata": {},
   "outputs": [],
   "source": [
    "# 모델을 변수에 할당\n",
    "svm_model = svm.SVC()"
   ]
  },
  {
   "cell_type": "code",
   "execution_count": 49,
   "id": "1fd70bbb",
   "metadata": {},
   "outputs": [
    {
     "name": "stdout",
     "output_type": "stream",
     "text": [
      "classifier\n"
     ]
    }
   ],
   "source": [
    "# 모델의 종류 확인\n",
    "print(svm_model._estimator_type)"
   ]
  },
  {
   "cell_type": "markdown",
   "id": "0167ad4b",
   "metadata": {},
   "source": [
    "### Q11. SVM 모델을 학습시키고, 결과를 확인해 보세요."
   ]
  },
  {
   "cell_type": "code",
   "execution_count": 50,
   "id": "cc0fa910",
   "metadata": {},
   "outputs": [
    {
     "data": {
      "text/plain": [
       "SVC()"
      ]
     },
     "execution_count": 50,
     "metadata": {},
     "output_type": "execute_result"
    }
   ],
   "source": [
    "# 모델 학습 및 예측하기\n",
    "svm_model.fit(x_train, y_train)"
   ]
  },
  {
   "cell_type": "code",
   "execution_count": 51,
   "id": "440f99cf",
   "metadata": {},
   "outputs": [],
   "source": [
    "# 테스트 데이터로 예측해보기\n",
    "y_pred = svm_model.predict(x_test)"
   ]
  },
  {
   "cell_type": "code",
   "execution_count": 52,
   "id": "f2e88049",
   "metadata": {},
   "outputs": [
    {
     "name": "stdout",
     "output_type": "stream",
     "text": [
      "              precision    recall  f1-score   support\n",
      "\n",
      "           0       1.00      1.00      1.00        11\n",
      "           1       0.91      0.83      0.87        12\n",
      "           2       0.75      0.86      0.80         7\n",
      "\n",
      "    accuracy                           0.90        30\n",
      "   macro avg       0.89      0.90      0.89        30\n",
      "weighted avg       0.91      0.90      0.90        30\n",
      "\n"
     ]
    }
   ],
   "source": [
    "# 평가 지표 확인하기\n",
    "print(classification_report(y_test, y_pred))"
   ]
  },
  {
   "cell_type": "markdown",
   "id": "7a6a2aef",
   "metadata": {},
   "source": [
    "### 2. Stochastic Gradient Descent Classifier (SGDClassifier)"
   ]
  },
  {
   "cell_type": "markdown",
   "id": "1c2aa1b9",
   "metadata": {},
   "source": [
    "- 배치 크기가 1인 `경사 하강법 알고리즘`이다.\n",
    "- 데이터 세트에서 무작위로 균일하게 선택한 하나의 예에 의존하여 각 단계의 예측 경사를 계산합니다.\n",
    "- `확률적(Stochastic)` = 각 배치를 포함하는 하나의 예가 무작위로 선택된다는 것을 의미"
   ]
  },
  {
   "cell_type": "markdown",
   "id": "e0dd05da",
   "metadata": {},
   "source": [
    "<small style = \"font-weight:bold;\">&lt;최소값을 찾는 과정&gt;<small/>"
   ]
  },
  {
   "cell_type": "markdown",
   "id": "e1a1f1ea",
   "metadata": {},
   "source": [
    "<img src = \"img/SGDClassifier.png\">"
   ]
  },
  {
   "cell_type": "markdown",
   "id": "9d20a47a",
   "metadata": {},
   "source": [
    "#### 단점\n",
    "-  반복이 충분하면 SGD가 효과는 있지만 노이즈가 매우 심해다.\n",
    "-  최저점을 찾지 못할 수 있다."
   ]
  },
  {
   "cell_type": "markdown",
   "id": "3fe80fd0",
   "metadata": {},
   "source": [
    "#### 단점의 극복\n",
    "- 단점을 극복하기 위해 미니 배치 확률적 경사하강법(미니 배치 SGD)이 등장함.\n",
    "- 미니 배치 확률적 경사하강법(미니 배치 SGD)는 전체 배치 반복과 SGD 의 절충안입니다."
   ]
  },
  {
   "cell_type": "markdown",
   "id": "eabcc629",
   "metadata": {},
   "source": [
    "#### 배치란 무엇인가?"
   ]
  },
  {
   "cell_type": "markdown",
   "id": "7a0db962",
   "metadata": {},
   "source": [
    "- 배치는 일괄적으로 처리되는 집단을 의미\n",
    "- 한 번에 여러 개의 데이터를 묶어서 입력하는 방식이다.\n",
    "- GPU의 병렬 연산 기능을 최대한 효율적으로 사용하기 위해 쓰는 방식이다."
   ]
  },
  {
   "cell_type": "markdown",
   "id": "ca754ef9",
   "metadata": {},
   "source": [
    "#### 경사하강법(Gradient Descent)에서의 배치란?\n",
    "- 단일 반복에서 기울기를 계산하는 데 사용하는 예(data)의 총 개수\n",
    "- 전체 데이터 셋라고 가정합니다."
   ]
  },
  {
   "cell_type": "markdown",
   "id": "951b9b72",
   "metadata": {},
   "source": [
    "배치 사이즈가 <b style=\"color: blue;\">너무 큰 경우</b>\n",
    "- 한번에 처리해야 할 데이터의 양이 많아진다\n",
    "- 때문에, 학습 속도가 느려지고, 메모리 부족 문제가 발생할 위험이 있음."
   ]
  },
  {
   "cell_type": "markdown",
   "id": "6de19aa9",
   "metadata": {},
   "source": [
    "배치 사이즈가 <b style=\"color: blue;\">너무 작은 경우</b><br/>\n",
    "- 적은 데이터를 대상으로 가중치를 업데이트하고 \n",
    "- 이 업데이트가 자구 발생하므로 훈련이 불안정해짐."
   ]
  },
  {
   "cell_type": "markdown",
   "id": "2ef5fe97",
   "metadata": {},
   "source": [
    "### 직접 SGD Classifier 모델 사용해보기"
   ]
  },
  {
   "cell_type": "code",
   "execution_count": 53,
   "id": "d9be344b",
   "metadata": {},
   "outputs": [],
   "source": [
    "# 모델 불러오기\n",
    "from sklearn.linear_model import SGDClassifier"
   ]
  },
  {
   "cell_type": "code",
   "execution_count": 54,
   "id": "1af7adc6",
   "metadata": {},
   "outputs": [],
   "source": [
    "# 모델을 변수에 할당\n",
    "sgd_model = SGDClassifier()"
   ]
  },
  {
   "cell_type": "code",
   "execution_count": 55,
   "id": "910bd439",
   "metadata": {},
   "outputs": [
    {
     "name": "stdout",
     "output_type": "stream",
     "text": [
      "classifier\n"
     ]
    }
   ],
   "source": [
    "print(sgd_model._estimator_type)"
   ]
  },
  {
   "cell_type": "markdown",
   "id": "5d28dcba",
   "metadata": {},
   "source": [
    "### Q12. SGD Classifier 모델을 학습시키고, 결과를 확인해 보세요."
   ]
  },
  {
   "cell_type": "code",
   "execution_count": 56,
   "id": "cfe43ec5",
   "metadata": {},
   "outputs": [
    {
     "data": {
      "text/plain": [
       "SGDClassifier()"
      ]
     },
     "execution_count": 56,
     "metadata": {},
     "output_type": "execute_result"
    }
   ],
   "source": [
    "sgd_model.fit(x_train, y_train)"
   ]
  },
  {
   "cell_type": "code",
   "execution_count": 57,
   "id": "b15a8606",
   "metadata": {},
   "outputs": [],
   "source": [
    "y_pred = sgd_model.predict(x_test)"
   ]
  },
  {
   "cell_type": "code",
   "execution_count": 58,
   "id": "3ba9a715",
   "metadata": {},
   "outputs": [
    {
     "name": "stdout",
     "output_type": "stream",
     "text": [
      "              precision    recall  f1-score   support\n",
      "\n",
      "           0       1.00      1.00      1.00        11\n",
      "           1       0.92      1.00      0.96        11\n",
      "           2       1.00      0.88      0.93         8\n",
      "\n",
      "    accuracy                           0.97        30\n",
      "   macro avg       0.97      0.96      0.96        30\n",
      "weighted avg       0.97      0.97      0.97        30\n",
      "\n"
     ]
    }
   ],
   "source": [
    "print(classification_report(y_pred, y_test))"
   ]
  },
  {
   "cell_type": "markdown",
   "id": "4fe44657",
   "metadata": {},
   "source": [
    "### 로지스틱 회귀 (Logistic Regression)"
   ]
  },
  {
   "cell_type": "markdown",
   "id": "2173c5ed",
   "metadata": {},
   "source": [
    "- 가장 널리 알려진 선형 분류 알고리즘. \n",
    "-  소프트맥스(softmas) 함수를 사용한 `다중 클래스 분류 알고리즘`\n",
    "- 소프트맥스 회귀(Softmax Regression)라고도 함\n",
    "-  실제로는 `분류`를 수행"
   ]
  },
  {
   "cell_type": "markdown",
   "id": "a3bc7444",
   "metadata": {},
   "source": [
    "<img src = \"img/Logistic Regression.png\">"
   ]
  },
  {
   "cell_type": "markdown",
   "id": "75a67f21",
   "metadata": {},
   "source": [
    "## softmax\n",
    "- 도출된 값들을 0과 1사이의 값으로 정규화 시킴"
   ]
  },
  {
   "cell_type": "markdown",
   "id": "836ad622",
   "metadata": {},
   "source": [
    "<img src = \"img/softmax.png\">"
   ]
  },
  {
   "cell_type": "markdown",
   "id": "e690edbc",
   "metadata": {},
   "source": [
    "<img src = \"img/softmax2.png\" style =\"width:100%;\">"
   ]
  },
  {
   "cell_type": "markdown",
   "id": "b38ee799",
   "metadata": {},
   "source": [
    "### Logistic Regression 모델 사용하기"
   ]
  },
  {
   "cell_type": "code",
   "execution_count": 59,
   "id": "9822e4c4",
   "metadata": {},
   "outputs": [],
   "source": [
    "# LogisticRegression 불러오기\n",
    "from sklearn.linear_model import LogisticRegression"
   ]
  },
  {
   "cell_type": "code",
   "execution_count": 60,
   "id": "c3aa31bb",
   "metadata": {},
   "outputs": [],
   "source": [
    "# 모델을 변수에 할당\n",
    "logistic_model = LogisticRegression()"
   ]
  },
  {
   "cell_type": "code",
   "execution_count": 61,
   "id": "fd4f9ed8",
   "metadata": {},
   "outputs": [
    {
     "name": "stdout",
     "output_type": "stream",
     "text": [
      "classifier\n"
     ]
    }
   ],
   "source": [
    "print(logistic_model._estimator_type)"
   ]
  },
  {
   "cell_type": "markdown",
   "id": "40868a9f",
   "metadata": {},
   "source": [
    "### Q13. Logistic Regression 모델을 학습시고, 결과를 확인해 보세요."
   ]
  },
  {
   "cell_type": "code",
   "execution_count": 62,
   "id": "4d887146",
   "metadata": {},
   "outputs": [
    {
     "data": {
      "text/plain": [
       "LogisticRegression()"
      ]
     },
     "execution_count": 62,
     "metadata": {},
     "output_type": "execute_result"
    }
   ],
   "source": [
    "logistic_model.fit(x_train, y_train)"
   ]
  },
  {
   "cell_type": "code",
   "execution_count": 63,
   "id": "5d4d9418",
   "metadata": {},
   "outputs": [],
   "source": [
    "y_pred = logistic_model.predict(x_test)"
   ]
  },
  {
   "cell_type": "code",
   "execution_count": 64,
   "id": "c8117be8",
   "metadata": {},
   "outputs": [
    {
     "name": "stdout",
     "output_type": "stream",
     "text": [
      "              precision    recall  f1-score   support\n",
      "\n",
      "           0       1.00      1.00      1.00        11\n",
      "           1       1.00      0.83      0.91        12\n",
      "           2       0.78      1.00      0.88         7\n",
      "\n",
      "    accuracy                           0.93        30\n",
      "   macro avg       0.93      0.94      0.93        30\n",
      "weighted avg       0.95      0.93      0.93        30\n",
      "\n"
     ]
    }
   ],
   "source": [
    "print(classification_report(y_test, y_pred))"
   ]
  },
  {
   "cell_type": "markdown",
   "id": "a04f12a5",
   "metadata": {},
   "source": [
    "## 1-8. 내 모델은 얼마나 똑똑한가? 다양하게 평가해 보기 <br/>(1) 정확도에는 함정이 있다\n",
    "<hr/>"
   ]
  },
  {
   "cell_type": "markdown",
   "id": "b26446b9",
   "metadata": {},
   "source": [
    "### 정확도에는 함정이 있다"
   ]
  },
  {
   "cell_type": "code",
   "execution_count": 65,
   "id": "9d7f9ef9",
   "metadata": {},
   "outputs": [],
   "source": [
    "# 손글씨 데이터 셋 불러오기\n",
    "from sklearn.datasets import load_digits"
   ]
  },
  {
   "cell_type": "code",
   "execution_count": 66,
   "id": "ddf3b84f",
   "metadata": {},
   "outputs": [],
   "source": [
    "digits = load_digits()"
   ]
  },
  {
   "cell_type": "code",
   "execution_count": 67,
   "id": "83d04f43",
   "metadata": {},
   "outputs": [
    {
     "data": {
      "text/plain": [
       "dict_keys(['data', 'target', 'frame', 'feature_names', 'target_names', 'images', 'DESCR'])"
      ]
     },
     "execution_count": 67,
     "metadata": {},
     "output_type": "execute_result"
    }
   ],
   "source": [
    "digits.keys()"
   ]
  },
  {
   "cell_type": "code",
   "execution_count": 68,
   "id": "9beab0df",
   "metadata": {},
   "outputs": [
    {
     "data": {
      "text/plain": [
       "(1797, 64)"
      ]
     },
     "execution_count": 68,
     "metadata": {},
     "output_type": "execute_result"
    }
   ],
   "source": [
    "# 데이터 확인하기\n",
    "digits_data = digits.data\n",
    "digits_data.shape"
   ]
  },
  {
   "cell_type": "code",
   "execution_count": 69,
   "id": "5445e728",
   "metadata": {},
   "outputs": [
    {
     "data": {
      "text/plain": [
       "array([ 0.,  0.,  5., 13.,  9.,  1.,  0.,  0.,  0.,  0., 13., 15., 10.,\n",
       "       15.,  5.,  0.,  0.,  3., 15.,  2.,  0., 11.,  8.,  0.,  0.,  4.,\n",
       "       12.,  0.,  0.,  8.,  8.,  0.,  0.,  5.,  8.,  0.,  0.,  9.,  8.,\n",
       "        0.,  0.,  4., 11.,  0.,  1., 12.,  7.,  0.,  0.,  2., 14.,  5.,\n",
       "       10., 12.,  0.,  0.,  0.,  0.,  6., 13., 10.,  0.,  0.,  0.])"
      ]
     },
     "execution_count": 69,
     "metadata": {},
     "output_type": "execute_result"
    }
   ],
   "source": [
    "digits_data[0]"
   ]
  },
  {
   "cell_type": "markdown",
   "id": "bc20ed45",
   "metadata": {},
   "source": [
    "= digits_data[0]의 array안의 각 숫자는 이미지의 `픽셀값`을 의미함."
   ]
  },
  {
   "cell_type": "code",
   "execution_count": 70,
   "id": "22e33ca1",
   "metadata": {},
   "outputs": [],
   "source": [
    "# maplotlib 불러오기\n",
    "import matplotlib.pyplot as plt"
   ]
  },
  {
   "cell_type": "code",
   "execution_count": 74,
   "id": "602fa6ec",
   "metadata": {},
   "outputs": [],
   "source": [
    "# notebook을 실행한 브라우저에서 바로 그림을 볼 수 있게 해주는 것\n",
    "%matplotlib inline"
   ]
  },
  {
   "cell_type": "code",
   "execution_count": 101,
   "id": "1d2a3f69",
   "metadata": {},
   "outputs": [
    {
     "data": {
      "image/png": "[encoded data removed]",
      "text/plain": [
       "<Figure size 432x288 with 1 Axes>"
      ]
     },
     "metadata": {
      "needs_background": "light"
     },
     "output_type": "display_data"
    }
   ],
   "source": [
    "plt.imshow(digits.data[0].reshape(8, 8), cmap = 'gray')\n",
    "# plt.axis('off')\n",
    "plt.show()"
   ]
  },
  {
   "cell_type": "code",
   "execution_count": 75,
   "id": "29c7cf55",
   "metadata": {},
   "outputs": [
    {
     "data": {
      "image/png": "[encoded data removed]",
      "text/plain": [
       "<Figure size 432x288 with 10 Axes>"
      ]
     },
     "metadata": {
      "needs_background": "light"
     },
     "output_type": "display_data"
    }
   ],
   "source": [
    "# 여러개의 이미지 한번에 확인하기\n",
    "for i in range(10):\n",
    "    plt.subplot(2, 5, i + 1)\n",
    "    plt.imshow(digits.data[i].reshape(8, 8), cmap = 'gray')\n",
    "    plt.axis('off')\n",
    "plt.show()"
   ]
  },
  {
   "cell_type": "code",
   "execution_count": 76,
   "id": "d028913d",
   "metadata": {},
   "outputs": [],
   "source": [
    "digits_label = digits.target"
   ]
  },
  {
   "cell_type": "code",
   "execution_count": 77,
   "id": "3d8b10b1",
   "metadata": {},
   "outputs": [
    {
     "name": "stdout",
     "output_type": "stream",
     "text": [
      "(1797,)\n"
     ]
    }
   ],
   "source": [
    "print(digits_label.shape)"
   ]
  },
  {
   "cell_type": "code",
   "execution_count": 79,
   "id": "46995440",
   "metadata": {},
   "outputs": [
    {
     "data": {
      "text/plain": [
       "array([0, 1, 2, 3, 4, 5, 6, 7, 8, 9, 0, 1, 2, 3, 4, 5, 6, 7, 8, 9])"
      ]
     },
     "execution_count": 79,
     "metadata": {},
     "output_type": "execute_result"
    }
   ],
   "source": [
    "digits_label[:20]"
   ]
  },
  {
   "cell_type": "markdown",
   "id": "9d86b69d",
   "metadata": {},
   "source": [
    "###  해당 이미지 데이터가 3인지 아닌지를 맞히는 모델 생성해보기\n",
    "- target인 digits_label을 아래와 같이 살짝 변형하여 분류가 아닌 `예측`을 하는 모델을 생성하자"
   ]
  },
  {
   "cell_type": "code",
   "execution_count": 81,
   "id": "8a4dc43a",
   "metadata": {},
   "outputs": [
    {
     "data": {
      "text/plain": [
       "[0, 0, 0, 3, 0, 0, 0, 0, 0, 0, 0, 0, 0, 3, 0, 0, 0, 0, 0, 0]"
      ]
     },
     "execution_count": 81,
     "metadata": {},
     "output_type": "execute_result"
    }
   ],
   "source": [
    "new_label = [3 if i == 3 else 0 for i in digits_label]\n",
    "new_label[:20]"
   ]
  },
  {
   "cell_type": "markdown",
   "id": "26fb261d",
   "metadata": {},
   "source": [
    "= 숫자가 3이면 그래도 3을, 아니면 0을 출력하는 new_label을 생성함"
   ]
  },
  {
   "cell_type": "markdown",
   "id": "933076ae",
   "metadata": {},
   "source": [
    "### 직접 모델 학습시키기"
   ]
  },
  {
   "cell_type": "code",
   "execution_count": 1,
   "id": "ac43c5ed",
   "metadata": {},
   "outputs": [],
   "source": [
    "# import\n",
    "from sklearn.datasets import load_digits\n",
    "from sklearn.tree import DecisionTreeClassifier\n",
    "from sklearn.model_selection import train_test_split\n",
    "from sklearn.metrics import classification_report\n",
    "\n",
    "from sklearn.metrics import accuracy_score\n",
    "import numpy as np"
   ]
  },
  {
   "cell_type": "code",
   "execution_count": 2,
   "id": "f38d7d8d",
   "metadata": {},
   "outputs": [],
   "source": [
    "# 모델을 변수에 할당\n",
    "decision_tree = DecisionTreeClassifier(random_state = 15)"
   ]
  },
  {
   "cell_type": "code",
   "execution_count": 3,
   "id": "123adeea",
   "metadata": {},
   "outputs": [],
   "source": [
    "digits = load_digits()"
   ]
  },
  {
   "cell_type": "code",
   "execution_count": 4,
   "id": "06b77352",
   "metadata": {},
   "outputs": [
    {
     "data": {
      "text/plain": [
       "dict_keys(['data', 'target', 'frame', 'feature_names', 'target_names', 'images', 'DESCR'])"
      ]
     },
     "execution_count": 4,
     "metadata": {},
     "output_type": "execute_result"
    }
   ],
   "source": [
    "# 키 확인하기\n",
    "digits.keys()"
   ]
  },
  {
   "cell_type": "code",
   "execution_count": 5,
   "id": "f2fdf2bd",
   "metadata": {},
   "outputs": [],
   "source": [
    "digits_data = digits.data"
   ]
  },
  {
   "cell_type": "code",
   "execution_count": 6,
   "id": "ec15f765",
   "metadata": {},
   "outputs": [
    {
     "data": {
      "text/plain": [
       "(1797, 64)"
      ]
     },
     "execution_count": 6,
     "metadata": {},
     "output_type": "execute_result"
    }
   ],
   "source": [
    "digits_data.shape"
   ]
  },
  {
   "cell_type": "code",
   "execution_count": 7,
   "id": "b32660dc",
   "metadata": {},
   "outputs": [],
   "source": [
    "digits_label = digits.target"
   ]
  },
  {
   "cell_type": "code",
   "execution_count": 8,
   "id": "cc77046a",
   "metadata": {},
   "outputs": [
    {
     "data": {
      "text/plain": [
       "(1797,)"
      ]
     },
     "execution_count": 8,
     "metadata": {},
     "output_type": "execute_result"
    }
   ],
   "source": [
    "digits_label.shape"
   ]
  },
  {
   "cell_type": "code",
   "execution_count": 9,
   "id": "459fa48a",
   "metadata": {},
   "outputs": [
    {
     "data": {
      "text/plain": [
       "[0, 0, 0, 3, 0, 0, 0, 0, 0, 0, 0, 0, 0, 3, 0, 0, 0, 0, 0, 0]"
      ]
     },
     "execution_count": 9,
     "metadata": {},
     "output_type": "execute_result"
    }
   ],
   "source": [
    "new_label = [3 if i == 3 else 0 for i in digits_label]\n",
    "new_label[:20]"
   ]
  },
  {
   "cell_type": "code",
   "execution_count": 14,
   "id": "6fd8d58d",
   "metadata": {},
   "outputs": [],
   "source": [
    "# 훈련 / 테스트 세트 나누기\n",
    "x_train, x_test, y_train, y_test = train_test_split(digits_data, new_label, test_size = 0.2, random_state = 15)"
   ]
  },
  {
   "cell_type": "code",
   "execution_count": 17,
   "id": "48c96fad",
   "metadata": {},
   "outputs": [
    {
     "data": {
      "text/plain": [
       "DecisionTreeClassifier(random_state=15)"
      ]
     },
     "execution_count": 17,
     "metadata": {},
     "output_type": "execute_result"
    }
   ],
   "source": [
    "decision_tree.fit(x_train, y_train)"
   ]
  },
  {
   "cell_type": "code",
   "execution_count": 18,
   "id": "0e458e75",
   "metadata": {},
   "outputs": [],
   "source": [
    "y_pred = decision_tree.predict(x_test)"
   ]
  },
  {
   "cell_type": "code",
   "execution_count": 19,
   "id": "9006d4b0",
   "metadata": {},
   "outputs": [
    {
     "name": "stdout",
     "output_type": "stream",
     "text": [
      "              precision    recall  f1-score   support\n",
      "\n",
      "           0       0.97      0.96      0.97       333\n",
      "           3       0.58      0.67      0.62        27\n",
      "\n",
      "    accuracy                           0.94       360\n",
      "   macro avg       0.78      0.81      0.79       360\n",
      "weighted avg       0.94      0.94      0.94       360\n",
      "\n"
     ]
    }
   ],
   "source": [
    "print(classification_report(y_test, y_pred))"
   ]
  },
  {
   "cell_type": "code",
   "execution_count": 20,
   "id": "e414e573",
   "metadata": {},
   "outputs": [],
   "source": [
    "accuracy = accuracy_score(y_test, y_pred)"
   ]
  },
  {
   "cell_type": "code",
   "execution_count": 21,
   "id": "6412d33a",
   "metadata": {},
   "outputs": [
    {
     "name": "stdout",
     "output_type": "stream",
     "text": [
      "0.9388888888888889\n"
     ]
    }
   ],
   "source": [
    "print(accuracy)"
   ]
  },
  {
   "cell_type": "markdown",
   "id": "2aac1145",
   "metadata": {},
   "source": [
    "### Q14. digits_data와 new_label로 Decision Tree 모델을 학습시키고, 정확도를 확인하기"
   ]
  },
  {
   "cell_type": "code",
   "execution_count": 51,
   "id": "51e27c14",
   "metadata": {},
   "outputs": [
    {
     "data": {
      "text/plain": [
       "0.9388888888888889"
      ]
     },
     "execution_count": 51,
     "metadata": {},
     "output_type": "execute_result"
    }
   ],
   "source": [
    "from sklearn.metrics import accuracy_score\n",
    "from sklearn.model_selection import train_test_split\n",
    "from sklearn.tree import DecisionTreeClassifier\n",
    "\n",
    "X_train, X_test, y_train, y_test = train_test_split(digits_data,\n",
    "                                                    new_label,\n",
    "                                                    test_size=0.2,\n",
    "                                                    random_state=15)\n",
    "\n",
    "decision_tree = DecisionTreeClassifier(random_state=15)\n",
    "decision_tree.fit(X_train, y_train)\n",
    "y_pred = decision_tree.predict(X_test)\n",
    "\n",
    "accuracy = accuracy_score(y_test, y_pred)\n",
    "accuracy"
   ]
  },
  {
   "cell_type": "markdown",
   "id": "9471941f",
   "metadata": {},
   "source": [
    "### 정확도의 함정"
   ]
  },
  {
   "cell_type": "markdown",
   "id": "f4bc43a5",
   "metadata": {},
   "source": [
    "정답 데이터인 label은 0이 매우 많고 3은 적은 불균형 데이터가 되었습니다. 9개의 숫자들은 label이 모두 0이 되었고, 3만 3으로 남아있었으니 대략 90%의 label이 모두 0이라는 이야기가 되죠."
   ]
  },
  {
   "cell_type": "markdown",
   "id": "ededfbc1",
   "metadata": {},
   "source": [
    "바로 모델이 전혀 학습하지 않고 **정답을 모두 0으로만 선택해도 정확도가 90%가량이 나오게 된다는 것**입니다. 실제로 확인해 보죠."
   ]
  },
  {
   "cell_type": "code",
   "execution_count": 22,
   "id": "bc5040f8",
   "metadata": {},
   "outputs": [],
   "source": [
    "fake_pred = [0] * len(y_pred)\n",
    "\n",
    "accuracy = accuracy_score(y_test, fake_pred)"
   ]
  },
  {
   "cell_type": "code",
   "execution_count": 23,
   "id": "650c5cdb",
   "metadata": {},
   "outputs": [
    {
     "data": {
      "text/plain": [
       "0.925"
      ]
     },
     "execution_count": 23,
     "metadata": {},
     "output_type": "execute_result"
    }
   ],
   "source": [
    "accuracy"
   ]
  },
  {
   "cell_type": "markdown",
   "id": "152c823b",
   "metadata": {},
   "source": [
    "<p style=\"color: blue;\">모델을 사용하지 않고 target 리스트의 값을 0으로만 설정했는데, 정확도가 92.5%가 나옴</p>\n",
    "\n",
    "이러한 문제는 **불균형한 데이터, unbalanced 데이터** 에서 자주 발생할 수 있습니다."
   ]
  },
  {
   "cell_type": "markdown",
   "id": "0105558c",
   "metadata": {},
   "source": [
    "## 1-9. 내 모델은 얼마나 똑똑한가? 다양하게 평가해 보기<br/>(2) 정답과 오답에도 종류가 있다!\n",
    "<hr/>"
   ]
  },
  {
   "cell_type": "markdown",
   "id": "a5127f2d",
   "metadata": {},
   "source": [
    "### 오차 행렬(confusion matrix)"
   ]
  },
  {
   "cell_type": "markdown",
   "id": "5d0f0b3d",
   "metadata": {},
   "source": [
    "- 정답과 오답을 구분하여 표현하는 방법을 뜻한다."
   ]
  },
  {
   "cell_type": "markdown",
   "id": "798faba7",
   "metadata": {},
   "source": [
    "### Q15. 오차 행렬에서는 예측 결과를 네 가지로 구분합니다. 각각은 무엇인가요?"
   ]
  },
  {
   "cell_type": "markdown",
   "id": "835abad1",
   "metadata": {},
   "source": [
    "1. True Positive (TP)\n",
    "2. False Negative(FN) \n",
    "3. False positive(FP)\n",
    "4. True Negative(TN)"
   ]
  },
  {
   "cell_type": "code",
   "execution_count": null,
   "id": "aa3b116e",
   "metadata": {},
   "outputs": [],
   "source": [
    "1. Sensitivity( True Positive Rate or Recall)\n",
    "2. Specificity ( True Negative Rate)\n",
    "3. Precision\n",
    "4. Accuracy\n",
    "5. Negative Predictive Value"
   ]
  },
  {
   "cell_type": "markdown",
   "id": "515f5cf4",
   "metadata": {},
   "source": [
    "### 오차 행렬(confusion matrix)이란?"
   ]
  },
  {
   "cell_type": "markdown",
   "id": "2d47af66",
   "metadata": {},
   "source": [
    "다음 그림에서 각 `행`은 `실제 클래스(Actual Class)`를 나타냅니다.  \n",
    "코로나의 예시를 계속 생각해 볼 때, Actual Class가 Positive라면 환자는 실제 코로나바이러스에 감염된 것이죠.  \n",
    "반대로 Actual Class가 Negative라면 환자는 건강합니다."
   ]
  },
  {
   "cell_type": "markdown",
   "id": "9de19bbd",
   "metadata": {},
   "source": [
    "반면 각 `열`은 `예측된 클래스(Predicted Class)`입니다.   \n",
    "Predicted Class가 Positive라면 진단 결과가 양성,    \n",
    "Negative라면 진단 결과가 음성인 것을 말합니다."
   ]
  },
  {
   "cell_type": "markdown",
   "id": "4d48a9e0",
   "metadata": {},
   "source": [
    "####  칸에 나타난 TP, FN, FP, TN의 뜻"
   ]
  },
  {
   "cell_type": "markdown",
   "id": "e21c8884",
   "metadata": {},
   "source": [
    "- TP(True Positive) : 실제 환자에게 양성판정 (참 양성)\n",
    "- FN(False Negative) : 실제 환자에게 음성판정 (거짓 음성)\n",
    "- FP(False Positive) : 건강한 사람에게 양성판정 (거짓 양성)\n",
    "- TN(True Negative) : 건강한 사람에게 음성판정 (참 음성)"
   ]
  },
  {
   "cell_type": "markdown",
   "id": "540037f1",
   "metadata": {},
   "source": [
    "<img src = \"img/confusion matrix.jpg\">"
   ]
  },
  {
   "cell_type": "markdown",
   "id": "01f021a2",
   "metadata": {},
   "source": [
    "P, FN, FP, TN의 수치로 계산되는 성능 지표 중 대표적으로 쓰이는 것은 \n",
    "- 정밀도(Precision)\n",
    "- 재현율(Recall, Sensitivity)\n",
    "- F1 스코어(f1 score) 입니다."
   ]
  },
  {
   "cell_type": "markdown",
   "id": "c8853366",
   "metadata": {},
   "source": [
    "Recal은 위 그림에서 Sensitivity라고 표시된 지표와 같습니다."
   ]
  },
  {
   "cell_type": "markdown",
   "id": "b19177d8",
   "metadata": {},
   "source": [
    "#### Precision과 Recall, F1 score, 정확도(Accuracy)의 수식"
   ]
  },
  {
   "cell_type": "markdown",
   "id": "b071315c",
   "metadata": {},
   "source": [
    "<img src = \"img/수식.png\">"
   ]
  },
  {
   "cell_type": "markdown",
   "id": "215a2a6f",
   "metadata": {},
   "source": [
    "`Precision`과 `Recall`의 분자는 둘 다 `TP`입니다. TP는 맞게 판단한 양성이므로, 이 값은 높을수록 좋습니다. <br/>\n",
    "하지만 분모에는 각각 FP와 FN가 있습니다. 이 값들은 잘못 판단된 것들이므로 `낮을수록 좋습니다`."
   ]
  },
  {
   "cell_type": "markdown",
   "id": "174593c5",
   "metadata": {},
   "source": [
    "<p style=\"color: blue;\">즉, TP는 높고 FP또는 FN이 낮을수록 좋은 예측이므로, Precision과 Recall 값이 클수록 좋습니다.</p>"
   ]
  },
  {
   "cell_type": "markdown",
   "id": "a52c93dd",
   "metadata": {},
   "source": [
    "#### Precision과 Recall의 차이점"
   ]
  },
  {
   "cell_type": "markdown",
   "id": "89d7a694",
   "metadata": {},
   "source": [
    "- `Precision`은 분모에 있는 FP가 낮을수록 커집니다. <br/>Precision이 높아지려면 False Positive, 즉 음성인데 양성으로 판단하는 경우가 적어야 합니다."
   ]
  },
  {
   "cell_type": "markdown",
   "id": "b316da1e",
   "metadata": {},
   "source": [
    "- `Recall`은 분모에 있는 FN이 낮을수록 커집니다.<br/> Recall이 높아지려면 False Negative, 즉 양성인데 음성으로 판단하는 경우가 적어야 합니다."
   ]
  },
  {
   "cell_type": "markdown",
   "id": "20b0b4a8",
   "metadata": {},
   "source": [
    "#### F1 score란?\n",
    "- Recall과 Precision의 조화평균"
   ]
  },
  {
   "cell_type": "markdown",
   "id": "bd55ea3a",
   "metadata": {},
   "source": [
    "#### Accuracy란?\n",
    "- Accuracy는 앞서 설명했듯 전체 데이터 중 올바르게 판단한 데이터 개수의 비율이다."
   ]
  },
  {
   "cell_type": "markdown",
   "id": "ab50696a",
   "metadata": {},
   "source": [
    "### Q17. 전체 메일함에서 스팸 메일을 거르는 모델에게는 Precision이 더 중요할까요, Recall이 더 중요할까요? (스팸 메일을 positive, 정상 메일을 negative로 생각합니다)"
   ]
  },
  {
   "cell_type": "markdown",
   "id": "95fa129d",
   "metadata": {},
   "source": [
    "Precision이 높아지려면 False Positive, 즉 음성인데 양성으로 판단하는 경우가 적어야 합니다.<br/>\n",
    "= 정상메일인데 스팸메일로 판단하는 경우가 적어야 함<br/><br/>\n",
    "\n",
    "Recall이 높아지려면 False Negative, 즉 양성인데 음성으로 판단하는 경우가 적어야 합니다.<br/>\n",
    "= 스팸메일인데 정상 메일로 판단하는 경우가 적어야함<br/><br/>\n",
    "\n",
    "따라서 스팸메일을 정상 메일로 판단하지 않는 것보다, 정상 메일을 스팸 메일로 판단하지 않는 것이 더 중요하므로 Precision이 더 중요하다. "
   ]
  },
  {
   "cell_type": "markdown",
   "id": "3ac713ad",
   "metadata": {},
   "source": [
    "### Q18. 암 환자를 진단하는 모델에게는 Precision, Recall 중 무엇이 더 중요한가요?"
   ]
  },
  {
   "cell_type": "markdown",
   "id": "7bc4fd01",
   "metadata": {},
   "source": [
    "Precision이 높아지려면 False Positive, 즉 음성인데 양성으로 판단하는 경우가 적어야 합니다.<br/>\n",
    "= 정상인데  암 환자로 판단하는 경우가 적어야 함<br/><br/>\n",
    "\n",
    "Recall이 높아지려면 False Negative, 즉 양성인데 음성으로 판단하는 경우가 적어야 합니다.<br/>\n",
    "= 암 환자인데  정상으로 판단하는 경우가 적어야함<br/><br/>\n",
    "\n",
    "따라서, 정상인데 암 환자로 판단하지 않는 것보다 암환자인데 정상으로 판단하지 않는 경우가 더 중요하므로 Recall이 더 중요하다."
   ]
  },
  {
   "cell_type": "markdown",
   "id": "81f8bf79",
   "metadata": {},
   "source": [
    "### 오차 행렬(confusion matrix) 확인하기"
   ]
  },
  {
   "cell_type": "code",
   "execution_count": 1,
   "id": "3951910d",
   "metadata": {},
   "outputs": [],
   "source": [
    "# confusion_matrix  import\n",
    "from sklearn.metrics import confusion_matrix"
   ]
  },
  {
   "cell_type": "code",
   "execution_count": 33,
   "id": "40a85c44",
   "metadata": {},
   "outputs": [
    {
     "data": {
      "text/plain": [
       "array([[320,  13],\n",
       "       [  9,  18]])"
      ]
     },
     "execution_count": 33,
     "metadata": {},
     "output_type": "execute_result"
    }
   ],
   "source": [
    "# 모델이 예측한 손글씨 결과 확인\n",
    "confusion_matrix(y_test, y_pred)"
   ]
  },
  {
   "cell_type": "code",
   "execution_count": 34,
   "id": "0d40d2e3",
   "metadata": {},
   "outputs": [
    {
     "data": {
      "text/plain": [
       "array([[333,   0],\n",
       "       [ 27,   0]])"
      ]
     },
     "execution_count": 34,
     "metadata": {},
     "output_type": "execute_result"
    }
   ],
   "source": [
    "#모든 숫자를 0으로 예측한 fake_pred의 결과 확인\n",
    "confusion_matrix(y_test, fake_pred)"
   ]
  },
  {
   "cell_type": "markdown",
   "id": "cce17555",
   "metadata": {},
   "source": [
    "모든 데이터를 0, 즉 Positive로 예측했고 <br/>Negative로 예측한 것은 없기 때문에 FN과 TN은 둘 다 0입니다."
   ]
  },
  {
   "cell_type": "markdown",
   "id": "be58825b",
   "metadata": {},
   "source": [
    "### 모델이 예측했던 손글씨 결과의 Precision, Recall, F1 score 확인해보기"
   ]
  },
  {
   "cell_type": "markdown",
   "id": "3ede4054",
   "metadata": {},
   "source": [
    "- `sklearn.metrics`의 `classification_report`를 활용하면 각 지표를 한 번에 확인할 수 있습니다."
   ]
  },
  {
   "cell_type": "code",
   "execution_count": 35,
   "id": "6f8d7916",
   "metadata": {},
   "outputs": [],
   "source": [
    "from sklearn.metrics import classification_report"
   ]
  },
  {
   "cell_type": "code",
   "execution_count": 36,
   "id": "6511abb9",
   "metadata": {},
   "outputs": [
    {
     "name": "stdout",
     "output_type": "stream",
     "text": [
      "              precision    recall  f1-score   support\n",
      "\n",
      "           0       0.97      0.96      0.97       333\n",
      "           3       0.58      0.67      0.62        27\n",
      "\n",
      "    accuracy                           0.94       360\n",
      "   macro avg       0.78      0.81      0.79       360\n",
      "weighted avg       0.94      0.94      0.94       360\n",
      "\n"
     ]
    }
   ],
   "source": [
    "print(classification_report(y_test, y_pred))"
   ]
  },
  {
   "cell_type": "markdown",
   "id": "583c6963",
   "metadata": {},
   "source": [
    "0은 개수가 333개로 많기 때문에 precision과 recall에서 모두 0.97, 0.96으로 어렵지 않게 높은 점수를 받았습니다. <br/>반면 3은 27개뿐이기 때문에 모두 맞추기가 어려웠나 봅니다.<br/> precision과 recall은 각각 0.58, 0.67이 나왔군요."
   ]
  },
  {
   "cell_type": "markdown",
   "id": "e8390c22",
   "metadata": {},
   "source": [
    "### fake_pred 결과의 Precision, Recall, F1 score 확인해보기"
   ]
  },
  {
   "cell_type": "code",
   "execution_count": 38,
   "id": "2487b52c",
   "metadata": {},
   "outputs": [
    {
     "name": "stdout",
     "output_type": "stream",
     "text": [
      "              precision    recall  f1-score   support\n",
      "\n",
      "           0       0.93      1.00      0.96       333\n",
      "           3       0.00      0.00      0.00        27\n",
      "\n",
      "    accuracy                           0.93       360\n",
      "   macro avg       0.46      0.50      0.48       360\n",
      "weighted avg       0.86      0.93      0.89       360\n",
      "\n"
     ]
    }
   ],
   "source": [
    "print(classification_report(y_test, fake_pred, zero_division = 0))"
   ]
  },
  {
   "cell_type": "markdown",
   "id": "900090fd",
   "metadata": {},
   "source": [
    "0에 대한 precision과 recall은 0.93, 1로 매우 높지만 3에 대한 precision과 recall은 둘 다 0입니다. <br/>\n",
    "0은 잘 잡아내지만, 3은 단 하나도 맞추지 못했다는 뜻이니까요."
   ]
  },
  {
   "cell_type": "code",
   "execution_count": 40,
   "id": "3858443c",
   "metadata": {},
   "outputs": [
    {
     "data": {
      "text/plain": [
       "(0.9388888888888889, 0.925)"
      ]
     },
     "execution_count": 40,
     "metadata": {},
     "output_type": "execute_result"
    }
   ],
   "source": [
    "accuracy_score(y_test, y_pred), accuracy_score(y_test, fake_pred)"
   ]
  },
  {
   "cell_type": "markdown",
   "id": "7ea4b50f",
   "metadata": {},
   "source": [
    "y_pred와 fake_pred 모두 0.94, 0.925로 큰 차이가 없지만 이제는 알 수 있습니다. <br/>모델의 성능은 정확도만으로 평가하면 안 된다는 것을요!"
   ]
  },
  {
   "cell_type": "markdown",
   "id": "16b88615",
   "metadata": {},
   "source": [
    " label이 불균형하게 분포되어있는 데이터를 다룰 때는 더 조심해야 합니다"
   ]
  },
  {
   "cell_type": "markdown",
   "id": "d6f27915",
   "metadata": {},
   "source": [
    "## 1-10. 데이터가 달라도 문제 없어요!\n",
    "<hr/>"
   ]
  },
  {
   "cell_type": "markdown",
   "id": "4739da80",
   "metadata": {},
   "source": [
    "### Q19. load_wine 데이터는 총 몇 개로 이루어져 있나요?<br/> feature와 label은 각각 무엇을 나타내나요?"
   ]
  },
  {
   "cell_type": "markdown",
   "id": "b32b1e03",
   "metadata": {},
   "source": [
    " load_wine 데이터는 178개의 열과 13개의 행으로 이루어진 데이터이다.\n",
    "\n",
    "feature(특성)은 와인의 종류를 구분할 수 있는 특성을 의미하며 총 13가지가 있다.<br/>\n",
    "alcohol, malic_acid, ash, alcalinity_of_ash, magnesium, total_phenols, \n",
    "flavanoids, nonflavanoid_phenols, proanthocyanins, color_intensity, hue, od280/od315_of_diluted_wines, proline\n",
    "\n",
    "label은 와인의 종류를 뜻한다. \n",
    "총 3가지의 카테고리가 있다(0, 1, 2)\n"
   ]
  },
  {
   "cell_type": "markdown",
   "id": "971fbcbc",
   "metadata": {},
   "source": [
    "### Q20. load_breast_cancer 데이터는 총 몇 개로 이루어져 있나요? feature와 label은 각각 무엇을 나타내나요"
   ]
  },
  {
   "cell_type": "markdown",
   "id": "5b34bf5b",
   "metadata": {},
   "source": [
    "load_breast_cancere 데이터는 569개의 열과 30개의 행으로 이루어진 데이터이다.\n",
    "\n",
    "feature(특성)은 유방암에 대한 정보로 총 30가지가 있다.\n",
    "\n",
    "label은 악성과 양성 2가지이다."
   ]
  }
 ],
 "metadata": {
  "kernelspec": {
   "display_name": "Python 3 (ipykernel)",
   "language": "python",
   "name": "python3"
  },
  "language_info": {
   "codemirror_mode": {
    "name": "ipython",
    "version": 3
   },
   "file_extension": ".py",
   "mimetype": "text/x-python",
   "name": "python",
   "nbconvert_exporter": "python",
   "pygments_lexer": "ipython3",
   "version": "3.9.7"
  }
 },
 "nbformat": 4,
 "nbformat_minor": 5
}
