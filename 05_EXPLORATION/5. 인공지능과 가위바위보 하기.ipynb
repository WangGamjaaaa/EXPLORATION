{
 "cells": [
  {
   "cell_type": "markdown",
   "id": "77b10410",
   "metadata": {},
   "source": [
    "# 목차\n",
    "<hr/>"
   ]
  },
  {
   "cell_type": "markdown",
   "id": "20460ebe",
   "metadata": {},
   "source": [
    "<ol>\n",
    "    <li style = \"margin-bottom:30px; list-style: none;\"><i style = \"font-weight:bold;font-style: normal;\">필요한 모듈 불러오기</i>\n",
    "    <li style = \"margin-bottom:30px; list-style: none;\"><i style = \"font-weight:bold;font-style: normal;\"><span style = \"font-weight:bold;color:#0172d4;\">STEP 1</span> : 데이터 준비하기</i>\n",
    "        <ul style = \"margin-top:10px; list-style:none;\">\n",
    "            <li style = \"margin-bottom:3px;\"><span style = \"font-weight:bold;color:#0172d4;\">1. </span> 데이터 Resize 하기\n",
    "            </li>\n",
    "            <li style = \"margin-bottom:5px;\"><span style = \"font-weight:bold;color:#0172d4;\">2. </span> 데이터 불러오기</li>\n",
    "            <li style = \"margin-bottom:5px;\"><span style = \"font-weight:bold;color:#0172d4;\">3. </span> train_test_split 사용하여 랜덤하게 섞어 데이터셋 만들기</li>\n",
    "            <li style = \"margin-bottom:5px;\"><span style = \"font-weight:bold;color:#0172d4;\">4. </span> 데이터 정규화하기</li>\n",
    "        </ul>\n",
    "    </li><li style = \"margin-bottom:30px; list-style: none;\"><i style = \"font-weight:bold;font-style: normal;\"><span style = \"font-weight:bold;color:#0172d4;\">STEP 2</span> : 딥러닝 네트워크 설계 및 모델 훈련하기</i>\n",
    "        <ul style = \"margin-top:10px; list-style:none;\">\n",
    "            <li style = \"margin-bottom:3px;\"><span style = \"font-weight:bold;color:#0172d4;\">1. </span> 딥러닝 네트워크 설계하기\n",
    "            </li>\n",
    "            <li style = \"margin-bottom:5px;\"><span style = \"font-weight:bold;color:#0172d4;\">2. </span> 모델 훈련하기</li>\n",
    "        </ul>\n",
    "    </li>\n",
    "    <li style = \"margin-bottom:30px; list-style: none;\"><i style = \"font-weight:bold;font-style: normal;\"><span style = \"font-weight:bold;color:#0172d4;\">STEP 3</span> : 테스트용 데이터 예측하기</i>\n",
    "        <ul style = \"margin-top:10px; list-style:none;\">\n",
    "            <li style = \"margin-bottom:3px;\"><span style = \"font-weight:bold;color:#0172d4;\">1. </span> test 데이터 resize하기\n",
    "            </li>\n",
    "            <li style = \"margin-bottom:5px;\"><span style = \"font-weight:bold;color:#0172d4;\">2. </span> test 데이터 불러오기</li>\n",
    "            <li style = \"margin-bottom:5px;\"><span style = \"font-weight:bold;color:#0172d4;\">3. </span> 데이터 정규화하기</li>\n",
    "            <li style = \"margin-bottom:5px;\"><span style = \"font-weight:bold;color:#0172d4;\">4. </span> test 데이터 예측하기</li>\n",
    "        </ul>\n",
    "    </li>\n",
    "    <li style = \"margin-bottom:30px; list-style: none;\"><i style = \"font-weight:bold;font-style: normal;\"><span style = \"font-weight:bold;color:#0172d4;\">STEP 4</span> : 데이터 추가하여 다시 해보기</i>\n",
    "        <ul style = \"margin-top:10px; list-style:none;\">\n",
    "            <li style = \"margin-bottom:3px;\"><span style = \"font-weight:bold;color:#0172d4;\">1. </span> 데이터 다시 불러오기\n",
    "            </li>\n",
    "            <li style = \"margin-bottom:5px;\"><span style = \"font-weight:bold;color:#0172d4;\">2. </span> train_test_split 사용하여 랜덤하게 섞어 데이터셋 만들기</li>\n",
    "            <li style = \"margin-bottom:5px;\"><span style = \"font-weight:bold;color:#0172d4;\">3. </span> 데이터 전처리하기</li>\n",
    "            <li style = \"margin-bottom:5px;\"><span style = \"font-weight:bold;color:#0172d4;\">4. </span> 딥러닝 네트워크 설계 및 모델 훈련하기</li>\n",
    "            <li style = \"margin-bottom:5px;\"><span style = \"font-weight:bold;color:#0172d4;\">5. </span> 테스트 데이터 예측해보기</li>\n",
    "        </ul>\n",
    "    </li>\n",
    "    <li style = \"margin-bottom:30px; list-style: none;\"><i style = \"font-weight:bold;font-style: normal;\"><span style = \"font-weight:bold;color:#0172d4;\">STEP 5</span> : 완전히 새로운 데이터 세트 예측해보기</i>\n",
    "        <ul style = \"margin-top:10px; list-style:none;\">\n",
    "            <li style = \"margin-bottom:3px;\"><span style = \"font-weight:bold;color:#0172d4;\">1. </span> new 데이터 resize하기\n",
    "            </li>\n",
    "            <li style = \"margin-bottom:5px;\"><span style = \"font-weight:bold;color:#0172d4;\">2. </span> new 데이터 불러오기</li>\n",
    "            <li style = \"margin-bottom:5px;\"><span style = \"font-weight:bold;color:#0172d4;\">3. </span> 데이터 정규화하기</li>\n",
    "            <li style = \"margin-bottom:5px;\"><span style = \"font-weight:bold;color:#0172d4;\">3. </span> new 데이터 예측해보기</li>\n",
    "        </ul>\n",
    "    </li>\n",
    "    <li style = \"margin-bottom:30px; list-style: none;\"><i style = \"font-weight:bold;font-style: normal;\">회고</i>\n",
    "</ol>"
   ]
  },
  {
   "cell_type": "markdown",
   "id": "df47d60c",
   "metadata": {},
   "source": [
    "<div style = \"height: 50px;\"><div/>"
   ]
  },
  {
   "cell_type": "markdown",
   "id": "73623ce1",
   "metadata": {},
   "source": [
    "# 필요한 모듈 불러오기"
   ]
  },
  {
   "cell_type": "code",
   "execution_count": 46,
   "id": "577f17b4",
   "metadata": {},
   "outputs": [],
   "source": [
    "import glob\n",
    "import os\n",
    "import random\n",
    "\n",
    "import numpy             as np\n",
    "import matplotlib.pyplot as plt\n",
    "import tensorflow        as tf\n",
    "\n",
    "from PIL                     import Image\n",
    "from sklearn.model_selection import train_test_split, GridSearchCV, RandomizedSearchCV\n",
    "from tensorflow              import keras\n"
   ]
  },
  {
   "cell_type": "markdown",
   "id": "3df08efe",
   "metadata": {},
   "source": [
    "<div style = \"height: 50px;\"><div/>"
   ]
  },
  {
   "cell_type": "markdown",
   "id": "6577e6d9",
   "metadata": {},
   "source": [
    "# <span style = \"font-weight:bold;color:#0172d4;\">STEP 1</span> : 데이터 준비하기"
   ]
  },
  {
   "cell_type": "markdown",
   "id": "7a455732",
   "metadata": {},
   "source": [
    "## 1. 데이터 Resize 하기\n",
    "<hr/>"
   ]
  },
  {
   "cell_type": "code",
   "execution_count": 2,
   "id": "34dba019",
   "metadata": {},
   "outputs": [],
   "source": [
    "# 파일 28x28 사이즈로 변환해주는 함수\n",
    "def resize_images(img_path):\n",
    "    images = glob.glob(img_path + '/*.jpg')\n",
    "    \n",
    "    print(len(images), 'images to be resized.')\n",
    "    \n",
    "    # 파일마다 모두 28x28 사이즈로 바꾸어 저장합니다.\n",
    "    target_size = (28, 28)\n",
    "    \n",
    "    for img in images:\n",
    "        old_img = Image.open(img)\n",
    "        new_img = old_img.resize(target_size, Image.ANTIALIAS)\n",
    "        new_img.save(img, 'JPEG')\n",
    "        \n",
    "    print(len(images), 'images resized.')"
   ]
  },
  {
   "cell_type": "markdown",
   "id": "1dc0a9ba",
   "metadata": {},
   "source": [
    "<div style = \"height: 20px;\"></div>"
   ]
  },
  {
   "cell_type": "markdown",
   "id": "0d788d90",
   "metadata": {},
   "source": [
    "### scissor"
   ]
  },
  {
   "cell_type": "code",
   "execution_count": 3,
   "id": "5fd376c0",
   "metadata": {},
   "outputs": [
    {
     "name": "stdout",
     "output_type": "stream",
     "text": [
      "500 images to be resized.\n",
      "500 images resized.\n",
      "가위 이미지 resize 완료!\n"
     ]
    }
   ],
   "source": [
    "# 가위 이미지가 저장된 디렉토리 아래의 모든 jpg 파일을 읽어들여서 변환\n",
    "image_dir_path = 'data/scissor'\n",
    "resize_images(image_dir_path)\n",
    "\n",
    "print(\"가위 이미지 resize 완료!\")"
   ]
  },
  {
   "cell_type": "markdown",
   "id": "94dfdbc4",
   "metadata": {},
   "source": [
    "<div style = \"height: 20px;\"></div>"
   ]
  },
  {
   "cell_type": "markdown",
   "id": "c95e9fc2",
   "metadata": {},
   "source": [
    "### rock"
   ]
  },
  {
   "cell_type": "code",
   "execution_count": 4,
   "id": "eb5ea7e0",
   "metadata": {},
   "outputs": [
    {
     "name": "stdout",
     "output_type": "stream",
     "text": [
      "500 images to be resized.\n",
      "500 images resized.\n",
      "바위 이미지 resize 완료!\n"
     ]
    }
   ],
   "source": [
    "# 바위 이미지가 저장된 디렉토리 아래의 모든 jpg 파일을 읽어들여서 변환\n",
    "image_dir_path = 'data/rock'\n",
    "resize_images(image_dir_path)\n",
    "\n",
    "print(\"바위 이미지 resize 완료!\")"
   ]
  },
  {
   "cell_type": "markdown",
   "id": "308509c5",
   "metadata": {},
   "source": [
    "<div style = \"height: 20px;\"></div>"
   ]
  },
  {
   "cell_type": "markdown",
   "id": "281bf4ce",
   "metadata": {},
   "source": [
    "### paper"
   ]
  },
  {
   "cell_type": "code",
   "execution_count": 5,
   "id": "d2cc8582",
   "metadata": {},
   "outputs": [
    {
     "name": "stdout",
     "output_type": "stream",
     "text": [
      "500 images to be resized.\n",
      "500 images resized.\n",
      "보 이미지 resize 완료!\n"
     ]
    }
   ],
   "source": [
    "# 보 이미지가 저장된 디렉토리 아래의 모든 jpg 파일을 읽어들여서 변환\n",
    "image_dir_path = 'data/paper'\n",
    "resize_images(image_dir_path)\n",
    "\n",
    "print(\"보 이미지 resize 완료!\")"
   ]
  },
  {
   "cell_type": "markdown",
   "id": "762e96b4",
   "metadata": {},
   "source": [
    "<div style = \"height: 50px;\"><div/>"
   ]
  },
  {
   "cell_type": "markdown",
   "id": "d6c88c9a",
   "metadata": {},
   "source": [
    "## 2. 데이터 불러오기\n",
    "<hr/>"
   ]
  },
  {
   "cell_type": "code",
   "execution_count": 6,
   "id": "73503cfe",
   "metadata": {},
   "outputs": [
    {
     "name": "stdout",
     "output_type": "stream",
     "text": [
      "데이터의 이미지 개수는 1500 입니다.\n",
      "data shape: (1500, 28, 28, 3)\n",
      "target shape: (1500,)\n"
     ]
    }
   ],
   "source": [
    "import numpy as np\n",
    "\n",
    "def load_data(img_path, number_of_data):  # 가위바위보 이미지 개수 총합에 주의하세요.\n",
    "    # 가위 : 0, 바위 : 1, 보 : 2\n",
    "    img_size = 28\n",
    "    color = 3\n",
    "    #이미지 데이터와 라벨(가위 : 0, 바위 : 1, 보 : 2) 데이터를 담을 행렬(matrix) 영역을 생성합니다.\n",
    "    imgs = np.zeros(number_of_data * img_size * img_size * color,dtype = np.int32).reshape(number_of_data,img_size,img_size,color)\n",
    "    labels = np.zeros(number_of_data,dtype = np.int32)\n",
    "\n",
    "    idx = 0\n",
    "    for file in glob.iglob(img_path + '/scissor/*.jpg'):\n",
    "        img = np.array(Image.open(file),dtype = np.int32)\n",
    "        imgs[idx,:,:,:] = img    # 데이터 영역에 이미지 행렬을 복사\n",
    "        labels[idx] = 0   # 가위 : 0\n",
    "        idx = idx + 1\n",
    "\n",
    "    for file in glob.iglob(img_path + '/rock/*.jpg'):\n",
    "        img = np.array(Image.open(file),dtype = np.int32)\n",
    "        imgs[idx,:,:,:] = img    # 데이터 영역에 이미지 행렬을 복사\n",
    "        labels[idx] = 1   # 바위 : 1\n",
    "        idx=idx+1  \n",
    "    \n",
    "    for file in glob.iglob(img_path+'/paper/*.jpg'):\n",
    "        img = np.array(Image.open(file),dtype=np.int32)\n",
    "        imgs[idx,:,:,:]=img    # 데이터 영역에 이미지 행렬을 복사\n",
    "        labels[idx]=2   # 보 : 2\n",
    "        idx=idx+1\n",
    "        \n",
    "    print(\"데이터의 이미지 개수는\", idx,\"입니다.\")\n",
    "    return imgs, labels\n",
    "\n",
    "image_dir_path = 'data'\n",
    "(data, target)=load_data(image_dir_path, 1500)\n",
    "data_norm = data/255.0   # 입력은 0~1 사이의 값으로 정규화\n",
    "\n",
    "print(\"data shape: {}\".format(data.shape))\n",
    "print(\"target shape: {}\".format(target.shape))"
   ]
  },
  {
   "cell_type": "markdown",
   "id": "5179f877",
   "metadata": {},
   "source": [
    "<div style = \"height: 25px;\"></div>"
   ]
  },
  {
   "cell_type": "markdown",
   "id": "82cd7d20",
   "metadata": {},
   "source": [
    "### 확인하기"
   ]
  },
  {
   "cell_type": "code",
   "execution_count": 7,
   "id": "fe37c707",
   "metadata": {},
   "outputs": [
    {
     "data": {
      "text/plain": [
       "<matplotlib.image.AxesImage at 0x7fd5907f4250>"
      ]
     },
     "execution_count": 7,
     "metadata": {},
     "output_type": "execute_result"
    },
    {
     "data": {
      "image/png": "[encoded data removed]",
      "text/plain": [
       "<Figure size 432x288 with 1 Axes>"
      ]
     },
     "metadata": {
      "needs_background": "light"
     },
     "output_type": "display_data"
    }
   ],
   "source": [
    "plt.imshow(data[0])"
   ]
  },
  {
   "cell_type": "code",
   "execution_count": 8,
   "id": "ede3d3a3",
   "metadata": {},
   "outputs": [
    {
     "name": "stdout",
     "output_type": "stream",
     "text": [
      "라벨 :  0\n"
     ]
    }
   ],
   "source": [
    "print('라벨 : ', target[0])"
   ]
  },
  {
   "cell_type": "code",
   "execution_count": 9,
   "id": "022dbd83",
   "metadata": {},
   "outputs": [
    {
     "data": {
      "text/plain": [
       "(1500, 28, 28, 3)"
      ]
     },
     "execution_count": 9,
     "metadata": {},
     "output_type": "execute_result"
    }
   ],
   "source": [
    "data.shape"
   ]
  },
  {
   "cell_type": "code",
   "execution_count": 10,
   "id": "9a99f7bc",
   "metadata": {},
   "outputs": [
    {
     "data": {
      "text/plain": [
       "(1500,)"
      ]
     },
     "execution_count": 10,
     "metadata": {},
     "output_type": "execute_result"
    }
   ],
   "source": [
    "target.shape"
   ]
  },
  {
   "cell_type": "markdown",
   "id": "a8f57ea5",
   "metadata": {},
   "source": [
    "<div style = \"height: 50px;\"></div>"
   ]
  },
  {
   "cell_type": "markdown",
   "id": "a75bbdc9",
   "metadata": {},
   "source": [
    "## 2. train_test_split 사용하여 랜덤하게 섞어 데이터셋 만들기\n",
    "<hr/>"
   ]
  },
  {
   "cell_type": "code",
   "execution_count": 11,
   "id": "1b3eb146",
   "metadata": {},
   "outputs": [],
   "source": [
    "x_train, x_test, y_train, y_test = train_test_split(data, target, test_size = 0.2, random_state = 42)"
   ]
  },
  {
   "cell_type": "markdown",
   "id": "c82c278b",
   "metadata": {},
   "source": [
    "### 확인하기"
   ]
  },
  {
   "cell_type": "code",
   "execution_count": 12,
   "id": "8cc5d7fd",
   "metadata": {},
   "outputs": [
    {
     "name": "stdout",
     "output_type": "stream",
     "text": [
      "(1200, 28, 28, 3)\n",
      "(1200,)\n",
      "(300, 28, 28, 3)\n",
      "(300,)\n"
     ]
    }
   ],
   "source": [
    "print(x_train.shape)\n",
    "print(y_train.shape)\n",
    "print(x_test.shape)\n",
    "print(y_test.shape)"
   ]
  },
  {
   "cell_type": "markdown",
   "id": "72de1e0e",
   "metadata": {},
   "source": [
    "<div style = \"height: 50px;\"></div>"
   ]
  },
  {
   "cell_type": "markdown",
   "id": "d545866d",
   "metadata": {},
   "source": [
    "## 3. 데이터 정규화하기\n",
    "<hr/>"
   ]
  },
  {
   "cell_type": "code",
   "execution_count": 13,
   "id": "1aac6790",
   "metadata": {},
   "outputs": [
    {
     "name": "stdout",
     "output_type": "stream",
     "text": [
      "최솟값 :  0 최댓값 :  255\n"
     ]
    }
   ],
   "source": [
    "print('최솟값 : ', np.min(x_train), '최댓값 : ', np.max(x_train))"
   ]
  },
  {
   "cell_type": "code",
   "execution_count": 14,
   "id": "0a71f90d",
   "metadata": {},
   "outputs": [],
   "source": [
    "# 입력은 0~1 사이의 값으로 정규화\n",
    "x_train_norm, x_test_norm = x_train / 255.0, x_test / 255.0"
   ]
  },
  {
   "cell_type": "code",
   "execution_count": 15,
   "id": "2bff2724",
   "metadata": {},
   "outputs": [
    {
     "name": "stdout",
     "output_type": "stream",
     "text": [
      "최솟값 :  0.0 최댓값 :  1.0\n"
     ]
    }
   ],
   "source": [
    "print('최솟값 : ', np.min(x_train_norm), '최댓값 : ', np.max(x_train_norm))"
   ]
  },
  {
   "cell_type": "markdown",
   "id": "5e06cfed",
   "metadata": {},
   "source": [
    "<div style = \"height: 50px;\"></div>"
   ]
  },
  {
   "cell_type": "markdown",
   "id": "d2c6b5fe",
   "metadata": {},
   "source": [
    "# <span style = \"font-weight:bold;color:#0172d4;\">STEP 2</span> : 딥러닝 네트워크 설계 및 모델 훈련하기"
   ]
  },
  {
   "cell_type": "markdown",
   "id": "c0de2c9b",
   "metadata": {},
   "source": [
    "## 1. 딥러닝 네트워크 설계하기\n",
    "<hr/>"
   ]
  },
  {
   "cell_type": "code",
   "execution_count": 47,
   "id": "058626b7",
   "metadata": {},
   "outputs": [],
   "source": [
    "# 바꿔 볼 수 있는 하이퍼파라미터들\n",
    "n_channel_1 = 16\n",
    "n_channel_2 = 32\n",
    "n_dense = 32\n",
    "n_train_epoch = 30\n",
    "\n",
    "model = keras.models.Sequential()\n",
    "model.add(keras.layers.Conv2D(n_channel_1, (3, 3), activation = 'relu', input_shape = (28, 28, 3)))\n",
    "model.add(keras.layers.MaxPool2D(2, 2))\n",
    "model.add(keras.layers.Conv2D(n_channel_2, (3, 3), activation = 'relu'))\n",
    "model.add(keras.layers.MaxPooling2D(2, 2))\n",
    "model.add(keras.layers.Flatten())\n",
    "model.add(keras.layers.Dense(n_dense, activation = 'relu'))\n",
    "model.add(keras.layers.Dense(3, activation = 'softmax'))"
   ]
  },
  {
   "cell_type": "code",
   "execution_count": 17,
   "id": "6954afb1",
   "metadata": {},
   "outputs": [
    {
     "name": "stdout",
     "output_type": "stream",
     "text": [
      "Model: \"sequential\"\n",
      "_________________________________________________________________\n",
      " Layer (type)                Output Shape              Param #   \n",
      "=================================================================\n",
      " conv2d (Conv2D)             (None, 26, 26, 16)        448       \n",
      "                                                                 \n",
      " max_pooling2d (MaxPooling2D  (None, 13, 13, 16)       0         \n",
      " )                                                               \n",
      "                                                                 \n",
      " conv2d_1 (Conv2D)           (None, 11, 11, 32)        4640      \n",
      "                                                                 \n",
      " max_pooling2d_1 (MaxPooling  (None, 5, 5, 32)         0         \n",
      " 2D)                                                             \n",
      "                                                                 \n",
      " flatten (Flatten)           (None, 800)               0         \n",
      "                                                                 \n",
      " dense (Dense)               (None, 32)                25632     \n",
      "                                                                 \n",
      " dense_1 (Dense)             (None, 3)                 99        \n",
      "                                                                 \n",
      "=================================================================\n",
      "Total params: 30,819\n",
      "Trainable params: 30,819\n",
      "Non-trainable params: 0\n",
      "_________________________________________________________________\n"
     ]
    }
   ],
   "source": [
    "model.summary()\n",
    "model.compile(optimizer = 'adam',\n",
    "             loss = 'sparse_categorical_crossentropy',\n",
    "             metrics = ['accuracy'])"
   ]
  },
  {
   "cell_type": "markdown",
   "id": "64a72afe",
   "metadata": {},
   "source": [
    "<div style = \"height: 50px;\"></div>"
   ]
  },
  {
   "cell_type": "markdown",
   "id": "92ac6a10",
   "metadata": {},
   "source": [
    "## 2. 모델 훈련하기\n",
    "<hr/>"
   ]
  },
  {
   "cell_type": "code",
   "execution_count": 18,
   "id": "e977b393",
   "metadata": {
    "scrolled": true
   },
   "outputs": [
    {
     "name": "stdout",
     "output_type": "stream",
     "text": [
      "Epoch 1/30\n",
      "38/38 [==============================] - 1s 8ms/step - loss: 1.0897 - accuracy: 0.3908 - val_loss: 1.0620 - val_accuracy: 0.5100\n",
      "Epoch 2/30\n",
      "38/38 [==============================] - 0s 5ms/step - loss: 0.9892 - accuracy: 0.5958 - val_loss: 0.9526 - val_accuracy: 0.4900\n",
      "Epoch 3/30\n",
      "38/38 [==============================] - 0s 5ms/step - loss: 0.7862 - accuracy: 0.6858 - val_loss: 0.7125 - val_accuracy: 0.6900\n",
      "Epoch 4/30\n",
      "38/38 [==============================] - 0s 5ms/step - loss: 0.6305 - accuracy: 0.7483 - val_loss: 0.5598 - val_accuracy: 0.7700\n",
      "Epoch 5/30\n",
      "38/38 [==============================] - 0s 5ms/step - loss: 0.4823 - accuracy: 0.8067 - val_loss: 0.4641 - val_accuracy: 0.8167\n",
      "Epoch 6/30\n",
      "38/38 [==============================] - 0s 5ms/step - loss: 0.3899 - accuracy: 0.8567 - val_loss: 0.4285 - val_accuracy: 0.8033\n",
      "Epoch 7/30\n",
      "38/38 [==============================] - 0s 5ms/step - loss: 0.3492 - accuracy: 0.8708 - val_loss: 0.3277 - val_accuracy: 0.8767\n",
      "Epoch 8/30\n",
      "38/38 [==============================] - 0s 5ms/step - loss: 0.2855 - accuracy: 0.8917 - val_loss: 0.2746 - val_accuracy: 0.9033\n",
      "Epoch 9/30\n",
      "38/38 [==============================] - 0s 5ms/step - loss: 0.2290 - accuracy: 0.9175 - val_loss: 0.2274 - val_accuracy: 0.9233\n",
      "Epoch 10/30\n",
      "38/38 [==============================] - 0s 5ms/step - loss: 0.2000 - accuracy: 0.9217 - val_loss: 0.2168 - val_accuracy: 0.9267\n",
      "Epoch 11/30\n",
      "38/38 [==============================] - 0s 5ms/step - loss: 0.1848 - accuracy: 0.9342 - val_loss: 0.1800 - val_accuracy: 0.9467\n",
      "Epoch 12/30\n",
      "38/38 [==============================] - 0s 5ms/step - loss: 0.1701 - accuracy: 0.9292 - val_loss: 0.1766 - val_accuracy: 0.9433\n",
      "Epoch 13/30\n",
      "38/38 [==============================] - 0s 5ms/step - loss: 0.1476 - accuracy: 0.9583 - val_loss: 0.1374 - val_accuracy: 0.9633\n",
      "Epoch 14/30\n",
      "38/38 [==============================] - 0s 5ms/step - loss: 0.1285 - accuracy: 0.9558 - val_loss: 0.1221 - val_accuracy: 0.9633\n",
      "Epoch 15/30\n",
      "38/38 [==============================] - 0s 5ms/step - loss: 0.1088 - accuracy: 0.9700 - val_loss: 0.0986 - val_accuracy: 0.9767\n",
      "Epoch 16/30\n",
      "38/38 [==============================] - 0s 5ms/step - loss: 0.0866 - accuracy: 0.9817 - val_loss: 0.0847 - val_accuracy: 0.9767\n",
      "Epoch 17/30\n",
      "38/38 [==============================] - 0s 5ms/step - loss: 0.0838 - accuracy: 0.9742 - val_loss: 0.0841 - val_accuracy: 0.9733\n",
      "Epoch 18/30\n",
      "38/38 [==============================] - 0s 5ms/step - loss: 0.0718 - accuracy: 0.9850 - val_loss: 0.0897 - val_accuracy: 0.9700\n",
      "Epoch 19/30\n",
      "38/38 [==============================] - 0s 5ms/step - loss: 0.0757 - accuracy: 0.9750 - val_loss: 0.0588 - val_accuracy: 0.9867\n",
      "Epoch 20/30\n",
      "38/38 [==============================] - 0s 5ms/step - loss: 0.0608 - accuracy: 0.9817 - val_loss: 0.0567 - val_accuracy: 0.9867\n",
      "Epoch 21/30\n",
      "38/38 [==============================] - 0s 5ms/step - loss: 0.0489 - accuracy: 0.9933 - val_loss: 0.0477 - val_accuracy: 0.9867\n",
      "Epoch 22/30\n",
      "38/38 [==============================] - 0s 5ms/step - loss: 0.0431 - accuracy: 0.9925 - val_loss: 0.0439 - val_accuracy: 0.9900\n",
      "Epoch 23/30\n",
      "38/38 [==============================] - 0s 5ms/step - loss: 0.0391 - accuracy: 0.9942 - val_loss: 0.0370 - val_accuracy: 0.9933\n",
      "Epoch 24/30\n",
      "38/38 [==============================] - 0s 5ms/step - loss: 0.0400 - accuracy: 0.9917 - val_loss: 0.0330 - val_accuracy: 1.0000\n",
      "Epoch 25/30\n",
      "38/38 [==============================] - 0s 5ms/step - loss: 0.0307 - accuracy: 0.9950 - val_loss: 0.0334 - val_accuracy: 0.9967\n",
      "Epoch 26/30\n",
      "38/38 [==============================] - 0s 5ms/step - loss: 0.0266 - accuracy: 0.9975 - val_loss: 0.0261 - val_accuracy: 1.0000\n",
      "Epoch 27/30\n",
      "38/38 [==============================] - 0s 5ms/step - loss: 0.0237 - accuracy: 0.9975 - val_loss: 0.0301 - val_accuracy: 0.9933\n",
      "Epoch 28/30\n",
      "38/38 [==============================] - 0s 5ms/step - loss: 0.0212 - accuracy: 0.9975 - val_loss: 0.0280 - val_accuracy: 1.0000\n",
      "Epoch 29/30\n",
      "38/38 [==============================] - 0s 4ms/step - loss: 0.0196 - accuracy: 0.9983 - val_loss: 0.0197 - val_accuracy: 0.9967\n",
      "Epoch 30/30\n",
      "38/38 [==============================] - 0s 5ms/step - loss: 0.0179 - accuracy: 0.9983 - val_loss: 0.0172 - val_accuracy: 1.0000\n"
     ]
    }
   ],
   "source": [
    "history = model.fit(x_train_norm, \n",
    "                    y_train,\n",
    "                    epochs = n_train_epoch,\n",
    "                    validation_data = (x_test_norm, y_test))"
   ]
  },
  {
   "cell_type": "markdown",
   "id": "f6d95b76",
   "metadata": {},
   "source": [
    "<div style = \"height: 25px;\"></div>"
   ]
  },
  {
   "cell_type": "markdown",
   "id": "ea364ce8",
   "metadata": {},
   "source": [
    "### 그래프 출력해보기"
   ]
  },
  {
   "cell_type": "code",
   "execution_count": 21,
   "id": "6c8c8b4c",
   "metadata": {},
   "outputs": [
    {
     "data": {
      "image/png": "[encoded data removed]",
      "text/plain": [
       "<Figure size 432x288 with 1 Axes>"
      ]
     },
     "metadata": {
      "needs_background": "light"
     },
     "output_type": "display_data"
    }
   ],
   "source": [
    "# 에포크에 따른 정확도를 그래프로 나타내보기\n",
    "plt.plot(history.epoch, history.history[\"accuracy\"])\n",
    "plt.plot(history.epoch, history.history[\"val_accuracy\"])\n",
    "plt.show()"
   ]
  },
  {
   "cell_type": "markdown",
   "id": "82903430",
   "metadata": {},
   "source": [
    "<p style= \"font-size:15px; line-height:24px;\">결과를 출력해본 결과, 정확도가 100이 나왔다. 그렇다는 뜻은 모델이 과적합(overfitting)일 수도 있으므로, 테스트용 데이터를 예측해보고 확인할 것이다.</p>\n",
    "\n",
    "> <ul>\n",
    "    <li style = \"margin-bottom:3px;\"><span style = \"font-weight:bold;color:#0172d4;\">훈련 데이터</span> : loss: 5.2633e-04 - accuracy: 1.0000 </li>\n",
    "    <li style = \"margin-bottom:3px;\"><span style = \"font-weight:bold;color:#0172d4;\">검증 데이터</span> : val_loss: 0.0022 - val_accuracy: 1.0000</li>\n",
    "</ul>"
   ]
  },
  {
   "cell_type": "markdown",
   "id": "866a201a",
   "metadata": {},
   "source": [
    "<div style = \"height: 50px;\"></div>"
   ]
  },
  {
   "cell_type": "markdown",
   "id": "c361f90f",
   "metadata": {},
   "source": [
    "# <span style = \"font-weight:bold;color:#0172d4;\">STEP 3</span> : 테스트용 데이터 예측하기"
   ]
  },
  {
   "cell_type": "markdown",
   "id": "a4d0b4ab",
   "metadata": {},
   "source": [
    "## 1. test 데이터 resize하기\n",
    "<hr/>"
   ]
  },
  {
   "cell_type": "code",
   "execution_count": 22,
   "id": "fb66825f",
   "metadata": {},
   "outputs": [
    {
     "name": "stdout",
     "output_type": "stream",
     "text": [
      "152 images to be resized.\n",
      "152 images resized.\n",
      "가위 이미지 resize 완료!\n"
     ]
    }
   ],
   "source": [
    "# 가위 이미지가 저장된 디렉토리 아래의 모든 jpg 파일을 읽어들여서 변환\n",
    "image_dir_path = 'data/test/scissor'\n",
    "resize_images(image_dir_path)\n",
    "\n",
    "print(\"가위 이미지 resize 완료!\")"
   ]
  },
  {
   "cell_type": "code",
   "execution_count": 23,
   "id": "aa6e67c2",
   "metadata": {},
   "outputs": [
    {
     "name": "stdout",
     "output_type": "stream",
     "text": [
      "134 images to be resized.\n",
      "134 images resized.\n",
      "바위 이미지 resize 완료!\n"
     ]
    }
   ],
   "source": [
    "# 바위 이미지가 저장된 디렉토리 아래의 모든 jpg 파일을 읽어들여서 변환\n",
    "image_dir_path = 'data/test/rock'\n",
    "resize_images(image_dir_path)\n",
    "\n",
    "print(\"바위 이미지 resize 완료!\")"
   ]
  },
  {
   "cell_type": "code",
   "execution_count": 24,
   "id": "63eeca5a",
   "metadata": {},
   "outputs": [
    {
     "name": "stdout",
     "output_type": "stream",
     "text": [
      "90 images to be resized.\n",
      "90 images resized.\n",
      "보 이미지 resize 완료!\n"
     ]
    }
   ],
   "source": [
    "# 보 이미지가 저장된 디렉토리 아래의 모든 jpg 파일을 읽어들여서 변환\n",
    "image_dir_path = 'data/test/paper'\n",
    "resize_images(image_dir_path)\n",
    "\n",
    "print(\"보 이미지 resize 완료!\")"
   ]
  },
  {
   "cell_type": "markdown",
   "id": "e9478b71",
   "metadata": {},
   "source": [
    "<div style = \"height: 50px;\"></div>"
   ]
  },
  {
   "cell_type": "markdown",
   "id": "51e64f4f",
   "metadata": {},
   "source": [
    "## 2. test 데이터 불러오기\n",
    "<hr/>"
   ]
  },
  {
   "cell_type": "code",
   "execution_count": 25,
   "id": "d5ef5d86",
   "metadata": {},
   "outputs": [
    {
     "name": "stdout",
     "output_type": "stream",
     "text": [
      "데이터의 이미지 개수는 376 입니다.\n",
      "x_test shape: (376, 28, 28, 3)\n",
      "y_test shape: (376,)\n"
     ]
    }
   ],
   "source": [
    "image_dir_path = 'data/test'\n",
    "x_test, y_test = load_data(image_dir_path, 376)\n",
    "\n",
    "print(\"x_test shape: {}\".format(x_test.shape))\n",
    "print(\"y_test shape: {}\".format(y_test.shape))"
   ]
  },
  {
   "cell_type": "markdown",
   "id": "aba87326",
   "metadata": {},
   "source": [
    "<div style = \"height: 50px;\"></div>"
   ]
  },
  {
   "cell_type": "markdown",
   "id": "a9238f64",
   "metadata": {},
   "source": [
    "## 3. 데이터 정규화하기\n",
    "<hr/>"
   ]
  },
  {
   "cell_type": "code",
   "execution_count": 26,
   "id": "88453250",
   "metadata": {},
   "outputs": [],
   "source": [
    "# 입력은 0~1 사이의 값으로 정규화\n",
    "x_test_norm = x_test / 255.0   "
   ]
  },
  {
   "cell_type": "markdown",
   "id": "55f06a9a",
   "metadata": {},
   "source": [
    "<div style = \"height: 50px;\"></div>"
   ]
  },
  {
   "cell_type": "markdown",
   "id": "f4c932a6",
   "metadata": {},
   "source": [
    "## 4. test 데이터 예측하기\n",
    "<hr/>"
   ]
  },
  {
   "cell_type": "code",
   "execution_count": 27,
   "id": "300d6198",
   "metadata": {},
   "outputs": [
    {
     "name": "stdout",
     "output_type": "stream",
     "text": [
      "12/12 - 0s - loss: 3.6746 - accuracy: 0.5186 - 29ms/epoch - 2ms/step\n",
      "test_loss : 3.6745734214782715\n",
      "test_accuracy : 0.5186170339584351\n"
     ]
    }
   ],
   "source": [
    "test_loss, test_accuracy = model.evaluate(x_test_norm, y_test, verbose = 2)\n",
    "print('test_loss : {}'.format(test_loss))\n",
    "print('test_accuracy : {}'.format(test_accuracy))"
   ]
  },
  {
   "cell_type": "markdown",
   "id": "29353c13",
   "metadata": {},
   "source": [
    "<p style= \"font-size:15px; line-height:24px;\"><span style = 'background-color:#fff5b1; padding:0.2px;'>정확도는 약 52%</span>가 나왔다.<br/>\n",
    "과적합 되었다는 예상대로, test의 데이터는 잘 예측하지 못하는 결과가 나왔다.<br/>\n",
    "따라서, 데이터 개수를 늘리고, 파라미터를 조정하여 정확도를 높일 것이다.</p>"
   ]
  },
  {
   "cell_type": "markdown",
   "id": "cd1a00da",
   "metadata": {},
   "source": [
    "<div style = \"height: 50px;\"></div>"
   ]
  },
  {
   "cell_type": "markdown",
   "id": "a8361a2f",
   "metadata": {},
   "source": [
    "# <span style = \"font-weight:bold;color:#0172d4;\">STEP 4</span> : 데이터 추가하여 다시 해보기"
   ]
  },
  {
   "cell_type": "markdown",
   "id": "bde865bd",
   "metadata": {},
   "source": [
    "## 1. 데이터 다시 불러오기\n",
    "<hr/>"
   ]
  },
  {
   "cell_type": "code",
   "execution_count": 28,
   "id": "87edc7c1",
   "metadata": {},
   "outputs": [
    {
     "name": "stdout",
     "output_type": "stream",
     "text": [
      "데이터의 이미지 개수는 3582 입니다.\n",
      "data shape: (3582, 28, 28, 3)\n"
     ]
    }
   ],
   "source": [
    "image_dir_path = 'data2'\n",
    "(data, target) =load_data(image_dir_path, 3582)\n",
    "\n",
    "print(\"data shape: {}\".format(data.shape))"
   ]
  },
  {
   "cell_type": "markdown",
   "id": "3b1b98a2",
   "metadata": {},
   "source": [
    "<div style = \"height: 50px;\"></div>"
   ]
  },
  {
   "cell_type": "markdown",
   "id": "353220e0",
   "metadata": {},
   "source": [
    "## 2. train_test_split 사용하여 랜덤하게 섞어 데이터셋 만들기\n",
    "<hr/>"
   ]
  },
  {
   "cell_type": "code",
   "execution_count": 29,
   "id": "eb39b0aa",
   "metadata": {},
   "outputs": [],
   "source": [
    "x_train, x_test, y_train, y_test = train_test_split(data, target, test_size = 0.2, random_state = 42)"
   ]
  },
  {
   "cell_type": "markdown",
   "id": "3f4b88ec",
   "metadata": {},
   "source": [
    "### 확인하기"
   ]
  },
  {
   "cell_type": "code",
   "execution_count": 30,
   "id": "23f407f7",
   "metadata": {},
   "outputs": [
    {
     "name": "stdout",
     "output_type": "stream",
     "text": [
      "(2865, 28, 28, 3)\n",
      "(2865,)\n",
      "(717, 28, 28, 3)\n",
      "(717,)\n"
     ]
    }
   ],
   "source": [
    "print(x_train.shape)\n",
    "print(y_train.shape)\n",
    "print(x_test.shape)\n",
    "print(y_test.shape)"
   ]
  },
  {
   "cell_type": "markdown",
   "id": "e48d52b2",
   "metadata": {},
   "source": [
    "<div style = \"height: 50px;\"></div>"
   ]
  },
  {
   "cell_type": "markdown",
   "id": "b305b88f",
   "metadata": {},
   "source": [
    "## 3. 데이터 전처리하기\n",
    "<hr/>"
   ]
  },
  {
   "cell_type": "code",
   "execution_count": 31,
   "id": "cd88d6c1",
   "metadata": {},
   "outputs": [],
   "source": [
    "# 입력은 0~1 사이의 값으로 정규화\n",
    "x_train_norm, x_test_norm = x_train / 255.0, x_test / 255.0"
   ]
  },
  {
   "cell_type": "markdown",
   "id": "d3bdd3b9",
   "metadata": {},
   "source": [
    "<div style = \"height: 50px;\"></div>"
   ]
  },
  {
   "cell_type": "markdown",
   "id": "3f8ebc7b",
   "metadata": {},
   "source": [
    "## 4. 딥러닝 네트워크 설계 및 모델 훈련하기\n",
    "<hr/>"
   ]
  },
  {
   "cell_type": "code",
   "execution_count": 32,
   "id": "0350b6af",
   "metadata": {},
   "outputs": [],
   "source": [
    "n_channel_1 = 32\n",
    "n_channel_2 = 64\n",
    "n_dense = 128\n",
    "n_train_epoch = 30\n",
    "\n",
    "model = keras.models.Sequential()\n",
    "model.add(keras.layers.Conv2D(n_channel_1, (3, 3), activation = 'relu', input_shape = (28, 28, 3)))\n",
    "model.add(keras.layers.MaxPool2D(2, 2))\n",
    "model.add(keras.layers.Conv2D(n_channel_2, (3, 3), activation = 'relu'))\n",
    "model.add(keras.layers.MaxPooling2D(2, 2))\n",
    "model.add(keras.layers.Flatten())\n",
    "model.add(keras.layers.Dense(n_dense, activation = 'relu'))\n",
    "model.add(keras.layers.Dense(3, activation = 'softmax'))"
   ]
  },
  {
   "cell_type": "code",
   "execution_count": 33,
   "id": "c41a4adb",
   "metadata": {},
   "outputs": [
    {
     "name": "stdout",
     "output_type": "stream",
     "text": [
      "Model: \"sequential_1\"\n",
      "_________________________________________________________________\n",
      " Layer (type)                Output Shape              Param #   \n",
      "=================================================================\n",
      " conv2d_2 (Conv2D)           (None, 26, 26, 32)        896       \n",
      "                                                                 \n",
      " max_pooling2d_2 (MaxPooling  (None, 13, 13, 32)       0         \n",
      " 2D)                                                             \n",
      "                                                                 \n",
      " conv2d_3 (Conv2D)           (None, 11, 11, 64)        18496     \n",
      "                                                                 \n",
      " max_pooling2d_3 (MaxPooling  (None, 5, 5, 64)         0         \n",
      " 2D)                                                             \n",
      "                                                                 \n",
      " flatten_1 (Flatten)         (None, 1600)              0         \n",
      "                                                                 \n",
      " dense_2 (Dense)             (None, 128)               204928    \n",
      "                                                                 \n",
      " dense_3 (Dense)             (None, 3)                 387       \n",
      "                                                                 \n",
      "=================================================================\n",
      "Total params: 224,707\n",
      "Trainable params: 224,707\n",
      "Non-trainable params: 0\n",
      "_________________________________________________________________\n"
     ]
    }
   ],
   "source": [
    "model.summary()\n",
    "model.compile(optimizer = 'adam',\n",
    "             loss = 'sparse_categorical_crossentropy',\n",
    "             metrics = ['accuracy'])"
   ]
  },
  {
   "cell_type": "code",
   "execution_count": 34,
   "id": "09648ee6",
   "metadata": {
    "scrolled": true
   },
   "outputs": [
    {
     "name": "stdout",
     "output_type": "stream",
     "text": [
      "Epoch 1/30\n",
      "90/90 [==============================] - 1s 6ms/step - loss: 0.9867 - accuracy: 0.5372\n",
      "Epoch 2/30\n",
      "90/90 [==============================] - 1s 6ms/step - loss: 0.5445 - accuracy: 0.7906\n",
      "Epoch 3/30\n",
      "90/90 [==============================] - 1s 6ms/step - loss: 0.3042 - accuracy: 0.8925\n",
      "Epoch 4/30\n",
      "90/90 [==============================] - 1s 7ms/step - loss: 0.1971 - accuracy: 0.9319\n",
      "Epoch 5/30\n",
      "90/90 [==============================] - 1s 7ms/step - loss: 0.1446 - accuracy: 0.9578\n",
      "Epoch 6/30\n",
      "90/90 [==============================] - 1s 8ms/step - loss: 0.1147 - accuracy: 0.9665\n",
      "Epoch 7/30\n",
      "90/90 [==============================] - 1s 8ms/step - loss: 0.0881 - accuracy: 0.9752\n",
      "Epoch 8/30\n",
      "90/90 [==============================] - 1s 7ms/step - loss: 0.0614 - accuracy: 0.9836\n",
      "Epoch 9/30\n",
      "90/90 [==============================] - 1s 7ms/step - loss: 0.0546 - accuracy: 0.9836\n",
      "Epoch 10/30\n",
      "90/90 [==============================] - 1s 7ms/step - loss: 0.0352 - accuracy: 0.9920\n",
      "Epoch 11/30\n",
      "90/90 [==============================] - 1s 7ms/step - loss: 0.0268 - accuracy: 0.9951\n",
      "Epoch 12/30\n",
      "90/90 [==============================] - 1s 6ms/step - loss: 0.0222 - accuracy: 0.9955\n",
      "Epoch 13/30\n",
      "90/90 [==============================] - 1s 6ms/step - loss: 0.0126 - accuracy: 0.9983\n",
      "Epoch 14/30\n",
      "90/90 [==============================] - 1s 7ms/step - loss: 0.0138 - accuracy: 0.9972\n",
      "Epoch 15/30\n",
      "90/90 [==============================] - 1s 6ms/step - loss: 0.0074 - accuracy: 1.0000\n",
      "Epoch 16/30\n",
      "90/90 [==============================] - 1s 6ms/step - loss: 0.0061 - accuracy: 0.9993\n",
      "Epoch 17/30\n",
      "90/90 [==============================] - 1s 6ms/step - loss: 0.0045 - accuracy: 0.9997\n",
      "Epoch 18/30\n",
      "90/90 [==============================] - 1s 7ms/step - loss: 0.0033 - accuracy: 1.0000\n",
      "Epoch 19/30\n",
      "90/90 [==============================] - 1s 6ms/step - loss: 0.0059 - accuracy: 1.0000\n",
      "Epoch 20/30\n",
      "90/90 [==============================] - 1s 7ms/step - loss: 0.0025 - accuracy: 1.0000\n",
      "Epoch 21/30\n",
      "90/90 [==============================] - 1s 6ms/step - loss: 0.0014 - accuracy: 1.0000\n",
      "Epoch 22/30\n",
      "90/90 [==============================] - 1s 6ms/step - loss: 0.0012 - accuracy: 1.0000\n",
      "Epoch 23/30\n",
      "90/90 [==============================] - 1s 6ms/step - loss: 0.0011 - accuracy: 1.0000\n",
      "Epoch 24/30\n",
      "90/90 [==============================] - 1s 6ms/step - loss: 0.0012 - accuracy: 1.0000\n",
      "Epoch 25/30\n",
      "90/90 [==============================] - 1s 6ms/step - loss: 8.0304e-04 - accuracy: 1.0000\n",
      "Epoch 26/30\n",
      "90/90 [==============================] - 1s 6ms/step - loss: 7.3358e-04 - accuracy: 1.0000\n",
      "Epoch 27/30\n",
      "90/90 [==============================] - 1s 6ms/step - loss: 6.0913e-04 - accuracy: 1.0000\n",
      "Epoch 28/30\n",
      "90/90 [==============================] - 1s 6ms/step - loss: 5.6367e-04 - accuracy: 1.0000\n",
      "Epoch 29/30\n",
      "90/90 [==============================] - 1s 6ms/step - loss: 5.0852e-04 - accuracy: 1.0000\n",
      "Epoch 30/30\n",
      "90/90 [==============================] - 1s 6ms/step - loss: 5.0107e-04 - accuracy: 1.0000\n"
     ]
    },
    {
     "data": {
      "text/plain": [
       "<keras.callbacks.History at 0x7fd58037e730>"
      ]
     },
     "execution_count": 34,
     "metadata": {},
     "output_type": "execute_result"
    }
   ],
   "source": [
    "model.fit(x_train_norm, y_train, epochs = n_train_epoch)"
   ]
  },
  {
   "cell_type": "markdown",
   "id": "b949f52b",
   "metadata": {},
   "source": [
    "<div style = \"height: 50px;\"></div>"
   ]
  },
  {
   "cell_type": "markdown",
   "id": "1566af28",
   "metadata": {},
   "source": [
    "## 5. 테스트 데이터 예측해보기\n",
    "<hr/>"
   ]
  },
  {
   "cell_type": "code",
   "execution_count": 35,
   "id": "c61d5d06",
   "metadata": {},
   "outputs": [
    {
     "name": "stdout",
     "output_type": "stream",
     "text": [
      "23/23 - 0s - loss: 0.0554 - accuracy: 0.9833 - 225ms/epoch - 10ms/step\n",
      "test_loss : 0.055437371134757996\n",
      "test_accuracy : 0.9832636117935181\n"
     ]
    }
   ],
   "source": [
    "test_loss, test_accuracy = model.evaluate(x_test_norm, y_test, verbose = 2)\n",
    "print('test_loss : {}'.format(test_loss))\n",
    "print('test_accuracy : {}'.format(test_accuracy))"
   ]
  },
  {
   "cell_type": "markdown",
   "id": "d87ac31a",
   "metadata": {},
   "source": [
    "<p style= \"font-size:15px; line-height:24px;\">다양한 데이터로 다시 모델을 훈련시킨 결과 <span style = 'background-color:#fff5b1; padding:0.2px;'>정확도가 약 98%</span>가 나왔다.<br/>\n",
    "테스트 데이터를 잘 예측하는 것을 확인했으므로, 완전히 새로운 데이터를 주어 예측하고자 한다.</p>"
   ]
  },
  {
   "cell_type": "markdown",
   "id": "7405931a",
   "metadata": {},
   "source": [
    "<div style = \"height: 50px;\"></div>"
   ]
  },
  {
   "cell_type": "markdown",
   "id": "de649ac5",
   "metadata": {},
   "source": [
    "# <span style = \"font-weight:bold;color:#0172d4;\">STEP 5</span> : 완전히 새로운 데이터 세트 예측해보기"
   ]
  },
  {
   "cell_type": "markdown",
   "id": "7927790f",
   "metadata": {},
   "source": [
    "## 1. new 데이터 resize하기\n",
    "<hr/>"
   ]
  },
  {
   "cell_type": "code",
   "execution_count": 36,
   "id": "944f357d",
   "metadata": {},
   "outputs": [
    {
     "name": "stdout",
     "output_type": "stream",
     "text": [
      "123 images to be resized.\n",
      "123 images resized.\n",
      "가위 이미지 resize 완료!\n"
     ]
    }
   ],
   "source": [
    "# 가위 이미지가 저장된 디렉토리 아래의 모든 jpg 파일을 읽어들여서 변환\n",
    "image_dir_path = 'data2/test3/scissor'\n",
    "resize_images(image_dir_path)\n",
    "\n",
    "print(\"가위 이미지 resize 완료!\")"
   ]
  },
  {
   "cell_type": "code",
   "execution_count": 37,
   "id": "35e14e18",
   "metadata": {},
   "outputs": [
    {
     "name": "stdout",
     "output_type": "stream",
     "text": [
      "123 images to be resized.\n",
      "123 images resized.\n",
      "바위 이미지 resize 완료!\n"
     ]
    }
   ],
   "source": [
    "# 바위 이미지가 저장된 디렉토리 아래의 모든 jpg 파일을 읽어들여서 변환\n",
    "image_dir_path = 'data2/test3/rock'\n",
    "resize_images(image_dir_path)\n",
    "\n",
    "print(\"바위 이미지 resize 완료!\")"
   ]
  },
  {
   "cell_type": "code",
   "execution_count": 38,
   "id": "de4da5e6",
   "metadata": {},
   "outputs": [
    {
     "name": "stdout",
     "output_type": "stream",
     "text": [
      "124 images to be resized.\n",
      "124 images resized.\n",
      "보 이미지 resize 완료!\n"
     ]
    }
   ],
   "source": [
    "# 보 이미지가 저장된 디렉토리 아래의 모든 jpg 파일을 읽어들여서 변환\n",
    "image_dir_path = 'data2/test3/paper'\n",
    "resize_images(image_dir_path)\n",
    "\n",
    "print(\"보 이미지 resize 완료!\")"
   ]
  },
  {
   "cell_type": "markdown",
   "id": "4a8bcdef",
   "metadata": {},
   "source": [
    "<div style = \"height: 50px;\"></div>"
   ]
  },
  {
   "cell_type": "markdown",
   "id": "59317b88",
   "metadata": {},
   "source": [
    "## 2. new 데이터 불러오기\n",
    "<hr/>"
   ]
  },
  {
   "cell_type": "code",
   "execution_count": 39,
   "id": "e12fb11a",
   "metadata": {},
   "outputs": [
    {
     "name": "stdout",
     "output_type": "stream",
     "text": [
      "데이터의 이미지 개수는 370 입니다.\n",
      "x_new shape: (1274, 28, 28, 3)\n",
      "y_new shape: (1274,)\n"
     ]
    }
   ],
   "source": [
    "image_dir_path = 'data2/test3'\n",
    "x_new, y_new = load_data(image_dir_path, 1274)\n",
    "\n",
    "print(\"x_new shape: {}\".format(x_new.shape))\n",
    "print(\"y_new shape: {}\".format(y_new.shape))"
   ]
  },
  {
   "cell_type": "markdown",
   "id": "3c3bd497",
   "metadata": {},
   "source": [
    "<div style = \"height: 25px;\"></div>"
   ]
  },
  {
   "cell_type": "markdown",
   "id": "aed8860f",
   "metadata": {},
   "source": [
    "### 확인해보기"
   ]
  },
  {
   "cell_type": "code",
   "execution_count": 40,
   "id": "f7d28848",
   "metadata": {},
   "outputs": [
    {
     "data": {
      "image/png": "[encoded data removed]",
      "text/plain": [
       "<Figure size 432x288 with 1 Axes>"
      ]
     },
     "metadata": {
      "needs_background": "light"
     },
     "output_type": "display_data"
    }
   ],
   "source": [
    "plt.imshow(x_new[0])\n",
    "plt.show()"
   ]
  },
  {
   "cell_type": "code",
   "execution_count": 41,
   "id": "4c236034",
   "metadata": {},
   "outputs": [
    {
     "name": "stdout",
     "output_type": "stream",
     "text": [
      "라벨 :  0\n"
     ]
    }
   ],
   "source": [
    "print('라벨 : ', y_new[0])"
   ]
  },
  {
   "cell_type": "markdown",
   "id": "2f45b4b3",
   "metadata": {},
   "source": [
    "<div style = \"height: 50px;\"></div>"
   ]
  },
  {
   "cell_type": "markdown",
   "id": "ba54d13c",
   "metadata": {},
   "source": [
    "## 3. 데이터 정규화하기\n",
    "<hr/>"
   ]
  },
  {
   "cell_type": "code",
   "execution_count": 42,
   "id": "ef0fc118",
   "metadata": {},
   "outputs": [],
   "source": [
    "x_new_norm = x_new / 255.0   # 입력은 0~1 사이의 값으로 정규화"
   ]
  },
  {
   "cell_type": "markdown",
   "id": "c48dfb22",
   "metadata": {},
   "source": [
    "<div style = \"height: 50px;\"></div>"
   ]
  },
  {
   "cell_type": "markdown",
   "id": "dfb5862f",
   "metadata": {},
   "source": [
    "## 4. new 데이터 예측해보기\n",
    "<hr/>"
   ]
  },
  {
   "cell_type": "code",
   "execution_count": 43,
   "id": "da935f2a",
   "metadata": {},
   "outputs": [
    {
     "name": "stdout",
     "output_type": "stream",
     "text": [
      "40/40 - 0s - loss: 1.3573 - accuracy: 0.8799 - 87ms/epoch - 2ms/step\n",
      "test_loss : 1.3572821617126465\n",
      "test_accuracy : 0.8799058198928833\n"
     ]
    }
   ],
   "source": [
    "test_loss, test_accuracy = model.evaluate(x_new_norm, y_new, verbose = 2)\n",
    "print('test_loss : {}'.format(test_loss))\n",
    "print('test_accuracy : {}'.format(test_accuracy))"
   ]
  },
  {
   "cell_type": "markdown",
   "id": "cf349127",
   "metadata": {},
   "source": [
    "<p style= \"font-size:15px; line-height:24px;\">모델의 훈련에 들어가지 않은, 완전히 새로운 데이터를 예측해보았더니 <span style = 'background-color:#fff5b1; padding:0.2px;'>정확도가 약 88%</span>인 것을 확인할 수 있었다.</p>"
   ]
  },
  {
   "cell_type": "markdown",
   "id": "3a6584f8",
   "metadata": {},
   "source": [
    "<div style = \"height: 50px;\"></div>"
   ]
  },
  {
   "cell_type": "markdown",
   "id": "cc1efa34",
   "metadata": {},
   "source": [
    "## 회고\n",
    "<hr/>"
   ]
  },
  {
   "cell_type": "markdown",
   "id": "dd647ab1",
   "metadata": {},
   "source": [
    "### 실패"
   ]
  },
  {
   "cell_type": "markdown",
   "id": "8135ce6d",
   "metadata": {},
   "source": [
    "<p style= \"font-size:16px; line-height:30px;\">처음, 스스로 사진을 찍어 데이터 세트를 만든 후, 다른 사람의 데이터를 예측한 결과, 전혀 예측하지 못하는 결과를 초래했습니다. <br/>\n",
    "처음에는 데이터의 양이 문제인줄 알고 사진을 더 찍어 데이터 개수를 늘리거나 에포크 횟수를 늘려 진행을 했으나, 문제가 해결되지 않았습니다.<br/>\n",
    "데이터를 imshow()하여 출력해본 결과, 다른 사람의 데이터 셋이 다양했고, 스스로 찍은 사진은 다양하지 못한 것을 확인했습니다. (나라는 사람이 편향되었구나.. 라고 생각했습니다.)</p>"
   ]
  },
  {
   "cell_type": "markdown",
   "id": "913831f4",
   "metadata": {},
   "source": [
    "#### 문제의 데이터 셋"
   ]
  },
  {
   "cell_type": "markdown",
   "id": "b2940906",
   "metadata": {},
   "source": [
    "<img src = \"data/scissor/01.jpg\" style = \"width:30%; float:left; margin-right:10%;\">\n",
    "<img src = \"data/test/scissor/0.jpg\" style = \"width:30%; float:left; margin-top:0px;\">"
   ]
  },
  {
   "cell_type": "markdown",
   "id": "4f8ca128",
   "metadata": {},
   "source": [
    "<div style = \"height: 25px;\"></div>"
   ]
  },
  {
   "cell_type": "markdown",
   "id": "33da8d55",
   "metadata": {},
   "source": [
    "### 성공"
   ]
  },
  {
   "cell_type": "markdown",
   "id": "f790e201",
   "metadata": {},
   "source": [
    "<p style= \"font-size:16px; line-height:30px;\">따라서, 다양한 데이터의 수집을 위해서 아이펠 노션 페이지에 <span style = 'background-color:#fff5b1; padding:0.2px;'>가위바위보!!! 데이터 공유</span> 페이지를 만들어 사람들에게 데이터 공유를 하자고 했습니다.<br/>\n",
    "감사하게도, 많은 분들께서 데이터 세트를 공유해주셨고, 덕분에 다양하고 많은 데이터로 모델을 학습 시킬 수 있었습니다.</p><br/><br/>\n",
    "<p style= \"font-size:16px; line-height:30px;\">데이터 세트 추가 및 파라미터를 조정하지 않고 훈련한 모델의 결과</p> \n",
    "\n",
    "\n",
    "> <ul style = \"font-size:16px;\">\n",
    "    <li style = \"margin-bottom:3px;\"><span style = \"font-weight:bold;color:#0172d4;\">test_loss</span> : 3.6745734214782715</li>\n",
    "    <li style = \"margin-bottom:3px;\"><span style = \"font-weight:bold;color:#0172d4;\">test_accuracy</span> : 0.5186170339584351</li>\n",
    "</ul>\n",
    "<br/><br/>\n",
    "\n",
    "<p style= \"font-size:16px; line-height:30px;\">데이터 추가 및 파라미터를 조정한 모델의 훈련 결과</p> \n",
    "\n",
    "> <ul style = \"font-size:16px;\">\n",
    "    <li style = \"margin-bottom:3px;\"><span style = \"font-weight:bold;color:#0172d4;\">test_loss</span> : 1.3572821617126465</li>\n",
    "    <li style = \"margin-bottom:3px;\"><span style = \"font-weight:bold;color:#0172d4;\">test_accuracy</span> : 0.8799058198928833</li>\n",
    "</ul>\n"
   ]
  },
  {
   "cell_type": "markdown",
   "id": "78a038de",
   "metadata": {},
   "source": [
    "#### 사진"
   ]
  },
  {
   "cell_type": "markdown",
   "id": "157ff733",
   "metadata": {},
   "source": [
    "<img src = \"img/아지트공지.png\">"
   ]
  }
 ],
 "metadata": {
  "kernelspec": {
   "display_name": "Python 3 (ipykernel)",
   "language": "python",
   "name": "python3"
  },
  "language_info": {
   "codemirror_mode": {
    "name": "ipython",
    "version": 3
   },
   "file_extension": ".py",
   "mimetype": "text/x-python",
   "name": "python",
   "nbconvert_exporter": "python",
   "pygments_lexer": "ipython3",
   "version": "3.9.7"
  }
 },
 "nbformat": 4,
 "nbformat_minor": 5
}
