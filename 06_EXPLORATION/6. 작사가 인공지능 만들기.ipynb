{
 "cells": [
  {
   "cell_type": "markdown",
   "metadata": {},
   "source": [
    "# 목차\n",
    "<hr/>"
   ]
  },
  {
   "cell_type": "markdown",
   "metadata": {},
   "source": [
    "<ol>\n",
    "    <li style = \"margin-bottom:30px; list-style: none;\"><i style = \"font-weight:bold;font-style: normal;\">구글 드라이브 mount하여 연동하기</i></li>\n",
    "    <li style = \"margin-bottom:30px; list-style: none;\"><i style = \"font-weight:bold;font-style: normal;\">필요한 모듈 불러오기</i></li>\n",
    "    <li style = \"margin-bottom:30px; list-style: none;\"><i style = \"font-weight:bold;font-style: normal;\"><span style = \"font-weight:bold;color:#0172d4;\">STEP 1</span> : 데이터 읽어오기</i></li>\n",
    "    <li style = \"margin-bottom:30px; list-style: none;\"><i style = \"font-weight:bold;font-style: normal;\"><span style = \"font-weight:bold;color:#0172d4;\">STEP 2</span> : 데이터 정제</i></li>\n",
    "    <li style = \"margin-bottom:30px; list-style: none;\"><i style = \"font-weight:bold;font-style: normal;\"><span style = \"font-weight:bold;color:#0172d4;\">STEP 3</span> : 데이터를 Tensor로 변환하기</i></li>\n",
    "    <li style = \"margin-bottom:30px; list-style: none;\"><i style = \"font-weight:bold;font-style: normal;\"><span style = \"font-weight:bold;color:#0172d4;\">STEP 4</span> : 평가 데이터셋 분리</i>\n",
    "        <ul style = \"margin-top:10px; list-style:none;\">\n",
    "            <li style = \"margin-bottom:3px;\"><span style = \"font-weight:bold;color:#0172d4;\">1. </span> 생성된 텐서를 소스와 타겟으로 분리하기</li>\n",
    "            <li style = \"margin-bottom:5px;\"><span style = \"font-weight:bold;color:#0172d4;\">2. </span> 훈련 데이터와 평가 데이터를 분리하기</li>\n",
    "        </ul>\n",
    "    </li>\n",
    "    <li style = \"margin-bottom:30px; list-style: none;\"><i style = \"font-weight:bold;font-style: normal;\"><span style = \"font-weight:bold;color:#0172d4;\">STEP 5</span> : 인공지능 만들기</i>\n",
    "        <ul style = \"margin-top:10px; list-style:none;\">\n",
    "            <li style = \"margin-bottom:3px;\"><span style = \"font-weight:bold;color:#0172d4;\">1. </span> loss 지정하기</li>\n",
    "            <li style = \"margin-bottom:5px;\"><span style = \"font-weight:bold;color:#0172d4;\">2. </span> 텍스트 생성 클래스 선언하기</li>\n",
    "            <li style = \"margin-bottom:5px;\"><span style = \"font-weight:bold;color:#0172d4;\">3. </span> Model Build</li>\n",
    "            <li style = \"margin-bottom:5px;\"><span style = \"font-weight:bold;color:#0172d4;\">4. </span> Model 훈련하기</li>\n",
    "            <li style = \"margin-bottom:5px;\"><span style = \"font-weight:bold;color:#0172d4;\">5. </span> 작문을 통해 모델 평가해보기</li>\n",
    "        </ul>\n",
    "    </li>\n",
    "    <li style = \"margin-bottom:30px; list-style: none;\"><i style = \"font-weight:bold;font-style: normal;\">회고</i>\n",
    "</ol>"
   ]
  },
  {
   "cell_type": "markdown",
   "metadata": {},
   "source": [
    "<div style = \"height: 50px;\"><div/>"
   ]
  },
  {
   "cell_type": "markdown",
   "metadata": {},
   "source": [
    "# 구글 드라이브 mount하여 연동하기"
   ]
  },
  {
   "cell_type": "code",
   "execution_count": 1,
   "metadata": {
    "colab": {
     "base_uri": "https://localhost:8080/"
    },
    "executionInfo": {
     "elapsed": 125510,
     "status": "ok",
     "timestamp": 1652584409172,
     "user": {
      "displayName": "생크림와플먹고싶다",
      "userId": "13048533309979940862"
     },
     "user_tz": -540
    },
    "id": "17-oXrZhP4yi",
    "outputId": "628a7bf9-a7ea-4653-bcee-6a983ec31e22"
   },
   "outputs": [
    {
     "name": "stdout",
     "output_type": "stream",
     "text": [
      "Mounted at /content/drive\n"
     ]
    }
   ],
   "source": [
    "from google.colab import drive\n",
    "drive.mount('/content/drive')"
   ]
  },
  {
   "cell_type": "markdown",
   "metadata": {},
   "source": [
    "<div style = \"height: 50px;\"><div/>"
   ]
  },
  {
   "cell_type": "markdown",
   "metadata": {},
   "source": [
    "# 필요한 모듈 불러오기"
   ]
  },
  {
   "cell_type": "code",
   "execution_count": 89,
   "metadata": {
    "executionInfo": {
     "elapsed": 1,
     "status": "ok",
     "timestamp": 1652591963097,
     "user": {
      "displayName": "생크림와플먹고싶다",
      "userId": "13048533309979940862"
     },
     "user_tz": -540
    },
    "id": "VCY30VV9P1u9"
   },
   "outputs": [],
   "source": [
    "import warnings\n",
    "warnings.filterwarnings(\"ignore\")\n",
    "\n",
    "import glob\n",
    "import os, re\n",
    "\n",
    "import tensorflow        as tf\n",
    "import matplotlib.pyplot as plt\n",
    "\n",
    "from sklearn.model_selection import train_test_split"
   ]
  },
  {
   "cell_type": "markdown",
   "metadata": {
    "id": "0kk-OFNMe-XW"
   },
   "source": [
    "<div style = \"height: 50px;\"><div/>"
   ]
  },
  {
   "cell_type": "markdown",
   "metadata": {},
   "source": [
    "# <span style = \"font-weight:bold;color:#0172d4;\">STEP 1</span> : 데이터 읽어오기"
   ]
  },
  {
   "cell_type": "code",
   "execution_count": 16,
   "metadata": {
    "colab": {
     "base_uri": "https://localhost:8080/"
    },
    "executionInfo": {
     "elapsed": 33730,
     "status": "ok",
     "timestamp": 1652584588700,
     "user": {
      "displayName": "생크림와플먹고싶다",
      "userId": "13048533309979940862"
     },
     "user_tz": -540
    },
    "id": "7yCSC9cta0FS",
    "outputId": "f15ba69e-d091-4cdb-dee5-8c20e7bf58fb"
   },
   "outputs": [
    {
     "name": "stdout",
     "output_type": "stream",
     "text": [
      "\n",
      "데이터 크기: 187088\n",
      "Examples:\n",
      " ['Jolene, Jolene, Jolene, Jolene', \"I'm begging of you please don't take my man\", 'Jolene, Jolene, Jolene, Jolene']\n"
     ]
    }
   ],
   "source": [
    "txt_file_path = \"/content/drive/MyDrive/data/*\"\n",
    "txt_list = glob.glob(txt_file_path)\n",
    "\n",
    "raw_corpus = []\n",
    "\n",
    "# 여러개의 txt 파일을 모두 읽어서 raw_corpus 에 담습니다.\n",
    "for txt_file in txt_list:\n",
    "    with open(txt_file, \"r\") as f:\n",
    "        raw = f.read().splitlines()\n",
    "        raw_corpus.extend(raw)\n",
    "\n",
    "print(\"\\n데이터 크기:\", len(raw_corpus))\n",
    "print(\"Examples:\\n\", raw_corpus[:3])"
   ]
  },
  {
   "cell_type": "markdown",
   "metadata": {},
   "source": [
    "<div style = \"height: 50px;\"><div/>"
   ]
  },
  {
   "cell_type": "markdown",
   "metadata": {},
   "source": [
    "# <span style = \"font-weight:bold;color:#0172d4;\">STEP 2</span> : 데이터 정제"
   ]
  },
  {
   "cell_type": "markdown",
   "metadata": {},
   "source": [
    "<p style= \"font-size:15px; line-height:24px;\"> - preprocess_sentence() 사용하여 데이터 정제하기</p>"
   ]
  },
  {
   "cell_type": "markdown",
   "metadata": {},
   "source": [
    "### 함수"
   ]
  },
  {
   "cell_type": "code",
   "execution_count": 17,
   "metadata": {
    "executionInfo": {
     "elapsed": 559,
     "status": "ok",
     "timestamp": 1652584594240,
     "user": {
      "displayName": "생크림와플먹고싶다",
      "userId": "13048533309979940862"
     },
     "user_tz": -540
    },
    "id": "PJtTwYUiQM5j"
   },
   "outputs": [],
   "source": [
    "# 문장 필터링하는 함수\n",
    "def preprocess_sentence(sentence):\n",
    "    sentence = sentence.lower().strip() \n",
    "    sentence = re.sub(r\"([?.!,¿])\", r\" \\1 \", sentence) \n",
    "    sentence = re.sub(r'[\" \"]+', \" \", sentence) \n",
    "    sentence = re.sub(r\"[^a-zA-Z?.!,¿]+\", \" \", sentence) \n",
    "    sentence = sentence.strip() \n",
    "    sentence = '<start> ' + sentence + ' <end>' \n",
    "    return sentence"
   ]
  },
  {
   "cell_type": "markdown",
   "metadata": {},
   "source": [
    "<div style = \"height: 25px;\"></div>"
   ]
  },
  {
   "cell_type": "markdown",
   "metadata": {},
   "source": [
    "### 데이터 정제하기"
   ]
  },
  {
   "cell_type": "code",
   "execution_count": 18,
   "metadata": {
    "executionInfo": {
     "elapsed": 1569,
     "status": "ok",
     "timestamp": 1652584596812,
     "user": {
      "displayName": "생크림와플먹고싶다",
      "userId": "13048533309979940862"
     },
     "user_tz": -540
    },
    "id": "p8B-jNzlQXKe"
   },
   "outputs": [],
   "source": [
    "corpus = []\n",
    "\n",
    "for sentence in raw_corpus:\n",
    "    # 우리가 원하지 않는 문장은 건너뜁니다\n",
    "    if len(sentence) == 0: \n",
    "        continue\n",
    "    \n",
    "    if sentence[-1] == \":\": \n",
    "        continue\n",
    "    \n",
    "    # 토큰의 개수 15개 초과 시, 삭제하기\n",
    "    if len(sentence.split(' ')) >17: # <start>, <end> 포함하여 17토큰으로 값 설정\n",
    "        continue\n",
    "        \n",
    "    # 정제를 하고 담아주세요tokenizer.num_words\n",
    "    preprocessed_sentence = preprocess_sentence(sentence)\n",
    "    corpus.append(preprocessed_sentence)"
   ]
  },
  {
   "cell_type": "markdown",
   "metadata": {},
   "source": [
    "<div style = \"height: 25px;\"></div>"
   ]
  },
  {
   "cell_type": "markdown",
   "metadata": {},
   "source": [
    "### 정제된 데이터 확인하기"
   ]
  },
  {
   "cell_type": "code",
   "execution_count": 19,
   "metadata": {
    "colab": {
     "base_uri": "https://localhost:8080/"
    },
    "executionInfo": {
     "elapsed": 10,
     "status": "ok",
     "timestamp": 1652584596814,
     "user": {
      "displayName": "생크림와플먹고싶다",
      "userId": "13048533309979940862"
     },
     "user_tz": -540
    },
    "id": "JaLYkMaNQaL8",
    "outputId": "fb43115c-f9e3-484b-99b7-6ddaa5dbe549"
   },
   "outputs": [
    {
     "data": {
      "text/plain": [
       "['<start> jolene , jolene , jolene , jolene <end>',\n",
       " '<start> i m begging of you please don t take my man <end>',\n",
       " '<start> jolene , jolene , jolene , jolene <end>',\n",
       " '<start> please don t take him just because you can your beauty is beyond compare <end>',\n",
       " '<start> with flaming locks of auburn hair <end>',\n",
       " '<start> with ivory skin and eyes of emerald green <end>',\n",
       " '<start> your smile is like a breath of spring <end>',\n",
       " '<start> your voice is soft like summer rain <end>',\n",
       " '<start> and i cannot compete with you <end>',\n",
       " '<start> jolene he talks about you in his sleep <end>']"
      ]
     },
     "execution_count": 19,
     "metadata": {},
     "output_type": "execute_result"
    }
   ],
   "source": [
    "# 정제된 결과를 10개만 확인\n",
    "corpus[:10]"
   ]
  },
  {
   "cell_type": "markdown",
   "metadata": {},
   "source": [
    "<div style = \"height: 50px;\"><div/>"
   ]
  },
  {
   "cell_type": "markdown",
   "metadata": {},
   "source": [
    "# <span style = \"font-weight:bold;color:#0172d4;\">STEP 3</span> : 데이터를 Tensor로 변환하기"
   ]
  },
  {
   "cell_type": "markdown",
   "metadata": {},
   "source": [
    "### 함수"
   ]
  },
  {
   "cell_type": "code",
   "execution_count": 20,
   "metadata": {
    "executionInfo": {
     "elapsed": 6,
     "status": "ok",
     "timestamp": 1652584598480,
     "user": {
      "displayName": "생크림와플먹고싶다",
      "userId": "13048533309979940862"
     },
     "user_tz": -540
    },
    "id": "1IprZDURQcXB"
   },
   "outputs": [],
   "source": [
    "def tokenize(corpus):\n",
    "    tokenizer = tf.keras.preprocessing.text.Tokenizer(\n",
    "    num_words=12000, \n",
    "    filters=' ',\n",
    "    oov_token=\"<unk>\")\n",
    "    \n",
    "    # corpus를 이용해 tokenizer 내부의 단어장을 완성합니다\n",
    "    tokenizer.fit_on_texts(corpus)\n",
    "    \n",
    "    # 준비한 tokenizer를 이용해 corpus를 Tensor로 변환합니다\n",
    "    tensor = tokenizer.texts_to_sequences(corpus)\n",
    "    \n",
    "    # 입력 데이터의 시퀀스 길이를 일정하게 맞춰줍니다\n",
    "    # 만약 시퀀스가 짧다면 문장 뒤에 패딩을 붙여 길이를 맞춰줍니다.\n",
    "    # 문장 앞에 패딩을 붙여 길이를 맞추고 싶다면 padding='pre'를 사용합니다\n",
    "    tensor = tf.keras.preprocessing.sequence.pad_sequences(tensor, padding='post')  \n",
    "    \n",
    "    print(tensor,tokenizer)\n",
    "    return tensor, tokenizer"
   ]
  },
  {
   "cell_type": "markdown",
   "metadata": {},
   "source": [
    "<div style = \"height: 25px;\"></div>"
   ]
  },
  {
   "cell_type": "markdown",
   "metadata": {},
   "source": [
    "### Tensor 변환하기"
   ]
  },
  {
   "cell_type": "code",
   "execution_count": 21,
   "metadata": {
    "colab": {
     "base_uri": "https://localhost:8080/"
    },
    "executionInfo": {
     "elapsed": 3023,
     "status": "ok",
     "timestamp": 1652584604218,
     "user": {
      "displayName": "생크림와플먹고싶다",
      "userId": "13048533309979940862"
     },
     "user_tz": -540
    },
    "id": "C0k6GVxnQfjr",
    "outputId": "5643c10c-86c1-4a9b-f683-ab77b1f17935"
   },
   "outputs": [
    {
     "name": "stdout",
     "output_type": "stream",
     "text": [
      "[[   2 1444    4 ...    0    0    0]\n",
      " [   2    5   22 ...    0    0    0]\n",
      " [   2 1444    4 ...    0    0    0]\n",
      " ...\n",
      " [   2    7  456 ...    0    0    0]\n",
      " [   2   31  122 ...    0    0    0]\n",
      " [   2    5  352 ...    0    0    0]] <keras_preprocessing.text.Tokenizer object at 0x7fe01f286610>\n"
     ]
    }
   ],
   "source": [
    "tensor, tokenizer = tokenize(corpus)"
   ]
  },
  {
   "cell_type": "code",
   "execution_count": 22,
   "metadata": {
    "colab": {
     "base_uri": "https://localhost:8080/"
    },
    "executionInfo": {
     "elapsed": 50,
     "status": "ok",
     "timestamp": 1652584604218,
     "user": {
      "displayName": "생크림와플먹고싶다",
      "userId": "13048533309979940862"
     },
     "user_tz": -540
    },
    "id": "m8GM6mOJQpGF",
    "outputId": "da17aebf-d859-4841-ef69-4d48b1c2a85e"
   },
   "outputs": [
    {
     "name": "stdout",
     "output_type": "stream",
     "text": [
      "[[   2 1444    4 1444    4 1444    4 1444    3    0]\n",
      " [   2    5   22 2279   19    7  213   36   15   82]\n",
      " [   2 1444    4 1444    4 1444    4 1444    3    0]]\n"
     ]
    }
   ],
   "source": [
    "print(tensor[:3, :10])"
   ]
  },
  {
   "cell_type": "markdown",
   "metadata": {},
   "source": [
    "<div style = \"height: 25px;\"></div>"
   ]
  },
  {
   "cell_type": "markdown",
   "metadata": {},
   "source": [
    "<div style = \"height: 50px;\"><div/>"
   ]
  },
  {
   "cell_type": "markdown",
   "metadata": {},
   "source": [
    "# <span style = \"font-weight:bold;color:#0172d4;\">STEP 4</span> : 평가 데이터셋 분리"
   ]
  },
  {
   "cell_type": "markdown",
   "metadata": {},
   "source": [
    "## 1. 생성된 텐서를 소스와 타겟으로 분리하기\n",
    "<hr/>"
   ]
  },
  {
   "cell_type": "code",
   "execution_count": 23,
   "metadata": {
    "colab": {
     "base_uri": "https://localhost:8080/"
    },
    "executionInfo": {
     "elapsed": 39,
     "status": "ok",
     "timestamp": 1652584604219,
     "user": {
      "displayName": "생크림와플먹고싶다",
      "userId": "13048533309979940862"
     },
     "user_tz": -540
    },
    "id": "FNwsvpQXQqyj",
    "outputId": "14ed7b7d-34cd-4138-8b65-30e1b98a5de6"
   },
   "outputs": [
    {
     "name": "stdout",
     "output_type": "stream",
     "text": [
      "[   2 1444    4 1444    4 1444    4 1444    3    0    0    0    0    0\n",
      "    0    0    0    0    0    0    0    0    0    0    0    0    0    0\n",
      "    0    0    0    0]\n",
      "[1444    4 1444    4 1444    4 1444    3    0    0    0    0    0    0\n",
      "    0    0    0    0    0    0    0    0    0    0    0    0    0    0\n",
      "    0    0    0    0]\n"
     ]
    }
   ],
   "source": [
    "# tensor에서 마지막 토큰을 잘라내서 소스 문장을 생성\n",
    "src_input = tensor[:, :-1] \n",
    "\n",
    "# tensor에서 <start>를 잘라내서 타겟 문장을 생성\n",
    "tgt_input = tensor[:, 1:]    \n",
    "\n",
    "print(src_input[0])\n",
    "print(tgt_input[0])"
   ]
  },
  {
   "cell_type": "markdown",
   "metadata": {},
   "source": [
    "<div style = \"height: 25px;\"></div>"
   ]
  },
  {
   "cell_type": "markdown",
   "metadata": {},
   "source": [
    "### 분리된 데이터 확인해보기"
   ]
  },
  {
   "cell_type": "code",
   "execution_count": 24,
   "metadata": {
    "colab": {
     "base_uri": "https://localhost:8080/"
    },
    "executionInfo": {
     "elapsed": 29,
     "status": "ok",
     "timestamp": 1652584604221,
     "user": {
      "displayName": "생크림와플먹고싶다",
      "userId": "13048533309979940862"
     },
     "user_tz": -540
    },
    "id": "bJb7IJd5hjJi",
    "outputId": "78bac510-2f91-4609-8087-5bd5c78e8b3e"
   },
   "outputs": [
    {
     "data": {
      "text/plain": [
       "array([[   2, 1444,    4, ...,    0,    0,    0],\n",
       "       [   2,    5,   22, ...,    0,    0,    0],\n",
       "       [   2, 1444,    4, ...,    0,    0,    0],\n",
       "       ...,\n",
       "       [   2,    7,  456, ...,    0,    0,    0],\n",
       "       [   2,   31,  122, ...,    0,    0,    0],\n",
       "       [   2,    5,  352, ...,    0,    0,    0]], dtype=int32)"
      ]
     },
     "execution_count": 24,
     "metadata": {},
     "output_type": "execute_result"
    }
   ],
   "source": [
    "src_input"
   ]
  },
  {
   "cell_type": "markdown",
   "metadata": {},
   "source": [
    "<div style = \"height: 50px;\"><div/>"
   ]
  },
  {
   "cell_type": "markdown",
   "metadata": {},
   "source": [
    "## 2. 훈련 데이터와 평가 데이터를 분리하기\n",
    "<hr/>"
   ]
  },
  {
   "cell_type": "markdown",
   "metadata": {},
   "source": [
    "### train_test_split() 함수 사용하여 훈련 데이터와 검증 데이터 분리하기"
   ]
  },
  {
   "cell_type": "code",
   "execution_count": 25,
   "metadata": {
    "executionInfo": {
     "elapsed": 19,
     "status": "ok",
     "timestamp": 1652584604222,
     "user": {
      "displayName": "생크림와플먹고싶다",
      "userId": "13048533309979940862"
     },
     "user_tz": -540
    },
    "id": "Ea7QCJG6SR9I"
   },
   "outputs": [],
   "source": [
    "enc_train, enc_val, dec_train, dec_val = train_test_split(src_input, tgt_input, test_size = 0.2, random_state = 42)"
   ]
  },
  {
   "cell_type": "markdown",
   "metadata": {},
   "source": [
    "<div style = \"height: 25px;\"></div>"
   ]
  },
  {
   "cell_type": "markdown",
   "metadata": {},
   "source": [
    "### from_tensor_slices() 메소드를 이용해 훈련 데이터 생성하기"
   ]
  },
  {
   "cell_type": "code",
   "execution_count": 27,
   "metadata": {
    "executionInfo": {
     "elapsed": 556,
     "status": "ok",
     "timestamp": 1652584626217,
     "user": {
      "displayName": "생크림와플먹고싶다",
      "userId": "13048533309979940862"
     },
     "user_tz": -540
    },
    "id": "--P0y9RQWTE_"
   },
   "outputs": [],
   "source": [
    "BUFFER_SIZE = len(enc_train)\n",
    "BATCH_SIZE = 512\n",
    "steps_per_epoch = len(enc_train) // BATCH_SIZE\n",
    "VOCAB_SIZE = tokenizer.num_words + 1   "
   ]
  },
  {
   "cell_type": "code",
   "execution_count": 28,
   "metadata": {
    "colab": {
     "base_uri": "https://localhost:8080/"
    },
    "executionInfo": {
     "elapsed": 2687,
     "status": "ok",
     "timestamp": 1652584631521,
     "user": {
      "displayName": "생크림와플먹고싶다",
      "userId": "13048533309979940862"
     },
     "user_tz": -540
    },
    "id": "NYd5JJFAV8X9",
    "outputId": "2f6b518e-586a-4eba-ddb1-b37dfdf41e59"
   },
   "outputs": [
    {
     "data": {
      "text/plain": [
       "<BatchDataset element_spec=(TensorSpec(shape=(512, 32), dtype=tf.int32, name=None), TensorSpec(shape=(512, 32), dtype=tf.int32, name=None))>"
      ]
     },
     "execution_count": 28,
     "metadata": {},
     "output_type": "execute_result"
    }
   ],
   "source": [
    "# from_tensor_slices() 메소드를 이용해 tf.data.Dataset객체를 생성\n",
    "dataset = tf.data.Dataset.from_tensor_slices((enc_train, dec_train))\n",
    "dataset = dataset.shuffle(BUFFER_SIZE)\n",
    "dataset = dataset.batch(BATCH_SIZE, drop_remainder = True)\n",
    "dataset"
   ]
  },
  {
   "cell_type": "markdown",
   "metadata": {},
   "source": [
    "<div style = \"height: 50px;\"><div/>"
   ]
  },
  {
   "cell_type": "markdown",
   "metadata": {},
   "source": [
    "# <span style = \"font-weight:bold;color:#0172d4;\">STEP 5</span> : 인공지능 만들기"
   ]
  },
  {
   "cell_type": "markdown",
   "metadata": {},
   "source": [
    "## 1. loss 지정하기\n",
    "<hr/>"
   ]
  },
  {
   "cell_type": "code",
   "execution_count": 29,
   "metadata": {
    "executionInfo": {
     "elapsed": 3,
     "status": "ok",
     "timestamp": 1652584633736,
     "user": {
      "displayName": "생크림와플먹고싶다",
      "userId": "13048533309979940862"
     },
     "user_tz": -540
    },
    "id": "mk2VHOW6SwZV"
   },
   "outputs": [],
   "source": [
    "#Loss\n",
    "loss = tf.keras.losses.SparseCategoricalCrossentropy(\n",
    "    from_logits=True, reduction='none')"
   ]
  },
  {
   "cell_type": "markdown",
   "metadata": {},
   "source": [
    "<div style = \"height: 50px;\"><div/>"
   ]
  },
  {
   "cell_type": "markdown",
   "metadata": {},
   "source": [
    "## 2. 텍스트 생성 클래스 선언하기\n",
    "<hr/>"
   ]
  },
  {
   "cell_type": "code",
   "execution_count": 61,
   "metadata": {
    "executionInfo": {
     "elapsed": 613,
     "status": "ok",
     "timestamp": 1652590398400,
     "user": {
      "displayName": "생크림와플먹고싶다",
      "userId": "13048533309979940862"
     },
     "user_tz": -540
    },
    "id": "F6xkworYS6aN"
   },
   "outputs": [],
   "source": [
    "class TextGenerator(tf.keras.Model):\n",
    "    def __init__(self, vocab_size, embedding_size, hidden_size):\n",
    "        super().__init__()\n",
    "        \n",
    "        self.embedding = tf.keras.layers.Embedding(vocab_size, embedding_size)\n",
    "        self.rnn_1 = tf.keras.layers.LSTM(hidden_size, return_sequences=True)\n",
    "        self.rnn_2 = tf.keras.layers.LSTM(hidden_size, return_sequences=True)\n",
    "        self.linear = tf.keras.layers.Dense(vocab_size)\n",
    "        \n",
    "    def call(self, x):\n",
    "        out = self.embedding(x)\n",
    "        out = self.rnn_1(out)\n",
    "        out = self.rnn_2(out)\n",
    "        out = self.linear(out)\n",
    "        \n",
    "        return out"
   ]
  },
  {
   "cell_type": "markdown",
   "metadata": {},
   "source": [
    "<div style = \"height: 50px;\"><div/>"
   ]
  },
  {
   "cell_type": "markdown",
   "metadata": {},
   "source": [
    "## 3. Model Build\n",
    "<hr/>"
   ]
  },
  {
   "cell_type": "code",
   "execution_count": 33,
   "metadata": {
    "executionInfo": {
     "elapsed": 11,
     "status": "ok",
     "timestamp": 1652584672250,
     "user": {
      "displayName": "생크림와플먹고싶다",
      "userId": "13048533309979940862"
     },
     "user_tz": -540
    },
    "id": "m8y7FnHBTBnl"
   },
   "outputs": [],
   "source": [
    "embedding_size = 512\n",
    "hidden_size = 1290\n",
    "model = TextGenerator(tokenizer.num_words + 1, embedding_size , hidden_size)"
   ]
  },
  {
   "cell_type": "code",
   "execution_count": 34,
   "metadata": {
    "colab": {
     "base_uri": "https://localhost:8080/",
     "height": 325
    },
    "executionInfo": {
     "elapsed": 11,
     "status": "error",
     "timestamp": 1652584672818,
     "user": {
      "displayName": "생크림와플먹고싶다",
      "userId": "13048533309979940862"
     },
     "user_tz": -540
    },
    "id": "TGRYVMmoTDSe",
    "outputId": "6693a66b-880a-41f6-8b76-f3b2650ac6a1"
   },
   "outputs": [
    {
     "ename": "ValueError",
     "evalue": "ignored",
     "output_type": "error",
     "traceback": [
      "\u001b[0;31m---------------------------------------------------------------------------\u001b[0m",
      "\u001b[0;31mValueError\u001b[0m                                Traceback (most recent call last)",
      "\u001b[0;32m<ipython-input-34-5f15418b3570>\u001b[0m in \u001b[0;36m<module>\u001b[0;34m()\u001b[0m\n\u001b[0;32m----> 1\u001b[0;31m \u001b[0mmodel\u001b[0m\u001b[0;34m.\u001b[0m\u001b[0msummary\u001b[0m\u001b[0;34m(\u001b[0m\u001b[0;34m)\u001b[0m\u001b[0;34m\u001b[0m\u001b[0;34m\u001b[0m\u001b[0m\n\u001b[0m",
      "\u001b[0;32m/usr/local/lib/python3.7/dist-packages/keras/engine/training.py\u001b[0m in \u001b[0;36msummary\u001b[0;34m(self, line_length, positions, print_fn, expand_nested, show_trainable)\u001b[0m\n\u001b[1;32m   2774\u001b[0m     \u001b[0;32mif\u001b[0m \u001b[0;32mnot\u001b[0m \u001b[0mself\u001b[0m\u001b[0;34m.\u001b[0m\u001b[0mbuilt\u001b[0m\u001b[0;34m:\u001b[0m\u001b[0;34m\u001b[0m\u001b[0;34m\u001b[0m\u001b[0m\n\u001b[1;32m   2775\u001b[0m       raise ValueError(\n\u001b[0;32m-> 2776\u001b[0;31m           \u001b[0;34m'This model has not yet been built. '\u001b[0m\u001b[0;34m\u001b[0m\u001b[0;34m\u001b[0m\u001b[0m\n\u001b[0m\u001b[1;32m   2777\u001b[0m           \u001b[0;34m'Build the model first by calling `build()` or by calling '\u001b[0m\u001b[0;34m\u001b[0m\u001b[0;34m\u001b[0m\u001b[0m\n\u001b[1;32m   2778\u001b[0m           'the model on a batch of data.')\n",
      "\u001b[0;31mValueError\u001b[0m: This model has not yet been built. Build the model first by calling `build()` or by calling the model on a batch of data."
     ]
    }
   ],
   "source": [
    "model.summary()"
   ]
  },
  {
   "cell_type": "markdown",
   "metadata": {
    "id": "kAYkWFJ4T2sl"
   },
   "source": [
    "<p style= \"font-size:15px; line-height:24px;\">모델이 빌드되지 않은 상태에서 summary를 진행했기 때문에, 모델이 무슨 일을 하는 모델인지 알려주지 못한다. 따라서, 모델을 build하기 위해서는 어떤 데이터를 입력받아야하는지 알려줘야 하므로 데이터를(소스 데이터 = 특성값 = x값)을 모델에 넣어야한다.</p>"
   ]
  },
  {
   "cell_type": "markdown",
   "metadata": {},
   "source": [
    "<div style = \"height: 25px;\"><div/>"
   ]
  },
  {
   "cell_type": "markdown",
   "metadata": {},
   "source": [
    "### 데이터를 모델에 넣어주기"
   ]
  },
  {
   "cell_type": "code",
   "execution_count": 35,
   "metadata": {
    "colab": {
     "base_uri": "https://localhost:8080/"
    },
    "executionInfo": {
     "elapsed": 8009,
     "status": "ok",
     "timestamp": 1652584683858,
     "user": {
      "displayName": "생크림와플먹고싶다",
      "userId": "13048533309979940862"
     },
     "user_tz": -540
    },
    "id": "WMJ79VvTUt68",
    "outputId": "7c307dc7-3c99-4be3-b05f-50968bed221f",
    "scrolled": true
   },
   "outputs": [
    {
     "data": {
      "text/plain": [
       "<tf.Tensor: shape=(512, 32, 12001), dtype=float32, numpy=\n",
       "array([[[-8.33122831e-05,  3.46817134e-04, -3.92990740e-04, ...,\n",
       "         -8.72974997e-05, -1.18939512e-04,  1.76366040e-04],\n",
       "        [-2.13843450e-04,  6.09053357e-04, -5.01786184e-04, ...,\n",
       "         -2.71189114e-04, -1.30620057e-04,  7.58145179e-05],\n",
       "        [-3.86614702e-04,  6.02878747e-04, -2.29267098e-04, ...,\n",
       "         -4.35470254e-04,  1.05836538e-04,  1.25871913e-04],\n",
       "        ...,\n",
       "        [-2.31503556e-03,  4.32351138e-04,  3.30807082e-03, ...,\n",
       "          2.73769628e-03, -1.17186806e-03, -1.25766860e-03],\n",
       "        [-2.31074565e-03,  4.28909465e-04,  3.30926012e-03, ...,\n",
       "          2.74513150e-03, -1.18634116e-03, -1.26745214e-03],\n",
       "        [-2.30704714e-03,  4.25611099e-04,  3.31096072e-03, ...,\n",
       "          2.75090220e-03, -1.19897421e-03, -1.27607968e-03]],\n",
       "\n",
       "       [[-8.33122831e-05,  3.46817134e-04, -3.92990740e-04, ...,\n",
       "         -8.72974997e-05, -1.18939512e-04,  1.76366040e-04],\n",
       "        [-3.12965974e-04,  4.36402799e-04, -8.68491014e-04, ...,\n",
       "          1.48918785e-04, -5.61115048e-05, -2.35774205e-04],\n",
       "        [-4.21379809e-04,  5.27922937e-04, -8.37346073e-04, ...,\n",
       "          1.13874506e-04,  3.70678492e-04, -5.50499070e-04],\n",
       "        ...,\n",
       "        [-2.33829627e-03,  4.71083273e-04,  3.34582711e-03, ...,\n",
       "          2.69200862e-03, -1.10060384e-03, -1.19517441e-03],\n",
       "        [-2.33323406e-03,  4.63434641e-04,  3.33853951e-03, ...,\n",
       "          2.70679733e-03, -1.12460775e-03, -1.20997138e-03],\n",
       "        [-2.32823915e-03,  4.56221984e-04,  3.33275693e-03, ...,\n",
       "          2.71876808e-03, -1.14580733e-03, -1.22356263e-03]],\n",
       "\n",
       "       [[-8.33122831e-05,  3.46817134e-04, -3.92990740e-04, ...,\n",
       "         -8.72974997e-05, -1.18939512e-04,  1.76366040e-04],\n",
       "        [-9.92976493e-05,  8.63700814e-04, -5.63713955e-04, ...,\n",
       "          2.14625572e-04, -4.34502901e-04,  2.32912280e-04],\n",
       "        [ 3.28754941e-05,  1.17663550e-03, -7.56460067e-04, ...,\n",
       "          2.72696107e-05, -6.70548179e-04,  2.73105717e-04],\n",
       "        ...,\n",
       "        [-2.31665722e-03,  2.73987040e-04,  3.19769443e-03, ...,\n",
       "          2.71176989e-03, -9.17678408e-04, -1.03765784e-03],\n",
       "        [-2.33897846e-03,  2.95101665e-04,  3.22709000e-03, ...,\n",
       "          2.74080411e-03, -9.59349738e-04, -1.06665737e-03],\n",
       "        [-2.35250755e-03,  3.13493831e-04,  3.24821426e-03, ...,\n",
       "          2.76135351e-03, -9.96233081e-04, -1.09245442e-03]],\n",
       "\n",
       "       ...,\n",
       "\n",
       "       [[-8.33122831e-05,  3.46817134e-04, -3.92990740e-04, ...,\n",
       "         -8.72974997e-05, -1.18939512e-04,  1.76366040e-04],\n",
       "        [-4.81755778e-05,  5.16759872e-04, -3.70711001e-04, ...,\n",
       "         -4.11485787e-04, -4.28004831e-04, -2.53141974e-04],\n",
       "        [ 1.15897055e-04,  5.42602618e-04, -2.79791624e-04, ...,\n",
       "         -7.02016812e-04, -7.34373578e-04, -4.86824487e-04],\n",
       "        ...,\n",
       "        [-2.50823074e-03,  3.69484827e-04,  3.29839461e-03, ...,\n",
       "          2.70473328e-03, -1.04363938e-03, -1.21670205e-03],\n",
       "        [-2.48920755e-03,  3.76094395e-04,  3.30588245e-03, ...,\n",
       "          2.71656946e-03, -1.07183051e-03, -1.22347486e-03],\n",
       "        [-2.46933522e-03,  3.81065358e-04,  3.31051648e-03, ...,\n",
       "          2.72594020e-03, -1.09694374e-03, -1.23026606e-03]],\n",
       "\n",
       "       [[-8.33122831e-05,  3.46817134e-04, -3.92990740e-04, ...,\n",
       "         -8.72974997e-05, -1.18939512e-04,  1.76366040e-04],\n",
       "        [-7.38471135e-05,  3.03220528e-04, -3.86466592e-04, ...,\n",
       "         -2.10013881e-04, -5.01265400e-04, -1.22007397e-04],\n",
       "        [-3.97601252e-04,  1.18800264e-04, -3.71843955e-04, ...,\n",
       "         -3.18829669e-04, -1.13887363e-03, -4.02577338e-04],\n",
       "        ...,\n",
       "        [-2.30865530e-03,  4.32156899e-04,  3.36172059e-03, ...,\n",
       "          2.79422826e-03, -1.06024125e-03, -1.14766438e-03],\n",
       "        [-2.30335654e-03,  4.36378730e-04,  3.35319596e-03, ...,\n",
       "          2.79541197e-03, -1.09145709e-03, -1.17068994e-03],\n",
       "        [-2.29862053e-03,  4.38319170e-04,  3.34531139e-03, ...,\n",
       "          2.79512280e-03, -1.11881085e-03, -1.19112944e-03]],\n",
       "\n",
       "       [[-8.33122831e-05,  3.46817134e-04, -3.92990740e-04, ...,\n",
       "         -8.72974997e-05, -1.18939512e-04,  1.76366040e-04],\n",
       "        [-3.15663783e-04,  4.09038272e-04, -4.54845111e-04, ...,\n",
       "         -2.66206596e-04, -1.96919907e-04,  2.50599551e-04],\n",
       "        [-7.57107686e-04,  5.06307930e-04, -3.85411811e-04, ...,\n",
       "         -2.06560857e-04,  5.66705166e-05,  5.83140820e-04],\n",
       "        ...,\n",
       "        [-2.17154273e-03,  2.98179046e-04,  3.32054892e-03, ...,\n",
       "          2.73714494e-03, -9.92645626e-04, -1.12657424e-03],\n",
       "        [-2.19101598e-03,  3.16101999e-04,  3.31755937e-03, ...,\n",
       "          2.75446358e-03, -1.02797186e-03, -1.14600186e-03],\n",
       "        [-2.20681983e-03,  3.30837764e-04,  3.31420265e-03, ...,\n",
       "          2.76670908e-03, -1.05954357e-03, -1.16375298e-03]]],\n",
       "      dtype=float32)>"
      ]
     },
     "execution_count": 35,
     "metadata": {},
     "output_type": "execute_result"
    }
   ],
   "source": [
    "for src_sample, tgt_sample in dataset.take(1): break\n",
    "\n",
    "model(src_sample)"
   ]
  },
  {
   "cell_type": "markdown",
   "metadata": {},
   "source": [
    "<div style = \"height: 25px;\"><div/>"
   ]
  },
  {
   "cell_type": "markdown",
   "metadata": {},
   "source": [
    "### 모델의 정보 확인하기"
   ]
  },
  {
   "cell_type": "code",
   "execution_count": 36,
   "metadata": {
    "colab": {
     "base_uri": "https://localhost:8080/"
    },
    "executionInfo": {
     "elapsed": 611,
     "status": "ok",
     "timestamp": 1652584687936,
     "user": {
      "displayName": "생크림와플먹고싶다",
      "userId": "13048533309979940862"
     },
     "user_tz": -540
    },
    "id": "D4WHk-WdVLkD",
    "outputId": "cbae915e-34b2-4308-97c7-d39621e7d6e2"
   },
   "outputs": [
    {
     "name": "stdout",
     "output_type": "stream",
     "text": [
      "Model: \"text_generator_2\"\n",
      "_________________________________________________________________\n",
      " Layer (type)                Output Shape              Param #   \n",
      "=================================================================\n",
      " embedding_2 (Embedding)     multiple                  6144512   \n",
      "                                                                 \n",
      " lstm_4 (LSTM)               multiple                  9303480   \n",
      "                                                                 \n",
      " lstm_5 (LSTM)               multiple                  13317960  \n",
      "                                                                 \n",
      " dense_2 (Dense)             multiple                  15493291  \n",
      "                                                                 \n",
      "=================================================================\n",
      "Total params: 44,259,243\n",
      "Trainable params: 44,259,243\n",
      "Non-trainable params: 0\n",
      "_________________________________________________________________\n"
     ]
    }
   ],
   "source": [
    "# 이제 모델이 뭐하는지 알았으니 summary해서 모델의 정보 확인하기\n",
    "model.summary()"
   ]
  },
  {
   "cell_type": "markdown",
   "metadata": {},
   "source": [
    "<p style= \"font-size:15px; line-height:24px;\">모델의 파라미터가 44,259,243이 나왔다.<br/>\n",
    "따라서, 모델을 돌리는데에 있어 <span style = 'background-color:#fff5b1; padding:0.2px;'>시간이 오래 걸릴 것</span>이라고 예상된다.<br/>\n",
    "뿐만아니라, 파라미터가 많기 때문에 <span style = 'background-color:#fff5b1; padding:0.2px;'>과적합</span>이 발생할 수 있다는 문제가 발생할 수 있다고 생각한다.</p>"
   ]
  },
  {
   "cell_type": "markdown",
   "metadata": {},
   "source": [
    "<div style = \"height: 50px;\"><div/>"
   ]
  },
  {
   "cell_type": "markdown",
   "metadata": {},
   "source": [
    "## 4. Model 훈련하기\n",
    "<hr/>"
   ]
  },
  {
   "cell_type": "code",
   "execution_count": 37,
   "metadata": {
    "colab": {
     "base_uri": "https://localhost:8080/"
    },
    "executionInfo": {
     "elapsed": 4706823,
     "status": "ok",
     "timestamp": 1652589401109,
     "user": {
      "displayName": "생크림와플먹고싶다",
      "userId": "13048533309979940862"
     },
     "user_tz": -540
    },
    "id": "k6d_kuAcjVJ-",
    "outputId": "58bd0930-e0db-4b73-e48a-9bf79e63eeec",
    "scrolled": true
   },
   "outputs": [
    {
     "name": "stdout",
     "output_type": "stream",
     "text": [
      "Epoch 1/10\n",
      "267/267 [==============================] - 458s 2s/step - loss: 1.9041 - val_loss: 1.5502\n",
      "Epoch 2/10\n",
      "267/267 [==============================] - 473s 2s/step - loss: 1.4691 - val_loss: 1.4186\n",
      "Epoch 3/10\n",
      "267/267 [==============================] - 472s 2s/step - loss: 1.3720 - val_loss: 1.3518\n",
      "Epoch 4/10\n",
      "267/267 [==============================] - 473s 2s/step - loss: 1.2990 - val_loss: 1.3005\n",
      "Epoch 5/10\n",
      "267/267 [==============================] - 473s 2s/step - loss: 1.2866 - val_loss: 1.2745\n",
      "Epoch 6/10\n",
      "267/267 [==============================] - 472s 2s/step - loss: 1.1916 - val_loss: 1.2396\n",
      "Epoch 7/10\n",
      "267/267 [==============================] - 469s 2s/step - loss: 1.1356 - val_loss: 1.2103\n",
      "Epoch 8/10\n",
      "267/267 [==============================] - 471s 2s/step - loss: 1.0822 - val_loss: 1.1858\n",
      "Epoch 9/10\n",
      "267/267 [==============================] - 472s 2s/step - loss: 1.0313 - val_loss: 1.1639\n",
      "Epoch 10/10\n",
      "267/267 [==============================] - 473s 2s/step - loss: 0.9828 - val_loss: 1.1452\n"
     ]
    },
    {
     "data": {
      "text/plain": [
       "<keras.callbacks.History at 0x7fe01ca92050>"
      ]
     },
     "execution_count": 37,
     "metadata": {},
     "output_type": "execute_result"
    }
   ],
   "source": [
    "optimizer = tf.keras.optimizers.Adam()\n",
    "loss = tf.keras.losses.SparseCategoricalCrossentropy(from_logits = True, reduction = 'none')\n",
    "\n",
    "model.compile(loss = loss, optimizer = optimizer)\n",
    "model.fit(dataset, validation_data = (enc_val, dec_val), epochs = 10)"
   ]
  },
  {
   "cell_type": "markdown",
   "metadata": {},
   "source": [
    "<p style= \"font-size:15px; line-height:24px;\">모델을 훈련시킨 시간은 <span style = 'background-color:#fff5b1; padding:0.2px;'>총 2시간 30분</span>이 걸렸다.<br/>\n",
    "예상한대로, 히든레이어와, 임베딩 사이즈를 크게 주었기 때문에 파라미터가 많이 생성되었고, 이로 인해 모델의 훈련 속도가 느려진 것 같다.\n",
    "loss값은 과적합 되었을 것이라는 예상과는 다르게, 훈련 데이터의 loss값과 검증 데이터셋의 loss값이 크게 차이가 나지 않으면서, <span style = 'background-color:#fff5b1; padding:0.2px;'>2.2 이하로 떨어졌다.</span></p>"
   ]
  },
  {
   "cell_type": "markdown",
   "metadata": {},
   "source": [
    "<div style = \"height: 50px;\"><div/>"
   ]
  },
  {
   "cell_type": "markdown",
   "metadata": {},
   "source": [
    "## 5. 작문을 통해 모델 평가해보기\n",
    "<hr/>"
   ]
  },
  {
   "cell_type": "markdown",
   "metadata": {},
   "source": [
    "### 작문 진행 함수 선언하기"
   ]
  },
  {
   "cell_type": "code",
   "execution_count": 38,
   "metadata": {
    "executionInfo": {
     "elapsed": 597,
     "status": "ok",
     "timestamp": 1652589658529,
     "user": {
      "displayName": "생크림와플먹고싶다",
      "userId": "13048533309979940862"
     },
     "user_tz": -540
    },
    "id": "GCNLorft6-gb"
   },
   "outputs": [],
   "source": [
    "def generate_text(model, tokenizer, init_sentence=\"<start>\", max_len=20):\n",
    "    # 테스트를 위해서 입력받은 init_sentence 텐서로 변환\n",
    "    test_input = tokenizer.texts_to_sequences([init_sentence])\n",
    "    test_tensor = tf.convert_to_tensor(test_input, dtype=tf.int64)\n",
    "    end_token = tokenizer.word_index[\"<end>\"]\n",
    "\n",
    "    # 단어 하나씩 예측해 문장을 만듭니다\n",
    "    #    1. 입력받은 문장의 텐서를 입력합니다\n",
    "    #    2. 예측된 값 중 가장 높은 확률인 word index를 뽑아냅니다\n",
    "    #    3. 2에서 예측된 word index를 문장 뒤에 붙입니다\n",
    "    #    4. 모델이 <end>를 예측했거나, max_len에 도달했다면 문장 생성을 마칩니다\n",
    "    while True:\n",
    "        # 1\n",
    "        predict = model(test_tensor) \n",
    "        # 2\n",
    "        predict_word = tf.argmax(tf.nn.softmax(predict, axis=-1), axis=-1)[:, -1] \n",
    "        # 3 \n",
    "        test_tensor = tf.concat([test_tensor, tf.expand_dims(predict_word, axis=0)], axis=-1)\n",
    "        # 4\n",
    "        if predict_word.numpy()[0] == end_token: break\n",
    "        if test_tensor.shape[1] >= max_len: break\n",
    "\n",
    "    generated = \"\"\n",
    "    # tokenizer를 이용해 word index를 단어로 하나씩 변환합니다 \n",
    "    for word_index in test_tensor[0].numpy():\n",
    "        generated += tokenizer.index_word[word_index] + \" \"\n",
    "        \n",
    "    return generated"
   ]
  },
  {
   "cell_type": "markdown",
   "metadata": {},
   "source": [
    "<div style = \"height: 50px;\"><div/>"
   ]
  },
  {
   "cell_type": "markdown",
   "metadata": {},
   "source": [
    "### 작문해보기"
   ]
  },
  {
   "cell_type": "code",
   "execution_count": 39,
   "metadata": {
    "colab": {
     "base_uri": "https://localhost:8080/",
     "height": 34
    },
    "executionInfo": {
     "elapsed": 18,
     "status": "ok",
     "timestamp": 1652589661141,
     "user": {
      "displayName": "생크림와플먹고싶다",
      "userId": "13048533309979940862"
     },
     "user_tz": -540
    },
    "id": "cX_iar25kU5k",
    "outputId": "cf15ac5d-dffd-4fa0-af71-3802f13266d5"
   },
   "outputs": [
    {
     "data": {
      "application/vnd.google.colaboratory.intrinsic+json": {
       "type": "string"
      },
      "text/plain": [
       "'<start> always be a little selfish <end> '"
      ]
     },
     "execution_count": 39,
     "metadata": {},
     "output_type": "execute_result"
    }
   ],
   "source": [
    "generate_text(model, tokenizer, init_sentence=\"<start> always\", max_len=20)"
   ]
  },
  {
   "cell_type": "code",
   "execution_count": 40,
   "metadata": {
    "colab": {
     "base_uri": "https://localhost:8080/",
     "height": 34
    },
    "executionInfo": {
     "elapsed": 16,
     "status": "ok",
     "timestamp": 1652589661142,
     "user": {
      "displayName": "생크림와플먹고싶다",
      "userId": "13048533309979940862"
     },
     "user_tz": -540
    },
    "id": "jOzMFjrK8Gc0",
    "outputId": "98303873-d992-4e13-b14a-b0844a88b8d0"
   },
   "outputs": [
    {
     "data": {
      "application/vnd.google.colaboratory.intrinsic+json": {
       "type": "string"
      },
      "text/plain": [
       "'<start> i think i m not sounding too desperate <end> '"
      ]
     },
     "execution_count": 40,
     "metadata": {},
     "output_type": "execute_result"
    }
   ],
   "source": [
    "generate_text(model, tokenizer, init_sentence=\"<start> i think\", max_len=20)"
   ]
  },
  {
   "cell_type": "code",
   "execution_count": 42,
   "metadata": {
    "colab": {
     "base_uri": "https://localhost:8080/",
     "height": 34
    },
    "executionInfo": {
     "elapsed": 67,
     "status": "ok",
     "timestamp": 1652589668957,
     "user": {
      "displayName": "생크림와플먹고싶다",
      "userId": "13048533309979940862"
     },
     "user_tz": -540
    },
    "id": "rQfU-DnBC3wz",
    "outputId": "e92fe93f-2530-4fde-cf7a-5ccc2af8fb52"
   },
   "outputs": [
    {
     "data": {
      "application/vnd.google.colaboratory.intrinsic+json": {
       "type": "string"
      },
      "text/plain": [
       "'<start> i want to sunroof top <end> '"
      ]
     },
     "execution_count": 42,
     "metadata": {},
     "output_type": "execute_result"
    }
   ],
   "source": [
    "generate_text(model, tokenizer, init_sentence=\"<start> i want\", max_len=20)"
   ]
  },
  {
   "cell_type": "code",
   "execution_count": 43,
   "metadata": {
    "colab": {
     "base_uri": "https://localhost:8080/",
     "height": 34
    },
    "executionInfo": {
     "elapsed": 64,
     "status": "ok",
     "timestamp": 1652589668958,
     "user": {
      "displayName": "생크림와플먹고싶다",
      "userId": "13048533309979940862"
     },
     "user_tz": -540
    },
    "id": "1HZOFK0bK6wl",
    "outputId": "305b75ed-3a95-4087-d066-cfdd81a1dc91"
   },
   "outputs": [
    {
     "data": {
      "application/vnd.google.colaboratory.intrinsic+json": {
       "type": "string"
      },
      "text/plain": [
       "'<start> please don t stop the music <end> '"
      ]
     },
     "execution_count": 43,
     "metadata": {},
     "output_type": "execute_result"
    }
   ],
   "source": [
    "generate_text(model, tokenizer, init_sentence=\"<start> please\", max_len=20)"
   ]
  },
  {
   "cell_type": "code",
   "execution_count": 44,
   "metadata": {
    "colab": {
     "base_uri": "https://localhost:8080/",
     "height": 34
    },
    "executionInfo": {
     "elapsed": 58,
     "status": "ok",
     "timestamp": 1652589668959,
     "user": {
      "displayName": "생크림와플먹고싶다",
      "userId": "13048533309979940862"
     },
     "user_tz": -540
    },
    "id": "X4ETyv1mLCYL",
    "outputId": "b4287f7d-746e-4178-8b63-32460131c7d9"
   },
   "outputs": [
    {
     "data": {
      "application/vnd.google.colaboratory.intrinsic+json": {
       "type": "string"
      },
      "text/plain": [
       "'<start> from the bottom of my broken heart <end> '"
      ]
     },
     "execution_count": 44,
     "metadata": {},
     "output_type": "execute_result"
    }
   ],
   "source": [
    "generate_text(model, tokenizer, init_sentence=\"<start> from\", max_len=20)"
   ]
  },
  {
   "cell_type": "code",
   "execution_count": 45,
   "metadata": {
    "colab": {
     "base_uri": "https://localhost:8080/",
     "height": 34
    },
    "executionInfo": {
     "elapsed": 20,
     "status": "ok",
     "timestamp": 1652589670371,
     "user": {
      "displayName": "생크림와플먹고싶다",
      "userId": "13048533309979940862"
     },
     "user_tz": -540
    },
    "id": "II21LBbsLGIk",
    "outputId": "bdeb2fb8-b232-479f-f8c8-9260f066d413"
   },
   "outputs": [
    {
     "data": {
      "application/vnd.google.colaboratory.intrinsic+json": {
       "type": "string"
      },
      "text/plain": [
       "'<start> love is a beautiful thing <end> '"
      ]
     },
     "execution_count": 45,
     "metadata": {},
     "output_type": "execute_result"
    }
   ],
   "source": [
    "generate_text(model, tokenizer, init_sentence=\"<start> love\", max_len=20)"
   ]
  },
  {
   "cell_type": "code",
   "execution_count": 46,
   "metadata": {
    "colab": {
     "base_uri": "https://localhost:8080/",
     "height": 34
    },
    "executionInfo": {
     "elapsed": 16,
     "status": "ok",
     "timestamp": 1652589680452,
     "user": {
      "displayName": "생크림와플먹고싶다",
      "userId": "13048533309979940862"
     },
     "user_tz": -540
    },
    "id": "_NaKlmfaBSbP",
    "outputId": "f7eda997-1d93-402d-ec11-57c547b30656"
   },
   "outputs": [
    {
     "data": {
      "application/vnd.google.colaboratory.intrinsic+json": {
       "type": "string"
      },
      "text/plain": [
       "'<start> i love you , i love you , i need you <end> '"
      ]
     },
     "execution_count": 46,
     "metadata": {},
     "output_type": "execute_result"
    }
   ],
   "source": [
    "generate_text(model, tokenizer, init_sentence=\"<start> I love\", max_len=20)"
   ]
  },
  {
   "cell_type": "markdown",
   "metadata": {
    "id": "Aq_AcduPJluM"
   },
   "source": [
    "<p style= \"font-size:15px; line-height:24px;\">대부분 잘 나온 것을 확인할 수 있었으나, 해석해보니 소위 중2병 같은 내용이 꽤 많았다.<br/>\n",
    "또한, 출력한 문장 중 sunroof top이 무슨 뜻인지 모르겠다.<br/>\n",
    "검색해본 결과, Pacewon - Sunroof Top이라는 노래가 있는 것을 확인하였는데 뜻은 찾을 수 없었다.</p>"
   ]
  },
  {
   "cell_type": "markdown",
   "metadata": {},
   "source": [
    "<div style = \"height: 50px;\"><div/>"
   ]
  },
  {
   "cell_type": "markdown",
   "metadata": {},
   "source": [
    "# 회고\n",
    "<hr/>"
   ]
  },
  {
   "cell_type": "markdown",
   "metadata": {},
   "source": [
    "<p style= \"font-size:16px; line-height:30px;\">이번 프로젝트를 하면서 처음으로 코랩 pro를 사용해보았는데, 평소 사용하던 jupyter notebook과는 사용 방법이 많이 달라 사용하는데 애를 많이 먹었습니다.</p>"
   ]
  },
  {
   "cell_type": "markdown",
   "metadata": {},
   "source": [
    "<div style = \"height: 50px;\"></div>"
   ]
  },
  {
   "cell_type": "markdown",
   "metadata": {},
   "source": [
    "## 1. 코랩에서 파일을 불러오기 위해서는 구글 드라이브에 올려 불러오는 것이 편하다.\n",
    "<hr/>"
   ]
  },
  {
   "cell_type": "markdown",
   "metadata": {},
   "source": [
    "<p style= \"font-size:16px; line-height:30px;\">로컬 파일을 불러오고자 경로 설정을 하였는데 되지 않아 확인해본 결과,</p>"
   ]
  },
  {
   "cell_type": "code",
   "execution_count": null,
   "metadata": {},
   "outputs": [],
   "source": [
    "from google.colab import drive\n",
    "drive.mount('/content/drive')"
   ]
  },
  {
   "cell_type": "markdown",
   "metadata": {},
   "source": [
    "<p style= \"font-size:16px; line-height:30px;\">를 통해 구글 드라이브와 연동을 시킨 후 파일을 불러올 수 있었다.<br/>\n",
    "또한, 이때 기본 주소(HOME)는 content/가 되며, 이는 os.getcwd()를 통해 현재 경로를 확인할 수 있다.</p>"
   ]
  },
  {
   "cell_type": "markdown",
   "metadata": {},
   "source": [
    "<div style = \"height: 50px;\"></div>"
   ]
  },
  {
   "cell_type": "markdown",
   "metadata": {},
   "source": [
    "## 2. 드라이브 상의 파일의 경로 확인하기\n",
    "<hr/>"
   ]
  },
  {
   "cell_type": "markdown",
   "metadata": {},
   "source": [
    "<img src = \"img/colab_01.png\">"
   ]
  },
  {
   "cell_type": "markdown",
   "metadata": {},
   "source": [
    "<p style= \"font-size:16px; line-height:30px;\">왼쪽 파일 아이콘을 눌러 폴더 목록을 열은 후 원하는 파일에 오른쪽 클릭을 하여 경로를 복사할 수 있다.</p>"
   ]
  },
  {
   "cell_type": "markdown",
   "metadata": {},
   "source": [
    "<div style = \"height: 50px;\"></div>"
   ]
  },
  {
   "cell_type": "markdown",
   "metadata": {},
   "source": [
    "## 3. 모델을 fit할 때에는 꼭 변수를 지정하자\n",
    "<hr/>"
   ]
  },
  {
   "cell_type": "markdown",
   "metadata": {},
   "source": [
    "<p style= \"font-size:16px; line-height:30px;\">모델의 훈련 과정과 데이터의 loss값 등을 이용하기 위해서는 model.fit()할 때, </p>"
   ]
  },
  {
   "cell_type": "code",
   "execution_count": null,
   "metadata": {},
   "outputs": [],
   "source": [
    "history = model.fit()"
   ]
  },
  {
   "cell_type": "markdown",
   "metadata": {},
   "source": [
    "<p style= \"font-size:16px; line-height:30px;\">이렇게 변수를 지정하여 값을 저장해야, 후에 loss값 비교, 모델별 성능 비교 등을 할 수 있으므로, <span style = 'background-color:#fff5b1; padding:0.2px;'>반드시 변수를 생성하는 것이 좋다.</span> <br/>\n",
    "모델을 모두 학습시키고 난 후, 이 사실을 알게되어서 매우 슬펐다. <br/>\n",
    "이번에 모델을 돌릴 때에는 시간이 많이 소요됐으므로 넘어가고, 다음에는 반드시 변수에 저장하여 사용할 것이다.</p>"
   ]
  },
  {
   "cell_type": "markdown",
   "metadata": {},
   "source": [
    "<div style = \"height: 50px;\"></div>"
   ]
  },
  {
   "cell_type": "markdown",
   "metadata": {},
   "source": [
    "## 4. 서브 클래스를 사용하여 모델을 설계했을 때에는 tf.keras.callbacks.ModelCheckpoint로 저장하자\n",
    "<hr/>"
   ]
  },
  {
   "cell_type": "markdown",
   "metadata": {},
   "source": [
    "- [콜백 사용하는 방법 1](https://deep-deep-deep.tistory.com/53)\n",
    "- [콜백 사용하는 방법 2](https://teddylee777.github.io/tensorflow/keras-%EC%BD%9C%EB%B0%B1%ED%95%A8%EC%88%98-vol-02)\n",
    "- [텐서플로우 콜백](https://www.tensorflow.org/guide/checkpoint?hl=ko)\n",
    "- [model.save()](https://www.tensorflow.org/guide/keras/save_and_serialize?hl=ko)"
   ]
  },
  {
   "cell_type": "markdown",
   "metadata": {},
   "source": [
    "<p style= \"font-size:16px; line-height:30px;\">파일을 닫고 다시 열었을 때에는 모델을 다시 사용할 수 없으므로, model.save()를 사용하여 .h5(h5파일)로 저장해야한다. 이 후, tf.saved_model.load()로 쉽게 불러올 수 있다.<br/>\n",
    "<span style = 'background-color:#fff5b1; padding:0.2px;'>그러나, 이 방법은 함수형 또는 시퀀셜 API(모델을 순차적으로 쌓음)를 사용하여 만든 모델에만 사용하 가능하다.</span></p>"
   ]
  },
  {
   "cell_type": "markdown",
   "metadata": {},
   "source": [
    "<p style= \"font-size:16px; line-height:30px;\">실제로 모델을 돌렸을 시,  save_format='tf'으로 지정하라는 오류가 발생하는 것을 확인할 수 있었다.</p>"
   ]
  },
  {
   "cell_type": "markdown",
   "metadata": {},
   "source": [
    "<p style= \"font-size:16px; line-height:30px;\">이 후, 모델을 tf로 저장하여 불러오니, model.summary()는 먹히나, 모델 입력 값의 shape가 다르다는 오류가 발생하였다.\n",
    "확인해본 결과, model.save()는 서브클래스를 사용한 모델은 저장할 수 없으며, 가중치만 저장하여 사용할 수 있다는 것을 확인할 수 있었다. <br/>\n",
    "때문에, 파일로 저장된 모델과 실제 적용하는 모델이 달라져서 적용할 수 없었다.</p>"
   ]
  },
  {
   "cell_type": "markdown",
   "metadata": {},
   "source": [
    "<p style= \"font-size:16px; line-height:30px;\">서브 클래스를 사용하여 모델을 설계했다면, <span style = 'background-color:#fff5b1; padding:0.2px;'>tf.keras.callbacks.ModelCheckpoint</span>로 모델의 저장하여 불러올 수 있다.<br/>\n",
    "ModelCheckpoint는 모델이 학습하면서 정의한 조건(fit())을 만족했을 때, Model의 가중치 값을 중간중간 저장한다. 학습시간이 오래 걸린다면 loss값이 올라갔을 때에는 저장하지 않고, 떨어졌을 때에는 가중치를 저장함으로서, 중간에 과적합이 발생하였거나, 다양한 문제가 발생했을 때, 다시 중간의 가중치 값을 불러와서 학습을 이어나갈 수 있다.</p>"
   ]
  },
  {
   "cell_type": "markdown",
   "metadata": {},
   "source": [
    "<div style = \"height: 50px;\"></div>"
   ]
  },
  {
   "cell_type": "markdown",
   "metadata": {},
   "source": [
    "## 5. 코랩은 모델을 fit()하는 도중, 시간이 지나면 런타임이 끊긴다.  \n",
    "<hr/>"
   ]
  },
  {
   "cell_type": "markdown",
   "metadata": {},
   "source": [
    "<p style= \"font-size:16px; line-height:30px;\">이번에는 모델의 훈련 시간이 오래 걸리기 때문에, 자기 직전 model.fit()을 실행시켰다.\n",
    "자고 일어나면 모델 훈련이 끝났을 것이라는 기대와는 달리, 중간에 런타임이 끊겨 모델을 다시 사용할 수도 없고, 훈련 도중에 런타임이 끊긴 것을 확인할 수 있었다.<br/>\n",
    "조심하여 돌려야겠다.</p>"
   ]
  }
 ],
 "metadata": {
  "accelerator": "GPU",
  "colab": {
   "authorship_tag": "ABX9TyNm7WvT6AEvfPRMHyJnZ4RX",
   "collapsed_sections": [],
   "machine_shape": "hm",
   "name": "Untitled0.ipynb의 사본",
   "provenance": []
  },
  "kernelspec": {
   "display_name": "Python 3 (ipykernel)",
   "language": "python",
   "name": "python3"
  },
  "language_info": {
   "codemirror_mode": {
    "name": "ipython",
    "version": 3
   },
   "file_extension": ".py",
   "mimetype": "text/x-python",
   "name": "python",
   "nbconvert_exporter": "python",
   "pygments_lexer": "ipython3",
   "version": "3.9.7"
  }
 },
 "nbformat": 4,
 "nbformat_minor": 1
}
