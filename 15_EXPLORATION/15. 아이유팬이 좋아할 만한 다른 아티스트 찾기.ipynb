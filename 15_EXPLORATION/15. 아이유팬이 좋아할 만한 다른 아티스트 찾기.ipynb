{
 "cells": [
  {
   "cell_type": "markdown",
   "id": "df47d60c",
   "metadata": {},
   "source": [
    "<div style = \"height: 50px;\"></div>"
   ]
  },
  {
   "cell_type": "markdown",
   "id": "73623ce1",
   "metadata": {},
   "source": [
    "# 필요한 모듈 불러오기"
   ]
  },
  {
   "cell_type": "code",
   "execution_count": 68,
   "id": "577f17b4",
   "metadata": {},
   "outputs": [],
   "source": [
    "import os\n",
    "\n",
    "import pandas            as pd\n",
    "import matplotlib.pyplot as plt\n",
    "import numpy             as np\n",
    "import tensorflow        as tf\n",
    "\n",
    "import warnings\n",
    "warnings.simplefilter(\"ignore\")\n",
    "\n",
    "from scipy.sparse import csr_matrix\n",
    "from implicit.als import AlternatingLeastSquares"
   ]
  },
  {
   "cell_type": "markdown",
   "id": "3df08efe",
   "metadata": {},
   "source": [
    "<div style = \"height: 50px;\"><div/>"
   ]
  },
  {
   "cell_type": "markdown",
   "id": "53ded1e4",
   "metadata": {},
   "source": [
    "# <span style = \"font-weight:bold;color:#0172d4;\">STEP 1</span> : 데이터 전처리"
   ]
  },
  {
   "cell_type": "markdown",
   "id": "d766ab01",
   "metadata": {},
   "source": [
    "## 1. 데이터 불러오기 (1) ratings\n",
    "<hr/>"
   ]
  },
  {
   "cell_type": "code",
   "execution_count": 69,
   "id": "d3b60ff7",
   "metadata": {},
   "outputs": [
    {
     "data": {
      "text/html": [
       "<div>\n",
       "<style scoped>\n",
       "    .dataframe tbody tr th:only-of-type {\n",
       "        vertical-align: middle;\n",
       "    }\n",
       "\n",
       "    .dataframe tbody tr th {\n",
       "        vertical-align: top;\n",
       "    }\n",
       "\n",
       "    .dataframe thead th {\n",
       "        text-align: right;\n",
       "    }\n",
       "</style>\n",
       "<table border=\"1\" class=\"dataframe\">\n",
       "  <thead>\n",
       "    <tr style=\"text-align: right;\">\n",
       "      <th></th>\n",
       "      <th>user_id</th>\n",
       "      <th>movie_id</th>\n",
       "      <th>ratings</th>\n",
       "      <th>timestamp</th>\n",
       "    </tr>\n",
       "  </thead>\n",
       "  <tbody>\n",
       "    <tr>\n",
       "      <th>0</th>\n",
       "      <td>1</td>\n",
       "      <td>1193</td>\n",
       "      <td>5</td>\n",
       "      <td>978300760</td>\n",
       "    </tr>\n",
       "    <tr>\n",
       "      <th>1</th>\n",
       "      <td>1</td>\n",
       "      <td>661</td>\n",
       "      <td>3</td>\n",
       "      <td>978302109</td>\n",
       "    </tr>\n",
       "  </tbody>\n",
       "</table>\n",
       "</div>"
      ],
      "text/plain": [
       "   user_id  movie_id  ratings  timestamp\n",
       "0        1      1193        5  978300760\n",
       "1        1       661        3  978302109"
      ]
     },
     "execution_count": 69,
     "metadata": {},
     "output_type": "execute_result"
    }
   ],
   "source": [
    "rating_file_path='data/ratings.dat'\n",
    "ratings_cols = ['user_id', 'movie_id', 'ratings', 'timestamp']\n",
    "ratings = pd.read_csv(rating_file_path, sep = '::', names = ratings_cols, engine = 'python', encoding = \"ISO-8859-1\")\n",
    "orginal_data_size = len(ratings)\n",
    "ratings.head(2)"
   ]
  },
  {
   "cell_type": "markdown",
   "id": "39c4126b",
   "metadata": {},
   "source": [
    "<div style = \"height: 50px;\"><div/>"
   ]
  },
  {
   "cell_type": "markdown",
   "id": "57a01ccc",
   "metadata": {},
   "source": [
    "## 2. 데이터 전처리하기 (1) ratings\n",
    "<hr/>"
   ]
  },
  {
   "cell_type": "markdown",
   "id": "3094c116",
   "metadata": {},
   "source": [
    "### ratings 3점 미만은 삭제하기"
   ]
  },
  {
   "cell_type": "code",
   "execution_count": 70,
   "id": "d2e4f8eb",
   "metadata": {},
   "outputs": [],
   "source": [
    "# 3점 이상만 남깁니다.\n",
    "ratings = ratings[ratings['ratings'] >= 3]\n",
    "filtered_data_size = len(ratings)"
   ]
  },
  {
   "cell_type": "code",
   "execution_count": 71,
   "id": "eb5ea7e0",
   "metadata": {},
   "outputs": [
    {
     "name": "stdout",
     "output_type": "stream",
     "text": [
      "orginal_data_size: 1000209, filtered_data_size: 836478\n",
      "Ratio of Remaining Data is 83.63%\n"
     ]
    }
   ],
   "source": [
    "print(f'orginal_data_size: {orginal_data_size}, filtered_data_size: {filtered_data_size}')\n",
    "print(f'Ratio of Remaining Data is {filtered_data_size / orginal_data_size:.2%}')"
   ]
  },
  {
   "cell_type": "markdown",
   "id": "dfcde147",
   "metadata": {},
   "source": [
    "<div style = \"height: 25px;\"><div/>"
   ]
  },
  {
   "cell_type": "markdown",
   "id": "5e3962c1",
   "metadata": {},
   "source": [
    "### atings 컬럼의 이름을 counts로 변경"
   ]
  },
  {
   "cell_type": "code",
   "execution_count": 72,
   "id": "f3b94db2",
   "metadata": {},
   "outputs": [],
   "source": [
    "# ratings 컬럼의 이름을 counts로 바꿉니다.\n",
    "ratings.rename(columns = {'ratings':'counts'}, inplace = True)"
   ]
  },
  {
   "cell_type": "code",
   "execution_count": 73,
   "id": "da65fcf3",
   "metadata": {},
   "outputs": [
    {
     "data": {
      "text/html": [
       "<div>\n",
       "<style scoped>\n",
       "    .dataframe tbody tr th:only-of-type {\n",
       "        vertical-align: middle;\n",
       "    }\n",
       "\n",
       "    .dataframe tbody tr th {\n",
       "        vertical-align: top;\n",
       "    }\n",
       "\n",
       "    .dataframe thead th {\n",
       "        text-align: right;\n",
       "    }\n",
       "</style>\n",
       "<table border=\"1\" class=\"dataframe\">\n",
       "  <thead>\n",
       "    <tr style=\"text-align: right;\">\n",
       "      <th></th>\n",
       "      <th>user_id</th>\n",
       "      <th>movie_id</th>\n",
       "      <th>counts</th>\n",
       "      <th>timestamp</th>\n",
       "    </tr>\n",
       "  </thead>\n",
       "  <tbody>\n",
       "    <tr>\n",
       "      <th>0</th>\n",
       "      <td>1</td>\n",
       "      <td>1193</td>\n",
       "      <td>5</td>\n",
       "      <td>978300760</td>\n",
       "    </tr>\n",
       "    <tr>\n",
       "      <th>1</th>\n",
       "      <td>1</td>\n",
       "      <td>661</td>\n",
       "      <td>3</td>\n",
       "      <td>978302109</td>\n",
       "    </tr>\n",
       "  </tbody>\n",
       "</table>\n",
       "</div>"
      ],
      "text/plain": [
       "   user_id  movie_id  counts  timestamp\n",
       "0        1      1193       5  978300760\n",
       "1        1       661       3  978302109"
      ]
     },
     "execution_count": 73,
     "metadata": {},
     "output_type": "execute_result"
    }
   ],
   "source": [
    "ratings.head(2)"
   ]
  },
  {
   "cell_type": "markdown",
   "id": "6f31505d",
   "metadata": {},
   "source": [
    "<div style = \"height: 50px;\"><div/>"
   ]
  },
  {
   "cell_type": "markdown",
   "id": "21068dcb",
   "metadata": {},
   "source": [
    "## 3. 데이터 불러오기 (2) movies\n",
    "<hr/>"
   ]
  },
  {
   "cell_type": "code",
   "execution_count": 74,
   "id": "d2cc8582",
   "metadata": {},
   "outputs": [
    {
     "data": {
      "text/html": [
       "<div>\n",
       "<style scoped>\n",
       "    .dataframe tbody tr th:only-of-type {\n",
       "        vertical-align: middle;\n",
       "    }\n",
       "\n",
       "    .dataframe tbody tr th {\n",
       "        vertical-align: top;\n",
       "    }\n",
       "\n",
       "    .dataframe thead th {\n",
       "        text-align: right;\n",
       "    }\n",
       "</style>\n",
       "<table border=\"1\" class=\"dataframe\">\n",
       "  <thead>\n",
       "    <tr style=\"text-align: right;\">\n",
       "      <th></th>\n",
       "      <th>movie_id</th>\n",
       "      <th>title</th>\n",
       "      <th>genre</th>\n",
       "    </tr>\n",
       "  </thead>\n",
       "  <tbody>\n",
       "    <tr>\n",
       "      <th>0</th>\n",
       "      <td>1</td>\n",
       "      <td>Toy Story (1995)</td>\n",
       "      <td>Animation|Children's|Comedy</td>\n",
       "    </tr>\n",
       "    <tr>\n",
       "      <th>1</th>\n",
       "      <td>2</td>\n",
       "      <td>Jumanji (1995)</td>\n",
       "      <td>Adventure|Children's|Fantasy</td>\n",
       "    </tr>\n",
       "  </tbody>\n",
       "</table>\n",
       "</div>"
      ],
      "text/plain": [
       "   movie_id             title                         genre\n",
       "0         1  Toy Story (1995)   Animation|Children's|Comedy\n",
       "1         2    Jumanji (1995)  Adventure|Children's|Fantasy"
      ]
     },
     "execution_count": 74,
     "metadata": {},
     "output_type": "execute_result"
    }
   ],
   "source": [
    "# 영화 제목을 보기 위해 메타 데이터를 읽어옵니다.\n",
    "movie_file_path = 'data/movies.dat'\n",
    "cols = ['movie_id', 'title', 'genre'] \n",
    "movies = pd.read_csv(movie_file_path, sep = '::', names = cols, engine = 'python', encoding = 'ISO-8859-1')\n",
    "movies.head(2)"
   ]
  },
  {
   "cell_type": "markdown",
   "id": "99fe841b",
   "metadata": {},
   "source": [
    "<div style = \"height: 50px;\"><div/>"
   ]
  },
  {
   "cell_type": "markdown",
   "id": "d9f9214a",
   "metadata": {},
   "source": [
    "## 4. 데이터 전처리하기 (2) movies\n",
    "<hr/>"
   ]
  },
  {
   "cell_type": "markdown",
   "id": "90ecbf62",
   "metadata": {},
   "source": [
    "### 문자형 데이터 소문자로 변환하기"
   ]
  },
  {
   "cell_type": "code",
   "execution_count": 75,
   "id": "8be9e7ac",
   "metadata": {},
   "outputs": [],
   "source": [
    "movies['title'] = movies['title'].str.lower()\n",
    "movies['genre'] = movies['genre'].str.lower()"
   ]
  },
  {
   "cell_type": "code",
   "execution_count": 76,
   "id": "de6000f5",
   "metadata": {},
   "outputs": [
    {
     "data": {
      "text/html": [
       "<div>\n",
       "<style scoped>\n",
       "    .dataframe tbody tr th:only-of-type {\n",
       "        vertical-align: middle;\n",
       "    }\n",
       "\n",
       "    .dataframe tbody tr th {\n",
       "        vertical-align: top;\n",
       "    }\n",
       "\n",
       "    .dataframe thead th {\n",
       "        text-align: right;\n",
       "    }\n",
       "</style>\n",
       "<table border=\"1\" class=\"dataframe\">\n",
       "  <thead>\n",
       "    <tr style=\"text-align: right;\">\n",
       "      <th></th>\n",
       "      <th>movie_id</th>\n",
       "      <th>title</th>\n",
       "      <th>genre</th>\n",
       "    </tr>\n",
       "  </thead>\n",
       "  <tbody>\n",
       "    <tr>\n",
       "      <th>0</th>\n",
       "      <td>1</td>\n",
       "      <td>toy story (1995)</td>\n",
       "      <td>animation|children's|comedy</td>\n",
       "    </tr>\n",
       "    <tr>\n",
       "      <th>1</th>\n",
       "      <td>2</td>\n",
       "      <td>jumanji (1995)</td>\n",
       "      <td>adventure|children's|fantasy</td>\n",
       "    </tr>\n",
       "    <tr>\n",
       "      <th>2</th>\n",
       "      <td>3</td>\n",
       "      <td>grumpier old men (1995)</td>\n",
       "      <td>comedy|romance</td>\n",
       "    </tr>\n",
       "    <tr>\n",
       "      <th>3</th>\n",
       "      <td>4</td>\n",
       "      <td>waiting to exhale (1995)</td>\n",
       "      <td>comedy|drama</td>\n",
       "    </tr>\n",
       "    <tr>\n",
       "      <th>4</th>\n",
       "      <td>5</td>\n",
       "      <td>father of the bride part ii (1995)</td>\n",
       "      <td>comedy</td>\n",
       "    </tr>\n",
       "    <tr>\n",
       "      <th>5</th>\n",
       "      <td>6</td>\n",
       "      <td>heat (1995)</td>\n",
       "      <td>action|crime|thriller</td>\n",
       "    </tr>\n",
       "    <tr>\n",
       "      <th>6</th>\n",
       "      <td>7</td>\n",
       "      <td>sabrina (1995)</td>\n",
       "      <td>comedy|romance</td>\n",
       "    </tr>\n",
       "    <tr>\n",
       "      <th>7</th>\n",
       "      <td>8</td>\n",
       "      <td>tom and huck (1995)</td>\n",
       "      <td>adventure|children's</td>\n",
       "    </tr>\n",
       "    <tr>\n",
       "      <th>8</th>\n",
       "      <td>9</td>\n",
       "      <td>sudden death (1995)</td>\n",
       "      <td>action</td>\n",
       "    </tr>\n",
       "    <tr>\n",
       "      <th>9</th>\n",
       "      <td>10</td>\n",
       "      <td>goldeneye (1995)</td>\n",
       "      <td>action|adventure|thriller</td>\n",
       "    </tr>\n",
       "  </tbody>\n",
       "</table>\n",
       "</div>"
      ],
      "text/plain": [
       "   movie_id                               title                         genre\n",
       "0         1                    toy story (1995)   animation|children's|comedy\n",
       "1         2                      jumanji (1995)  adventure|children's|fantasy\n",
       "2         3             grumpier old men (1995)                comedy|romance\n",
       "3         4            waiting to exhale (1995)                  comedy|drama\n",
       "4         5  father of the bride part ii (1995)                        comedy\n",
       "5         6                         heat (1995)         action|crime|thriller\n",
       "6         7                      sabrina (1995)                comedy|romance\n",
       "7         8                 tom and huck (1995)          adventure|children's\n",
       "8         9                 sudden death (1995)                        action\n",
       "9        10                    goldeneye (1995)     action|adventure|thriller"
      ]
     },
     "execution_count": 76,
     "metadata": {},
     "output_type": "execute_result"
    }
   ],
   "source": [
    "movies.head(10)"
   ]
  },
  {
   "cell_type": "markdown",
   "id": "d516d0ec",
   "metadata": {},
   "source": [
    "<div style = \"height: 50px;\"></div>"
   ]
  },
  {
   "cell_type": "markdown",
   "id": "5e681529",
   "metadata": {},
   "source": [
    "## 5. 데이터 합치기 \n",
    "<hr/>"
   ]
  },
  {
   "cell_type": "markdown",
   "id": "904748dc",
   "metadata": {},
   "source": [
    "<p style= \"font-size:15px; line-height:24px;\">데이터를 분석하거나 모델을 돌릴 떄에는 ratings데이터를 사용하는데, <br/>\n",
    "이를 출력했을 때 movie_id만 나오는 것 보다는 제목과 타이틀이 같이 나오는 것이 보기 편할 것이라고 판단되어 데이터를 합치고자 한다.</p>"
   ]
  },
  {
   "cell_type": "code",
   "execution_count": 77,
   "id": "bd48b26a",
   "metadata": {},
   "outputs": [
    {
     "data": {
      "text/html": [
       "<div>\n",
       "<style scoped>\n",
       "    .dataframe tbody tr th:only-of-type {\n",
       "        vertical-align: middle;\n",
       "    }\n",
       "\n",
       "    .dataframe tbody tr th {\n",
       "        vertical-align: top;\n",
       "    }\n",
       "\n",
       "    .dataframe thead th {\n",
       "        text-align: right;\n",
       "    }\n",
       "</style>\n",
       "<table border=\"1\" class=\"dataframe\">\n",
       "  <thead>\n",
       "    <tr style=\"text-align: right;\">\n",
       "      <th></th>\n",
       "      <th>movie_id</th>\n",
       "      <th>title</th>\n",
       "      <th>genre</th>\n",
       "    </tr>\n",
       "  </thead>\n",
       "  <tbody>\n",
       "    <tr>\n",
       "      <th>0</th>\n",
       "      <td>1</td>\n",
       "      <td>toy story (1995)</td>\n",
       "      <td>animation|children's|comedy</td>\n",
       "    </tr>\n",
       "    <tr>\n",
       "      <th>1</th>\n",
       "      <td>2</td>\n",
       "      <td>jumanji (1995)</td>\n",
       "      <td>adventure|children's|fantasy</td>\n",
       "    </tr>\n",
       "  </tbody>\n",
       "</table>\n",
       "</div>"
      ],
      "text/plain": [
       "   movie_id             title                         genre\n",
       "0         1  toy story (1995)   animation|children's|comedy\n",
       "1         2    jumanji (1995)  adventure|children's|fantasy"
      ]
     },
     "execution_count": 77,
     "metadata": {},
     "output_type": "execute_result"
    }
   ],
   "source": [
    "movies.head(2)"
   ]
  },
  {
   "cell_type": "code",
   "execution_count": 78,
   "id": "0739fd49",
   "metadata": {},
   "outputs": [],
   "source": [
    "# movie_id 값을 기준으로 데이터프레임 정렬하기\n",
    "ratings = ratings.sort_values(by = 'movie_id')"
   ]
  },
  {
   "cell_type": "code",
   "execution_count": 79,
   "id": "11bc1929",
   "metadata": {},
   "outputs": [],
   "source": [
    "def data_add(dic_columns, dic_columns2):\n",
    "\n",
    "    # 영화 movie_id, dic_columns2 딕셔너리화 하기\n",
    "    movies_dict =  movies[dic_columns]\n",
    "    movies_dict = pd.DataFrame(movies_dict)\n",
    "    movies_dict[dic_columns2] = movies[dic_columns2]\n",
    "    movies_dict.set_index(dic_columns, inplace = True)\n",
    "    movies_dict = movies_dict.to_dict()\n",
    "    movies_dict[dic_columns2][1]\n",
    "    movies_dict_2 = movies_dict[dic_columns2]\n",
    "    \n",
    "    # ratings[dic_columns]와 같은 값이라면 dic_columns2을 빈 리스트에 추가하는 함수\n",
    "    movie_list = []\n",
    "\n",
    "    for m_id, m_title in movies_dict_2.items():\n",
    "        for j in ratings[dic_columns]:\n",
    "            if j == m_id:\n",
    "                movie_list.append(m_title)\n",
    "    \n",
    "    # 위에 만든 리스트를 ratings의 새로운 열로 만듦\n",
    "    ratings[dic_columns2] = movie_list"
   ]
  },
  {
   "cell_type": "markdown",
   "id": "4d09e1ed",
   "metadata": {},
   "source": [
    "<p style= \"font-size:15px; line-height:24px;\">위 함수는 dic_columns(movie_id)를 key값으로, dic_columns2(ratings에 추가할 열 값)을 values값으로 하는 딕셔너리를 생성한 후,<br/> \n",
    "ratings의 movie_id와 생성한 딕셔너리의 키값(movie_id)과 같다면, dic_columns2값을 추가하는 함수이다.</p>"
   ]
  },
  {
   "cell_type": "code",
   "execution_count": 80,
   "id": "915504ee",
   "metadata": {},
   "outputs": [],
   "source": [
    "# ratings에 title 추가\n",
    "data_add('movie_id', 'title')"
   ]
  },
  {
   "cell_type": "code",
   "execution_count": 81,
   "id": "5b500f0f",
   "metadata": {},
   "outputs": [],
   "source": [
    "# ratings에 genre 추가\n",
    "data_add('movie_id', 'genre')"
   ]
  },
  {
   "cell_type": "code",
   "execution_count": 82,
   "id": "c93f9afa",
   "metadata": {},
   "outputs": [],
   "source": [
    "ratings = ratings.reset_index(drop = True)"
   ]
  },
  {
   "cell_type": "code",
   "execution_count": 83,
   "id": "a956a890",
   "metadata": {},
   "outputs": [
    {
     "data": {
      "text/html": [
       "<div>\n",
       "<style scoped>\n",
       "    .dataframe tbody tr th:only-of-type {\n",
       "        vertical-align: middle;\n",
       "    }\n",
       "\n",
       "    .dataframe tbody tr th {\n",
       "        vertical-align: top;\n",
       "    }\n",
       "\n",
       "    .dataframe thead th {\n",
       "        text-align: right;\n",
       "    }\n",
       "</style>\n",
       "<table border=\"1\" class=\"dataframe\">\n",
       "  <thead>\n",
       "    <tr style=\"text-align: right;\">\n",
       "      <th></th>\n",
       "      <th>user_id</th>\n",
       "      <th>movie_id</th>\n",
       "      <th>counts</th>\n",
       "      <th>timestamp</th>\n",
       "      <th>title</th>\n",
       "      <th>genre</th>\n",
       "    </tr>\n",
       "  </thead>\n",
       "  <tbody>\n",
       "    <tr>\n",
       "      <th>836473</th>\n",
       "      <td>4939</td>\n",
       "      <td>3952</td>\n",
       "      <td>3</td>\n",
       "      <td>987878275</td>\n",
       "      <td>contender, the (2000)</td>\n",
       "      <td>drama|thriller</td>\n",
       "    </tr>\n",
       "    <tr>\n",
       "      <th>836474</th>\n",
       "      <td>1748</td>\n",
       "      <td>3952</td>\n",
       "      <td>3</td>\n",
       "      <td>992337202</td>\n",
       "      <td>contender, the (2000)</td>\n",
       "      <td>drama|thriller</td>\n",
       "    </tr>\n",
       "    <tr>\n",
       "      <th>836475</th>\n",
       "      <td>1965</td>\n",
       "      <td>3952</td>\n",
       "      <td>3</td>\n",
       "      <td>974688627</td>\n",
       "      <td>contender, the (2000)</td>\n",
       "      <td>drama|thriller</td>\n",
       "    </tr>\n",
       "    <tr>\n",
       "      <th>836476</th>\n",
       "      <td>1589</td>\n",
       "      <td>3952</td>\n",
       "      <td>4</td>\n",
       "      <td>974734727</td>\n",
       "      <td>contender, the (2000)</td>\n",
       "      <td>drama|thriller</td>\n",
       "    </tr>\n",
       "    <tr>\n",
       "      <th>836477</th>\n",
       "      <td>4816</td>\n",
       "      <td>3952</td>\n",
       "      <td>4</td>\n",
       "      <td>985653887</td>\n",
       "      <td>contender, the (2000)</td>\n",
       "      <td>drama|thriller</td>\n",
       "    </tr>\n",
       "  </tbody>\n",
       "</table>\n",
       "</div>"
      ],
      "text/plain": [
       "        user_id  movie_id  counts  timestamp                  title  \\\n",
       "836473     4939      3952       3  987878275  contender, the (2000)   \n",
       "836474     1748      3952       3  992337202  contender, the (2000)   \n",
       "836475     1965      3952       3  974688627  contender, the (2000)   \n",
       "836476     1589      3952       4  974734727  contender, the (2000)   \n",
       "836477     4816      3952       4  985653887  contender, the (2000)   \n",
       "\n",
       "                 genre  \n",
       "836473  drama|thriller  \n",
       "836474  drama|thriller  \n",
       "836475  drama|thriller  \n",
       "836476  drama|thriller  \n",
       "836477  drama|thriller  "
      ]
     },
     "execution_count": 83,
     "metadata": {},
     "output_type": "execute_result"
    }
   ],
   "source": [
    "ratings.tail()"
   ]
  },
  {
   "cell_type": "markdown",
   "id": "e3e9220e",
   "metadata": {},
   "source": [
    "<div style = \"height: 50px;\"></div>"
   ]
  },
  {
   "cell_type": "markdown",
   "id": "f5bcf514",
   "metadata": {},
   "source": [
    "# <span style = \"font-weight:bold;color:#0172d4;\">STEP 2</span> : 데이터 분석하기"
   ]
  },
  {
   "cell_type": "markdown",
   "id": "245b1dfc",
   "metadata": {},
   "source": [
    "## 1. ratings에 있는 유니크한 영화 개수\n",
    "<hr/>"
   ]
  },
  {
   "cell_type": "code",
   "execution_count": 84,
   "id": "a7682c3d",
   "metadata": {},
   "outputs": [
    {
     "data": {
      "text/plain": [
       "3628"
      ]
     },
     "execution_count": 84,
     "metadata": {},
     "output_type": "execute_result"
    }
   ],
   "source": [
    "# ratings에 있는 유니크한 영화 개수\n",
    "ratings['movie_id'].nunique()"
   ]
  },
  {
   "cell_type": "markdown",
   "id": "451b7a6b",
   "metadata": {},
   "source": [
    "<div style = \"height: 50px;\"></div>"
   ]
  },
  {
   "cell_type": "markdown",
   "id": "28ad7710",
   "metadata": {},
   "source": [
    "## 2. ratings에 있는 유니크한 사용자 수\n",
    "<hr/>"
   ]
  },
  {
   "cell_type": "code",
   "execution_count": 85,
   "id": "9ed5764f",
   "metadata": {},
   "outputs": [
    {
     "data": {
      "text/plain": [
       "6039"
      ]
     },
     "execution_count": 85,
     "metadata": {},
     "output_type": "execute_result"
    }
   ],
   "source": [
    "# ratings에 있는 유니크한 사용자 수\n",
    "ratings['user_id'].nunique()"
   ]
  },
  {
   "cell_type": "markdown",
   "id": "17ba7570",
   "metadata": {},
   "source": [
    "<div style = \"height: 50px;\"></div>"
   ]
  },
  {
   "cell_type": "markdown",
   "id": "4f9cb641",
   "metadata": {},
   "source": [
    "## 3. 가장 인기 있는 영화 30개(인기순)\n",
    "<hr/>"
   ]
  },
  {
   "cell_type": "markdown",
   "id": "fdcde9cc",
   "metadata": {},
   "source": [
    "<p style= \"font-size:15px; line-height:24px;\">인기의 기준은, 영화의 user_id 개수이다.<br/>\n",
    "user_id 개수가 가장 많은 movie_id를 찾은 후, 이를 통해 영화 제목을 출력하고자 한다.</p>"
   ]
  },
  {
   "cell_type": "code",
   "execution_count": 86,
   "id": "801e54e6",
   "metadata": {},
   "outputs": [],
   "source": [
    "# 인기 많은 아티스트\n",
    "movie_id_count = ratings.groupby('title')['user_id'].count()"
   ]
  },
  {
   "cell_type": "code",
   "execution_count": 87,
   "id": "6c4be0a4",
   "metadata": {},
   "outputs": [],
   "source": [
    "movie_id_count = movie_id_count.sort_values(ascending=False).head(30)"
   ]
  },
  {
   "cell_type": "code",
   "execution_count": 88,
   "id": "52debd38",
   "metadata": {},
   "outputs": [
    {
     "data": {
      "text/plain": [
       "title\n",
       "american beauty (1999)                                   3211\n",
       "star wars: episode iv - a new hope (1977)                2910\n",
       "star wars: episode v - the empire strikes back (1980)    2885\n",
       "star wars: episode vi - return of the jedi (1983)        2716\n",
       "saving private ryan (1998)                               2561\n",
       "terminator 2: judgment day (1991)                        2509\n",
       "silence of the lambs, the (1991)                         2498\n",
       "raiders of the lost ark (1981)                           2473\n",
       "back to the future (1985)                                2460\n",
       "matrix, the (1999)                                       2434\n",
       "jurassic park (1993)                                     2413\n",
       "sixth sense, the (1999)                                  2385\n",
       "fargo (1996)                                             2371\n",
       "braveheart (1995)                                        2314\n",
       "men in black (1997)                                      2297\n",
       "schindler's list (1993)                                  2257\n",
       "princess bride, the (1987)                               2252\n",
       "shakespeare in love (1998)                               2213\n",
       "l.a. confidential (1997)                                 2210\n",
       "shawshank redemption, the (1994)                         2194\n",
       "godfather, the (1972)                                    2167\n",
       "groundhog day (1993)                                     2121\n",
       "e.t. the extra-terrestrial (1982)                        2102\n",
       "being john malkovich (1999)                              2066\n",
       "ghostbusters (1984)                                      2051\n",
       "pulp fiction (1994)                                      2030\n",
       "forrest gump (1994)                                      2022\n",
       "terminator, the (1984)                                   2019\n",
       "toy story (1995)                                         2000\n",
       "fugitive, the (1993)                                     1941\n",
       "Name: user_id, dtype: int64"
      ]
     },
     "execution_count": 88,
     "metadata": {},
     "output_type": "execute_result"
    }
   ],
   "source": [
    "movie_id_count"
   ]
  },
  {
   "cell_type": "markdown",
   "id": "298ef6c2",
   "metadata": {},
   "source": [
    "<div style = \"height: 50px;\"></div>"
   ]
  },
  {
   "cell_type": "markdown",
   "id": "2ce135b7",
   "metadata": {},
   "source": [
    "# <span style = \"font-weight:bold;color:#0172d4;\">STEP 3</span> : 선호하는 영화 5가지를 ratings에 추가하기 "
   ]
  },
  {
   "cell_type": "markdown",
   "id": "2e06e253",
   "metadata": {},
   "source": [
    "<p style= \"font-size:15px; line-height:24px;\">애니메이션 장르의 영화만 출력하여 좋아하는 영화가 있는지 확인해보고자 한다.</p>"
   ]
  },
  {
   "cell_type": "code",
   "execution_count": 89,
   "id": "b60f1ed1",
   "metadata": {},
   "outputs": [],
   "source": [
    "# 영화 검색을 통해 movie_id 찾기"
   ]
  },
  {
   "cell_type": "code",
   "execution_count": 90,
   "id": "c0775c59",
   "metadata": {},
   "outputs": [
    {
     "data": {
      "text/html": [
       "<div>\n",
       "<style scoped>\n",
       "    .dataframe tbody tr th:only-of-type {\n",
       "        vertical-align: middle;\n",
       "    }\n",
       "\n",
       "    .dataframe tbody tr th {\n",
       "        vertical-align: top;\n",
       "    }\n",
       "\n",
       "    .dataframe thead th {\n",
       "        text-align: right;\n",
       "    }\n",
       "</style>\n",
       "<table border=\"1\" class=\"dataframe\">\n",
       "  <thead>\n",
       "    <tr style=\"text-align: right;\">\n",
       "      <th></th>\n",
       "      <th>movie_id</th>\n",
       "      <th>title</th>\n",
       "      <th>genre</th>\n",
       "    </tr>\n",
       "  </thead>\n",
       "  <tbody>\n",
       "    <tr>\n",
       "      <th>2985</th>\n",
       "      <td>3054</td>\n",
       "      <td>pokémon: the first movie (1998)</td>\n",
       "      <td>animation|children's</td>\n",
       "    </tr>\n",
       "    <tr>\n",
       "      <th>3045</th>\n",
       "      <td>3114</td>\n",
       "      <td>toy story 2 (1999)</td>\n",
       "      <td>animation|children's|comedy</td>\n",
       "    </tr>\n",
       "    <tr>\n",
       "      <th>3090</th>\n",
       "      <td>3159</td>\n",
       "      <td>fantasia 2000 (1999)</td>\n",
       "      <td>animation|children's|musical</td>\n",
       "    </tr>\n",
       "    <tr>\n",
       "      <th>3144</th>\n",
       "      <td>3213</td>\n",
       "      <td>batman: mask of the phantasm (1993)</td>\n",
       "      <td>animation|children's</td>\n",
       "    </tr>\n",
       "    <tr>\n",
       "      <th>3218</th>\n",
       "      <td>3287</td>\n",
       "      <td>tigger movie, the (2000)</td>\n",
       "      <td>animation|children's</td>\n",
       "    </tr>\n",
       "    <tr>\n",
       "      <th>3331</th>\n",
       "      <td>3400</td>\n",
       "      <td>we're back! a dinosaur's story (1993)</td>\n",
       "      <td>animation|children's</td>\n",
       "    </tr>\n",
       "    <tr>\n",
       "      <th>3360</th>\n",
       "      <td>3429</td>\n",
       "      <td>creature comforts (1990)</td>\n",
       "      <td>animation|comedy</td>\n",
       "    </tr>\n",
       "    <tr>\n",
       "      <th>3414</th>\n",
       "      <td>3483</td>\n",
       "      <td>road to el dorado, the (2000)</td>\n",
       "      <td>animation|children's</td>\n",
       "    </tr>\n",
       "    <tr>\n",
       "      <th>3523</th>\n",
       "      <td>3592</td>\n",
       "      <td>time masters (les maîtres du temps) (1982)</td>\n",
       "      <td>animation|sci-fi</td>\n",
       "    </tr>\n",
       "    <tr>\n",
       "      <th>3542</th>\n",
       "      <td>3611</td>\n",
       "      <td>saludos amigos (1943)</td>\n",
       "      <td>animation|children's|comedy</td>\n",
       "    </tr>\n",
       "    <tr>\n",
       "      <th>3546</th>\n",
       "      <td>3615</td>\n",
       "      <td>dinosaur (2000)</td>\n",
       "      <td>animation|children's</td>\n",
       "    </tr>\n",
       "    <tr>\n",
       "      <th>3656</th>\n",
       "      <td>3725</td>\n",
       "      <td>american pop (1981)</td>\n",
       "      <td>animation|musical</td>\n",
       "    </tr>\n",
       "    <tr>\n",
       "      <th>3676</th>\n",
       "      <td>3745</td>\n",
       "      <td>titan a.e. (2000)</td>\n",
       "      <td>adventure|animation|sci-fi</td>\n",
       "    </tr>\n",
       "    <tr>\n",
       "      <th>3682</th>\n",
       "      <td>3751</td>\n",
       "      <td>chicken run (2000)</td>\n",
       "      <td>animation|children's|comedy</td>\n",
       "    </tr>\n",
       "    <tr>\n",
       "      <th>3685</th>\n",
       "      <td>3754</td>\n",
       "      <td>adventures of rocky and bullwinkle, the (2000)</td>\n",
       "      <td>animation|children's|comedy</td>\n",
       "    </tr>\n",
       "    <tr>\n",
       "      <th>3690</th>\n",
       "      <td>3759</td>\n",
       "      <td>fun and fancy free (1947)</td>\n",
       "      <td>animation|children's|musical</td>\n",
       "    </tr>\n",
       "    <tr>\n",
       "      <th>3706</th>\n",
       "      <td>3775</td>\n",
       "      <td>make mine music (1946)</td>\n",
       "      <td>animation|children's|musical</td>\n",
       "    </tr>\n",
       "    <tr>\n",
       "      <th>3707</th>\n",
       "      <td>3776</td>\n",
       "      <td>melody time (1948)</td>\n",
       "      <td>animation|children's|musical</td>\n",
       "    </tr>\n",
       "    <tr>\n",
       "      <th>3730</th>\n",
       "      <td>3799</td>\n",
       "      <td>pokémon the movie 2000 (2000)</td>\n",
       "      <td>animation|children's</td>\n",
       "    </tr>\n",
       "    <tr>\n",
       "      <th>3875</th>\n",
       "      <td>3945</td>\n",
       "      <td>digimon: the movie (2000)</td>\n",
       "      <td>adventure|animation|children's</td>\n",
       "    </tr>\n",
       "  </tbody>\n",
       "</table>\n",
       "</div>"
      ],
      "text/plain": [
       "      movie_id                                           title  \\\n",
       "2985      3054                 pokémon: the first movie (1998)   \n",
       "3045      3114                              toy story 2 (1999)   \n",
       "3090      3159                            fantasia 2000 (1999)   \n",
       "3144      3213             batman: mask of the phantasm (1993)   \n",
       "3218      3287                        tigger movie, the (2000)   \n",
       "3331      3400           we're back! a dinosaur's story (1993)   \n",
       "3360      3429                        creature comforts (1990)   \n",
       "3414      3483                   road to el dorado, the (2000)   \n",
       "3523      3592      time masters (les maîtres du temps) (1982)   \n",
       "3542      3611                           saludos amigos (1943)   \n",
       "3546      3615                                 dinosaur (2000)   \n",
       "3656      3725                             american pop (1981)   \n",
       "3676      3745                               titan a.e. (2000)   \n",
       "3682      3751                              chicken run (2000)   \n",
       "3685      3754  adventures of rocky and bullwinkle, the (2000)   \n",
       "3690      3759                       fun and fancy free (1947)   \n",
       "3706      3775                          make mine music (1946)   \n",
       "3707      3776                              melody time (1948)   \n",
       "3730      3799                   pokémon the movie 2000 (2000)   \n",
       "3875      3945                       digimon: the movie (2000)   \n",
       "\n",
       "                               genre  \n",
       "2985            animation|children's  \n",
       "3045     animation|children's|comedy  \n",
       "3090    animation|children's|musical  \n",
       "3144            animation|children's  \n",
       "3218            animation|children's  \n",
       "3331            animation|children's  \n",
       "3360                animation|comedy  \n",
       "3414            animation|children's  \n",
       "3523                animation|sci-fi  \n",
       "3542     animation|children's|comedy  \n",
       "3546            animation|children's  \n",
       "3656               animation|musical  \n",
       "3676      adventure|animation|sci-fi  \n",
       "3682     animation|children's|comedy  \n",
       "3685     animation|children's|comedy  \n",
       "3690    animation|children's|musical  \n",
       "3706    animation|children's|musical  \n",
       "3707    animation|children's|musical  \n",
       "3730            animation|children's  \n",
       "3875  adventure|animation|children's  "
      ]
     },
     "execution_count": 90,
     "metadata": {},
     "output_type": "execute_result"
    }
   ],
   "source": [
    "# 영화 검색\n",
    "favorite_search = movies[movies['genre'].str.contains('animation')]\n",
    "favorite_search.tail(20)"
   ]
  },
  {
   "cell_type": "code",
   "execution_count": 91,
   "id": "0513994e",
   "metadata": {},
   "outputs": [],
   "source": [
    "# 좋아하는 영화\n",
    "my_favorite = ['lion king, the (1994)' , 'pocahontas (1995)' ,'toy story (1995)' ,'toy story 2 (1999)' ,'road to el dorado, the (2000)']\n",
    "my_favorite_id = [364, 48, 1, 3114, 3483]\n",
    "my_favorite_genre = [\"animation|children's|musical\", \"animation|children's|musical|romance\", \"animation|children's|comedy\", \"animation|children's|comedy\", \"animation|children's\"]"
   ]
  },
  {
   "cell_type": "code",
   "execution_count": 92,
   "id": "681ab2fe",
   "metadata": {},
   "outputs": [],
   "source": [
    "# '6041'이라는 user_id가 위 영화를 3회씩, 956704887만큼 봤다고 가정\n",
    "my_playlist = pd.DataFrame({'user_id': [6041]*5, 'movie_id': my_favorite_id, 'counts':[3]*5, 'timestamp':[956704887]*5, 'title': my_favorite, 'genre': my_favorite_genre})"
   ]
  },
  {
   "cell_type": "code",
   "execution_count": 93,
   "id": "44986dd4",
   "metadata": {},
   "outputs": [
    {
     "name": "stdout",
     "output_type": "stream",
     "text": [
      "<class 'pandas.core.frame.DataFrame'>\n",
      "RangeIndex: 836478 entries, 0 to 836477\n",
      "Data columns (total 6 columns):\n",
      " #   Column     Non-Null Count   Dtype \n",
      "---  ------     --------------   ----- \n",
      " 0   user_id    836478 non-null  int64 \n",
      " 1   movie_id   836478 non-null  int64 \n",
      " 2   counts     836478 non-null  int64 \n",
      " 3   timestamp  836478 non-null  int64 \n",
      " 4   title      836478 non-null  object\n",
      " 5   genre      836478 non-null  object\n",
      "dtypes: int64(4), object(2)\n",
      "memory usage: 38.3+ MB\n"
     ]
    }
   ],
   "source": [
    "ratings.info()"
   ]
  },
  {
   "cell_type": "code",
   "execution_count": 94,
   "id": "40e8d092",
   "metadata": {},
   "outputs": [
    {
     "name": "stdout",
     "output_type": "stream",
     "text": [
      "<class 'pandas.core.frame.DataFrame'>\n",
      "RangeIndex: 5 entries, 0 to 4\n",
      "Data columns (total 6 columns):\n",
      " #   Column     Non-Null Count  Dtype \n",
      "---  ------     --------------  ----- \n",
      " 0   user_id    5 non-null      int64 \n",
      " 1   movie_id   5 non-null      int64 \n",
      " 2   counts     5 non-null      int64 \n",
      " 3   timestamp  5 non-null      int64 \n",
      " 4   title      5 non-null      object\n",
      " 5   genre      5 non-null      object\n",
      "dtypes: int64(4), object(2)\n",
      "memory usage: 368.0+ bytes\n"
     ]
    }
   ],
   "source": [
    "my_playlist.info()"
   ]
  },
  {
   "cell_type": "code",
   "execution_count": 95,
   "id": "4c59594e",
   "metadata": {},
   "outputs": [],
   "source": [
    "# user_id에 'zimin'이라는 데이터가 없다면 임의로 만든 my_favorite 데이터를 추가\n",
    "if not ratings.isin({'user_id':[6041]})['user_id'].any(): \n",
    "    ratings = ratings.append(my_playlist)                           "
   ]
  },
  {
   "cell_type": "code",
   "execution_count": 96,
   "id": "c9e3e516",
   "metadata": {},
   "outputs": [
    {
     "data": {
      "text/html": [
       "<div>\n",
       "<style scoped>\n",
       "    .dataframe tbody tr th:only-of-type {\n",
       "        vertical-align: middle;\n",
       "    }\n",
       "\n",
       "    .dataframe tbody tr th {\n",
       "        vertical-align: top;\n",
       "    }\n",
       "\n",
       "    .dataframe thead th {\n",
       "        text-align: right;\n",
       "    }\n",
       "</style>\n",
       "<table border=\"1\" class=\"dataframe\">\n",
       "  <thead>\n",
       "    <tr style=\"text-align: right;\">\n",
       "      <th></th>\n",
       "      <th>user_id</th>\n",
       "      <th>movie_id</th>\n",
       "      <th>counts</th>\n",
       "      <th>timestamp</th>\n",
       "      <th>title</th>\n",
       "      <th>genre</th>\n",
       "    </tr>\n",
       "  </thead>\n",
       "  <tbody>\n",
       "    <tr>\n",
       "      <th>836473</th>\n",
       "      <td>4939</td>\n",
       "      <td>3952</td>\n",
       "      <td>3</td>\n",
       "      <td>987878275</td>\n",
       "      <td>contender, the (2000)</td>\n",
       "      <td>drama|thriller</td>\n",
       "    </tr>\n",
       "    <tr>\n",
       "      <th>836474</th>\n",
       "      <td>1748</td>\n",
       "      <td>3952</td>\n",
       "      <td>3</td>\n",
       "      <td>992337202</td>\n",
       "      <td>contender, the (2000)</td>\n",
       "      <td>drama|thriller</td>\n",
       "    </tr>\n",
       "    <tr>\n",
       "      <th>836475</th>\n",
       "      <td>1965</td>\n",
       "      <td>3952</td>\n",
       "      <td>3</td>\n",
       "      <td>974688627</td>\n",
       "      <td>contender, the (2000)</td>\n",
       "      <td>drama|thriller</td>\n",
       "    </tr>\n",
       "    <tr>\n",
       "      <th>836476</th>\n",
       "      <td>1589</td>\n",
       "      <td>3952</td>\n",
       "      <td>4</td>\n",
       "      <td>974734727</td>\n",
       "      <td>contender, the (2000)</td>\n",
       "      <td>drama|thriller</td>\n",
       "    </tr>\n",
       "    <tr>\n",
       "      <th>836477</th>\n",
       "      <td>4816</td>\n",
       "      <td>3952</td>\n",
       "      <td>4</td>\n",
       "      <td>985653887</td>\n",
       "      <td>contender, the (2000)</td>\n",
       "      <td>drama|thriller</td>\n",
       "    </tr>\n",
       "    <tr>\n",
       "      <th>0</th>\n",
       "      <td>6041</td>\n",
       "      <td>364</td>\n",
       "      <td>3</td>\n",
       "      <td>956704887</td>\n",
       "      <td>lion king, the (1994)</td>\n",
       "      <td>animation|children's|musical</td>\n",
       "    </tr>\n",
       "    <tr>\n",
       "      <th>1</th>\n",
       "      <td>6041</td>\n",
       "      <td>48</td>\n",
       "      <td>3</td>\n",
       "      <td>956704887</td>\n",
       "      <td>pocahontas (1995)</td>\n",
       "      <td>animation|children's|musical|romance</td>\n",
       "    </tr>\n",
       "    <tr>\n",
       "      <th>2</th>\n",
       "      <td>6041</td>\n",
       "      <td>1</td>\n",
       "      <td>3</td>\n",
       "      <td>956704887</td>\n",
       "      <td>toy story (1995)</td>\n",
       "      <td>animation|children's|comedy</td>\n",
       "    </tr>\n",
       "    <tr>\n",
       "      <th>3</th>\n",
       "      <td>6041</td>\n",
       "      <td>3114</td>\n",
       "      <td>3</td>\n",
       "      <td>956704887</td>\n",
       "      <td>toy story 2 (1999)</td>\n",
       "      <td>animation|children's|comedy</td>\n",
       "    </tr>\n",
       "    <tr>\n",
       "      <th>4</th>\n",
       "      <td>6041</td>\n",
       "      <td>3483</td>\n",
       "      <td>3</td>\n",
       "      <td>956704887</td>\n",
       "      <td>road to el dorado, the (2000)</td>\n",
       "      <td>animation|children's</td>\n",
       "    </tr>\n",
       "  </tbody>\n",
       "</table>\n",
       "</div>"
      ],
      "text/plain": [
       "        user_id  movie_id  counts  timestamp                          title  \\\n",
       "836473     4939      3952       3  987878275          contender, the (2000)   \n",
       "836474     1748      3952       3  992337202          contender, the (2000)   \n",
       "836475     1965      3952       3  974688627          contender, the (2000)   \n",
       "836476     1589      3952       4  974734727          contender, the (2000)   \n",
       "836477     4816      3952       4  985653887          contender, the (2000)   \n",
       "0          6041       364       3  956704887          lion king, the (1994)   \n",
       "1          6041        48       3  956704887              pocahontas (1995)   \n",
       "2          6041         1       3  956704887               toy story (1995)   \n",
       "3          6041      3114       3  956704887             toy story 2 (1999)   \n",
       "4          6041      3483       3  956704887  road to el dorado, the (2000)   \n",
       "\n",
       "                                       genre  \n",
       "836473                        drama|thriller  \n",
       "836474                        drama|thriller  \n",
       "836475                        drama|thriller  \n",
       "836476                        drama|thriller  \n",
       "836477                        drama|thriller  \n",
       "0               animation|children's|musical  \n",
       "1       animation|children's|musical|romance  \n",
       "2                animation|children's|comedy  \n",
       "3                animation|children's|comedy  \n",
       "4                       animation|children's  "
      ]
     },
     "execution_count": 96,
     "metadata": {},
     "output_type": "execute_result"
    }
   ],
   "source": [
    "# 확인 \n",
    "ratings.tail(10)"
   ]
  },
  {
   "cell_type": "code",
   "execution_count": 97,
   "id": "af9ecd78",
   "metadata": {},
   "outputs": [],
   "source": [
    "ratings = ratings.reset_index(drop = True)"
   ]
  },
  {
   "cell_type": "code",
   "execution_count": 98,
   "id": "69ac8626",
   "metadata": {},
   "outputs": [],
   "source": [
    "# 컬럼 순서 변경\n",
    "ratings = ratings[['user_id', 'counts', 'movie_id', 'title', 'genre', 'timestamp']]"
   ]
  },
  {
   "cell_type": "code",
   "execution_count": 99,
   "id": "a4b96a81",
   "metadata": {},
   "outputs": [
    {
     "data": {
      "text/html": [
       "<div>\n",
       "<style scoped>\n",
       "    .dataframe tbody tr th:only-of-type {\n",
       "        vertical-align: middle;\n",
       "    }\n",
       "\n",
       "    .dataframe tbody tr th {\n",
       "        vertical-align: top;\n",
       "    }\n",
       "\n",
       "    .dataframe thead th {\n",
       "        text-align: right;\n",
       "    }\n",
       "</style>\n",
       "<table border=\"1\" class=\"dataframe\">\n",
       "  <thead>\n",
       "    <tr style=\"text-align: right;\">\n",
       "      <th></th>\n",
       "      <th>user_id</th>\n",
       "      <th>counts</th>\n",
       "      <th>movie_id</th>\n",
       "      <th>title</th>\n",
       "      <th>genre</th>\n",
       "      <th>timestamp</th>\n",
       "    </tr>\n",
       "  </thead>\n",
       "  <tbody>\n",
       "    <tr>\n",
       "      <th>0</th>\n",
       "      <td>5636</td>\n",
       "      <td>3</td>\n",
       "      <td>1</td>\n",
       "      <td>toy story (1995)</td>\n",
       "      <td>animation|children's|comedy</td>\n",
       "      <td>958967064</td>\n",
       "    </tr>\n",
       "    <tr>\n",
       "      <th>1</th>\n",
       "      <td>4458</td>\n",
       "      <td>4</td>\n",
       "      <td>1</td>\n",
       "      <td>toy story (1995)</td>\n",
       "      <td>animation|children's|comedy</td>\n",
       "      <td>965096620</td>\n",
       "    </tr>\n",
       "    <tr>\n",
       "      <th>2</th>\n",
       "      <td>4546</td>\n",
       "      <td>4</td>\n",
       "      <td>1</td>\n",
       "      <td>toy story (1995)</td>\n",
       "      <td>animation|children's|comedy</td>\n",
       "      <td>964656523</td>\n",
       "    </tr>\n",
       "    <tr>\n",
       "      <th>3</th>\n",
       "      <td>5037</td>\n",
       "      <td>5</td>\n",
       "      <td>1</td>\n",
       "      <td>toy story (1995)</td>\n",
       "      <td>animation|children's|comedy</td>\n",
       "      <td>962547743</td>\n",
       "    </tr>\n",
       "    <tr>\n",
       "      <th>4</th>\n",
       "      <td>5575</td>\n",
       "      <td>4</td>\n",
       "      <td>1</td>\n",
       "      <td>toy story (1995)</td>\n",
       "      <td>animation|children's|comedy</td>\n",
       "      <td>959291679</td>\n",
       "    </tr>\n",
       "    <tr>\n",
       "      <th>...</th>\n",
       "      <td>...</td>\n",
       "      <td>...</td>\n",
       "      <td>...</td>\n",
       "      <td>...</td>\n",
       "      <td>...</td>\n",
       "      <td>...</td>\n",
       "    </tr>\n",
       "    <tr>\n",
       "      <th>836478</th>\n",
       "      <td>6041</td>\n",
       "      <td>3</td>\n",
       "      <td>364</td>\n",
       "      <td>lion king, the (1994)</td>\n",
       "      <td>animation|children's|musical</td>\n",
       "      <td>956704887</td>\n",
       "    </tr>\n",
       "    <tr>\n",
       "      <th>836479</th>\n",
       "      <td>6041</td>\n",
       "      <td>3</td>\n",
       "      <td>48</td>\n",
       "      <td>pocahontas (1995)</td>\n",
       "      <td>animation|children's|musical|romance</td>\n",
       "      <td>956704887</td>\n",
       "    </tr>\n",
       "    <tr>\n",
       "      <th>836480</th>\n",
       "      <td>6041</td>\n",
       "      <td>3</td>\n",
       "      <td>1</td>\n",
       "      <td>toy story (1995)</td>\n",
       "      <td>animation|children's|comedy</td>\n",
       "      <td>956704887</td>\n",
       "    </tr>\n",
       "    <tr>\n",
       "      <th>836481</th>\n",
       "      <td>6041</td>\n",
       "      <td>3</td>\n",
       "      <td>3114</td>\n",
       "      <td>toy story 2 (1999)</td>\n",
       "      <td>animation|children's|comedy</td>\n",
       "      <td>956704887</td>\n",
       "    </tr>\n",
       "    <tr>\n",
       "      <th>836482</th>\n",
       "      <td>6041</td>\n",
       "      <td>3</td>\n",
       "      <td>3483</td>\n",
       "      <td>road to el dorado, the (2000)</td>\n",
       "      <td>animation|children's</td>\n",
       "      <td>956704887</td>\n",
       "    </tr>\n",
       "  </tbody>\n",
       "</table>\n",
       "<p>836483 rows × 6 columns</p>\n",
       "</div>"
      ],
      "text/plain": [
       "        user_id  counts  movie_id                          title  \\\n",
       "0          5636       3         1               toy story (1995)   \n",
       "1          4458       4         1               toy story (1995)   \n",
       "2          4546       4         1               toy story (1995)   \n",
       "3          5037       5         1               toy story (1995)   \n",
       "4          5575       4         1               toy story (1995)   \n",
       "...         ...     ...       ...                            ...   \n",
       "836478     6041       3       364          lion king, the (1994)   \n",
       "836479     6041       3        48              pocahontas (1995)   \n",
       "836480     6041       3         1               toy story (1995)   \n",
       "836481     6041       3      3114             toy story 2 (1999)   \n",
       "836482     6041       3      3483  road to el dorado, the (2000)   \n",
       "\n",
       "                                       genre  timestamp  \n",
       "0                animation|children's|comedy  958967064  \n",
       "1                animation|children's|comedy  965096620  \n",
       "2                animation|children's|comedy  964656523  \n",
       "3                animation|children's|comedy  962547743  \n",
       "4                animation|children's|comedy  959291679  \n",
       "...                                      ...        ...  \n",
       "836478          animation|children's|musical  956704887  \n",
       "836479  animation|children's|musical|romance  956704887  \n",
       "836480           animation|children's|comedy  956704887  \n",
       "836481           animation|children's|comedy  956704887  \n",
       "836482                  animation|children's  956704887  \n",
       "\n",
       "[836483 rows x 6 columns]"
      ]
     },
     "execution_count": 99,
     "metadata": {},
     "output_type": "execute_result"
    }
   ],
   "source": [
    "ratings"
   ]
  },
  {
   "cell_type": "markdown",
   "id": "4784579b",
   "metadata": {},
   "source": [
    "<div style = \"height: 50px;\"></div>"
   ]
  },
  {
   "cell_type": "markdown",
   "id": "a4de3415",
   "metadata": {},
   "source": [
    "# <span style = \"font-weight:bold;color:#0172d4;\">STEP 4</span> : 데이터 인덱싱"
   ]
  },
  {
   "cell_type": "code",
   "execution_count": 100,
   "id": "f067ea91",
   "metadata": {},
   "outputs": [],
   "source": [
    "# 고유한 유저, 아티스트를 찾아내는 코드\n",
    "user_unique = ratings['user_id'].unique()\n",
    "movie_unique = ratings['movie_id'].unique()"
   ]
  },
  {
   "cell_type": "code",
   "execution_count": 101,
   "id": "29260d69",
   "metadata": {},
   "outputs": [],
   "source": [
    "# 유저, 아티스트 indexing 하는 코드\n",
    "user_to_idx = {v:k for k,v in enumerate(user_unique)}\n",
    "movie_to_idx = {v:k for k,v in enumerate(movie_unique)}"
   ]
  },
  {
   "cell_type": "code",
   "execution_count": 104,
   "id": "39394104",
   "metadata": {},
   "outputs": [
    {
     "name": "stdout",
     "output_type": "stream",
     "text": [
      "6039\n",
      "0\n"
     ]
    }
   ],
   "source": [
    "# 인덱싱 확인\n",
    "print(user_to_idx[6041])    \n",
    "print(movie_to_idx[1])"
   ]
  },
  {
   "cell_type": "code",
   "execution_count": 38,
   "id": "704c2c37",
   "metadata": {},
   "outputs": [],
   "source": [
    "ratings_test = ratings.copy()\n",
    "# ratings = ratings_test.copy()"
   ]
  },
  {
   "cell_type": "code",
   "execution_count": 105,
   "id": "7e3a6c41",
   "metadata": {},
   "outputs": [
    {
     "name": "stdout",
     "output_type": "stream",
     "text": [
      "user_id column indexing OK!!\n"
     ]
    }
   ],
   "source": [
    "# user_to_idx.get을 통해 user_id 컬럼의 모든 값을 인덱싱한 Series를 구해 봅시다. \n",
    "# 혹시 정상적으로 인덱싱되지 않은 row가 있다면 인덱스가 NaN이 될 테니 dropna()로 제거합니다. \n",
    "temp_user_data = ratings['user_id'].map(user_to_idx.get).dropna()\n",
    "\n",
    "if len(temp_user_data) == len(ratings):   # 모든 row가 정상적으로 인덱싱되었다면\n",
    "    print('user_id column indexing OK!!')\n",
    "    ratings['user_id'] = temp_user_data   # data['user_id']을 인덱싱된 Series로 교체해 줍니다. \n",
    "else:\n",
    "    print('user_id column indexing Fail!!')"
   ]
  },
  {
   "cell_type": "code",
   "execution_count": 106,
   "id": "86a88331",
   "metadata": {},
   "outputs": [
    {
     "name": "stdout",
     "output_type": "stream",
     "text": [
      "movie column indexing OK!!\n"
     ]
    },
    {
     "data": {
      "text/html": [
       "<div>\n",
       "<style scoped>\n",
       "    .dataframe tbody tr th:only-of-type {\n",
       "        vertical-align: middle;\n",
       "    }\n",
       "\n",
       "    .dataframe tbody tr th {\n",
       "        vertical-align: top;\n",
       "    }\n",
       "\n",
       "    .dataframe thead th {\n",
       "        text-align: right;\n",
       "    }\n",
       "</style>\n",
       "<table border=\"1\" class=\"dataframe\">\n",
       "  <thead>\n",
       "    <tr style=\"text-align: right;\">\n",
       "      <th></th>\n",
       "      <th>user_id</th>\n",
       "      <th>counts</th>\n",
       "      <th>movie_id</th>\n",
       "      <th>title</th>\n",
       "      <th>genre</th>\n",
       "      <th>timestamp</th>\n",
       "    </tr>\n",
       "  </thead>\n",
       "  <tbody>\n",
       "    <tr>\n",
       "      <th>0</th>\n",
       "      <td>0</td>\n",
       "      <td>3</td>\n",
       "      <td>0</td>\n",
       "      <td>toy story (1995)</td>\n",
       "      <td>animation|children's|comedy</td>\n",
       "      <td>958967064</td>\n",
       "    </tr>\n",
       "    <tr>\n",
       "      <th>1</th>\n",
       "      <td>1</td>\n",
       "      <td>4</td>\n",
       "      <td>0</td>\n",
       "      <td>toy story (1995)</td>\n",
       "      <td>animation|children's|comedy</td>\n",
       "      <td>965096620</td>\n",
       "    </tr>\n",
       "    <tr>\n",
       "      <th>2</th>\n",
       "      <td>2</td>\n",
       "      <td>4</td>\n",
       "      <td>0</td>\n",
       "      <td>toy story (1995)</td>\n",
       "      <td>animation|children's|comedy</td>\n",
       "      <td>964656523</td>\n",
       "    </tr>\n",
       "    <tr>\n",
       "      <th>3</th>\n",
       "      <td>3</td>\n",
       "      <td>5</td>\n",
       "      <td>0</td>\n",
       "      <td>toy story (1995)</td>\n",
       "      <td>animation|children's|comedy</td>\n",
       "      <td>962547743</td>\n",
       "    </tr>\n",
       "    <tr>\n",
       "      <th>4</th>\n",
       "      <td>4</td>\n",
       "      <td>4</td>\n",
       "      <td>0</td>\n",
       "      <td>toy story (1995)</td>\n",
       "      <td>animation|children's|comedy</td>\n",
       "      <td>959291679</td>\n",
       "    </tr>\n",
       "    <tr>\n",
       "      <th>...</th>\n",
       "      <td>...</td>\n",
       "      <td>...</td>\n",
       "      <td>...</td>\n",
       "      <td>...</td>\n",
       "      <td>...</td>\n",
       "      <td>...</td>\n",
       "    </tr>\n",
       "    <tr>\n",
       "      <th>836478</th>\n",
       "      <td>6039</td>\n",
       "      <td>3</td>\n",
       "      <td>350</td>\n",
       "      <td>lion king, the (1994)</td>\n",
       "      <td>animation|children's|musical</td>\n",
       "      <td>956704887</td>\n",
       "    </tr>\n",
       "    <tr>\n",
       "      <th>836479</th>\n",
       "      <td>6039</td>\n",
       "      <td>3</td>\n",
       "      <td>47</td>\n",
       "      <td>pocahontas (1995)</td>\n",
       "      <td>animation|children's|musical|romance</td>\n",
       "      <td>956704887</td>\n",
       "    </tr>\n",
       "    <tr>\n",
       "      <th>836480</th>\n",
       "      <td>6039</td>\n",
       "      <td>3</td>\n",
       "      <td>0</td>\n",
       "      <td>toy story (1995)</td>\n",
       "      <td>animation|children's|comedy</td>\n",
       "      <td>956704887</td>\n",
       "    </tr>\n",
       "    <tr>\n",
       "      <th>836481</th>\n",
       "      <td>6039</td>\n",
       "      <td>3</td>\n",
       "      <td>2845</td>\n",
       "      <td>toy story 2 (1999)</td>\n",
       "      <td>animation|children's|comedy</td>\n",
       "      <td>956704887</td>\n",
       "    </tr>\n",
       "    <tr>\n",
       "      <th>836482</th>\n",
       "      <td>6039</td>\n",
       "      <td>3</td>\n",
       "      <td>3182</td>\n",
       "      <td>road to el dorado, the (2000)</td>\n",
       "      <td>animation|children's</td>\n",
       "      <td>956704887</td>\n",
       "    </tr>\n",
       "  </tbody>\n",
       "</table>\n",
       "<p>836483 rows × 6 columns</p>\n",
       "</div>"
      ],
      "text/plain": [
       "        user_id  counts  movie_id                          title  \\\n",
       "0             0       3         0               toy story (1995)   \n",
       "1             1       4         0               toy story (1995)   \n",
       "2             2       4         0               toy story (1995)   \n",
       "3             3       5         0               toy story (1995)   \n",
       "4             4       4         0               toy story (1995)   \n",
       "...         ...     ...       ...                            ...   \n",
       "836478     6039       3       350          lion king, the (1994)   \n",
       "836479     6039       3        47              pocahontas (1995)   \n",
       "836480     6039       3         0               toy story (1995)   \n",
       "836481     6039       3      2845             toy story 2 (1999)   \n",
       "836482     6039       3      3182  road to el dorado, the (2000)   \n",
       "\n",
       "                                       genre  timestamp  \n",
       "0                animation|children's|comedy  958967064  \n",
       "1                animation|children's|comedy  965096620  \n",
       "2                animation|children's|comedy  964656523  \n",
       "3                animation|children's|comedy  962547743  \n",
       "4                animation|children's|comedy  959291679  \n",
       "...                                      ...        ...  \n",
       "836478          animation|children's|musical  956704887  \n",
       "836479  animation|children's|musical|romance  956704887  \n",
       "836480           animation|children's|comedy  956704887  \n",
       "836481           animation|children's|comedy  956704887  \n",
       "836482                  animation|children's  956704887  \n",
       "\n",
       "[836483 rows x 6 columns]"
      ]
     },
     "execution_count": 106,
     "metadata": {},
     "output_type": "execute_result"
    }
   ],
   "source": [
    "# artist_to_idx을 통해 artist 컬럼도 동일한 방식으로 인덱싱해 줍니다. \n",
    "temp_movie_id_data = ratings['movie_id'].map(movie_to_idx.get).dropna()\n",
    "\n",
    "if len(temp_movie_id_data) == len(ratings):\n",
    "    print('movie column indexing OK!!')\n",
    "    ratings['movie_id'] = temp_movie_id_data\n",
    "else:\n",
    "    print('movie_id column indexing Fail!!')\n",
    "\n",
    "ratings"
   ]
  },
  {
   "cell_type": "markdown",
   "id": "f4ff2d7d",
   "metadata": {},
   "source": [
    "<div style = \"height: 50px;\"></div>"
   ]
  },
  {
   "cell_type": "markdown",
   "id": "d7cdfbf4",
   "metadata": {},
   "source": [
    "# <span style = \"font-weight:bold;color:#0172d4;\">STEP 5</span> : CSR matrix 만들기"
   ]
  },
  {
   "cell_type": "code",
   "execution_count": 107,
   "id": "4ca113b7",
   "metadata": {},
   "outputs": [],
   "source": [
    "# data를 CSR Matrix에 맞게 변형\n",
    "num_user = ratings['user_id'].nunique()\n",
    "num_movie = ratings['movie_id'].nunique()"
   ]
  },
  {
   "cell_type": "code",
   "execution_count": 108,
   "id": "d8fc2c0f",
   "metadata": {
    "scrolled": true
   },
   "outputs": [],
   "source": [
    "csr_data = csr_matrix((ratings.counts, (ratings.user_id, ratings.movie_id)), shape= (num_user, num_movie))"
   ]
  },
  {
   "cell_type": "markdown",
   "id": "92ab6207",
   "metadata": {},
   "source": [
    "<div style = \"height: 50px;\"></div>"
   ]
  },
  {
   "cell_type": "markdown",
   "id": "6709406b",
   "metadata": {},
   "source": [
    "# <span style = \"font-weight:bold;color:#0172d4;\">STEP 6</span> : AlternatingLeastSquares 모델 설계 및 훈련하기"
   ]
  },
  {
   "cell_type": "code",
   "execution_count": 109,
   "id": "307630cd",
   "metadata": {},
   "outputs": [],
   "source": [
    "# implicit 라이브러리에서 권장하고 있는 부분 (학습 내용과는 무관함)\n",
    "os.environ['OPENBLAS_NUM_THREADS']='1'\n",
    "os.environ['KMP_DUPLICATE_LIB_OK']='True'\n",
    "os.environ['MKL_NUM_THREADS']='1'"
   ]
  },
  {
   "cell_type": "code",
   "execution_count": 196,
   "id": "6b56d80d",
   "metadata": {},
   "outputs": [],
   "source": [
    "# Implicit AlternatingLeastSquares 모델의 선언\n",
    "als_model = AlternatingLeastSquares(factors=700, regularization=0.01, use_gpu=False, iterations=50, dtype=np.float32)"
   ]
  },
  {
   "cell_type": "code",
   "execution_count": 197,
   "id": "56e8e452",
   "metadata": {},
   "outputs": [
    {
     "data": {
      "application/vnd.jupyter.widget-view+json": {
       "model_id": "d605b713e3cb4122905c9703731c31d0",
       "version_major": 2,
       "version_minor": 0
      },
      "text/plain": [
       "  0%|          | 0/50 [00:00<?, ?it/s]"
      ]
     },
     "metadata": {},
     "output_type": "display_data"
    }
   ],
   "source": [
    "# 모델 훈련\n",
    "als_model.fit(csr_data)"
   ]
  },
  {
   "cell_type": "markdown",
   "id": "b83e3d6a",
   "metadata": {},
   "source": [
    "<div style = \"height: 50px;\"></div>"
   ]
  },
  {
   "cell_type": "markdown",
   "id": "cd2d63b5",
   "metadata": {},
   "source": [
    "# <span style = \"font-weight:bold;color:#0172d4;\">STEP 7</span> : AlternatingLeastSquares 모델 평가하기"
   ]
  },
  {
   "cell_type": "markdown",
   "id": "5846e099",
   "metadata": {},
   "source": [
    "## 1. 내가 선호하는 5가지 영화 중 하나와 그 외의 영화 하나를 골라 훈련된 모델이 예측한 나의 선호도를 파악하기\n",
    "<hr/>"
   ]
  },
  {
   "cell_type": "code",
   "execution_count": 198,
   "id": "39169020",
   "metadata": {},
   "outputs": [
    {
     "data": {
      "text/plain": [
       "6039"
      ]
     },
     "execution_count": 198,
     "metadata": {},
     "output_type": "execute_result"
    }
   ],
   "source": [
    "user_to_idx[6041]"
   ]
  },
  {
   "cell_type": "code",
   "execution_count": 199,
   "id": "df132fe0",
   "metadata": {},
   "outputs": [],
   "source": [
    "test_user, toy_story1 = user_to_idx[6041], movie_to_idx[1]\n",
    "test_user_vec, toy_story1_vec = als_model.user_factors[test_user], als_model.item_factors[toy_story1]"
   ]
  },
  {
   "cell_type": "code",
   "execution_count": 200,
   "id": "928ad773",
   "metadata": {},
   "outputs": [
    {
     "data": {
      "text/plain": [
       "array([-1.20597191e-01, -1.42932191e-01, -3.42828110e-02, -1.01214819e-01,\n",
       "        1.32168710e-01, -2.88038999e-01,  1.48793057e-01,  3.01586598e-01,\n",
       "        1.65445074e-01,  1.22846439e-01, -1.73211396e-01, -1.35136947e-01,\n",
       "        1.05831623e-01, -2.28009641e-01, -2.69394189e-01,  1.47827700e-01,\n",
       "        1.70879021e-01,  2.19084546e-01,  5.59382476e-02, -1.62197515e-01,\n",
       "       -1.42817453e-01,  2.98008591e-01, -1.86207935e-01, -2.97203541e-01,\n",
       "        1.24151133e-01,  3.80978137e-02, -2.91550130e-01,  8.00252408e-02,\n",
       "       -2.45823920e-01,  2.91575491e-01, -7.37768412e-02,  1.72070131e-01,\n",
       "       -1.82047952e-02,  1.21951699e-01,  5.23321442e-02,  7.88353384e-02,\n",
       "       -1.96543913e-02,  1.95830837e-01,  7.36032352e-02, -2.28725597e-01,\n",
       "       -2.06321210e-01, -6.03963099e-02,  2.97019444e-02,  2.62824327e-01,\n",
       "       -9.90527347e-02, -1.35031424e-03, -3.13997805e-01, -7.08134919e-02,\n",
       "       -1.92414597e-01,  3.47495191e-02, -2.01249737e-02, -2.95412093e-01,\n",
       "        1.34008946e-02, -2.75937617e-01,  3.18020940e-01, -2.29426324e-01,\n",
       "       -1.04055181e-01,  3.16877812e-02, -1.06482521e-01,  1.14892952e-01,\n",
       "       -1.96868464e-01,  2.19665110e-01, -3.46308500e-02,  1.27798975e-01,\n",
       "       -5.09704873e-02,  1.73568398e-01, -1.13132037e-01,  3.10563922e-01,\n",
       "        6.32896349e-02, -1.37160067e-02,  5.66178933e-03, -3.56214494e-02,\n",
       "       -1.25979811e-01, -5.78906760e-02, -2.71915495e-01, -3.12215984e-02,\n",
       "       -3.27933669e-01, -2.29474232e-01, -7.51860514e-02,  6.86389357e-02,\n",
       "       -3.62127498e-02,  3.60523492e-01,  2.21405745e-01,  4.51137312e-02,\n",
       "        6.92870542e-02, -1.22030951e-01, -1.86942294e-02, -2.65161861e-02,\n",
       "        1.30719274e-01,  3.55976492e-01,  1.24627158e-01,  2.01748848e-01,\n",
       "       -5.72262285e-03, -8.84315968e-02,  2.37376109e-01, -1.53510660e-01,\n",
       "       -1.39762908e-02, -9.70228910e-02, -2.95384645e-01, -9.45737138e-02,\n",
       "       -3.34938057e-02, -6.84949905e-02,  5.90479448e-02, -8.11647326e-02,\n",
       "        1.13574125e-01, -1.32570416e-02,  1.69689178e-01, -1.20240033e-01,\n",
       "        1.50612116e-01, -1.48057595e-01,  3.46370824e-02,  1.31981507e-01,\n",
       "       -1.24211401e-01, -4.92057530e-03,  5.64617328e-02,  1.44379705e-01,\n",
       "       -1.60483178e-02,  3.14833857e-02,  1.35579616e-01,  1.34908840e-01,\n",
       "       -3.85845155e-02,  2.45817184e-01,  9.35721472e-02, -2.60647327e-01,\n",
       "        1.60761073e-01,  2.53197234e-02, -5.53874597e-02,  6.38129041e-02,\n",
       "        2.66591430e-01, -8.44388232e-02,  6.97042644e-02, -1.42518684e-01,\n",
       "       -2.00189590e-01, -8.38930346e-03, -9.10860524e-02, -8.10649991e-02,\n",
       "        1.01955101e-01,  1.23823345e-01, -1.34093184e-02, -2.52731770e-01,\n",
       "       -1.72791572e-03,  1.59467593e-01, -1.60986371e-02, -1.46297276e-01,\n",
       "       -4.36187442e-03, -1.25454888e-01, -2.98471034e-01,  2.26445839e-01,\n",
       "       -2.12475821e-01, -2.55214214e-01, -2.61355251e-01, -6.24881275e-02,\n",
       "       -1.80373728e-01,  2.29785651e-01, -5.35469502e-02, -2.63773892e-02,\n",
       "        2.59764731e-01,  1.49580702e-01,  1.29324958e-01,  4.65649441e-02,\n",
       "        2.14774311e-02, -2.77752187e-02, -1.60993353e-01,  1.78015884e-02,\n",
       "        1.48555180e-02, -1.01058610e-01, -8.74479488e-02, -6.90306574e-02,\n",
       "        2.35754967e-01, -5.61272725e-02,  3.02646775e-02, -8.27247873e-02,\n",
       "        5.16327918e-02, -2.59347171e-01, -2.16981471e-01, -3.82114388e-02,\n",
       "       -3.25901866e-01, -1.52548924e-01, -1.58151731e-01,  4.52589616e-02,\n",
       "       -2.31114179e-02, -1.70304608e-02,  1.10147163e-01, -3.54601145e-02,\n",
       "        6.36340603e-02, -1.02748603e-01, -1.58161536e-01,  1.45390615e-01,\n",
       "        8.00150931e-02, -1.11473389e-01, -2.82979965e-01, -9.18071494e-02,\n",
       "       -1.03610367e-01,  1.64545849e-01,  1.87566727e-01,  4.04683687e-03,\n",
       "        2.97254890e-01, -2.57375706e-02, -2.97146142e-02,  6.37788698e-02,\n",
       "        2.85187125e-01,  3.58450450e-02,  1.19068548e-01, -6.97642714e-02,\n",
       "        3.24107930e-02,  1.61077395e-01, -3.22217584e-01,  2.41140246e-01,\n",
       "       -1.18099503e-01, -1.06554024e-01, -4.28812206e-02,  1.50102824e-01,\n",
       "       -5.78836389e-02, -1.11871883e-01,  1.13778852e-01,  8.59971121e-02,\n",
       "       -1.15833044e-01,  1.22059256e-01, -1.19556293e-01, -6.96896017e-02,\n",
       "        1.10124305e-01,  1.31758749e-01, -3.91494036e-01, -4.48506661e-02,\n",
       "        2.80723989e-01, -2.28993863e-01, -4.29950319e-02,  1.28594428e-01,\n",
       "       -9.58682075e-02, -4.28873897e-02,  5.52541912e-02, -2.59508610e-01,\n",
       "        4.17997956e-01, -4.12853844e-02,  2.66161591e-01,  3.51568073e-01,\n",
       "        1.37945088e-02, -1.65482014e-01, -5.12405969e-02,  1.50303930e-01,\n",
       "       -9.63223726e-02,  3.55362110e-02,  2.38684025e-02, -1.42662138e-01,\n",
       "        5.55146765e-03,  4.02205914e-01,  1.72386631e-01, -7.21613839e-02,\n",
       "        1.28709972e-01,  8.60461518e-02, -1.81353819e-02, -2.51565993e-01,\n",
       "        1.01873139e-02, -1.45000145e-01, -1.83103234e-01,  5.61827570e-02,\n",
       "       -8.51373076e-02,  1.34504110e-01, -2.03052640e-01,  7.23991022e-02,\n",
       "        2.08804049e-02,  4.50409874e-02, -8.99885371e-02,  2.19352737e-01,\n",
       "        9.36632156e-02,  3.62592526e-02, -3.34149972e-02,  1.42303467e-01,\n",
       "       -2.18935162e-01,  5.37425689e-02,  3.67458671e-01, -3.23683560e-01,\n",
       "        1.11530647e-01, -4.86276448e-02,  2.12323204e-01,  2.80883074e-01,\n",
       "       -7.54008293e-02, -9.52239148e-04, -6.21274933e-02,  8.66673440e-02,\n",
       "        1.79784268e-01, -1.59064382e-01,  9.25544426e-02,  7.43997619e-02,\n",
       "       -5.55418581e-02, -7.78576881e-02,  2.90773839e-01,  2.61297405e-01,\n",
       "       -7.05358759e-02, -9.39205941e-03,  1.25925854e-01,  1.23671480e-01,\n",
       "        2.29486883e-01,  7.99162537e-02,  6.06886335e-02, -2.64199004e-02,\n",
       "       -2.83219479e-02,  2.68113554e-01,  1.88787058e-01, -8.33346322e-02,\n",
       "        1.84796765e-01,  1.20350987e-01,  5.96829914e-02,  5.29885590e-02,\n",
       "       -1.25273794e-01, -2.49030665e-01, -1.02205783e-01,  4.01154310e-02,\n",
       "        1.04558609e-01,  2.49151681e-02, -7.11106658e-02, -2.32935473e-01,\n",
       "       -7.98817277e-02, -1.93078861e-01,  8.73270407e-02,  2.78521836e-01,\n",
       "        2.45119818e-02, -1.01934530e-01, -1.35703698e-01, -2.26508826e-02,\n",
       "       -1.53095499e-01, -8.23829919e-02,  1.81161845e-03, -1.25044242e-01,\n",
       "       -1.11940920e-01, -1.06713758e-03,  8.60482380e-02,  1.07159212e-01,\n",
       "       -2.06274539e-01, -2.71406710e-01,  6.59849495e-02, -1.64986938e-01,\n",
       "       -1.81003720e-01, -8.05976707e-03,  7.56730959e-02, -1.40885130e-01,\n",
       "       -9.89280082e-03,  1.71039864e-01, -1.47133367e-02,  2.79982034e-02,\n",
       "        1.34596247e-02,  1.76339179e-01, -1.62970796e-01, -3.27581048e-01,\n",
       "       -1.82839826e-01, -1.56562719e-02, -8.63662511e-02, -2.81078927e-02,\n",
       "        5.29046953e-02,  7.11435452e-02, -2.30753198e-02, -1.70140222e-01,\n",
       "       -1.72013491e-02, -2.77994543e-01, -2.32832745e-01,  3.52661051e-02,\n",
       "        2.96754777e-01,  2.32724920e-01,  1.32115051e-01, -1.88805565e-01,\n",
       "        1.36339232e-01,  2.51133591e-02, -1.41705588e-01,  2.19221130e-01,\n",
       "       -2.44550798e-02,  3.19955833e-02, -1.13182716e-01,  2.84047812e-01,\n",
       "       -3.45956206e-01,  2.08369970e-01, -1.41797373e-02, -3.36282134e-01,\n",
       "       -8.49094894e-03, -1.62158787e-01,  7.11880103e-02,  2.21525151e-02,\n",
       "        2.07794100e-01, -6.15098327e-02, -1.01824090e-01,  4.71956767e-02,\n",
       "        1.76597312e-01,  1.58733740e-01,  9.87237766e-02,  2.08244577e-01,\n",
       "       -2.56851524e-01, -1.98530123e-01,  4.03169066e-01, -1.61486685e-01,\n",
       "        1.00635707e-01,  1.80128187e-01,  1.01378923e-02, -2.95433262e-03,\n",
       "       -1.94408700e-01, -2.06358686e-01, -3.34936053e-01,  8.27891976e-02,\n",
       "        2.88201142e-02,  8.66938308e-02,  1.55245602e-01, -6.57787845e-02,\n",
       "        1.20868735e-01,  2.17774138e-01,  3.17223370e-01,  6.06298447e-02,\n",
       "       -1.57927170e-01, -1.13919124e-01,  1.69459298e-01,  8.99330676e-02,\n",
       "       -2.61397153e-01,  1.87811498e-02, -2.25570083e-01, -2.30376888e-02,\n",
       "       -3.92924733e-02,  1.94881231e-01, -9.66371149e-02,  3.17195177e-01,\n",
       "       -3.45812440e-01,  2.77989000e-01, -1.81827649e-01, -2.19821390e-02,\n",
       "       -8.07327330e-02, -4.31261994e-02, -2.22764000e-01,  4.13226038e-01,\n",
       "        7.18920752e-02, -7.50865489e-02, -5.60632162e-02, -8.35043937e-02,\n",
       "       -3.04864459e-02, -7.53050484e-03,  1.69506237e-01,  2.27818917e-02,\n",
       "       -4.24941540e-01,  1.59754872e-01, -4.60044704e-02,  4.35956828e-02,\n",
       "        1.53836221e-01,  7.22356141e-02, -1.01976596e-01, -1.29824072e-01,\n",
       "        2.66030699e-01,  1.01023549e-02,  2.11250022e-01,  4.65289950e-02,\n",
       "       -1.81395933e-01,  3.37306084e-03,  2.82275856e-01,  1.29424125e-01,\n",
       "       -2.79297888e-01,  1.20067447e-01, -1.79061905e-01,  5.31792752e-02,\n",
       "        4.78075296e-02,  4.49807271e-02,  3.10450196e-01, -9.17656869e-02,\n",
       "        1.59713715e-01, -2.39221733e-02, -7.53354803e-02,  2.20968854e-02,\n",
       "       -1.35937363e-01, -2.90657468e-02, -1.45712137e-01,  1.88249975e-01,\n",
       "       -2.21029907e-01, -8.23327303e-02, -6.46573454e-02,  1.72558486e-01,\n",
       "       -1.80291697e-01, -1.61992490e-01,  1.48908436e-01, -1.44634962e-01,\n",
       "       -1.95777178e-01,  1.40734911e-01,  6.52514994e-02,  1.93889849e-02,\n",
       "       -6.83388561e-02,  1.86336920e-01, -1.62273966e-04,  2.41637021e-01,\n",
       "        4.02091704e-02, -4.15690631e-01,  3.51940952e-02, -8.19447637e-02,\n",
       "       -3.47598419e-02, -1.91815034e-01,  2.67078668e-01, -3.96079749e-01,\n",
       "       -1.06377825e-01, -9.10944641e-02,  2.10476108e-02,  1.87945530e-01,\n",
       "       -4.55424972e-02,  7.72150233e-02,  2.09803395e-02,  8.36783275e-02,\n",
       "       -1.24772293e-02, -5.58932461e-02, -1.62157677e-02, -2.03327492e-01,\n",
       "        2.22506464e-01,  2.18787059e-01,  5.57072982e-02,  9.75936186e-03,\n",
       "        8.52248296e-02, -1.65013954e-01, -1.29957292e-02,  6.30561709e-02,\n",
       "       -2.69316047e-01, -1.55366853e-01,  1.60346390e-04, -1.90430909e-01,\n",
       "        3.84223387e-02,  2.52169021e-03, -1.37010500e-01, -6.42566606e-02,\n",
       "        3.95738035e-01, -5.70853390e-02, -1.07075483e-01,  2.71501727e-02,\n",
       "       -1.49250850e-01,  3.48065491e-03,  9.98184830e-02, -3.13059166e-02,\n",
       "        3.08979034e-01,  2.71575935e-02,  1.30049169e-01,  4.88753878e-02,\n",
       "        1.32445365e-01,  6.28671497e-02, -6.27033934e-02,  1.69271708e-01,\n",
       "        3.70478034e-02,  1.39700979e-01,  1.07397214e-01,  1.49904221e-01,\n",
       "       -7.12433681e-02, -1.53721601e-01, -2.88368642e-01,  7.13428110e-02,\n",
       "       -5.52992411e-02, -8.60918760e-02, -1.00805603e-01, -1.13730960e-01,\n",
       "       -8.75069872e-02,  3.19102481e-02, -2.62932718e-01, -4.50364538e-02,\n",
       "       -1.18249558e-01, -2.08021224e-01,  2.72541661e-02, -1.57509595e-01,\n",
       "       -6.50633872e-03,  9.69634652e-02, -2.43258625e-01,  4.50394638e-02,\n",
       "        7.68618733e-02, -1.00034937e-01, -1.33314254e-02,  2.15358511e-01,\n",
       "        1.30988345e-01, -8.63290206e-02, -7.20486641e-02, -1.14955299e-01,\n",
       "        1.13476798e-01,  5.72567731e-02,  4.54971865e-02, -3.22084166e-02,\n",
       "       -2.83149660e-01, -5.15661091e-02,  1.22945882e-01,  1.77931681e-01,\n",
       "        6.27802126e-03,  3.06440145e-01, -8.09874088e-02,  1.12093002e-01,\n",
       "       -1.77281335e-01, -1.46383584e-01, -2.13151779e-02,  1.21935457e-01,\n",
       "        7.17309937e-02,  5.78764938e-02,  1.21658280e-01, -1.51182711e-01,\n",
       "       -2.10342601e-01, -3.66233319e-01, -7.41798431e-02,  1.62003726e-01,\n",
       "       -5.93750328e-02, -1.76673874e-01, -5.04403338e-02, -2.45015934e-01,\n",
       "       -6.52366951e-02, -2.32973248e-01,  5.53943031e-02,  2.42980748e-01,\n",
       "        2.51270890e-01,  2.54533421e-02,  1.16717272e-01, -7.53189474e-02,\n",
       "       -6.05464317e-02,  7.88413957e-02, -6.08582273e-02,  2.78546125e-01,\n",
       "        7.02871978e-02,  1.29221482e-02, -1.31980032e-01,  2.12164268e-01,\n",
       "        3.21622677e-02, -6.53194115e-02, -3.89914438e-02, -8.05784464e-02,\n",
       "        1.89085696e-02, -7.08948150e-02,  8.80676657e-02, -1.71793774e-01,\n",
       "        3.88676643e-01, -8.81787166e-02, -2.37638161e-01,  1.41997620e-01,\n",
       "       -1.45640671e-01, -1.98156863e-01,  4.30281926e-03,  8.71503055e-02,\n",
       "        4.35944181e-03, -1.24926366e-01, -4.75840159e-02,  2.16704011e-01,\n",
       "       -5.66621013e-02, -8.71208087e-02,  8.59676674e-02,  4.60212352e-03,\n",
       "        6.10848255e-02,  1.76436514e-01, -3.09389308e-02,  2.97411263e-01,\n",
       "       -1.10046059e-01, -2.58795340e-02, -1.72879770e-01,  1.29817009e-01,\n",
       "       -8.47956762e-02,  2.21598782e-02,  2.02129453e-01,  1.63750440e-01,\n",
       "        4.86135967e-02, -3.03180337e-01,  7.14033991e-02,  3.46059315e-02,\n",
       "        1.62878156e-01, -1.20110810e-01, -2.00074121e-01, -5.20272925e-02,\n",
       "        1.69474646e-01,  5.21496832e-01, -2.08445817e-01,  9.31607187e-03,\n",
       "        4.73283119e-02,  2.42114156e-01, -2.82369256e-02,  5.86976297e-02,\n",
       "        7.38663971e-02, -2.49058813e-01,  1.36222303e-01, -9.32356045e-02,\n",
       "        4.26754862e-01,  2.06283092e-01,  2.00054169e-01,  9.09016058e-02,\n",
       "       -1.83150113e-01, -2.08144903e-01, -5.29629737e-02,  1.15056969e-01,\n",
       "        1.92925215e-01,  1.25407308e-01,  1.04122072e-01, -1.22567520e-01,\n",
       "        5.72294071e-02,  3.08748275e-01,  1.22399395e-02, -1.22932695e-01,\n",
       "        2.06313729e-02,  5.44230565e-02,  1.75932527e-01, -9.48355719e-03,\n",
       "       -2.33146936e-01,  1.51801750e-01, -9.65572968e-02,  6.20361492e-02,\n",
       "        3.19026560e-02, -1.55729547e-01,  1.29320011e-01,  2.46655330e-01,\n",
       "        7.93442875e-02, -8.17321390e-02, -2.19941810e-01, -2.50289850e-02,\n",
       "        2.65661851e-02,  3.26530576e-01,  1.03533991e-01, -3.92454155e-02],\n",
       "      dtype=float32)"
      ]
     },
     "execution_count": 200,
     "metadata": {},
     "output_type": "execute_result"
    }
   ],
   "source": [
    "test_user_vec"
   ]
  },
  {
   "cell_type": "code",
   "execution_count": 201,
   "id": "6fc2ee4a",
   "metadata": {},
   "outputs": [
    {
     "data": {
      "text/plain": [
       "array([-1.11733275e-02,  2.02332484e-03,  5.46153449e-03, -5.50984126e-03,\n",
       "        5.95646724e-03, -2.09215954e-02,  2.94126347e-02, -2.77331471e-02,\n",
       "        3.96656506e-02,  2.75880322e-02,  1.88987181e-02,  1.05378414e-02,\n",
       "        4.28187586e-02, -1.53473765e-02,  2.99978815e-03,  1.16213504e-02,\n",
       "       -6.02362119e-03, -6.03786809e-03,  2.35972069e-02, -1.45992041e-02,\n",
       "       -1.33595187e-02,  2.62241904e-02,  5.55036915e-03,  1.16651412e-02,\n",
       "        2.96097528e-02, -2.04302669e-02, -1.65991224e-02,  1.83865279e-02,\n",
       "        2.28166697e-03,  1.65198129e-02,  2.14585904e-02, -2.43959408e-02,\n",
       "        1.41429603e-02, -1.94566250e-02,  2.25478783e-02,  2.67442316e-02,\n",
       "        6.24932407e-04,  1.92349795e-02,  1.80827957e-02, -4.74170335e-02,\n",
       "        1.40443696e-02,  5.76709118e-03,  1.02263149e-02,  2.60467622e-02,\n",
       "       -1.71668245e-03, -2.45246645e-02,  8.73882044e-03,  3.21199447e-02,\n",
       "       -5.12653636e-03,  1.00812875e-02, -7.76473805e-03,  2.71340292e-02,\n",
       "        1.75255872e-02,  5.51623013e-03,  2.32893210e-02, -1.82652194e-02,\n",
       "       -1.09394323e-02,  1.92836672e-02, -1.97468437e-02,  1.08517064e-02,\n",
       "        4.58751991e-03,  2.93421540e-02,  2.20840890e-02,  9.25155543e-03,\n",
       "        1.38554322e-02, -1.64486445e-03, -7.36671127e-03, -1.99951493e-04,\n",
       "       -1.45737343e-02,  4.52247076e-03,  4.41851839e-03,  2.45940778e-02,\n",
       "        1.67577080e-02,  4.10107663e-03, -1.53364725e-02,  1.75657123e-02,\n",
       "       -2.99257901e-03, -1.79063529e-02,  2.33656280e-02,  1.33571289e-02,\n",
       "        1.44966962e-02,  2.52054241e-02,  2.45452728e-02,  6.72480604e-03,\n",
       "        1.50145777e-02, -4.73572919e-03,  2.03312817e-03,  4.78367181e-03,\n",
       "       -4.03290475e-03,  3.42737660e-02,  2.41053011e-02,  1.80351026e-02,\n",
       "        1.33379037e-02,  1.84021294e-02,  3.31406854e-02,  1.62753761e-02,\n",
       "        1.96347618e-03,  5.25793666e-03,  7.84563646e-03, -1.50029026e-02,\n",
       "        2.16400772e-02, -8.68058950e-03, -1.96986478e-02,  6.48055784e-03,\n",
       "        9.34485812e-03,  1.60450619e-02,  2.27236957e-03,  1.86533555e-02,\n",
       "        1.43994745e-02, -8.40198901e-03,  1.83188263e-02,  1.60442218e-02,\n",
       "        2.83350609e-03,  2.99098063e-03,  4.79454640e-03,  3.62157077e-02,\n",
       "        1.88777223e-02,  1.88536718e-02,  1.72898006e-02,  9.73071158e-03,\n",
       "        9.66030639e-03,  2.59970780e-02, -1.59591492e-02, -2.80334372e-02,\n",
       "        5.06327488e-02,  9.65541136e-03,  3.34640220e-03,  2.76375189e-02,\n",
       "        1.27235465e-02,  1.84383336e-02,  1.40457302e-02,  1.85399614e-02,\n",
       "       -5.47142001e-03, -4.77417000e-03, -1.42861269e-02,  1.24840420e-02,\n",
       "       -6.93015335e-03, -1.04739657e-02,  9.76319890e-03, -1.29060028e-02,\n",
       "        1.32756270e-02,  3.67570855e-02, -1.32823456e-03,  1.24146594e-02,\n",
       "       -1.21288886e-02,  1.74638852e-02,  2.16353219e-02,  1.91979259e-02,\n",
       "       -2.33468134e-02, -2.03337353e-02, -5.16551407e-03, -1.42150009e-02,\n",
       "        4.64738207e-03, -1.58251682e-03,  1.71257686e-02, -1.11343917e-02,\n",
       "       -1.59399118e-02, -2.20891610e-02,  1.11098094e-02,  1.71534792e-02,\n",
       "       -1.29497494e-05,  1.59752555e-02,  4.95498534e-04, -1.61458272e-02,\n",
       "        1.35797663e-02,  1.18092792e-02,  2.69773435e-02,  1.53065771e-02,\n",
       "        2.71043126e-02, -4.46632039e-03,  2.92008687e-02, -2.66626179e-02,\n",
       "        1.32242143e-02, -1.27081517e-02, -2.01433711e-02, -1.07373009e-02,\n",
       "       -2.36277543e-02,  1.02176415e-02, -3.85921029e-03,  1.46219227e-03,\n",
       "       -2.66296659e-02, -3.96754965e-03,  3.14317122e-02,  3.11437305e-02,\n",
       "       -1.91478934e-02, -1.38660995e-02, -1.72526911e-02,  2.14378312e-02,\n",
       "        3.25264782e-02, -4.68222238e-03, -1.09529551e-02,  7.82160182e-03,\n",
       "       -1.57875754e-02,  3.56117971e-02,  1.21848462e-02, -5.26641123e-03,\n",
       "        1.88485384e-02,  2.83916015e-02,  1.33750662e-02,  1.68259833e-02,\n",
       "        3.61594558e-02,  1.51987886e-02,  2.14616172e-02,  2.28131507e-02,\n",
       "        2.38035396e-02, -4.90657520e-03,  8.07777885e-03,  2.96097379e-02,\n",
       "       -6.21498190e-03, -7.61792995e-03,  3.25708464e-02,  1.21529866e-02,\n",
       "        1.08987652e-02, -1.05276434e-02,  7.60545768e-03,  1.88010484e-02,\n",
       "        1.23385517e-02, -1.83816608e-02,  1.84581596e-02,  2.50707176e-02,\n",
       "       -4.65949625e-03, -3.19684041e-03, -3.01595535e-02,  6.54469477e-04,\n",
       "        4.43070456e-02,  2.52165948e-03, -3.37266938e-05,  3.70584764e-02,\n",
       "        1.48516344e-02,  2.35000011e-02, -7.43114343e-03, -1.86517723e-02,\n",
       "        2.75465902e-02, -1.35125387e-02,  1.32198697e-02,  1.83061436e-02,\n",
       "       -2.43228860e-02,  1.49502624e-02,  2.65696691e-03,  1.66422036e-02,\n",
       "        5.55166160e-04, -1.12789609e-02,  1.03418641e-02, -3.28264162e-02,\n",
       "        3.89152556e-04,  2.91429507e-03,  4.82164957e-02,  1.33686874e-03,\n",
       "        3.04727461e-02,  2.57860310e-02,  1.27845835e-02, -2.13814643e-03,\n",
       "        2.03572903e-02, -1.52438655e-02, -2.47191545e-02, -7.62392301e-03,\n",
       "       -1.54306795e-02,  8.30193888e-03, -3.69315298e-04, -2.42211744e-02,\n",
       "       -5.41914301e-03,  4.19572787e-03, -6.67591253e-03,  8.93337559e-03,\n",
       "        3.34331430e-02, -8.41466524e-03, -3.48245353e-02,  1.85168665e-02,\n",
       "       -1.96174830e-02, -5.00788307e-03, -8.45418690e-05, -2.10401379e-02,\n",
       "       -1.46031601e-03, -8.47859960e-03,  2.49611624e-02,  4.73644398e-02,\n",
       "       -1.44698599e-03, -1.29841119e-02, -2.99112052e-02, -7.41268694e-03,\n",
       "        6.55776914e-03,  1.05936350e-02,  3.08900420e-02,  1.99496467e-02,\n",
       "       -2.50648893e-03, -1.60828233e-02, -2.81563890e-03,  2.70666252e-03,\n",
       "       -2.62221601e-02, -9.97133611e-05,  1.31311789e-02, -1.10476203e-02,\n",
       "        1.44473054e-02,  1.79115497e-02, -8.87410995e-03,  4.01417632e-03,\n",
       "        2.63573360e-02,  2.35890467e-02, -1.31110102e-02,  5.45859244e-03,\n",
       "       -5.69358980e-03, -2.19896133e-03,  2.74967644e-02, -2.33133067e-03,\n",
       "       -4.07969393e-03, -1.44106885e-02,  2.03933287e-02, -1.04946317e-02,\n",
       "       -2.52191303e-03, -2.19632760e-02,  2.49948958e-03, -4.97015775e-04,\n",
       "        6.73121121e-03,  2.22201832e-02,  2.86111757e-02,  4.51951511e-02,\n",
       "       -1.11494691e-03,  3.08714225e-03, -1.54473353e-02, -2.08649915e-02,\n",
       "       -2.18930487e-02, -3.99364159e-03, -1.42018124e-02, -5.23093564e-04,\n",
       "       -1.68636553e-02,  1.16569670e-02, -1.60922594e-02, -4.78059007e-03,\n",
       "        1.13757392e-02, -4.09139181e-03,  1.10808881e-02,  1.25026349e-02,\n",
       "       -1.43436911e-02, -2.09732971e-04,  2.73654032e-02, -1.76215935e-02,\n",
       "       -2.66258363e-02,  2.32570916e-02,  4.57224669e-03,  1.24157667e-02,\n",
       "        2.75928751e-02,  4.04825844e-02, -2.96910740e-02, -2.71594021e-02,\n",
       "       -2.75544748e-02,  7.12690968e-03, -2.62741395e-03,  1.05185984e-02,\n",
       "       -1.49679137e-02,  7.87506904e-03,  1.33483335e-02, -1.08022541e-02,\n",
       "       -8.69409181e-03, -3.19305807e-02, -1.65395215e-02, -8.04037601e-03,\n",
       "        3.81557047e-02,  2.31600180e-03,  1.35420915e-02,  2.89364043e-03,\n",
       "        6.52128551e-03,  1.55062275e-02, -6.10956107e-04,  3.36856209e-02,\n",
       "       -1.79477371e-02,  3.38656679e-02, -1.14138955e-02,  2.52083540e-02,\n",
       "       -1.68482624e-02,  3.54616493e-02, -1.33867087e-02, -2.30524056e-02,\n",
       "       -5.53374132e-03, -1.54247070e-02,  9.50246770e-03,  4.23702830e-03,\n",
       "        1.88486166e-02, -1.62426513e-02,  1.81231275e-02,  1.16556231e-02,\n",
       "        3.52631533e-03,  1.77442972e-02,  1.04731591e-02,  1.91183519e-02,\n",
       "       -3.12761846e-03, -1.91430580e-02,  2.52366588e-02,  8.66204151e-04,\n",
       "        3.93018499e-02,  1.93218030e-02, -1.24105215e-02,  1.33841634e-02,\n",
       "       -1.79590099e-02, -9.52949096e-03, -5.46631357e-03, -4.42103250e-03,\n",
       "        3.75281740e-03,  3.65616265e-03,  1.07157081e-02,  1.14020426e-02,\n",
       "        3.90673429e-02, -2.66337418e-03,  2.29579881e-02, -4.72227373e-04,\n",
       "       -2.59973761e-02,  1.75561439e-02,  1.22778090e-02,  2.61853319e-02,\n",
       "       -3.13496590e-02, -1.52120031e-02, -1.09190978e-02, -1.95450848e-03,\n",
       "       -7.75163388e-03, -6.87049050e-03, -2.69763451e-02, -1.87517218e-02,\n",
       "       -1.14824064e-02,  3.67052183e-02, -1.20750198e-03,  5.38431806e-03,\n",
       "        2.21008132e-03,  9.09588765e-03, -6.66966895e-03,  2.87056752e-02,\n",
       "       -1.38444640e-02,  1.56832635e-02,  1.81936938e-02, -2.00531334e-02,\n",
       "       -1.62846874e-02,  1.03306212e-02,  3.15404870e-02, -8.92420672e-03,\n",
       "        7.62441242e-03,  2.08090898e-02, -1.42821865e-02, -5.37971081e-03,\n",
       "        3.66490111e-02, -6.73961081e-03,  1.14592360e-02, -2.04074718e-02,\n",
       "        3.79690295e-03, -4.86371852e-03,  2.75413897e-02,  6.16701925e-03,\n",
       "       -2.17099059e-02,  1.41474111e-02,  3.55489068e-02,  1.20920558e-02,\n",
       "       -1.44051323e-02, -8.94697662e-03, -1.37216458e-02,  6.90201437e-03,\n",
       "        7.30219483e-03,  2.39690226e-02,  1.16827367e-02,  2.75473986e-02,\n",
       "        3.88440005e-02, -5.37746819e-03,  3.88638140e-03, -1.07642096e-02,\n",
       "       -1.28431767e-02, -6.78551616e-03, -4.98914160e-03, -2.12163124e-02,\n",
       "        1.17511796e-02,  1.25097437e-02,  3.17501789e-03,  1.82313528e-02,\n",
       "       -3.35977599e-02, -1.04585513e-02,  2.73483749e-02, -5.41239604e-03,\n",
       "       -1.39427148e-02,  3.95911969e-02,  6.63314760e-03,  2.15873439e-02,\n",
       "        3.48317437e-02,  6.21566083e-03,  1.33403912e-02,  4.76472005e-02,\n",
       "        3.08454558e-02, -2.46396363e-02, -9.42522194e-03,  1.73409563e-02,\n",
       "        1.52235627e-02,  4.08498384e-03,  5.51343430e-03, -2.68933475e-02,\n",
       "        1.67771932e-02,  8.59147683e-03, -5.38650574e-03, -1.98866185e-02,\n",
       "       -7.74871977e-03,  2.48048026e-02, -1.02771521e-02,  2.48778332e-02,\n",
       "        2.85074469e-02, -4.56322310e-03,  2.92132236e-02, -3.27505879e-02,\n",
       "       -3.80182243e-03,  1.72830019e-02,  2.38574054e-02, -2.83649960e-03,\n",
       "       -1.53917335e-02, -8.15116800e-03,  1.33339604e-02, -7.67554250e-03,\n",
       "       -1.14095230e-02, -3.95113137e-03,  2.53851786e-02, -1.56392949e-03,\n",
       "        3.11795175e-02,  6.63205981e-03, -7.31304986e-03, -2.81141512e-03,\n",
       "        1.83484200e-02,  1.17719788e-02,  3.83499078e-03,  6.59473799e-03,\n",
       "        3.38925107e-04, -9.54834744e-03,  1.70656648e-02,  1.44024752e-03,\n",
       "        2.20561381e-02,  8.28033255e-04,  2.06792653e-02,  5.04880864e-03,\n",
       "        1.87260099e-02,  1.75570641e-02,  6.45449711e-03,  3.55980247e-02,\n",
       "        1.07349874e-02, -1.28511526e-02,  4.99072857e-03, -1.79679189e-02,\n",
       "       -3.08285169e-02, -3.03149293e-03, -8.27570446e-03,  1.63642745e-02,\n",
       "       -9.15353838e-03,  1.81471594e-02,  9.22673102e-03, -1.81155000e-02,\n",
       "       -5.50819794e-03,  2.11019497e-02, -1.06207849e-02, -1.66530441e-02,\n",
       "       -1.26422860e-03, -4.71127825e-03,  1.67157538e-02, -2.30229590e-02,\n",
       "        1.32403253e-02,  1.26984401e-03,  6.11045910e-03,  1.59899704e-02,\n",
       "        2.17306726e-02, -9.72114876e-03,  1.15473540e-02, -6.37346832e-03,\n",
       "        1.69902593e-02, -8.10330850e-04, -3.05928639e-03, -2.47288905e-02,\n",
       "        2.05132850e-02,  1.77656878e-02,  1.65763199e-02,  4.55555040e-03,\n",
       "       -2.49635652e-02,  2.80164313e-02,  2.21371334e-02,  3.65092270e-02,\n",
       "       -5.11880266e-04,  3.09277698e-02, -1.57172624e-02, -2.36597727e-03,\n",
       "       -8.23500042e-04,  2.54953150e-02, -1.18232309e-03,  4.73533422e-02,\n",
       "        6.80031581e-03, -2.12931484e-02, -5.70519711e-04, -1.70887401e-03,\n",
       "       -2.10412350e-02, -7.86244590e-03, -9.93247796e-03,  2.15058271e-02,\n",
       "        1.91004742e-02, -1.69733260e-02,  2.20858101e-02, -7.89607596e-03,\n",
       "       -7.40475161e-03, -1.19052790e-02,  9.97855701e-03,  1.46724600e-02,\n",
       "        2.40523834e-02,  1.37592489e-02, -2.78358813e-03,  5.51279355e-03,\n",
       "        1.54768059e-04, -2.16257591e-02,  2.53199097e-02,  2.69026496e-02,\n",
       "        6.23716321e-03, -3.30221746e-03, -3.81523161e-03,  3.49322893e-03,\n",
       "        1.08003514e-02,  4.00308371e-02,  2.44840179e-02,  3.05879250e-04,\n",
       "        9.44650918e-03,  7.08422192e-08,  1.99470166e-02, -5.54865459e-03,\n",
       "        3.92357558e-02,  6.87640021e-03, -1.07253455e-02,  1.56014431e-02,\n",
       "       -1.83577966e-02, -1.14120508e-03, -5.72008220e-03,  3.16415541e-02,\n",
       "        2.41717733e-02, -3.26332338e-02,  1.13001959e-02,  2.45523285e-02,\n",
       "       -8.70074239e-03, -1.76314246e-02,  4.33315374e-02,  1.16172964e-02,\n",
       "        2.48136148e-02,  2.44551599e-02, -1.84151102e-02,  1.71203148e-02,\n",
       "       -2.48573720e-02,  3.95856053e-03,  2.84438320e-02,  9.72598139e-03,\n",
       "       -2.39845216e-02, -9.59680357e-04,  4.41873223e-02,  2.38272473e-02,\n",
       "        1.32187381e-02, -4.09965403e-02,  6.46350114e-03,  5.33904415e-03,\n",
       "        5.04927151e-03, -1.59623735e-02, -2.11522169e-02, -2.23401170e-02,\n",
       "        3.95949259e-02,  2.83691529e-02, -1.67393945e-02,  2.21208273e-03,\n",
       "        5.16645086e-04,  3.59204225e-02,  2.68480349e-02,  3.41777131e-02,\n",
       "        1.29276542e-02, -2.08327058e-03, -7.61780376e-03,  2.44093481e-02,\n",
       "        1.65915266e-02,  1.15617579e-02,  1.80436205e-02,  1.90694761e-02,\n",
       "        4.16333700e-04, -1.03761936e-02,  1.00810360e-03,  2.19237767e-02,\n",
       "        2.22355817e-02,  3.75589053e-03, -1.51740632e-03, -1.32389180e-02,\n",
       "        2.36315709e-02,  1.03387637e-02, -3.72557715e-02, -1.91503204e-02,\n",
       "       -1.20232562e-02, -1.76336581e-03, -1.26482425e-02, -1.38054295e-02,\n",
       "       -1.79603454e-02,  1.28094722e-02,  6.27515838e-03, -7.62497308e-04,\n",
       "        1.96259301e-02,  6.34805486e-03,  2.07836330e-02,  3.21172215e-02,\n",
       "        1.57463495e-02,  3.51938792e-02,  1.50868557e-02,  1.04872724e-02,\n",
       "       -2.30414756e-02,  3.88775542e-02,  9.30471625e-03,  3.40482257e-02],\n",
       "      dtype=float32)"
      ]
     },
     "execution_count": 201,
     "metadata": {},
     "output_type": "execute_result"
    }
   ],
   "source": [
    "toy_story1_vec"
   ]
  },
  {
   "cell_type": "code",
   "execution_count": 202,
   "id": "2cc5777b",
   "metadata": {},
   "outputs": [
    {
     "data": {
      "text/plain": [
       "0.95071226"
      ]
     },
     "execution_count": 202,
     "metadata": {},
     "output_type": "execute_result"
    }
   ],
   "source": [
    "# test_user와 toy_story1을 내적하는 코드\n",
    "np.dot(test_user_vec, toy_story1_vec)"
   ]
  },
  {
   "cell_type": "markdown",
   "id": "30bf46ed",
   "metadata": {},
   "source": [
    "factors=1000로 지정하였더니, 사용자와 아이템 벡터 내적수치가 의미있게 잘 형성되었다.<br/>\n",
    "factors를 100으로 주게 되면, 약 0.57%가 나온 것을 확인하였다."
   ]
  },
  {
   "cell_type": "markdown",
   "id": "ec71a4cd",
   "metadata": {},
   "source": [
    "<div style = \"height: 50px;\"></div>"
   ]
  },
  {
   "cell_type": "markdown",
   "id": "83c90d20",
   "metadata": {},
   "source": [
    "## 2. 내가 좋아하는 영화와 비슷한 영화를 추천받아 보기\n",
    "<hr/>"
   ]
  },
  {
   "cell_type": "code",
   "execution_count": 284,
   "id": "d7f3fe59",
   "metadata": {},
   "outputs": [],
   "source": [
    "# 유사도 구하는 함수\n",
    "def get_similar_movie(movie_name: str):\n",
    "    movie_id = movie_to_idx[movie_name]\n",
    "    similar_movie = als_model.similar_items(movie_id)\n",
    "    similar_movie = similar_movie[0]\n",
    "    similar_movie = [idx_to_movie[i] for i in similar_movie]\n",
    "    return similar_movie"
   ]
  },
  {
   "cell_type": "code",
   "execution_count": 295,
   "id": "1f376a4a",
   "metadata": {},
   "outputs": [
    {
     "data": {
      "text/html": [
       "<div>\n",
       "<style scoped>\n",
       "    .dataframe tbody tr th:only-of-type {\n",
       "        vertical-align: middle;\n",
       "    }\n",
       "\n",
       "    .dataframe tbody tr th {\n",
       "        vertical-align: top;\n",
       "    }\n",
       "\n",
       "    .dataframe thead th {\n",
       "        text-align: right;\n",
       "    }\n",
       "</style>\n",
       "<table border=\"1\" class=\"dataframe\">\n",
       "  <thead>\n",
       "    <tr style=\"text-align: right;\">\n",
       "      <th></th>\n",
       "      <th>user_id</th>\n",
       "      <th>counts</th>\n",
       "      <th>movie_id</th>\n",
       "      <th>title</th>\n",
       "      <th>genre</th>\n",
       "      <th>timestamp</th>\n",
       "    </tr>\n",
       "  </thead>\n",
       "  <tbody>\n",
       "    <tr>\n",
       "      <th>19773</th>\n",
       "      <td>252</td>\n",
       "      <td>4</td>\n",
       "      <td>47</td>\n",
       "      <td>pocahontas (1995)</td>\n",
       "      <td>animation|children's|musical|romance</td>\n",
       "      <td>974999474</td>\n",
       "    </tr>\n",
       "  </tbody>\n",
       "</table>\n",
       "</div>"
      ],
      "text/plain": [
       "       user_id  counts  movie_id              title  \\\n",
       "19773      252       4        47  pocahontas (1995)   \n",
       "\n",
       "                                      genre  timestamp  \n",
       "19773  animation|children's|musical|romance  974999474  "
      ]
     },
     "execution_count": 295,
     "metadata": {},
     "output_type": "execute_result"
    }
   ],
   "source": [
    "# 영화 검색을 통해 movie_id 찾기\n",
    "movie_id_toy = ratings.drop_duplicates(['title'], keep = 'first')\n",
    "movie_id_toy[movie_id_toy['title'].str.contains('pocahontas')]"
   ]
  },
  {
   "cell_type": "markdown",
   "id": "e993b8ae",
   "metadata": {},
   "source": [
    "toy story를 검색해서 toy story2가 나온다면 성공으로 판단하고자 한다."
   ]
  },
  {
   "cell_type": "code",
   "execution_count": 296,
   "id": "ea0a611e",
   "metadata": {},
   "outputs": [
    {
     "data": {
      "text/html": [
       "<div>\n",
       "<style scoped>\n",
       "    .dataframe tbody tr th:only-of-type {\n",
       "        vertical-align: middle;\n",
       "    }\n",
       "\n",
       "    .dataframe tbody tr th {\n",
       "        vertical-align: top;\n",
       "    }\n",
       "\n",
       "    .dataframe thead th {\n",
       "        text-align: right;\n",
       "    }\n",
       "</style>\n",
       "<table border=\"1\" class=\"dataframe\">\n",
       "  <thead>\n",
       "    <tr style=\"text-align: right;\">\n",
       "      <th></th>\n",
       "      <th>movie_id</th>\n",
       "      <th>title</th>\n",
       "      <th>genre</th>\n",
       "    </tr>\n",
       "  </thead>\n",
       "  <tbody>\n",
       "    <tr>\n",
       "      <th>47</th>\n",
       "      <td>48</td>\n",
       "      <td>pocahontas (1995)</td>\n",
       "      <td>animation|children's|musical|romance</td>\n",
       "    </tr>\n",
       "  </tbody>\n",
       "</table>\n",
       "</div>"
      ],
      "text/plain": [
       "    movie_id              title                                 genre\n",
       "47        48  pocahontas (1995)  animation|children's|musical|romance"
      ]
     },
     "execution_count": 296,
     "metadata": {},
     "output_type": "execute_result"
    }
   ],
   "source": [
    "movies[movies['title'].str.contains('pocahontas')]"
   ]
  },
  {
   "cell_type": "code",
   "execution_count": 297,
   "id": "c693eb0e",
   "metadata": {},
   "outputs": [],
   "source": [
    "similar_movie = get_similar_movie(48)"
   ]
  },
  {
   "cell_type": "code",
   "execution_count": 298,
   "id": "29bc8915",
   "metadata": {},
   "outputs": [
    {
     "data": {
      "text/html": [
       "<div>\n",
       "<style scoped>\n",
       "    .dataframe tbody tr th:only-of-type {\n",
       "        vertical-align: middle;\n",
       "    }\n",
       "\n",
       "    .dataframe tbody tr th {\n",
       "        vertical-align: top;\n",
       "    }\n",
       "\n",
       "    .dataframe thead th {\n",
       "        text-align: right;\n",
       "    }\n",
       "</style>\n",
       "<table border=\"1\" class=\"dataframe\">\n",
       "  <thead>\n",
       "    <tr style=\"text-align: right;\">\n",
       "      <th></th>\n",
       "      <th>movie_id</th>\n",
       "      <th>title</th>\n",
       "      <th>genre</th>\n",
       "    </tr>\n",
       "  </thead>\n",
       "  <tbody>\n",
       "    <tr>\n",
       "      <th>47</th>\n",
       "      <td>48</td>\n",
       "      <td>pocahontas (1995)</td>\n",
       "      <td>animation|children's|musical|romance</td>\n",
       "    </tr>\n",
       "    <tr>\n",
       "      <th>307</th>\n",
       "      <td>310</td>\n",
       "      <td>rent-a-kid (1995)</td>\n",
       "      <td>comedy</td>\n",
       "    </tr>\n",
       "    <tr>\n",
       "      <th>773</th>\n",
       "      <td>783</td>\n",
       "      <td>hunchback of notre dame, the (1996)</td>\n",
       "      <td>animation|children's|musical</td>\n",
       "    </tr>\n",
       "    <tr>\n",
       "      <th>805</th>\n",
       "      <td>815</td>\n",
       "      <td>power 98 (1995)</td>\n",
       "      <td>action|mystery|thriller</td>\n",
       "    </tr>\n",
       "    <tr>\n",
       "      <th>876</th>\n",
       "      <td>888</td>\n",
       "      <td>land before time iii: the time of the great gi...</td>\n",
       "      <td>animation|children's</td>\n",
       "    </tr>\n",
       "    <tr>\n",
       "      <th>1774</th>\n",
       "      <td>1843</td>\n",
       "      <td>slappy and the stinkers (1998)</td>\n",
       "      <td>children's|comedy</td>\n",
       "    </tr>\n",
       "    <tr>\n",
       "      <th>2182</th>\n",
       "      <td>2251</td>\n",
       "      <td>cabinet of dr. ramirez, the (1991)</td>\n",
       "      <td>comedy</td>\n",
       "    </tr>\n",
       "    <tr>\n",
       "      <th>2490</th>\n",
       "      <td>2559</td>\n",
       "      <td>king and i, the (1999)</td>\n",
       "      <td>animation|children's</td>\n",
       "    </tr>\n",
       "    <tr>\n",
       "      <th>2497</th>\n",
       "      <td>2566</td>\n",
       "      <td>doug's 1st movie (1999)</td>\n",
       "      <td>animation|children's</td>\n",
       "    </tr>\n",
       "    <tr>\n",
       "      <th>3067</th>\n",
       "      <td>3136</td>\n",
       "      <td>james dean story, the (1957)</td>\n",
       "      <td>documentary</td>\n",
       "    </tr>\n",
       "  </tbody>\n",
       "</table>\n",
       "</div>"
      ],
      "text/plain": [
       "      movie_id                                              title  \\\n",
       "47          48                                  pocahontas (1995)   \n",
       "307        310                                  rent-a-kid (1995)   \n",
       "773        783                hunchback of notre dame, the (1996)   \n",
       "805        815                                    power 98 (1995)   \n",
       "876        888  land before time iii: the time of the great gi...   \n",
       "1774      1843                     slappy and the stinkers (1998)   \n",
       "2182      2251                 cabinet of dr. ramirez, the (1991)   \n",
       "2490      2559                             king and i, the (1999)   \n",
       "2497      2566                            doug's 1st movie (1999)   \n",
       "3067      3136                       james dean story, the (1957)   \n",
       "\n",
       "                                     genre  \n",
       "47    animation|children's|musical|romance  \n",
       "307                                 comedy  \n",
       "773           animation|children's|musical  \n",
       "805                action|mystery|thriller  \n",
       "876                   animation|children's  \n",
       "1774                     children's|comedy  \n",
       "2182                                comedy  \n",
       "2490                  animation|children's  \n",
       "2497                  animation|children's  \n",
       "3067                           documentary  "
      ]
     },
     "execution_count": 298,
     "metadata": {},
     "output_type": "execute_result"
    }
   ],
   "source": [
    "similar_data = movies[movies['movie_id'].isin(similar_movie)]\n",
    "similar_data"
   ]
  },
  {
   "cell_type": "markdown",
   "id": "a8d0936f",
   "metadata": {},
   "source": [
    "왕과 나, 노틀담의 꼽추, 공룡시대 3 등 많은 애니메이션 영화가 출력된 것을 확인할 수 있었다. <br/> 유사도가 의미있게 측정이 되었다."
   ]
  },
  {
   "cell_type": "markdown",
   "id": "812b4f71",
   "metadata": {},
   "source": [
    "<div style = \"height: 50px;\"></div>"
   ]
  },
  {
   "cell_type": "markdown",
   "id": "84351e3c",
   "metadata": {},
   "source": [
    "## 3. 내가 가장 좋아할 만한 영화들을 추천받아보기\n",
    "<hr/>"
   ]
  },
  {
   "cell_type": "code",
   "execution_count": 251,
   "id": "5c71fcac",
   "metadata": {
    "scrolled": true
   },
   "outputs": [
    {
     "ename": "ValueError",
     "evalue": "user_items must contain 1 row for every user in userids",
     "output_type": "error",
     "traceback": [
      "\u001b[0;31m---------------------------------------------------------------------------\u001b[0m",
      "\u001b[0;31mValueError\u001b[0m                                Traceback (most recent call last)",
      "\u001b[0;32m/tmp/ipykernel_15612/1239829353.py\u001b[0m in \u001b[0;36m<module>\u001b[0;34m\u001b[0m\n\u001b[1;32m      1\u001b[0m \u001b[0muser\u001b[0m \u001b[0;34m=\u001b[0m \u001b[0muser_to_idx\u001b[0m\u001b[0;34m[\u001b[0m\u001b[0;36m6041\u001b[0m\u001b[0;34m]\u001b[0m\u001b[0;34m\u001b[0m\u001b[0;34m\u001b[0m\u001b[0m\n\u001b[1;32m      2\u001b[0m \u001b[0;31m# recommend에서는 user*item CSR Matrix를 받습니다.\u001b[0m\u001b[0;34m\u001b[0m\u001b[0;34m\u001b[0m\u001b[0m\n\u001b[0;32m----> 3\u001b[0;31m \u001b[0mmovies_recommended\u001b[0m \u001b[0;34m=\u001b[0m \u001b[0mals_model\u001b[0m\u001b[0;34m.\u001b[0m\u001b[0mrecommend\u001b[0m\u001b[0;34m(\u001b[0m\u001b[0muser\u001b[0m\u001b[0;34m,\u001b[0m \u001b[0mcsr_data\u001b[0m\u001b[0;34m,\u001b[0m \u001b[0mN\u001b[0m\u001b[0;34m=\u001b[0m\u001b[0;36m10\u001b[0m\u001b[0;34m,\u001b[0m \u001b[0mfilter_already_liked_items\u001b[0m\u001b[0;34m=\u001b[0m\u001b[0;32mTrue\u001b[0m\u001b[0;34m)\u001b[0m\u001b[0;34m\u001b[0m\u001b[0;34m\u001b[0m\u001b[0m\n\u001b[0m\u001b[1;32m      4\u001b[0m \u001b[0mmovies_recommended\u001b[0m\u001b[0;34m\u001b[0m\u001b[0;34m\u001b[0m\u001b[0m\n",
      "\u001b[0;32m~/anaconda3/lib/python3.9/site-packages/implicit/cpu/matrix_factorization_base.py\u001b[0m in \u001b[0;36mrecommend\u001b[0;34m(self, userid, user_items, N, filter_already_liked_items, filter_items, recalculate_user, items)\u001b[0m\n\u001b[1;32m     43\u001b[0m             \u001b[0muser_count\u001b[0m \u001b[0;34m=\u001b[0m \u001b[0;36m1\u001b[0m \u001b[0;32mif\u001b[0m \u001b[0mnp\u001b[0m\u001b[0;34m.\u001b[0m\u001b[0misscalar\u001b[0m\u001b[0;34m(\u001b[0m\u001b[0muserid\u001b[0m\u001b[0;34m)\u001b[0m \u001b[0;32melse\u001b[0m \u001b[0mlen\u001b[0m\u001b[0;34m(\u001b[0m\u001b[0muserid\u001b[0m\u001b[0;34m)\u001b[0m\u001b[0;34m\u001b[0m\u001b[0;34m\u001b[0m\u001b[0m\n\u001b[1;32m     44\u001b[0m             \u001b[0;32mif\u001b[0m \u001b[0muser_items\u001b[0m\u001b[0;34m.\u001b[0m\u001b[0mshape\u001b[0m\u001b[0;34m[\u001b[0m\u001b[0;36m0\u001b[0m\u001b[0;34m]\u001b[0m \u001b[0;34m!=\u001b[0m \u001b[0muser_count\u001b[0m\u001b[0;34m:\u001b[0m\u001b[0;34m\u001b[0m\u001b[0;34m\u001b[0m\u001b[0m\n\u001b[0;32m---> 45\u001b[0;31m                 \u001b[0;32mraise\u001b[0m \u001b[0mValueError\u001b[0m\u001b[0;34m(\u001b[0m\u001b[0;34m\"user_items must contain 1 row for every user in userids\"\u001b[0m\u001b[0;34m)\u001b[0m\u001b[0;34m\u001b[0m\u001b[0;34m\u001b[0m\u001b[0m\n\u001b[0m\u001b[1;32m     46\u001b[0m \u001b[0;34m\u001b[0m\u001b[0m\n\u001b[1;32m     47\u001b[0m         \u001b[0muser\u001b[0m \u001b[0;34m=\u001b[0m \u001b[0mself\u001b[0m\u001b[0;34m.\u001b[0m\u001b[0m_user_factor\u001b[0m\u001b[0;34m(\u001b[0m\u001b[0muserid\u001b[0m\u001b[0;34m,\u001b[0m \u001b[0muser_items\u001b[0m\u001b[0;34m,\u001b[0m \u001b[0mrecalculate_user\u001b[0m\u001b[0;34m)\u001b[0m\u001b[0;34m\u001b[0m\u001b[0;34m\u001b[0m\u001b[0m\n",
      "\u001b[0;31mValueError\u001b[0m: user_items must contain 1 row for every user in userids"
     ]
    }
   ],
   "source": [
    "user = user_to_idx[6041]\n",
    "# recommend에서는 user*item CSR Matrix를 받습니다.\n",
    "movies_recommended = als_model.recommend(user, csr_data, N=10, filter_already_liked_items=True)\n",
    "movies_recommended"
   ]
  },
  {
   "cell_type": "markdown",
   "id": "2b5897ec",
   "metadata": {},
   "source": [
    "오류를 찾아본 결과, csr_data[userids]로 변경해야한다는 것을 확인하였다. <br/>\n",
    "[참고자료](https://bytemeta.vip/repo/benfred/implicit/issues/535)"
   ]
  },
  {
   "cell_type": "code",
   "execution_count": 258,
   "id": "30a08b37",
   "metadata": {},
   "outputs": [
    {
     "data": {
      "text/plain": [
       "(array([ 725, 1409,  568,  575, 2434, 3304, 1689, 1520, 2506, 2153],\n",
       "       dtype=int32),\n",
       " array([0.21304816, 0.18543401, 0.16891176, 0.14465469, 0.14410135,\n",
       "        0.1351954 , 0.12553616, 0.11215486, 0.11122189, 0.1099642 ],\n",
       "       dtype=float32))"
      ]
     },
     "execution_count": 258,
     "metadata": {},
     "output_type": "execute_result"
    }
   ],
   "source": [
    "user = user_to_idx[6041]\n",
    "# recommend에서는 user*item CSR Matrix를 받습니다.\n",
    "movies_recommend = als_model.recommend(user, csr_data[user], N=10, filter_already_liked_items=True)\n",
    "movies_recommend"
   ]
  },
  {
   "cell_type": "code",
   "execution_count": 259,
   "id": "cb2ba390",
   "metadata": {},
   "outputs": [],
   "source": [
    "recommend_movie = movies_recommend[0]"
   ]
  },
  {
   "cell_type": "code",
   "execution_count": 260,
   "id": "6a73ac1a",
   "metadata": {},
   "outputs": [],
   "source": [
    "movies_recommend = [idx_to_movie[i] for i in recommend_movie]"
   ]
  },
  {
   "cell_type": "code",
   "execution_count": 320,
   "id": "54ae1194",
   "metadata": {},
   "outputs": [
    {
     "data": {
      "text/plain": [
       "[783, 1566, 588, 595, 2687, 3615, 1907, 1688, 2761, 2394]"
      ]
     },
     "execution_count": 320,
     "metadata": {},
     "output_type": "execute_result"
    }
   ],
   "source": [
    "movies_recommend"
   ]
  },
  {
   "cell_type": "code",
   "execution_count": 321,
   "id": "9ac51a12",
   "metadata": {},
   "outputs": [
    {
     "data": {
      "text/html": [
       "<div>\n",
       "<style scoped>\n",
       "    .dataframe tbody tr th:only-of-type {\n",
       "        vertical-align: middle;\n",
       "    }\n",
       "\n",
       "    .dataframe tbody tr th {\n",
       "        vertical-align: top;\n",
       "    }\n",
       "\n",
       "    .dataframe thead th {\n",
       "        text-align: right;\n",
       "    }\n",
       "</style>\n",
       "<table border=\"1\" class=\"dataframe\">\n",
       "  <thead>\n",
       "    <tr style=\"text-align: right;\">\n",
       "      <th></th>\n",
       "      <th>movie_id</th>\n",
       "      <th>title</th>\n",
       "      <th>genre</th>\n",
       "    </tr>\n",
       "  </thead>\n",
       "  <tbody>\n",
       "    <tr>\n",
       "      <th>584</th>\n",
       "      <td>588</td>\n",
       "      <td>aladdin (1992)</td>\n",
       "      <td>animation|children's|comedy|musical</td>\n",
       "    </tr>\n",
       "    <tr>\n",
       "      <th>591</th>\n",
       "      <td>595</td>\n",
       "      <td>beauty and the beast (1991)</td>\n",
       "      <td>animation|children's|musical</td>\n",
       "    </tr>\n",
       "    <tr>\n",
       "      <th>773</th>\n",
       "      <td>783</td>\n",
       "      <td>hunchback of notre dame, the (1996)</td>\n",
       "      <td>animation|children's|musical</td>\n",
       "    </tr>\n",
       "    <tr>\n",
       "      <th>1526</th>\n",
       "      <td>1566</td>\n",
       "      <td>hercules (1997)</td>\n",
       "      <td>adventure|animation|children's|comedy|musical</td>\n",
       "    </tr>\n",
       "    <tr>\n",
       "      <th>1642</th>\n",
       "      <td>1688</td>\n",
       "      <td>anastasia (1997)</td>\n",
       "      <td>animation|children's|musical</td>\n",
       "    </tr>\n",
       "    <tr>\n",
       "      <th>1838</th>\n",
       "      <td>1907</td>\n",
       "      <td>mulan (1998)</td>\n",
       "      <td>animation|children's</td>\n",
       "    </tr>\n",
       "    <tr>\n",
       "      <th>2325</th>\n",
       "      <td>2394</td>\n",
       "      <td>prince of egypt, the (1998)</td>\n",
       "      <td>animation|musical</td>\n",
       "    </tr>\n",
       "    <tr>\n",
       "      <th>2618</th>\n",
       "      <td>2687</td>\n",
       "      <td>tarzan (1999)</td>\n",
       "      <td>animation|children's</td>\n",
       "    </tr>\n",
       "    <tr>\n",
       "      <th>2692</th>\n",
       "      <td>2761</td>\n",
       "      <td>iron giant, the (1999)</td>\n",
       "      <td>animation|children's</td>\n",
       "    </tr>\n",
       "    <tr>\n",
       "      <th>3546</th>\n",
       "      <td>3615</td>\n",
       "      <td>dinosaur (2000)</td>\n",
       "      <td>animation|children's</td>\n",
       "    </tr>\n",
       "  </tbody>\n",
       "</table>\n",
       "</div>"
      ],
      "text/plain": [
       "      movie_id                                title  \\\n",
       "584        588                       aladdin (1992)   \n",
       "591        595          beauty and the beast (1991)   \n",
       "773        783  hunchback of notre dame, the (1996)   \n",
       "1526      1566                      hercules (1997)   \n",
       "1642      1688                     anastasia (1997)   \n",
       "1838      1907                         mulan (1998)   \n",
       "2325      2394          prince of egypt, the (1998)   \n",
       "2618      2687                        tarzan (1999)   \n",
       "2692      2761               iron giant, the (1999)   \n",
       "3546      3615                      dinosaur (2000)   \n",
       "\n",
       "                                              genre  \n",
       "584             animation|children's|comedy|musical  \n",
       "591                    animation|children's|musical  \n",
       "773                    animation|children's|musical  \n",
       "1526  adventure|animation|children's|comedy|musical  \n",
       "1642                   animation|children's|musical  \n",
       "1838                           animation|children's  \n",
       "2325                              animation|musical  \n",
       "2618                           animation|children's  \n",
       "2692                           animation|children's  \n",
       "3546                           animation|children's  "
      ]
     },
     "execution_count": 321,
     "metadata": {},
     "output_type": "execute_result"
    }
   ],
   "source": [
    "movies[movies['movie_id'].isin(movies_recommend)]"
   ]
  },
  {
   "cell_type": "markdown",
   "id": "ec738778",
   "metadata": {},
   "source": [
    "미녀와 야수, 노틀담의 꼽추, 헤라클레스, 아나스타샤, 뮬란, 이집트 왕자, 타잔 등 각종 동화 애니메이션 영화들을 추천받았다. <br/> 그 중, 노틀담의 꼽추가 0.21304816으로 가장 높으므로, 노틀담의 꼽추를 추천할 때 추가했던 각각 my_favorite들의 기여도를 확인하고자 한다."
   ]
  },
  {
   "cell_type": "markdown",
   "id": "9d7ef834",
   "metadata": {},
   "source": [
    "<div style = \"height: 50px;\"></div>"
   ]
  },
  {
   "cell_type": "markdown",
   "id": "899c4233",
   "metadata": {},
   "source": [
    "## 4. 기여도 확인하기\n",
    "<hr/>"
   ]
  },
  {
   "cell_type": "code",
   "execution_count": 330,
   "id": "8add27c0",
   "metadata": {},
   "outputs": [],
   "source": [
    "pocahontas = movie_to_idx[783]\n",
    "explain = als_model.explain(user, csr_data, itemid = pocahontas)"
   ]
  },
  {
   "cell_type": "code",
   "execution_count": 331,
   "id": "2be96ede",
   "metadata": {},
   "outputs": [
    {
     "data": {
      "text/plain": [
       "(0.21131858974165724,\n",
       " [(47, 0.15035395579520142),\n",
       "  (350, 0.03454991607283462),\n",
       "  (3182, 0.029928047362040813),\n",
       "  (0, -0.0008852820369958259),\n",
       "  (2845, -0.0026280474514237713)],\n",
       " (array([[0.59014716, 0.15278273, 0.16235044, ..., 0.10929095, 0.10622961,\n",
       "          0.12207671],\n",
       "         [0.09016429, 0.61502478, 0.14821994, ..., 0.1047266 , 0.10400323,\n",
       "          0.11683836],\n",
       "         [0.09581065, 0.11596328, 0.6139697 , ..., 0.09324496, 0.0957614 ,\n",
       "          0.09955473],\n",
       "         ...,\n",
       "         [0.06449774, 0.08110722, 0.09051558, ..., 0.52140977, 0.00386288,\n",
       "          0.00853695],\n",
       "         [0.06269111, 0.08019461, 0.09145637, ..., 0.06588863, 0.52365138,\n",
       "          0.00139759],\n",
       "         [0.07204323, 0.0905097 , 0.09826057, ..., 0.07610832, 0.07113377,\n",
       "          0.51762511]]),\n",
       "  False))"
      ]
     },
     "execution_count": 331,
     "metadata": {},
     "output_type": "execute_result"
    }
   ],
   "source": [
    "explain"
   ]
  },
  {
   "cell_type": "code",
   "execution_count": 332,
   "id": "9fe0206b",
   "metadata": {},
   "outputs": [],
   "source": [
    "explain_data = [(idx_to_movie[i[0]], i[1]) for i in explain[1]]"
   ]
  },
  {
   "cell_type": "code",
   "execution_count": 341,
   "id": "1c0fce72",
   "metadata": {},
   "outputs": [],
   "source": [
    "explain_list = []\n",
    "\n",
    "for i in range(5):\n",
    "    j = explain_data[i][0]\n",
    "    explain_list.append(j)"
   ]
  },
  {
   "cell_type": "code",
   "execution_count": 345,
   "id": "d4668e84",
   "metadata": {},
   "outputs": [
    {
     "data": {
      "text/plain": [
       "[48, 364, 3483, 1, 3114]"
      ]
     },
     "execution_count": 345,
     "metadata": {},
     "output_type": "execute_result"
    }
   ],
   "source": [
    "explain_list"
   ]
  },
  {
   "cell_type": "code",
   "execution_count": 344,
   "id": "7ffb4628",
   "metadata": {},
   "outputs": [
    {
     "data": {
      "text/html": [
       "<div>\n",
       "<style scoped>\n",
       "    .dataframe tbody tr th:only-of-type {\n",
       "        vertical-align: middle;\n",
       "    }\n",
       "\n",
       "    .dataframe tbody tr th {\n",
       "        vertical-align: top;\n",
       "    }\n",
       "\n",
       "    .dataframe thead th {\n",
       "        text-align: right;\n",
       "    }\n",
       "</style>\n",
       "<table border=\"1\" class=\"dataframe\">\n",
       "  <thead>\n",
       "    <tr style=\"text-align: right;\">\n",
       "      <th></th>\n",
       "      <th>movie_id</th>\n",
       "      <th>title</th>\n",
       "      <th>genre</th>\n",
       "    </tr>\n",
       "  </thead>\n",
       "  <tbody>\n",
       "    <tr>\n",
       "      <th>0</th>\n",
       "      <td>1</td>\n",
       "      <td>toy story (1995)</td>\n",
       "      <td>animation|children's|comedy</td>\n",
       "    </tr>\n",
       "    <tr>\n",
       "      <th>47</th>\n",
       "      <td>48</td>\n",
       "      <td>pocahontas (1995)</td>\n",
       "      <td>animation|children's|musical|romance</td>\n",
       "    </tr>\n",
       "    <tr>\n",
       "      <th>360</th>\n",
       "      <td>364</td>\n",
       "      <td>lion king, the (1994)</td>\n",
       "      <td>animation|children's|musical</td>\n",
       "    </tr>\n",
       "    <tr>\n",
       "      <th>3045</th>\n",
       "      <td>3114</td>\n",
       "      <td>toy story 2 (1999)</td>\n",
       "      <td>animation|children's|comedy</td>\n",
       "    </tr>\n",
       "    <tr>\n",
       "      <th>3414</th>\n",
       "      <td>3483</td>\n",
       "      <td>road to el dorado, the (2000)</td>\n",
       "      <td>animation|children's</td>\n",
       "    </tr>\n",
       "  </tbody>\n",
       "</table>\n",
       "</div>"
      ],
      "text/plain": [
       "      movie_id                          title  \\\n",
       "0            1               toy story (1995)   \n",
       "47          48              pocahontas (1995)   \n",
       "360        364          lion king, the (1994)   \n",
       "3045      3114             toy story 2 (1999)   \n",
       "3414      3483  road to el dorado, the (2000)   \n",
       "\n",
       "                                     genre  \n",
       "0              animation|children's|comedy  \n",
       "47    animation|children's|musical|romance  \n",
       "360           animation|children's|musical  \n",
       "3045           animation|children's|comedy  \n",
       "3414                  animation|children's  "
      ]
     },
     "execution_count": 344,
     "metadata": {},
     "output_type": "execute_result"
    }
   ],
   "source": [
    "movies[movies['movie_id'].isin(explain_list)]"
   ]
  },
  {
   "cell_type": "markdown",
   "id": "d3edf6c6",
   "metadata": {},
   "source": [
    "노틀담의 꼽추를 추천하는데 가장 큰 영향을 미친 영화는 pocahontas이며,  약 0.1503540의 영향을 미친 것을 확인하였다. "
   ]
  },
  {
   "cell_type": "markdown",
   "id": "df66d605",
   "metadata": {},
   "source": [
    "### 기여도 순위"
   ]
  },
  {
   "cell_type": "markdown",
   "id": "8b450926",
   "metadata": {},
   "source": [
    "<ol>\n",
    "    <li style = \"margin-bottom:3px;\"><span style = \"font-weight:bold;color:#0172d4;\">pocahontas</span> : 0.1503540</li>\n",
    "    <li style = \"margin-bottom:3px;\"><span style = \"font-weight:bold;color:#0172d4;\">lion king, the</span> : 0.034550</li>\n",
    "    <li style = \"margin-bottom:3px;\"><span style = \"font-weight:bold;color:#0172d4;\">road to el dorado, the</span> : 0.029928</li>\n",
    "    <li style = \"margin-bottom:3px;\"><span style = \"font-weight:bold;color:#0172d4;\">toy story</span> : -0.000885</li>\n",
    "    <li style = \"margin-bottom:3px;\"><span style = \"font-weight:bold;color:#0172d4;\">toy story 2</span> : -0.002628</li>\n",
    "</ol>"
   ]
  },
  {
   "cell_type": "markdown",
   "id": "c6b5ca99",
   "metadata": {},
   "source": [
    "<div style = \"height: 50px;\"></div>"
   ]
  },
  {
   "cell_type": "markdown",
   "id": "4ec4f51a",
   "metadata": {},
   "source": [
    "# <span style = \"font-weight:bold;color:#0172d4;\">STEP 7</span> : 회고하기"
   ]
  },
  {
   "cell_type": "markdown",
   "id": "195ce644",
   "metadata": {},
   "source": [
    "<ol style= \"font-size:16px; line-height:30px;\">\n",
    "\t<li style = \"margin-bottom:14px;\">영화 데이터가 2000년도까지라서 많이 아쉽다.</li>\n",
    "\t<li style = \"margin-bottom:14px;\">버전 문제로 인해 lms에서는 recommend가 잘 실행되었으나, 로컬에서는 작동하지 않았다.</li>\n",
    "\t<li style = \"margin-bottom:14px;\">2개의 데이터를 합치는 과정을 진행하였으나, 모델을 돌리는데에 있어 큰 작용을 하지 않아 시간을 낭비한 것 같다.</li>\n",
    "\t<li style = \"margin-bottom:14px;\">모델의 출력 결과를 시각화하면 좀 더 좋았을 것 같다. (시간 부족 이슈로 인한 한계)</li>\n",
    "    <li style = \"margin-bottom:14px;\">출력된 인덱스를 movies의 인덱스로 변환하는 과정에 있어 오류가 뜨는데 버전 오류로 인해 생긴 것 같다.<br/>이는 [idx_to_movie[i] for i in 모델이 출력한 결과값들]에서 [idx_to_movie[i] for i in 모델이 출력한 결과값[0]]으로 처리하면 해결 가능하다.</li>\n",
    "</ol>"
   ]
  },
  {
   "cell_type": "markdown",
   "id": "89fd0459",
   "metadata": {},
   "source": [
    "<div style = \"height: 50px;\"></div>"
   ]
  },
  {
   "cell_type": "markdown",
   "id": "8bb0a123",
   "metadata": {},
   "source": [
    "## 2. 참고자료\n",
    "<hr/>"
   ]
  },
  {
   "cell_type": "markdown",
   "id": "dc9bbd4c",
   "metadata": {},
   "source": [
    "<ul style= \"font-size:16px; line-height:30px;\">\n",
    "    <li style = \"margin-bottom:14px;\"><a href = \"https://bytemeta.vip/repo/benfred/implicit/issues/535\">recommend 오류 해결법</a></li>\n",
    "    <li style = \"margin-bottom:14px;\"><a href = \"https://colab.research.google.com/drive/1wdFPQXfV8QV5EvQG-STGCJC0gObF62Mu#scrollTo=4B8J5xk06nsA\">코랩 사용 시 오류 해결법</a></li>\n",
    "</ul>"
   ]
  },
  {
   "cell_type": "markdown",
   "id": "2b803425",
   "metadata": {},
   "source": [
    "<div style = \"height: 50px;\"></div>"
   ]
  }
 ],
 "metadata": {
  "kernelspec": {
   "display_name": "Python 3 (ipykernel)",
   "language": "python",
   "name": "python3"
  },
  "language_info": {
   "codemirror_mode": {
    "name": "ipython",
    "version": 3
   },
   "file_extension": ".py",
   "mimetype": "text/x-python",
   "name": "python",
   "nbconvert_exporter": "python",
   "pygments_lexer": "ipython3",
   "version": "3.9.7"
  }
 },
 "nbformat": 4,
 "nbformat_minor": 5
}
