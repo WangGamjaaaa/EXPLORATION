{
 "cells": [
  {
   "cell_type": "markdown",
   "id": "77b10410",
   "metadata": {
    "id": "77b10410"
   },
   "source": [
    "# 목차\n",
    "<hr/>"
   ]
  },
  {
   "cell_type": "markdown",
   "id": "20460ebe",
   "metadata": {
    "id": "20460ebe"
   },
   "source": [
    "<ol>\n",
    "    <li style = \"margin-bottom:30px; list-style: none;\"><i style = \"font-weight:bold;font-style: normal;\">필요한 모듈 불러오기</i></li>\n",
    "    <li style = \"margin-bottom:30px; list-style: none;\"><i style = \"font-weight:bold;font-style: normal;\">함수</i></li>\n",
    "    <li style = \"margin-bottom:30px; list-style: none;\"><i style = \"font-weight:bold;font-style: normal;\"><span style = \"font-weight:bold;color:#0172d4;\">STEP 1</span> : 데이터 준비와 확인</i>\n",
    "        <ul style = \"margin-top:10px; list-style:none;\">\n",
    "            <li style = \"margin-bottom:3px;\"><span style = \"font-weight:bold;color:#0172d4;\">1. </span> 데이터 불러오기</li>\n",
    "            <li style = \"margin-bottom:5px;\"><span style = \"font-weight:bold;color:#0172d4;\">2. </span> 데이터로더 구성</li>\n",
    "        </ul>\n",
    "    </li>\n",
    "    <li style = \"margin-bottom:30px; list-style: none;\"><i style = \"font-weight:bold;font-style: normal;\"><span style = \"font-weight:bold;color:#0172d4;\">STEP 2</span> : 모델 구성을 위한 데이터 분석 및 가공</i>\n",
    "        <ul style = \"margin-top:10px; list-style:none;\">\n",
    "            <li style = \"margin-bottom:3px;\"><span style = \"font-weight:bold;color:#0172d4;\">1. </span> 데이터셋 내 문장 길이 분포</li>\n",
    "            <li style = \"margin-bottom:5px;\"><span style = \"font-weight:bold;color:#0172d4;\">2. </span> 적절한 최대 문장 길이 지정</li>\n",
    "            <li style = \"margin-bottom:5px;\"><span style = \"font-weight:bold;color:#0172d4;\">3. </span>keras.preprocessing.sequence.pad_sequences 을 활용한 패딩 추가</li>\n",
    "        </ul>\n",
    "    </li>\n",
    "    <li style = \"margin-bottom:30px; list-style: none;\"><i style = \"font-weight:bold;font-style: normal;\"><span style = \"font-weight:bold;color:#0172d4;\">STEP 3</span> : 모델 구성 및 validation set 구성하기</i></li>\n",
    "    <li style = \"margin-bottom:30px; list-style: none;\"><i style = \"font-weight:bold;font-style: normal;\"><span style = \"font-weight:bold;color:#0172d4;\">STEP 4</span> : RNN 모델 사용해보기</i>\n",
    "        <ul style = \"margin-top:10px; list-style:none;\">\n",
    "            <li style = \"margin-bottom:3px;\"><span style = \"font-weight:bold;color:#0172d4;\">1. </span> 모델 빌드 및 훈련</li>\n",
    "            <li style = \"margin-bottom:5px;\"><span style = \"font-weight:bold;color:#0172d4;\">2. </span> 결과</li>\n",
    "            <li style = \"margin-bottom:5px;\"><span style = \"font-weight:bold;color:#0172d4;\">3. </span>Loss, Accuracy 그래프 시각화</li>\n",
    "            <li style = \"margin-bottom:5px;\"><span style = \"font-weight:bold;color:#0172d4;\">4. </span>학습된 Embedding 레이어 분석</li>\n",
    "        </ul>\n",
    "    </li>\n",
    "    <li style = \"margin-bottom:30px; list-style: none;\"><i style = \"font-weight:bold;font-style: normal;\"><span style = \"font-weight:bold;color:#0172d4;\">STEP 5</span> : CNN 모델 사용해보기</i>\n",
    "        <ul style = \"margin-top:10px; list-style:none;\">\n",
    "            <li style = \"margin-bottom:3px;\"><span style = \"font-weight:bold;color:#0172d4;\">1. </span> 모델 빌드 및 훈련</li>\n",
    "            <li style = \"margin-bottom:5px;\"><span style = \"font-weight:bold;color:#0172d4;\">2. </span> 결과</li>\n",
    "            <li style = \"margin-bottom:5px;\"><span style = \"font-weight:bold;color:#0172d4;\">3. </span>Loss, Accuracy 그래프 시각화</li>\n",
    "            <li style = \"margin-bottom:5px;\"><span style = \"font-weight:bold;color:#0172d4;\">4. </span>학습된 Embedding 레이어 분석</li>\n",
    "        </ul>\n",
    "    </li>\n",
    "    <li style = \"margin-bottom:30px; list-style: none;\"><i style = \"font-weight:bold;font-style: normal;\"><span style = \"font-weight:bold;color:#0172d4;\">STEP 6</span> : GlobalMaxPooling1D() 레이어 하나만 사용해보기</i>\n",
    "        <ul style = \"margin-top:10px; list-style:none;\">\n",
    "            <li style = \"margin-bottom:3px;\"><span style = \"font-weight:bold;color:#0172d4;\">1. </span> 모델 빌드 및 훈련</li>\n",
    "            <li style = \"margin-bottom:5px;\"><span style = \"font-weight:bold;color:#0172d4;\">2. </span> 결과</li>\n",
    "            <li style = \"margin-bottom:5px;\"><span style = \"font-weight:bold;color:#0172d4;\">3. </span>Loss, Accuracy 그래프 시각화</li>\n",
    "            <li style = \"margin-bottom:5px;\"><span style = \"font-weight:bold;color:#0172d4;\">4. </span>학습된 Embedding 레이어 분석</li>\n",
    "        </ul>\n",
    "    </li>\n",
    "    <li style = \"margin-bottom:30px; list-style: none;\"><i style = \"font-weight:bold;font-style: normal;\"><span style = \"font-weight:bold;color:#0172d4;\">STEP 3</span> : 한국어 Word2Vec 임베딩 활용하여 성능 개선</i></li>\n",
    "    <li style = \"margin-bottom:30px; list-style: none;\"><i style = \"font-weight:bold;font-style: normal;\">회고</i>\n",
    "</ol>"
   ]
  },
  {
   "cell_type": "markdown",
   "id": "df47d60c",
   "metadata": {
    "id": "df47d60c"
   },
   "source": [
    "<div style = \"height: 50px;\"></div>"
   ]
  },
  {
   "cell_type": "code",
   "execution_count": 1,
   "id": "0HEv67sz2GJU",
   "metadata": {
    "colab": {
     "base_uri": "https://localhost:8080/"
    },
    "executionInfo": {
     "elapsed": 2274,
     "status": "ok",
     "timestamp": 1654604961482,
     "user": {
      "displayName": "생크림와플먹고싶다",
      "userId": "13048533309979940862"
     },
     "user_tz": -540
    },
    "id": "0HEv67sz2GJU",
    "outputId": "4f5dfcdc-3a32-422d-df97-e87f49cce8b5"
   },
   "outputs": [
    {
     "name": "stdout",
     "output_type": "stream",
     "text": [
      "Drive already mounted at /content/drive; to attempt to forcibly remount, call drive.mount(\"/content/drive\", force_remount=True).\n"
     ]
    }
   ],
   "source": [
    "from google.colab import drive\n",
    "drive.mount('/content/drive')\n",
    "txt_file_path = \"/content/drive/MyDrive/data/*\""
   ]
  },
  {
   "cell_type": "markdown",
   "id": "73623ce1",
   "metadata": {
    "id": "73623ce1"
   },
   "source": [
    "# 필요한 모듈 불러오기"
   ]
  },
  {
   "cell_type": "code",
   "execution_count": 2,
   "id": "y4VSgmUY25pf",
   "metadata": {
    "colab": {
     "base_uri": "https://localhost:8080/"
    },
    "executionInfo": {
     "elapsed": 11609,
     "status": "ok",
     "timestamp": 1654604973083,
     "user": {
      "displayName": "생크림와플먹고싶다",
      "userId": "13048533309979940862"
     },
     "user_tz": -540
    },
    "id": "y4VSgmUY25pf",
    "outputId": "32fe0a10-75fe-4e4a-9953-25ace1eac57a"
   },
   "outputs": [
    {
     "name": "stdout",
     "output_type": "stream",
     "text": [
      "Hit:1 https://cloud.r-project.org/bin/linux/ubuntu bionic-cran40/ InRelease\n",
      "Hit:2 https://developer.download.nvidia.com/compute/cuda/repos/ubuntu1804/x86_64  InRelease\n",
      "Get:3 http://security.ubuntu.com/ubuntu bionic-security InRelease [88.7 kB]\n",
      "Hit:4 http://archive.ubuntu.com/ubuntu bionic InRelease\n",
      "Ign:5 https://developer.download.nvidia.com/compute/machine-learning/repos/ubuntu1804/x86_64  InRelease\n",
      "Hit:6 http://ppa.launchpad.net/c2d4u.team/c2d4u4.0+/ubuntu bionic InRelease\n",
      "Hit:7 https://developer.download.nvidia.com/compute/machine-learning/repos/ubuntu1804/x86_64  Release\n",
      "Get:8 http://archive.ubuntu.com/ubuntu bionic-updates InRelease [88.7 kB]\n",
      "Hit:10 http://ppa.launchpad.net/cran/libgit2/ubuntu bionic InRelease\n",
      "Get:11 http://archive.ubuntu.com/ubuntu bionic-backports InRelease [74.6 kB]\n",
      "Hit:12 http://ppa.launchpad.net/deadsnakes/ppa/ubuntu bionic InRelease\n",
      "Hit:13 http://ppa.launchpad.net/graphics-drivers/ppa/ubuntu bionic InRelease\n",
      "Fetched 252 kB in 2s (130 kB/s)\n",
      "Reading package lists...\n",
      "Reading package lists...\n",
      "Building dependency tree...\n",
      "Reading state information...\n",
      "python-dev is already the newest version (2.7.15~rc1-1).\n",
      "g++ is already the newest version (4:7.4.0-1ubuntu2.3).\n",
      "python3-dev is already the newest version (3.6.7-1~18.04).\n",
      "openjdk-8-jdk is already the newest version (8u312-b07-0ubuntu1~18.04).\n",
      "The following package was automatically installed and is no longer required:\n",
      "  libnvidia-common-460\n",
      "Use 'apt autoremove' to remove it.\n",
      "0 upgraded, 0 newly installed, 0 to remove and 65 not upgraded.\n",
      "Looking in indexes: https://pypi.org/simple, https://us-python.pkg.dev/colab-wheels/public/simple/\n",
      "Requirement already satisfied: JPype1 in /usr/local/lib/python3.7/dist-packages (1.4.0)\n",
      "Requirement already satisfied: typing-extensions in /usr/local/lib/python3.7/dist-packages (from JPype1) (4.2.0)\n",
      "Looking in indexes: https://pypi.org/simple, https://us-python.pkg.dev/colab-wheels/public/simple/\n",
      "Requirement already satisfied: konlpy in /usr/local/lib/python3.7/dist-packages (0.6.0)\n",
      "Requirement already satisfied: numpy>=1.6 in /usr/local/lib/python3.7/dist-packages (from konlpy) (1.21.6)\n",
      "Requirement already satisfied: JPype1>=0.7.0 in /usr/local/lib/python3.7/dist-packages (from konlpy) (1.4.0)\n",
      "Requirement already satisfied: lxml>=4.1.0 in /usr/local/lib/python3.7/dist-packages (from konlpy) (4.2.6)\n",
      "Requirement already satisfied: typing-extensions in /usr/local/lib/python3.7/dist-packages (from JPype1>=0.7.0->konlpy) (4.2.0)\n"
     ]
    }
   ],
   "source": [
    "%%bash\n",
    "apt-get update\n",
    "apt-get install g++ openjdk-8-jdk python-dev python3-dev\n",
    "pip3 install JPype1\n",
    "pip3 install konlpy"
   ]
  },
  {
   "cell_type": "code",
   "execution_count": 3,
   "id": "AX7wt36r3UBt",
   "metadata": {
    "colab": {
     "base_uri": "https://localhost:8080/"
    },
    "executionInfo": {
     "elapsed": 17,
     "status": "ok",
     "timestamp": 1654604973084,
     "user": {
      "displayName": "생크림와플먹고싶다",
      "userId": "13048533309979940862"
     },
     "user_tz": -540
    },
    "id": "AX7wt36r3UBt",
    "outputId": "736ab0bf-fde3-4b0d-fe9c-920bd6681d49"
   },
   "outputs": [
    {
     "name": "stdout",
     "output_type": "stream",
     "text": [
      "env: JAVA_HOME=\"/usr/lib/jvm/java-8-openjdk-amd64\"\n"
     ]
    }
   ],
   "source": [
    "%env JAVA_HOME \"/usr/lib/jvm/java-8-openjdk-amd64\""
   ]
  },
  {
   "cell_type": "code",
   "execution_count": 4,
   "id": "Wywsx7Hf3Vet",
   "metadata": {
    "colab": {
     "base_uri": "https://localhost:8080/"
    },
    "executionInfo": {
     "elapsed": 6740,
     "status": "ok",
     "timestamp": 1654604979812,
     "user": {
      "displayName": "생크림와플먹고싶다",
      "userId": "13048533309979940862"
     },
     "user_tz": -540
    },
    "id": "Wywsx7Hf3Vet",
    "outputId": "d312dac6-5b25-4e1e-9ae9-56f833fa46f2"
   },
   "outputs": [
    {
     "name": "stdout",
     "output_type": "stream",
     "text": [
      "mecab-ko is already installed\n",
      "mecab-ko-dic is already installed\n",
      "mecab-python is already installed\n",
      "Done.\n",
      "Looking in indexes: https://pypi.org/simple, https://us-python.pkg.dev/colab-wheels/public/simple/\n",
      "Processing /tmp/mecab-python-0.996\n",
      "Building wheels for collected packages: mecab-python\n",
      "  Building wheel for mecab-python (setup.py): started\n",
      "  Building wheel for mecab-python (setup.py): finished with status 'done'\n",
      "  Created wheel for mecab-python: filename=mecab_python-0.996_ko_0.9.2-cp37-cp37m-linux_x86_64.whl size=141807 sha256=159d035064d3e4039d87464198979c93bd29def136ed681335ca4e8be6f03239\n",
      "  Stored in directory: /root/.cache/pip/wheels/40/7b/9f/2922869bef86c3354ae7034f7a3647c573ee1997c2dad0290a\n",
      "Failed to build mecab-python\n",
      "Installing collected packages: mecab-python\n",
      "  Attempting uninstall: mecab-python\n",
      "    Found existing installation: mecab-python 0.996-ko-0.9.2\n",
      "    Uninstalling mecab-python-0.996-ko-0.9.2:\n",
      "      Successfully uninstalled mecab-python-0.996-ko-0.9.2\n",
      "    Running setup.py install for mecab-python: started\n",
      "    Running setup.py install for mecab-python: finished with status 'done'\n",
      "Successfully installed mecab-python-0.996-ko-0.9.2\n"
     ]
    },
    {
     "name": "stderr",
     "output_type": "stream",
     "text": [
      "  DEPRECATION: A future pip version will change local packages to be built in-place without first copying to a temporary directory. We recommend you use --use-feature=in-tree-build to test your packages with this new behavior before it becomes the default.\n",
      "   pip 21.3 will remove support for this functionality. You can find discussion regarding this at https://github.com/pypa/pip/issues/7555.\n",
      "  WARNING: Built wheel for mecab-python is invalid: Metadata 1.2 mandates PEP 440 version, but '0.996-ko-0.9.2' is not\n",
      "  DEPRECATION: mecab-python was installed using the legacy 'setup.py install' method, because a wheel could not be built for it. A possible replacement is to fix the wheel build issue reported above. You can find discussion regarding this at https://github.com/pypa/pip/issues/8368.\n"
     ]
    }
   ],
   "source": [
    "%%bash\n",
    "bash <(curl -s https://raw.githubusercontent.com/konlpy/konlpy/master/scripts/mecab.sh)\n",
    "pip3 install /tmp/mecab-python-0.996"
   ]
  },
  {
   "cell_type": "code",
   "execution_count": 5,
   "id": "577f17b4",
   "metadata": {
    "ExecuteTime": {
     "end_time": "2022-05-25T13:11:25.133474Z",
     "start_time": "2022-05-25T13:11:18.493027Z"
    },
    "executionInfo": {
     "elapsed": 2479,
     "status": "ok",
     "timestamp": 1654604982267,
     "user": {
      "displayName": "생크림와플먹고싶다",
      "userId": "13048533309979940862"
     },
     "user_tz": -540
    },
    "id": "577f17b4"
   },
   "outputs": [],
   "source": [
    "import konlpy\n",
    "import os\n",
    "import numpy             as np\n",
    "import matplotlib.pyplot as plt\n",
    "import pandas            as pd\n",
    "import tensorflow        as tf\n",
    "\n",
    "from collections                   import Counter\n",
    "from gensim.models                 import KeyedVectors\n",
    "from gensim.models.keyedvectors    import Word2VecKeyedVectors\n",
    "from konlpy.tag                    import Mecab\n",
    "from tensorflow.keras.initializers import Constant"
   ]
  },
  {
   "cell_type": "code",
   "execution_count": 73,
   "id": "4YeKra2Ud1bJ",
   "metadata": {
    "colab": {
     "base_uri": "https://localhost:8080/"
    },
    "executionInfo": {
     "elapsed": 605,
     "status": "ok",
     "timestamp": 1654605108510,
     "user": {
      "displayName": "생크림와플먹고싶다",
      "userId": "13048533309979940862"
     },
     "user_tz": -540
    },
    "id": "4YeKra2Ud1bJ",
    "outputId": "19c3441f-8035-4720-ea4f-6ee83adf931a"
   },
   "outputs": [
    {
     "name": "stdout",
     "output_type": "stream",
     "text": [
      "3.6.0\n"
     ]
    }
   ],
   "source": [
    "import gensim\n",
    "print(gensim.__version__)"
   ]
  },
  {
   "cell_type": "markdown",
   "id": "3df08efe",
   "metadata": {
    "id": "3df08efe"
   },
   "source": [
    "<div style = \"height: 50px;\"><div/>"
   ]
  },
  {
   "cell_type": "markdown",
   "id": "a8a66e6e",
   "metadata": {},
   "source": [
    "# 함수"
   ]
  },
  {
   "cell_type": "code",
   "execution_count": 12,
   "id": "615a6cc1",
   "metadata": {
    "ExecuteTime": {
     "end_time": "2022-05-25T13:11:27.168177Z",
     "start_time": "2022-05-25T13:11:27.154175Z"
    },
    "executionInfo": {
     "elapsed": 20,
     "status": "ok",
     "timestamp": 1654604982812,
     "user": {
      "displayName": "생크림와플먹고싶다",
      "userId": "13048533309979940862"
     },
     "user_tz": -540
    },
    "id": "615a6cc1"
   },
   "outputs": [],
   "source": [
    "def load_data(train_data, test_data, num_words=10000):\n",
    "    train_data.drop_duplicates(subset=['document'], inplace=True)\n",
    "    train_data = train_data.dropna(how = 'any') \n",
    "    test_data.drop_duplicates(subset=['document'], inplace=True)\n",
    "    test_data = test_data.dropna(how = 'any') \n",
    "    \n",
    "    X_train = []\n",
    "    for sentence in train_data['document']:\n",
    "        temp_X = tokenizer.morphs(sentence) # 토큰화\n",
    "        temp_X = [word for word in temp_X if not word in stopwords] # 불용어 제거\n",
    "        X_train.append(temp_X)\n",
    "\n",
    "    X_test = []\n",
    "    for sentence in test_data['document']:\n",
    "        temp_X = tokenizer.morphs(sentence) # 토큰화\n",
    "        temp_X = [word for word in temp_X if not word in stopwords] # 불용어 제거\n",
    "        X_test.append(temp_X)\n",
    "    \n",
    "    words = np.concatenate(X_train).tolist()\n",
    "    counter = Counter(words)\n",
    "    counter = counter.most_common(10000-4)\n",
    "    vocab = ['', '', '', ''] + [key for key, _ in counter]\n",
    "    word_to_index = {word:index for index, word in enumerate(vocab)}\n",
    "        \n",
    "    def wordlist_to_indexlist(wordlist):\n",
    "        return [word_to_index[word] if word in word_to_index else word_to_index[''] for word in wordlist]\n",
    "        \n",
    "    X_train = list(map(wordlist_to_indexlist, X_train))\n",
    "    X_test = list(map(wordlist_to_indexlist, X_test))\n",
    "        \n",
    "    return X_train, np.array(list(train_data['label'])), X_test, np.array(list(test_data['label'])), word_to_index\n",
    "    "
   ]
  },
  {
   "cell_type": "markdown",
   "id": "5705e112",
   "metadata": {},
   "source": [
    "<div style = \"height: 50px;\"></div>"
   ]
  },
  {
   "cell_type": "markdown",
   "id": "7a0552da",
   "metadata": {
    "id": "7a0552da"
   },
   "source": [
    "# <span style = \"font-weight:bold;color:#0172d4;\">STEP 1</span> : 데이터 준비와 확인"
   ]
  },
  {
   "cell_type": "markdown",
   "id": "33815eee",
   "metadata": {
    "id": "33815eee"
   },
   "source": [
    "## 1. 데이터 불러오기\n",
    "<hr/>"
   ]
  },
  {
   "cell_type": "code",
   "execution_count": 6,
   "id": "aad100fb",
   "metadata": {
    "ExecuteTime": {
     "end_time": "2022-05-25T13:11:25.706334Z",
     "start_time": "2022-05-25T13:11:25.135474Z"
    },
    "executionInfo": {
     "elapsed": 553,
     "status": "ok",
     "timestamp": 1654604982803,
     "user": {
      "displayName": "생크림와플먹고싶다",
      "userId": "13048533309979940862"
     },
     "user_tz": -540
    },
    "id": "aad100fb"
   },
   "outputs": [],
   "source": [
    "train_data = pd.read_table('/content/drive/MyDrive/Colab Notebooks/ex09/ex_data/ratings_train.txt')\n",
    "test_data = pd.read_table('/content/drive/MyDrive/Colab Notebooks/ex09/ex_data/ratings_test.txt')"
   ]
  },
  {
   "cell_type": "code",
   "execution_count": 7,
   "id": "a0e7f9eb",
   "metadata": {
    "ExecuteTime": {
     "end_time": "2022-05-25T13:11:25.722357Z",
     "start_time": "2022-05-25T13:11:25.709343Z"
    },
    "colab": {
     "base_uri": "https://localhost:8080/"
    },
    "executionInfo": {
     "elapsed": 32,
     "status": "ok",
     "timestamp": 1654604982805,
     "user": {
      "displayName": "생크림와플먹고싶다",
      "userId": "13048533309979940862"
     },
     "user_tz": -540
    },
    "id": "a0e7f9eb",
    "outputId": "185acc59-2ebd-4ad8-be9f-4daff884ffb5"
   },
   "outputs": [
    {
     "data": {
      "text/plain": [
       "(150000, 3)"
      ]
     },
     "execution_count": 7,
     "metadata": {},
     "output_type": "execute_result"
    }
   ],
   "source": [
    "train_data.shape"
   ]
  },
  {
   "cell_type": "code",
   "execution_count": 8,
   "id": "5fd376c0",
   "metadata": {
    "ExecuteTime": {
     "end_time": "2022-05-25T13:11:25.738361Z",
     "start_time": "2022-05-25T13:11:25.724357Z"
    },
    "colab": {
     "base_uri": "https://localhost:8080/",
     "height": 206
    },
    "executionInfo": {
     "elapsed": 32,
     "status": "ok",
     "timestamp": 1654604982807,
     "user": {
      "displayName": "생크림와플먹고싶다",
      "userId": "13048533309979940862"
     },
     "user_tz": -540
    },
    "id": "5fd376c0",
    "outputId": "67c9ef97-0d06-464c-9b2f-3cf784d57eb5"
   },
   "outputs": [
    {
     "data": {
      "text/html": [
       "\n",
       "  <div id=\"df-c2705212-758c-4b50-9e38-db2654c1565b\">\n",
       "    <div class=\"colab-df-container\">\n",
       "      <div>\n",
       "<style scoped>\n",
       "    .dataframe tbody tr th:only-of-type {\n",
       "        vertical-align: middle;\n",
       "    }\n",
       "\n",
       "    .dataframe tbody tr th {\n",
       "        vertical-align: top;\n",
       "    }\n",
       "\n",
       "    .dataframe thead th {\n",
       "        text-align: right;\n",
       "    }\n",
       "</style>\n",
       "<table border=\"1\" class=\"dataframe\">\n",
       "  <thead>\n",
       "    <tr style=\"text-align: right;\">\n",
       "      <th></th>\n",
       "      <th>id</th>\n",
       "      <th>document</th>\n",
       "      <th>label</th>\n",
       "    </tr>\n",
       "  </thead>\n",
       "  <tbody>\n",
       "    <tr>\n",
       "      <th>0</th>\n",
       "      <td>9976970</td>\n",
       "      <td>아 더빙.. 진짜 짜증나네요 목소리</td>\n",
       "      <td>0</td>\n",
       "    </tr>\n",
       "    <tr>\n",
       "      <th>1</th>\n",
       "      <td>3819312</td>\n",
       "      <td>흠...포스터보고 초딩영화줄....오버연기조차 가볍지 않구나</td>\n",
       "      <td>1</td>\n",
       "    </tr>\n",
       "    <tr>\n",
       "      <th>2</th>\n",
       "      <td>10265843</td>\n",
       "      <td>너무재밓었다그래서보는것을추천한다</td>\n",
       "      <td>0</td>\n",
       "    </tr>\n",
       "    <tr>\n",
       "      <th>3</th>\n",
       "      <td>9045019</td>\n",
       "      <td>교도소 이야기구먼 ..솔직히 재미는 없다..평점 조정</td>\n",
       "      <td>0</td>\n",
       "    </tr>\n",
       "    <tr>\n",
       "      <th>4</th>\n",
       "      <td>6483659</td>\n",
       "      <td>사이몬페그의 익살스런 연기가 돋보였던 영화!스파이더맨에서 늙어보이기만 했던 커스틴 ...</td>\n",
       "      <td>1</td>\n",
       "    </tr>\n",
       "  </tbody>\n",
       "</table>\n",
       "</div>\n",
       "      <button class=\"colab-df-convert\" onclick=\"convertToInteractive('df-c2705212-758c-4b50-9e38-db2654c1565b')\"\n",
       "              title=\"Convert this dataframe to an interactive table.\"\n",
       "              style=\"display:none;\">\n",
       "        \n",
       "  <svg xmlns=\"http://www.w3.org/2000/svg\" height=\"24px\"viewBox=\"0 0 24 24\"\n",
       "       width=\"24px\">\n",
       "    <path d=\"M0 0h24v24H0V0z\" fill=\"none\"/>\n",
       "    <path d=\"M18.56 5.44l.94 2.06.94-2.06 2.06-.94-2.06-.94-.94-2.06-.94 2.06-2.06.94zm-11 1L8.5 8.5l.94-2.06 2.06-.94-2.06-.94L8.5 2.5l-.94 2.06-2.06.94zm10 10l.94 2.06.94-2.06 2.06-.94-2.06-.94-.94-2.06-.94 2.06-2.06.94z\"/><path d=\"M17.41 7.96l-1.37-1.37c-.4-.4-.92-.59-1.43-.59-.52 0-1.04.2-1.43.59L10.3 9.45l-7.72 7.72c-.78.78-.78 2.05 0 2.83L4 21.41c.39.39.9.59 1.41.59.51 0 1.02-.2 1.41-.59l7.78-7.78 2.81-2.81c.8-.78.8-2.07 0-2.86zM5.41 20L4 18.59l7.72-7.72 1.47 1.35L5.41 20z\"/>\n",
       "  </svg>\n",
       "      </button>\n",
       "      \n",
       "  <style>\n",
       "    .colab-df-container {\n",
       "      display:flex;\n",
       "      flex-wrap:wrap;\n",
       "      gap: 12px;\n",
       "    }\n",
       "\n",
       "    .colab-df-convert {\n",
       "      background-color: #E8F0FE;\n",
       "      border: none;\n",
       "      border-radius: 50%;\n",
       "      cursor: pointer;\n",
       "      display: none;\n",
       "      fill: #1967D2;\n",
       "      height: 32px;\n",
       "      padding: 0 0 0 0;\n",
       "      width: 32px;\n",
       "    }\n",
       "\n",
       "    .colab-df-convert:hover {\n",
       "      background-color: #E2EBFA;\n",
       "      box-shadow: 0px 1px 2px rgba(60, 64, 67, 0.3), 0px 1px 3px 1px rgba(60, 64, 67, 0.15);\n",
       "      fill: #174EA6;\n",
       "    }\n",
       "\n",
       "    [theme=dark] .colab-df-convert {\n",
       "      background-color: #3B4455;\n",
       "      fill: #D2E3FC;\n",
       "    }\n",
       "\n",
       "    [theme=dark] .colab-df-convert:hover {\n",
       "      background-color: #434B5C;\n",
       "      box-shadow: 0px 1px 3px 1px rgba(0, 0, 0, 0.15);\n",
       "      filter: drop-shadow(0px 1px 2px rgba(0, 0, 0, 0.3));\n",
       "      fill: #FFFFFF;\n",
       "    }\n",
       "  </style>\n",
       "\n",
       "      <script>\n",
       "        const buttonEl =\n",
       "          document.querySelector('#df-c2705212-758c-4b50-9e38-db2654c1565b button.colab-df-convert');\n",
       "        buttonEl.style.display =\n",
       "          google.colab.kernel.accessAllowed ? 'block' : 'none';\n",
       "\n",
       "        async function convertToInteractive(key) {\n",
       "          const element = document.querySelector('#df-c2705212-758c-4b50-9e38-db2654c1565b');\n",
       "          const dataTable =\n",
       "            await google.colab.kernel.invokeFunction('convertToInteractive',\n",
       "                                                     [key], {});\n",
       "          if (!dataTable) return;\n",
       "\n",
       "          const docLinkHtml = 'Like what you see? Visit the ' +\n",
       "            '<a target=\"_blank\" href=https://colab.research.google.com/notebooks/data_table.ipynb>data table notebook</a>'\n",
       "            + ' to learn more about interactive tables.';\n",
       "          element.innerHTML = '';\n",
       "          dataTable['output_type'] = 'display_data';\n",
       "          await google.colab.output.renderOutput(dataTable, element);\n",
       "          const docLink = document.createElement('div');\n",
       "          docLink.innerHTML = docLinkHtml;\n",
       "          element.appendChild(docLink);\n",
       "        }\n",
       "      </script>\n",
       "    </div>\n",
       "  </div>\n",
       "  "
      ],
      "text/plain": [
       "         id                                           document  label\n",
       "0   9976970                                아 더빙.. 진짜 짜증나네요 목소리      0\n",
       "1   3819312                  흠...포스터보고 초딩영화줄....오버연기조차 가볍지 않구나      1\n",
       "2  10265843                                  너무재밓었다그래서보는것을추천한다      0\n",
       "3   9045019                      교도소 이야기구먼 ..솔직히 재미는 없다..평점 조정      0\n",
       "4   6483659  사이몬페그의 익살스런 연기가 돋보였던 영화!스파이더맨에서 늙어보이기만 했던 커스틴 ...      1"
      ]
     },
     "execution_count": 8,
     "metadata": {},
     "output_type": "execute_result"
    }
   ],
   "source": [
    "train_data.head()"
   ]
  },
  {
   "cell_type": "markdown",
   "id": "f62ce805",
   "metadata": {},
   "source": [
    "<div style = \"height: 50px;\"></div>"
   ]
  },
  {
   "cell_type": "markdown",
   "id": "e588438f",
   "metadata": {
    "id": "e588438f"
   },
   "source": [
    "## 2. 데이터로더 구성\n",
    "<hr/>"
   ]
  },
  {
   "cell_type": "code",
   "execution_count": 10,
   "id": "jC7Tyw6a4stz",
   "metadata": {
    "colab": {
     "base_uri": "https://localhost:8080/"
    },
    "executionInfo": {
     "elapsed": 28,
     "status": "ok",
     "timestamp": 1654604982809,
     "user": {
      "displayName": "생크림와플먹고싶다",
      "userId": "13048533309979940862"
     },
     "user_tz": -540
    },
    "id": "jC7Tyw6a4stz",
    "outputId": "f63dea20-5efa-4645-ddfd-141d77255d0f"
   },
   "outputs": [
    {
     "data": {
      "text/plain": [
       "['안녕', '하', '세요', '저', '는', '천재', '입니다', '.']"
      ]
     },
     "execution_count": 10,
     "metadata": {},
     "output_type": "execute_result"
    }
   ],
   "source": [
    "mecab = Mecab()\n",
    "sentence = \"안녕하세요 저는 천재입니다.\"\n",
    "temp_X = mecab.morphs(sentence)\n",
    "temp_X"
   ]
  },
  {
   "cell_type": "code",
   "execution_count": 11,
   "id": "5d75187b",
   "metadata": {
    "ExecuteTime": {
     "end_time": "2022-05-25T13:11:27.152173Z",
     "start_time": "2022-05-25T13:11:26.280839Z"
    },
    "executionInfo": {
     "elapsed": 20,
     "status": "ok",
     "timestamp": 1654604982811,
     "user": {
      "displayName": "생크림와플먹고싶다",
      "userId": "13048533309979940862"
     },
     "user_tz": -540
    },
    "id": "5d75187b"
   },
   "outputs": [],
   "source": [
    "tokenizer = Mecab()\n",
    "stopwords = ['의','가','이','은','들','는','좀','잘','걍','과','도','를','으로','자','에','와','한','하다']"
   ]
  },
  {
   "cell_type": "code",
   "execution_count": 13,
   "id": "84d0d32d",
   "metadata": {
    "ExecuteTime": {
     "end_time": "2022-05-25T13:14:27.327540Z",
     "start_time": "2022-05-25T13:11:27.170189Z"
    },
    "executionInfo": {
     "elapsed": 22696,
     "status": "ok",
     "timestamp": 1654605005488,
     "user": {
      "displayName": "생크림와플먹고싶다",
      "userId": "13048533309979940862"
     },
     "user_tz": -540
    },
    "id": "84d0d32d"
   },
   "outputs": [],
   "source": [
    "X_train, y_train, X_test, y_test, word_to_index = load_data(train_data, test_data) "
   ]
  },
  {
   "cell_type": "code",
   "execution_count": 14,
   "id": "FYMYvDcsObS6",
   "metadata": {
    "colab": {
     "base_uri": "https://localhost:8080/"
    },
    "executionInfo": {
     "elapsed": 35,
     "status": "ok",
     "timestamp": 1654605005488,
     "user": {
      "displayName": "생크림와플먹고싶다",
      "userId": "13048533309979940862"
     },
     "user_tz": -540
    },
    "id": "FYMYvDcsObS6",
    "outputId": "7e1733ef-d444-4330-a0ea-1406fbb36363"
   },
   "outputs": [
    {
     "name": "stdout",
     "output_type": "stream",
     "text": [
      "146182\n",
      "146182\n",
      "49157\n",
      "49157\n"
     ]
    }
   ],
   "source": [
    "print(len(X_train))\n",
    "print(len(y_train))\n",
    "print(len(X_test))\n",
    "print(len(y_test))"
   ]
  },
  {
   "cell_type": "code",
   "execution_count": 15,
   "id": "30b1cf2f",
   "metadata": {
    "executionInfo": {
     "elapsed": 33,
     "status": "ok",
     "timestamp": 1654605005489,
     "user": {
      "displayName": "생크림와플먹고싶다",
      "userId": "13048533309979940862"
     },
     "user_tz": -540
    },
    "id": "30b1cf2f"
   },
   "outputs": [],
   "source": [
    "index_to_word = {index:word for word, index in word_to_index.items()}"
   ]
  },
  {
   "cell_type": "markdown",
   "id": "f4f9e16b",
   "metadata": {},
   "source": [
    "<div style = \"height: 50px;\"></div>"
   ]
  },
  {
   "cell_type": "markdown",
   "id": "5877cbd2",
   "metadata": {
    "id": "5877cbd2"
   },
   "source": [
    "# <span style = \"font-weight:bold;color:#0172d4;\">STEP 2</span> : 모델 구성을 위한 데이터 분석 및 가공"
   ]
  },
  {
   "cell_type": "markdown",
   "id": "7a6d44fd",
   "metadata": {
    "ExecuteTime": {
     "end_time": "2022-05-25T13:16:44.564587Z",
     "start_time": "2022-05-25T13:16:44.555585Z"
    },
    "id": "7a6d44fd"
   },
   "source": [
    "## 1. 데이터셋 내 문장 길이 분포\n",
    "<hr/>"
   ]
  },
  {
   "cell_type": "code",
   "execution_count": 17,
   "id": "2nqIOG6-2CP-",
   "metadata": {
    "executionInfo": {
     "elapsed": 34,
     "status": "ok",
     "timestamp": 1654605005490,
     "user": {
      "displayName": "생크림와플먹고싶다",
      "userId": "13048533309979940862"
     },
     "user_tz": -540
    },
    "id": "2nqIOG6-2CP-"
   },
   "outputs": [],
   "source": [
    "def x_len(x):\n",
    "    len_list = []\n",
    "    for i in x[:]:\n",
    "        len_list.append(len(i))\n",
    "    return len_list"
   ]
  },
  {
   "cell_type": "code",
   "execution_count": 18,
   "id": "0o5OMTJc1NJm",
   "metadata": {
    "executionInfo": {
     "elapsed": 34,
     "status": "ok",
     "timestamp": 1654605005491,
     "user": {
      "displayName": "생크림와플먹고싶다",
      "userId": "13048533309979940862"
     },
     "user_tz": -540
    },
    "id": "0o5OMTJc1NJm"
   },
   "outputs": [],
   "source": [
    "X_train_len = x_len(X_train)\n",
    "X_test_len = x_len(X_test)"
   ]
  },
  {
   "cell_type": "code",
   "execution_count": 19,
   "id": "jXvOlbNOzZ0q",
   "metadata": {
    "colab": {
     "base_uri": "https://localhost:8080/",
     "height": 369
    },
    "executionInfo": {
     "elapsed": 34,
     "status": "ok",
     "timestamp": 1654605005491,
     "user": {
      "displayName": "생크림와플먹고싶다",
      "userId": "13048533309979940862"
     },
     "user_tz": -540
    },
    "id": "jXvOlbNOzZ0q",
    "outputId": "eb3512d3-787a-4589-c97a-24508059b1d1"
   },
   "outputs": [
    {
     "data": {
      "image/png": "[encoded data removed]",
      "text/plain": [
       "<Figure size 720x360 with 2 Axes>"
      ]
     },
     "metadata": {
      "needs_background": "light"
     },
     "output_type": "display_data"
    }
   ],
   "source": [
    "plt.figure(figsize = (10, 5))\n",
    "\n",
    "plt.subplot(1, 2, 1)\n",
    "plt.hist(X_train_len)\n",
    "plt.tight_layout()\n",
    "\n",
    "plt.subplot(1, 2, 2)\n",
    "plt.hist(X_test_len)\n",
    "plt.tight_layout()\n",
    "plt.show()"
   ]
  },
  {
   "cell_type": "markdown",
   "id": "f9f80786",
   "metadata": {},
   "source": [
    "<div style = \"height: 50px;\"></div>"
   ]
  },
  {
   "cell_type": "markdown",
   "id": "c89356f2",
   "metadata": {
    "ExecuteTime": {
     "end_time": "2022-05-25T13:16:52.327156Z",
     "start_time": "2022-05-25T13:16:52.310150Z"
    },
    "id": "c89356f2"
   },
   "source": [
    "## 2. 적절한 최대 문장 길이 지정\n",
    "<hr/>"
   ]
  },
  {
   "cell_type": "code",
   "execution_count": 20,
   "id": "4hPhldEYPicT",
   "metadata": {
    "executionInfo": {
     "elapsed": 33,
     "status": "ok",
     "timestamp": 1654605005491,
     "user": {
      "displayName": "생크림와플먹고싶다",
      "userId": "13048533309979940862"
     },
     "user_tz": -540
    },
    "id": "4hPhldEYPicT"
   },
   "outputs": [],
   "source": [
    "def x_y_set(x, y, max_len):\n",
    "    x_list = []\n",
    "    y_list = []\n",
    "\n",
    "    for i in range(len(x)):\n",
    "        if len(x[i]) <= max_len:\n",
    "            x_list.append(x[i])\n",
    "            y_list.append(y[i])\n",
    "            \n",
    "    return x_list, y_list"
   ]
  },
  {
   "cell_type": "code",
   "execution_count": 21,
   "id": "1MetyM3M6mm7",
   "metadata": {
    "executionInfo": {
     "elapsed": 33,
     "status": "ok",
     "timestamp": 1654605005492,
     "user": {
      "displayName": "생크림와플먹고싶다",
      "userId": "13048533309979940862"
     },
     "user_tz": -540
    },
    "id": "1MetyM3M6mm7"
   },
   "outputs": [],
   "source": [
    "max_len =60\n",
    "X_train_max_len, y_train_max_len = x_y_set(X_train, y_train, 60)\n",
    "X_test_max_len, y_test_max_len = x_y_set(X_test, y_test, 60)"
   ]
  },
  {
   "cell_type": "code",
   "execution_count": 22,
   "id": "MzwRHJpqTrbK",
   "metadata": {
    "colab": {
     "base_uri": "https://localhost:8080/"
    },
    "executionInfo": {
     "elapsed": 33,
     "status": "ok",
     "timestamp": 1654605005492,
     "user": {
      "displayName": "생크림와플먹고싶다",
      "userId": "13048533309979940862"
     },
     "user_tz": -540
    },
    "id": "MzwRHJpqTrbK",
    "outputId": "03b9f3b1-5408-4da2-c066-249d340a424b"
   },
   "outputs": [
    {
     "name": "stdout",
     "output_type": "stream",
     "text": [
      "144478\n",
      "144478\n",
      "48561\n",
      "48561\n"
     ]
    }
   ],
   "source": [
    "print(len(X_train_max_len))\n",
    "print(len(y_train_max_len))\n",
    "print(len(X_test_max_len))\n",
    "print(len(y_test_max_len))"
   ]
  },
  {
   "cell_type": "code",
   "execution_count": 23,
   "id": "tfBb-RgK9ITy",
   "metadata": {
    "colab": {
     "base_uri": "https://localhost:8080/",
     "height": 369
    },
    "executionInfo": {
     "elapsed": 10,
     "status": "ok",
     "timestamp": 1654605006175,
     "user": {
      "displayName": "생크림와플먹고싶다",
      "userId": "13048533309979940862"
     },
     "user_tz": -540
    },
    "id": "tfBb-RgK9ITy",
    "outputId": "1269282f-f305-4f9d-ddbe-94e7d768bbc1"
   },
   "outputs": [
    {
     "data": {
      "image/png": "[encoded data removed]",
      "text/plain": [
       "<Figure size 720x360 with 2 Axes>"
      ]
     },
     "metadata": {
      "needs_background": "light"
     },
     "output_type": "display_data"
    }
   ],
   "source": [
    "plt.figure(figsize = (10, 5))\n",
    "\n",
    "plt.subplot(1, 2, 1)\n",
    "plt.hist(x_len(X_train_max_len))\n",
    "plt.tight_layout()\n",
    "\n",
    "plt.subplot(1, 2, 2)\n",
    "plt.hist(x_len(X_test_max_len))\n",
    "plt.tight_layout()\n",
    "plt.show()"
   ]
  },
  {
   "cell_type": "markdown",
   "id": "15d3bce4",
   "metadata": {},
   "source": [
    "<div style = \"height: 50px;\"></div>"
   ]
  },
  {
   "cell_type": "markdown",
   "id": "0c295842",
   "metadata": {
    "id": "0c295842"
   },
   "source": [
    "## 3. keras.preprocessing.sequence.pad_sequences 을 활용한 패딩 추가\n",
    "<hr/>"
   ]
  },
  {
   "cell_type": "code",
   "execution_count": 24,
   "id": "058626b7",
   "metadata": {
    "executionInfo": {
     "elapsed": 817,
     "status": "ok",
     "timestamp": 1654605006984,
     "user": {
      "displayName": "생크림와플먹고싶다",
      "userId": "13048533309979940862"
     },
     "user_tz": -540
    },
    "id": "058626b7"
   },
   "outputs": [],
   "source": [
    "X_train_pad = tf.keras.preprocessing.sequence.pad_sequences(X_train_max_len, padding = 'post', maxlen = 60)\n",
    "X_test_pad = tf.keras.preprocessing.sequence.pad_sequences(X_test_max_len, padding = 'post', maxlen = 60, )"
   ]
  },
  {
   "cell_type": "code",
   "execution_count": 25,
   "id": "WCfp05pgDRdB",
   "metadata": {
    "colab": {
     "base_uri": "https://localhost:8080/"
    },
    "executionInfo": {
     "elapsed": 9,
     "status": "ok",
     "timestamp": 1654605006985,
     "user": {
      "displayName": "생크림와플먹고싶다",
      "userId": "13048533309979940862"
     },
     "user_tz": -540
    },
    "id": "WCfp05pgDRdB",
    "outputId": "973319a2-d406-4bc5-971d-678a843cda1a"
   },
   "outputs": [
    {
     "data": {
      "text/plain": [
       "[32, 74, 919, 4, 4, 39, 228, 20, 33, 748]"
      ]
     },
     "execution_count": 25,
     "metadata": {},
     "output_type": "execute_result"
    }
   ],
   "source": [
    "X_train_max_len[0]"
   ]
  },
  {
   "cell_type": "code",
   "execution_count": 26,
   "id": "TOFhwjkiCsaV",
   "metadata": {
    "colab": {
     "base_uri": "https://localhost:8080/"
    },
    "executionInfo": {
     "elapsed": 8,
     "status": "ok",
     "timestamp": 1654605006986,
     "user": {
      "displayName": "생크림와플먹고싶다",
      "userId": "13048533309979940862"
     },
     "user_tz": -540
    },
    "id": "TOFhwjkiCsaV",
    "outputId": "2735c530-7e72-4850-fb6e-cd5a54aaaed1"
   },
   "outputs": [
    {
     "data": {
      "text/plain": [
       "array([ 32,  74, 919,   4,   4,  39, 228,  20,  33, 748,   0,   0,   0,\n",
       "         0,   0,   0,   0,   0,   0,   0,   0,   0,   0,   0,   0,   0,\n",
       "         0,   0,   0,   0,   0,   0,   0,   0,   0,   0,   0,   0,   0,\n",
       "         0,   0,   0,   0,   0,   0,   0,   0,   0,   0,   0,   0,   0,\n",
       "         0,   0,   0,   0,   0,   0,   0,   0], dtype=int32)"
      ]
     },
     "execution_count": 26,
     "metadata": {},
     "output_type": "execute_result"
    }
   ],
   "source": [
    "X_train_pad[0]"
   ]
  },
  {
   "cell_type": "code",
   "execution_count": 27,
   "id": "4mdrQSMxD_8U",
   "metadata": {
    "colab": {
     "base_uri": "https://localhost:8080/"
    },
    "executionInfo": {
     "elapsed": 490,
     "status": "ok",
     "timestamp": 1654605007471,
     "user": {
      "displayName": "생크림와플먹고싶다",
      "userId": "13048533309979940862"
     },
     "user_tz": -540
    },
    "id": "4mdrQSMxD_8U",
    "outputId": "5fc5d1e0-a43a-460b-b29d-e8e610eb3b7d"
   },
   "outputs": [
    {
     "name": "stdout",
     "output_type": "stream",
     "text": [
      "tf.Tensor(\n",
      "[[[ 0.01739215  0.0141306  -0.03558817 ... -0.03880792 -0.01055026\n",
      "    0.0476997 ]\n",
      "  [ 0.00111719 -0.02787294  0.01826494 ...  0.0174114   0.03934306\n",
      "    0.00463039]\n",
      "  [-0.03989946  0.011544   -0.04102788 ... -0.00730138 -0.00748948\n",
      "   -0.03931192]\n",
      "  ...\n",
      "  [-0.03989946  0.011544   -0.04102788 ... -0.00730138 -0.00748948\n",
      "   -0.03931192]\n",
      "  [-0.03989946  0.011544   -0.04102788 ... -0.00730138 -0.00748948\n",
      "   -0.03931192]\n",
      "  [-0.03989946  0.011544   -0.04102788 ... -0.00730138 -0.00748948\n",
      "   -0.03931192]]\n",
      "\n",
      " [[ 0.02204298 -0.00083508  0.04987867 ...  0.00040017 -0.04575721\n",
      "    0.0058374 ]\n",
      "  [-0.03989946  0.011544   -0.04102788 ... -0.00730138 -0.00748948\n",
      "   -0.03931192]\n",
      "  [-0.03989946  0.011544   -0.04102788 ... -0.00730138 -0.00748948\n",
      "   -0.03931192]\n",
      "  ...\n",
      "  [-0.03989946  0.011544   -0.04102788 ... -0.00730138 -0.00748948\n",
      "   -0.03931192]\n",
      "  [-0.03989946  0.011544   -0.04102788 ... -0.00730138 -0.00748948\n",
      "   -0.03931192]\n",
      "  [-0.03989946  0.011544   -0.04102788 ... -0.00730138 -0.00748948\n",
      "   -0.03931192]]\n",
      "\n",
      " [[ 0.0313797  -0.02177011 -0.01690852 ... -0.02680005  0.0338117\n",
      "   -0.02655802]\n",
      "  [-0.02790984  0.03715079  0.02321494 ... -0.03275461 -0.04087504\n",
      "    0.03563773]\n",
      "  [ 0.02089443 -0.03206378  0.01847364 ... -0.0129158  -0.00449305\n",
      "    0.02351017]\n",
      "  ...\n",
      "  [-0.03989946  0.011544   -0.04102788 ... -0.00730138 -0.00748948\n",
      "   -0.03931192]\n",
      "  [-0.03989946  0.011544   -0.04102788 ... -0.00730138 -0.00748948\n",
      "   -0.03931192]\n",
      "  [-0.03989946  0.011544   -0.04102788 ... -0.00730138 -0.00748948\n",
      "   -0.03931192]]\n",
      "\n",
      " ...\n",
      "\n",
      " [[ 0.04011792 -0.0350068  -0.00400303 ... -0.00593338 -0.03433528\n",
      "   -0.01480671]\n",
      "  [-0.04617434 -0.01276867  0.04503718 ...  0.02842326 -0.0221833\n",
      "    0.01946679]\n",
      "  [-0.02094767 -0.02782062 -0.03940449 ... -0.04468994 -0.01812048\n",
      "    0.00311476]\n",
      "  ...\n",
      "  [-0.03989946  0.011544   -0.04102788 ... -0.00730138 -0.00748948\n",
      "   -0.03931192]\n",
      "  [-0.03989946  0.011544   -0.04102788 ... -0.00730138 -0.00748948\n",
      "   -0.03931192]\n",
      "  [-0.03989946  0.011544   -0.04102788 ... -0.00730138 -0.00748948\n",
      "   -0.03931192]]\n",
      "\n",
      " [[ 0.03051708  0.00744361  0.0151688  ...  0.03290889 -0.03299023\n",
      "    0.03385499]\n",
      "  [-0.00911162  0.04493492  0.02307899 ... -0.00604362 -0.01886251\n",
      "   -0.03360598]\n",
      "  [-0.0048224   0.00858474  0.02235902 ... -0.01257711 -0.00540077\n",
      "   -0.04598173]\n",
      "  ...\n",
      "  [-0.03989946  0.011544   -0.04102788 ... -0.00730138 -0.00748948\n",
      "   -0.03931192]\n",
      "  [-0.03989946  0.011544   -0.04102788 ... -0.00730138 -0.00748948\n",
      "   -0.03931192]\n",
      "  [-0.03989946  0.011544   -0.04102788 ... -0.00730138 -0.00748948\n",
      "   -0.03931192]]\n",
      "\n",
      " [[ 0.0371939  -0.02851757 -0.02764343 ...  0.04490813  0.03354231\n",
      "    0.0170049 ]\n",
      "  [-0.01817362 -0.03880162  0.03119036 ... -0.03169768 -0.01022423\n",
      "   -0.03238112]\n",
      "  [ 0.00154264  0.04679811 -0.02415758 ...  0.02540951 -0.04100231\n",
      "    0.04696416]\n",
      "  ...\n",
      "  [-0.03989946  0.011544   -0.04102788 ... -0.00730138 -0.00748948\n",
      "   -0.03931192]\n",
      "  [-0.03989946  0.011544   -0.04102788 ... -0.00730138 -0.00748948\n",
      "   -0.03931192]\n",
      "  [-0.03989946  0.011544   -0.04102788 ... -0.00730138 -0.00748948\n",
      "   -0.03931192]]], shape=(48561, 60, 18), dtype=float32)\n"
     ]
    }
   ],
   "source": [
    "vocab_size = len(word_to_index)\n",
    "word_vector_dim = 18\n",
    "embedding = tf.keras.layers.Embedding(input_dim = vocab_size, output_dim = word_vector_dim, mask_zero = True)\n",
    "X_train_output = embedding(X_test_pad)\n",
    "print(X_train_output)"
   ]
  },
  {
   "cell_type": "markdown",
   "id": "c562ab57",
   "metadata": {},
   "source": [
    "<div style = \"height: 50px;\"></div>"
   ]
  },
  {
   "cell_type": "markdown",
   "id": "R-x59KbsIbla",
   "metadata": {
    "id": "R-x59KbsIbla"
   },
   "source": [
    "# <span style = \"font-weight:bold;color:#0172d4;\">STEP 3</span> : validation set 구성하기\n",
    "<hr/>"
   ]
  },
  {
   "cell_type": "code",
   "execution_count": 28,
   "id": "GgWSjXM4UnQi",
   "metadata": {
    "colab": {
     "base_uri": "https://localhost:8080/"
    },
    "executionInfo": {
     "elapsed": 23,
     "status": "ok",
     "timestamp": 1654605007472,
     "user": {
      "displayName": "생크림와플먹고싶다",
      "userId": "13048533309979940862"
     },
     "user_tz": -540
    },
    "id": "GgWSjXM4UnQi",
    "outputId": "08fb506e-05df-456b-80ae-4db943aa4243"
   },
   "outputs": [
    {
     "data": {
      "text/plain": [
       "28895.600000000002"
      ]
     },
     "execution_count": 28,
     "metadata": {},
     "output_type": "execute_result"
    }
   ],
   "source": [
    "len(X_train_max_len) * 0.2"
   ]
  },
  {
   "cell_type": "code",
   "execution_count": 29,
   "id": "cQsKfV-WUcWM",
   "metadata": {
    "colab": {
     "base_uri": "https://localhost:8080/"
    },
    "executionInfo": {
     "elapsed": 19,
     "status": "ok",
     "timestamp": 1654605007473,
     "user": {
      "displayName": "생크림와플먹고싶다",
      "userId": "13048533309979940862"
     },
     "user_tz": -540
    },
    "id": "cQsKfV-WUcWM",
    "outputId": "3a8d9c64-7558-4643-b738-bb100b729e31"
   },
   "outputs": [
    {
     "name": "stdout",
     "output_type": "stream",
     "text": [
      "144478\n",
      "144478\n",
      "48561\n",
      "48561\n"
     ]
    }
   ],
   "source": [
    "print(len(X_train_max_len))\n",
    "print(len(y_train_max_len))\n",
    "print(len(X_test_max_len))\n",
    "print(len(y_test_max_len))"
   ]
  },
  {
   "cell_type": "code",
   "execution_count": 30,
   "id": "vzInVT6WMQXT",
   "metadata": {
    "colab": {
     "base_uri": "https://localhost:8080/"
    },
    "executionInfo": {
     "elapsed": 15,
     "status": "ok",
     "timestamp": 1654605007473,
     "user": {
      "displayName": "생크림와플먹고싶다",
      "userId": "13048533309979940862"
     },
     "user_tz": -540
    },
    "id": "vzInVT6WMQXT",
    "outputId": "21d44795-ed1f-498d-fa2e-8c9591892eab"
   },
   "outputs": [
    {
     "name": "stdout",
     "output_type": "stream",
     "text": [
      "28896\n",
      "28896\n",
      "115582\n",
      "115582\n"
     ]
    }
   ],
   "source": [
    "x_validation = X_train_pad[: 28896]\n",
    "y_validation = np.array(y_train_max_len[: 28896])\n",
    "\n",
    "partial_x_train = X_train_pad[28896 : ]\n",
    "partial_y_train = np.array(y_train_max_len[28896 : ])\n",
    "\n",
    "print(len(x_validation))\n",
    "print(len(y_validation))\n",
    "print(len(partial_x_train))\n",
    "print(len(partial_y_train))"
   ]
  },
  {
   "cell_type": "code",
   "execution_count": 31,
   "id": "DOLDfAuFVeP8",
   "metadata": {
    "colab": {
     "base_uri": "https://localhost:8080/"
    },
    "executionInfo": {
     "elapsed": 12,
     "status": "ok",
     "timestamp": 1654605007474,
     "user": {
      "displayName": "생크림와플먹고싶다",
      "userId": "13048533309979940862"
     },
     "user_tz": -540
    },
    "id": "DOLDfAuFVeP8",
    "outputId": "fbd2810f-af0b-42ce-b1e9-0e7513b23863"
   },
   "outputs": [
    {
     "name": "stdout",
     "output_type": "stream",
     "text": [
      "<class 'numpy.ndarray'>\n",
      "<class 'numpy.ndarray'>\n",
      "<class 'numpy.ndarray'>\n",
      "<class 'numpy.ndarray'>\n"
     ]
    }
   ],
   "source": [
    "print(type(x_validation))\n",
    "print(type(y_validation))\n",
    "print(type(partial_x_train))\n",
    "print(type(partial_y_train))"
   ]
  },
  {
   "cell_type": "markdown",
   "id": "fd5b8d6d",
   "metadata": {},
   "source": [
    "<div style = \"height: 50px;\"></div>"
   ]
  },
  {
   "cell_type": "markdown",
   "id": "d3d1a64e",
   "metadata": {},
   "source": [
    "# <span style = \"font-weight:bold;color:#0172d4;\">STEP 4</span> : RNN 모델 사용해보기"
   ]
  },
  {
   "cell_type": "markdown",
   "id": "hiwa1JjiA59X",
   "metadata": {
    "id": "hiwa1JjiA59X"
   },
   "source": [
    "## 1. 모델 빌드 및 훈련\n",
    "<hr/>"
   ]
  },
  {
   "cell_type": "code",
   "execution_count": 32,
   "id": "ulu5uvfUIi_g",
   "metadata": {
    "colab": {
     "base_uri": "https://localhost:8080/"
    },
    "executionInfo": {
     "elapsed": 1215,
     "status": "ok",
     "timestamp": 1654605008682,
     "user": {
      "displayName": "생크림와플먹고싶다",
      "userId": "13048533309979940862"
     },
     "user_tz": -540
    },
    "id": "ulu5uvfUIi_g",
    "outputId": "545dbd31-e401-44c9-cdb9-464cc01579c9"
   },
   "outputs": [
    {
     "name": "stdout",
     "output_type": "stream",
     "text": [
      "Model: \"sequential\"\n",
      "_________________________________________________________________\n",
      " Layer (type)                Output Shape              Param #   \n",
      "=================================================================\n",
      " embedding_1 (Embedding)     (None, None, 44)          439868    \n",
      "                                                                 \n",
      " lstm (LSTM)                 (None, 8)                 1696      \n",
      "                                                                 \n",
      " dense (Dense)               (None, 1)                 9         \n",
      "                                                                 \n",
      " dense_1 (Dense)             (None, 1)                 2         \n",
      "                                                                 \n",
      "=================================================================\n",
      "Total params: 441,575\n",
      "Trainable params: 441,575\n",
      "Non-trainable params: 0\n",
      "_________________________________________________________________\n"
     ]
    }
   ],
   "source": [
    "vocab_size = len(word_to_index)\n",
    "word_vector_dim = 44\n",
    "\n",
    "RNN_model = tf.keras.Sequential()\n",
    "RNN_model.add(tf.keras.layers.Embedding(vocab_size, word_vector_dim, input_shape = (None, )))\n",
    "RNN_model.add(tf.keras.layers.LSTM(8)) # LSTM state 벡터의 차원수 8로 지정\n",
    "RNN_model.add(tf.keras.layers.Dense(1, activation = 'relu'))\n",
    "RNN_model.add(tf.keras.layers.Dense(1, activation = 'sigmoid')) # 최종 출력 = 긍정/부정을 나타내는 1dim \n",
    "RNN_model.summary()"
   ]
  },
  {
   "cell_type": "code",
   "execution_count": 33,
   "id": "HZWbAmevU3h5",
   "metadata": {
    "colab": {
     "base_uri": "https://localhost:8080/"
    },
    "executionInfo": {
     "elapsed": 15909,
     "status": "ok",
     "timestamp": 1654605024586,
     "user": {
      "displayName": "생크림와플먹고싶다",
      "userId": "13048533309979940862"
     },
     "user_tz": -540
    },
    "id": "HZWbAmevU3h5",
    "outputId": "31a14d5e-82ed-4295-97f1-6bb33aa4e820"
   },
   "outputs": [
    {
     "name": "stdout",
     "output_type": "stream",
     "text": [
      "Epoch 1/15\n",
      "89/89 [==============================] - 4s 15ms/step - loss: 0.6931 - accuracy: 0.4984 - val_loss: 0.6931 - val_accuracy: 0.5021\n",
      "Epoch 2/15\n",
      "89/89 [==============================] - 1s 10ms/step - loss: 0.6746 - accuracy: 0.5733 - val_loss: 0.5879 - val_accuracy: 0.8098\n",
      "Epoch 3/15\n",
      "89/89 [==============================] - 1s 10ms/step - loss: 0.5365 - accuracy: 0.8235 - val_loss: 0.5037 - val_accuracy: 0.8321\n",
      "Epoch 4/15\n",
      "89/89 [==============================] - 1s 10ms/step - loss: 0.4805 - accuracy: 0.8476 - val_loss: 0.4834 - val_accuracy: 0.8393\n",
      "Epoch 5/15\n",
      "89/89 [==============================] - 1s 10ms/step - loss: 0.4496 - accuracy: 0.8569 - val_loss: 0.4678 - val_accuracy: 0.8312\n",
      "Epoch 6/15\n",
      "89/89 [==============================] - 1s 10ms/step - loss: 0.4272 - accuracy: 0.8642 - val_loss: 0.4573 - val_accuracy: 0.8393\n",
      "Epoch 7/15\n",
      "89/89 [==============================] - 1s 10ms/step - loss: 0.4073 - accuracy: 0.8702 - val_loss: 0.4474 - val_accuracy: 0.8397\n",
      "Epoch 8/15\n",
      "89/89 [==============================] - 1s 11ms/step - loss: 0.3926 - accuracy: 0.8746 - val_loss: 0.4366 - val_accuracy: 0.8402\n",
      "Epoch 9/15\n",
      "89/89 [==============================] - 1s 10ms/step - loss: 0.3786 - accuracy: 0.8790 - val_loss: 0.4342 - val_accuracy: 0.8381\n",
      "Epoch 10/15\n",
      "89/89 [==============================] - 1s 10ms/step - loss: 0.3685 - accuracy: 0.8813 - val_loss: 0.4335 - val_accuracy: 0.8415\n",
      "Epoch 11/15\n",
      "89/89 [==============================] - 1s 10ms/step - loss: 0.3569 - accuracy: 0.8856 - val_loss: 0.4321 - val_accuracy: 0.8408\n",
      "Epoch 12/15\n",
      "89/89 [==============================] - 1s 10ms/step - loss: 0.3463 - accuracy: 0.8890 - val_loss: 0.4263 - val_accuracy: 0.8402\n",
      "Epoch 13/15\n",
      "89/89 [==============================] - 1s 10ms/step - loss: 0.3369 - accuracy: 0.8919 - val_loss: 0.4326 - val_accuracy: 0.8417\n",
      "Epoch 14/15\n",
      "89/89 [==============================] - 1s 10ms/step - loss: 0.3299 - accuracy: 0.8943 - val_loss: 0.4196 - val_accuracy: 0.8389\n",
      "Epoch 15/15\n",
      "89/89 [==============================] - 1s 10ms/step - loss: 0.3207 - accuracy: 0.8975 - val_loss: 0.4284 - val_accuracy: 0.8372\n"
     ]
    }
   ],
   "source": [
    "RNN_model.compile(optimizer = 'adam', \n",
    "              loss = 'binary_crossentropy',\n",
    "              metrics = ['accuracy'])\n",
    "epochs = 15\n",
    "\n",
    "RNN_history = RNN_model.fit(partial_x_train, partial_y_train,\n",
    "                    epochs = epochs,\n",
    "                    batch_size = 1300,\n",
    "                    validation_data = (x_validation, y_validation),\n",
    "                    verbose = 1)"
   ]
  },
  {
   "cell_type": "markdown",
   "id": "382b8785",
   "metadata": {},
   "source": [
    "<div style = \"height: 50px;\"></div>"
   ]
  },
  {
   "cell_type": "markdown",
   "id": "46a52f0f",
   "metadata": {},
   "source": [
    "## 2. 결과\n",
    "<hr/>"
   ]
  },
  {
   "cell_type": "code",
   "execution_count": 34,
   "id": "WtvFguBdX-kj",
   "metadata": {
    "colab": {
     "base_uri": "https://localhost:8080/"
    },
    "executionInfo": {
     "elapsed": 4191,
     "status": "ok",
     "timestamp": 1654605028765,
     "user": {
      "displayName": "생크림와플먹고싶다",
      "userId": "13048533309979940862"
     },
     "user_tz": -540
    },
    "id": "WtvFguBdX-kj",
    "outputId": "2c14048e-ae92-478e-8635-45e1a7f5b8bf"
   },
   "outputs": [
    {
     "name": "stdout",
     "output_type": "stream",
     "text": [
      "1518/1518 - 4s - loss: 0.4364 - accuracy: 0.8330 - 4s/epoch - 2ms/step\n",
      "[0.4364004135131836, 0.8330347537994385]\n"
     ]
    }
   ],
   "source": [
    "RNN_results = RNN_model.evaluate(X_test_pad,  np.array(y_test_max_len), verbose=2)\n",
    "\n",
    "print(RNN_results)"
   ]
  },
  {
   "cell_type": "markdown",
   "id": "fa94283b",
   "metadata": {},
   "source": [
    "<div style = \"height: 50px;\"></div>"
   ]
  },
  {
   "cell_type": "markdown",
   "id": "dModYPS0bfOF",
   "metadata": {
    "id": "dModYPS0bfOF"
   },
   "source": [
    "## 3. Loss, Accuracy 그래프 시각화\n",
    "<hr/>"
   ]
  },
  {
   "cell_type": "code",
   "execution_count": 35,
   "id": "9LgN7oPOX-d3",
   "metadata": {
    "colab": {
     "base_uri": "https://localhost:8080/",
     "height": 312
    },
    "executionInfo": {
     "elapsed": 24,
     "status": "ok",
     "timestamp": 1654605028766,
     "user": {
      "displayName": "생크림와플먹고싶다",
      "userId": "13048533309979940862"
     },
     "user_tz": -540
    },
    "id": "9LgN7oPOX-d3",
    "outputId": "136d0bd5-d27d-4cf0-b3ee-ab6e851e897a"
   },
   "outputs": [
    {
     "name": "stdout",
     "output_type": "stream",
     "text": [
      "dict_keys(['loss', 'accuracy', 'val_loss', 'val_accuracy'])\n"
     ]
    },
    {
     "data": {
      "image/png": "[encoded data removed]",
      "text/plain": [
       "<Figure size 432x288 with 1 Axes>"
      ]
     },
     "metadata": {
      "needs_background": "light"
     },
     "output_type": "display_data"
    }
   ],
   "source": [
    "history_dict = RNN_history.history\n",
    "print(history_dict.keys())\n",
    "\n",
    "acc = history_dict['accuracy']\n",
    "val_acc = history_dict['val_accuracy']\n",
    "loss = history_dict['loss']\n",
    "val_loss = history_dict['val_loss']\n",
    "\n",
    "epochs = range(1, len(acc) + 1)\n",
    "\n",
    "# \"bo\"는 \"파란색 점\"입니다\n",
    "plt.plot(epochs, loss, 'bo', label='Training loss')\n",
    "\n",
    "\n",
    "# b는 \"파란 실선\"입니다\n",
    "plt.plot(epochs, val_loss, 'b', label='Validation loss')\n",
    "plt.title('Training and validation loss')\n",
    "plt.xlabel('Epochs')\n",
    "plt.ylabel('Loss')\n",
    "plt.legend()\n",
    "\n",
    "plt.show()"
   ]
  },
  {
   "cell_type": "code",
   "execution_count": 36,
   "id": "BhML3OhUX-a7",
   "metadata": {
    "colab": {
     "base_uri": "https://localhost:8080/",
     "height": 295
    },
    "executionInfo": {
     "elapsed": 20,
     "status": "ok",
     "timestamp": 1654605028767,
     "user": {
      "displayName": "생크림와플먹고싶다",
      "userId": "13048533309979940862"
     },
     "user_tz": -540
    },
    "id": "BhML3OhUX-a7",
    "outputId": "3ade225a-c861-4c07-d20b-a82508e96f2e"
   },
   "outputs": [
    {
     "data": {
      "image/png": "[encoded data removed]",
      "text/plain": [
       "<Figure size 432x288 with 1 Axes>"
      ]
     },
     "metadata": {
      "needs_background": "light"
     },
     "output_type": "display_data"
    }
   ],
   "source": [
    "plt.clf()   # 그림을 초기화\n",
    "\n",
    "plt.plot(epochs, acc, 'bo', label='Training acc')\n",
    "plt.plot(epochs, val_acc, 'b', label='Validation acc')\n",
    "plt.title('Training and validation accuracy')\n",
    "plt.xlabel('Epochs')\n",
    "plt.ylabel('Accuracy')\n",
    "plt.legend()\n",
    "\n",
    "plt.show()"
   ]
  },
  {
   "cell_type": "markdown",
   "id": "dbf1474a",
   "metadata": {},
   "source": [
    "<div style = \"height: 50px;\"></div>"
   ]
  },
  {
   "cell_type": "markdown",
   "id": "9461b2e8",
   "metadata": {},
   "source": [
    "## 4. 학습된 Embedding 레이어 분석\n",
    "<hr/>"
   ]
  },
  {
   "cell_type": "code",
   "execution_count": 37,
   "id": "EU3_16x-X-Uw",
   "metadata": {
    "colab": {
     "base_uri": "https://localhost:8080/"
    },
    "executionInfo": {
     "elapsed": 19,
     "status": "ok",
     "timestamp": 1654605028767,
     "user": {
      "displayName": "생크림와플먹고싶다",
      "userId": "13048533309979940862"
     },
     "user_tz": -540
    },
    "id": "EU3_16x-X-Uw",
    "outputId": "728b645d-778b-48be-d208-4080cb82960c"
   },
   "outputs": [
    {
     "name": "stdout",
     "output_type": "stream",
     "text": [
      "(9997, 44)\n"
     ]
    }
   ],
   "source": [
    "RNN_embedding_layer = RNN_model.layers[0]\n",
    "RNN_weights = RNN_embedding_layer.get_weights()[0]\n",
    "print(RNN_weights.shape)"
   ]
  },
  {
   "cell_type": "code",
   "execution_count": 39,
   "id": "hr--wZh7X-QA",
   "metadata": {
    "executionInfo": {
     "elapsed": 1300,
     "status": "ok",
     "timestamp": 1654605059036,
     "user": {
      "displayName": "생크림와플먹고싶다",
      "userId": "13048533309979940862"
     },
     "user_tz": -540
    },
    "id": "hr--wZh7X-QA"
   },
   "outputs": [],
   "source": [
    "# 학습한 Embedding 파라미터를 파일로 저장\n",
    "RNN_word2vec_file_path = '/content/drive/MyDrive/Colab Notebooks/ex09/ex_data/RNN_word2vec.txt'\n",
    "f = open(RNN_word2vec_file_path, 'w')\n",
    "f.write('{} {}\\n'.format(vocab_size-4, word_vector_dim))\n",
    "\n",
    "# 단어 개수(에서 특수문자 4개는 제외하고)만큼의 워드 벡터를 파일에 기록합니다. \n",
    "RNN_vectors = RNN_model.get_weights()[0]\n",
    "for i in range(4, vocab_size):\n",
    "    f.write('{} {}\\n'.format(index_to_word[i], ' '.join(map(str, list(RNN_vectors[i, :])))))\n",
    "f.close()"
   ]
  },
  {
   "cell_type": "code",
   "execution_count": 40,
   "id": "2Mjyss_bX92X",
   "metadata": {
    "colab": {
     "base_uri": "https://localhost:8080/"
    },
    "executionInfo": {
     "elapsed": 4,
     "status": "ok",
     "timestamp": 1654605059036,
     "user": {
      "displayName": "생크림와플먹고싶다",
      "userId": "13048533309979940862"
     },
     "user_tz": -540
    },
    "id": "2Mjyss_bX92X",
    "outputId": "70d23ee0-ebc6-4e06-f1f9-1fac07e25797"
   },
   "outputs": [
    {
     "data": {
      "text/plain": [
       "array([-0.05906652, -0.0444975 ,  0.04105128,  0.02147722, -0.00501111,\n",
       "       -0.00467284, -0.00015361,  0.02981164, -0.01712641,  0.04850099,\n",
       "       -0.07382317, -0.02702132, -0.04680471, -0.03726866,  0.02895099,\n",
       "        0.03142045,  0.01059424,  0.06977507, -0.02078792, -0.08828101,\n",
       "        0.01205345,  0.0147964 , -0.00896131,  0.00985705,  0.01965772,\n",
       "        0.02529895, -0.01801086, -0.06412504, -0.04409361,  0.06147726,\n",
       "       -0.05104702, -0.08815452, -0.04852761, -0.04220143, -0.04017475,\n",
       "       -0.00557928,  0.02728544, -0.01996727, -0.07257251, -0.03391552,\n",
       "        0.08525986,  0.05771123,  0.0466009 ,  0.03980947], dtype=float32)"
      ]
     },
     "execution_count": 40,
     "metadata": {},
     "output_type": "execute_result"
    }
   ],
   "source": [
    "RNN_word_vectors = Word2VecKeyedVectors.load_word2vec_format(RNN_word2vec_file_path, binary = False)\n",
    "RNN_vector = RNN_word_vectors['영화']\n",
    "RNN_vector"
   ]
  },
  {
   "cell_type": "code",
   "execution_count": 41,
   "id": "ziheJSISX9pN",
   "metadata": {
    "colab": {
     "base_uri": "https://localhost:8080/"
    },
    "executionInfo": {
     "elapsed": 8,
     "status": "ok",
     "timestamp": 1654605059668,
     "user": {
      "displayName": "생크림와플먹고싶다",
      "userId": "13048533309979940862"
     },
     "user_tz": -540
    },
    "id": "ziheJSISX9pN",
    "outputId": "53fc2fd4-f280-4a16-8b38-9f06fe3c8d42"
   },
   "outputs": [
    {
     "data": {
      "text/plain": [
       "[('건데', 0.7085562348365784),\n",
       " ('창조', 0.6958976984024048),\n",
       " ('논하', 0.667813241481781),\n",
       " ('넘겼', 0.6626989245414734),\n",
       " ('심플', 0.6555767059326172),\n",
       " ('나온다', 0.654461145401001),\n",
       " ('보다', 0.654447078704834),\n",
       " ('몰라도', 0.654334306716919),\n",
       " ('상', 0.6523994207382202),\n",
       " ('!!!!!!!!!!!!!', 0.6493546366691589)]"
      ]
     },
     "execution_count": 41,
     "metadata": {},
     "output_type": "execute_result"
    }
   ],
   "source": [
    "RNN_word_vectors.similar_by_word('진짜')"
   ]
  },
  {
   "cell_type": "code",
   "execution_count": 42,
   "id": "fQBzHKYXfqgn",
   "metadata": {
    "colab": {
     "base_uri": "https://localhost:8080/"
    },
    "executionInfo": {
     "elapsed": 7,
     "status": "ok",
     "timestamp": 1654605059668,
     "user": {
      "displayName": "생크림와플먹고싶다",
      "userId": "13048533309979940862"
     },
     "user_tz": -540
    },
    "id": "fQBzHKYXfqgn",
    "outputId": "256ea39d-6fd8-4513-d46d-bbda71f686b5"
   },
   "outputs": [
    {
     "data": {
      "text/plain": [
       "[('완전', 0.7917925119400024),\n",
       " ('제일', 0.7721673250198364),\n",
       " ('긴장감', 0.7307114005088806),\n",
       " ('재미', 0.7280653715133667),\n",
       " ('관람', 0.7161640524864197),\n",
       " ('그대로', 0.7126644253730774),\n",
       " ('보호', 0.7111402750015259),\n",
       " ('자세히', 0.7044540643692017),\n",
       " ('변화', 0.6976720094680786),\n",
       " ('자리', 0.689934253692627)]"
      ]
     },
     "execution_count": 42,
     "metadata": {},
     "output_type": "execute_result"
    }
   ],
   "source": [
    "RNN_word_vectors.similar_by_word('정말')"
   ]
  },
  {
   "cell_type": "code",
   "execution_count": 43,
   "id": "RDxhn4K6gMD1",
   "metadata": {
    "colab": {
     "base_uri": "https://localhost:8080/"
    },
    "executionInfo": {
     "elapsed": 15,
     "status": "ok",
     "timestamp": 1654605060573,
     "user": {
      "displayName": "생크림와플먹고싶다",
      "userId": "13048533309979940862"
     },
     "user_tz": -540
    },
    "id": "RDxhn4K6gMD1",
    "outputId": "df8b441b-03ff-42af-a1e5-dd848bad8fdc"
   },
   "outputs": [
    {
     "data": {
      "text/plain": [
       "[('명품', 0.9559497833251953),\n",
       " ('에게서', 0.9401549100875854),\n",
       " ('브금', 0.9399318099021912),\n",
       " ('굿', 0.9370490908622742),\n",
       " ('디테일', 0.9358862638473511),\n",
       " ('푸하하', 0.9356364011764526),\n",
       " ('쓸쓸', 0.9348366260528564),\n",
       " ('강추', 0.9346030950546265),\n",
       " ('살아가', 0.9336600303649902),\n",
       " ('울음', 0.9330934286117554)]"
      ]
     },
     "execution_count": 43,
     "metadata": {},
     "output_type": "execute_result"
    }
   ],
   "source": [
    "RNN_word_vectors.similar_by_word('최고')"
   ]
  },
  {
   "cell_type": "code",
   "execution_count": 44,
   "id": "rLvAx4VMgB5X",
   "metadata": {
    "colab": {
     "base_uri": "https://localhost:8080/"
    },
    "executionInfo": {
     "elapsed": 13,
     "status": "ok",
     "timestamp": 1654605060573,
     "user": {
      "displayName": "생크림와플먹고싶다",
      "userId": "13048533309979940862"
     },
     "user_tz": -540
    },
    "id": "rLvAx4VMgB5X",
    "outputId": "e3406420-4d0d-4dc9-fae7-2abe87b783cd"
   },
   "outputs": [
    {
     "data": {
      "text/plain": [
       "[('실망', 0.9632649421691895),\n",
       " ('억지', 0.9557440280914307),\n",
       " ('기대치', 0.9500850439071655),\n",
       " ('졸작', 0.9486311078071594),\n",
       " ('소품', 0.9462482333183289),\n",
       " ('웩', 0.9444524049758911),\n",
       " ('홍보', 0.9443424344062805),\n",
       " ('식상', 0.9441393613815308),\n",
       " ('바꿔서', 0.9422009587287903),\n",
       " ('지겹', 0.9415041208267212)]"
      ]
     },
     "execution_count": 44,
     "metadata": {},
     "output_type": "execute_result"
    }
   ],
   "source": [
    "RNN_word_vectors.similar_by_word('별로')"
   ]
  },
  {
   "cell_type": "code",
   "execution_count": 45,
   "id": "wC-fIGxlf3GH",
   "metadata": {
    "colab": {
     "base_uri": "https://localhost:8080/"
    },
    "executionInfo": {
     "elapsed": 8,
     "status": "ok",
     "timestamp": 1654605060574,
     "user": {
      "displayName": "생크림와플먹고싶다",
      "userId": "13048533309979940862"
     },
     "user_tz": -540
    },
    "id": "wC-fIGxlf3GH",
    "outputId": "2432ddd3-1205-4d92-f16b-7e42d5d57ff6"
   },
   "outputs": [
    {
     "data": {
      "text/plain": [
       "[('넓', 0.619469404220581),\n",
       " ('뮤직', 0.6094489097595215),\n",
       " ('F', 0.5942366123199463),\n",
       " ('모자', 0.5872000455856323),\n",
       " ('탄식', 0.5605895519256592),\n",
       " ('참으로', 0.5509776473045349),\n",
       " ('판사', 0.5507638454437256),\n",
       " ('섹스', 0.5480803847312927),\n",
       " ('박한별', 0.542304515838623),\n",
       " ('클', 0.5298713445663452)]"
      ]
     },
     "execution_count": 45,
     "metadata": {},
     "output_type": "execute_result"
    }
   ],
   "source": [
    "RNN_word_vectors.similar_by_word('치킨')"
   ]
  },
  {
   "cell_type": "markdown",
   "id": "cce479ca",
   "metadata": {},
   "source": [
    "<div style = \"height: 50px;\"></div>"
   ]
  },
  {
   "cell_type": "markdown",
   "id": "UxSeqJGeBD5l",
   "metadata": {
    "id": "UxSeqJGeBD5l"
   },
   "source": [
    "# <span style = \"font-weight:bold;color:#0172d4;\">STEP 5</span> : CNN 모델 사용해보기"
   ]
  },
  {
   "cell_type": "markdown",
   "id": "5aef0828",
   "metadata": {},
   "source": [
    "## 1. 모델 빌드 및 훈련\n",
    "<hr/>"
   ]
  },
  {
   "cell_type": "code",
   "execution_count": 46,
   "id": "XoqxDgPzBDy2",
   "metadata": {
    "colab": {
     "base_uri": "https://localhost:8080/"
    },
    "executionInfo": {
     "elapsed": 515,
     "status": "ok",
     "timestamp": 1654605066832,
     "user": {
      "displayName": "생크림와플먹고싶다",
      "userId": "13048533309979940862"
     },
     "user_tz": -540
    },
    "id": "XoqxDgPzBDy2",
    "outputId": "36721cd5-a3df-4fbc-e1ee-8323ad8a767e"
   },
   "outputs": [
    {
     "name": "stdout",
     "output_type": "stream",
     "text": [
      "Model: \"sequential_1\"\n",
      "_________________________________________________________________\n",
      " Layer (type)                Output Shape              Param #   \n",
      "=================================================================\n",
      " embedding_2 (Embedding)     (None, None, 44)          439868    \n",
      "                                                                 \n",
      " conv1d (Conv1D)             (None, None, 16)          4944      \n",
      "                                                                 \n",
      " max_pooling1d (MaxPooling1D  (None, None, 16)         0         \n",
      " )                                                               \n",
      "                                                                 \n",
      " conv1d_1 (Conv1D)           (None, None, 16)          1808      \n",
      "                                                                 \n",
      " global_max_pooling1d (Globa  (None, 16)               0         \n",
      " lMaxPooling1D)                                                  \n",
      "                                                                 \n",
      " dense_2 (Dense)             (None, 12)                204       \n",
      "                                                                 \n",
      " dense_3 (Dense)             (None, 1)                 13        \n",
      "                                                                 \n",
      "=================================================================\n",
      "Total params: 446,837\n",
      "Trainable params: 446,837\n",
      "Non-trainable params: 0\n",
      "_________________________________________________________________\n"
     ]
    }
   ],
   "source": [
    "vocab_size = len(word_to_index)\n",
    "word_vector_dim = 44\n",
    "\n",
    "CNN_model = tf.keras.Sequential()\n",
    "CNN_model.add(tf.keras.layers.Embedding(vocab_size, word_vector_dim, input_shape = (None, )))\n",
    "CNN_model.add(tf.keras.layers.Conv1D(16, 7, activation = 'relu'))\n",
    "CNN_model.add(tf.keras.layers.MaxPooling1D(5))\n",
    "CNN_model.add(tf.keras.layers.Conv1D(16, 7, activation = 'relu'))\n",
    "CNN_model.add(tf.keras.layers.GlobalMaxPooling1D())\n",
    "CNN_model.add(tf.keras.layers.Dense(12, activation = 'relu'))\n",
    "CNN_model.add(tf.keras.layers.Dense(1, activation = 'sigmoid'))\n",
    "CNN_model.summary()"
   ]
  },
  {
   "cell_type": "code",
   "execution_count": 47,
   "id": "HAPyW8E2BDuV",
   "metadata": {
    "colab": {
     "base_uri": "https://localhost:8080/"
    },
    "executionInfo": {
     "elapsed": 5488,
     "status": "ok",
     "timestamp": 1654605074082,
     "user": {
      "displayName": "생크림와플먹고싶다",
      "userId": "13048533309979940862"
     },
     "user_tz": -540
    },
    "id": "HAPyW8E2BDuV",
    "outputId": "64d28a78-cca9-44a9-aef5-5e5c7370a71d"
   },
   "outputs": [
    {
     "name": "stdout",
     "output_type": "stream",
     "text": [
      "Epoch 1/5\n",
      "89/89 [==============================] - 2s 10ms/step - loss: 0.5855 - accuracy: 0.7106 - val_loss: 0.3916 - val_accuracy: 0.8308\n",
      "Epoch 2/5\n",
      "89/89 [==============================] - 1s 8ms/step - loss: 0.3511 - accuracy: 0.8494 - val_loss: 0.3413 - val_accuracy: 0.8525\n",
      "Epoch 3/5\n",
      "89/89 [==============================] - 1s 8ms/step - loss: 0.3040 - accuracy: 0.8723 - val_loss: 0.3355 - val_accuracy: 0.8557\n",
      "Epoch 4/5\n",
      "89/89 [==============================] - 1s 8ms/step - loss: 0.2777 - accuracy: 0.8860 - val_loss: 0.3372 - val_accuracy: 0.8561\n",
      "Epoch 5/5\n",
      "89/89 [==============================] - 1s 8ms/step - loss: 0.2527 - accuracy: 0.8989 - val_loss: 0.3444 - val_accuracy: 0.8534\n"
     ]
    }
   ],
   "source": [
    "CNN_model.compile(optimizer = 'adam', \n",
    "              loss = 'binary_crossentropy',\n",
    "              metrics = ['accuracy'])\n",
    "epochs = 5\n",
    "\n",
    "CNN_history = CNN_model.fit(partial_x_train, partial_y_train,\n",
    "                    epochs = epochs,\n",
    "                    batch_size = 1300,\n",
    "                    validation_data = (x_validation, y_validation),\n",
    "                    verbose = 1)"
   ]
  },
  {
   "cell_type": "markdown",
   "id": "8f79c163",
   "metadata": {},
   "source": [
    "<div style = \"height: 50px;\"></div>"
   ]
  },
  {
   "cell_type": "markdown",
   "id": "c4167975",
   "metadata": {},
   "source": [
    "## 2. 결과\n",
    "<hr/>"
   ]
  },
  {
   "cell_type": "code",
   "execution_count": 48,
   "id": "8uEAQIC_Copk",
   "metadata": {
    "colab": {
     "base_uri": "https://localhost:8080/"
    },
    "executionInfo": {
     "elapsed": 2493,
     "status": "ok",
     "timestamp": 1654605076563,
     "user": {
      "displayName": "생크림와플먹고싶다",
      "userId": "13048533309979940862"
     },
     "user_tz": -540
    },
    "id": "8uEAQIC_Copk",
    "outputId": "04c54df2-dd46-434a-e270-5404d1bfbe99"
   },
   "outputs": [
    {
     "name": "stdout",
     "output_type": "stream",
     "text": [
      "1518/1518 - 3s - loss: 0.3529 - accuracy: 0.8514 - 3s/epoch - 2ms/step\n",
      "[0.3529163599014282, 0.8514446020126343]\n"
     ]
    }
   ],
   "source": [
    "CNN_results = CNN_model.evaluate(X_test_pad,  np.array(y_test_max_len), verbose=2)\n",
    "\n",
    "print(CNN_results)"
   ]
  },
  {
   "cell_type": "markdown",
   "id": "5b2b6514",
   "metadata": {},
   "source": [
    "<div style = \"height: 50px;\"></div>"
   ]
  },
  {
   "cell_type": "markdown",
   "id": "5951e14d",
   "metadata": {},
   "source": [
    "## 3. Loss, Accuracy 그래프 시각화\n",
    "<hr/>"
   ]
  },
  {
   "cell_type": "code",
   "execution_count": 49,
   "id": "xC3Lfvx8BDqo",
   "metadata": {
    "colab": {
     "base_uri": "https://localhost:8080/",
     "height": 312
    },
    "executionInfo": {
     "elapsed": 853,
     "status": "ok",
     "timestamp": 1654605077412,
     "user": {
      "displayName": "생크림와플먹고싶다",
      "userId": "13048533309979940862"
     },
     "user_tz": -540
    },
    "id": "xC3Lfvx8BDqo",
    "outputId": "7272becd-cfa4-4421-9ba0-573ac0840ec6"
   },
   "outputs": [
    {
     "name": "stdout",
     "output_type": "stream",
     "text": [
      "dict_keys(['loss', 'accuracy', 'val_loss', 'val_accuracy'])\n"
     ]
    },
    {
     "data": {
      "image/png": "[encoded data removed]",
      "text/plain": [
       "<Figure size 432x288 with 1 Axes>"
      ]
     },
     "metadata": {
      "needs_background": "light"
     },
     "output_type": "display_data"
    }
   ],
   "source": [
    "history_dict = CNN_history.history\n",
    "print(history_dict.keys())\n",
    "\n",
    "acc = history_dict['accuracy']\n",
    "val_acc = history_dict['val_accuracy']\n",
    "loss = history_dict['loss']\n",
    "val_loss = history_dict['val_loss']\n",
    "\n",
    "epochs = range(1, len(acc) + 1)\n",
    "\n",
    "# \"bo\"는 \"파란색 점\"입니다\n",
    "plt.plot(epochs, loss, 'bo', label='Training loss')\n",
    "\n",
    "\n",
    "# b는 \"파란 실선\"입니다\n",
    "plt.plot(epochs, val_loss, 'b', label='Validation loss')\n",
    "plt.title('Training and validation loss')\n",
    "plt.xlabel('Epochs')\n",
    "plt.ylabel('Loss')\n",
    "plt.legend()\n",
    "\n",
    "plt.show()"
   ]
  },
  {
   "cell_type": "code",
   "execution_count": 50,
   "id": "h7MNwZpkBDmJ",
   "metadata": {
    "colab": {
     "base_uri": "https://localhost:8080/",
     "height": 295
    },
    "executionInfo": {
     "elapsed": 12,
     "status": "ok",
     "timestamp": 1654605077413,
     "user": {
      "displayName": "생크림와플먹고싶다",
      "userId": "13048533309979940862"
     },
     "user_tz": -540
    },
    "id": "h7MNwZpkBDmJ",
    "outputId": "ea552366-0caa-4825-8094-700fb7ab9530"
   },
   "outputs": [
    {
     "data": {
      "image/png": "[encoded data removed]",
      "text/plain": [
       "<Figure size 432x288 with 1 Axes>"
      ]
     },
     "metadata": {
      "needs_background": "light"
     },
     "output_type": "display_data"
    }
   ],
   "source": [
    "plt.clf()   # 그림을 초기화\n",
    "\n",
    "plt.plot(epochs, acc, 'bo', label='Training acc')\n",
    "plt.plot(epochs, val_acc, 'b', label='Validation acc')\n",
    "plt.title('Training and validation accuracy')\n",
    "plt.xlabel('Epochs')\n",
    "plt.ylabel('Accuracy')\n",
    "plt.legend()\n",
    "\n",
    "plt.show()"
   ]
  },
  {
   "cell_type": "markdown",
   "id": "5a6fb926",
   "metadata": {},
   "source": [
    "<div style = \"height: 50px;\"></div>"
   ]
  },
  {
   "cell_type": "markdown",
   "id": "58c41e2f",
   "metadata": {},
   "source": [
    "## 4. 학습된 Embedding 레이어 분석\n",
    "<hr/>"
   ]
  },
  {
   "cell_type": "code",
   "execution_count": 51,
   "id": "zQ0OC0l7HcQd",
   "metadata": {
    "colab": {
     "base_uri": "https://localhost:8080/"
    },
    "executionInfo": {
     "elapsed": 12,
     "status": "ok",
     "timestamp": 1654605077414,
     "user": {
      "displayName": "생크림와플먹고싶다",
      "userId": "13048533309979940862"
     },
     "user_tz": -540
    },
    "id": "zQ0OC0l7HcQd",
    "outputId": "6aba103a-398d-40bb-eb30-8342fc81c88f"
   },
   "outputs": [
    {
     "name": "stdout",
     "output_type": "stream",
     "text": [
      "(9997, 44)\n"
     ]
    }
   ],
   "source": [
    "CNN_embedding_layer = CNN_model.layers[0]\n",
    "CNN_weights = CNN_embedding_layer.get_weights()[0]\n",
    "print(CNN_weights.shape)"
   ]
  },
  {
   "cell_type": "code",
   "execution_count": 52,
   "id": "uAwVpfCPHpyp",
   "metadata": {
    "executionInfo": {
     "elapsed": 620,
     "status": "ok",
     "timestamp": 1654605079702,
     "user": {
      "displayName": "생크림와플먹고싶다",
      "userId": "13048533309979940862"
     },
     "user_tz": -540
    },
    "id": "uAwVpfCPHpyp"
   },
   "outputs": [],
   "source": [
    "# 학습한 Embedding 파라미터를 파일로 저장\n",
    "CNN_word2vec_file_path = '/content/drive/MyDrive/Colab Notebooks/ex09/ex_data/CNN_word2vec.txt'\n",
    "f = open(CNN_word2vec_file_path, 'w')\n",
    "f.write('{} {}\\n'.format(vocab_size-4, word_vector_dim))\n",
    "\n",
    "# 단어 개수(에서 특수문자 4개는 제외하고)만큼의 워드 벡터를 파일에 기록합니다. \n",
    "CNN_vectors = CNN_model.get_weights()[0]\n",
    "for i in range(4, vocab_size):\n",
    "    f.write('{} {}\\n'.format(index_to_word[i], ' '.join(map(str, list(CNN_vectors[i, :])))))\n",
    "f.close()"
   ]
  },
  {
   "cell_type": "code",
   "execution_count": 53,
   "id": "7K961zA2HpqC",
   "metadata": {
    "colab": {
     "base_uri": "https://localhost:8080/"
    },
    "executionInfo": {
     "elapsed": 714,
     "status": "ok",
     "timestamp": 1654605081032,
     "user": {
      "displayName": "생크림와플먹고싶다",
      "userId": "13048533309979940862"
     },
     "user_tz": -540
    },
    "id": "7K961zA2HpqC",
    "outputId": "cbb0b46e-2250-442d-bfef-43ab399a9087"
   },
   "outputs": [
    {
     "data": {
      "text/plain": [
       "array([-0.02859354, -0.01128813, -0.12534681, -0.10457932, -0.01935094,\n",
       "        0.01064936,  0.02528037,  0.05568872, -0.03552131,  0.07194804,\n",
       "       -0.07544861, -0.05451072, -0.03179049,  0.01779179, -0.06928601,\n",
       "       -0.04315341, -0.03826336, -0.11868771,  0.00632917,  0.00875774,\n",
       "        0.06960207, -0.01341743,  0.03173927, -0.0348291 ,  0.03383405,\n",
       "       -0.05621026, -0.0158373 , -0.04142895,  0.02051182,  0.01188162,\n",
       "        0.00191757,  0.08305448,  0.01392497, -0.01094551,  0.02729407,\n",
       "       -0.01140898, -0.02736622,  0.04524361,  0.00390541,  0.03124704,\n",
       "        0.05075379,  0.0614788 ,  0.00519728, -0.02332128], dtype=float32)"
      ]
     },
     "execution_count": 53,
     "metadata": {},
     "output_type": "execute_result"
    }
   ],
   "source": [
    "CNN_word_vectors = Word2VecKeyedVectors.load_word2vec_format(CNN_word2vec_file_path, binary = False)\n",
    "CNN_vector = CNN_word_vectors['영화']\n",
    "CNN_vector\n"
   ]
  },
  {
   "cell_type": "code",
   "execution_count": 54,
   "id": "VtQYWxoMHpg8",
   "metadata": {
    "colab": {
     "base_uri": "https://localhost:8080/"
    },
    "executionInfo": {
     "elapsed": 12,
     "status": "ok",
     "timestamp": 1654605081033,
     "user": {
      "displayName": "생크림와플먹고싶다",
      "userId": "13048533309979940862"
     },
     "user_tz": -540
    },
    "id": "VtQYWxoMHpg8",
    "outputId": "fa3ed8d6-4a85-48ba-8151-38b6f1b1d69e"
   },
   "outputs": [
    {
     "data": {
      "text/plain": [
       "[('완전', 0.7046858072280884),\n",
       " ('잼', 0.6596934795379639),\n",
       " ('몰입', 0.6518080830574036),\n",
       " ('내세운', 0.6493896245956421),\n",
       " ('이렇게', 0.6481965780258179),\n",
       " ('당할', 0.6474054455757141),\n",
       " ('진짜로', 0.6349284648895264),\n",
       " ('너무', 0.6344619989395142),\n",
       " ('기자', 0.630359947681427),\n",
       " ('재미', 0.6259148120880127)]"
      ]
     },
     "execution_count": 54,
     "metadata": {},
     "output_type": "execute_result"
    }
   ],
   "source": [
    "CNN_word_vectors.similar_by_word('진짜')"
   ]
  },
  {
   "cell_type": "code",
   "execution_count": 55,
   "id": "3R9V3Dk4HpMg",
   "metadata": {
    "colab": {
     "base_uri": "https://localhost:8080/"
    },
    "executionInfo": {
     "elapsed": 7,
     "status": "ok",
     "timestamp": 1654605081033,
     "user": {
      "displayName": "생크림와플먹고싶다",
      "userId": "13048533309979940862"
     },
     "user_tz": -540
    },
    "id": "3R9V3Dk4HpMg",
    "outputId": "04eec1c0-ea5e-4c66-a13a-23e448ed5137"
   },
   "outputs": [
    {
     "data": {
      "text/plain": [
       "[('매우', 0.6577383279800415),\n",
       " ('긴장감', 0.652165412902832),\n",
       " ('완전', 0.6513265371322632),\n",
       " ('너무', 0.6465782523155212),\n",
       " ('맥주', 0.6337964534759521),\n",
       " ('이어서', 0.6057108640670776),\n",
       " ('너무나', 0.6044490337371826),\n",
       " ('몰입', 0.5900447368621826),\n",
       " ('퍼', 0.5880023837089539),\n",
       " ('손예진', 0.581063985824585)]"
      ]
     },
     "execution_count": 55,
     "metadata": {},
     "output_type": "execute_result"
    }
   ],
   "source": [
    "CNN_word_vectors.similar_by_word('정말')"
   ]
  },
  {
   "cell_type": "code",
   "execution_count": 56,
   "id": "e20aB74zH8Y8",
   "metadata": {
    "colab": {
     "base_uri": "https://localhost:8080/"
    },
    "executionInfo": {
     "elapsed": 13,
     "status": "ok",
     "timestamp": 1654605081577,
     "user": {
      "displayName": "생크림와플먹고싶다",
      "userId": "13048533309979940862"
     },
     "user_tz": -540
    },
    "id": "e20aB74zH8Y8",
    "outputId": "b9805212-9372-4e8b-850d-ac4467a3feb0"
   },
   "outputs": [
    {
     "data": {
      "text/plain": [
       "[('이제서야', 0.8416839838027954),\n",
       " ('크리스', 0.8095072507858276),\n",
       " ('슬프', 0.8075834512710571),\n",
       " ('눈물', 0.8061972856521606),\n",
       " ('봣', 0.804397702217102),\n",
       " ('광해', 0.8002585768699646),\n",
       " ('발달', 0.8000196814537048),\n",
       " ('나무랄', 0.7961642742156982),\n",
       " ('great', 0.7934116125106812),\n",
       " ('탁월', 0.7896368503570557)]"
      ]
     },
     "execution_count": 56,
     "metadata": {},
     "output_type": "execute_result"
    }
   ],
   "source": [
    "CNN_word_vectors.similar_by_word('최고')"
   ]
  },
  {
   "cell_type": "code",
   "execution_count": 57,
   "id": "ghtxIYnLH8jt",
   "metadata": {
    "colab": {
     "base_uri": "https://localhost:8080/"
    },
    "executionInfo": {
     "elapsed": 11,
     "status": "ok",
     "timestamp": 1654605081577,
     "user": {
      "displayName": "생크림와플먹고싶다",
      "userId": "13048533309979940862"
     },
     "user_tz": -540
    },
    "id": "ghtxIYnLH8jt",
    "outputId": "a9195996-32e2-4212-a02f-7e33e2c919ea"
   },
   "outputs": [
    {
     "data": {
      "text/plain": [
       "[('단조', 0.9051671028137207),\n",
       " ('상품', 0.8766458630561829),\n",
       " ('인내심', 0.8763510584831238),\n",
       " ('실패작', 0.8756976127624512),\n",
       " ('결과물', 0.8718061447143555),\n",
       " ('어설프', 0.8698682188987732),\n",
       " ('졸작', 0.8681517839431763),\n",
       " ('피눈물', 0.8611901998519897),\n",
       " ('더군', 0.8608614206314087),\n",
       " ('잤', 0.8600863814353943)]"
      ]
     },
     "execution_count": 57,
     "metadata": {},
     "output_type": "execute_result"
    }
   ],
   "source": [
    "CNN_word_vectors.similar_by_word('별로')"
   ]
  },
  {
   "cell_type": "code",
   "execution_count": 58,
   "id": "Y3Z2f7aCH8q7",
   "metadata": {
    "colab": {
     "base_uri": "https://localhost:8080/"
    },
    "executionInfo": {
     "elapsed": 8,
     "status": "ok",
     "timestamp": 1654605081578,
     "user": {
      "displayName": "생크림와플먹고싶다",
      "userId": "13048533309979940862"
     },
     "user_tz": -540
    },
    "id": "Y3Z2f7aCH8q7",
    "outputId": "aa05901b-8e58-4c53-8459-3027bbb47740"
   },
   "outputs": [
    {
     "data": {
      "text/plain": [
       "[('그치만', 0.6673532724380493),\n",
       " ('아나운서', 0.58408522605896),\n",
       " ('다녀왔', 0.5822352766990662),\n",
       " ('개독', 0.5718849897384644),\n",
       " ('흐른다', 0.5692781209945679),\n",
       " ('달라진', 0.5589168071746826),\n",
       " ('묘미', 0.5543772578239441),\n",
       " ('한들', 0.5525764226913452),\n",
       " ('신세계', 0.5461791753768921),\n",
       " ('대작', 0.5455015301704407)]"
      ]
     },
     "execution_count": 58,
     "metadata": {},
     "output_type": "execute_result"
    }
   ],
   "source": [
    "CNN_word_vectors.similar_by_word('치킨')"
   ]
  },
  {
   "cell_type": "markdown",
   "id": "7e2fb130",
   "metadata": {},
   "source": [
    "<div style = \"height: 50px;\"></div>"
   ]
  },
  {
   "cell_type": "markdown",
   "id": "7350ec4a",
   "metadata": {},
   "source": [
    "# <span style = \"font-weight:bold;color:#0172d4;\">STEP 6</span> : GlobalMaxPooling1D() 레이어 하나만 사용해보기"
   ]
  },
  {
   "cell_type": "markdown",
   "id": "6416115d",
   "metadata": {},
   "source": [
    "## 1. 모델 빌드 및 훈련\n",
    "<hr/>"
   ]
  },
  {
   "cell_type": "code",
   "execution_count": 59,
   "id": "JJJVNqsxBDcm",
   "metadata": {
    "colab": {
     "base_uri": "https://localhost:8080/"
    },
    "executionInfo": {
     "elapsed": 19,
     "status": "ok",
     "timestamp": 1654605082749,
     "user": {
      "displayName": "생크림와플먹고싶다",
      "userId": "13048533309979940862"
     },
     "user_tz": -540
    },
    "id": "JJJVNqsxBDcm",
    "outputId": "9e76719d-5b00-488e-9f6c-461ce3c90134"
   },
   "outputs": [
    {
     "name": "stdout",
     "output_type": "stream",
     "text": [
      "Model: \"sequential_2\"\n",
      "_________________________________________________________________\n",
      " Layer (type)                Output Shape              Param #   \n",
      "=================================================================\n",
      " embedding_3 (Embedding)     (None, None, 44)          439868    \n",
      "                                                                 \n",
      " global_max_pooling1d_1 (Glo  (None, 44)               0         \n",
      " balMaxPooling1D)                                                \n",
      "                                                                 \n",
      " dense_4 (Dense)             (None, 8)                 360       \n",
      "                                                                 \n",
      " dense_5 (Dense)             (None, 1)                 9         \n",
      "                                                                 \n",
      "=================================================================\n",
      "Total params: 440,237\n",
      "Trainable params: 440,237\n",
      "Non-trainable params: 0\n",
      "_________________________________________________________________\n"
     ]
    }
   ],
   "source": [
    "vocab_size = len(word_to_index)\n",
    "word_vector_dim = 44\n",
    "\n",
    "GMP_model = tf.keras.Sequential()\n",
    "GMP_model.add(tf.keras.layers.Embedding(vocab_size, word_vector_dim, input_shape = (None, )))\n",
    "GMP_model.add(tf.keras.layers.GlobalMaxPooling1D())\n",
    "GMP_model.add(tf.keras.layers.Dense(8, activation = 'relu'))\n",
    "GMP_model.add(tf.keras.layers.Dense(1, activation = 'sigmoid'))\n",
    "GMP_model.summary()\n"
   ]
  },
  {
   "cell_type": "code",
   "execution_count": 60,
   "id": "3LIqZGPUBDEI",
   "metadata": {
    "colab": {
     "base_uri": "https://localhost:8080/"
    },
    "executionInfo": {
     "elapsed": 7444,
     "status": "ok",
     "timestamp": 1654605090186,
     "user": {
      "displayName": "생크림와플먹고싶다",
      "userId": "13048533309979940862"
     },
     "user_tz": -540
    },
    "id": "3LIqZGPUBDEI",
    "outputId": "14d063a0-22a1-44c7-f52f-9e6ad69ee895"
   },
   "outputs": [
    {
     "name": "stdout",
     "output_type": "stream",
     "text": [
      "Epoch 1/10\n",
      "89/89 [==============================] - 1s 8ms/step - loss: 0.6659 - accuracy: 0.6689 - val_loss: 0.6139 - val_accuracy: 0.7740\n",
      "Epoch 2/10\n",
      "89/89 [==============================] - 1s 6ms/step - loss: 0.5241 - accuracy: 0.8147 - val_loss: 0.4376 - val_accuracy: 0.8337\n",
      "Epoch 3/10\n",
      "89/89 [==============================] - 1s 6ms/step - loss: 0.3826 - accuracy: 0.8491 - val_loss: 0.3628 - val_accuracy: 0.8439\n",
      "Epoch 4/10\n",
      "89/89 [==============================] - 1s 6ms/step - loss: 0.3271 - accuracy: 0.8656 - val_loss: 0.3454 - val_accuracy: 0.8497\n",
      "Epoch 5/10\n",
      "89/89 [==============================] - 1s 6ms/step - loss: 0.2995 - accuracy: 0.8774 - val_loss: 0.3410 - val_accuracy: 0.8514\n",
      "Epoch 6/10\n",
      "89/89 [==============================] - 1s 6ms/step - loss: 0.2791 - accuracy: 0.8873 - val_loss: 0.3417 - val_accuracy: 0.8522\n",
      "Epoch 7/10\n",
      "89/89 [==============================] - 1s 7ms/step - loss: 0.2617 - accuracy: 0.8955 - val_loss: 0.3446 - val_accuracy: 0.8526\n",
      "Epoch 8/10\n",
      "89/89 [==============================] - 1s 8ms/step - loss: 0.2458 - accuracy: 0.9034 - val_loss: 0.3501 - val_accuracy: 0.8525\n",
      "Epoch 9/10\n",
      "89/89 [==============================] - 1s 8ms/step - loss: 0.2314 - accuracy: 0.9102 - val_loss: 0.3566 - val_accuracy: 0.8516\n",
      "Epoch 10/10\n",
      "89/89 [==============================] - 1s 7ms/step - loss: 0.2176 - accuracy: 0.9171 - val_loss: 0.3654 - val_accuracy: 0.8503\n"
     ]
    }
   ],
   "source": [
    "GMP_model.compile(optimizer = 'adam', loss = 'binary_crossentropy',\n",
    "                  metrics = ['accuracy'])\n",
    "epochs = 10\n",
    "\n",
    "GMP_history = GMP_model.fit(partial_x_train, partial_y_train, \n",
    "                            epochs = epochs,\n",
    "                            batch_size = 1300,\n",
    "                            validation_data = (x_validation, y_validation),\n",
    "                            verbose = 1)"
   ]
  },
  {
   "cell_type": "markdown",
   "id": "1d9e3c53",
   "metadata": {},
   "source": [
    "<div style = \"height: 50px;\"></div>"
   ]
  },
  {
   "cell_type": "markdown",
   "id": "6851990b",
   "metadata": {},
   "source": [
    "## 2. 결과\n",
    "<hr/>"
   ]
  },
  {
   "cell_type": "code",
   "execution_count": 61,
   "id": "y2OYOjRgFj6U",
   "metadata": {
    "colab": {
     "base_uri": "https://localhost:8080/"
    },
    "executionInfo": {
     "elapsed": 2350,
     "status": "ok",
     "timestamp": 1654605092533,
     "user": {
      "displayName": "생크림와플먹고싶다",
      "userId": "13048533309979940862"
     },
     "user_tz": -540
    },
    "id": "y2OYOjRgFj6U",
    "outputId": "a767156c-d0bf-4389-aed9-2e819165d7d6"
   },
   "outputs": [
    {
     "name": "stdout",
     "output_type": "stream",
     "text": [
      "1518/1518 - 2s - loss: 0.3778 - accuracy: 0.8456 - 2s/epoch - 2ms/step\n",
      "[0.37784433364868164, 0.8455756902694702]\n"
     ]
    }
   ],
   "source": [
    "GMP_results = GMP_model.evaluate(X_test_pad,  np.array(y_test_max_len), verbose=2)\n",
    "\n",
    "print(GMP_results)"
   ]
  },
  {
   "cell_type": "markdown",
   "id": "082d0712",
   "metadata": {},
   "source": [
    "<div style = \"height: 50px;\"></div>"
   ]
  },
  {
   "cell_type": "markdown",
   "id": "653c612c",
   "metadata": {},
   "source": [
    "## 3. Loss, Accuracy 그래프 시각화\n",
    "<hr/>"
   ]
  },
  {
   "cell_type": "code",
   "execution_count": 62,
   "id": "_Fh64c8rFjh7",
   "metadata": {
    "colab": {
     "base_uri": "https://localhost:8080/",
     "height": 312
    },
    "executionInfo": {
     "elapsed": 21,
     "status": "ok",
     "timestamp": 1654605092534,
     "user": {
      "displayName": "생크림와플먹고싶다",
      "userId": "13048533309979940862"
     },
     "user_tz": -540
    },
    "id": "_Fh64c8rFjh7",
    "outputId": "740352f8-caef-4721-e7f0-b1ec90db0c09"
   },
   "outputs": [
    {
     "name": "stdout",
     "output_type": "stream",
     "text": [
      "dict_keys(['loss', 'accuracy', 'val_loss', 'val_accuracy'])\n"
     ]
    },
    {
     "data": {
      "image/png": "[encoded data removed]",
      "text/plain": [
       "<Figure size 432x288 with 1 Axes>"
      ]
     },
     "metadata": {
      "needs_background": "light"
     },
     "output_type": "display_data"
    }
   ],
   "source": [
    "history_dict = GMP_history.history\n",
    "print(history_dict.keys())\n",
    "\n",
    "acc = history_dict['accuracy']\n",
    "val_acc = history_dict['val_accuracy']\n",
    "loss = history_dict['loss']\n",
    "val_loss = history_dict['val_loss']\n",
    "\n",
    "epochs = range(1, len(acc) + 1)\n",
    "\n",
    "# \"bo\"는 \"파란색 점\"입니다\n",
    "plt.plot(epochs, loss, 'bo', label='Training loss')\n",
    "\n",
    "\n",
    "# b는 \"파란 실선\"입니다\n",
    "plt.plot(epochs, val_loss, 'b', label='Validation loss')\n",
    "plt.title('Training and validation loss')\n",
    "plt.xlabel('Epochs')\n",
    "plt.ylabel('Loss')\n",
    "plt.legend()\n",
    "\n",
    "plt.show()"
   ]
  },
  {
   "cell_type": "code",
   "execution_count": 63,
   "id": "TLUggSoEFjRd",
   "metadata": {
    "colab": {
     "base_uri": "https://localhost:8080/",
     "height": 295
    },
    "executionInfo": {
     "elapsed": 16,
     "status": "ok",
     "timestamp": 1654605092534,
     "user": {
      "displayName": "생크림와플먹고싶다",
      "userId": "13048533309979940862"
     },
     "user_tz": -540
    },
    "id": "TLUggSoEFjRd",
    "outputId": "ec9f505a-bdc6-4987-ab16-d10225442e36"
   },
   "outputs": [
    {
     "data": {
      "image/png": "[encoded data removed]",
      "text/plain": [
       "<Figure size 432x288 with 1 Axes>"
      ]
     },
     "metadata": {
      "needs_background": "light"
     },
     "output_type": "display_data"
    }
   ],
   "source": [
    "plt.clf()   # 그림을 초기화\n",
    "\n",
    "plt.plot(epochs, acc, 'bo', label='Training acc')\n",
    "plt.plot(epochs, val_acc, 'b', label='Validation acc')\n",
    "plt.title('Training and validation accuracy')\n",
    "plt.xlabel('Epochs')\n",
    "plt.ylabel('Accuracy')\n",
    "plt.legend()\n",
    "\n",
    "plt.show()"
   ]
  },
  {
   "cell_type": "markdown",
   "id": "c949e919",
   "metadata": {},
   "source": [
    "<div style = \"height: 50px;\"></div>"
   ]
  },
  {
   "cell_type": "markdown",
   "id": "17b4502c",
   "metadata": {},
   "source": [
    "## 4. 학습된 Embedding 레이어 분석\n",
    "<hr/>"
   ]
  },
  {
   "cell_type": "code",
   "execution_count": 64,
   "id": "JJ0yhc2UITzN",
   "metadata": {
    "colab": {
     "base_uri": "https://localhost:8080/"
    },
    "executionInfo": {
     "elapsed": 16,
     "status": "ok",
     "timestamp": 1654605092535,
     "user": {
      "displayName": "생크림와플먹고싶다",
      "userId": "13048533309979940862"
     },
     "user_tz": -540
    },
    "id": "JJ0yhc2UITzN",
    "outputId": "ce948673-e4b9-4bfe-8b45-c7e90202a027"
   },
   "outputs": [
    {
     "name": "stdout",
     "output_type": "stream",
     "text": [
      "(9997, 44)\n"
     ]
    }
   ],
   "source": [
    "GMP_embedding_layer = GMP_model.layers[0]\n",
    "GMP_weights = GMP_embedding_layer.get_weights()[0]\n",
    "print(GMP_weights.shape)"
   ]
  },
  {
   "cell_type": "code",
   "execution_count": 66,
   "id": "l6NZsQm9ITcM",
   "metadata": {
    "executionInfo": {
     "elapsed": 611,
     "status": "ok",
     "timestamp": 1654605101449,
     "user": {
      "displayName": "생크림와플먹고싶다",
      "userId": "13048533309979940862"
     },
     "user_tz": -540
    },
    "id": "l6NZsQm9ITcM"
   },
   "outputs": [],
   "source": [
    "# 학습한 Embedding 파라미터를 파일로 저장\n",
    "GMP_word2vec_file_path = '/content/drive/MyDrive/Colab Notebooks/ex09/ex_data/GMP_word2vec.txt'\n",
    "f = open(GMP_word2vec_file_path, 'w')\n",
    "f.write('{} {}\\n'.format(vocab_size-4, word_vector_dim))\n",
    "\n",
    "# 단어 개수(에서 특수문자 4개는 제외하고)만큼의 워드 벡터를 파일에 기록합니다. \n",
    "GMP_vectors = GMP_model.get_weights()[0]\n",
    "for i in range(4, vocab_size):\n",
    "    f.write('{} {}\\n'.format(index_to_word[i], ' '.join(map(str, list(GMP_vectors[i, :])))))\n",
    "f.close()"
   ]
  },
  {
   "cell_type": "code",
   "execution_count": 67,
   "id": "5HzsgYBqIld3",
   "metadata": {
    "colab": {
     "base_uri": "https://localhost:8080/"
    },
    "executionInfo": {
     "elapsed": 667,
     "status": "ok",
     "timestamp": 1654605102111,
     "user": {
      "displayName": "생크림와플먹고싶다",
      "userId": "13048533309979940862"
     },
     "user_tz": -540
    },
    "id": "5HzsgYBqIld3",
    "outputId": "fe98084a-a2fb-4ba7-b44c-a3ba12340c78"
   },
   "outputs": [
    {
     "data": {
      "text/plain": [
       "array([-0.13105142, -0.12449968,  0.00274017, -0.16059189, -0.10957483,\n",
       "       -0.14372927, -0.15310399, -0.0997595 , -0.13330916, -0.11769242,\n",
       "       -0.03911424, -0.11130154, -0.13325413, -0.15157749, -0.12930477,\n",
       "       -0.03048346, -0.06865128, -0.14970277, -0.13272296, -0.14931361,\n",
       "       -0.13123418, -0.11308586, -0.07533618, -0.13696718, -0.08906175,\n",
       "       -0.11374767, -0.11134628, -0.10712086, -0.11560119, -0.13971624,\n",
       "       -0.09995597, -0.1122441 , -0.13395114, -0.13680667, -0.12727809,\n",
       "       -0.12775306, -0.02563593, -0.11172091, -0.13952897, -0.0759284 ,\n",
       "       -0.13830455, -0.10516822, -0.11533499, -0.03156059], dtype=float32)"
      ]
     },
     "execution_count": 67,
     "metadata": {},
     "output_type": "execute_result"
    }
   ],
   "source": [
    "GMP_word_vectors = Word2VecKeyedVectors.load_word2vec_format(GMP_word2vec_file_path, binary = False)\n",
    "GMP_vector = GMP_word_vectors['영화']\n",
    "GMP_vector"
   ]
  },
  {
   "cell_type": "code",
   "execution_count": 68,
   "id": "wCgt0e6OIlUE",
   "metadata": {
    "colab": {
     "base_uri": "https://localhost:8080/"
    },
    "executionInfo": {
     "elapsed": 27,
     "status": "ok",
     "timestamp": 1654605102112,
     "user": {
      "displayName": "생크림와플먹고싶다",
      "userId": "13048533309979940862"
     },
     "user_tz": -540
    },
    "id": "wCgt0e6OIlUE",
    "outputId": "dd68134e-c93b-4546-889c-c33e241497a3"
   },
   "outputs": [
    {
     "data": {
      "text/plain": [
       "[('고', 0.9784148931503296),\n",
       " ('아', 0.9732162356376648),\n",
       " ('음', 0.9707576632499695),\n",
       " ('영화', 0.9685788154602051),\n",
       " ('해', 0.9683749675750732),\n",
       " ('다', 0.9672117829322815),\n",
       " ('을', 0.965150773525238),\n",
       " ('나', 0.9645290970802307),\n",
       " ('까지', 0.9630981683731079),\n",
       " (',', 0.9630743861198425)]"
      ]
     },
     "execution_count": 68,
     "metadata": {},
     "output_type": "execute_result"
    }
   ],
   "source": [
    "GMP_word_vectors.similar_by_word('진짜')"
   ]
  },
  {
   "cell_type": "code",
   "execution_count": 69,
   "id": "ja-_GzmFIlJN",
   "metadata": {
    "colab": {
     "base_uri": "https://localhost:8080/"
    },
    "executionInfo": {
     "elapsed": 23,
     "status": "ok",
     "timestamp": 1654605102113,
     "user": {
      "displayName": "생크림와플먹고싶다",
      "userId": "13048533309979940862"
     },
     "user_tz": -540
    },
    "id": "ja-_GzmFIlJN",
    "outputId": "c8f1bf4d-98e4-4473-b4d8-c348aa28809c"
   },
   "outputs": [
    {
     "data": {
      "text/plain": [
       "[('드라마', 0.8566045761108398),\n",
       " ('네요', 0.840599536895752),\n",
       " ('크루즈', 0.8147498369216919),\n",
       " ('인듯', 0.8012757301330566),\n",
       " ('냉소', 0.7996145486831665),\n",
       " ('면서', 0.7991406917572021),\n",
       " ('스타뎀', 0.789128303527832),\n",
       " ('두', 0.7710831761360168),\n",
       " ('고생', 0.7654062509536743),\n",
       " ('아기', 0.7639186382293701)]"
      ]
     },
     "execution_count": 69,
     "metadata": {},
     "output_type": "execute_result"
    }
   ],
   "source": [
    "GMP_word_vectors.similar_by_word('정말')"
   ]
  },
  {
   "cell_type": "code",
   "execution_count": 70,
   "id": "f9lfcOphIvM3",
   "metadata": {
    "colab": {
     "base_uri": "https://localhost:8080/"
    },
    "executionInfo": {
     "elapsed": 18,
     "status": "ok",
     "timestamp": 1654605102113,
     "user": {
      "displayName": "생크림와플먹고싶다",
      "userId": "13048533309979940862"
     },
     "user_tz": -540
    },
    "id": "f9lfcOphIvM3",
    "outputId": "ce41b4dd-3bfa-4f95-ee2b-0be5ce171bb6"
   },
   "outputs": [
    {
     "data": {
      "text/plain": [
       "[('스칼렛', 0.6727931499481201),\n",
       " ('글로리아', 0.6587813496589661),\n",
       " ('다가온', 0.6516712307929993),\n",
       " ('펑펑', 0.6305366158485413),\n",
       " ('일어날', 0.6253266334533691),\n",
       " ('최강희', 0.6229966878890991),\n",
       " ('유전', 0.6200709342956543),\n",
       " ('1990', 0.6189375519752502),\n",
       " ('멋지', 0.6102612018585205),\n",
       " ('눈물', 0.610137403011322)]"
      ]
     },
     "execution_count": 70,
     "metadata": {},
     "output_type": "execute_result"
    }
   ],
   "source": [
    "GMP_word_vectors.similar_by_word('최고')"
   ]
  },
  {
   "cell_type": "code",
   "execution_count": 71,
   "id": "2IO33aoMIvST",
   "metadata": {
    "colab": {
     "base_uri": "https://localhost:8080/"
    },
    "executionInfo": {
     "elapsed": 14,
     "status": "ok",
     "timestamp": 1654605102113,
     "user": {
      "displayName": "생크림와플먹고싶다",
      "userId": "13048533309979940862"
     },
     "user_tz": -540
    },
    "id": "2IO33aoMIvST",
    "outputId": "814f08c5-a180-4e12-be44-59498228b5fd"
   },
   "outputs": [
    {
     "data": {
      "text/plain": [
       "[('꼴', 0.8116064667701721),\n",
       " ('약해', 0.7382359504699707),\n",
       " ('-_', 0.734628438949585),\n",
       " ('관우', 0.7246147394180298),\n",
       " ('못해', 0.7221726179122925),\n",
       " ('엄태웅', 0.718218207359314),\n",
       " ('우기', 0.7164523005485535),\n",
       " ('--;', 0.7148311138153076),\n",
       " ('한심', 0.7131366729736328),\n",
       " ('박철수', 0.7112268805503845)]"
      ]
     },
     "execution_count": 71,
     "metadata": {},
     "output_type": "execute_result"
    }
   ],
   "source": [
    "GMP_word_vectors.similar_by_word('별로')"
   ]
  },
  {
   "cell_type": "code",
   "execution_count": 72,
   "id": "dHTseyOKIvYW",
   "metadata": {
    "colab": {
     "base_uri": "https://localhost:8080/"
    },
    "executionInfo": {
     "elapsed": 10,
     "status": "ok",
     "timestamp": 1654605102114,
     "user": {
      "displayName": "생크림와플먹고싶다",
      "userId": "13048533309979940862"
     },
     "user_tz": -540
    },
    "id": "dHTseyOKIvYW",
    "outputId": "c71e73bb-97f7-4110-89d7-177052762055"
   },
   "outputs": [
    {
     "data": {
      "text/plain": [
       "[('히치콕', 0.5752558708190918),\n",
       " ('열혈', 0.5736199617385864),\n",
       " ('사진', 0.5732329487800598),\n",
       " ('..!', 0.5622642040252686),\n",
       " ('예언', 0.5566619038581848),\n",
       " ('불안', 0.5549644231796265),\n",
       " ('느낄', 0.553730845451355),\n",
       " ('취급', 0.5508794784545898),\n",
       " ('스페이스', 0.550162672996521),\n",
       " ('적절히', 0.5429126024246216)]"
      ]
     },
     "execution_count": 72,
     "metadata": {},
     "output_type": "execute_result"
    }
   ],
   "source": [
    "GMP_word_vectors.similar_by_word('치킨')"
   ]
  },
  {
   "cell_type": "markdown",
   "id": "4917d87d",
   "metadata": {},
   "source": [
    "<div style = \"height: 50px;\"></div>"
   ]
  },
  {
   "cell_type": "markdown",
   "id": "WhELxp0NdwTP",
   "metadata": {
    "id": "WhELxp0NdwTP"
   },
   "source": [
    "# <span style = \"font-weight:bold;color:#0172d4;\">STEP 7</span> : 한국어 Word2Vec 임베딩 활용하여 성능 개선"
   ]
  },
  {
   "cell_type": "code",
   "execution_count": 74,
   "id": "0k-T9buLi8Vv",
   "metadata": {
    "executionInfo": {
     "elapsed": 3,
     "status": "ok",
     "timestamp": 1654605109226,
     "user": {
      "displayName": "생크림와플먹고싶다",
      "userId": "13048533309979940862"
     },
     "user_tz": -540
    },
    "id": "0k-T9buLi8Vv"
   },
   "outputs": [],
   "source": [
    "word2vec_path ='/content/drive/MyDrive/Colab Notebooks/ex09/ex_data/ko.bin'\n",
    "temp_model = gensim.models.Word2Vec.load(word2vec_path)"
   ]
  },
  {
   "cell_type": "code",
   "execution_count": 75,
   "id": "kOmSHVMulYZ2",
   "metadata": {
    "colab": {
     "base_uri": "https://localhost:8080/"
    },
    "executionInfo": {
     "elapsed": 489,
     "status": "ok",
     "timestamp": 1654605126579,
     "user": {
      "displayName": "생크림와플먹고싶다",
      "userId": "13048533309979940862"
     },
     "user_tz": -540
    },
    "id": "kOmSHVMulYZ2",
    "outputId": "40fa4dc1-410d-45b5-e0e4-5c4b40ef23cb"
   },
   "outputs": [
    {
     "name": "stderr",
     "output_type": "stream",
     "text": [
      "/usr/local/lib/python3.7/dist-packages/ipykernel_launcher.py:1: DeprecationWarning: Call to deprecated `similar_by_word` (Method will be removed in 4.0.0, use self.wv.similar_by_word() instead).\n",
      "  \"\"\"Entry point for launching an IPython kernel.\n"
     ]
    },
    {
     "data": {
      "text/plain": [
       "[('아이스크림', 0.7841869592666626),\n",
       " ('머핀', 0.7798093557357788),\n",
       " ('햄버거', 0.7517204284667969),\n",
       " ('푸딩', 0.7428526878356934),\n",
       " ('튀김', 0.7406421303749084),\n",
       " ('초콜릿', 0.7316878437995911),\n",
       " ('소시지', 0.707494854927063),\n",
       " ('샌드위치', 0.7064745426177979),\n",
       " ('요구르트', 0.7048976421356201),\n",
       " ('와플', 0.7046411037445068)]"
      ]
     },
     "execution_count": 75,
     "metadata": {},
     "output_type": "execute_result"
    }
   ],
   "source": [
    "temp_model.similar_by_word(\"치킨\")"
   ]
  },
  {
   "cell_type": "code",
   "execution_count": 76,
   "id": "oGGlu8-_d1Hb",
   "metadata": {
    "colab": {
     "base_uri": "https://localhost:8080/"
    },
    "executionInfo": {
     "elapsed": 9,
     "status": "ok",
     "timestamp": 1654605127227,
     "user": {
      "displayName": "생크림와플먹고싶다",
      "userId": "13048533309979940862"
     },
     "user_tz": -540
    },
    "id": "oGGlu8-_d1Hb",
    "outputId": "8d5b00d4-3533-47c6-b856-91e5a111eaaa"
   },
   "outputs": [
    {
     "name": "stderr",
     "output_type": "stream",
     "text": [
      "/usr/local/lib/python3.7/dist-packages/ipykernel_launcher.py:1: DeprecationWarning: Call to deprecated `similar_by_word` (Method will be removed in 4.0.0, use self.wv.similar_by_word() instead).\n",
      "  \"\"\"Entry point for launching an IPython kernel.\n"
     ]
    },
    {
     "data": {
      "text/plain": [
       "[('다큐멘터리', 0.7265259027481079),\n",
       " ('영화사', 0.715214192867279),\n",
       " ('드라마', 0.705294132232666),\n",
       " ('뮤지컬', 0.6947016716003418),\n",
       " ('코미디', 0.69093257188797),\n",
       " ('영화인', 0.6702202558517456),\n",
       " ('서부극', 0.6571458578109741),\n",
       " ('스릴러', 0.6533164978027344),\n",
       " ('로맨스', 0.6428799629211426),\n",
       " ('애니메이션', 0.6425570249557495)]"
      ]
     },
     "execution_count": 76,
     "metadata": {},
     "output_type": "execute_result"
    }
   ],
   "source": [
    "temp_model.similar_by_word(\"영화\")"
   ]
  },
  {
   "cell_type": "code",
   "execution_count": 77,
   "id": "wd1Mfszul_S5",
   "metadata": {
    "colab": {
     "base_uri": "https://localhost:8080/"
    },
    "executionInfo": {
     "elapsed": 7,
     "status": "ok",
     "timestamp": 1654605127227,
     "user": {
      "displayName": "생크림와플먹고싶다",
      "userId": "13048533309979940862"
     },
     "user_tz": -540
    },
    "id": "wd1Mfszul_S5",
    "outputId": "2baa3156-ebfa-4739-d657-eee9f90f10a6"
   },
   "outputs": [
    {
     "name": "stderr",
     "output_type": "stream",
     "text": [
      "/usr/local/lib/python3.7/dist-packages/ipykernel_launcher.py:1: DeprecationWarning: Call to deprecated `similar_by_word` (Method will be removed in 4.0.0, use self.wv.similar_by_word() instead).\n",
      "  \"\"\"Entry point for launching an IPython kernel.\n"
     ]
    },
    {
     "data": {
      "text/plain": [
       "[('가짜', 0.5982679128646851),\n",
       " ('정말로', 0.5857688188552856),\n",
       " ('바보', 0.5664166212081909),\n",
       " ('그저', 0.5368781089782715),\n",
       " ('엄마', 0.5301429033279419),\n",
       " ('당신', 0.5208492875099182),\n",
       " ('강아지', 0.5187654495239258),\n",
       " ('프라이빗', 0.5174241065979004),\n",
       " ('수수께끼', 0.5051365494728088),\n",
       " ('약혼자', 0.504402756690979)]"
      ]
     },
     "execution_count": 77,
     "metadata": {},
     "output_type": "execute_result"
    }
   ],
   "source": [
    "temp_model.similar_by_word(\"진짜\")"
   ]
  },
  {
   "cell_type": "code",
   "execution_count": 78,
   "id": "LOFpJXePl_PK",
   "metadata": {
    "colab": {
     "base_uri": "https://localhost:8080/"
    },
    "executionInfo": {
     "elapsed": 15,
     "status": "ok",
     "timestamp": 1654605127758,
     "user": {
      "displayName": "생크림와플먹고싶다",
      "userId": "13048533309979940862"
     },
     "user_tz": -540
    },
    "id": "LOFpJXePl_PK",
    "outputId": "9f5f2be4-9a5f-4fe7-942f-1bff05cc6bd3"
   },
   "outputs": [
    {
     "name": "stderr",
     "output_type": "stream",
     "text": [
      "/usr/local/lib/python3.7/dist-packages/ipykernel_launcher.py:1: DeprecationWarning: Call to deprecated `similar_by_word` (Method will be removed in 4.0.0, use self.wv.similar_by_word() instead).\n",
      "  \"\"\"Entry point for launching an IPython kernel.\n"
     ]
    },
    {
     "data": {
      "text/plain": [
       "[('정말로', 0.6876157522201538),\n",
       " ('솔직히', 0.6717334389686584),\n",
       " ('...', 0.6635288000106812),\n",
       " ('..', 0.661450982093811),\n",
       " ('뭐', 0.6610672473907471),\n",
       " ('과연', 0.6546894311904907),\n",
       " ('아무래도', 0.6335057020187378),\n",
       " ('아무리', 0.6218235492706299),\n",
       " ('참으로', 0.6067756414413452),\n",
       " ('굉장히', 0.6040467023849487)]"
      ]
     },
     "execution_count": 78,
     "metadata": {},
     "output_type": "execute_result"
    }
   ],
   "source": [
    "temp_model.similar_by_word(\"정말\")"
   ]
  },
  {
   "cell_type": "code",
   "execution_count": 79,
   "id": "2xn4jLoXl_KY",
   "metadata": {
    "colab": {
     "base_uri": "https://localhost:8080/"
    },
    "executionInfo": {
     "elapsed": 13,
     "status": "ok",
     "timestamp": 1654605127758,
     "user": {
      "displayName": "생크림와플먹고싶다",
      "userId": "13048533309979940862"
     },
     "user_tz": -540
    },
    "id": "2xn4jLoXl_KY",
    "outputId": "9046d3e5-1303-45fd-db7e-894fe067734a"
   },
   "outputs": [
    {
     "name": "stderr",
     "output_type": "stream",
     "text": [
      "/usr/local/lib/python3.7/dist-packages/ipykernel_launcher.py:1: DeprecationWarning: Call to deprecated `similar_by_word` (Method will be removed in 4.0.0, use self.wv.similar_by_word() instead).\n",
      "  \"\"\"Entry point for launching an IPython kernel.\n"
     ]
    },
    {
     "data": {
      "text/plain": [
       "[('가사', 0.7066930532455444),\n",
       " ('곡조', 0.6870777010917664),\n",
       " ('곡', 0.6749094724655151),\n",
       " ('발라드', 0.6573207378387451),\n",
       " ('멜로디', 0.6572505235671997),\n",
       " ('주제가', 0.6365448832511902),\n",
       " ('애국가', 0.6258596181869507),\n",
       " ('곡인', 0.6254721879959106),\n",
       " ('히트곡', 0.6253563165664673),\n",
       " ('원곡', 0.6200122833251953)]"
      ]
     },
     "execution_count": 79,
     "metadata": {},
     "output_type": "execute_result"
    }
   ],
   "source": [
    "temp_model.similar_by_word(\"노래\")"
   ]
  },
  {
   "cell_type": "code",
   "execution_count": 80,
   "id": "EtljR3WRl_FH",
   "metadata": {
    "colab": {
     "base_uri": "https://localhost:8080/"
    },
    "executionInfo": {
     "elapsed": 8,
     "status": "ok",
     "timestamp": 1654605127759,
     "user": {
      "displayName": "생크림와플먹고싶다",
      "userId": "13048533309979940862"
     },
     "user_tz": -540
    },
    "id": "EtljR3WRl_FH",
    "outputId": "118b22a5-ca8b-41ff-8355-f8ff54fe3186"
   },
   "outputs": [
    {
     "name": "stderr",
     "output_type": "stream",
     "text": [
      "/usr/local/lib/python3.7/dist-packages/ipykernel_launcher.py:1: DeprecationWarning: Call to deprecated `similar_by_word` (Method will be removed in 4.0.0, use self.wv.similar_by_word() instead).\n",
      "  \"\"\"Entry point for launching an IPython kernel.\n"
     ]
    },
    {
     "data": {
      "text/plain": [
       "[('취미', 0.5857348442077637),\n",
       " ('유머', 0.5140613913536072),\n",
       " ('매력', 0.5105490684509277),\n",
       " ('흥미', 0.4988338351249695),\n",
       " ('공짜', 0.4960595667362213),\n",
       " ('일자리', 0.49294644594192505),\n",
       " ('즐거움', 0.48700767755508423),\n",
       " ('비애', 0.4836210310459137),\n",
       " ('관객', 0.48286449909210205),\n",
       " ('향수', 0.4823310971260071)]"
      ]
     },
     "execution_count": 80,
     "metadata": {},
     "output_type": "execute_result"
    }
   ],
   "source": [
    "temp_model.similar_by_word(\"재미\")"
   ]
  },
  {
   "cell_type": "code",
   "execution_count": 81,
   "id": "o_2_BBREl_Ax",
   "metadata": {
    "colab": {
     "base_uri": "https://localhost:8080/"
    },
    "executionInfo": {
     "elapsed": 14,
     "status": "ok",
     "timestamp": 1654605128388,
     "user": {
      "displayName": "생크림와플먹고싶다",
      "userId": "13048533309979940862"
     },
     "user_tz": -540
    },
    "id": "o_2_BBREl_Ax",
    "outputId": "0bb88c9f-0366-41c7-ad9f-4a9619eed50c"
   },
   "outputs": [
    {
     "name": "stderr",
     "output_type": "stream",
     "text": [
      "/usr/local/lib/python3.7/dist-packages/ipykernel_launcher.py:1: DeprecationWarning: Call to deprecated `similar_by_word` (Method will be removed in 4.0.0, use self.wv.similar_by_word() instead).\n",
      "  \"\"\"Entry point for launching an IPython kernel.\n"
     ]
    },
    {
     "data": {
      "text/plain": [
       "[('기쁨', 0.7767106294631958),\n",
       " ('절망', 0.7710496783256531),\n",
       " ('아픔', 0.7430999279022217),\n",
       " ('비탄', 0.7297681570053101),\n",
       " ('고독', 0.7251476049423218),\n",
       " ('사랑', 0.7216662168502808),\n",
       " ('외로움', 0.7195188999176025),\n",
       " ('추억', 0.6951203346252441),\n",
       " ('이별', 0.6873862147331238),\n",
       " ('괴로움', 0.6854110956192017)]"
      ]
     },
     "execution_count": 81,
     "metadata": {},
     "output_type": "execute_result"
    }
   ],
   "source": [
    "temp_model.similar_by_word(\"슬픔\")"
   ]
  },
  {
   "cell_type": "code",
   "execution_count": 82,
   "id": "FatUhocrl-wI",
   "metadata": {
    "colab": {
     "base_uri": "https://localhost:8080/"
    },
    "executionInfo": {
     "elapsed": 13,
     "status": "ok",
     "timestamp": 1654605128389,
     "user": {
      "displayName": "생크림와플먹고싶다",
      "userId": "13048533309979940862"
     },
     "user_tz": -540
    },
    "id": "FatUhocrl-wI",
    "outputId": "34a7378d-29df-419f-e453-b62fa11738ec"
   },
   "outputs": [
    {
     "name": "stderr",
     "output_type": "stream",
     "text": [
      "/usr/local/lib/python3.7/dist-packages/ipykernel_launcher.py:1: DeprecationWarning: Call to deprecated `similar_by_word` (Method will be removed in 4.0.0, use self.wv.similar_by_word() instead).\n",
      "  \"\"\"Entry point for launching an IPython kernel.\n"
     ]
    },
    {
     "data": {
      "text/plain": [
       "[('걸작', 0.7933748364448547),\n",
       " ('작품', 0.7375749945640564),\n",
       " ('대작', 0.686141848564148),\n",
       " ('희극', 0.6746902465820312),\n",
       " ('희곡', 0.674653947353363),\n",
       " ('거장', 0.6636549234390259),\n",
       " ('대표작', 0.6602857112884521),\n",
       " ('단편집', 0.6207208633422852),\n",
       " ('히트곡', 0.6082459688186646),\n",
       " ('가곡', 0.6028263568878174)]"
      ]
     },
     "execution_count": 82,
     "metadata": {},
     "output_type": "execute_result"
    }
   ],
   "source": [
    "temp_model.similar_by_word(\"명작\")"
   ]
  },
  {
   "cell_type": "code",
   "execution_count": 83,
   "id": "Vvrsu9-zmZD1",
   "metadata": {
    "colab": {
     "base_uri": "https://localhost:8080/"
    },
    "executionInfo": {
     "elapsed": 8,
     "status": "ok",
     "timestamp": 1654605128389,
     "user": {
      "displayName": "생크림와플먹고싶다",
      "userId": "13048533309979940862"
     },
     "user_tz": -540
    },
    "id": "Vvrsu9-zmZD1",
    "outputId": "c871660f-29fb-4993-d912-1e3fd8d10230"
   },
   "outputs": [
    {
     "name": "stderr",
     "output_type": "stream",
     "text": [
      "/usr/local/lib/python3.7/dist-packages/ipykernel_launcher.py:1: DeprecationWarning: Call to deprecated `similar_by_word` (Method will be removed in 4.0.0, use self.wv.similar_by_word() instead).\n",
      "  \"\"\"Entry point for launching an IPython kernel.\n"
     ]
    },
    {
     "data": {
      "text/plain": [
       "[('그다지', 0.516608476638794),\n",
       " ('지역별', 0.49092748761177063),\n",
       " ('전혀', 0.48824024200439453),\n",
       " ('각기', 0.4875951111316681),\n",
       " ('개별', 0.47797343134880066),\n",
       " ('따로', 0.4700734317302704),\n",
       " ('마다', 0.46785035729408264),\n",
       " ('별', 0.45661038160324097),\n",
       " ('딱히', 0.4535921812057495),\n",
       " ('다소', 0.43761277198791504)]"
      ]
     },
     "execution_count": 83,
     "metadata": {},
     "output_type": "execute_result"
    }
   ],
   "source": [
    "temp_model.similar_by_word(\"별로\")"
   ]
  },
  {
   "cell_type": "code",
   "execution_count": 84,
   "id": "87lEt0OTmbol",
   "metadata": {
    "colab": {
     "base_uri": "https://localhost:8080/"
    },
    "executionInfo": {
     "elapsed": 475,
     "status": "ok",
     "timestamp": 1654605131460,
     "user": {
      "displayName": "생크림와플먹고싶다",
      "userId": "13048533309979940862"
     },
     "user_tz": -540
    },
    "id": "87lEt0OTmbol",
    "outputId": "85726414-9b3f-440b-961e-3eb7716b164d"
   },
   "outputs": [
    {
     "name": "stderr",
     "output_type": "stream",
     "text": [
      "/usr/local/lib/python3.7/dist-packages/ipykernel_launcher.py:1: DeprecationWarning: Call to deprecated `similar_by_word` (Method will be removed in 4.0.0, use self.wv.similar_by_word() instead).\n",
      "  \"\"\"Entry point for launching an IPython kernel.\n"
     ]
    },
    {
     "data": {
      "text/plain": [
       "[('최대', 0.5721614360809326),\n",
       " ('최강', 0.5064552426338196),\n",
       " ('유일한', 0.46688494086265564),\n",
       " ('일류', 0.46184951066970825),\n",
       " ('최악', 0.4529539942741394),\n",
       " ('최연소', 0.45037323236465454),\n",
       " ('랭킹', 0.4485436677932739),\n",
       " ('제일의', 0.44647401571273804),\n",
       " ('최초', 0.44505739212036133),\n",
       " ('최상', 0.4345606565475464)]"
      ]
     },
     "execution_count": 84,
     "metadata": {},
     "output_type": "execute_result"
    }
   ],
   "source": [
    "temp_model.similar_by_word(\"최고\")"
   ]
  },
  {
   "cell_type": "markdown",
   "id": "58581835",
   "metadata": {},
   "source": [
    "자체학습한 임베딩과 사전학습 임베딩에 대해 gensim의 유사단어 찾기를 실행시킨 결과, 직접 모델을 빌드하여 사전학습시킨 임베딩보다는 Word2Vec가 훨씬 좋은 성능을 내는 것을 확인할 수 있었다. <br/>\n",
    "사전 학습을 진행한 3개의 모델에서는 LSTM이 가장 좋은 성능을 보였으며, RNN과 GlobalMaxPooling1D() 레이어 하나만 사용한 모델은 성능이 좋지 않은 것을 확인하였다."
   ]
  },
  {
   "cell_type": "markdown",
   "id": "030e1fde",
   "metadata": {},
   "source": [
    "<div style = \"height: 50px;\"></div>"
   ]
  },
  {
   "cell_type": "code",
   "execution_count": 85,
   "id": "uNN-6LtPmdnv",
   "metadata": {
    "colab": {
     "base_uri": "https://localhost:8080/"
    },
    "executionInfo": {
     "elapsed": 2,
     "status": "ok",
     "timestamp": 1654605132084,
     "user": {
      "displayName": "생크림와플먹고싶다",
      "userId": "13048533309979940862"
     },
     "user_tz": -540
    },
    "id": "uNN-6LtPmdnv",
    "outputId": "fb840c87-4fc0-4e17-bbbf-f43210d76ad2"
   },
   "outputs": [
    {
     "data": {
      "text/plain": [
       "array([0.68588699, 0.09331727, 0.21794494, 0.56966807, 0.81487768,\n",
       "       0.2962148 , 0.58478031, 0.99220869, 0.09811547, 0.75512786,\n",
       "       0.50625416, 0.05763827, 0.13410673, 0.16642366, 0.55333444,\n",
       "       0.60047343, 0.08561777, 0.31772257, 0.89304459, 0.61247502,\n",
       "       0.55384937, 0.71473184, 0.78233177, 0.51190861, 0.26118826,\n",
       "       0.20080462, 0.47625955, 0.43920573, 0.18279327, 0.69140103,\n",
       "       0.11382464, 0.70344011, 0.14287793, 0.93782769, 0.2742982 ,\n",
       "       0.69314121, 0.14902858, 0.99776671, 0.37213298, 0.51705063,\n",
       "       0.55366677, 0.72732243, 0.34115286, 0.20571257, 0.29750049,\n",
       "       0.79441121, 0.37765531, 0.49097294, 0.22091294, 0.41079522,\n",
       "       0.64373811, 0.19579707, 0.74639419, 0.92920132, 0.55582613,\n",
       "       0.50268808, 0.41619586, 0.65041187, 0.49593047, 0.28158577,\n",
       "       0.90661281, 0.57195667, 0.34068407, 0.8310956 , 0.03391548,\n",
       "       0.73381053, 0.64030516, 0.04408758, 0.09356224, 0.13107621,\n",
       "       0.77081954, 0.60241947, 0.96307051, 0.57299479, 0.44012221,\n",
       "       0.85027142, 0.36285505, 0.1776748 , 0.64846424, 0.79507799,\n",
       "       0.14670904, 0.04681396, 0.46436444, 0.77667724, 0.02618372,\n",
       "       0.30412372, 0.65855759, 0.16154212, 0.28215422, 0.58343724,\n",
       "       0.71117676, 0.32003882, 0.21722487, 0.66775969, 0.66631457,\n",
       "       0.38369518, 0.14204315, 0.58809601, 0.91309832, 0.18529227,\n",
       "       0.86319366, 0.41914607, 0.00504622, 0.69810581, 0.5125069 ,\n",
       "       0.3553949 , 0.30494524, 0.06886297, 0.80717108, 0.19185068,\n",
       "       0.30314708, 0.83113494, 0.84491095, 0.91990656, 0.66701533,\n",
       "       0.59259169, 0.75666924, 0.30115916, 0.02240085, 0.06895093,\n",
       "       0.23965439, 0.99982415, 0.33790203, 0.58608885, 0.07686018,\n",
       "       0.00773537, 0.34281952, 0.63857619, 0.62556454, 0.5725575 ,\n",
       "       0.71915619, 0.97961076, 0.15026857, 0.21292769, 0.06234927,\n",
       "       0.6237285 , 0.82997269, 0.69246912, 0.07623492, 0.3794465 ,\n",
       "       0.19044279, 0.6642411 , 0.94183538, 0.70237946, 0.2503783 ,\n",
       "       0.07543884, 0.51914966, 0.90312087, 0.40269162, 0.91597276,\n",
       "       0.07882796, 0.70664178, 0.76654586, 0.52461305, 0.69581817,\n",
       "       0.0878023 , 0.10577335, 0.15314687, 0.87882517, 0.78965957,\n",
       "       0.55965448, 0.01964312, 0.837463  , 0.27787964, 0.32896577,\n",
       "       0.90464016, 0.86322362, 0.82595777, 0.43283889, 0.38319194,\n",
       "       0.88976599, 0.21341657, 0.93006186, 0.99135122, 0.35781528,\n",
       "       0.95350302, 0.05024384, 0.92443384, 0.91925724, 0.29642648,\n",
       "       0.84300653, 0.68647433, 0.73294245, 0.78061982, 0.77711461,\n",
       "       0.44886506, 0.06448956, 0.10557267, 0.44262101, 0.23401876,\n",
       "       0.83899821, 0.77865015, 0.71397953, 0.11971829, 0.32556897,\n",
       "       0.16225659, 0.7007145 , 0.18359881, 0.62064062, 0.44770024])"
      ]
     },
     "execution_count": 85,
     "metadata": {},
     "output_type": "execute_result"
    }
   ],
   "source": [
    "word_vector_dim = 200\n",
    "\n",
    "embedding_matrix = np.random.rand(vocab_size, word_vector_dim)\n",
    "embedding_matrix[5]"
   ]
  },
  {
   "cell_type": "code",
   "execution_count": 86,
   "id": "D0F2noDUpUpT",
   "metadata": {
    "colab": {
     "base_uri": "https://localhost:8080/"
    },
    "executionInfo": {
     "elapsed": 477,
     "status": "ok",
     "timestamp": 1654605138922,
     "user": {
      "displayName": "생크림와플먹고싶다",
      "userId": "13048533309979940862"
     },
     "user_tz": -540
    },
    "id": "D0F2noDUpUpT",
    "outputId": "dcc69bbe-3a63-4b12-b8b3-4d3c15678bf3"
   },
   "outputs": [
    {
     "name": "stderr",
     "output_type": "stream",
     "text": [
      "/usr/local/lib/python3.7/dist-packages/ipykernel_launcher.py:3: DeprecationWarning: Call to deprecated `__contains__` (Method will be removed in 4.0.0, use self.wv.__contains__() instead).\n",
      "  This is separate from the ipykernel package so we can avoid doing imports until\n",
      "/usr/local/lib/python3.7/dist-packages/ipykernel_launcher.py:4: DeprecationWarning: Call to deprecated `__getitem__` (Method will be removed in 4.0.0, use self.wv.__getitem__() instead).\n",
      "  after removing the cwd from sys.path.\n"
     ]
    },
    {
     "data": {
      "text/plain": [
       "array([-1.75778365, -1.08742785,  1.53008664, -0.1115231 , -0.37980682,\n",
       "        1.48285174,  1.31804192,  0.11094163,  0.7430535 , -0.45461136,\n",
       "        0.58841336,  0.57639128,  1.21070695,  1.31327951, -0.86962503,\n",
       "       -0.18507595, -0.47440064,  1.51007247,  1.09657943,  1.06008232,\n",
       "       -0.27457932, -0.70003706,  2.31175113,  1.49448836,  0.25560892,\n",
       "       -2.86665893, -0.28312334,  0.34263936, -0.67723423,  0.71714777,\n",
       "        0.25549442,  0.71732044, -0.13262457,  0.01792452, -0.31847739,\n",
       "        0.5271619 ,  0.7561084 , -2.12470651,  1.06142902, -0.21065854,\n",
       "        0.68773431, -1.49563825,  0.60346967, -2.6955893 ,  0.37694618,\n",
       "       -1.01641846,  0.54306632,  0.1200121 , -2.63157177,  0.62167418,\n",
       "        1.15839756, -2.53859615,  1.32631195, -0.10284371, -0.0286147 ,\n",
       "       -0.91329467,  0.76475638,  0.79202783, -1.86259568, -0.74183953,\n",
       "        0.58842772, -0.99179918, -0.62114453,  1.53678155, -0.66289389,\n",
       "        0.67121029,  0.12914915,  0.21228492,  0.90176553, -0.25083402,\n",
       "        0.71500814,  0.08644514,  0.59993285,  0.57661372,  0.64095974,\n",
       "        0.47888306, -2.84262133, -2.85026813, -0.140544  , -1.59173644,\n",
       "        0.26691505,  0.59476066,  0.85868204,  1.03223515,  0.25671318,\n",
       "       -0.34831643,  1.75292695, -0.21967097, -0.77352476,  1.6995213 ,\n",
       "        1.39964914, -0.94198358,  0.85996443, -1.88128757, -2.54286051,\n",
       "        0.39351937, -1.28828049,  0.56548136,  1.00627303,  1.22175848,\n",
       "        3.57447934,  1.71773696,  1.69171584, -2.21769047, -0.31674469,\n",
       "        1.24489999, -1.25528395, -2.15396523, -1.09670901, -0.74976933,\n",
       "       -0.16744931, -1.85072327,  2.18610358, -0.05389732,  1.03803301,\n",
       "        0.33730686, -1.46470749, -1.26404095,  0.25509247,  0.0622906 ,\n",
       "        0.27852032, -0.52661455,  0.8529616 ,  0.58257025, -0.57665855,\n",
       "        1.39906311,  0.28237963,  1.65660369,  1.99121034,  0.63888913,\n",
       "        0.77324259, -1.37577236,  0.17209321, -0.2433672 ,  0.63282913,\n",
       "        1.48697102,  2.34353542, -1.70379281,  3.19445586, -1.90496063,\n",
       "       -0.51309574,  0.79082954, -1.44803131, -0.68631476,  0.62008876,\n",
       "       -2.34002233, -0.5785594 ,  0.52706939,  3.00616074, -1.36615109,\n",
       "       -2.79532719, -1.17940307, -0.27734265,  0.71130925, -0.06620383,\n",
       "        0.33663416,  0.72049969, -0.92321801, -2.16032648, -0.89048958,\n",
       "       -1.41371119, -0.41891441,  0.42834592,  1.81048751, -1.82744563,\n",
       "       -0.26700613,  0.7743727 ,  0.80048114,  1.1333636 ,  3.27469778,\n",
       "       -0.0188297 ,  0.92457372, -0.1246058 , -0.58028609, -0.01926111,\n",
       "        1.05892003, -1.42478561,  1.06891561,  2.57287121, -1.29488206,\n",
       "        0.74771804,  1.30669165, -1.32134306,  1.6501019 , -0.12401557,\n",
       "        0.96340084,  0.26050946,  1.38263357, -0.02877662,  2.34315634,\n",
       "       -0.26337367,  1.91620123, -0.77454543,  1.73926425,  0.08038983,\n",
       "       -0.60325927,  0.29508227,  0.48126751,  0.52710861,  0.94171894])"
      ]
     },
     "execution_count": 86,
     "metadata": {},
     "output_type": "execute_result"
    }
   ],
   "source": [
    "# embedding_matrix에 temp_model 워드 벡터를 단어 하나씩마다 차례차례 카피한다.\n",
    "for i in range(4, vocab_size):\n",
    "    if index_to_word[i] in temp_model:\n",
    "        embedding_matrix[i] = temp_model[index_to_word[i]]\n",
    "\n",
    "embedding_matrix[5]"
   ]
  },
  {
   "cell_type": "markdown",
   "id": "a70df8a0",
   "metadata": {},
   "source": [
    "<div style = \"height: 50px;\"></div>"
   ]
  },
  {
   "cell_type": "markdown",
   "id": "1oH12z5LV0my",
   "metadata": {
    "id": "1oH12z5LV0my"
   },
   "source": [
    "## 1. VGG16 모방하여 감정 분석 진행해보기\n",
    "<hr/>"
   ]
  },
  {
   "cell_type": "code",
   "execution_count": 136,
   "id": "UqPfOOSjpUcD",
   "metadata": {
    "colab": {
     "base_uri": "https://localhost:8080/"
    },
    "executionInfo": {
     "elapsed": 567,
     "status": "ok",
     "timestamp": 1654608195659,
     "user": {
      "displayName": "생크림와플먹고싶다",
      "userId": "13048533309979940862"
     },
     "user_tz": -540
    },
    "id": "UqPfOOSjpUcD",
    "outputId": "df6b6f92-817d-4392-92b0-c1f5032cc189"
   },
   "outputs": [
    {
     "name": "stdout",
     "output_type": "stream",
     "text": [
      "Model: \"sequential_21\"\n",
      "_________________________________________________________________\n",
      " Layer (type)                Output Shape              Param #   \n",
      "=================================================================\n",
      " embedding_22 (Embedding)    (None, 60, 200)           1999400   \n",
      "                                                                 \n",
      " conv1d_40 (Conv1D)          (None, 58, 16)            9616      \n",
      "                                                                 \n",
      " conv1d_41 (Conv1D)          (None, 56, 16)            784       \n",
      "                                                                 \n",
      " conv1d_42 (Conv1D)          (None, 54, 16)            784       \n",
      "                                                                 \n",
      " max_pooling1d_17 (MaxPoolin  (None, 27, 16)           0         \n",
      " g1D)                                                            \n",
      "                                                                 \n",
      " conv1d_43 (Conv1D)          (None, 25, 8)             392       \n",
      "                                                                 \n",
      " conv1d_44 (Conv1D)          (None, 23, 8)             200       \n",
      "                                                                 \n",
      " conv1d_45 (Conv1D)          (None, 21, 8)             200       \n",
      "                                                                 \n",
      " max_pooling1d_18 (MaxPoolin  (None, 10, 8)            0         \n",
      " g1D)                                                            \n",
      "                                                                 \n",
      " conv1d_46 (Conv1D)          (None, 8, 16)             400       \n",
      "                                                                 \n",
      " conv1d_47 (Conv1D)          (None, 6, 16)             784       \n",
      "                                                                 \n",
      " conv1d_48 (Conv1D)          (None, 4, 16)             784       \n",
      "                                                                 \n",
      " max_pooling1d_19 (MaxPoolin  (None, 2, 16)            0         \n",
      " g1D)                                                            \n",
      "                                                                 \n",
      " flatten_1 (Flatten)         (None, 32)                0         \n",
      "                                                                 \n",
      " dense_38 (Dense)            (None, 16)                528       \n",
      "                                                                 \n",
      " dropout_6 (Dropout)         (None, 16)                0         \n",
      "                                                                 \n",
      " dense_39 (Dense)            (None, 8)                 136       \n",
      "                                                                 \n",
      " dropout_7 (Dropout)         (None, 8)                 0         \n",
      "                                                                 \n",
      " dense_40 (Dense)            (None, 1)                 9         \n",
      "                                                                 \n",
      "=================================================================\n",
      "Total params: 2,014,017\n",
      "Trainable params: 2,014,017\n",
      "Non-trainable params: 0\n",
      "_________________________________________________________________\n"
     ]
    }
   ],
   "source": [
    "vocab_size = len(word_to_index)\n",
    "word_vector_dim = 200\n",
    "\n",
    "temp_model = tf.keras.Sequential()\n",
    "temp_model.add(tf.keras.layers.Embedding(vocab_size, \n",
    "                                 word_vector_dim, \n",
    "                                 embeddings_initializer = Constant(embedding_matrix),  # 카피한 임베딩을 여기서 활용\n",
    "                                 input_length = 60, \n",
    "                                 trainable = True))   # trainable을 True로 주면 Fine-tuning\n",
    "\n",
    "temp_model.add(tf.keras.layers.Conv1D(16, 3, activation = 'relu'))\n",
    "temp_model.add(tf.keras.layers.Conv1D(16, 3, activation = 'relu'))\n",
    "temp_model.add(tf.keras.layers.Conv1D(16, 3, activation = 'relu'))\n",
    "temp_model.add(tf.keras.layers.MaxPooling1D())\n",
    "\n",
    "temp_model.add(tf.keras.layers.Conv1D(8, 3, activation = 'relu'))\n",
    "temp_model.add(tf.keras.layers.Conv1D(8, 3, activation = 'relu'))\n",
    "temp_model.add(tf.keras.layers.Conv1D(8, 3, activation = 'relu'))\n",
    "temp_model.add(tf.keras.layers.MaxPooling1D())\n",
    "\n",
    "temp_model.add(tf.keras.layers.Conv1D(16, 3, activation = 'relu'))\n",
    "temp_model.add(tf.keras.layers.Conv1D(16, 3, activation = 'relu'))\n",
    "temp_model.add(tf.keras.layers.Conv1D(16, 3, activation = 'relu'))\n",
    "temp_model.add(tf.keras.layers.MaxPooling1D())\n",
    "\n",
    "temp_model.add(tf.keras.layers.Flatten())\n",
    "\n",
    "temp_model.add(tf.keras.layers.Dense(16, activation = 'relu'))\n",
    "temp_model.add(tf.keras.layers.Dropout(0.3))\n",
    "\n",
    "temp_model.add(tf.keras.layers.Dense(8, activation = 'relu'))\n",
    "temp_model.add(tf.keras.layers.Dropout(0.3))\n",
    "\n",
    "temp_model.add(tf.keras.layers.Dense(1, activation = 'sigmoid')) # 최종 출력 = 긍정/부정을 나타내는 1dim \n",
    "temp_model.summary()"
   ]
  },
  {
   "cell_type": "code",
   "execution_count": 137,
   "id": "f8jvhO3xpUWR",
   "metadata": {
    "colab": {
     "base_uri": "https://localhost:8080/"
    },
    "executionInfo": {
     "elapsed": 76730,
     "status": "ok",
     "timestamp": 1654608276640,
     "user": {
      "displayName": "생크림와플먹고싶다",
      "userId": "13048533309979940862"
     },
     "user_tz": -540
    },
    "id": "f8jvhO3xpUWR",
    "outputId": "cebf4894-0a9a-43ad-cee8-cde36b83d253"
   },
   "outputs": [
    {
     "name": "stdout",
     "output_type": "stream",
     "text": [
      "Epoch 1/10\n",
      "964/964 [==============================] - 9s 8ms/step - loss: 0.5450 - accuracy: 0.7239 - val_loss: 0.4269 - val_accuracy: 0.8136\n",
      "Epoch 2/10\n",
      "964/964 [==============================] - 7s 8ms/step - loss: 0.4103 - accuracy: 0.8300 - val_loss: 0.3592 - val_accuracy: 0.8451\n",
      "Epoch 3/10\n",
      "964/964 [==============================] - 7s 7ms/step - loss: 0.3594 - accuracy: 0.8556 - val_loss: 0.3449 - val_accuracy: 0.8508\n",
      "Epoch 4/10\n",
      "964/964 [==============================] - 7s 7ms/step - loss: 0.3339 - accuracy: 0.8695 - val_loss: 0.3411 - val_accuracy: 0.8541\n",
      "Epoch 5/10\n",
      "964/964 [==============================] - 7s 7ms/step - loss: 0.3124 - accuracy: 0.8785 - val_loss: 0.3319 - val_accuracy: 0.8590\n",
      "Epoch 6/10\n",
      "964/964 [==============================] - 7s 7ms/step - loss: 0.2970 - accuracy: 0.8846 - val_loss: 0.3489 - val_accuracy: 0.8574\n",
      "Epoch 7/10\n",
      "964/964 [==============================] - 8s 8ms/step - loss: 0.2806 - accuracy: 0.8937 - val_loss: 0.3453 - val_accuracy: 0.8559\n",
      "Epoch 8/10\n",
      "964/964 [==============================] - 8s 8ms/step - loss: 0.2692 - accuracy: 0.8975 - val_loss: 0.3436 - val_accuracy: 0.8574\n",
      "Epoch 9/10\n",
      "964/964 [==============================] - 8s 8ms/step - loss: 0.2515 - accuracy: 0.9043 - val_loss: 0.3601 - val_accuracy: 0.8562\n",
      "Epoch 10/10\n",
      "964/964 [==============================] - 8s 9ms/step - loss: 0.2381 - accuracy: 0.9101 - val_loss: 0.3798 - val_accuracy: 0.8560\n"
     ]
    }
   ],
   "source": [
    "temp_model.compile(optimizer = 'adam', \n",
    "              loss = 'binary_crossentropy',\n",
    "              metrics = ['accuracy'])\n",
    "epochs = 10\n",
    "\n",
    "temp_history = temp_model.fit(partial_x_train, partial_y_train,\n",
    "                    epochs = epochs,\n",
    "                    batch_size = 120,\n",
    "                    validation_data = (x_validation, y_validation),\n",
    "                    verbose = 1)"
   ]
  },
  {
   "cell_type": "markdown",
   "id": "27c3303e",
   "metadata": {},
   "source": [
    "<div style = \"height: 50px;\"></div>"
   ]
  },
  {
   "cell_type": "markdown",
   "id": "77122610",
   "metadata": {},
   "source": [
    "### 결과"
   ]
  },
  {
   "cell_type": "code",
   "execution_count": 135,
   "id": "MuMb8DKNpUQd",
   "metadata": {
    "colab": {
     "base_uri": "https://localhost:8080/"
    },
    "executionInfo": {
     "elapsed": 3823,
     "status": "ok",
     "timestamp": 1654608044290,
     "user": {
      "displayName": "생크림와플먹고싶다",
      "userId": "13048533309979940862"
     },
     "user_tz": -540
    },
    "id": "MuMb8DKNpUQd",
    "outputId": "d2e02bd2-d63c-4358-cbb9-26431c216601"
   },
   "outputs": [
    {
     "name": "stdout",
     "output_type": "stream",
     "text": [
      "1518/1518 - 3s - loss: 0.4089 - accuracy: 0.8436 - 3s/epoch - 2ms/step\n",
      "[0.40885138511657715, 0.8435987830162048]\n"
     ]
    }
   ],
   "source": [
    "temp_results = temp_model.evaluate(X_test_pad,  np.array(y_test_max_len), verbose=2)\n",
    "\n",
    "print(temp_results)"
   ]
  },
  {
   "cell_type": "markdown",
   "id": "1dba7542",
   "metadata": {},
   "source": [
    "<div style = \"height: 50px;\"></div>"
   ]
  },
  {
   "cell_type": "markdown",
   "id": "HZ_YbGrG-Az4",
   "metadata": {
    "id": "HZ_YbGrG-Az4"
   },
   "source": [
    "## 2. LSTM 여러층 쌓아 감정분석 진행해보기\n",
    "<hr/>"
   ]
  },
  {
   "cell_type": "code",
   "execution_count": 149,
   "id": "SaAQsk3VpUHR",
   "metadata": {
    "colab": {
     "base_uri": "https://localhost:8080/"
    },
    "executionInfo": {
     "elapsed": 1711,
     "status": "ok",
     "timestamp": 1654608837480,
     "user": {
      "displayName": "생크림와플먹고싶다",
      "userId": "13048533309979940862"
     },
     "user_tz": -540
    },
    "id": "SaAQsk3VpUHR",
    "outputId": "562cd868-1cc4-4551-f191-880d446194ba"
   },
   "outputs": [
    {
     "name": "stdout",
     "output_type": "stream",
     "text": [
      "Model: \"sequential_31\"\n",
      "_________________________________________________________________\n",
      " Layer (type)                Output Shape              Param #   \n",
      "=================================================================\n",
      " embedding_32 (Embedding)    (None, 60, 200)           1999400   \n",
      "                                                                 \n",
      " lstm_26 (LSTM)              (None, 60, 16)            13888     \n",
      "                                                                 \n",
      " lstm_27 (LSTM)              (None, 60, 16)            2112      \n",
      "                                                                 \n",
      " lstm_28 (LSTM)              (None, 16)                2112      \n",
      "                                                                 \n",
      " dense_53 (Dense)            (None, 16)                272       \n",
      "                                                                 \n",
      " dense_54 (Dense)            (None, 1)                 17        \n",
      "                                                                 \n",
      "=================================================================\n",
      "Total params: 2,017,801\n",
      "Trainable params: 2,017,801\n",
      "Non-trainable params: 0\n",
      "_________________________________________________________________\n"
     ]
    }
   ],
   "source": [
    "vocab_size = len(word_to_index)\n",
    "word_vector_dim = 200\n",
    "\n",
    "temp_model = tf.keras.Sequential()\n",
    "temp_model.add(tf.keras.layers.Embedding(vocab_size, \n",
    "                                 word_vector_dim, \n",
    "                                 embeddings_initializer = Constant(embedding_matrix),  # 카피한 임베딩을 여기서 활용\n",
    "                                 input_length = 60, \n",
    "                                 trainable = True))   # trainable을 True로 주면 Fine-tuning\n",
    "\n",
    "temp_model.add(tf.keras.layers.LSTM(16, return_sequences = True))\n",
    "temp_model.add(tf.keras.layers.LSTM(16, return_sequences = True))\n",
    "temp_model.add(tf.keras.layers.LSTM(16))\n",
    "temp_model.add(tf.keras.layers.Dense(16, activation = 'relu'))\n",
    "temp_model.add(tf.keras.layers.Dense(1, activation = 'sigmoid')) # 최종 출력 = 긍정/부정을 나타내는 1dim \n",
    "temp_model.summary()"
   ]
  },
  {
   "cell_type": "code",
   "execution_count": 150,
   "id": "anhtCKyLpT1Y",
   "metadata": {
    "colab": {
     "base_uri": "https://localhost:8080/"
    },
    "executionInfo": {
     "elapsed": 54364,
     "status": "ok",
     "timestamp": 1654608891828,
     "user": {
      "displayName": "생크림와플먹고싶다",
      "userId": "13048533309979940862"
     },
     "user_tz": -540
    },
    "id": "anhtCKyLpT1Y",
    "outputId": "ff96a295-b8cc-44b7-8b75-6298994ae073"
   },
   "outputs": [
    {
     "name": "stdout",
     "output_type": "stream",
     "text": [
      "Epoch 1/4\n",
      "964/964 [==============================] - 18s 14ms/step - loss: 0.5222 - accuracy: 0.7133 - val_loss: 0.3963 - val_accuracy: 0.8309\n",
      "Epoch 2/4\n",
      "964/964 [==============================] - 12s 12ms/step - loss: 0.3415 - accuracy: 0.8533 - val_loss: 0.3315 - val_accuracy: 0.8551\n",
      "Epoch 3/4\n",
      "964/964 [==============================] - 12s 13ms/step - loss: 0.2972 - accuracy: 0.8753 - val_loss: 0.3294 - val_accuracy: 0.8597\n",
      "Epoch 4/4\n",
      "964/964 [==============================] - 12s 13ms/step - loss: 0.2713 - accuracy: 0.8877 - val_loss: 0.3213 - val_accuracy: 0.8606\n"
     ]
    }
   ],
   "source": [
    "temp_model.compile(optimizer = 'adam', \n",
    "              loss = 'binary_crossentropy',\n",
    "              metrics = ['accuracy'])\n",
    "epochs = 4\n",
    "\n",
    "temp_history = temp_model.fit(partial_x_train, partial_y_train,\n",
    "                    epochs = epochs,\n",
    "                    batch_size = 120,\n",
    "                    validation_data = (x_validation, y_validation),\n",
    "                    verbose = 1)"
   ]
  },
  {
   "cell_type": "markdown",
   "id": "596c9516",
   "metadata": {},
   "source": [
    "<div style = \"height: 50px;\"></div>"
   ]
  },
  {
   "cell_type": "markdown",
   "id": "01c944fe",
   "metadata": {},
   "source": [
    "### 결과"
   ]
  },
  {
   "cell_type": "code",
   "execution_count": 151,
   "id": "iv-W5l2RV_l-",
   "metadata": {
    "colab": {
     "base_uri": "https://localhost:8080/"
    },
    "executionInfo": {
     "elapsed": 7418,
     "status": "ok",
     "timestamp": 1654608986886,
     "user": {
      "displayName": "생크림와플먹고싶다",
      "userId": "13048533309979940862"
     },
     "user_tz": -540
    },
    "id": "iv-W5l2RV_l-",
    "outputId": "adb8f2ff-4fe2-4111-b162-6e61c5df17a8"
   },
   "outputs": [
    {
     "name": "stdout",
     "output_type": "stream",
     "text": [
      "1518/1518 - 6s - loss: 0.3318 - accuracy: 0.8569 - 6s/epoch - 4ms/step\n",
      "[0.33184346556663513, 0.8568604588508606]\n"
     ]
    }
   ],
   "source": [
    "temp_results = temp_model.evaluate(X_test_pad,  np.array(y_test_max_len), verbose=2)\n",
    "\n",
    "print(temp_results)"
   ]
  },
  {
   "cell_type": "markdown",
   "id": "b3a74529",
   "metadata": {},
   "source": [
    "<div style = \"height: 50px;\"></div>"
   ]
  },
  {
   "cell_type": "markdown",
   "id": "5b324b45",
   "metadata": {},
   "source": [
    "### 학습된 Embedding 레이어 분석"
   ]
  },
  {
   "cell_type": "code",
   "execution_count": 152,
   "id": "jv-QBZWGaNlr",
   "metadata": {
    "colab": {
     "base_uri": "https://localhost:8080/"
    },
    "executionInfo": {
     "elapsed": 531,
     "status": "ok",
     "timestamp": 1654609532661,
     "user": {
      "displayName": "생크림와플먹고싶다",
      "userId": "13048533309979940862"
     },
     "user_tz": -540
    },
    "id": "jv-QBZWGaNlr",
    "outputId": "883b8bbf-388c-4bda-f7af-8f0456425d95"
   },
   "outputs": [
    {
     "name": "stdout",
     "output_type": "stream",
     "text": [
      "(9997, 200)\n"
     ]
    }
   ],
   "source": [
    "temp_embedding_layer = temp_model.layers[0]\n",
    "temp_weights = temp_embedding_layer.get_weights()[0]\n",
    "print(temp_weights.shape)"
   ]
  },
  {
   "cell_type": "code",
   "execution_count": 153,
   "id": "9prh9lCnaN4p",
   "metadata": {
    "executionInfo": {
     "elapsed": 1624,
     "status": "ok",
     "timestamp": 1654609565003,
     "user": {
      "displayName": "생크림와플먹고싶다",
      "userId": "13048533309979940862"
     },
     "user_tz": -540
    },
    "id": "9prh9lCnaN4p"
   },
   "outputs": [],
   "source": [
    "# 학습한 Embedding 파라미터를 파일로 저장\n",
    "temp_word2vec_file_path = '/content/drive/MyDrive/Colab Notebooks/ex09/ex_data/temp_word2vec.txt'\n",
    "f = open(temp_word2vec_file_path, 'w')\n",
    "f.write('{} {}\\n'.format(vocab_size-4, word_vector_dim))\n",
    "\n",
    "# 단어 개수(에서 특수문자 4개는 제외하고)만큼의 워드 벡터를 파일에 기록합니다. \n",
    "temp_vectors = temp_model.get_weights()[0]\n",
    "for i in range(4, vocab_size):\n",
    "    f.write('{} {}\\n'.format(index_to_word[i], ' '.join(map(str, list(temp_vectors[i, :])))))\n",
    "f.close()"
   ]
  },
  {
   "cell_type": "code",
   "execution_count": 155,
   "id": "8f9Wx_BYaN8q",
   "metadata": {
    "executionInfo": {
     "elapsed": 1870,
     "status": "ok",
     "timestamp": 1654609653280,
     "user": {
      "displayName": "생크림와플먹고싶다",
      "userId": "13048533309979940862"
     },
     "user_tz": -540
    },
    "id": "8f9Wx_BYaN8q"
   },
   "outputs": [],
   "source": [
    "temp_word_vectors = Word2VecKeyedVectors.load_word2vec_format(temp_word2vec_file_path, binary = False)"
   ]
  },
  {
   "cell_type": "code",
   "execution_count": 156,
   "id": "0BtdeAykaOAm",
   "metadata": {
    "colab": {
     "base_uri": "https://localhost:8080/"
    },
    "executionInfo": {
     "elapsed": 734,
     "status": "ok",
     "timestamp": 1654609685229,
     "user": {
      "displayName": "생크림와플먹고싶다",
      "userId": "13048533309979940862"
     },
     "user_tz": -540
    },
    "id": "0BtdeAykaOAm",
    "outputId": "3c3898d3-6bbb-451a-f559-9dafcdbac054"
   },
   "outputs": [
    {
     "data": {
      "text/plain": [
       "[('정말로', 0.582981288433075),\n",
       " ('가짜', 0.5820661783218384),\n",
       " ('바보', 0.5626885294914246),\n",
       " ('엄마', 0.5129547715187073),\n",
       " ('당신', 0.5070330500602722),\n",
       " ('아빠', 0.5048729181289673),\n",
       " ('그저', 0.5038304328918457),\n",
       " ('누군가', 0.4901996850967407),\n",
       " ('강아지', 0.48825183510780334),\n",
       " ('정말', 0.48797839879989624)]"
      ]
     },
     "execution_count": 156,
     "metadata": {},
     "output_type": "execute_result"
    }
   ],
   "source": [
    "temp_word_vectors.similar_by_word('진짜')"
   ]
  },
  {
   "cell_type": "code",
   "execution_count": 157,
   "id": "9l-BwQC5aOFK",
   "metadata": {
    "colab": {
     "base_uri": "https://localhost:8080/"
    },
    "executionInfo": {
     "elapsed": 21,
     "status": "ok",
     "timestamp": 1654609685927,
     "user": {
      "displayName": "생크림와플먹고싶다",
      "userId": "13048533309979940862"
     },
     "user_tz": -540
    },
    "id": "9l-BwQC5aOFK",
    "outputId": "c7db6d72-4b83-4f00-eaeb-ffe17d85eea2"
   },
   "outputs": [
    {
     "data": {
      "text/plain": [
       "[('정말로', 0.673784077167511),\n",
       " ('솔직히', 0.6690795421600342),\n",
       " ('...', 0.6489027738571167),\n",
       " ('과연', 0.6488072872161865),\n",
       " ('..', 0.6378191113471985),\n",
       " ('뭐', 0.6265265345573425),\n",
       " ('자꾸', 0.6079713106155396),\n",
       " ('굉장히', 0.6017631888389587),\n",
       " ('아무래도', 0.6010169982910156),\n",
       " ('아무리', 0.5911595821380615)]"
      ]
     },
     "execution_count": 157,
     "metadata": {},
     "output_type": "execute_result"
    }
   ],
   "source": [
    "temp_word_vectors.similar_by_word('정말')"
   ]
  },
  {
   "cell_type": "code",
   "execution_count": 158,
   "id": "SdbOl9rhaOIZ",
   "metadata": {
    "colab": {
     "base_uri": "https://localhost:8080/"
    },
    "executionInfo": {
     "elapsed": 19,
     "status": "ok",
     "timestamp": 1654609685928,
     "user": {
      "displayName": "생크림와플먹고싶다",
      "userId": "13048533309979940862"
     },
     "user_tz": -540
    },
    "id": "SdbOl9rhaOIZ",
    "outputId": "92ebd1d1-cd33-4fee-f25b-2d854579feef"
   },
   "outputs": [
    {
     "data": {
      "text/plain": [
       "[('최대', 0.5529735088348389),\n",
       " ('최강', 0.522979736328125),\n",
       " ('최상', 0.4633161127567291),\n",
       " ('최초', 0.4546487033367157),\n",
       " ('올해', 0.4348379075527191),\n",
       " ('손꼽히', 0.4296540319919586),\n",
       " ('역대', 0.42244046926498413),\n",
       " ('일류', 0.4027862846851349),\n",
       " ('최상급', 0.39574480056762695),\n",
       " ('총', 0.38743454217910767)]"
      ]
     },
     "execution_count": 158,
     "metadata": {},
     "output_type": "execute_result"
    }
   ],
   "source": [
    "temp_word_vectors.similar_by_word('최고')"
   ]
  },
  {
   "cell_type": "code",
   "execution_count": 159,
   "id": "U0Uvh7M7a-Vk",
   "metadata": {
    "colab": {
     "base_uri": "https://localhost:8080/"
    },
    "executionInfo": {
     "elapsed": 14,
     "status": "ok",
     "timestamp": 1654609685928,
     "user": {
      "displayName": "생크림와플먹고싶다",
      "userId": "13048533309979940862"
     },
     "user_tz": -540
    },
    "id": "U0Uvh7M7a-Vk",
    "outputId": "7b885d40-b42f-44a3-b4c4-00dcbbb23636"
   },
   "outputs": [
    {
     "data": {
      "text/plain": [
       "[('그다지', 0.5163819789886475),\n",
       " ('딱히', 0.4898771643638611),\n",
       " ('전혀', 0.47846031188964844),\n",
       " ('따로', 0.47782137989997864),\n",
       " ('별', 0.4651632010936737),\n",
       " ('마다', 0.4591085910797119),\n",
       " ('별반', 0.4519929885864258),\n",
       " ('각', 0.432829886674881),\n",
       " ('다소', 0.4140284061431885),\n",
       " ('아예', 0.3968393802642822)]"
      ]
     },
     "execution_count": 159,
     "metadata": {},
     "output_type": "execute_result"
    }
   ],
   "source": [
    "temp_word_vectors.similar_by_word('별로')"
   ]
  },
  {
   "cell_type": "code",
   "execution_count": 160,
   "id": "Z1Hc2fxSa-ae",
   "metadata": {
    "colab": {
     "base_uri": "https://localhost:8080/"
    },
    "executionInfo": {
     "elapsed": 9,
     "status": "ok",
     "timestamp": 1654609685928,
     "user": {
      "displayName": "생크림와플먹고싶다",
      "userId": "13048533309979940862"
     },
     "user_tz": -540
    },
    "id": "Z1Hc2fxSa-ae",
    "outputId": "d18bbd81-a914-462d-b1df-21b275e6b415"
   },
   "outputs": [
    {
     "data": {
      "text/plain": [
       "[('초콜릿', 0.7135939002037048),\n",
       " ('햄버거', 0.7068703770637512),\n",
       " ('과자', 0.6726664304733276),\n",
       " ('피자', 0.6706809401512146),\n",
       " ('브레드', 0.6690836548805237),\n",
       " ('커피', 0.6684221029281616),\n",
       " ('껌', 0.6581048965454102),\n",
       " ('잼', 0.6460750102996826),\n",
       " ('당근', 0.6397628784179688),\n",
       " ('감자', 0.634341835975647)]"
      ]
     },
     "execution_count": 160,
     "metadata": {},
     "output_type": "execute_result"
    }
   ],
   "source": [
    "temp_word_vectors.similar_by_word('치킨')"
   ]
  },
  {
   "cell_type": "markdown",
   "id": "8e8cdd99",
   "metadata": {},
   "source": [
    "한국어 Word2Vec을 활용하여 LSTM 모델로 감정분석을 진행한 결과, 대체로 유사 단어를 잘 찾아낸 것을 확인하였다."
   ]
  },
  {
   "cell_type": "markdown",
   "id": "a91e01f1",
   "metadata": {},
   "source": [
    "<div style = \"height: 50px;\"></div>"
   ]
  },
  {
   "cell_type": "markdown",
   "id": "548ae7de",
   "metadata": {},
   "source": [
    "## 회고"
   ]
  },
  {
   "cell_type": "markdown",
   "id": "4d80632b",
   "metadata": {},
   "source": [
    "## 1. 새로 배운점\n",
    "<hr/>"
   ]
  },
  {
   "cell_type": "markdown",
   "id": "b0bad8ef",
   "metadata": {},
   "source": [
    "### LSTM 여러층 쌓는 방법"
   ]
  },
  {
   "cell_type": "code",
   "execution_count": null,
   "id": "382ac6b5",
   "metadata": {},
   "outputs": [],
   "source": [
    "# 예시\n",
    "temp_model.add(tf.keras.layers.LSTM(16, return_sequences = True))\n",
    "temp_model.add(tf.keras.layers.LSTM(16, return_sequences = True))\n",
    "temp_model.add(tf.keras.layers.LSTM(16))\n",
    "temp_model.add(tf.keras.layers.Dense(16, activation = 'relu'))\n",
    "temp_model.add(tf.keras.layers.Dense(1, activation = 'sigmoid'))\n",
    "temp_model.summary()"
   ]
  },
  {
   "cell_type": "markdown",
   "id": "28c31f24",
   "metadata": {},
   "source": [
    "LSTM의 파라미터로 return_sequences = True를 주면, Output Shape가 3차원으로 바뀌게 되며, 다음 층에 LSTM을 더 쌓을 수 있게 된다."
   ]
  },
  {
   "cell_type": "markdown",
   "id": "8b3cfe4a",
   "metadata": {},
   "source": [
    "Dense의 인풋 shape는 몇차원이던 상관 없으므로 Dense 전의 LSTM 층에는 return_sequences파라미터를 지정하지 않고 주었다.<br/>\n",
    "input_shape나 input_dim 등을 사용하여 입력 데이터를 조정할 시에는 차원 과 shape를 고려해야한다."
   ]
  },
  {
   "cell_type": "markdown",
   "id": "8e4a9cc8",
   "metadata": {},
   "source": [
    "#### Dense 파라미터\n",
    "- units = 아웃풋 개수 \n",
    "- activation = 활성화 함수\n",
    "- input_shape = 입력 값의 shape 지정\n",
    "- output_shape = 출력 값의 shape 지정<br/>\n",
    "..."
   ]
  },
  {
   "cell_type": "markdown",
   "id": "3610d3ce",
   "metadata": {},
   "source": [
    "<div style = \"height: 50px;\"></div>"
   ]
  },
  {
   "cell_type": "markdown",
   "id": "1c101dd4",
   "metadata": {},
   "source": [
    "## 2. 느낀점\n",
    "<hr/>"
   ]
  },
  {
   "cell_type": "markdown",
   "id": "d477e52f",
   "metadata": {},
   "source": [
    "lms에 있는 그대로 모델을 빌드하여 진행 했을 때, Word2Vec임베딩을 활용했음에도 불구하고 성능이 좋지 않았다. 이는 하이퍼파라미터를 조정해도 마찬가지였다.<br/>\n",
    "\n",
    "때문에 CNN 모델에서는 VGG16을 모방하여 진행하였고, 성능이 조금 좋아진 것을 확인할 수 있었으나, 자연어 처리에는 LSTM이 더 좋은 성능을 내기 때문에, 노드에서 진행한 것보다는 층을 더 쌓아보니 확실히 성능이 좋아진 것을 확인할 수 있었다.\n",
    "\n",
    "꼭 RNN과 CNN을 지정하여 사용하라는 법은 없지만, 사람들이 자연어 처리에 LSTM을 대체로 사용하는데에는 다 이유가 있는 것 같다."
   ]
  }
 ],
 "metadata": {
  "accelerator": "GPU",
  "colab": {
   "collapsed_sections": [],
   "machine_shape": "hm",
   "name": "test01.ipynb",
   "provenance": []
  },
  "kernelspec": {
   "display_name": "Python 3 (ipykernel)",
   "language": "python",
   "name": "python3"
  },
  "language_info": {
   "codemirror_mode": {
    "name": "ipython",
    "version": 3
   },
   "file_extension": ".py",
   "mimetype": "text/x-python",
   "name": "python",
   "nbconvert_exporter": "python",
   "pygments_lexer": "ipython3",
   "version": "3.9.7"
  },
  "toc": {
   "base_numbering": 1,
   "nav_menu": {},
   "number_sections": true,
   "sideBar": true,
   "skip_h1_title": false,
   "title_cell": "Table of Contents",
   "title_sidebar": "Contents",
   "toc_cell": false,
   "toc_position": {
    "height": "calc(100% - 180px)",
    "left": "10px",
    "top": "150px",
    "width": "170.486px"
   },
   "toc_section_display": true,
   "toc_window_display": false
  }
 },
 "nbformat": 4,
 "nbformat_minor": 5
}
